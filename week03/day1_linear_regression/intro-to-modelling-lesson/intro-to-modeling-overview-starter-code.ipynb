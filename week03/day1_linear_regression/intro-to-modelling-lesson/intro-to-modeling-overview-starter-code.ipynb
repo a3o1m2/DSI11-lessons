{
 "cells": [
  {
   "cell_type": "markdown",
   "metadata": {},
   "source": [
    "<img src=\"http://imgur.com/1ZcRyrc.png\" style=\"float: left; margin: 20px; height: 55px\">\n",
    "\n",
    "# Introduction to Modeling and Linear Regression\n",
    "\n",
    "\n",
    "---"
   ]
  },
  {
   "cell_type": "markdown",
   "metadata": {
    "slideshow": {
     "slide_type": "slide"
    }
   },
   "source": [
    "<a id=\"learning-objectives\"></a>\n",
    "### Learning Objectives\n",
    "\n",
    "### Core\n",
    "- Define the terms: modeling, prediction\n",
    "- Differentiate between different types of modeling tasks\n",
    "    - Classification\n",
    "    - Regression\n",
    "    - Unsupervised learning\n",
    "- Understand the best line of fit of a set of data\n",
    "- Find the best line of fit by hand\n",
    "- Understand modeling, inference from models and prediction\n",
    "- Understand the framework of regression modeling\n",
    "\n",
    "### Target\n",
    "- Understand simple linear regression and linear relationships between variables\n",
    "- Learn how to find the best slope and intercept for simple linear regression\n",
    "- Interpret the results of simple linear regression\n",
    "\n",
    "### Stretch\n",
    "- Understand the assumptions of simple linear regression"
   ]
  },
  {
   "cell_type": "markdown",
   "metadata": {},
   "source": [
    "### Lesson Guide\n",
    "- [What is a model?](#what-is-a-model)\n",
    "\t- [Key takeaways](#key-takeaways)\n",
    "- [Types of Models](#types-of-models)\n",
    "- [Example: Article Topics](#example-article-topics)\n",
    "\t- [Supervised Example](#supervised-example)\n",
    "\t- [Unsupervised Example](#unsupervised-example)\n",
    "- [Continuous and Categorical Values](#continuous-and-categorical-values)\n",
    "- [Determine the kind of learning problem](#determine)\n",
    "- [Cinema example](#movie-theater-example-follow-up)\n",
    "- [Linear Relationships](#intro-linear-relationships)\n",
    "\t- [Time/Direction Example](#time-direction)\n",
    "    - [Moore's law](#moore)\n",
    "\t- [Prediction](#prediction)\n",
    "- [Predictions Don't Have to Be Accurate to be Useful](#predictions-dont-have-to-be-accurate-to-be-useful)\n",
    "- [Regression modeling](#regression-modeling)\n",
    "- [Linear Regression by Eye](#linreg-by-eye)\n",
    "- [Linear Regression Exercise](#linear-regression-exercise)\n",
    "- [Simple Linear Regression and error](#slr-and-error)\n",
    "- [The error term](#error-term)\n",
    "- [Residuals](#residuals)\n",
    "- [Minimizing the MSE](#minimize-MSE)\n",
    "- [Estimating (\"learning\") model coefficients](#estimating-learning-model-coefficients)\n",
    "- [Plotting relationships](#plotting-relationships)\n",
    "- [Independent Practice](#independent-exercise)\n",
    "- [Interpretation of Simple Linear Regression](#interpretation)\n",
    "- [Assumptions of Simple Linear Regression](#assumptions)\n",
    "- [Final notes on linear regression](#final-notes)"
   ]
  },
  {
   "cell_type": "markdown",
   "metadata": {
    "slideshow": {
     "slide_type": "slide"
    }
   },
   "source": [
    "<a id=\"what-is-a-model\"></a>\n",
    "## What is a model?\n",
    "---\n",
    "\n",
    "> The generation of a physical, conceptual, or mathematical representation of a real phenomenon that is difficult to observe directly. Scientific models are used to explain and predict the behaviour of real objects or systems and are used in a variety of scientific disciplines, ranging from physics and chemistry to ecology and the Earth sciences. Although modeling is a central component of modern science, scientific models at best are approximations of the objects and systems that they represent - they are not exact replicas. -- Encyclopedia Britannica"
   ]
  },
  {
   "cell_type": "markdown",
   "metadata": {
    "slideshow": {
     "slide_type": "fragment"
    }
   },
   "source": [
    "<a id=\"key-takeaways\"></a>\n",
    "### Key takeaways\n",
    "\n",
    "- Models explain and predict (through quantifying relationships, i.e., they represent)\n",
    "- Models are approximations (i.e., they are not perfect representations)"
   ]
  },
  {
   "cell_type": "markdown",
   "metadata": {
    "slideshow": {
     "slide_type": "slide"
    }
   },
   "source": [
    "<a id=\"types-of-models\"></a>\n",
    "## Types of Models\n",
    "\n",
    "---\n",
    "\n",
    "- Supervised\n",
    "- Unsupervised\n",
    "\n",
    "| Model Type | Usage|Examples\n",
    "| :-------------: |:-------------:|:-------------:\n",
    "|Supervised Models | Making Predictions|Labeled\n",
    "|Unsupervised Models | Discovering Patterns|Have No Labels"
   ]
  },
  {
   "cell_type": "markdown",
   "metadata": {
    "slideshow": {
     "slide_type": "slide"
    }
   },
   "source": [
    "<a id=\"example-article-topics\"></a>\n",
    "## Example: Article Topics\n",
    "---\n",
    "\n",
    "\n",
    "<a id=\"supervised-example\"></a>\n",
    "### Supervised Example\n",
    "\n",
    "| Article Text | Topic|\n",
    "| :-------------: |:-------------:|\n",
    "|Building your own tiny home... |  DIY News|\n",
    "|iPhone sales have fallen... | Mobile Device News|\n",
    "|Man U has continued... | Football News|\n",
    "\n",
    "> **In this case, we have an explicit label with which we will associate the words in each article. In other words, we learn to represent certain words by a specific label. It is not required that the words in the label actually appear in the article.**"
   ]
  },
  {
   "cell_type": "markdown",
   "metadata": {
    "slideshow": {
     "slide_type": "slide"
    }
   },
   "source": [
    "<a id=\"unsupervised-example\"></a>\n",
    "### Unsupervised Example\n",
    "\n",
    "| Article Text | Topic|\n",
    "| :-------------: |:-------------: \n",
    "|Building your own tiny home... |building, home|\n",
    "|iPhone sales have fallen... |iPhone, sales|\n",
    "|The Jets have continued... |Jets, football|\n",
    "\n",
    "> **In the case of unsupervised topic learning, we have no explicit labels. Instead we look at the text of each article and form groups of similar articles. We can then find the words that are most salient for those similar articles, but the actual \"topic\" is just a list of words found in those articles $-$ there is no \"label\".**"
   ]
  },
  {
   "cell_type": "markdown",
   "metadata": {
    "slideshow": {
     "slide_type": "slide"
    }
   },
   "source": [
    "## Continuous and Categorical Values\n",
    "<a id=\"continuous-and-categorical-values\"></a>\n",
    "---\n",
    "\n",
    "\n",
    "|Type| Continuous|Categorical|\n",
    "|:-------------: |:-------------: |:-------------: |\n",
    "|Colors|wavelength in nanometers|{red, green, blue}|\n",
    "|Ratings|0-100 %|1 to 5 stars|"
   ]
  },
  {
   "cell_type": "markdown",
   "metadata": {
    "slideshow": {
     "slide_type": "fragment"
    }
   },
   "source": [
    "| Model | Continuous|Categorical|\n",
    "| :-------------: |:-------------: |:-------------: |\n",
    "|Supervised |Regression|Classification|\n",
    "|Unsupervised|Dimensionality Reduction|Clustering|"
   ]
  },
  {
   "cell_type": "markdown",
   "metadata": {},
   "source": [
    "**The term \"regression modeling\" implies that the target variable (also known as the \"dependent\" variable, response variable, the outcome variable, and under many other names) is a CONTINUOUS random variable.**"
   ]
  },
  {
   "cell_type": "markdown",
   "metadata": {},
   "source": [
    "#### What are some examples of continuous random variables?"
   ]
  },
  {
   "cell_type": "code",
   "execution_count": null,
   "metadata": {},
   "outputs": [],
   "source": []
  },
  {
   "cell_type": "markdown",
   "metadata": {},
   "source": [
    "#### What are some examples of random variables that are not continuous?"
   ]
  },
  {
   "cell_type": "code",
   "execution_count": null,
   "metadata": {},
   "outputs": [],
   "source": []
  },
  {
   "cell_type": "markdown",
   "metadata": {
    "slideshow": {
     "slide_type": "slide"
    }
   },
   "source": [
    "## Determine the kind of learning problem\n",
    "---\n",
    "<a id=\"determine\"></a>\n",
    "\n",
    "Pair up and decide what type of problem (classification, regression, clustering, or dimensionality reduction) each of these are.\n",
    "\n",
    "- Predicting the price of apartments based on their size and location from prior sales data\n",
    "- Predicting if a tumor is benign or malign based on its characteristics\n",
    "- Finding groups of similar wines based on their ratings\n",
    "- Identifying the species of a fish in an image\n",
    "- Identifying groupings of customers based on their buying behavior "
   ]
  },
  {
   "cell_type": "markdown",
   "metadata": {
    "slideshow": {
     "slide_type": "slide"
    }
   },
   "source": [
    "## Linear Relationships\n",
    "---\n",
    "<a id=\"intro-linear-relationships\"></a>"
   ]
  },
  {
   "cell_type": "markdown",
   "metadata": {
    "slideshow": {
     "slide_type": "slide"
    }
   },
   "source": [
    "Commonly we try to model natural processes by assuming relations between different observable quantities.\n",
    "We don't always know how two quantities are related. \n",
    "As a first approximation, we often assume linear relationships between various quantities. Sometimes it can help to transform variables in such a way that a more linear relationship is found. \n",
    "Linear regression is a way to determine the\n",
    "relationship from a set of data.\n",
    "\n",
    "* Models are relationships between quantities\n",
    "* Linear regression is a method to determine the coefficients of linear relationships\n",
    "\n",
    "![](http://www.comfsm.fm/~dleeling/statistics/relationships.gif)"
   ]
  },
  {
   "cell_type": "markdown",
   "metadata": {},
   "source": [
    "#### Can you think of any examples for a linear relation between two variables?"
   ]
  },
  {
   "cell_type": "markdown",
   "metadata": {
    "slideshow": {
     "slide_type": "slide"
    }
   },
   "source": [
    "<a id=\"prediction\"></a>"
   ]
  },
  {
   "cell_type": "markdown",
   "metadata": {
    "slideshow": {
     "slide_type": "slide"
    }
   },
   "source": [
    "## Predictions Don't Have to Be Accurate to be Useful\n",
    "---\n",
    "<a id=\"predictions-dont-have-to-be-accurate-to-be-useful\"></a>\n",
    "\n",
    "> **\"All models are wrong but some are useful\" - George Box**\n",
    "\n",
    "In general our models are not so precise if the relationship between our quantities is not perfect, but we can still make a reasonable guess using our models.\n",
    "\n",
    "* They have to generalize well to be useful.\n",
    "* Real life data comes installed with lots of unexpected variation.\n",
    "* Nothing in life is 100% certain, not even relationships. 🙄"
   ]
  },
  {
   "cell_type": "markdown",
   "metadata": {},
   "source": [
    "##  Regression modeling and linear relationships between variables\n",
    "---\n",
    "<a id=\"regression-modeling\"></a>\n",
    "\n",
    "In regression models, we want to predict the continuous outcome variable $Y$ from the predictor variable $X$. In linear regression, we assume that there is a linear relationship between these two variables, i.e. $Y$ is proportional to $X$,\n",
    "\n",
    "$$\n",
    "Y \\propto X\n",
    "$$\n",
    "\n",
    "Usually, apart from the proportionality we assume that there is an additional shift, so that the relation can be modeled by the shape of a straight line,\n",
    "\n",
    "$$\n",
    "Y = \\beta_0 + \\beta_1 X\n",
    "$$\n",
    "\n",
    "Here, the proportionality factor $\\beta_1$ gives the **slope** of the straight line, and the added constant $\\beta_0$ gives an additional shift referred to as the **intercept**.\n",
    "\n",
    "> **Note:** There are many alternative names for the parameters $\\beta_0$, $\\beta_1$ which are commonly used, for example $m$ and $b$, $b_0$ and $b_1$, $\\alpha$ and $\\beta$, etc."
   ]
  },
  {
   "cell_type": "markdown",
   "metadata": {
    "slideshow": {
     "slide_type": "slide"
    }
   },
   "source": [
    "## Linear Regression By Eye\n",
    "<a id=\"linreg-by-eye\"></a>\n",
    "\n",
    "---\n",
    "\n",
    "Given data points for $X$ and $Y$, we want to determine values for $\\beta_0$ and $\\beta_1$ so that the data is \"fit\" in the \"best\" way. We have to define what fit and best means in that case, but the general recipe looks like the following.\n",
    "\n",
    "#### The basic steps:\n",
    "\n",
    " - Draw a straight line that \"fits\" the data points\n",
    " - Find the intercept $\\beta_0$\n",
    " - Calculate the slope $\\beta_1$ (the increase in $Y$ / increase in $X$)\n",
    " \n",
    " \n",
    "#### The slope\n",
    "\n",
    "$\\beta_1$ is the slope. Its value indicates that, if $X$ increases by 1 unit, then $Y$ increases by exactly $\\beta_1$ times the unit of $X$.\n",
    "\n",
    "\n",
    "#### The intercept\n",
    "\n",
    "$\\beta_0$ is the Y-intercept. Its value indicates that, if $X$ equals 0, then Y is exactly equal to $\\beta_0$. \n",
    "\n",
    "> *Warning: The fit is exact only if we know that $X$ and $Y$ have a perfect linear relationship (correlation equal to one). In almost all linear regression applications, this will not be exact!*"
   ]
  },
  {
   "cell_type": "markdown",
   "metadata": {},
   "source": [
    "#### Suppose my commute time to GA includes exactly ten minutes of walking plus exactly three minutes for every Metro stop.\n",
    "\n",
    "- What is the value of the slope?\n",
    "- What is the value of the Y-intercept?\n",
    "- What is the equation of the line?\n",
    "- Give an example of using this line for prediction."
   ]
  },
  {
   "cell_type": "code",
   "execution_count": null,
   "metadata": {},
   "outputs": [],
   "source": []
  },
  {
   "cell_type": "markdown",
   "metadata": {},
   "source": [
    "This is useful, but we're relying on the idea of *exactly*. The relationship between $X$ and $Y$ must be exactly linear – a perfect correspondence or functional relationship.\n",
    "\n",
    "Put another way, *we currently believe there to be exactly zero measurement error or any other error in our line.*\n",
    "\n",
    "Furthermore, this scenario assumed that we knew the true commute times for our model. This is probably not realistic; in most cases we'll gather data and then try to build a model from the data - not the other way round."
   ]
  },
  {
   "cell_type": "markdown",
   "metadata": {},
   "source": [
    "### How to draw a straight line"
   ]
  },
  {
   "cell_type": "markdown",
   "metadata": {
    "slideshow": {
     "slide_type": "slide"
    }
   },
   "source": [
    "#### Let's consider the points (0,1) and (2,2)."
   ]
  },
  {
   "cell_type": "code",
   "execution_count": 2,
   "metadata": {
    "slideshow": {
     "slide_type": "skip"
    }
   },
   "outputs": [],
   "source": [
    "import numpy as np\n",
    "import pandas as pd\n",
    "\n",
    "import matplotlib.pyplot as plt\n",
    "import seaborn as sns\n",
    "\n",
    "sns.set(font_scale=1.5)\n",
    "%matplotlib inline\n",
    "%config InlineBackend.figure_format = 'retina'"
   ]
  },
  {
   "cell_type": "code",
   "execution_count": 3,
   "metadata": {
    "slideshow": {
     "slide_type": "-"
    }
   },
   "outputs": [
    {
     "data": {
      "image/png": "[encoded data removed]",
      "text/plain": [
       "<Figure size 432x288 with 1 Axes>"
      ]
     },
     "metadata": {
      "image/png": {
       "height": 256,
       "width": 381
      },
      "needs_background": "light"
     },
     "output_type": "display_data"
    }
   ],
   "source": [
    "# read the list of points as (x0, x1), (y0, y1)\n",
    "data = [[0, 2], [1, 2]]\n",
    "\n",
    "plt.plot(data[0], data[1], \"k-\")\n",
    "plt.plot(data[0], data[1], \"o\")\n",
    "plt.show()"
   ]
  },
  {
   "cell_type": "markdown",
   "metadata": {
    "slideshow": {
     "slide_type": "slide"
    }
   },
   "source": [
    "We can find the slope by taking the difference between the y-values divided by the difference between the x-values:\n",
    "\n",
    "$$ \\beta_1 = \\frac{y_1-y_0}{x_1-x_0} $$ \n",
    "\n",
    "With our points $(x_1,y_1)=(0,1)$ and $(x_2,y_2)=(2,2)$ this gives:\n",
    "\n",
    "$$ \\frac{2-1}{2-0} $$\n",
    "\n",
    "Our slope ends up being\n",
    "\n",
    "$$ \\beta_1 = \\frac{1}{2} $$\n",
    "\n",
    "Once having determined the slope, we can also determine the intercept inserting any point lying on the straight line into the equation\n",
    "\n",
    "$$\\beta_0 = y - \\beta_1 x$$\n",
    "\n",
    "For the point $(x_1,y_1)=(0,1)$ this would give\n",
    "\n",
    "$$\\beta_0 = 1 - \\frac{1}{2}\\cdot 0 = 1$$\n",
    "\n",
    "and the same for the point $(x_1,y_1)=(2,2)$:\n",
    "\n",
    "$$\\beta_0 = 2 - \\frac{1}{2}\\cdot 2 = 1$$\n",
    "\n",
    "As you can see, the intercept is the value of the y-coordinate where the x-coordinate is zero.\n",
    "\n",
    "Hence, the parametrization of the straight line is:\n",
    "\n",
    "$$ y = 1+\\frac{1}{2} x $$"
   ]
  },
  {
   "cell_type": "markdown",
   "metadata": {
    "slideshow": {
     "slide_type": "slide"
    }
   },
   "source": [
    "## Linear Regression Exercise\n",
    "---\n",
    "<a id=\"linear-regression-exercise\"></a>\n",
    "\n",
    "We will find the line of best fit in various steps\n",
    "using this dataset:\n",
    "\n",
    "    [1, 2.5], [1.5, 3.5], [2, 3.0], [3, 3], [4, 5.2], [5, 4.5], [6, 5.9]\n",
    "    \n",
    "First, let's plot it."
   ]
  },
  {
   "cell_type": "code",
   "execution_count": 4,
   "metadata": {
    "scrolled": true,
    "slideshow": {
     "slide_type": "slide"
    }
   },
   "outputs": [
    {
     "name": "stderr",
     "output_type": "stream",
     "text": [
      "'c' argument looks like a single numeric RGB or RGBA sequence, which should be avoided as value-mapping will have precedence in case its length matches with 'x' & 'y'.  Please use a 2-D array with a single row if you really want to specify the same RGB or RGBA value for all points.\n"
     ]
    },
    {
     "data": {
      "image/png": "[encoded data removed]",
      "text/plain": [
       "<Figure size 576x288 with 1 Axes>"
      ]
     },
     "metadata": {
      "image/png": {
       "height": 278,
       "width": 500
      },
      "needs_background": "light"
     },
     "output_type": "display_data"
    }
   ],
   "source": [
    "sample_data = [[1, 2.5], [1.5, 3.5], [2, 3.0],\n",
    "               [3, 3], [4, 5.2], [5, 4.5], [6, 5.9]]\n",
    "pd.DataFrame(sample_data, columns=['X', 'Y']).plot(\n",
    "    kind=\"scatter\", x='X', y='Y', figsize=(8, 4))\n",
    "plt.show()"
   ]
  },
  {
   "cell_type": "markdown",
   "metadata": {},
   "source": [
    "## Finding the \"best\" slope and intercept\n",
    "\n",
    "---\n",
    "\n",
    "1. Apparently, there is no straight line on which all the points lie. We will have to find a compromise, the best one possible for us.\n",
    "\n",
    "1. If we want to find the \"best\" slope and intercept, we will need a criterion that defines what it means to be the \"best\".\n",
    "\n",
    "1. We need to be able to numerically optimize (maximize or minimize) this criterion.\n",
    "\n",
    "\n",
    "<a id=\"residuals\"></a>"
   ]
  },
  {
   "cell_type": "markdown",
   "metadata": {},
   "source": [
    "## Simple linear regression and error\n",
    "\n",
    "---\n",
    "<a id=\"slr-and-error\"></a>\n",
    "\n",
    "In simple linear regression (SLR), we model the inexact linear relationship between a single $X$ and $Y$ variable.\n",
    "\n",
    "- We derive the slope and intercept from the straight line that \"best fits\" the data (more on this later).\n",
    "- We no longer require the relationship between X and Y to be exactly linear. It is assumed there will be some degree of *error* in our estimation.\n",
    "- We understand and accept that errors in our data collection process and in the data itself will exist.\n",
    "\n",
    "<a id=\"error-term\"></a>\n",
    "\n",
    "### The error term $\\epsilon$\n",
    "\n",
    "Above, we wrote for the linear relationship between $X$ and $Y$:\n",
    "\n",
    "$$ Y = \\beta_0+\\beta_1 X  $$\n",
    "\n",
    "As this relationship cannot hold exactly for our data, we \n",
    "now add a term for the *error*, denoted $\\epsilon$:\n",
    "\n",
    "$$ Y = \\beta_0+\\beta_1 X + \\epsilon $$\n",
    "\n",
    "**By adding a term for the error, we are accounting for the fact that there may not be an exact straight line dependence of $Y$ on $X$, $\\beta_0$, and $\\beta_1$.**\n",
    "\n",
    "We assume that the size of the error term is completely random for each data point. We would like to determine the **model coefficients** $\\beta_0$ and $\\beta_1$ in such a way that the error terms become as small as possible. \n",
    "\n",
    "- Determining the model coefficients from the data is referred to as *learning* them. \n",
    "- Once we have learned the model coefficients, we can make predictions for $Y$ based on any given value for $X$."
   ]
  },
  {
   "cell_type": "markdown",
   "metadata": {},
   "source": [
    "#### Model predictions\n",
    "\n",
    "\n",
    "We determine the relationship between $X$ and $Y$ based on a data sample. This allows to obtain estimates for the model parameters, distinguished by the hat on top. \n",
    "\n",
    "$$\\hat{Y} = \\hat{\\beta}_0 + \\hat{\\beta}_1 X $$\n",
    "\n",
    "> - Parameters represent the values in the true populations\n",
    "> - Statistics are estimates of the true parameters from the sample\n",
    "> - $\\hat{Y}$ is our prediction for $Y$ based on what we learned from the sample\n",
    "> - We measure the error term by comparing true and predicted value"
   ]
  },
  {
   "cell_type": "markdown",
   "metadata": {},
   "source": [
    "### Residuals\n",
    "<a id=\"residuals\"></a>\n",
    "\n",
    "The difference between the true value of $Y$ and the predicted value of $Y$ (denoted $\\hat{Y}$, read \"Y-hat\") is known as a \"residual.\" \n",
    "\n",
    "For every value of $\\hat{Y}_i$, there is an accompanying residual $\\epsilon_i$,\n",
    "\n",
    "$$\\epsilon_i = Y_i - \\hat{Y}_i$$\n",
    "\n",
    "**Note that the residual $\\epsilon_i$ is the same as the error in our modeled linear relationship!**"
   ]
  },
  {
   "cell_type": "markdown",
   "metadata": {},
   "source": [
    "<a id=\"residual-sum-of-squares-rss\"></a>\n",
    "\n",
    "### Residual sum of squares (RSS)\n",
    "\n",
    "As said above, we need a criterion to specify which straight line fits the data in the best possible way.\n",
    "\n",
    "The most common way to define the \"best fit line\" is to ensure that our residuals (a.k.a. errors) are as close to zero as possible.\n",
    "\n",
    "- We want to control the total amount of errors made.\n",
    "- We want to give equal weight to errors of the same size which either overestimate or underestimate the true values.\n",
    "- We consider single errors with larger magnitude as more important.\n",
    "\n",
    "\n",
    "To take these points into account, we try to make the [residual sum of squares (RSS)](https://en.wikipedia.org/wiki/Residual_sum_of_squares), (or equivalently the [mean squared error (MSE)](https://en.wikipedia.org/wiki/Mean_squared_error)) \n",
    "\n",
    "\n",
    "$${\\rm RSS} = \\sum_{i=1}^n \\epsilon_i^2 =\\sum_{i=1}^n (Y_i - \\hat{Y}_i)^2 $$\n",
    "\n",
    "as small as possible.\n",
    "\n",
    "Following the terminology of optimization, the residual sum of squares is a particular type of **loss function** which we would like to minimize.\n",
    "\n",
    "Note that there are alternative loss functions which one would seek to optimize. Using the residual sum of squares is also referred to as using the **ordinary least squares** method."
   ]
  },
  {
   "cell_type": "markdown",
   "metadata": {},
   "source": [
    "### Minimizing the MSE\n",
    "<a id=\"minimize-MSE\"></a>\n",
    "\n",
    "For simple linear regression based on the ordinary least squares method we can derive the intercept and slope that minimize the RSS algebraically (see either [here](OLS_derivation.ipynb) or [wikipedia](https://en.wikipedia.org/wiki/Simple_linear_regression#Fitting_the_regression_line)). \n",
    "\n",
    "Given variables:\n",
    "- $\\bar{y}$ : the sample mean of observed values $Y$\n",
    "- $\\bar{x}$ : the sample mean of observed values $X$\n",
    "- $s_Y$ : the sample standard deviation of observed values $Y$\n",
    "- $s_X$ : the sample standard deviation of observed values $X$\n",
    "- $r_{XY}$ : the sample Pearson correlation coefficient between observed $X$ and $Y$\n",
    "\n",
    "The equations for the intercept and slope that minimize the RSS are:\n",
    "\n",
    "$$ \\hat{\\beta}_0 = \\bar{y} - \\hat{\\beta}_1 \\bar{x} \\\\\n",
    "\\hat{\\beta}_1 = r_{XY} \\frac{s_Y}{s_X}$$\n",
    "\n",
    "Our simple linear regression is an **estimator of the expected value (mean) of $Y$** given $X$.\n",
    "\n",
    "> **Note:** Estimators are mathematical functions or formulas that yield an *estimate*. For example, an estimator might be the sample mean whereas the estimate is the value of the sample mean from our data set."
   ]
  },
  {
   "cell_type": "markdown",
   "metadata": {},
   "source": [
    "#### Alternative forms for denoting the coefficients"
   ]
  },
  {
   "cell_type": "markdown",
   "metadata": {},
   "source": [
    "Note that the formula for $\\beta_1$ (the slope) might be displayed in different forms which are all equivalent to each other, for example\n",
    "\n",
    "$$\n",
    "\\begin{eqnarray*}\n",
    "\\hat{\\beta_1} &=& \\frac{\\sum_{i=1}^{n}(x_i-\\bar{x})(y_i-\\bar{y})}{\\sum_{i=1}^n(x_i-\\bar{x})^2}\\\\\n",
    "&=& \n",
    "\\frac{\\sum_{i=1}^n x_i y_i-\\frac{1}{n}\\sum_{i=1}^n x_i\\sum_{j=1}^n y_j}\n",
    "{\\sum_{i=1}^n x_i^2-\\frac{1}{n}(\\sum_{i=1}^n x_i)^2}\\\\\n",
    "&=& \n",
    "\\frac{\\frac{1}{n}\\sum_{i=1}^n x_i y_i-\\frac{1}{n}(\\sum_{i=1}^n x_i)\n",
    "\\frac{1}{n}(\\sum_{j=1}^n y_j)}\n",
    "{\\frac{1}{n}\\sum_{i=1}^n x_i^2-(\\frac{1}{n}\\sum_{i=1}^n x_i)^2}\\\\\n",
    "&=&\n",
    "\\frac{\\overline{xy}-\\bar{x}\\bar{y}}{\\bar{x^2}-\\bar{x}^2}\\\\\n",
    "&=&\n",
    "\\frac{{\\rm Cov}\\left[x,y\\right]}{{\\rm Var}\\left[x\\right]}\\\\\n",
    "&=&\n",
    "r_{xy}\\frac{s_y}{s_x}\n",
    "\\end{eqnarray*}\n",
    "$$\n",
    "\n",
    "\n",
    "This is the fun part of statistics. Inserting the values of your observations and calculating all those sums is the not-so-fun part. Generally, you don't want to calculate these by hand.  Fortunately, you likely never will - your computer is happy to add up huge arrays of numbers."
   ]
  },
  {
   "cell_type": "markdown",
   "metadata": {
    "slideshow": {
     "slide_type": "slide"
    }
   },
   "source": [
    "<a id=\"estimating-learning-model-coefficients\"></a>\n",
    "## Estimating (\"learning\") model coefficients\n",
    "---\n",
    "\n",
    "- Coefficients are estimated during the model fitting process using the least squares criterion.\n",
    "- We find the line (mathematically) which minimizes the sum of squared residuals (or \"sum of squared errors\").\n",
    "\n",
    "![](https://snag.gy/9R57Or.jpg)\n",
    "\n",
    "_Residuals: The difference between the observed value of the dependent variable (y) and the predicted value (ŷ) is called the residual $\\epsilon$. Each data point has one residual. We square each of these residuals and add them up to obtain the residual sum of squares (RSS). Our model is good if the residual sum of squares is smaller than the total sum of squares, resulting from predicting the mean of the response variable for each data point._\n",
    "\n",
    "- Residual: \n",
    "$$\\epsilon_i=y_i-\\hat{y}_i$$\n",
    "\n",
    "\n",
    "- Residual sum of squares: \n",
    "$${\\rm RSS} = \\sum_{i=1}^n\\epsilon_i^2$$\n",
    "- Mean squared error: \n",
    "$${\\rm MSE} = \\frac{1}{n}{\\rm RSS}$$\n",
    "- Total sum of squares: \n",
    "$${\\rm TSS} = \\sum_{i=1}^n(y_i-\\bar{y})^2$$"
   ]
  },
  {
   "cell_type": "markdown",
   "metadata": {},
   "source": [
    "## Naive/Baseline Prediction\n",
    "\n",
    "Imagine we did not have any predictor variable $X$ on which to model $Y$, but still we wanted to predict values for $Y$. \n",
    "\n",
    "- Which is the best prediction we could make?\n",
    "\n",
    "- How can we measure the success of our prediction?\n",
    "\n",
    "Without any predictors the best prediction we could make is $\\bar{Y}$, the mean of $Y$. We can measure the success of doing so with the total sum of squares (TSS)."
   ]
  },
  {
   "cell_type": "markdown",
   "metadata": {
    "slideshow": {
     "slide_type": "slide"
    }
   },
   "source": [
    "<a id=\"plotting-relationships\"></a>\n",
    "## Plotting relationships\n",
    "---\n",
    "\n",
    "The easiest way to make use of the above formulas is to plot the relationship with seaborn. It plots the straight line determining internally the required model coefficients and even depicts confidence intervals for the estimates of the model coefficients."
   ]
  },
  {
   "cell_type": "code",
   "execution_count": 5,
   "metadata": {
    "slideshow": {
     "slide_type": "-"
    }
   },
   "outputs": [
    {
     "data": {
      "image/png": "[encoded data removed]",
      "text/plain": [
       "<Figure size 720x360 with 1 Axes>"
      ]
     },
     "metadata": {
      "image/png": {
       "height": 350,
       "width": 636
      },
      "needs_background": "light"
     },
     "output_type": "display_data"
    }
   ],
   "source": [
    "df = pd.DataFrame(sample_data, columns=[\"x\", \"y\"])\n",
    "\n",
    "fig,ax = plt.subplots(figsize=(10,5))\n",
    "# Add value markers because it's nice to have a visual reference to data points\n",
    "for point in sample_data:\n",
    "    ax.text(point[0] + .2, point[1] - .02, str(point))\n",
    "\n",
    "sns.regplot(x=\"x\", y=\"y\", data=df, ax=ax) \n",
    "ax.set_title('Sample data')\n",
    "plt.show()"
   ]
  },
  {
   "cell_type": "markdown",
   "metadata": {
    "slideshow": {
     "slide_type": "slide"
    }
   },
   "source": [
    "## Independent Practice\n",
    "---\n",
    "<a id=\"independent-exercise\"></a>\n",
    "\n",
    "Create a Python function from scratch that minimizes the sum of squared errors using the formula above. The function should accept a list of points and return the best slope and intercept.\n",
    "\n",
    "Use the sample data from above:<br>\n",
    "[1, 2.5], [1.5, 3.5], [2, 3.0], [3, 3], [4, 5.2], [5, 4.5], [6, 5.9]\n",
    "\n",
    "- Check your results by doing the calculations by hand.\n",
    "- Plot your regression line together with the one from seaborn. Compare!\n",
    "\n",
    "\n",
    "This is an excellent video on the calculation if you need help:<br>\n",
    "[Calculation By Hand](https://youtu.be/Qa2APhWjQPc)<br>\n",
    "The derivation of the calculation begins at around the 17:35 mark."
   ]
  },
  {
   "cell_type": "code",
   "execution_count": 27,
   "metadata": {},
   "outputs": [
    {
     "name": "stdout",
     "output_type": "stream",
     "text": [
      "b0:  1.9868600682593858\n",
      "b1:  0.6085324232081911\n"
     ]
    }
   ],
   "source": [
    "def best_fit(points_list):\n",
    "    mean_x = 0     # mean = average of x-values in points_list\n",
    "    mean_y = 0     # mean = average of y-values in points_list\n",
    "    for i in points_list:\n",
    "        mean_x += i[0]\n",
    "        mean_y += i[1]\n",
    "    mean_x = mean_x / len(points_list)\n",
    "    mean_y = mean_y / len(points_list)\n",
    "    \n",
    "    b1 = 0\n",
    "    b1_denom = 0\n",
    "    for i in points_list:\n",
    "        b1 += (i[0]-mean_x)*(i[1]-mean_y)\n",
    "        b1_denom += (i[0]-mean_x)**2\n",
    "    b1 = b1 / b1_denom\n",
    "\n",
    "    b0 = mean_y - (b1*mean_x)\n",
    "    \n",
    "    print('b0: ',b0)\n",
    "    print('b1: ',b1)\n",
    "\n",
    "best_fit([[1, 2.5], [1.5, 3.5], [2, 3.0], [3, 3], [4, 5.2], [5, 4.5], [6, 5.9]])"
   ]
  },
  {
   "cell_type": "markdown",
   "metadata": {},
   "source": [
    "### Calculate beta coefficients by hand\n",
    "\n",
    "Remember the equations for the intercept and slope that minimize the RSS are:\n",
    "\n",
    "$$ \\hat{\\beta}_0 = \\bar{y} - \\hat{\\beta}_1 \\bar{x} \\\\\n",
    "\\hat{\\beta}_1 = r_{XY} \\frac{s_Y}{s_X}$$\n",
    "\n",
    "*Hint: Remember you can use .corr() and .std() from pandas*"
   ]
  },
  {
   "cell_type": "code",
   "execution_count": 8,
   "metadata": {},
   "outputs": [],
   "source": [
    "points_list = [[1, 2.5], [1.5, 3.5], [2, 3.0], [3, 3], [4, 5.2], [5, 4.5], [6, 5.9]]"
   ]
  },
  {
   "cell_type": "code",
   "execution_count": 12,
   "metadata": {},
   "outputs": [
    {
     "data": {
      "text/html": [
       "<div>\n",
       "<style scoped>\n",
       "    .dataframe tbody tr th:only-of-type {\n",
       "        vertical-align: middle;\n",
       "    }\n",
       "\n",
       "    .dataframe tbody tr th {\n",
       "        vertical-align: top;\n",
       "    }\n",
       "\n",
       "    .dataframe thead th {\n",
       "        text-align: right;\n",
       "    }\n",
       "</style>\n",
       "<table border=\"1\" class=\"dataframe\">\n",
       "  <thead>\n",
       "    <tr style=\"text-align: right;\">\n",
       "      <th></th>\n",
       "      <th>x</th>\n",
       "      <th>y</th>\n",
       "    </tr>\n",
       "  </thead>\n",
       "  <tbody>\n",
       "    <tr>\n",
       "      <th>0</th>\n",
       "      <td>1.0</td>\n",
       "      <td>2.5</td>\n",
       "    </tr>\n",
       "    <tr>\n",
       "      <th>1</th>\n",
       "      <td>1.5</td>\n",
       "      <td>3.5</td>\n",
       "    </tr>\n",
       "    <tr>\n",
       "      <th>2</th>\n",
       "      <td>2.0</td>\n",
       "      <td>3.0</td>\n",
       "    </tr>\n",
       "    <tr>\n",
       "      <th>3</th>\n",
       "      <td>3.0</td>\n",
       "      <td>3.0</td>\n",
       "    </tr>\n",
       "    <tr>\n",
       "      <th>4</th>\n",
       "      <td>4.0</td>\n",
       "      <td>5.2</td>\n",
       "    </tr>\n",
       "    <tr>\n",
       "      <th>5</th>\n",
       "      <td>5.0</td>\n",
       "      <td>4.5</td>\n",
       "    </tr>\n",
       "    <tr>\n",
       "      <th>6</th>\n",
       "      <td>6.0</td>\n",
       "      <td>5.9</td>\n",
       "    </tr>\n",
       "  </tbody>\n",
       "</table>\n",
       "</div>"
      ],
      "text/plain": [
       "     x    y\n",
       "0  1.0  2.5\n",
       "1  1.5  3.5\n",
       "2  2.0  3.0\n",
       "3  3.0  3.0\n",
       "4  4.0  5.2\n",
       "5  5.0  4.5\n",
       "6  6.0  5.9"
      ]
     },
     "execution_count": 12,
     "metadata": {},
     "output_type": "execute_result"
    }
   ],
   "source": [
    "points = pd.DataFrame(points_list,columns=['x','y'])\n",
    "points"
   ]
  },
  {
   "cell_type": "code",
   "execution_count": 33,
   "metadata": {},
   "outputs": [
    {
     "name": "stdout",
     "output_type": "stream",
     "text": [
      "b0:  1.9868600682593858\n",
      "b1:  0.6085324232081911\n"
     ]
    }
   ],
   "source": [
    "b1 = points.corr().iloc[0,1] * points['y'].std() / points['x'].std()\n",
    "b0 = np.mean(points['y']) - (b1*np.mean(points['x']))\n",
    "\n",
    "print('b0: ',b0)\n",
    "print('b1: ',b1)"
   ]
  },
  {
   "cell_type": "markdown",
   "metadata": {},
   "source": [
    "#### Compare to seaborn's regression plot\n",
    "\n",
    "- Create a plot using sns.regplot()\n",
    "- Create another plot in the same figure with your own predictions \n",
    "- Do they match?"
   ]
  },
  {
   "cell_type": "code",
   "execution_count": 29,
   "metadata": {
    "scrolled": true
   },
   "outputs": [
    {
     "data": {
      "image/png": "[encoded data removed]",
      "text/plain": [
       "<Figure size 432x288 with 1 Axes>"
      ]
     },
     "metadata": {
      "image/png": {
       "height": 278,
       "width": 388
      },
      "needs_background": "light"
     },
     "output_type": "display_data"
    }
   ],
   "source": [
    "sns.regplot(x=points.x,y=points.y);"
   ]
  },
  {
   "cell_type": "code",
   "execution_count": null,
   "metadata": {},
   "outputs": [],
   "source": [
    "fig, ax = plt.subplots(ncols=2, figsize=(20, 6))\n",
    "sns.regplot(x=points.x,y=points.y, ax=ax[0])\n",
    "\n",
    "# add the predictions to the points df, and then plot those values:...\n",
    "plt.plot(points.x,[y])\n"
   ]
  },
  {
   "cell_type": "markdown",
   "metadata": {},
   "source": [
    "### Let's generate some data\n",
    "\n",
    "We now create a linear regression model. We set up some pairs of x and y-values. The relationship is given by\n",
    "\n",
    "$$y=50+2 x + \\epsilon$$\n",
    "\n",
    "We create the $\\epsilon$-values by sampling from a normal distribution with mean 0 and standard deviation 20. The command `np.random.seed(1)` serves to always produce exactly the same numbers."
   ]
  },
  {
   "cell_type": "code",
   "execution_count": 55,
   "metadata": {},
   "outputs": [],
   "source": [
    "# create an x and a y that is\n",
    "# 50 plus 2 times x with some random noise around that\n",
    "# we set a random seed to always create the same random noise\n",
    "np.random.seed(1)\n",
    "x = np.linspace(-5, 50, 100)\n",
    "y = 50 + 2 * x + np.random.normal(0, 20, size=len(x))"
   ]
  },
  {
   "cell_type": "markdown",
   "metadata": {},
   "source": [
    "#### Put the data for x and y into a dataframe"
   ]
  },
  {
   "cell_type": "code",
   "execution_count": 56,
   "metadata": {},
   "outputs": [
    {
     "data": {
      "text/html": [
       "<div>\n",
       "<style scoped>\n",
       "    .dataframe tbody tr th:only-of-type {\n",
       "        vertical-align: middle;\n",
       "    }\n",
       "\n",
       "    .dataframe tbody tr th {\n",
       "        vertical-align: top;\n",
       "    }\n",
       "\n",
       "    .dataframe thead th {\n",
       "        text-align: right;\n",
       "    }\n",
       "</style>\n",
       "<table border=\"1\" class=\"dataframe\">\n",
       "  <thead>\n",
       "    <tr style=\"text-align: right;\">\n",
       "      <th></th>\n",
       "      <th>x</th>\n",
       "      <th>y</th>\n",
       "    </tr>\n",
       "  </thead>\n",
       "  <tbody>\n",
       "    <tr>\n",
       "      <th>0</th>\n",
       "      <td>-5.000000</td>\n",
       "      <td>72.486907</td>\n",
       "    </tr>\n",
       "    <tr>\n",
       "      <th>1</th>\n",
       "      <td>-4.444444</td>\n",
       "      <td>28.875983</td>\n",
       "    </tr>\n",
       "    <tr>\n",
       "      <th>2</th>\n",
       "      <td>-3.888889</td>\n",
       "      <td>31.658787</td>\n",
       "    </tr>\n",
       "    <tr>\n",
       "      <th>3</th>\n",
       "      <td>-3.333333</td>\n",
       "      <td>21.873961</td>\n",
       "    </tr>\n",
       "    <tr>\n",
       "      <th>4</th>\n",
       "      <td>-2.777778</td>\n",
       "      <td>61.752597</td>\n",
       "    </tr>\n",
       "  </tbody>\n",
       "</table>\n",
       "</div>"
      ],
      "text/plain": [
       "          x          y\n",
       "0 -5.000000  72.486907\n",
       "1 -4.444444  28.875983\n",
       "2 -3.888889  31.658787\n",
       "3 -3.333333  21.873961\n",
       "4 -2.777778  61.752597"
      ]
     },
     "execution_count": 56,
     "metadata": {},
     "output_type": "execute_result"
    }
   ],
   "source": [
    "df = pd.DataFrame(zip(x,y),columns=['x','y'])\n",
    "df.head()"
   ]
  },
  {
   "cell_type": "markdown",
   "metadata": {},
   "source": [
    "#### What is the baseline prediction for y?"
   ]
  },
  {
   "cell_type": "code",
   "execution_count": 57,
   "metadata": {},
   "outputs": [
    {
     "data": {
      "text/plain": [
       "96.21165704151396"
      ]
     },
     "execution_count": 57,
     "metadata": {},
     "output_type": "execute_result"
    }
   ],
   "source": [
    "base_y = np.mean(df.y)\n",
    "base_y"
   ]
  },
  {
   "cell_type": "markdown",
   "metadata": {},
   "source": [
    "#### Plot the line for the baseline prediction together with a scatter plot of the data."
   ]
  },
  {
   "cell_type": "code",
   "execution_count": 58,
   "metadata": {},
   "outputs": [
    {
     "data": {
      "image/png": "[encoded data removed]",
      "text/plain": [
       "<Figure size 432x288 with 1 Axes>"
      ]
     },
     "metadata": {
      "image/png": {
       "height": 256,
       "width": 386
      },
      "needs_background": "light"
     },
     "output_type": "display_data"
    }
   ],
   "source": [
    "# add mean line just to have a look, this is the starting point:\n",
    "\n",
    "plt.scatter(x=df.x,y=df.y);\n",
    "plt.axhline(y=base_y, color='r', linestyle='-');"
   ]
  },
  {
   "cell_type": "markdown",
   "metadata": {},
   "source": [
    "#### Calculate the MSE for the baseline prediction."
   ]
  },
  {
   "cell_type": "code",
   "execution_count": 60,
   "metadata": {},
   "outputs": [
    {
     "data": {
      "text/html": [
       "<div>\n",
       "<style scoped>\n",
       "    .dataframe tbody tr th:only-of-type {\n",
       "        vertical-align: middle;\n",
       "    }\n",
       "\n",
       "    .dataframe tbody tr th {\n",
       "        vertical-align: top;\n",
       "    }\n",
       "\n",
       "    .dataframe thead th {\n",
       "        text-align: right;\n",
       "    }\n",
       "</style>\n",
       "<table border=\"1\" class=\"dataframe\">\n",
       "  <thead>\n",
       "    <tr style=\"text-align: right;\">\n",
       "      <th></th>\n",
       "      <th>x</th>\n",
       "      <th>y</th>\n",
       "      <th>residual</th>\n",
       "    </tr>\n",
       "  </thead>\n",
       "  <tbody>\n",
       "    <tr>\n",
       "      <th>0</th>\n",
       "      <td>-5.000000</td>\n",
       "      <td>72.486907</td>\n",
       "      <td>562.863752</td>\n",
       "    </tr>\n",
       "    <tr>\n",
       "      <th>1</th>\n",
       "      <td>-4.444444</td>\n",
       "      <td>28.875983</td>\n",
       "      <td>4534.093020</td>\n",
       "    </tr>\n",
       "    <tr>\n",
       "      <th>2</th>\n",
       "      <td>-3.888889</td>\n",
       "      <td>31.658787</td>\n",
       "      <td>4167.073008</td>\n",
       "    </tr>\n",
       "    <tr>\n",
       "      <th>3</th>\n",
       "      <td>-3.333333</td>\n",
       "      <td>21.873961</td>\n",
       "      <td>5526.093069</td>\n",
       "    </tr>\n",
       "    <tr>\n",
       "      <th>4</th>\n",
       "      <td>-2.777778</td>\n",
       "      <td>61.752597</td>\n",
       "      <td>1187.426817</td>\n",
       "    </tr>\n",
       "  </tbody>\n",
       "</table>\n",
       "</div>"
      ],
      "text/plain": [
       "          x          y     residual\n",
       "0 -5.000000  72.486907   562.863752\n",
       "1 -4.444444  28.875983  4534.093020\n",
       "2 -3.888889  31.658787  4167.073008\n",
       "3 -3.333333  21.873961  5526.093069\n",
       "4 -2.777778  61.752597  1187.426817"
      ]
     },
     "execution_count": 60,
     "metadata": {},
     "output_type": "execute_result"
    }
   ],
   "source": [
    "df['residual'] = df.y.apply(lambda x: (x-base_y)**2)\n",
    "df.head()"
   ]
  },
  {
   "cell_type": "code",
   "execution_count": 75,
   "metadata": {},
   "outputs": [
    {
     "data": {
      "text/plain": [
       "1465.8647237633775"
      ]
     },
     "execution_count": 75,
     "metadata": {},
     "output_type": "execute_result"
    }
   ],
   "source": [
    "mse = df.residual.sum() / len(df.residual)\n",
    "mse\n",
    "\n",
    "# so far you don't know anything about x"
   ]
  },
  {
   "cell_type": "markdown",
   "metadata": {},
   "source": [
    "#### Calculate the model coefficients."
   ]
  },
  {
   "cell_type": "code",
   "execution_count": 66,
   "metadata": {},
   "outputs": [
    {
     "name": "stdout",
     "output_type": "stream",
     "text": [
      "b0:  48.504746163916224\n",
      "b1:  2.120307150115455\n"
     ]
    }
   ],
   "source": [
    "b1 = df.corr().iloc[0,1] * df['y'].std() / df['x'].std()\n",
    "b0 = np.mean(df['y']) - (b1*np.mean(df['x']))\n",
    "\n",
    "print('b0: ',b0)\n",
    "print('b1: ',b1)"
   ]
  },
  {
   "cell_type": "markdown",
   "metadata": {},
   "source": [
    "#### Calculate the predictions obtained from each X-value"
   ]
  },
  {
   "cell_type": "code",
   "execution_count": 76,
   "metadata": {},
   "outputs": [
    {
     "data": {
      "text/html": [
       "<div>\n",
       "<style scoped>\n",
       "    .dataframe tbody tr th:only-of-type {\n",
       "        vertical-align: middle;\n",
       "    }\n",
       "\n",
       "    .dataframe tbody tr th {\n",
       "        vertical-align: top;\n",
       "    }\n",
       "\n",
       "    .dataframe thead th {\n",
       "        text-align: right;\n",
       "    }\n",
       "</style>\n",
       "<table border=\"1\" class=\"dataframe\">\n",
       "  <thead>\n",
       "    <tr style=\"text-align: right;\">\n",
       "      <th></th>\n",
       "      <th>x</th>\n",
       "      <th>y</th>\n",
       "      <th>residual</th>\n",
       "      <th>predict</th>\n",
       "      <th>predict_residual</th>\n",
       "    </tr>\n",
       "  </thead>\n",
       "  <tbody>\n",
       "    <tr>\n",
       "      <th>0</th>\n",
       "      <td>-5.000000</td>\n",
       "      <td>72.486907</td>\n",
       "      <td>562.863752</td>\n",
       "      <td>37.903210</td>\n",
       "      <td>3399.874948</td>\n",
       "    </tr>\n",
       "    <tr>\n",
       "      <th>1</th>\n",
       "      <td>-4.444444</td>\n",
       "      <td>28.875983</td>\n",
       "      <td>4534.093020</td>\n",
       "      <td>39.081159</td>\n",
       "      <td>3263.893826</td>\n",
       "    </tr>\n",
       "    <tr>\n",
       "      <th>2</th>\n",
       "      <td>-3.888889</td>\n",
       "      <td>31.658787</td>\n",
       "      <td>4167.073008</td>\n",
       "      <td>40.259107</td>\n",
       "      <td>3130.687829</td>\n",
       "    </tr>\n",
       "    <tr>\n",
       "      <th>3</th>\n",
       "      <td>-3.333333</td>\n",
       "      <td>21.873961</td>\n",
       "      <td>5526.093069</td>\n",
       "      <td>41.437056</td>\n",
       "      <td>3000.256956</td>\n",
       "    </tr>\n",
       "    <tr>\n",
       "      <th>4</th>\n",
       "      <td>-2.777778</td>\n",
       "      <td>61.752597</td>\n",
       "      <td>1187.426817</td>\n",
       "      <td>42.615004</td>\n",
       "      <td>2872.601209</td>\n",
       "    </tr>\n",
       "  </tbody>\n",
       "</table>\n",
       "</div>"
      ],
      "text/plain": [
       "          x          y     residual    predict  predict_residual\n",
       "0 -5.000000  72.486907   562.863752  37.903210       3399.874948\n",
       "1 -4.444444  28.875983  4534.093020  39.081159       3263.893826\n",
       "2 -3.888889  31.658787  4167.073008  40.259107       3130.687829\n",
       "3 -3.333333  21.873961  5526.093069  41.437056       3000.256956\n",
       "4 -2.777778  61.752597  1187.426817  42.615004       2872.601209"
      ]
     },
     "execution_count": 76,
     "metadata": {},
     "output_type": "execute_result"
    }
   ],
   "source": [
    "# now you know betas, you can calc the predictions\n",
    "\n",
    "df['predict'] = df.x.apply(lambda x: b0+(b1*x))\n",
    "df.head()"
   ]
  },
  {
   "cell_type": "markdown",
   "metadata": {},
   "source": [
    "#### Calculate the MSE based on those predictions"
   ]
  },
  {
   "cell_type": "code",
   "execution_count": 68,
   "metadata": {},
   "outputs": [
    {
     "data": {
      "text/html": [
       "<div>\n",
       "<style scoped>\n",
       "    .dataframe tbody tr th:only-of-type {\n",
       "        vertical-align: middle;\n",
       "    }\n",
       "\n",
       "    .dataframe tbody tr th {\n",
       "        vertical-align: top;\n",
       "    }\n",
       "\n",
       "    .dataframe thead th {\n",
       "        text-align: right;\n",
       "    }\n",
       "</style>\n",
       "<table border=\"1\" class=\"dataframe\">\n",
       "  <thead>\n",
       "    <tr style=\"text-align: right;\">\n",
       "      <th></th>\n",
       "      <th>x</th>\n",
       "      <th>y</th>\n",
       "      <th>residual</th>\n",
       "      <th>predict</th>\n",
       "      <th>predict_residual</th>\n",
       "    </tr>\n",
       "  </thead>\n",
       "  <tbody>\n",
       "    <tr>\n",
       "      <th>0</th>\n",
       "      <td>-5.000000</td>\n",
       "      <td>72.486907</td>\n",
       "      <td>562.863752</td>\n",
       "      <td>37.903210</td>\n",
       "      <td>3399.874948</td>\n",
       "    </tr>\n",
       "    <tr>\n",
       "      <th>1</th>\n",
       "      <td>-4.444444</td>\n",
       "      <td>28.875983</td>\n",
       "      <td>4534.093020</td>\n",
       "      <td>39.081159</td>\n",
       "      <td>3263.893826</td>\n",
       "    </tr>\n",
       "    <tr>\n",
       "      <th>2</th>\n",
       "      <td>-3.888889</td>\n",
       "      <td>31.658787</td>\n",
       "      <td>4167.073008</td>\n",
       "      <td>40.259107</td>\n",
       "      <td>3130.687829</td>\n",
       "    </tr>\n",
       "    <tr>\n",
       "      <th>3</th>\n",
       "      <td>-3.333333</td>\n",
       "      <td>21.873961</td>\n",
       "      <td>5526.093069</td>\n",
       "      <td>41.437056</td>\n",
       "      <td>3000.256956</td>\n",
       "    </tr>\n",
       "    <tr>\n",
       "      <th>4</th>\n",
       "      <td>-2.777778</td>\n",
       "      <td>61.752597</td>\n",
       "      <td>1187.426817</td>\n",
       "      <td>42.615004</td>\n",
       "      <td>2872.601209</td>\n",
       "    </tr>\n",
       "  </tbody>\n",
       "</table>\n",
       "</div>"
      ],
      "text/plain": [
       "          x          y     residual    predict  predict_residual\n",
       "0 -5.000000  72.486907   562.863752  37.903210       3399.874948\n",
       "1 -4.444444  28.875983  4534.093020  39.081159       3263.893826\n",
       "2 -3.888889  31.658787  4167.073008  40.259107       3130.687829\n",
       "3 -3.333333  21.873961  5526.093069  41.437056       3000.256956\n",
       "4 -2.777778  61.752597  1187.426817  42.615004       2872.601209"
      ]
     },
     "execution_count": 68,
     "metadata": {},
     "output_type": "execute_result"
    }
   ],
   "source": [
    "df['predict_residual'] = df.predict.apply(lambda x: (x-base_y)**2)\n",
    "df.head()"
   ]
  },
  {
   "cell_type": "code",
   "execution_count": 69,
   "metadata": {},
   "outputs": [
    {
     "data": {
      "text/plain": [
       "1156.1864301928088"
      ]
     },
     "execution_count": 69,
     "metadata": {},
     "output_type": "execute_result"
    }
   ],
   "source": [
    "mse = df.predict_residual.sum() / len(df.predict_residual)\n",
    "mse"
   ]
  },
  {
   "cell_type": "markdown",
   "metadata": {},
   "source": [
    "#### How does our new MSE compare to our old MSE?"
   ]
  },
  {
   "cell_type": "code",
   "execution_count": null,
   "metadata": {},
   "outputs": [],
   "source": []
  },
  {
   "cell_type": "markdown",
   "metadata": {},
   "source": [
    "#### Plot the data together with the regression line"
   ]
  },
  {
   "cell_type": "code",
   "execution_count": 73,
   "metadata": {},
   "outputs": [
    {
     "data": {
      "image/png": "[encoded data removed]",
      "text/plain": [
       "<Figure size 432x288 with 1 Axes>"
      ]
     },
     "metadata": {
      "image/png": {
       "height": 256,
       "width": 387
      },
      "needs_background": "light"
     },
     "output_type": "display_data"
    }
   ],
   "source": [
    "plt.scatter(x=df.x,y=df.y);\n",
    "plt.axhline(y=base_y, color='r', linestyle='-');\n",
    "plt.plot(df.predict);"
   ]
  },
  {
   "cell_type": "markdown",
   "metadata": {},
   "source": [
    "#### Plot the residuals \n",
    "\n",
    "- In the previous plot, plot vertical lines from the regression line to the data points.\n",
    "\n",
    "    Hint: To obtain vertical lines, use something like\n",
    "\n",
    "        plt.plot([x,x],[y,y_hat],'-')\n",
    "\n",
    "\n",
    "- As a second plot, obtain a histogram of the residuals."
   ]
  },
  {
   "cell_type": "code",
   "execution_count": 81,
   "metadata": {},
   "outputs": [
    {
     "data": {
      "image/png": "[encoded data removed]",
      "text/plain": [
       "<Figure size 432x288 with 1 Axes>"
      ]
     },
     "metadata": {
      "image/png": {
       "height": 256,
       "width": 386
      },
      "needs_background": "light"
     },
     "output_type": "display_data"
    }
   ],
   "source": [
    "# remember you feed in all the x-values, and all the y-values\n",
    "plt.scatter(x=df.x,y=df.y);\n",
    "plt.axhline(y=base_y, color='r', linestyle='-');\n",
    "plt.plot(df.x,df.predict);\n",
    "plt.plot([df.x,df.x],[df.y,df.predict],'-');"
   ]
  },
  {
   "cell_type": "markdown",
   "metadata": {},
   "source": [
    "#### Confirm that the sum of the residuals is zero."
   ]
  },
  {
   "cell_type": "code",
   "execution_count": null,
   "metadata": {},
   "outputs": [],
   "source": []
  },
  {
   "cell_type": "markdown",
   "metadata": {},
   "source": [
    "#### Confirm that the scalar product between the vector of residuals and the vector of X-values is zero."
   ]
  },
  {
   "cell_type": "code",
   "execution_count": 84,
   "metadata": {},
   "outputs": [],
   "source": [
    "# they should be zero, as they're perpendicular / orthogonal vectors."
   ]
  },
  {
   "cell_type": "markdown",
   "metadata": {},
   "source": [
    "## Interpretation of Simple Linear Regression\n",
    "\n",
    "---\n",
    "<a id=\"interpretation\"></a>\n",
    "\n",
    "The simple linear regression estimators described above have really nice properties:\n",
    "\n",
    "1. They are unbiased (i.e. the statistics will on average equal the true parameter value).\n",
    "2. Among all unbiased estimators, the estimators above have the smallest possible variance.\n",
    "3. They are consistent (i.e. as your sample size n goes to infinity, the statistic converges to the true parameter value).\n",
    "\n",
    "**However, these are just mathematical properties.** They do not take into account real-world situations. For example, suppose I want to use a SLR model to predict my commute time and I get the model:\n",
    "\n",
    "    [commute time] = 8 * [number of Metro stops] - 10\n",
    "\n",
    "In this case, my commute time is estimated to be negative if I go zero stops or one stop on the Metro. If I were to interpret my intercept, I might say \"If I travel zero Metro stops on my way to work, I expect to commute -10 minutes.\" Of course, this is nonsense; you can't have a negative commute time!"
   ]
  },
  {
   "cell_type": "markdown",
   "metadata": {},
   "source": [
    "#### What does this mean?"
   ]
  },
  {
   "cell_type": "markdown",
   "metadata": {},
   "source": [
    "When building a model, make sure your model makes sense! You are responsible for the interpretation of the model. All the computer will do is optimize. You may not do anything wrong when you fit a model, but make a note that there are  shortcomings to the framework."
   ]
  },
  {
   "cell_type": "markdown",
   "metadata": {},
   "source": [
    "## Assumptions of Simple Linear Regression (SLR)\n",
    "\n",
    "---\n",
    "<a id=\"assumptions\"></a>\n",
    "\n",
    "There are some critical assumptions involved in SLR that you must be aware of:\n",
    "\n",
    "1. **Linearity:** $Y$ and $X$ must have an approximately linear relationship.\n",
    "2. **Independence:** Errors (residuals) $\\epsilon_i$ and $\\epsilon_j$ must be independent of one another for any i != j.\n",
    "3. **Normality:** The errors (residuals) follow a Normal distribution.\n",
    "4. **Equality of Variances** (Homoscedasticity of errors): The errors (residuals) should have a roughly consistent pattern, regardless of the value of X. (There should be no discernable relationship between X and the residuals.)\n",
    "\n",
    "The mnemonic **LINE** is a useful way to remember these four assumptions.\n",
    "\n",
    "If all four assumptions are true, the following holds: \n",
    "\n",
    "$$ Y_i \\sim N(\\beta_0 + \\beta_1 X_i, \\sigma) $$\n",
    "\n",
    "> **Note:** $Y$ on its own is in general **not** normally distributed."
   ]
  },
  {
   "cell_type": "markdown",
   "metadata": {},
   "source": [
    "#### Plot a histogram of the response variable and of the prediction variable.\n",
    "\n",
    "Are they normally distributed?"
   ]
  },
  {
   "cell_type": "code",
   "execution_count": null,
   "metadata": {},
   "outputs": [],
   "source": []
  },
  {
   "cell_type": "markdown",
   "metadata": {},
   "source": [
    "## Final notes on linear regression\n",
    "\n",
    "---\n",
    "<a id=\"final-notes\"></a>\n",
    "\n",
    "- The term \"linear\" here means linear in the coefficient. \n",
    "- That means that we expect $Y$ to change by a constant amount for a constant change in $X$. \n",
    "- A linear regression model could include $X^2$, $X^3$, $\\log(X)$, etc. as long as the coefficient is linear! \n",
    "- You can imagine taking such terms into account e.g. as creating a new column called $Z$ that is equal to $X^2$."
   ]
  }
 ],
 "metadata": {
  "anaconda-cloud": {},
  "kernelspec": {
   "display_name": "Python 3",
   "language": "python",
   "name": "python3"
  },
  "language_info": {
   "codemirror_mode": {
    "name": "ipython",
    "version": 3
   },
   "file_extension": ".py",
   "mimetype": "text/x-python",
   "name": "python",
   "nbconvert_exporter": "python",
   "pygments_lexer": "ipython3",
   "version": "3.7.3"
  },
  "toc": {
   "base_numbering": 1,
   "nav_menu": {},
   "number_sections": false,
   "sideBar": true,
   "skip_h1_title": true,
   "title_cell": "Table of Contents",
   "title_sidebar": "Contents",
   "toc_cell": false,
   "toc_position": {
    "height": "397px",
    "left": "0px",
    "right": "881.8px",
    "top": "162px",
    "width": "142px"
   },
   "toc_section_display": "block",
   "toc_window_display": false
  }
 },
 "nbformat": 4,
 "nbformat_minor": 1
}
