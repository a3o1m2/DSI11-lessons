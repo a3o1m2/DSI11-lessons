{
 "cells": [
  {
   "cell_type": "markdown",
   "metadata": {},
   "source": [
    "<a id='postgresql'></a>\n",
    "### PostgreSQL\n",
    "\n",
    "**[PostgreSQL](http://www.postgresql.org/)** is a powerful SQL-based relational database.\n",
    "\n",
    "#### PostgreSQL Syntax\n",
    "\n",
    "\n",
    "PostgreSQL accepts the same syntax as SQLite, with exception of a few system commands. Here are the most common:\n",
    "\n",
    "- `\\q`: Quit/exit.\n",
    "- `\\c __database__`: Connect to a database.\n",
    "- `\\d __table__`: Show table definition, including triggers.\n",
    "- `\\dt *.*`: List tables from all schemas (if `*.*` is omitted, this will only show SEARCH_PATH ones).\n",
    "- `\\l`: List databases.\n",
    "- `\\dn`: List schemas.\n",
    "- `\\df`: List functions.\n",
    "- `\\dv`: List views.\n",
    "- `\\dt`: List tables.\n",
    "- `\\df+ __function`: Show function SQL code.\n",
    "- `\\x`: Pretty-format query results instead of displaying not-so-useful ASCII tables.\n",
    "\n",
    "\n",
    "Suggestions:\n",
    "\n",
    "- Most `\\d` commands support additional parameters of `__schema__.name__` and accept wildcards like `*.*`."
   ]
  },
  {
   "cell_type": "markdown",
   "metadata": {},
   "source": [
    "<a id='comparison-commands'></a>\n",
    "## Comparison of SQL Commands\n",
    "\n",
    "---\n",
    "\n",
    "\n",
    "|Task|MySQL|PostgreSQL|SQLite|\n",
    "|---|---|---|---|\n",
    "|Connect to a database|mysql &lt;dbname&gt;| psql &lt;dbname&gt;|sqlite3 &lt;filename&gt;|\n",
    "|Client help|help contents|\\?|.help|\n",
    "|SQL help|help contents|\\h|n/a|\n",
    "|List databases|SHOW DATABASES;|\\l|.databases|\n",
    "|Change database|USE &lt;dbname&gt;|\\c <dbname&gt;|n/a|\n",
    "|List tables|SHOW TABLES;|\\dt|.tables|\n",
    "|Show table|info DESCRIBE &lt;tablename&gt;|\\d &lt;tablename&gt;|.schema &lt;tablename&gt;|\n",
    "|Load data|LOAD DATA INFILE &lt;file&gt; |\\i &lt;file&gt;|.import &lt;file&gt; &lt;table&gt;|\n",
    "|Export data|SELECT ... INTO OUTFILE &lt;file&gt;|\\o &lt;file&gt;|.dump &lt;table&gt;|\n",
    "|Exit the client|quit (or exit)| \\q|.exit|"
   ]
  },
  {
   "cell_type": "code",
   "execution_count": null,
   "metadata": {},
   "outputs": [],
   "source": []
  }
 ],
 "metadata": {
  "kernelspec": {
   "display_name": "Python 3",
   "language": "python",
   "name": "python3"
  },
  "language_info": {
   "codemirror_mode": {
    "name": "ipython",
    "version": 3
   },
   "file_extension": ".py",
   "mimetype": "text/x-python",
   "name": "python",
   "nbconvert_exporter": "python",
   "pygments_lexer": "ipython3",
   "version": "3.7.4"
  },
  "toc": {
   "base_numbering": 1,
   "nav_menu": {},
   "number_sections": false,
   "sideBar": true,
   "skip_h1_title": true,
   "title_cell": "Table of Contents",
   "title_sidebar": "Contents",
   "toc_cell": false,
   "toc_position": {},
   "toc_section_display": true,
   "toc_window_display": false
  }
 },
 "nbformat": 4,
 "nbformat_minor": 2
}
