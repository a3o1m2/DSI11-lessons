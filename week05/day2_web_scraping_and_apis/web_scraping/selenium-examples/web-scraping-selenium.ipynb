{
 "cells": [
  {
   "cell_type": "markdown",
   "metadata": {},
   "source": [
    "<img src=\"http://imgur.com/1ZcRyrc.png\" style=\"float: left; margin: 20px; height: 55px\">\n",
    "\n",
    "# Web Scraping using Selenium\n",
    "\n",
    "---\n"
   ]
  },
  {
   "cell_type": "markdown",
   "metadata": {
    "toc": true
   },
   "source": [
    "<h1>Table of Contents<span class=\"tocSkip\"></span></h1>\n",
    "<div class=\"toc\"><ul class=\"toc-item\"><li><span><a href=\"#Installation\" data-toc-modified-id=\"Installation-1\">Installation</a></span></li><li><span><a href=\"#First-example:-Scroll-down!\" data-toc-modified-id=\"First-example:-Scroll-down!-2\">First example: Scroll down!</a></span></li><li><span><a href=\"#Second-example:-Click-for-more!\" data-toc-modified-id=\"Second-example:-Click-for-more!-3\">Second example: Click for more!</a></span></li></ul></div>"
   ]
  },
  {
   "cell_type": "markdown",
   "metadata": {},
   "source": [
    "## Installation\n",
    "\n",
    "There are a couple of installations you need to do to prepare for using Selenium:\n",
    "\n",
    "1. Install a webdriver. This is what Selenium uses to interact with the web browser.\n",
    "\n",
    "Go to: https://sites.google.com/a/chromium.org/chromedriver/downloads\n",
    "\n",
    "Download the correct version for your machine.\n",
    "\n",
    "2. Install Selenium. This is done using the `pip install selenium` command in the terminal."
   ]
  },
  {
   "cell_type": "code",
   "execution_count": null,
   "metadata": {},
   "outputs": [],
   "source": [
    "#!pip install selenium"
   ]
  },
  {
   "cell_type": "code",
   "execution_count": null,
   "metadata": {},
   "outputs": [],
   "source": [
    "import numpy as np\n",
    "import pandas as pd\n",
    "from selenium import webdriver\n",
    "from time import time, sleep"
   ]
  },
  {
   "cell_type": "markdown",
   "metadata": {},
   "source": [
    "## First example: Scroll down!"
   ]
  },
  {
   "cell_type": "code",
   "execution_count": null,
   "metadata": {},
   "outputs": [],
   "source": [
    "driver = webdriver.Chrome(executable_path='./chromedriver')\n",
    "driver.get('https://www.next.co.uk/shop/gender-men/feat-newin')\n",
    "start = time()\n",
    "while time()-start<5:\n",
    "    driver.execute_script(\"window.scrollTo(0, document.body.scrollHeight);\")\n",
    "item_tags = driver.find_elements_by_class_name('Info')\n",
    "item_names = []\n",
    "item_prices = []\n",
    "for item in item_tags:\n",
    "    try:\n",
    "        item_names.append(item.find_element_by_class_name('Title').text)\n",
    "        item_prices.append(item.find_element_by_class_name('Price').text)\n",
    "    except:\n",
    "        pass\n",
    "items = pd.DataFrame({'Item': item_names,\n",
    "                        'Price': item_prices})"
   ]
  },
  {
   "cell_type": "code",
   "execution_count": null,
   "metadata": {
    "scrolled": true
   },
   "outputs": [],
   "source": [
    "items.head()"
   ]
  },
  {
   "cell_type": "code",
   "execution_count": null,
   "metadata": {},
   "outputs": [],
   "source": [
    "items.info()"
   ]
  },
  {
   "cell_type": "code",
   "execution_count": null,
   "metadata": {},
   "outputs": [],
   "source": [
    "items.duplicated().sum()"
   ]
  },
  {
   "cell_type": "markdown",
   "metadata": {},
   "source": [
    "## Second example: Click for more!"
   ]
  },
  {
   "cell_type": "code",
   "execution_count": null,
   "metadata": {},
   "outputs": [],
   "source": [
    "driver = webdriver.Chrome('./chromedriver')\n",
    "driver.get('https://www.edie.net/news/')\n",
    "\n",
    "start = time()\n",
    "while time()-start<2: continue\n",
    "\n",
    "for x in range(10):\n",
    "    driver.execute_script(\"window.scrollTo(0, document.body.scrollHeight);\")\n",
    "    button = driver.find_element_by_class_name('read-more')\n",
    "    button.click()\n",
    "    start = time()\n",
    "    while time()-start<3: continue\n",
    "\n",
    "article_tags = driver.find_elements_by_class_name('story')\n",
    "article_titles = []\n",
    "article_urls = []\n",
    "\n",
    "for article in article_tags:\n",
    "    try:\n",
    "        article_titles.append(article.find_element_by_tag_name('h2').text)\n",
    "    except:\n",
    "        article_titles.append(np.nan)\n",
    "    try:\n",
    "        article_urls.append(article.find_element_by_tag_name('a').get_attribute('href'))\n",
    "    except:\n",
    "        article_urls.append(np.nan)\n",
    "\n",
    "articles = pd.DataFrame({'Title': article_titles,\n",
    "                        'URL': article_urls})"
   ]
  },
  {
   "cell_type": "code",
   "execution_count": null,
   "metadata": {},
   "outputs": [],
   "source": [
    "articles.head()"
   ]
  },
  {
   "cell_type": "code",
   "execution_count": null,
   "metadata": {},
   "outputs": [],
   "source": [
    "articles.info()"
   ]
  },
  {
   "cell_type": "code",
   "execution_count": null,
   "metadata": {},
   "outputs": [],
   "source": [
    "articles.duplicated().sum()"
   ]
  }
 ],
 "metadata": {
  "kernelspec": {
   "display_name": "Python 3",
   "language": "python",
   "name": "python3"
  },
  "language_info": {
   "codemirror_mode": {
    "name": "ipython",
    "version": 3
   },
   "file_extension": ".py",
   "mimetype": "text/x-python",
   "name": "python",
   "nbconvert_exporter": "python",
   "pygments_lexer": "ipython3",
   "version": "3.7.4"
  },
  "toc": {
   "base_numbering": 1,
   "nav_menu": {},
   "number_sections": false,
   "sideBar": true,
   "skip_h1_title": true,
   "title_cell": "Table of Contents",
   "title_sidebar": "Contents",
   "toc_cell": true,
   "toc_position": {},
   "toc_section_display": true,
   "toc_window_display": false
  },
  "varInspector": {
   "cols": {
    "lenName": 16,
    "lenType": 16,
    "lenVar": 40
   },
   "kernels_config": {
    "python": {
     "delete_cmd_postfix": "",
     "delete_cmd_prefix": "del ",
     "library": "var_list.py",
     "varRefreshCmd": "print(var_dic_list())"
    },
    "r": {
     "delete_cmd_postfix": ") ",
     "delete_cmd_prefix": "rm(",
     "library": "var_list.r",
     "varRefreshCmd": "cat(var_dic_list()) "
    }
   },
   "types_to_exclude": [
    "module",
    "function",
    "builtin_function_or_method",
    "instance",
    "_Feature"
   ],
   "window_display": false
  }
 },
 "nbformat": 4,
 "nbformat_minor": 2
}
