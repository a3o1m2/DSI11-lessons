{
 "cells": [
  {
   "cell_type": "markdown",
   "metadata": {
    "collapsed": true
   },
   "source": [
    "<img src=\"http://imgur.com/1ZcRyrc.png\" style=\"float: left; margin: 20px; height: 55px\">\n",
    "\n",
    "# Web Scraping\n",
    "\n",
    "![](scraping_meme.jpg)\n",
    "\n",
    "## Objectives\n",
    "\n",
    "- Understand what Web Scraping is.\n",
    "- Understand why as Data Scientists we might want to scrape the web.\n",
    "- Use `requests` and `BeautifulSoup` to scrape data from the web using Python."
   ]
  },
  {
   "cell_type": "markdown",
   "metadata": {
    "toc": true
   },
   "source": [
    "<h1>Table of Contents<span class=\"tocSkip\"></span></h1>\n",
    "<div class=\"toc\"><ul class=\"toc-item\"><li><span><a href=\"#Objectives\" data-toc-modified-id=\"Objectives-1\">Objectives</a></span></li><li><span><a href=\"#Why-do-we-scrape-the-web?\" data-toc-modified-id=\"Why-do-we-scrape-the-web?-2\">Why do we scrape the web?</a></span><ul class=\"toc-item\"><li><span><a href=\"#Getting-Info-from-a-Web-Page\" data-toc-modified-id=\"Getting-Info-from-a-Web-Page-2.1\">Getting Info from a Web Page</a></span></li><li><span><a href=\"#If-I-wanted-to-get-a-list-of-all-of-the-countries-visited,-how-would-I-do-it?\" data-toc-modified-id=\"If-I-wanted-to-get-a-list-of-all-of-the-countries-visited,-how-would-I-do-it?-2.2\">If I wanted to get a list of all of the countries visited, how would I do it?</a></span></li></ul></li><li><span><a href=\"#Getting-Info-from-a-Web-Page\" data-toc-modified-id=\"Getting-Info-from-a-Web-Page-3\">Getting Info from a Web Page</a></span><ul class=\"toc-item\"><li><span><a href=\"#Requests-Library\" data-toc-modified-id=\"Requests-Library-3.1\">Requests Library</a></span></li></ul></li><li><span><a href=\"#Example:-Autotrader\" data-toc-modified-id=\"Example:-Autotrader-4\">Example: Autotrader</a></span><ul class=\"toc-item\"><li><span><a href=\"#Now-that-we-have-the-web-page,-we-can-parse-it-with-BeautifulSoup:\" data-toc-modified-id=\"Now-that-we-have-the-web-page,-we-can-parse-it-with-BeautifulSoup:-4.1\">Now that we have the web page, we can parse it with BeautifulSoup:</a></span></li><li><span><a href=\"#We-can-now-set-up-a-loop-to-go-through-all-the-different-pages-of-this-website-search:\" data-toc-modified-id=\"We-can-now-set-up-a-loop-to-go-through-all-the-different-pages-of-this-website-search:-4.2\">We can now set up a loop to go through all the different pages of this website search:</a></span></li></ul></li><li><span><a href=\"#Pair-Practice:-Rightmove\" data-toc-modified-id=\"Pair-Practice:-Rightmove-5\">Pair Practice: Rightmove</a></span></li></ul></div>"
   ]
  },
  {
   "cell_type": "code",
   "execution_count": null,
   "metadata": {},
   "outputs": [],
   "source": [
    "import pandas as pd\n",
    "import numpy as np\n",
    "from bs4 import BeautifulSoup\n",
    "import requests\n",
    "from tqdm import tqdm_notebook"
   ]
  },
  {
   "cell_type": "markdown",
   "metadata": {},
   "source": [
    "## Why do we scrape the web?\n",
    "\n",
    "* Realistically, data that you want to study won't always be available to you in the form of a curated data set.\n",
    "* Need to go to the internet to find interesting data:\n",
    "    * From an existing company\n",
    "    * Text for NLP\n",
    "    * Images"
   ]
  },
  {
   "cell_type": "markdown",
   "metadata": {},
   "source": [
    "# Scraping from a Web Page with Python\n",
    "\n",
    "Scraping a web site basically comes down to making a **request from Python and parsing through the HTML** that is returned from each page. For each of these tasks we have a Python library, **`requests` and `bs4`**, respectively.\n",
    "\n",
    "https://www.crummy.com/software/BeautifulSoup/bs4/doc/"
   ]
  },
  {
   "cell_type": "markdown",
   "metadata": {},
   "source": [
    "### Getting Info from a Web Page\n",
    "\n",
    "Now that we can gain easy access to the HMTL for a web page, we need **some way to pull the desired content from it**. Luckily there is already a system in place to do this. With a **combination of HMTL and CSS selectors** we can identify the information on a HMTL page that we wish to retrieve and grab it with [BeautifulSoup](https://www.crummy.com/software/BeautifulSoup/bs4/doc/#searching-the-tree)."
   ]
  },
  {
   "cell_type": "code",
   "execution_count": null,
   "metadata": {},
   "outputs": [],
   "source": [
    "html = '''<!DOCTYPE html>\n",
    "<html>\n",
    "<head>\n",
    "<title>The title of this web page</title>\n",
    "</head>\n",
    "<body>\n",
    "<h1>My Photos</h1>\n",
    "<div class='intro'>\n",
    "<p>These are some photos of my trips.</p>\n",
    "<img src=\"me.png\">\n",
    "</div>\n",
    "\n",
    "<h3>Italy</h3>\n",
    "<div class='country'>\n",
    "<img src=\"venice1.png\" alt=\"Venice\"> <br />\n",
    "<img src=\"venice2.png\" alt=\"Venice\"> <br />\n",
    "<img src=\"rome.png\" alt=\"Roma\">\n",
    "</div>\n",
    "\n",
    "<h3>Germany</h3>\n",
    "<div class='country'>\n",
    "<img src=\"berlin.png\" alt=\"Berlin\">\n",
    "</div>\n",
    "</body>\n",
    "</html>\n",
    "'''"
   ]
  },
  {
   "cell_type": "code",
   "execution_count": null,
   "metadata": {},
   "outputs": [],
   "source": [
    "from bs4 import BeautifulSoup\n",
    "\n",
    "# we create a soup object with the html:\n",
    "soup = BeautifulSoup(html, 'html.parser')"
   ]
  },
  {
   "cell_type": "code",
   "execution_count": null,
   "metadata": {},
   "outputs": [],
   "source": [
    "print(soup.prettify())"
   ]
  },
  {
   "cell_type": "code",
   "execution_count": null,
   "metadata": {},
   "outputs": [],
   "source": [
    "# now we can query it\n",
    "soup.title"
   ]
  },
  {
   "cell_type": "code",
   "execution_count": null,
   "metadata": {},
   "outputs": [],
   "source": [
    "soup.title.text"
   ]
  },
  {
   "cell_type": "code",
   "execution_count": null,
   "metadata": {},
   "outputs": [],
   "source": [
    "soup.h1"
   ]
  },
  {
   "cell_type": "code",
   "execution_count": null,
   "metadata": {},
   "outputs": [],
   "source": [
    "soup.h3"
   ]
  },
  {
   "cell_type": "code",
   "execution_count": null,
   "metadata": {},
   "outputs": [],
   "source": [
    "soup.find('h3')"
   ]
  },
  {
   "cell_type": "code",
   "execution_count": null,
   "metadata": {},
   "outputs": [],
   "source": [
    "soup.find_all('h3')"
   ]
  },
  {
   "cell_type": "code",
   "execution_count": null,
   "metadata": {},
   "outputs": [],
   "source": [
    "soup.find_all('h3')[1].text"
   ]
  },
  {
   "cell_type": "code",
   "execution_count": null,
   "metadata": {},
   "outputs": [],
   "source": [
    "soup.find_all('div', class_='country')"
   ]
  },
  {
   "cell_type": "code",
   "execution_count": null,
   "metadata": {},
   "outputs": [],
   "source": [
    "soup.find_all('img', alt='Venice')"
   ]
  },
  {
   "cell_type": "code",
   "execution_count": null,
   "metadata": {},
   "outputs": [],
   "source": [
    "soup.find('div', class_='country').find_previous_siblings('h3')"
   ]
  },
  {
   "cell_type": "markdown",
   "metadata": {},
   "source": [
    "### If I wanted to get a list of all of the countries visited, how would I do it?"
   ]
  },
  {
   "cell_type": "code",
   "execution_count": null,
   "metadata": {},
   "outputs": [],
   "source": [
    "#A"
   ]
  },
  {
   "cell_type": "markdown",
   "metadata": {},
   "source": [
    "## Getting Info from a Web Page"
   ]
  },
  {
   "cell_type": "markdown",
   "metadata": {},
   "source": [
    "### Requests Library\n",
    "\n",
    "The [requests](http://docs.python-requests.org/en/latest/index.html) library is designed to simplify the process of making **http requests within Python**. The interface is mind-bogglingly simple. Instantiate a requests object to the request, this will mostly be a `get`, with the URL and optional parameters you'd like passed through the request. That instance make the results of the request available via attributes/methods."
   ]
  },
  {
   "cell_type": "markdown",
   "metadata": {},
   "source": [
    "## Example: Autotrader"
   ]
  },
  {
   "cell_type": "code",
   "execution_count": null,
   "metadata": {},
   "outputs": [],
   "source": [
    "import requests\n",
    "\n",
    "url = 'https://www.autotrader.co.uk/\\\n",
    "car-search?sort=sponsored&radius=10&postcode=e16lt&onesearchad=Used&onesearchad=Nearly%20New&onesearchad=New'\n",
    "\n",
    "r = requests.get(url)"
   ]
  },
  {
   "cell_type": "code",
   "execution_count": null,
   "metadata": {
    "scrolled": true
   },
   "outputs": [],
   "source": [
    "r.text[:1000] # First 1000 characters of the HTML"
   ]
  },
  {
   "cell_type": "markdown",
   "metadata": {},
   "source": [
    "### Now that we have the web page, we can parse it with BeautifulSoup:"
   ]
  },
  {
   "cell_type": "code",
   "execution_count": null,
   "metadata": {},
   "outputs": [],
   "source": [
    "soup = BeautifulSoup(r.text, 'html.parser')"
   ]
  },
  {
   "cell_type": "code",
   "execution_count": null,
   "metadata": {},
   "outputs": [],
   "source": [
    "print(soup.prettify())"
   ]
  },
  {
   "cell_type": "code",
   "execution_count": null,
   "metadata": {},
   "outputs": [],
   "source": [
    "description = []\n",
    "price = []\n",
    "for car in soup.find_all('li', attrs={'class':'search-page__result'}):\n",
    "    try:\n",
    "        description.append(car.find('h2', attrs={'class':'listing-title title-wrap'}).text)\n",
    "    except:\n",
    "        description.append(np.nan)\n",
    "    \n",
    "    try:\n",
    "        price.append(car.find('div', attrs={'class':'vehicle-price'}).text)\n",
    "    except:\n",
    "        price.append(np.nan)\n",
    "\n",
    "cars = pd.DataFrame({'Description': description,\n",
    "                     'Price': price})\n",
    "cars"
   ]
  },
  {
   "cell_type": "markdown",
   "metadata": {},
   "source": [
    "### We can now set up a loop to go through all the different pages of this website search:"
   ]
  },
  {
   "cell_type": "code",
   "execution_count": null,
   "metadata": {},
   "outputs": [],
   "source": [
    "description = []\n",
    "price = []\n",
    "for x in tqdm_notebook(range(1, 21)):\n",
    "    url = 'https://www.autotrader.co.uk/\\\n",
    "car-search?sort=sponsored&radius=10\\\n",
    "&postcode=e16lt&onesearchad=Used&onesearchad=Nearly%20New&onesearchad=New&page={}'.format(x)\n",
    "    r = requests.get(url)\n",
    "    soup = BeautifulSoup(r.text, 'html.parser')\n",
    "    for car in soup.find_all('li', attrs={'class':'search-page__result'}):\n",
    "        try:\n",
    "            description.append(car.find('h2', attrs={'class':'listing-title title-wrap'}).text)\n",
    "        except:\n",
    "            description.append(np.nan)\n",
    "\n",
    "        try:\n",
    "            price.append(car.find('div', attrs={'class':'vehicle-price'}).text)\n",
    "        except:\n",
    "            price.append(np.nan)\n",
    "\n",
    "cars = pd.DataFrame({'Description': description,\n",
    "                     'Price': price})"
   ]
  },
  {
   "cell_type": "code",
   "execution_count": null,
   "metadata": {},
   "outputs": [],
   "source": [
    "cars.info()"
   ]
  },
  {
   "cell_type": "code",
   "execution_count": null,
   "metadata": {},
   "outputs": [],
   "source": [
    "cars.head()"
   ]
  },
  {
   "cell_type": "markdown",
   "metadata": {},
   "source": [
    "## Pair Practice: Rightmove\n",
    "\n",
    "Using the URL below:\n",
    "\n",
    "1. Have a look at the HTML using 'Inspect' on the website.\n",
    "2. Look at the tags and what is linked to different sections of the website.\n",
    "3. Write a script that creates a dataframe of the houses for sale, with their location, description and price."
   ]
  },
  {
   "cell_type": "code",
   "execution_count": null,
   "metadata": {},
   "outputs": [],
   "source": [
    "url = 'https://www.rightmove.co.uk/property-for-sale/find.html?locationIdentifier=REGION%5E87490&index=0'"
   ]
  }
 ],
 "metadata": {
  "anaconda-cloud": {},
  "kernelspec": {
   "display_name": "Python 3",
   "language": "python",
   "name": "python3"
  },
  "language_info": {
   "codemirror_mode": {
    "name": "ipython",
    "version": 3
   },
   "file_extension": ".py",
   "mimetype": "text/x-python",
   "name": "python",
   "nbconvert_exporter": "python",
   "pygments_lexer": "ipython3",
   "version": "3.7.4"
  },
  "toc": {
   "base_numbering": 1,
   "nav_menu": {},
   "number_sections": false,
   "sideBar": true,
   "skip_h1_title": true,
   "title_cell": "Table of Contents",
   "title_sidebar": "Contents",
   "toc_cell": true,
   "toc_position": {},
   "toc_section_display": true,
   "toc_window_display": false
  },
  "varInspector": {
   "cols": {
    "lenName": 16,
    "lenType": 16,
    "lenVar": 40
   },
   "kernels_config": {
    "python": {
     "delete_cmd_postfix": "",
     "delete_cmd_prefix": "del ",
     "library": "var_list.py",
     "varRefreshCmd": "print(var_dic_list())"
    },
    "r": {
     "delete_cmd_postfix": ") ",
     "delete_cmd_prefix": "rm(",
     "library": "var_list.r",
     "varRefreshCmd": "cat(var_dic_list()) "
    }
   },
   "types_to_exclude": [
    "module",
    "function",
    "builtin_function_or_method",
    "instance",
    "_Feature"
   ],
   "window_display": false
  }
 },
 "nbformat": 4,
 "nbformat_minor": 1
}
