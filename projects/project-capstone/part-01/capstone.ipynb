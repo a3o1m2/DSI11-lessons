{
 "cells": [
  {
   "cell_type": "markdown",
   "metadata": {},
   "source": [
    "# Capstone"
   ]
  },
  {
   "cell_type": "markdown",
   "metadata": {},
   "source": [
    "## What can be learned from this? \n",
    "1. How introverts may be more emotive online?\n",
    "2. Can we predict a personality from a comment?\n",
    "    - Problem Statement\n",
    "    Is someone's personality type in line with their online presence?\n",
    "    Can we classify people's personalities based on their written reaction to stories?\n",
    "    And therefore can we correlate personality with e.g. political affiliation, newspapers you read?\n",
    "    Can we become better at dealing with people we don't know online by pre-empting their needs.\n",
    "    \n",
    "    - Potential Audience\n",
    "    Those who seek to understand a customer base.\n",
    "    \n",
    "    - Goals\n",
    "    To be able to \n",
    "    \n",
    "    - Success Metrics\n",
    "    \n",
    "    \n",
    "    - Data Source(s)\n",
    "    I have the descriptions of each type, that could be a base for the model.\n",
    "    Personality type forum: which has the last 50 youtube comments from each type.\n",
    "    Scrape other personality-type focused forums for more data, e.g. personalitycafe or reddit\n",
    "    \n",
    "    \n",
    "    Lightning talk input:\n",
    "    Luke disease propagation\n",
    "    Charlie podcast\n",
    "    \n",
    "    Calum clustering based on something other than type\n",
    "    Hernan can you categorise the messages into topics and look at it that way.\n",
    "    "
   ]
  },
  {
   "cell_type": "code",
   "execution_count": 5,
   "metadata": {},
   "outputs": [],
   "source": [
    "import pandas as pd\n",
    "pd.set_option('display.max_colwidth',1000, 'display.max_columns',1000)"
   ]
  },
  {
   "cell_type": "code",
   "execution_count": 10,
   "metadata": {},
   "outputs": [],
   "source": [
    "mbti = pd.read_csv('mbti.csv')"
   ]
  },
  {
   "cell_type": "code",
   "execution_count": 11,
   "metadata": {},
   "outputs": [
    {
     "data": {
      "text/plain": [
       "(8675, 2)"
      ]
     },
     "execution_count": 11,
     "metadata": {},
     "output_type": "execute_result"
    }
   ],
   "source": [
    "mbti.shape"
   ]
  },
  {
   "cell_type": "markdown",
   "metadata": {},
   "source": [
    "|||"
   ]
  },
  {
   "cell_type": "code",
   "execution_count": 12,
   "metadata": {},
   "outputs": [
    {
     "data": {
      "text/html": [
       "<div>\n",
       "<style scoped>\n",
       "    .dataframe tbody tr th:only-of-type {\n",
       "        vertical-align: middle;\n",
       "    }\n",
       "\n",
       "    .dataframe tbody tr th {\n",
       "        vertical-align: top;\n",
       "    }\n",
       "\n",
       "    .dataframe thead th {\n",
       "        text-align: right;\n",
       "    }\n",
       "</style>\n",
       "<table border=\"1\" class=\"dataframe\">\n",
       "  <thead>\n",
       "    <tr style=\"text-align: right;\">\n",
       "      <th></th>\n",
       "      <th>type</th>\n",
       "      <th>posts</th>\n",
       "    </tr>\n",
       "  </thead>\n",
       "  <tbody>\n",
       "    <tr>\n",
       "      <th>8670</th>\n",
       "      <td>ISFP</td>\n",
       "      <td>'https://www.youtube.com/watch?v=t8edHB_h908|||IxFP just because I always think of cats as Fi doms for some reason.   https://www.youtube.com/watch?v=ib28iGc9go4|||Especially on websites that have become a haven for neo nazis, such as PerC.|||I'm such a nerd. I've been learning Dutch on Duolingo and I'm having so much fun :)|||Duolingo is the shit!  Oh my god I love this XD|||Right wingers do this because they lack political consciousness.|||I doubt it, but if they are real then I hope to hell that they're nothing like the Twilight vampires!|||I would agree that both are likely related to confidence levels. It makes sense to me that someone would be aggressive to overcompensate for a (sometimes perceived) shortcoming.|||Both Nazi Germany and the Soviet Union were extremely nationalist. I can't think of a more nationalist country nowadays than the DPRK.  What separates your 'nationalism' from theirs?|||You're not the only one, there are plenty of INFPs who are right wing conservativ...</td>\n",
       "    </tr>\n",
       "    <tr>\n",
       "      <th>8671</th>\n",
       "      <td>ENFP</td>\n",
       "      <td>'So...if this thread already exists someplace else (which it does:  http://personalitycafe.com/enfp-forum-inspirers/116902-movies-loved-enfp.html#post2952851), how the heck to I delete this one here???|||Ooops...I guess I didn't look too hard because I just started a Movies every ENFP should watch thread...|||So, this came up in the You Know You're An ENFP When... thread.  (@Pucca :  here we go!  IT IS DONE :D) This isn't a list of films with ENFPs IN them, but rather ones that you believe ENFPs would...|||I know that I liked UP. :D|||I choose feeding myself joy over beating myself up.”  --Buddy Wakefield|||[QUOTE=Pucca;2951774]I've never seen it.:shocked:QUOTE]  Me, neither.   Guess we should have a Movie Marathon of All Movies ENFPs Should Watch. :D|||That's hilarious. hahaha I used to pretend I had a bunch of dragon friends and a whole bunch of animals (like platypi and octopi and ocelots, and horses, etc.) I was always rescuing my dragons from...|||WOOO!  I'd love to be the TAR...</td>\n",
       "    </tr>\n",
       "    <tr>\n",
       "      <th>8672</th>\n",
       "      <td>INTP</td>\n",
       "      <td>'So many questions when i do these things.  I would take the purple pill. Pick winning lottery numbers. Do whatever I want.|||I worked in a brewery for a couple years here. I dont know if you're familiar with the local micros/craft at all but Mill st. was the name of it. Their tankhouse is my favorite of anything local.|||I am going to summon the great and powerful mr cafebot and his song of destruction. The four horseman ride. Count your days people of earth.   Intro: Nick - the INTP male - from a basement...|||This thread is obviously about the textbook definition of manliness. Ruffin it, tuffin it, and going hard in the mother fking paint.|||Stand up for yourself. You asked for the time off and it was approved. When they say, oh shit we are short staffed, where is Badgers? They figure out you asked for it off, that's why you arn't there....|||Lol excellent thread @NT the DC. I love watching baseball, and playing it. Oh and I hate the yankees. I'm 19, I've had multiple partners, ...</td>\n",
       "    </tr>\n",
       "    <tr>\n",
       "      <th>8673</th>\n",
       "      <td>INFP</td>\n",
       "      <td>'I am very conflicted right now when it comes to wanting children.  I honestly had no maternal instinct whatsoever until recently.  Up until now, none of my close friends have had children, and I...|||If I had to guess for my closest friends:  1. ISFJ 2. ESFP 3. ISTJ 4. xNFP 5. ESFJ  I don't know if this is correct or not because I don't know if *they* know their types (actually the xNFP...|||What you said in the last paragraph ... as a teacher, this frustrates me too!  There's a trend in education to combine classes more and more to contain a variety of types of students (which I won't...|||I can't say that I had much trouble with my community in general.  I mean, if I'm talking about my same-age peers, I was never considered popular because I was too into artsy extracurricular...|||I do eat meat, and I do feel guilty about it.  I have vaguely considered not eating meat, but I don't think I could actually do it because of my nutritional requirements.  I need a high protein diet......</td>\n",
       "    </tr>\n",
       "    <tr>\n",
       "      <th>8674</th>\n",
       "      <td>INFP</td>\n",
       "      <td>'It has been too long since I have been on personalitycafe - although it doesn't seem to have changed one bit - but I must say it is good to be back somewhere like this. Usually I turn to Doctor Who...|||http://www.youtube.com/watch?v=6EEW-9NDM5k|||Overwhelmed by the world around me.|||In one dream I have had I was being chased by a large shadowy creature, with someone else who I felt I had to save above all else. The dream ended after she reached safety, but as for what happened...|||Well now My Avatar is a Doctor Who Clockwork Creature. I always liked this monster because It is just a worker trying to do it's job, kind of :3|||1st - Thanks for your reply, I appreciate all the help I can get. 2nd - I think everyone has the right to their opinion :) (however too many people abuse that right :P )|||Yea, Not Doing the Iron Man Thing xD  Thanks for all the advice everyone :)|||Thanks :)  I think I needed some humour. I might show them this (maybe).   I know they won't do anything hars...</td>\n",
       "    </tr>\n",
       "  </tbody>\n",
       "</table>\n",
       "</div>"
      ],
      "text/plain": [
       "      type  \\\n",
       "8670  ISFP   \n",
       "8671  ENFP   \n",
       "8672  INTP   \n",
       "8673  INFP   \n",
       "8674  INFP   \n",
       "\n",
       "                                                                                                                                                                                                                                                                                                                                                                                                                                                                                                                                                                                                                                                                                                                                                                                                                                                                                                                                                                                                                                        posts  \n",
       "8670  'https://www.youtube.com/watch?v=t8edHB_h908|||IxFP just because I always think of cats as Fi doms for some reason.   https://www.youtube.com/watch?v=ib28iGc9go4|||Especially on websites that have become a haven for neo nazis, such as PerC.|||I'm such a nerd. I've been learning Dutch on Duolingo and I'm having so much fun :)|||Duolingo is the shit!  Oh my god I love this XD|||Right wingers do this because they lack political consciousness.|||I doubt it, but if they are real then I hope to hell that they're nothing like the Twilight vampires!|||I would agree that both are likely related to confidence levels. It makes sense to me that someone would be aggressive to overcompensate for a (sometimes perceived) shortcoming.|||Both Nazi Germany and the Soviet Union were extremely nationalist. I can't think of a more nationalist country nowadays than the DPRK.  What separates your 'nationalism' from theirs?|||You're not the only one, there are plenty of INFPs who are right wing conservativ...  \n",
       "8671  'So...if this thread already exists someplace else (which it does:  http://personalitycafe.com/enfp-forum-inspirers/116902-movies-loved-enfp.html#post2952851), how the heck to I delete this one here???|||Ooops...I guess I didn't look too hard because I just started a Movies every ENFP should watch thread...|||So, this came up in the You Know You're An ENFP When... thread.  (@Pucca :  here we go!  IT IS DONE :D) This isn't a list of films with ENFPs IN them, but rather ones that you believe ENFPs would...|||I know that I liked UP. :D|||I choose feeding myself joy over beating myself up.”  --Buddy Wakefield|||[QUOTE=Pucca;2951774]I've never seen it.:shocked:QUOTE]  Me, neither.   Guess we should have a Movie Marathon of All Movies ENFPs Should Watch. :D|||That's hilarious. hahaha I used to pretend I had a bunch of dragon friends and a whole bunch of animals (like platypi and octopi and ocelots, and horses, etc.) I was always rescuing my dragons from...|||WOOO!  I'd love to be the TAR...  \n",
       "8672  'So many questions when i do these things.  I would take the purple pill. Pick winning lottery numbers. Do whatever I want.|||I worked in a brewery for a couple years here. I dont know if you're familiar with the local micros/craft at all but Mill st. was the name of it. Their tankhouse is my favorite of anything local.|||I am going to summon the great and powerful mr cafebot and his song of destruction. The four horseman ride. Count your days people of earth.   Intro: Nick - the INTP male - from a basement...|||This thread is obviously about the textbook definition of manliness. Ruffin it, tuffin it, and going hard in the mother fking paint.|||Stand up for yourself. You asked for the time off and it was approved. When they say, oh shit we are short staffed, where is Badgers? They figure out you asked for it off, that's why you arn't there....|||Lol excellent thread @NT the DC. I love watching baseball, and playing it. Oh and I hate the yankees. I'm 19, I've had multiple partners, ...  \n",
       "8673  'I am very conflicted right now when it comes to wanting children.  I honestly had no maternal instinct whatsoever until recently.  Up until now, none of my close friends have had children, and I...|||If I had to guess for my closest friends:  1. ISFJ 2. ESFP 3. ISTJ 4. xNFP 5. ESFJ  I don't know if this is correct or not because I don't know if *they* know their types (actually the xNFP...|||What you said in the last paragraph ... as a teacher, this frustrates me too!  There's a trend in education to combine classes more and more to contain a variety of types of students (which I won't...|||I can't say that I had much trouble with my community in general.  I mean, if I'm talking about my same-age peers, I was never considered popular because I was too into artsy extracurricular...|||I do eat meat, and I do feel guilty about it.  I have vaguely considered not eating meat, but I don't think I could actually do it because of my nutritional requirements.  I need a high protein diet......  \n",
       "8674  'It has been too long since I have been on personalitycafe - although it doesn't seem to have changed one bit - but I must say it is good to be back somewhere like this. Usually I turn to Doctor Who...|||http://www.youtube.com/watch?v=6EEW-9NDM5k|||Overwhelmed by the world around me.|||In one dream I have had I was being chased by a large shadowy creature, with someone else who I felt I had to save above all else. The dream ended after she reached safety, but as for what happened...|||Well now My Avatar is a Doctor Who Clockwork Creature. I always liked this monster because It is just a worker trying to do it's job, kind of :3|||1st - Thanks for your reply, I appreciate all the help I can get. 2nd - I think everyone has the right to their opinion :) (however too many people abuse that right :P )|||Yea, Not Doing the Iron Man Thing xD  Thanks for all the advice everyone :)|||Thanks :)  I think I needed some humour. I might show them this (maybe).   I know they won't do anything hars...  "
      ]
     },
     "execution_count": 12,
     "metadata": {},
     "output_type": "execute_result"
    }
   ],
   "source": [
    "mbti.tail()"
   ]
  },
  {
   "cell_type": "code",
   "execution_count": 5,
   "metadata": {},
   "outputs": [
    {
     "data": {
      "text/plain": [
       "INFP    1832\n",
       "INFJ    1470\n",
       "INTP    1304\n",
       "INTJ    1091\n",
       "ENTP     685\n",
       "ENFP     675\n",
       "ISTP     337\n",
       "ISFP     271\n",
       "ENTJ     231\n",
       "ISTJ     205\n",
       "ENFJ     190\n",
       "ISFJ     166\n",
       "ESTP      89\n",
       "ESFP      48\n",
       "ESFJ      42\n",
       "ESTJ      39\n",
       "Name: type, dtype: int64"
      ]
     },
     "execution_count": 5,
     "metadata": {},
     "output_type": "execute_result"
    }
   ],
   "source": [
    "mbti.type.value_counts()\n",
    "# problem is the severe class imbalance towards Intuitives: we can perhaps group into higher levels, we\n",
    "# may even need to search more data from other forums too."
   ]
  },
  {
   "cell_type": "code",
   "execution_count": 3,
   "metadata": {},
   "outputs": [
    {
     "data": {
      "text/plain": [
       "(49159, 1)"
      ]
     },
     "execution_count": 3,
     "metadata": {},
     "output_type": "execute_result"
    }
   ],
   "source": [
    "raw_test = pd.read_csv('data.csv')\n",
    "raw_test.shape"
   ]
  },
  {
   "cell_type": "code",
   "execution_count": 6,
   "metadata": {},
   "outputs": [
    {
     "data": {
      "text/html": [
       "<div>\n",
       "<style scoped>\n",
       "    .dataframe tbody tr th:only-of-type {\n",
       "        vertical-align: middle;\n",
       "    }\n",
       "\n",
       "    .dataframe tbody tr th {\n",
       "        vertical-align: top;\n",
       "    }\n",
       "\n",
       "    .dataframe thead th {\n",
       "        text-align: right;\n",
       "    }\n",
       "</style>\n",
       "<table border=\"1\" class=\"dataframe\">\n",
       "  <thead>\n",
       "    <tr style=\"text-align: right;\">\n",
       "      <th></th>\n",
       "      <th>A1\t\"A2\"\t\"A3\"\t\"A4\"\t\"A5\"\t\"A6\"\t\"A7\"\t\"A8\"\t\"A9\"\t\"A10\"\t\"B1\"\t\"B2\"\t\"B3\"\t\"B4\"\t\"B5\"\t\"B6\"\t\"B7\"\t\"B8\"\t\"B9\"\t\"B10\"\t\"B11\"\t\"B12\"\t\"B13\"\t\"C1\"\t\"C2\"\t\"C3\"\t\"C4\"\t\"C5\"\t\"C6\"\t\"C7\"\t\"C8\"\t\"C9\"\t\"C10\"\t\"D1\"\t\"D2\"\t\"D3\"\t\"D4\"\t\"D5\"\t\"D6\"\t\"D7\"\t\"D8\"\t\"D9\"\t\"D10\"\t\"E1\"\t\"E2\"\t\"E3\"\t\"E4\"\t\"E5\"\t\"E6\"\t\"E7\"\t\"E8\"\t\"E9\"\t\"E10\"\t\"F1\"\t\"F2\"\t\"F3\"\t\"F4\"\t\"F5\"\t\"F6\"\t\"F7\"\t\"F8\"\t\"F9\"\t\"F10\"\t\"G1\"\t\"G2\"\t\"G3\"\t\"G4\"\t\"G5\"\t\"G6\"\t\"G7\"\t\"G8\"\t\"G9\"\t\"G10\"\t\"H1\"\t\"H2\"\t\"H3\"\t\"H4\"\t\"H5\"\t\"H6\"\t\"H7\"\t\"H8\"\t\"H9\"\t\"H10\"\t\"I1\"\t\"I2\"\t\"I3\"\t\"I4\"\t\"I5\"\t\"I6\"\t\"I7\"\t\"I8\"\t\"I9\"\t\"I10\"\t\"J1\"\t\"J2\"\t\"J3\"\t\"J4\"\t\"J5\"\t\"J6\"\t\"J7\"\t\"J8\"\t\"J9\"\t\"J10\"\t\"K1\"\t\"K2\"\t\"K3\"\t\"K4\"\t\"K5\"\t\"K6\"\t\"K7\"\t\"K8\"\t\"K9\"\t\"K10\"\t\"L1\"\t\"L2\"\t\"L3\"\t\"L4\"\t\"L5\"\t\"L6\"\t\"L7\"\t\"L8\"\t\"L9\"\t\"L10\"\t\"M1\"\t\"M2\"\t\"M3\"\t\"M4\"\t\"M5\"\t\"M6\"\t\"M7\"\t\"M8\"\t\"M9\"\t\"M10\"\t\"N1\"\t\"N2\"\t\"N3\"\t\"N4\"\t\"N5\"\t\"N6\"\t\"N7\"\t\"N8\"\t\"N9\"\t\"N10\"\t\"O1\"\t\"O2\"\t\"O3\"\t\"O4\"\t\"O5\"\t\"O6\"\t\"O7\"\t\"O8\"\t\"O9\"\t\"O10\"\t\"P1\"\t\"P2\"\t\"P3\"\t\"P4\"\t\"P5\"\t\"P6\"\t\"P7\"\t\"P8\"\t\"P9\"\t\"P10\"\t\"age\"\t\"gender\"\t\"accuracy\"\t\"country\"\t\"source\"\t\"elapsed\"</th>\n",
       "    </tr>\n",
       "  </thead>\n",
       "  <tbody>\n",
       "    <tr>\n",
       "      <th>0</th>\n",
       "      <td>1\\t4\\t2\\t3\\t3\\t2\\t3\\t4\\t4\\t3\\t4\\t4\\t5\\t4\\t5\\t4\\t5\\t4\\t1\\t2\\t1\\t1\\t1\\t4\\t5\\t4\\t4\\t2\\t4\\t4\\t3\\t3\\t2\\t4\\t3\\t5\\t5\\t4\\t4\\t3\\t2\\t4\\t3\\t1\\t1\\t4\\t3\\t4\\t5\\t1\\t3\\t3\\t4\\t2\\t2\\t5\\t1\\t1\\t4\\t3\\t5\\t4\\t4\\t3\\t1\\t4\\t2\\t3\\t4\\t3\\t1\\t5\\t1\\t5\\t5\\t5\\t3\\t3\\t3\\t3\\t1\\t2\\t4\\t3\\t4\\t4\\t3\\t4\\t4\\t2\\t4\\t2\\t4\\t5\\t5\\t5\\t5\\t5\\t5\\t5\\t2\\t1\\t1\\t2\\t3\\t2\\t4\\t4\\t5\\t2\\t5\\t2\\t5\\t3\\t4\\t3\\t3\\t5\\t3\\t4\\t4\\t2\\t4\\t5\\t4\\t4\\t4\\t4\\t1\\t1\\t1\\t3\\t3\\t4\\t4\\t4\\t4\\t4\\t5\\t5\\t4\\t4\\t3\\t4\\t2\\t3\\t4\\t3\\t2\\t2\\t4\\t4\\t4\\t5\\t5\\t5\\t4\\t4\\t5\\t1\\t2\\t5\\t2\\t17\\t1\\t92\\tUS\\t6\\t914</td>\n",
       "    </tr>\n",
       "    <tr>\n",
       "      <th>1</th>\n",
       "      <td>4\\t3\\t4\\t3\\t4\\t4\\t4\\t4\\t2\\t2\\t4\\t4\\t4\\t4\\t5\\t4\\t3\\t2\\t3\\t2\\t4\\t1\\t1\\t1\\t2\\t3\\t3\\t2\\t5\\t4\\t4\\t3\\t3\\t4\\t2\\t4\\t4\\t4\\t5\\t4\\t2\\t3\\t1\\t1\\t2\\t4\\t1\\t4\\t2\\t2\\t4\\t2\\t1\\t3\\t4\\t2\\t4\\t5\\t2\\t4\\t4\\t2\\t4\\t3\\t4\\t2\\t4\\t4\\t2\\t3\\t2\\t3\\t3\\t5\\t5\\t5\\t1\\t4\\t3\\t4\\t2\\t1\\t2\\t5\\t4\\t3\\t2\\t4\\t2\\t2\\t2\\t3\\t2\\t5\\t4\\t5\\t4\\t4\\t2\\t4\\t3\\t2\\t2\\t3\\t4\\t2\\t4\\t3\\t2\\t2\\t2\\t3\\t4\\t3\\t4\\t4\\t4\\t2\\t1\\t4\\t2\\t2\\t3\\t4\\t2\\t4\\t4\\t2\\t1\\t1\\t1\\t2\\t2\\t4\\t2\\t4\\t5\\t5\\t5\\t5\\t2\\t4\\t1\\t3\\t2\\t4\\t2\\t3\\t2\\t2\\t3\\t4\\t4\\t4\\t4\\t4\\t2\\t3\\t2\\t3\\t2\\t2\\t2\\t37\\t1\\t100\\tUS\\t1\\t891</td>\n",
       "    </tr>\n",
       "    <tr>\n",
       "      <th>2</th>\n",
       "      <td>3\\t4\\t4\\t4\\t4\\t4\\t4\\t3\\t2\\t2\\t4\\t4\\t5\\t5\\t4\\t4\\t4\\t4\\t2\\t2\\t2\\t2\\t2\\t2\\t4\\t4\\t3\\t3\\t3\\t4\\t2\\t3\\t0\\t3\\t3\\t2\\t2\\t3\\t4\\t3\\t1\\t3\\t3\\t1\\t1\\t3\\t1\\t4\\t2\\t3\\t4\\t2\\t4\\t3\\t4\\t1\\t2\\t3\\t3\\t3\\t2\\t3\\t4\\t2\\t2\\t1\\t3\\t3\\t3\\t3\\t3\\t5\\t4\\t3\\t4\\t3\\t4\\t1\\t4\\t2\\t3\\t0\\t2\\t3\\t4\\t4\\t3\\t4\\t2\\t2\\t3\\t4\\t4\\t4\\t4\\t4\\t5\\t5\\t3\\t3\\t3\\t1\\t1\\t3\\t4\\t4\\t4\\t4\\t3\\t2\\t2\\t3\\t4\\t4\\t3\\t3\\t4\\t4\\t4\\t2\\t3\\t3\\t4\\t3\\t4\\t5\\t4\\t4\\t2\\t1\\t2\\t1\\t2\\t4\\t4\\t5\\t4\\t4\\t5\\t4\\t3\\t4\\t1\\t3\\t2\\t3\\t3\\t3\\t2\\t3\\t4\\t3\\t3\\t3\\t3\\t4\\t2\\t4\\t2\\t2\\t3\\t3\\t3\\t31\\t1\\t80\\tUS\\t6\\t903</td>\n",
       "    </tr>\n",
       "    <tr>\n",
       "      <th>3</th>\n",
       "      <td>4\\t5\\t4\\t4\\t4\\t3\\t3\\t2\\t2\\t2\\t4\\t2\\t4\\t5\\t4\\t5\\t4\\t4\\t3\\t3\\t3\\t2\\t4\\t3\\t2\\t3\\t4\\t3\\t3\\t2\\t2\\t3\\t4\\t3\\t2\\t3\\t4\\t2\\t3\\t3\\t3\\t4\\t3\\t3\\t2\\t4\\t1\\t4\\t4\\t1\\t3\\t2\\t2\\t4\\t3\\t1\\t3\\t2\\t4\\t3\\t4\\t3\\t3\\t2\\t4\\t4\\t4\\t3\\t3\\t3\\t2\\t3\\t3\\t4\\t5\\t2\\t1\\t4\\t2\\t3\\t2\\t2\\t2\\t2\\t2\\t4\\t3\\t4\\t2\\t4\\t2\\t4\\t1\\t5\\t5\\t5\\t5\\t5\\t4\\t4\\t1\\t1\\t1\\t3\\t3\\t1\\t4\\t3\\t2\\t2\\t2\\t3\\t3\\t3\\t2\\t4\\t3\\t4\\t4\\t4\\t4\\t3\\t2\\t4\\t4\\t5\\t3\\t2\\t1\\t4\\t2\\t2\\t2\\t4\\t5\\t5\\t5\\t5\\t5\\t5\\t1\\t3\\t3\\t2\\t2\\t2\\t2\\t3\\t4\\t5\\t4\\t5\\t4\\t4\\t2\\t2\\t2\\t3\\t4\\t2\\t3\\t4\\t4\\t32\\t1\\t93\\tUS\\t1\\t806</td>\n",
       "    </tr>\n",
       "    <tr>\n",
       "      <th>4</th>\n",
       "      <td>4\\t0\\t4\\t4\\t4\\t3\\t5\\t1\\t2\\t4\\t2\\t4\\t4\\t5\\t5\\t4\\t4\\t5\\t4\\t1\\t5\\t1\\t2\\t2\\t4\\t3\\t3\\t4\\t4\\t4\\t4\\t3\\t2\\t5\\t4\\t3\\t4\\t5\\t4\\t1\\t1\\t1\\t3\\t1\\t1\\t3\\t1\\t4\\t2\\t4\\t5\\t2\\t3\\t4\\t4\\t4\\t4\\t4\\t2\\t4\\t4\\t1\\t3\\t3\\t1\\t4\\t2\\t5\\t2\\t1\\t1\\t2\\t2\\t4\\t4\\t3\\t3\\t1\\t4\\t2\\t4\\t1\\t2\\t4\\t2\\t4\\t4\\t2\\t2\\t3\\t2\\t3\\t3\\t3\\t4\\t2\\t4\\t4\\t1\\t2\\t5\\t4\\t2\\t4\\t4\\t1\\t4\\t4\\t2\\t3\\t2\\t2\\t4\\t4\\t2\\t4\\t4\\t4\\t4\\t4\\t1\\t3\\t3\\t2\\t4\\t4\\t4\\t5\\t1\\t2\\t2\\t1\\t2\\t3\\t3\\t4\\t4\\t5\\t4\\t5\\t4\\t4\\t2\\t3\\t3\\t5\\t3\\t4\\t2\\t1\\t2\\t1\\t4\\t4\\t3\\t4\\t3\\t4\\t3\\t4\\t2\\t3\\t2\\t46\\t2\\t87\\tNZ\\t1\\t1826</td>\n",
       "    </tr>\n",
       "  </tbody>\n",
       "</table>\n",
       "</div>"
      ],
      "text/plain": [
       "  A1\\t\"A2\"\\t\"A3\"\\t\"A4\"\\t\"A5\"\\t\"A6\"\\t\"A7\"\\t\"A8\"\\t\"A9\"\\t\"A10\"\\t\"B1\"\\t\"B2\"\\t\"B3\"\\t\"B4\"\\t\"B5\"\\t\"B6\"\\t\"B7\"\\t\"B8\"\\t\"B9\"\\t\"B10\"\\t\"B11\"\\t\"B12\"\\t\"B13\"\\t\"C1\"\\t\"C2\"\\t\"C3\"\\t\"C4\"\\t\"C5\"\\t\"C6\"\\t\"C7\"\\t\"C8\"\\t\"C9\"\\t\"C10\"\\t\"D1\"\\t\"D2\"\\t\"D3\"\\t\"D4\"\\t\"D5\"\\t\"D6\"\\t\"D7\"\\t\"D8\"\\t\"D9\"\\t\"D10\"\\t\"E1\"\\t\"E2\"\\t\"E3\"\\t\"E4\"\\t\"E5\"\\t\"E6\"\\t\"E7\"\\t\"E8\"\\t\"E9\"\\t\"E10\"\\t\"F1\"\\t\"F2\"\\t\"F3\"\\t\"F4\"\\t\"F5\"\\t\"F6\"\\t\"F7\"\\t\"F8\"\\t\"F9\"\\t\"F10\"\\t\"G1\"\\t\"G2\"\\t\"G3\"\\t\"G4\"\\t\"G5\"\\t\"G6\"\\t\"G7\"\\t\"G8\"\\t\"G9\"\\t\"G10\"\\t\"H1\"\\t\"H2\"\\t\"H3\"\\t\"H4\"\\t\"H5\"\\t\"H6\"\\t\"H7\"\\t\"H8\"\\t\"H9\"\\t\"H10\"\\t\"I1\"\\t\"I2\"\\t\"I3\"\\t\"I4\"\\t\"I5\"\\t\"I6\"\\t\"I7\"\\t\"I8\"\\t\"I9\"\\t\"I10\"\\t\"J1\"\\t\"J2\"\\t\"J3\"\\t\"J4\"\\t\"J5\"\\t\"J6\"\\t\"J7\"\\t\"J8\"\\t\"J9\"\\t\"J10\"\\t\"K1\"\\t\"K2\"\\t\"K3\"\\t\"K4\"\\t\"K5\"\\t\"K6\"\\t\"K7\"\\t\"K8\"\\t\"K9\"\\t\"K10\"\\t\"L1\"\\t\"L2\"\\t\"L3\"\\t\"L4\"\\t\"L5\"\\t\"L6\"\\t\"L7\"\\t\"L8\"\\t\"L9\"\\t\"L10\"\\t\"M1\"\\t\"M2\"\\t\"M3\"\\t\"M4\"\\t\"M5\"\\t\"M6\"\\t\"M7\"\\t\"M8\"\\t\"M9\"\\t\"M10\"\\t\"N1\"\\t\"N2\"\\t\"N3\"\\t\"N4\"\\t\"N5\"\\t\"N6\"\\t\"N7\"\\t\"N8\"\\t\"N9\"\\t\"N10\"\\t\"O1\"\\t\"O2\"\\t\"O3\"\\t\"O4\"\\t\"O5\"\\t\"O6\"\\t\"O7\"\\t\"O8\"\\t\"O9\"\\t\"O10\"\\t\"P1\"\\t\"P2\"\\t\"P3\"\\t\"P4\"\\t\"P5\"\\t\"P6\"\\t\"P7\"\\t\"P8\"\\t\"P9\"\\t\"P10\"\\t\"age\"\\t\"gender\"\\t\"accuracy\"\\t\"country\"\\t\"source\"\\t\"elapsed\"\n",
       "0                                                                                                                                                                                                                                                                                                                                                                                                                                                                                                           1\\t4\\t2\\t3\\t3\\t2\\t3\\t4\\t4\\t3\\t4\\t4\\t5\\t4\\t5\\t4\\t5\\t4\\t1\\t2\\t1\\t1\\t1\\t4\\t5\\t4\\t4\\t2\\t4\\t4\\t3\\t3\\t2\\t4\\t3\\t5\\t5\\t4\\t4\\t3\\t2\\t4\\t3\\t1\\t1\\t4\\t3\\t4\\t5\\t1\\t3\\t3\\t4\\t2\\t2\\t5\\t1\\t1\\t4\\t3\\t5\\t4\\t4\\t3\\t1\\t4\\t2\\t3\\t4\\t3\\t1\\t5\\t1\\t5\\t5\\t5\\t3\\t3\\t3\\t3\\t1\\t2\\t4\\t3\\t4\\t4\\t3\\t4\\t4\\t2\\t4\\t2\\t4\\t5\\t5\\t5\\t5\\t5\\t5\\t5\\t2\\t1\\t1\\t2\\t3\\t2\\t4\\t4\\t5\\t2\\t5\\t2\\t5\\t3\\t4\\t3\\t3\\t5\\t3\\t4\\t4\\t2\\t4\\t5\\t4\\t4\\t4\\t4\\t1\\t1\\t1\\t3\\t3\\t4\\t4\\t4\\t4\\t4\\t5\\t5\\t4\\t4\\t3\\t4\\t2\\t3\\t4\\t3\\t2\\t2\\t4\\t4\\t4\\t5\\t5\\t5\\t4\\t4\\t5\\t1\\t2\\t5\\t2\\t17\\t1\\t92\\tUS\\t6\\t914                                                      \n",
       "1                                                                                                                                                                                                                                                                                                                                                                                                                                                                                                          4\\t3\\t4\\t3\\t4\\t4\\t4\\t4\\t2\\t2\\t4\\t4\\t4\\t4\\t5\\t4\\t3\\t2\\t3\\t2\\t4\\t1\\t1\\t1\\t2\\t3\\t3\\t2\\t5\\t4\\t4\\t3\\t3\\t4\\t2\\t4\\t4\\t4\\t5\\t4\\t2\\t3\\t1\\t1\\t2\\t4\\t1\\t4\\t2\\t2\\t4\\t2\\t1\\t3\\t4\\t2\\t4\\t5\\t2\\t4\\t4\\t2\\t4\\t3\\t4\\t2\\t4\\t4\\t2\\t3\\t2\\t3\\t3\\t5\\t5\\t5\\t1\\t4\\t3\\t4\\t2\\t1\\t2\\t5\\t4\\t3\\t2\\t4\\t2\\t2\\t2\\t3\\t2\\t5\\t4\\t5\\t4\\t4\\t2\\t4\\t3\\t2\\t2\\t3\\t4\\t2\\t4\\t3\\t2\\t2\\t2\\t3\\t4\\t3\\t4\\t4\\t4\\t2\\t1\\t4\\t2\\t2\\t3\\t4\\t2\\t4\\t4\\t2\\t1\\t1\\t1\\t2\\t2\\t4\\t2\\t4\\t5\\t5\\t5\\t5\\t2\\t4\\t1\\t3\\t2\\t4\\t2\\t3\\t2\\t2\\t3\\t4\\t4\\t4\\t4\\t4\\t2\\t3\\t2\\t3\\t2\\t2\\t2\\t37\\t1\\t100\\tUS\\t1\\t891                                                      \n",
       "2                                                                                                                                                                                                                                                                                                                                                                                                                                                                                                           3\\t4\\t4\\t4\\t4\\t4\\t4\\t3\\t2\\t2\\t4\\t4\\t5\\t5\\t4\\t4\\t4\\t4\\t2\\t2\\t2\\t2\\t2\\t2\\t4\\t4\\t3\\t3\\t3\\t4\\t2\\t3\\t0\\t3\\t3\\t2\\t2\\t3\\t4\\t3\\t1\\t3\\t3\\t1\\t1\\t3\\t1\\t4\\t2\\t3\\t4\\t2\\t4\\t3\\t4\\t1\\t2\\t3\\t3\\t3\\t2\\t3\\t4\\t2\\t2\\t1\\t3\\t3\\t3\\t3\\t3\\t5\\t4\\t3\\t4\\t3\\t4\\t1\\t4\\t2\\t3\\t0\\t2\\t3\\t4\\t4\\t3\\t4\\t2\\t2\\t3\\t4\\t4\\t4\\t4\\t4\\t5\\t5\\t3\\t3\\t3\\t1\\t1\\t3\\t4\\t4\\t4\\t4\\t3\\t2\\t2\\t3\\t4\\t4\\t3\\t3\\t4\\t4\\t4\\t2\\t3\\t3\\t4\\t3\\t4\\t5\\t4\\t4\\t2\\t1\\t2\\t1\\t2\\t4\\t4\\t5\\t4\\t4\\t5\\t4\\t3\\t4\\t1\\t3\\t2\\t3\\t3\\t3\\t2\\t3\\t4\\t3\\t3\\t3\\t3\\t4\\t2\\t4\\t2\\t2\\t3\\t3\\t3\\t31\\t1\\t80\\tUS\\t6\\t903                                                      \n",
       "3                                                                                                                                                                                                                                                                                                                                                                                                                                                                                                           4\\t5\\t4\\t4\\t4\\t3\\t3\\t2\\t2\\t2\\t4\\t2\\t4\\t5\\t4\\t5\\t4\\t4\\t3\\t3\\t3\\t2\\t4\\t3\\t2\\t3\\t4\\t3\\t3\\t2\\t2\\t3\\t4\\t3\\t2\\t3\\t4\\t2\\t3\\t3\\t3\\t4\\t3\\t3\\t2\\t4\\t1\\t4\\t4\\t1\\t3\\t2\\t2\\t4\\t3\\t1\\t3\\t2\\t4\\t3\\t4\\t3\\t3\\t2\\t4\\t4\\t4\\t3\\t3\\t3\\t2\\t3\\t3\\t4\\t5\\t2\\t1\\t4\\t2\\t3\\t2\\t2\\t2\\t2\\t2\\t4\\t3\\t4\\t2\\t4\\t2\\t4\\t1\\t5\\t5\\t5\\t5\\t5\\t4\\t4\\t1\\t1\\t1\\t3\\t3\\t1\\t4\\t3\\t2\\t2\\t2\\t3\\t3\\t3\\t2\\t4\\t3\\t4\\t4\\t4\\t4\\t3\\t2\\t4\\t4\\t5\\t3\\t2\\t1\\t4\\t2\\t2\\t2\\t4\\t5\\t5\\t5\\t5\\t5\\t5\\t1\\t3\\t3\\t2\\t2\\t2\\t2\\t3\\t4\\t5\\t4\\t5\\t4\\t4\\t2\\t2\\t2\\t3\\t4\\t2\\t3\\t4\\t4\\t32\\t1\\t93\\tUS\\t1\\t806                                                      \n",
       "4                                                                                                                                                                                                                                                                                                                                                                                                                                                                                                          4\\t0\\t4\\t4\\t4\\t3\\t5\\t1\\t2\\t4\\t2\\t4\\t4\\t5\\t5\\t4\\t4\\t5\\t4\\t1\\t5\\t1\\t2\\t2\\t4\\t3\\t3\\t4\\t4\\t4\\t4\\t3\\t2\\t5\\t4\\t3\\t4\\t5\\t4\\t1\\t1\\t1\\t3\\t1\\t1\\t3\\t1\\t4\\t2\\t4\\t5\\t2\\t3\\t4\\t4\\t4\\t4\\t4\\t2\\t4\\t4\\t1\\t3\\t3\\t1\\t4\\t2\\t5\\t2\\t1\\t1\\t2\\t2\\t4\\t4\\t3\\t3\\t1\\t4\\t2\\t4\\t1\\t2\\t4\\t2\\t4\\t4\\t2\\t2\\t3\\t2\\t3\\t3\\t3\\t4\\t2\\t4\\t4\\t1\\t2\\t5\\t4\\t2\\t4\\t4\\t1\\t4\\t4\\t2\\t3\\t2\\t2\\t4\\t4\\t2\\t4\\t4\\t4\\t4\\t4\\t1\\t3\\t3\\t2\\t4\\t4\\t4\\t5\\t1\\t2\\t2\\t1\\t2\\t3\\t3\\t4\\t4\\t5\\t4\\t5\\t4\\t4\\t2\\t3\\t3\\t5\\t3\\t4\\t2\\t1\\t2\\t1\\t4\\t4\\t3\\t4\\t3\\t4\\t3\\t4\\t2\\t3\\t2\\t46\\t2\\t87\\tNZ\\t1\\t1826                                                      "
      ]
     },
     "execution_count": 6,
     "metadata": {},
     "output_type": "execute_result"
    }
   ],
   "source": [
    "raw_test.head()"
   ]
  },
  {
   "cell_type": "code",
   "execution_count": 8,
   "metadata": {},
   "outputs": [],
   "source": [
    "import re\n",
    "import requests\n",
    "import bs4\n",
    "from bs4 import BeautifulSoup\n",
    "import pandas as pd\n",
    "from tqdm import tqdm_notebook"
   ]
  },
  {
   "cell_type": "code",
   "execution_count": null,
   "metadata": {},
   "outputs": [],
   "source": [
    "def extract_type(result):\n",
    "    try:\n",
    "        return result.find('div', attrs={'class':'popupmenu memberaction'}).text.strip()\n",
    "    except:\n",
    "        np.nan\n",
    "        \n",
    "def extract_comment(result):\n",
    "    try:\n",
    "        return result.find('a', attrs={'class':'jobtitle', 'data-tn-element':'jobTitle'}).text.strip()\n",
    "    except:\n",
    "        np.nan"
   ]
  },
  {
   "cell_type": "code",
   "execution_count": null,
   "metadata": {
    "code_folding": [
     8
    ]
   },
   "outputs": [],
   "source": [
    "URL='https://www.personalitycafe.com/intj-forum-scientists/1085890-intj-lounge-intjs-only-please-12.html'\n",
    "\n",
    "mbti_type = []\n",
    "comment = []\n",
    "\n",
    "r = requests.get(url=URLS)\n",
    "soup = BeautifulSoup(r.text, 'html.parser')\n",
    "\n",
    "for posting in soup.find_all('div', attrs={'id':'postlist', 'class':'postlist restrain'}):\n",
    "    title.append(extract_title_from_result(posting))\n",
    "    company.append(extract_company_from_result(posting))\n",
    "    rating.append(extract_rating_from_result(posting))\n",
    "    search_city.append(city)\n",
    "    location.append(extract_location_from_result(posting))\n",
    "    salary.append(extract_salary_from_result(posting))\n",
    "    age.append(extract_date_from_result(posting))\n",
    "    summary.append(extract_summary_from_result(posting))\n",
    "    \n",
    "job_city_df = pd.DataFrame(dict(title=title,company=company,rating=rating,search_city=search_city,\n",
    "                            location=location,salary=salary,age=age,summary=summary))"
   ]
  },
  {
   "cell_type": "code",
   "execution_count": null,
   "metadata": {
    "code_folding": [
     4
    ]
   },
   "outputs": [],
   "source": [
    "max_results_per_city = 5000\n",
    "job_city = {}\n",
    "run_count = 0\n",
    "\n",
    "for city in set(['New+York', 'Chicago', 'San+Francisco', 'Austin', 'Seattle', 'Los+Angeles', 'Philadelphia',\n",
    "                 'Atlanta', 'Dallas', 'Pittsburgh', 'Portland', 'Phoenix', 'Denver', 'Houston',\n",
    "                 'Miami'] + UK_CITY):\n",
    "    \n",
    "    title = []\n",
    "    company = []\n",
    "    rating = []\n",
    "    search_city = []\n",
    "    location = []\n",
    "    salary = []\n",
    "    age = []\n",
    "    summary = []\n",
    "    \n",
    "    run_count+=1\n",
    "    print('Searching City number: ', run_count)\n",
    "\n",
    "    for occupation in set(['data scientist', 'data analyst', 'data analytics', 'data engineer',\n",
    "                           'business intelligence', 'machine learning', 'artificial intelligence']): \n",
    "        old_page = 0\n",
    "        print('Running: ', str(city),' & ',str(occupation))\n",
    "\n",
    "        for page in tqdm_notebook(range(0, max_results_per_city, 10)):\n",
    "            if city in UK_CITY:\n",
    "                URL = \"http://www.indeed.co.uk/jobs?\"\n",
    "                PARAMS = dict(as_phr=str(occupation), l=city, start=page)\n",
    "            else:\n",
    "                URL = \"http://www.indeed.com/jobs?\"\n",
    "                PARAMS = dict(as_phr=str(occupation), l=city, start=page)\n",
    "\n",
    "            r = requests.get(url=URL, params=PARAMS)\n",
    "            soup = BeautifulSoup(r.text, 'html.parser')\n",
    "\n",
    "            if soup.find('div', attrs={'id':'searchCountPages'}) == None:\n",
    "                break\n",
    "            else:\n",
    "                new_page = int(re.findall(re.compile(r'\\w+'), soup.find('div', attrs={'id':'searchCountPages'}).text.strip('\\n'))[1])\n",
    "\n",
    "                if new_page > old_page:\n",
    "                    old_page = new_page\n",
    "                    for posting in soup.find_all('div', attrs={'class':'result'}):\n",
    "                        title.append(extract_title_from_result(posting))\n",
    "                        company.append(extract_company_from_result(posting))\n",
    "                        rating.append(extract_rating_from_result(posting))\n",
    "                        search_city.append(city)\n",
    "                        location.append(extract_location_from_result(posting))\n",
    "                        salary.append(extract_salary_from_result(posting))\n",
    "                        age.append(extract_date_from_result(posting))\n",
    "                        summary.append(extract_summary_from_result(posting))\n",
    "                else:\n",
    "                    break\n",
    "\n",
    "    # creating a df for that city's results and writing it to [insert city].csv...\n",
    "    job_city_df = pd.DataFrame(dict(title=title,company=company,rating=rating,search_city=search_city,\n",
    "                                    location=location,salary=salary,age=age,summary=summary))\n",
    "    job_city_df.to_csv(str(city)+'.csv', index=False)\n",
    "    \n",
    "print('FINISHED')"
   ]
  },
  {
   "cell_type": "code",
   "execution_count": null,
   "metadata": {},
   "outputs": [],
   "source": []
  }
 ],
 "metadata": {
  "kernelspec": {
   "display_name": "Python 3",
   "language": "python",
   "name": "python3"
  },
  "language_info": {
   "codemirror_mode": {
    "name": "ipython",
    "version": 3
   },
   "file_extension": ".py",
   "mimetype": "text/x-python",
   "name": "python",
   "nbconvert_exporter": "python",
   "pygments_lexer": "ipython3",
   "version": "3.7.3"
  },
  "toc": {
   "base_numbering": 1,
   "nav_menu": {},
   "number_sections": true,
   "sideBar": true,
   "skip_h1_title": false,
   "title_cell": "Table of Contents",
   "title_sidebar": "Contents",
   "toc_cell": false,
   "toc_position": {},
   "toc_section_display": true,
   "toc_window_display": false
  },
  "varInspector": {
   "cols": {
    "lenName": 16,
    "lenType": 16,
    "lenVar": 40
   },
   "kernels_config": {
    "python": {
     "delete_cmd_postfix": "",
     "delete_cmd_prefix": "del ",
     "library": "var_list.py",
     "varRefreshCmd": "print(var_dic_list())"
    },
    "r": {
     "delete_cmd_postfix": ") ",
     "delete_cmd_prefix": "rm(",
     "library": "var_list.r",
     "varRefreshCmd": "cat(var_dic_list()) "
    }
   },
   "types_to_exclude": [
    "module",
    "function",
    "builtin_function_or_method",
    "instance",
    "_Feature"
   ],
   "window_display": false
  }
 },
 "nbformat": 4,
 "nbformat_minor": 2
}
