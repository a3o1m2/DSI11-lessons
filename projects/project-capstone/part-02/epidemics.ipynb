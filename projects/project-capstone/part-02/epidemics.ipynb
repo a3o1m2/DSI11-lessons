{
 "cells": [
  {
   "cell_type": "markdown",
   "metadata": {},
   "source": [
    "# Capstone: Epidemic propagation"
   ]
  },
  {
   "cell_type": "markdown",
   "metadata": {},
   "source": [
    "## Objectives\n",
    "Can you run a simple spatial-temporal clustering of recent historic epidemics, and can this give you the next epidemics?\n",
    "\n",
    "Can you pull in some main socio-economic features of the centroids of these clusters and run PCA to see the commonalities across these. What do we predict through this?\n",
    "\n",
    "Can you include propagation of epidemics and see how they spread?\n",
    "\n",
    "Therefore... \n",
    "Is the Coronavirus predictable?\n",
    "Where's the next one, and how will that spread?\n",
    "    \n",
    "## Data required:\n",
    "1. List of all recent epidemics (with location and year), including: SARS, Coronavirus, MERS, Ebola, Zika, Bird Flu\n",
    "2. Socio-economic data for each virus: Long / Lat, Population, Development index, cleanliness etc.?\n",
    "3. Epidemic propagation: airport traffic at each infected city, volume of travel between cities affected"
   ]
  },
  {
   "cell_type": "code",
   "execution_count": 1,
   "metadata": {},
   "outputs": [],
   "source": [
    "import pandas as pd\n",
    "import glob\n",
    "import os\n",
    "pd.set_option('display.max_rows',100, 'display.max_columns',100, 'display.max_colwidth',1000)"
   ]
  },
  {
   "cell_type": "code",
   "execution_count": null,
   "metadata": {
    "code_folding": [
     0
    ]
   },
   "outputs": [],
   "source": [
    "# Epidemics list:\n",
    "\n",
    "epidemics_list = pd.read_csv('epidemics_list.csv')\n",
    "\n",
    "epi_interest = ['SARS coronavirus',\n",
    "                'Ebola',\n",
    "                'Middle East respiratory disease',\n",
    "                'Zika virus',\n",
    "                'Novel coronavirus (2019-nCoV)']\n",
    "\n",
    "# what do I want for each?\n",
    "# date, city, country, long/lat, no. confirmed cases\n",
    "epidemics_list.Disease.unique()\n",
    "epidemics_list[epidemics_list['Disease'].isin(['Ebola','Ebola virus disease\\n\\nEbola virus virion'])]\n",
    "epidemics_list[epidemics_list['Disease'].isin(['SARS coronavirus'])]"
   ]
  },
  {
   "cell_type": "code",
   "execution_count": null,
   "metadata": {
    "code_folding": [
     0
    ]
   },
   "outputs": [],
   "source": [
    "# Ebola (old):\n",
    "ebola = pd.read_csv('ebola_data.csv')\n",
    "ebola['Date'] = pd.to_datetime(ebola['Date'])\n",
    "ebola['Country'] = ['Guinea' if row=='Guinea 2' else 'Liberia' if row=='Liberia 2' else row for row in ebola.Country]\n",
    "ebola.groupby(['Indicator','Country','Date']).sum()\n",
    "ebola.sort_values('Date', inplace=True)\n",
    "ebola.reset_index(drop=True)\n",
    "ebola[(ebola['Indicator']=='Cumulative number of confirmed Ebola cases') & (ebola['Country']=='Sierra Leone')]"
   ]
  },
  {
   "cell_type": "code",
   "execution_count": 2,
   "metadata": {},
   "outputs": [
    {
     "name": "stderr",
     "output_type": "stream",
     "text": [
      "/Users/Noah/anaconda3/lib/python3.7/site-packages/ipykernel_launcher.py:10: FutureWarning: Sorting because non-concatenation axis is not aligned. A future version\n",
      "of pandas will change to not sort by default.\n",
      "\n",
      "To accept the future behavior, pass 'sort=False'.\n",
      "\n",
      "To retain the current behavior and silence the warning, pass 'sort=True'.\n",
      "\n",
      "  # Remove the CWD from sys.path while we load stuff.\n"
     ]
    }
   ],
   "source": [
    "# Ebola:\n",
    "path = r'ebola-master/sl_data'\n",
    "filenames = glob.glob(path + \"/*.csv\")\n",
    "\n",
    "inner = []\n",
    "\n",
    "for filename in filenames:\n",
    "    inner.append(pd.read_csv(filename, index_col=None, header=0))\n",
    "    \n",
    "ebola = pd.concat(inner, ignore_index=True)"
   ]
  },
  {
   "cell_type": "code",
   "execution_count": null,
   "metadata": {},
   "outputs": [],
   "source": [
    "# Data Cleaning:\n",
    "\n",
    "ebola = ebola[ebola['variable']!='percent_seen']\n",
    "ebola['date'] = pd.to_datetime(ebola['date'])\n",
    "ebola_cum = ebola[ebola['variable']=='cum_confirmed']\n",
    "ebola_cum.loc[:,'34 Military Hospital':'Western area urban'].replace({',': ''}, regex=True, inplace=True).apply(pd.to_numeric)"
   ]
  },
  {
   "cell_type": "code",
   "execution_count": null,
   "metadata": {},
   "outputs": [],
   "source": [
    "ebola_cum.dtypes"
   ]
  },
  {
   "cell_type": "code",
   "execution_count": null,
   "metadata": {},
   "outputs": [],
   "source": [
    "ebola_cum.fillna(0).info()"
   ]
  },
  {
   "cell_type": "code",
   "execution_count": null,
   "metadata": {},
   "outputs": [],
   "source": []
  }
 ],
 "metadata": {
  "kernelspec": {
   "display_name": "Python 3",
   "language": "python",
   "name": "python3"
  },
  "language_info": {
   "codemirror_mode": {
    "name": "ipython",
    "version": 3
   },
   "file_extension": ".py",
   "mimetype": "text/x-python",
   "name": "python",
   "nbconvert_exporter": "python",
   "pygments_lexer": "ipython3",
   "version": "3.7.3"
  },
  "toc": {
   "base_numbering": 1,
   "nav_menu": {},
   "number_sections": true,
   "sideBar": true,
   "skip_h1_title": false,
   "title_cell": "Table of Contents",
   "title_sidebar": "Contents",
   "toc_cell": false,
   "toc_position": {},
   "toc_section_display": true,
   "toc_window_display": false
  },
  "varInspector": {
   "cols": {
    "lenName": 16,
    "lenType": 16,
    "lenVar": 40
   },
   "kernels_config": {
    "python": {
     "delete_cmd_postfix": "",
     "delete_cmd_prefix": "del ",
     "library": "var_list.py",
     "varRefreshCmd": "print(var_dic_list())"
    },
    "r": {
     "delete_cmd_postfix": ") ",
     "delete_cmd_prefix": "rm(",
     "library": "var_list.r",
     "varRefreshCmd": "cat(var_dic_list()) "
    }
   },
   "types_to_exclude": [
    "module",
    "function",
    "builtin_function_or_method",
    "instance",
    "_Feature"
   ],
   "window_display": false
  }
 },
 "nbformat": 4,
 "nbformat_minor": 2
}
