{
 "cells": [
  {
   "cell_type": "markdown",
   "metadata": {},
   "source": [
    "# Capstone: West Nile Virus Challenge\n",
    " \n",
    "West Nile virus is most commonly spread to humans through infected mosquitos. Around 20% of people who become infected with the virus develop symptoms ranging from a persistent fever, to serious neurological illnesses that can result in death.\n",
    "\n",
    "In 2002, the first human cases of West Nile virus were reported in Chicago. By 2004 the City of Chicago and the Chicago Department of Public Health (CDPH) had established a comprehensive surveillance and control program that is still in effect today.\n",
    "\n",
    "Every week from late spring through the fall, mosquitos in traps across the city are tested for the virus. The results of these tests influence when and where the city will spray airborne pesticides to control adult mosquito populations.\n",
    "\n",
    "Given weather, location, testing, and spraying data, we are asked to predict when and where different species of mosquitos will test positive for West Nile virus. A more accurate method of predicting outbreaks of West Nile virus in mosquitos will help the City of Chicago and CPHD more efficiently and effectively allocate resources towards preventing transmission of this potentially deadly virus."
   ]
  },
  {
   "cell_type": "code",
   "execution_count": 1,
   "metadata": {
    "ExecuteTime": {
     "end_time": "2020-03-04T22:04:36.996068Z",
     "start_time": "2020-03-04T22:04:26.634155Z"
    }
   },
   "outputs": [],
   "source": [
    "import pandas as pd\n",
    "import numpy as np\n",
    "import matplotlib.pyplot as plt\n",
    "import seaborn as sns\n",
    "%matplotlib inline\n",
    "\n",
    "pd.set_option('display.max_columns',1000)\n",
    "\n",
    "from sklearn.linear_model import LogisticRegression\n",
    "from sklearn.model_selection import train_test_split, cross_val_score, TimeSeriesSplit, StratifiedKFold, GridSearchCV\n",
    "from sklearn.preprocessing import StandardScaler, OrdinalEncoder, PowerTransformer\n",
    "from sklearn.metrics import confusion_matrix, classification_report, roc_curve, auc, precision_recall_curve, average_precision_score, make_scorer, accuracy_score, roc_auc_score\n",
    "from sklearn.tree import DecisionTreeClassifier\n",
    "from sklearn.neighbors import KNeighborsClassifier\n",
    "from sklearn.ensemble import BaggingClassifier, RandomForestClassifier, GradientBoostingClassifier, IsolationForest\n",
    "from sklearn import naive_bayes\n",
    "from sklearn.svm import SVC\n",
    "from imblearn.over_sampling import SMOTE, SMOTENC, RandomOverSampler\n",
    "from imblearn.pipeline import Pipeline, make_pipeline\n",
    "from sklearn.decomposition import PCA\n",
    "from statsmodels.graphics.tsaplots import plot_acf, plot_pacf\n",
    "from datetime import datetime\n",
    "from datetime import date\n",
    "\n",
    "import tensorflow as tf\n",
    "\n",
    "from six import StringIO\n",
    "from sklearn.tree import export_graphviz\n",
    "import pydotplus\n",
    "from IPython.display import display\n",
    "from IPython.display import Image\n",
    "\n",
    "import pickle\n",
    "from tkinter import Tk\n",
    "from tkinter.filedialog import askopenfilename\n",
    "\n",
    "import pylab as plt"
   ]
  },
  {
   "cell_type": "markdown",
   "metadata": {},
   "source": [
    "## Data Loading and Cleaning"
   ]
  },
  {
   "cell_type": "markdown",
   "metadata": {},
   "source": [
    "### Training and Test data:\n",
    "The training set consists of data from 2007, 2009, 2011, and 2013, while in the test set we are requested \n",
    "to predict the test results for 2008, 2010, 2012, and 2014."
   ]
  },
  {
   "cell_type": "code",
   "execution_count": 2,
   "metadata": {
    "ExecuteTime": {
     "end_time": "2020-03-04T22:04:37.332984Z",
     "start_time": "2020-03-04T22:04:37.000774Z"
    },
    "scrolled": false
   },
   "outputs": [
    {
     "data": {
      "text/html": [
       "<div>\n",
       "<style scoped>\n",
       "    .dataframe tbody tr th:only-of-type {\n",
       "        vertical-align: middle;\n",
       "    }\n",
       "\n",
       "    .dataframe tbody tr th {\n",
       "        vertical-align: top;\n",
       "    }\n",
       "\n",
       "    .dataframe thead th {\n",
       "        text-align: right;\n",
       "    }\n",
       "</style>\n",
       "<table border=\"1\" class=\"dataframe\">\n",
       "  <thead>\n",
       "    <tr style=\"text-align: right;\">\n",
       "      <th></th>\n",
       "      <th>Address</th>\n",
       "      <th>Species</th>\n",
       "      <th>Block</th>\n",
       "      <th>Street</th>\n",
       "      <th>Trap</th>\n",
       "      <th>AddressNumberAndStreet</th>\n",
       "      <th>Latitude</th>\n",
       "      <th>Longitude</th>\n",
       "      <th>AddressAccuracy</th>\n",
       "      <th>NumMosquitos</th>\n",
       "      <th>WnvPresent</th>\n",
       "    </tr>\n",
       "    <tr>\n",
       "      <th>Date</th>\n",
       "      <th></th>\n",
       "      <th></th>\n",
       "      <th></th>\n",
       "      <th></th>\n",
       "      <th></th>\n",
       "      <th></th>\n",
       "      <th></th>\n",
       "      <th></th>\n",
       "      <th></th>\n",
       "      <th></th>\n",
       "      <th></th>\n",
       "    </tr>\n",
       "  </thead>\n",
       "  <tbody>\n",
       "    <tr>\n",
       "      <th>2007-05-29</th>\n",
       "      <td>4100 North Oak Park Avenue, Chicago, IL 60634,...</td>\n",
       "      <td>CULEX PIPIENS/RESTUANS</td>\n",
       "      <td>41</td>\n",
       "      <td>N OAK PARK AVE</td>\n",
       "      <td>T002</td>\n",
       "      <td>4100  N OAK PARK AVE, Chicago, IL</td>\n",
       "      <td>41.95469</td>\n",
       "      <td>-87.800991</td>\n",
       "      <td>9</td>\n",
       "      <td>1</td>\n",
       "      <td>0</td>\n",
       "    </tr>\n",
       "  </tbody>\n",
       "</table>\n",
       "</div>"
      ],
      "text/plain": [
       "                                                      Address  \\\n",
       "Date                                                            \n",
       "2007-05-29  4100 North Oak Park Avenue, Chicago, IL 60634,...   \n",
       "\n",
       "                           Species  Block           Street  Trap  \\\n",
       "Date                                                               \n",
       "2007-05-29  CULEX PIPIENS/RESTUANS     41   N OAK PARK AVE  T002   \n",
       "\n",
       "                       AddressNumberAndStreet  Latitude  Longitude  \\\n",
       "Date                                                                 \n",
       "2007-05-29  4100  N OAK PARK AVE, Chicago, IL  41.95469 -87.800991   \n",
       "\n",
       "            AddressAccuracy  NumMosquitos  WnvPresent  \n",
       "Date                                                   \n",
       "2007-05-29                9             1           0  "
      ]
     },
     "execution_count": 2,
     "metadata": {},
     "output_type": "execute_result"
    }
   ],
   "source": [
    "train = pd.read_csv('./datasets/train.csv')\n",
    "\n",
    "# Make Date into datetime object, and index:\n",
    "train['Date'] = pd.to_datetime(train.Date, format='%Y-%m-%d')\n",
    "train.set_index('Date', inplace=True, drop=True)\n",
    "train.head(1)"
   ]
  },
  {
   "cell_type": "markdown",
   "metadata": {},
   "source": [
    "We make a note here of the baseline to be bettered through modelling:"
   ]
  },
  {
   "cell_type": "code",
   "execution_count": 3,
   "metadata": {
    "ExecuteTime": {
     "end_time": "2020-03-04T22:04:37.396528Z",
     "start_time": "2020-03-04T22:04:37.354448Z"
    }
   },
   "outputs": [
    {
     "name": "stdout",
     "output_type": "stream",
     "text": [
      "Baseline = 0.9475537787930707\n"
     ]
    },
    {
     "data": {
      "text/plain": [
       "0    9955\n",
       "1     551\n",
       "Name: WnvPresent, dtype: int64"
      ]
     },
     "execution_count": 3,
     "metadata": {},
     "output_type": "execute_result"
    }
   ],
   "source": [
    "print('Baseline = {}'.format(train.WnvPresent.value_counts(normalize=True).max()))\n",
    "train.WnvPresent.value_counts()\n",
    "\n",
    "# we can see clearly the problem: only 5% of those traps inspected carried Wnv, can we improve on this?\n",
    "# we also see a class imbalance here that will need to be resolved before modelling"
   ]
  },
  {
   "cell_type": "code",
   "execution_count": 4,
   "metadata": {
    "ExecuteTime": {
     "end_time": "2020-03-04T22:04:37.948752Z",
     "start_time": "2020-03-04T22:04:37.406825Z"
    },
    "scrolled": true
   },
   "outputs": [
    {
     "data": {
      "text/html": [
       "<div>\n",
       "<style scoped>\n",
       "    .dataframe tbody tr th:only-of-type {\n",
       "        vertical-align: middle;\n",
       "    }\n",
       "\n",
       "    .dataframe tbody tr th {\n",
       "        vertical-align: top;\n",
       "    }\n",
       "\n",
       "    .dataframe thead th {\n",
       "        text-align: right;\n",
       "    }\n",
       "</style>\n",
       "<table border=\"1\" class=\"dataframe\">\n",
       "  <thead>\n",
       "    <tr style=\"text-align: right;\">\n",
       "      <th></th>\n",
       "      <th>Id</th>\n",
       "      <th>Address</th>\n",
       "      <th>Species</th>\n",
       "      <th>Block</th>\n",
       "      <th>Street</th>\n",
       "      <th>Trap</th>\n",
       "      <th>AddressNumberAndStreet</th>\n",
       "      <th>Latitude</th>\n",
       "      <th>Longitude</th>\n",
       "      <th>AddressAccuracy</th>\n",
       "    </tr>\n",
       "    <tr>\n",
       "      <th>Date</th>\n",
       "      <th></th>\n",
       "      <th></th>\n",
       "      <th></th>\n",
       "      <th></th>\n",
       "      <th></th>\n",
       "      <th></th>\n",
       "      <th></th>\n",
       "      <th></th>\n",
       "      <th></th>\n",
       "      <th></th>\n",
       "    </tr>\n",
       "  </thead>\n",
       "  <tbody>\n",
       "    <tr>\n",
       "      <th>2008-06-11</th>\n",
       "      <td>1</td>\n",
       "      <td>4100 North Oak Park Avenue, Chicago, IL 60634,...</td>\n",
       "      <td>CULEX PIPIENS/RESTUANS</td>\n",
       "      <td>41</td>\n",
       "      <td>N OAK PARK AVE</td>\n",
       "      <td>T002</td>\n",
       "      <td>4100  N OAK PARK AVE, Chicago, IL</td>\n",
       "      <td>41.95469</td>\n",
       "      <td>-87.800991</td>\n",
       "      <td>9</td>\n",
       "    </tr>\n",
       "  </tbody>\n",
       "</table>\n",
       "</div>"
      ],
      "text/plain": [
       "            Id                                            Address  \\\n",
       "Date                                                                \n",
       "2008-06-11   1  4100 North Oak Park Avenue, Chicago, IL 60634,...   \n",
       "\n",
       "                           Species  Block           Street  Trap  \\\n",
       "Date                                                               \n",
       "2008-06-11  CULEX PIPIENS/RESTUANS     41   N OAK PARK AVE  T002   \n",
       "\n",
       "                       AddressNumberAndStreet  Latitude  Longitude  \\\n",
       "Date                                                                 \n",
       "2008-06-11  4100  N OAK PARK AVE, Chicago, IL  41.95469 -87.800991   \n",
       "\n",
       "            AddressAccuracy  \n",
       "Date                         \n",
       "2008-06-11                9  "
      ]
     },
     "execution_count": 4,
     "metadata": {},
     "output_type": "execute_result"
    }
   ],
   "source": [
    "test = pd.read_csv('./datasets/test.csv')\n",
    "# Make Date into datetime object, and index\n",
    "test['Date'] = pd.to_datetime(test.Date, format='%Y-%m-%d')\n",
    "test.set_index('Date', inplace=True, drop=True)\n",
    "test.head(1)"
   ]
  },
  {
   "cell_type": "markdown",
   "metadata": {},
   "source": [
    "### Weather Data:\n",
    "It is believed that hot and dry conditions are more favorable for West Nile virus than cold and wet. \n",
    "We are provided with the dataset from NOAA of the weather conditions of 2007 to 2014, during the months of\n",
    "the tests. \n",
    "    Station 1: CHICAGO O'HARE INTERNATIONAL AIRPORT Lat: 41.995 Lon: -87.933 Elev: 662 ft. above sea level\n",
    "    Station 2: CHICAGO MIDWAY INTL ARPT Lat: 41.786 Lon: -87.752 Elev: 612 ft. above sea level"
   ]
  },
  {
   "cell_type": "code",
   "execution_count": 5,
   "metadata": {
    "ExecuteTime": {
     "end_time": "2020-03-04T22:04:38.015171Z",
     "start_time": "2020-03-04T22:04:37.961952Z"
    }
   },
   "outputs": [],
   "source": [
    "weather = pd.read_csv('./datasets/weather.csv')"
   ]
  },
  {
   "cell_type": "code",
   "execution_count": 6,
   "metadata": {
    "ExecuteTime": {
     "end_time": "2020-03-04T22:04:38.047582Z",
     "start_time": "2020-03-04T22:04:38.030712Z"
    }
   },
   "outputs": [
    {
     "data": {
      "text/plain": [
       "Index(['Station', 'Date', 'Tmax', 'Tmin', 'Tavg', 'Depart', 'DewPoint',\n",
       "       'WetBulb', 'Heat', 'Cool', 'Sunrise', 'Sunset', 'CodeSum', 'Depth',\n",
       "       'Water1', 'SnowFall', 'PrecipTotal', 'StnPressure', 'SeaLevel',\n",
       "       'ResultSpeed', 'ResultDir', 'AvgSpeed'],\n",
       "      dtype='object')"
      ]
     },
     "execution_count": 6,
     "metadata": {},
     "output_type": "execute_result"
    }
   ],
   "source": [
    "weather.columns"
   ]
  },
  {
   "cell_type": "code",
   "execution_count": 7,
   "metadata": {
    "ExecuteTime": {
     "end_time": "2020-03-04T22:04:38.953053Z",
     "start_time": "2020-03-04T22:04:38.059852Z"
    },
    "scrolled": false
   },
   "outputs": [
    {
     "data": {
      "text/html": [
       "<div>\n",
       "<style scoped>\n",
       "    .dataframe tbody tr th:only-of-type {\n",
       "        vertical-align: middle;\n",
       "    }\n",
       "\n",
       "    .dataframe tbody tr th {\n",
       "        vertical-align: top;\n",
       "    }\n",
       "\n",
       "    .dataframe thead th {\n",
       "        text-align: right;\n",
       "    }\n",
       "</style>\n",
       "<table border=\"1\" class=\"dataframe\">\n",
       "  <thead>\n",
       "    <tr style=\"text-align: right;\">\n",
       "      <th></th>\n",
       "      <th>Station</th>\n",
       "      <th>Latitude</th>\n",
       "      <th>Longitude</th>\n",
       "      <th>Tmax</th>\n",
       "      <th>Tmin</th>\n",
       "      <th>Tavg</th>\n",
       "      <th>Depart</th>\n",
       "      <th>DewPoint</th>\n",
       "      <th>WetBulb</th>\n",
       "      <th>Heat</th>\n",
       "      <th>Cool</th>\n",
       "      <th>Sunrise</th>\n",
       "      <th>Sunset</th>\n",
       "      <th>CodeSum</th>\n",
       "      <th>Depth</th>\n",
       "      <th>Water1</th>\n",
       "      <th>SnowFall</th>\n",
       "      <th>PrecipTotal</th>\n",
       "      <th>StnPressure</th>\n",
       "      <th>SeaLevel</th>\n",
       "      <th>ResultSpeed</th>\n",
       "      <th>ResultDir</th>\n",
       "      <th>AvgSpeed</th>\n",
       "    </tr>\n",
       "    <tr>\n",
       "      <th>Date</th>\n",
       "      <th></th>\n",
       "      <th></th>\n",
       "      <th></th>\n",
       "      <th></th>\n",
       "      <th></th>\n",
       "      <th></th>\n",
       "      <th></th>\n",
       "      <th></th>\n",
       "      <th></th>\n",
       "      <th></th>\n",
       "      <th></th>\n",
       "      <th></th>\n",
       "      <th></th>\n",
       "      <th></th>\n",
       "      <th></th>\n",
       "      <th></th>\n",
       "      <th></th>\n",
       "      <th></th>\n",
       "      <th></th>\n",
       "      <th></th>\n",
       "      <th></th>\n",
       "      <th></th>\n",
       "      <th></th>\n",
       "    </tr>\n",
       "  </thead>\n",
       "  <tbody>\n",
       "    <tr>\n",
       "      <th>2007-05-01</th>\n",
       "      <td>1</td>\n",
       "      <td>41.995</td>\n",
       "      <td>-87.933</td>\n",
       "      <td>83</td>\n",
       "      <td>50</td>\n",
       "      <td>66.5</td>\n",
       "      <td>14</td>\n",
       "      <td>51</td>\n",
       "      <td>56</td>\n",
       "      <td>0</td>\n",
       "      <td>2</td>\n",
       "      <td>0448</td>\n",
       "      <td>1849</td>\n",
       "      <td></td>\n",
       "      <td>0</td>\n",
       "      <td>M</td>\n",
       "      <td>0.0</td>\n",
       "      <td>0.0</td>\n",
       "      <td>29.10</td>\n",
       "      <td>29.82</td>\n",
       "      <td>1.7</td>\n",
       "      <td>27</td>\n",
       "      <td>9.2</td>\n",
       "    </tr>\n",
       "  </tbody>\n",
       "</table>\n",
       "</div>"
      ],
      "text/plain": [
       "            Station  Latitude  Longitude  Tmax  Tmin  Tavg Depart  DewPoint  \\\n",
       "Date                                                                          \n",
       "2007-05-01        1    41.995    -87.933    83    50  66.5     14        51   \n",
       "\n",
       "           WetBulb Heat Cool Sunrise Sunset CodeSum Depth Water1 SnowFall  \\\n",
       "Date                                                                        \n",
       "2007-05-01      56    0    2    0448   1849             0      M      0.0   \n",
       "\n",
       "            PrecipTotal StnPressure SeaLevel  ResultSpeed  ResultDir AvgSpeed  \n",
       "Date                                                                           \n",
       "2007-05-01          0.0       29.10    29.82          1.7         27      9.2  "
      ]
     },
     "execution_count": 7,
     "metadata": {},
     "output_type": "execute_result"
    }
   ],
   "source": [
    "weather = pd.read_csv('./datasets/weather.csv')\n",
    "# Make Date into datetime object, and index\n",
    "weather['Date'] = pd.to_datetime(weather.Date, format='%Y-%m-%d')\n",
    "weather.set_index('Date', inplace=True, drop=True)\n",
    "\n",
    "# Data Cleaning:\n",
    "weather['Tavg'] = pd.to_numeric(weather.apply(lambda x: (x['Tmin']+x['Tmax'])/2, axis=1))\n",
    "weather['PrecipTotal'] = pd.to_numeric(weather.apply(lambda x: 0 if x['PrecipTotal']=='  T' or x['PrecipTotal']=='M' else x['PrecipTotal'], axis=1))\n",
    "\n",
    "\n",
    "# Add Long / Lat:\n",
    "weather.insert(1,'Latitude', weather.apply(lambda x: 41.995 if x['Station']==1 else 41.786, axis=1))\n",
    "weather.insert(2,'Longitude', weather.apply(lambda x: -87.933 if x['Station']==1 else -87.752, axis=1))\n",
    "\n",
    "weather.head(1)"
   ]
  },
  {
   "cell_type": "code",
   "execution_count": 8,
   "metadata": {
    "ExecuteTime": {
     "end_time": "2020-03-04T22:04:39.276522Z",
     "start_time": "2020-03-04T22:04:39.035736Z"
    },
    "scrolled": true
   },
   "outputs": [
    {
     "data": {
      "text/html": [
       "<div>\n",
       "<style scoped>\n",
       "    .dataframe tbody tr th:only-of-type {\n",
       "        vertical-align: middle;\n",
       "    }\n",
       "\n",
       "    .dataframe tbody tr th {\n",
       "        vertical-align: top;\n",
       "    }\n",
       "\n",
       "    .dataframe thead th {\n",
       "        text-align: right;\n",
       "    }\n",
       "</style>\n",
       "<table border=\"1\" class=\"dataframe\">\n",
       "  <thead>\n",
       "    <tr style=\"text-align: right;\">\n",
       "      <th></th>\n",
       "      <th>Station_station_1</th>\n",
       "      <th>Latitude_station_1</th>\n",
       "      <th>Longitude_station_1</th>\n",
       "      <th>Tmax_station_1</th>\n",
       "      <th>Tmin_station_1</th>\n",
       "      <th>Tavg_station_1</th>\n",
       "      <th>Depart_station_1</th>\n",
       "      <th>DewPoint_station_1</th>\n",
       "      <th>WetBulb_station_1</th>\n",
       "      <th>Heat_station_1</th>\n",
       "      <th>Cool_station_1</th>\n",
       "      <th>Sunrise_station_1</th>\n",
       "      <th>Sunset_station_1</th>\n",
       "      <th>CodeSum_station_1</th>\n",
       "      <th>Depth_station_1</th>\n",
       "      <th>Water1_station_1</th>\n",
       "      <th>SnowFall_station_1</th>\n",
       "      <th>PrecipTotal_station_1</th>\n",
       "      <th>StnPressure_station_1</th>\n",
       "      <th>SeaLevel_station_1</th>\n",
       "      <th>ResultSpeed_station_1</th>\n",
       "      <th>ResultDir_station_1</th>\n",
       "      <th>AvgSpeed_station_1</th>\n",
       "      <th>Station_station_2</th>\n",
       "      <th>Latitude_station_2</th>\n",
       "      <th>Longitude_station_2</th>\n",
       "      <th>Tmax_station_2</th>\n",
       "      <th>Tmin_station_2</th>\n",
       "      <th>Tavg_station_2</th>\n",
       "      <th>Depart_station_2</th>\n",
       "      <th>DewPoint_station_2</th>\n",
       "      <th>WetBulb_station_2</th>\n",
       "      <th>Heat_station_2</th>\n",
       "      <th>Cool_station_2</th>\n",
       "      <th>Sunrise_station_2</th>\n",
       "      <th>Sunset_station_2</th>\n",
       "      <th>CodeSum_station_2</th>\n",
       "      <th>Depth_station_2</th>\n",
       "      <th>Water1_station_2</th>\n",
       "      <th>SnowFall_station_2</th>\n",
       "      <th>PrecipTotal_station_2</th>\n",
       "      <th>StnPressure_station_2</th>\n",
       "      <th>SeaLevel_station_2</th>\n",
       "      <th>ResultSpeed_station_2</th>\n",
       "      <th>ResultDir_station_2</th>\n",
       "      <th>AvgSpeed_station_2</th>\n",
       "    </tr>\n",
       "    <tr>\n",
       "      <th>Date</th>\n",
       "      <th></th>\n",
       "      <th></th>\n",
       "      <th></th>\n",
       "      <th></th>\n",
       "      <th></th>\n",
       "      <th></th>\n",
       "      <th></th>\n",
       "      <th></th>\n",
       "      <th></th>\n",
       "      <th></th>\n",
       "      <th></th>\n",
       "      <th></th>\n",
       "      <th></th>\n",
       "      <th></th>\n",
       "      <th></th>\n",
       "      <th></th>\n",
       "      <th></th>\n",
       "      <th></th>\n",
       "      <th></th>\n",
       "      <th></th>\n",
       "      <th></th>\n",
       "      <th></th>\n",
       "      <th></th>\n",
       "      <th></th>\n",
       "      <th></th>\n",
       "      <th></th>\n",
       "      <th></th>\n",
       "      <th></th>\n",
       "      <th></th>\n",
       "      <th></th>\n",
       "      <th></th>\n",
       "      <th></th>\n",
       "      <th></th>\n",
       "      <th></th>\n",
       "      <th></th>\n",
       "      <th></th>\n",
       "      <th></th>\n",
       "      <th></th>\n",
       "      <th></th>\n",
       "      <th></th>\n",
       "      <th></th>\n",
       "      <th></th>\n",
       "      <th></th>\n",
       "      <th></th>\n",
       "      <th></th>\n",
       "      <th></th>\n",
       "    </tr>\n",
       "  </thead>\n",
       "  <tbody>\n",
       "    <tr>\n",
       "      <th>2007-05-01</th>\n",
       "      <td>1</td>\n",
       "      <td>41.995</td>\n",
       "      <td>-87.933</td>\n",
       "      <td>83</td>\n",
       "      <td>50</td>\n",
       "      <td>66.5</td>\n",
       "      <td>14</td>\n",
       "      <td>51</td>\n",
       "      <td>56</td>\n",
       "      <td>0</td>\n",
       "      <td>2</td>\n",
       "      <td>0448</td>\n",
       "      <td>1849</td>\n",
       "      <td></td>\n",
       "      <td>0</td>\n",
       "      <td>M</td>\n",
       "      <td>0.0</td>\n",
       "      <td>0.0</td>\n",
       "      <td>29.10</td>\n",
       "      <td>29.82</td>\n",
       "      <td>1.7</td>\n",
       "      <td>27</td>\n",
       "      <td>9.2</td>\n",
       "      <td>2</td>\n",
       "      <td>41.786</td>\n",
       "      <td>-87.752</td>\n",
       "      <td>84</td>\n",
       "      <td>52</td>\n",
       "      <td>68.0</td>\n",
       "      <td>M</td>\n",
       "      <td>51</td>\n",
       "      <td>57</td>\n",
       "      <td>0</td>\n",
       "      <td>3</td>\n",
       "      <td>-</td>\n",
       "      <td>-</td>\n",
       "      <td></td>\n",
       "      <td>M</td>\n",
       "      <td>M</td>\n",
       "      <td>M</td>\n",
       "      <td>0.0</td>\n",
       "      <td>29.18</td>\n",
       "      <td>29.82</td>\n",
       "      <td>2.7</td>\n",
       "      <td>25</td>\n",
       "      <td>9.6</td>\n",
       "    </tr>\n",
       "  </tbody>\n",
       "</table>\n",
       "</div>"
      ],
      "text/plain": [
       "            Station_station_1  Latitude_station_1  Longitude_station_1  \\\n",
       "Date                                                                     \n",
       "2007-05-01                  1              41.995              -87.933   \n",
       "\n",
       "            Tmax_station_1  Tmin_station_1  Tavg_station_1 Depart_station_1  \\\n",
       "Date                                                                          \n",
       "2007-05-01              83              50            66.5               14   \n",
       "\n",
       "            DewPoint_station_1 WetBulb_station_1 Heat_station_1  \\\n",
       "Date                                                              \n",
       "2007-05-01                  51                56              0   \n",
       "\n",
       "           Cool_station_1 Sunrise_station_1 Sunset_station_1  \\\n",
       "Date                                                           \n",
       "2007-05-01              2              0448             1849   \n",
       "\n",
       "           CodeSum_station_1 Depth_station_1 Water1_station_1  \\\n",
       "Date                                                            \n",
       "2007-05-01                                 0                M   \n",
       "\n",
       "           SnowFall_station_1  PrecipTotal_station_1 StnPressure_station_1  \\\n",
       "Date                                                                         \n",
       "2007-05-01                0.0                    0.0                 29.10   \n",
       "\n",
       "           SeaLevel_station_1  ResultSpeed_station_1  ResultDir_station_1  \\\n",
       "Date                                                                        \n",
       "2007-05-01              29.82                    1.7                   27   \n",
       "\n",
       "           AvgSpeed_station_1  Station_station_2  Latitude_station_2  \\\n",
       "Date                                                                   \n",
       "2007-05-01                9.2                  2              41.786   \n",
       "\n",
       "            Longitude_station_2  Tmax_station_2  Tmin_station_2  \\\n",
       "Date                                                              \n",
       "2007-05-01              -87.752              84              52   \n",
       "\n",
       "            Tavg_station_2 Depart_station_2  DewPoint_station_2  \\\n",
       "Date                                                              \n",
       "2007-05-01            68.0                M                  51   \n",
       "\n",
       "           WetBulb_station_2 Heat_station_2 Cool_station_2 Sunrise_station_2  \\\n",
       "Date                                                                           \n",
       "2007-05-01                57              0              3                 -   \n",
       "\n",
       "           Sunset_station_2 CodeSum_station_2 Depth_station_2  \\\n",
       "Date                                                            \n",
       "2007-05-01                -                                 M   \n",
       "\n",
       "           Water1_station_2 SnowFall_station_2  PrecipTotal_station_2  \\\n",
       "Date                                                                    \n",
       "2007-05-01                M                  M                    0.0   \n",
       "\n",
       "           StnPressure_station_2 SeaLevel_station_2  ResultSpeed_station_2  \\\n",
       "Date                                                                         \n",
       "2007-05-01                 29.18              29.82                    2.7   \n",
       "\n",
       "            ResultDir_station_2 AvgSpeed_station_2  \n",
       "Date                                                \n",
       "2007-05-01                   25                9.6  "
      ]
     },
     "execution_count": 8,
     "metadata": {},
     "output_type": "execute_result"
    }
   ],
   "source": [
    "# Reformatting weather data into flattened version for merging with train data:\n",
    "weather_station_1 = weather[weather['Station']==1]\n",
    "weather_station_2 = weather[weather['Station']==2]\n",
    "\n",
    "weather_df = weather_station_1.merge(weather_station_2,\n",
    "                                     how='inner',\n",
    "                                     on='Date',\n",
    "                                     suffixes=('_station_1','_station_2'))\n",
    "\n",
    "weather_df.head(1)"
   ]
  },
  {
   "cell_type": "markdown",
   "metadata": {},
   "source": [
    "#### PCA\n",
    "Many weather features to comprehend, some of which are highly correlated as evidenced by the heatmap.\n",
    "We will use the cumulated explained_variance_ratio to test this"
   ]
  },
  {
   "cell_type": "code",
   "execution_count": 9,
   "metadata": {
    "ExecuteTime": {
     "end_time": "2020-03-04T22:04:40.136306Z",
     "start_time": "2020-03-04T22:04:39.295431Z"
    }
   },
   "outputs": [
    {
     "data": {
      "image/png": "[encoded data removed]",
      "text/plain": [
       "<Figure size 432x288 with 2 Axes>"
      ]
     },
     "metadata": {
      "needs_background": "light"
     },
     "output_type": "display_data"
    }
   ],
   "source": [
    "# Prepare a weather_pca dataframe with string dtypes converted to numeric, and standardise:\n",
    "weather_pca = weather_df.drop(columns=['Station_station_1','Station_station_2',\n",
    "                                       'Latitude_station_1','Longitude_station_1',\n",
    "                                       'Latitude_station_2','Longitude_station_2',\n",
    "                                       'Depth_station_1','Water1_station_1',\n",
    "                                       'Depth_station_2','Water1_station_2',\n",
    "                                       'Sunrise_station_1','Sunset_station_1',\n",
    "                                       'Sunrise_station_2','Sunset_station_2',\n",
    "                                       'Depart_station_1','Depart_station_2',\n",
    "                                       'SnowFall_station_1','SnowFall_station_2',\n",
    "                                       'CodeSum_station_1','CodeSum_station_2']).replace({'M':0,'  T':0, '-':0}).apply(pd.to_numeric)\n",
    "scaler = StandardScaler()\n",
    "weather_pca = pd.DataFrame(scaler.fit_transform(weather_pca), columns=weather_pca.columns)\n",
    "\n",
    "# Check heatmap for any correlations that would be helped with PCA:\n",
    "sns.heatmap(weather_pca.corr(), vmin=-1, vmax=1);"
   ]
  },
  {
   "cell_type": "code",
   "execution_count": 10,
   "metadata": {
    "ExecuteTime": {
     "end_time": "2020-03-04T22:04:40.721477Z",
     "start_time": "2020-03-04T22:04:40.142988Z"
    }
   },
   "outputs": [
    {
     "data": {
      "image/png": "[encoded data removed]",
      "text/plain": [
       "<Figure size 432x288 with 1 Axes>"
      ]
     },
     "metadata": {
      "needs_background": "light"
     },
     "output_type": "display_data"
    }
   ],
   "source": [
    "# Fit PCA model and assess:\n",
    "pca = PCA()\n",
    "pca.fit(weather_pca)\n",
    "\n",
    "# Plot the explained_variance_ratio_\n",
    "x_values = list(range(1, pca.n_components_+1))\n",
    "plt.plot(x_values, pca.explained_variance_ratio_)\n",
    "plt.scatter(x_values, pca.explained_variance_ratio_)\n",
    "plt.plot(x_values, np.cumsum(pca.explained_variance_ratio_))\n",
    "plt.scatter(x_values, np.cumsum(pca.explained_variance_ratio_))\n",
    "plt.title('Explained variance')\n",
    "plt.xlabel('Principal Component')\n",
    "plt.ylabel('Variance Explained (%)')\n",
    "plt.show()"
   ]
  },
  {
   "cell_type": "code",
   "execution_count": 11,
   "metadata": {
    "ExecuteTime": {
     "end_time": "2020-03-04T22:04:42.029646Z",
     "start_time": "2020-03-04T22:04:40.725701Z"
    }
   },
   "outputs": [
    {
     "data": {
      "image/png": "[encoded data removed]",
      "text/plain": [
       "<Figure size 720x432 with 2 Axes>"
      ]
     },
     "metadata": {
      "needs_background": "light"
     },
     "output_type": "display_data"
    }
   ],
   "source": [
    "weather_dict = {'weather_PC'+str(i+1): pca.components_[i] for i in range(len(pca.components_))}\n",
    "weather_pca_df = pd.DataFrame(weather_dict, index=weather_pca.columns)\n",
    "\n",
    "weather_pcs = pd.DataFrame(pca.transform(weather_pca),\n",
    "                           columns=['weather_PC'+str(i+1) for i in range(len(weather_pca.columns))],\n",
    "                           index=weather_df.index)\n",
    "plt.figure(figsize=(10,6))\n",
    "sns.heatmap(weather_pca_df, vmin=-1, vmax=1, );"
   ]
  },
  {
   "cell_type": "markdown",
   "metadata": {},
   "source": [
    "### Spray Data\n",
    "\n",
    "The City of Chicago also does spraying to kill mosquitos. We are given the GIS data for their spray efforts\n",
    "in 2011 and 2013. Spraying can reduce the number of mosquitos in the area, and therefore might eliminate the appearance of West Nile virus."
   ]
  },
  {
   "cell_type": "code",
   "execution_count": 12,
   "metadata": {
    "ExecuteTime": {
     "end_time": "2020-03-04T22:04:44.590840Z",
     "start_time": "2020-03-04T22:04:42.040444Z"
    },
    "scrolled": true
   },
   "outputs": [],
   "source": [
    "spray = pd.read_csv('./datasets/spray.csv')\n",
    "spray['Time'] = spray['Time'].fillna(value=spray.mode().Time[0])\n",
    "spray['DateTime'] = spray.apply(lambda x: str(x['Date'])+' '+str(x['Time']), axis=1)\n",
    "spray['DateTime'] = spray.apply(lambda x: datetime.strptime(str(x['DateTime']), '%Y-%m-%d %I:%M:%S %p'), axis=1)\n",
    "spray['Date'] = spray.apply(lambda x: datetime.strptime(str(x['Date']), '%Y-%m-%d'), axis=1)\n",
    "spray['Latitude2'] = np.round(spray.Latitude,2)\n",
    "spray['Longitude2'] = np.round(spray.Longitude,2)\n",
    "spray.set_index('DateTime', inplace=True, drop=True)\n",
    "spray_df = spray.drop_duplicates(subset=['Date','Latitude2','Longitude2'])"
   ]
  },
  {
   "cell_type": "markdown",
   "metadata": {},
   "source": [
    "## EDA: visualise and analyse data"
   ]
  },
  {
   "cell_type": "markdown",
   "metadata": {},
   "source": [
    "### Prepare train, test dataframes"
   ]
  },
  {
   "cell_type": "code",
   "execution_count": 13,
   "metadata": {
    "ExecuteTime": {
     "end_time": "2020-03-04T22:04:46.343110Z",
     "start_time": "2020-03-04T22:04:44.594910Z"
    }
   },
   "outputs": [],
   "source": [
    "# Merging weather data onto train,test data:\n",
    "train_df = train.merge(weather_df, how='left', on='Date', suffixes=('',''))\n",
    "test_df = test.merge(weather_df, how='left', on='Date', suffixes=('',''))\n",
    "# Merging weather_pcs data onto train,test data:\n",
    "train_df = train_df.merge(weather_pcs, how='left', on='Date', suffixes=('',''))\n",
    "test_df = test_df.merge(weather_pcs, how='left', on='Date', suffixes=('',''))\n",
    "# Merging spray data onto train,test data:\n",
    "    # Creating approx. lat,lon co-ordinates to match spray_df\n",
    "train_df['Latitude2'] = np.round(train_df.Latitude,2)\n",
    "train_df['Longitude2'] = np.round(train_df.Longitude,2)\n",
    "test_df['Latitude2'] = np.round(test_df.Latitude,2)\n",
    "test_df['Longitude2'] = np.round(test_df.Longitude,2)\n",
    "    # Merge with spray_df\n",
    "train_df = train_df.merge(spray_df, how='left', on=['Date','Latitude2','Longitude2'], suffixes=('','_spray'))\n",
    "train_df['isSpray'] = [0 if x==0 else 1 for x in train_df.Time.fillna(value=0)]\n",
    "train_df.set_index('Date', inplace=True, drop=True)\n",
    "test_df = test_df.merge(spray_df, how='left', on=['Date','Latitude2','Longitude2'], suffixes=('','_spray'))\n",
    "test_df['isSpray'] = [0 if x==0 else 1 for x in test_df.Time.fillna(value=0)]\n",
    "test_df.set_index('Date', inplace=True, drop=True)"
   ]
  },
  {
   "cell_type": "markdown",
   "metadata": {},
   "source": [
    "### Autocorrelation: investigating seasonality\n",
    "Plotting Partial Autocorrelation for number of mosquitos found in traps shows little seasonal effects that can be leveraged in predictions"
   ]
  },
  {
   "cell_type": "code",
   "execution_count": null,
   "metadata": {
    "ExecuteTime": {
     "end_time": "2020-03-03T22:47:28.121528Z",
     "start_time": "2020-03-03T22:47:11.161608Z"
    }
   },
   "outputs": [],
   "source": [
    "fig, ax = plt.subplots(nrows=1, ncols=3, figsize=(16,5))\n",
    "\n",
    "weather_df['Tavg_station_1'].plot(ax=ax[0], title='Temperature time series')\n",
    "plot_acf(train_df['NumMosquitos'], lags=700, ax=ax[1])\n",
    "plot_pacf(train_df['NumMosquitos'], lags=700, ax=ax[2])\n",
    "\n",
    "plt.tight_layout()\n",
    "plt.show()"
   ]
  },
  {
   "cell_type": "markdown",
   "metadata": {},
   "source": [
    "### Scatter plots"
   ]
  },
  {
   "cell_type": "code",
   "execution_count": 43,
   "metadata": {
    "ExecuteTime": {
     "end_time": "2020-03-04T23:41:31.443495Z",
     "start_time": "2020-03-04T23:41:30.075226Z"
    }
   },
   "outputs": [
    {
     "data": {
      "image/png": "[encoded data removed]",
      "text/plain": [
       "<Figure size 1008x432 with 2 Axes>"
      ]
     },
     "metadata": {
      "needs_background": "dark"
     },
     "output_type": "display_data"
    }
   ],
   "source": [
    "train_month_grp = train.groupby(train.index.month_name()).agg({'WnvPresent':'sum',\n",
    "                                                        'NumMosquitos': 'sum'}).sort_values('WnvPresent',\n",
    "                                                                                            ascending=False)\n",
    "\n",
    "fig, ax = plt.subplots(ncols=2, figsize=(14,6))\n",
    "\n",
    "ax[0].scatter(train_month_grp['NumMosquitos'], train_month_grp['WnvPresent'], c='b');\n",
    "for i, xi in enumerate(train_month_grp.index):\n",
    "    ax[0].annotate(xi, (train_month_grp.iloc[i,1], train_month_grp.iloc[i,0]), fontsize=14, c='k')\n",
    "ax[0].set_xlabel('NumMosquitos:sum', fontsize=14)\n",
    "ax[0].set_ylabel('WnvPresent:sum', fontsize=14)\n",
    "ax[0].set_title('Months with highest Wnv incidence', fontsize=18)\n",
    "ax[0].xaxis.label.set_color('white')\n",
    "ax[0].yaxis.label.set_color('white')\n",
    "ax[0].tick_params(axis='x', colors='white')\n",
    "ax[0].tick_params(axis='y', colors='white')\n",
    "ax[0].title.set_color('white')\n",
    "\n",
    "# ax[0].scatter(train_trap_grp['NumMosquitos'], train_trap_grp['WnvPresent'], c='w');\n",
    "# for i, xi in enumerate(train_trap_grp.index[0:6]):\n",
    "#     ax[0].annotate(xi, (train_trap_grp.iloc[i,1], train_trap_grp.iloc[i,0]), fontsize=12, c='w')\n",
    "# ax[0].set_xlabel('NumMosquitos:sum', fontsize=10)\n",
    "# ax[0].set_ylabel('WnvPresent:sum', fontsize=10)\n",
    "# ax[0].set_title('Traps with highest Wnv incidence', fontsize=16)\n",
    "#ax[0].set_xscale('log')\n",
    "#ax[0].set_yscale('log')\n",
    "\n",
    "weather_df['Tavg_station_1'].plot(ax=ax[1], c='b')\n",
    "ax[1].set_title('Chicago Weather', fontsize=18)\n",
    "ax[1].set_ylabel('Temperature', fontsize=14)\n",
    "ax[1].set_xlabel('Date', fontsize=14)\n",
    "ax[1].xaxis.label.set_color('white')\n",
    "ax[1].yaxis.label.set_color('white')\n",
    "ax[1].tick_params(axis='x', colors='white')\n",
    "ax[1].tick_params(axis='y', colors='white')\n",
    "ax[1].title.set_color('white')\n",
    "\n",
    "ax[0].spines['bottom'].set_color('white')\n",
    "ax[0].spines['top'].set_color('white')\n",
    "ax[0].spines['left'].set_color('white')\n",
    "ax[0].spines['right'].set_color('white')\n",
    "\n",
    "ax[1].spines['bottom'].set_color('white')\n",
    "ax[1].spines['top'].set_color('white')\n",
    "ax[1].spines['left'].set_color('white')\n",
    "ax[1].spines['right'].set_color('white')\n",
    "\n",
    "plt.tight_layout()\n",
    "fig.savefig('weather_seasonality.png', transparent=True)\n",
    "\n",
    "plt.show;"
   ]
  },
  {
   "cell_type": "code",
   "execution_count": null,
   "metadata": {},
   "outputs": [],
   "source": [
    "train_month_grp = train.groupby(train.index.month_name()).agg({'WnvPresent':'sum',\n",
    "                                                        'NumMosquitos': 'sum'}).sort_values('WnvPresent',\n",
    "                                                                                            ascending=False)\n",
    "\n",
    "fig, ax = plt.subplots(ncols=2, figsize=(12,12))\n",
    "\n",
    "ax[0].scatter(train_month_grp['NumMosquitos'], train_month_grp['WnvPresent']);\n",
    "for i, xi in enumerate(train_month_grp.index):\n",
    "    ax[0].annotate(xi, (train_month_grp.iloc[i,1], train_month_grp.iloc[i,0]))\n",
    "ax[0].set_xlabel('NumMosquitos:sum', fontsize=10)\n",
    "ax[0].set_ylabel('WnvPresent:sum', fontsize=10)\n",
    "ax[0].set_title('Months with highest Wnv incidence', fontsize=16)"
   ]
  },
  {
   "cell_type": "code",
   "execution_count": null,
   "metadata": {
    "ExecuteTime": {
     "end_time": "2020-03-04T09:36:42.070259Z",
     "start_time": "2020-03-04T09:36:37.773210Z"
    },
    "code_folding": []
   },
   "outputs": [],
   "source": [
    "# When (ie, which summer month / which year) had the highest incidence of Wnv and NumMosquitos?\n",
    "# And where (ie, which trap) had the highest incidence of Wnv and NumMosquitos?\n",
    "\n",
    "train_month_grp = train.groupby(train.index.month_name()).agg({'WnvPresent':'sum',\n",
    "                                                        'NumMosquitos': 'sum'}).sort_values('WnvPresent',\n",
    "                                                                                            ascending=False)\n",
    "train_year_grp = train.groupby(train.index.year).agg({'WnvPresent':'sum',\n",
    "                                                      'NumMosquitos': 'sum'}).sort_values('WnvPresent',\n",
    "                                                                                          ascending=False)\n",
    "train_monthyear_grp = train.groupby(train.index.to_period('M')).agg({'WnvPresent':'sum',\n",
    "                                                                     'NumMosquitos': 'sum'}).sort_values('WnvPresent',\n",
    "                                                                                                         ascending=False)\n",
    "train_trap_grp = train.groupby('Trap').agg({'WnvPresent':'sum',\n",
    "                                            'NumMosquitos': 'sum'}).sort_values('WnvPresent',\n",
    "                                                                                ascending=False)\n",
    "train_species_grp = train.groupby('Species').agg({'WnvPresent':'sum',\n",
    "                                                  'NumMosquitos': 'sum'}).sort_values('WnvPresent',\n",
    "                                                                                      ascending=False)\n",
    "# Scatter-plot both sets of data:\n",
    "fig, ax = plt.subplots(nrows=3, ncols=2, figsize=(12,12))\n",
    "ax[0,0].scatter(train_month_grp['NumMosquitos'], train_month_grp['WnvPresent']);\n",
    "for i, xi in enumerate(train_month_grp.index):\n",
    "    ax[0,0].annotate(xi, (train_month_grp.iloc[i,1], train_month_grp.iloc[i,0]))\n",
    "ax[0,0].set_xlabel('NumMosquitos:sum', fontsize=10)\n",
    "ax[0,0].set_ylabel('WnvPresent:sum', fontsize=10)\n",
    "ax[0,0].set_title('Months with highest Wnv incidence', fontsize=16)\n",
    "\n",
    "ax[0,1].scatter(train_year_grp['NumMosquitos'], train_year_grp['WnvPresent']);\n",
    "for i, xi in enumerate(train_year_grp.index):\n",
    "    ax[0,1].annotate(xi, (train_year_grp.iloc[i,1], train_year_grp.iloc[i,0]))\n",
    "ax[0,1].set_xlabel('NumMosquitos:sum', fontsize=10)\n",
    "ax[0,1].set_ylabel('WnvPresent:sum', fontsize=10)\n",
    "ax[0,1].set_title('Years with highest Wnv incidence', fontsize=16)\n",
    "\n",
    "ax[1,0].scatter(train_monthyear_grp['NumMosquitos'], train_monthyear_grp['WnvPresent']);\n",
    "for i, xi in enumerate(train_monthyear_grp.index):\n",
    "    ax[1,0].annotate(xi, (train_monthyear_grp.iloc[i,1], train_monthyear_grp.iloc[i,0]))\n",
    "ax[1,0].set_xlabel('NumMosquitos:sum', fontsize=10)\n",
    "ax[1,0].set_ylabel('WnvPresent:sum', fontsize=10)\n",
    "ax[1,0].set_title('Year-Month with highest Wnv incidence', fontsize=16)\n",
    "\n",
    "ax[1,1].scatter(train_trap_grp['NumMosquitos'], train_trap_grp['WnvPresent']);\n",
    "for i, xi in enumerate(train_trap_grp.index):\n",
    "    ax[1,1].annotate(xi, (train_trap_grp.iloc[i,1], train_trap_grp.iloc[i,0]))\n",
    "ax[1,1].set_xlabel('NumMosquitos:sum', fontsize=10)\n",
    "ax[1,1].set_ylabel('WnvPresent:sum', fontsize=10)\n",
    "ax[1,1].set_title('Traps with highest Wnv incidence', fontsize=16)\n",
    "\n",
    "ax[2,0].scatter(train_species_grp['NumMosquitos'], train_species_grp['WnvPresent']);\n",
    "for i, xi in enumerate(train_species_grp.index):\n",
    "    ax[2,0].annotate(xi, (train_species_grp.iloc[i,1], train_species_grp.iloc[i,0]))\n",
    "ax[2,0].set_xlabel('NumMosquitos:sum', fontsize=10)\n",
    "ax[2,0].set_ylabel('WnvPresent:sum', fontsize=10)\n",
    "ax[2,0].set_title('Species with highest Wnv incidence', fontsize=16)\n",
    "\n",
    "sns.scatterplot(train_df['Tavg_station_1'], train_df['NumMosquitos'], hue=train_df['WnvPresent'], ax=ax[2,1]);\n",
    "ax[2,1].set_xlabel('Tavg_station_1', fontsize=10)\n",
    "ax[2,1].set_ylabel('NumMosquitos', fontsize=10)\n",
    "ax[2,1].set_title('Wnv incidence: clustered by weather', fontsize=16)\n",
    "\n",
    "plt.tight_layout()\n",
    "plt.show();\n",
    "\n",
    "# Clear to see that both Wnv and NumMosquitos was highest in certain Traps, years, and months."
   ]
  },
  {
   "cell_type": "markdown",
   "metadata": {},
   "source": [
    "## Modelling"
   ]
  },
  {
   "cell_type": "markdown",
   "metadata": {},
   "source": [
    "#### Setting up (X, y)"
   ]
  },
  {
   "cell_type": "code",
   "execution_count": 14,
   "metadata": {
    "ExecuteTime": {
     "end_time": "2020-03-04T22:06:59.059352Z",
     "start_time": "2020-03-04T22:06:58.983482Z"
    }
   },
   "outputs": [],
   "source": [
    "y, X = train_df['WnvPresent'], train_df[['Species','Trap','weather_PC1','weather_PC2','weather_PC3','weather_PC4',\n",
    "                                         'weather_PC5','weather_PC6','weather_PC7','weather_PC8',\n",
    "                                         'weather_PC9','weather_PC10','isSpray']]\n",
    "X_dum = pd.get_dummies(X, drop_first=True, columns=['Species','Trap'])\n",
    "\n",
    "# initialise classes generic to all models below:\n",
    "std = StandardScaler()\n",
    "sm = SMOTENC(categorical_features=list(range(10,152)))\n",
    "ovr = RandomOverSampler()\n",
    "kf = StratifiedKFold(n_splits=5, shuffle=True, random_state=1)"
   ]
  },
  {
   "cell_type": "markdown",
   "metadata": {},
   "source": [
    "### Sci-kit Learn GridSearchCV tuning classifiers"
   ]
  },
  {
   "cell_type": "markdown",
   "metadata": {},
   "source": [
    "#### Logistic Regression"
   ]
  },
  {
   "cell_type": "code",
   "execution_count": null,
   "metadata": {
    "ExecuteTime": {
     "end_time": "2020-03-04T18:22:17.462439Z",
     "start_time": "2020-03-04T18:22:02.771092Z"
    },
    "scrolled": true
   },
   "outputs": [],
   "source": [
    "lr = LogisticRegression(fit_intercept=False)\n",
    "params = {#'ovr__sampling_strategy':[0.5],\n",
    "          'lr__penalty':['l2'],\n",
    "          'lr__C':[0.1]}\n",
    "#          'lr__C':np.logspace(-4,-1,4)}\n",
    "\n",
    "pipeline = Pipeline([('std', std), ('ovr', ovr), ('lr', lr)])\n",
    "\n",
    "gs_lr = GridSearchCV(pipeline, params, verbose=1, n_jobs=2, cv=kf, scoring='roc_auc')\n",
    "gs_lr.fit(X_dum, y)\n",
    "print(gs_lr.best_params_)\n",
    "print(gs_lr.best_score_)"
   ]
  },
  {
   "cell_type": "markdown",
   "metadata": {},
   "source": [
    "##### Logistic Regression Results"
   ]
  },
  {
   "cell_type": "code",
   "execution_count": null,
   "metadata": {
    "ExecuteTime": {
     "end_time": "2020-03-04T18:22:29.705813Z",
     "start_time": "2020-03-04T18:22:28.407470Z"
    }
   },
   "outputs": [],
   "source": [
    "fig, ax = plt.subplots(ncols=2, figsize=(12,6))\n",
    "gs_lr_coefficients = pd.DataFrame(gs_lr.best_estimator_.steps[2][1].coef_,\n",
    "                                  columns=X_dum.columns,\n",
    "                                  index=['coefficients']).T.sort_values('coefficients',ascending=True)\n",
    "ax[0].barh(gs_lr_coefficients.iloc[-30:,0].index, gs_lr_coefficients.iloc[-30:,0])\n",
    "ax[0].set_title('Top 30 positives...')\n",
    "ax[0].set_xlabel('Logistic Regression coefficients')\n",
    "ax[0].set_xlim([0,1.5])\n",
    "ax[1].barh(gs_lr_coefficients.iloc[:30,0].index, gs_lr_coefficients.iloc[:30,0])\n",
    "ax[1].set_title('Top 30 negatives')\n",
    "ax[1].set_xlabel('Logistic Regression coefficients')\n",
    "ax[1].set_xlim([-1.5,0])\n",
    "fig.tight_layout();"
   ]
  },
  {
   "cell_type": "code",
   "execution_count": null,
   "metadata": {
    "ExecuteTime": {
     "end_time": "2020-03-04T18:39:40.466826Z",
     "start_time": "2020-03-04T18:39:39.508935Z"
    }
   },
   "outputs": [],
   "source": [
    "lr_best = LogisticRegression(C=gs_lr.best_estimator_.steps[2][1].C,\n",
    "                             penalty=gs_lr.best_estimator_.steps[2][1].penalty)\n",
    "pipe_lr_best = Pipeline([('std', std), ('ovr', ovr), ('lr_best', lr_best)])\n",
    "pipe_lr_best.fit(X_dum, y)\n",
    "print('Confusion Matrix:')\n",
    "print(confusion_matrix(y, pipe_lr_best.predict(X_dum)))\n",
    "print('Classification Report:')\n",
    "print(classification_report(y, pipe_lr_best.predict(X_dum)))"
   ]
  },
  {
   "cell_type": "code",
   "execution_count": null,
   "metadata": {
    "ExecuteTime": {
     "end_time": "2020-03-04T19:18:10.149454Z",
     "start_time": "2020-03-04T19:18:09.514053Z"
    }
   },
   "outputs": [],
   "source": [
    "cm = confusion_matrix(y, pipe_lr_best.predict(X_dum))\n",
    "cm_norm = confusion_matrix(y, pipe_lr_best.predict(X_dum), normalize='true')\n",
    "\n",
    "classes = pipe_lr_best.classes_\n",
    "\n",
    "fig, ax = plt.subplots(ncols=2, figsize=(8,4))\n",
    "sns.heatmap(pd.DataFrame(cm, index=classes, columns=classes), annot=True, fmt='d', cbar=False,\n",
    "            cmap=sns.color_palette(\"Blues\"), ax=ax[0])\n",
    "ax[0].set_title('Confusion Matrix')\n",
    "ax[0].xaxis.label.set_color('white')\n",
    "ax[0].yaxis.label.set_color('white')\n",
    "ax[0].tick_params(axis='x', colors='white')\n",
    "ax[0].tick_params(axis='y', colors='white')\n",
    "ax[0].title.set_color('white')\n",
    "\n",
    "sns.heatmap(pd.DataFrame(cm_norm, index=classes, columns=classes), annot=True, cbar=False,\n",
    "            cmap=sns.color_palette(\"Blues\"), ax=ax[1])\n",
    "ax[1].set_title('Normalized Confusion Matrix')\n",
    "\n",
    "ax[1].xaxis.label.set_color('white')\n",
    "ax[1].yaxis.label.set_color('white')\n",
    "ax[1].tick_params(axis='x', colors='white')\n",
    "ax[1].tick_params(axis='y', colors='white')\n",
    "ax[1].title.set_color('white')\n",
    "\n",
    "plt.tight_layout();"
   ]
  },
  {
   "cell_type": "code",
   "execution_count": null,
   "metadata": {
    "ExecuteTime": {
     "end_time": "2020-03-04T19:45:48.552884Z",
     "start_time": "2020-03-04T19:45:47.439543Z"
    }
   },
   "outputs": [],
   "source": [
    "y_pp = pd.DataFrame(pipe_lr_best.predict_proba(X_dum), columns=['class_0_pp', 'class_1_pp'])\n",
    "\n",
    "# ROC curve\n",
    "fpr, tpr, threshold = roc_curve(y, y_pp.class_1_pp)\n",
    "roc_auc = auc(fpr, tpr)\n",
    "\n",
    "fig, ax = plt.subplots(ncols=2, figsize=(10,4))\n",
    "ax[0].plot(fpr, tpr, label='ROC curve (area = %0.2f)' % roc_auc, linewidth=4, c='w')\n",
    "ax[0].plot([0, 1], [0, 1], 'k--', linewidth=4)\n",
    "ax[0].set_xlabel('False Positive Rate')\n",
    "ax[0].set_ylabel('True Positive Rate')\n",
    "ax[0].legend(loc=\"lower right\")\n",
    "ax[0].set_title('ROC curve')\n",
    "\n",
    "ax[0].xaxis.label.set_color('white')\n",
    "ax[0].yaxis.label.set_color('white')\n",
    "ax[0].tick_params(axis='x', colors='white')\n",
    "ax[0].tick_params(axis='y', colors='white')\n",
    "ax[0].title.set_color('white')\n",
    "\n",
    "ax[0].spines['bottom'].set_color('white')\n",
    "ax[0].spines['top'].set_color('white')\n",
    "ax[0].spines['left'].set_color('white')\n",
    "ax[0].spines['right'].set_color('white')\n",
    "\n",
    "# PR curve\n",
    "precision, recall, threshold = precision_recall_curve(y, y_pp.class_1_pp)\n",
    "\n",
    "ax[1].plot(recall, precision, label='Precision-recall curve', linewidth=4)\n",
    "ax[1].set_xlabel('Recall')\n",
    "ax[1].set_ylabel('Precision')\n",
    "ax[1].set_title('Precision-Recall curve')\n",
    "\n",
    "ax[1].xaxis.label.set_color('white')\n",
    "ax[1].yaxis.label.set_color('white')\n",
    "ax[1].tick_params(axis='x', colors='white')\n",
    "ax[1].tick_params(axis='y', colors='white')\n",
    "ax[1].title.set_color('white')\n",
    "\n",
    "ax[1].spines['bottom'].set_color('white')\n",
    "ax[1].spines['top'].set_color('white')\n",
    "ax[1].spines['left'].set_color('white')\n",
    "ax[1].spines['right'].set_color('white')\n",
    "\n",
    "legend = ax[0].legend(frameon = 1)\n",
    "frame = legend.get_frame()\n",
    "frame.set_color('white')\n",
    "\n",
    "legend = ax[1].legend(frameon = 1)\n",
    "frame = legend.get_frame()\n",
    "frame.set_color('white')\n",
    "\n",
    "fig.savefig('lr_roc.png', transparent=True, edgecolor='white')\n",
    "\n",
    "plt.tight_layout()\n",
    "plt.show()"
   ]
  },
  {
   "cell_type": "code",
   "execution_count": null,
   "metadata": {
    "ExecuteTime": {
     "end_time": "2020-03-04T18:41:35.880687Z",
     "start_time": "2020-03-04T18:41:35.841924Z"
    }
   },
   "outputs": [],
   "source": [
    "# Pickle if results are satisfactory:\n",
    "gs_lr_pickle_name = './pickle_objects/gs_lr_best_score_{}%.pkl'.format(np.round(gs_lr.best_score_*100,2))\n",
    "pickle.dump(gs_lr.best_estimator_, open(gs_lr_pickle_name, 'wb'))"
   ]
  },
  {
   "cell_type": "markdown",
   "metadata": {},
   "source": [
    "#### Decision Tree Classifier"
   ]
  },
  {
   "cell_type": "code",
   "execution_count": null,
   "metadata": {
    "ExecuteTime": {
     "end_time": "2020-03-04T21:15:05.007381Z",
     "start_time": "2020-03-04T21:14:38.492906Z"
    },
    "scrolled": true
   },
   "outputs": [],
   "source": [
    "dt = DecisionTreeClassifier()\n",
    "params = {'dt__max_depth':range(2,10),\n",
    "          'dt__max_features':np.linspace(0.1,0.5,4)}\n",
    "\n",
    "pipeline = Pipeline([('ovr', ovr), ('dt', dt)])\n",
    "\n",
    "gs_dt = GridSearchCV(pipeline, params, verbose=1, n_jobs=2, cv=kf, scoring='roc_auc')\n",
    "gs_dt.fit(X_dum, y)\n",
    "print(gs_dt.best_params_)\n",
    "print(gs_dt.best_score_)"
   ]
  },
  {
   "cell_type": "markdown",
   "metadata": {},
   "source": [
    "##### Decision Tree Results"
   ]
  },
  {
   "cell_type": "code",
   "execution_count": null,
   "metadata": {
    "scrolled": false
   },
   "outputs": [],
   "source": [
    "fig, ax = plt.subplots(ncols=2, figsize=(12,6))\n",
    "gs_dt_importances = pd.DataFrame(gs_dt.best_estimator_.steps[1][1].feature_importances_,\n",
    "                                  index=X_dum.columns,\n",
    "                                  columns=['importances']).sort_values('importances', ascending=True)\n",
    "ax[0].barh(gs_dt_importances.iloc[-30:,0].index, gs_dt_importances.iloc[-30:,0])\n",
    "ax[0].set_title('Top 30 Features...')\n",
    "ax[0].set_xlabel('Feature importances')\n",
    "ax[0].set_xlim([0,0.2])\n",
    "ax[1].barh(gs_dt_importances.iloc[-60:,:].iloc[:30,0].index, gs_dt_importances.iloc[-60:,:].iloc[:30,0])\n",
    "ax[1].set_title('...Next 30 Features')\n",
    "ax[1].set_xlabel('Feature importances')\n",
    "ax[1].set_xlim([0,0.2])\n",
    "fig.tight_layout();"
   ]
  },
  {
   "cell_type": "code",
   "execution_count": null,
   "metadata": {
    "ExecuteTime": {
     "end_time": "2020-03-04T19:43:23.433903Z",
     "start_time": "2020-03-04T19:43:22.833322Z"
    }
   },
   "outputs": [],
   "source": [
    "dt_best = DecisionTreeClassifier(max_depth=gs_dt.best_estimator_.steps[1][1].max_depth,\n",
    "                                 max_features=gs_dt.best_estimator_.steps[1][1].max_features)\n",
    "pipe_dt_best = Pipeline([('ovr', ovr), ('dt_best', dt_best)])\n",
    "pipe_dt_best.fit(X_dum, y)\n",
    "print('Confusion Matrix:')\n",
    "print(confusion_matrix(y, pipe_dt_best.predict(X_dum)))\n",
    "print('Classification Report:')\n",
    "print(classification_report(y, pipe_dt_best.predict(X_dum)))"
   ]
  },
  {
   "cell_type": "code",
   "execution_count": null,
   "metadata": {
    "ExecuteTime": {
     "end_time": "2020-03-04T19:43:47.426951Z",
     "start_time": "2020-03-04T19:43:46.764849Z"
    },
    "scrolled": true
   },
   "outputs": [],
   "source": [
    "cm = confusion_matrix(y, pipe_dt_best.predict(X_dum))\n",
    "cm_norm = confusion_matrix(y, pipe_dt_best.predict(X_dum), normalize='true')\n",
    "\n",
    "classes = pipe_dt_best.classes_\n",
    "\n",
    "fig, ax = plt.subplots(ncols=2, figsize=(8,4))\n",
    "sns.heatmap(pd.DataFrame(cm, index=classes, columns=classes), annot=True, fmt='d', cbar=False,\n",
    "            cmap=sns.color_palette(\"Blues\"), ax=ax[0])\n",
    "ax[0].set_title('Confusion Matrix')\n",
    "ax[0].xaxis.label.set_color('white')\n",
    "ax[0].yaxis.label.set_color('white')\n",
    "ax[0].tick_params(axis='x', colors='white')\n",
    "ax[0].tick_params(axis='y', colors='white')\n",
    "ax[0].title.set_color('white')\n",
    "\n",
    "sns.heatmap(pd.DataFrame(cm_norm, index=classes, columns=classes), annot=True, cbar=False,\n",
    "            cmap=sns.color_palette(\"Blues\"), ax=ax[1])\n",
    "ax[1].set_title('Normalized Confusion Matrix')\n",
    "\n",
    "ax[1].xaxis.label.set_color('white')\n",
    "ax[1].yaxis.label.set_color('white')\n",
    "ax[1].tick_params(axis='x', colors='white')\n",
    "ax[1].tick_params(axis='y', colors='white')\n",
    "ax[1].title.set_color('white')\n",
    "\n",
    "plt.tight_layout();"
   ]
  },
  {
   "cell_type": "code",
   "execution_count": null,
   "metadata": {
    "ExecuteTime": {
     "end_time": "2020-03-04T20:11:32.530044Z",
     "start_time": "2020-03-04T20:11:31.453165Z"
    }
   },
   "outputs": [],
   "source": [
    "y_pp = pd.DataFrame(pipe_dt_best.predict_proba(X_dum), columns=['class_0_pp', 'class_1_pp'])\n",
    "\n",
    "# ROC curve\n",
    "fpr, tpr, threshold = roc_curve(y, y_pp.class_1_pp)\n",
    "roc_auc = auc(fpr, tpr)\n",
    "\n",
    "fig, ax = plt.subplots(ncols=2, figsize=(10,4))\n",
    "ax[0].plot(fpr, tpr, label='ROC curve (area = %0.2f)' % roc_auc, linewidth=4)\n",
    "ax[0].plot([0, 1], [0, 1], 'k--', linewidth=4)\n",
    "ax[0].set_xlabel('False Positive Rate')\n",
    "ax[0].set_ylabel('True Positive Rate')\n",
    "ax[0].legend(loc=\"lower right\")\n",
    "ax[0].set_title('ROC curve')\n",
    "\n",
    "ax[0].xaxis.label.set_color('white')\n",
    "ax[0].yaxis.label.set_color('white')\n",
    "ax[0].tick_params(axis='x', colors='white')\n",
    "ax[0].tick_params(axis='y', colors='white')\n",
    "ax[0].title.set_color('white')\n",
    "\n",
    "ax[0].spines['bottom'].set_color('white')\n",
    "ax[0].spines['top'].set_color('white')\n",
    "ax[0].spines['left'].set_color('white')\n",
    "ax[0].spines['right'].set_color('white')\n",
    "\n",
    "# PR curve\n",
    "precision, recall, threshold = precision_recall_curve(y, y_pp.class_1_pp)\n",
    "\n",
    "ax[1].plot(recall, precision, label='Precision-recall curve', linewidth=4)\n",
    "ax[1].set_xlabel('Recall')\n",
    "ax[1].set_ylabel('Precision')\n",
    "ax[1].set_title('Precision-Recall curve')\n",
    "\n",
    "ax[1].xaxis.label.set_color('white')\n",
    "ax[1].yaxis.label.set_color('white')\n",
    "ax[1].tick_params(axis='x', colors='white')\n",
    "ax[1].tick_params(axis='y', colors='white')\n",
    "ax[1].title.set_color('white')\n",
    "\n",
    "ax[1].spines['bottom'].set_color('white')\n",
    "ax[1].spines['top'].set_color('white')\n",
    "ax[1].spines['left'].set_color('white')\n",
    "ax[1].spines['right'].set_color('white')\n",
    "\n",
    "legend = ax[0].legend(frameon = 1)\n",
    "frame = legend.get_frame()\n",
    "frame.set_color('white')\n",
    "\n",
    "legend = ax[1].legend(frameon = 1)\n",
    "frame = legend.get_frame()\n",
    "frame.set_color('white')\n",
    "\n",
    "fig.savefig('dt_roc.png', transparent=True, edgecolor='white')\n",
    "\n",
    "plt.tight_layout()\n",
    "plt.show()"
   ]
  },
  {
   "cell_type": "code",
   "execution_count": null,
   "metadata": {
    "ExecuteTime": {
     "end_time": "2020-03-04T20:24:41.693060Z",
     "start_time": "2020-03-04T20:24:39.390412Z"
    }
   },
   "outputs": [],
   "source": [
    "# Visualise Decision Tree\n",
    "dot_data = StringIO() \n",
    "export_graphviz(dt_best, out_file=dot_data, rounded=True,\n",
    "                special_characters=True,\n",
    "                feature_names=X_dum.columns,\n",
    "                max_depth=4)\n",
    "\n",
    "graph = pydotplus.graph_from_dot_data(dot_data.getvalue())  \n",
    "Image(graph.create_png())\n",
    "\n",
    "graph.write_png(\"dtree.png\")\n"
   ]
  },
  {
   "cell_type": "code",
   "execution_count": null,
   "metadata": {},
   "outputs": [],
   "source": [
    "# Pickle if results are satisfactory:\n",
    "gs_dt_pickle_name = './pickle_objects/gs_dt_best_score_{}%.pkl'.format(np.round(gs_dt.best_score_*100,2))\n",
    "pickle.dump(gs_dt.best_estimator_, open(gs_dt_pickle_name, 'wb'))"
   ]
  },
  {
   "cell_type": "markdown",
   "metadata": {},
   "source": [
    "#### Random Forest Classifier"
   ]
  },
  {
   "cell_type": "code",
   "execution_count": null,
   "metadata": {
    "ExecuteTime": {
     "end_time": "2020-03-04T20:49:34.329187Z",
     "start_time": "2020-03-04T20:31:28.673938Z"
    },
    "scrolled": true
   },
   "outputs": [],
   "source": [
    "rf = RandomForestClassifier(n_estimators=100)\n",
    "params = {'rf__max_depth': list(range(2,10))+[None],\n",
    "          'rf__max_features':np.linspace(0.1,1.0,4)}\n",
    "\n",
    "pipeline = Pipeline([('std', std), ('ovr', ovr), ('rf', rf)])\n",
    "\n",
    "# gs_rf = GridSearchCV(pipeline, params, verbose=1, n_jobs=2, cv=kf, scoring='roc_auc')\n",
    "# gs_rf.fit(X_dum, y)\n",
    "# print(gs_rf.best_params_)\n",
    "# print(gs_rf.best_score_)\n",
    "\n",
    "gs_rf2 = GridSearchCV(pipeline, params, verbose=1, n_jobs=2, cv=kf, scoring='roc_auc')\n",
    "gs_rf2.fit(X, y)\n",
    "print(gs_rf2.best_params_)\n",
    "print(gs_rf2.best_score_)"
   ]
  },
  {
   "cell_type": "markdown",
   "metadata": {},
   "source": [
    "##### Random Forest Results"
   ]
  },
  {
   "cell_type": "code",
   "execution_count": null,
   "metadata": {},
   "outputs": [],
   "source": [
    "fig, ax = plt.subplots(ncols=2, figsize=(12,6))\n",
    "gs_rf_importances = pd.DataFrame(gs_rf.best_estimator_.steps[2][1].feature_importances_,\n",
    "                                  index=X_dum.columns,\n",
    "                                  columns=['importances']).sort_values('importances',ascending=True)\n",
    "ax[0].barh(gs_rf_importances.iloc[-30:,0].index, gs_rf_importances.iloc[-30:,0])\n",
    "ax[0].set_title('Top 30 Features...')\n",
    "ax[0].set_xlabel('Feature importances')\n",
    "ax[0].set_xlim([0,0.2])\n",
    "ax[1].barh(gs_rf_importances.iloc[-60:,:].iloc[:30,0].index, gs_rf_importances.iloc[-60:,:].iloc[:30,0])\n",
    "ax[1].set_title('...Next 30 Features')\n",
    "ax[1].set_xlabel('Feature importances')\n",
    "ax[1].set_xlim([0,0.2])\n",
    "fig.tight_layout();"
   ]
  },
  {
   "cell_type": "code",
   "execution_count": null,
   "metadata": {
    "ExecuteTime": {
     "end_time": "2020-03-04T20:52:36.977738Z",
     "start_time": "2020-03-04T20:52:27.291808Z"
    }
   },
   "outputs": [],
   "source": [
    "rf_best = RandomForestClassifier(n_estimators=100,\n",
    "                                 max_depth=gs_rf.best_estimator_.steps[2][1].max_depth,\n",
    "                                 max_features=gs_rf.best_estimator_.steps[2][1].max_features)\n",
    "pipe_rf_best = Pipeline([('std', std), ('ovr', ovr), ('rf_best', rf_best)])\n",
    "pipe_rf_best.fit(X_dum, y)\n",
    "print('Classification Report:')\n",
    "print(classification_report(y, pipe_rf_best.predict(X_dum)))"
   ]
  },
  {
   "cell_type": "code",
   "execution_count": null,
   "metadata": {},
   "outputs": [],
   "source": [
    "# Pickle if results are satisfactory:\n",
    "gs_rf_pickle_name = './pickle_objects/gs_rf_best_score_{}%.pkl'.format(np.round(gs_rf.best_score_*100,2))\n",
    "pickle.dump(gs_rf.best_estimator_, open(gs_rf_pickle_name, 'wb'))"
   ]
  },
  {
   "cell_type": "markdown",
   "metadata": {},
   "source": [
    "#### Bagging Classifier"
   ]
  },
  {
   "cell_type": "code",
   "execution_count": 16,
   "metadata": {
    "ExecuteTime": {
     "end_time": "2020-03-04T22:45:50.519473Z",
     "start_time": "2020-03-04T22:08:22.853970Z"
    },
    "collapsed": true
   },
   "outputs": [
    {
     "name": "stdout",
     "output_type": "stream",
     "text": [
      "Fitting 5 folds for each of 25 candidates, totalling 125 fits\n"
     ]
    },
    {
     "name": "stderr",
     "output_type": "stream",
     "text": [
      "[Parallel(n_jobs=2)]: Using backend LokyBackend with 2 concurrent workers.\n"
     ]
    },
    {
     "ename": "KeyboardInterrupt",
     "evalue": "",
     "output_type": "error",
     "traceback": [
      "\u001b[0;31m---------------------------------------------------------------------------\u001b[0m",
      "\u001b[0;31mKeyboardInterrupt\u001b[0m                         Traceback (most recent call last)",
      "\u001b[0;32m<ipython-input-16-fafc9e5c2f5f>\u001b[0m in \u001b[0;36m<module>\u001b[0;34m\u001b[0m\n\u001b[1;32m      7\u001b[0m \u001b[0;34m\u001b[0m\u001b[0m\n\u001b[1;32m      8\u001b[0m \u001b[0mgs_bc\u001b[0m \u001b[0;34m=\u001b[0m \u001b[0mGridSearchCV\u001b[0m\u001b[0;34m(\u001b[0m\u001b[0mpipeline\u001b[0m\u001b[0;34m,\u001b[0m \u001b[0mparams\u001b[0m\u001b[0;34m,\u001b[0m \u001b[0mverbose\u001b[0m\u001b[0;34m=\u001b[0m\u001b[0;36m1\u001b[0m\u001b[0;34m,\u001b[0m \u001b[0mn_jobs\u001b[0m\u001b[0;34m=\u001b[0m\u001b[0;36m2\u001b[0m\u001b[0;34m,\u001b[0m \u001b[0mcv\u001b[0m\u001b[0;34m=\u001b[0m\u001b[0mkf\u001b[0m\u001b[0;34m,\u001b[0m \u001b[0mscoring\u001b[0m\u001b[0;34m=\u001b[0m\u001b[0;34m'roc_auc'\u001b[0m\u001b[0;34m)\u001b[0m\u001b[0;34m\u001b[0m\u001b[0;34m\u001b[0m\u001b[0m\n\u001b[0;32m----> 9\u001b[0;31m \u001b[0mgs_bc\u001b[0m\u001b[0;34m.\u001b[0m\u001b[0mfit\u001b[0m\u001b[0;34m(\u001b[0m\u001b[0mX_dum\u001b[0m\u001b[0;34m,\u001b[0m \u001b[0my\u001b[0m\u001b[0;34m)\u001b[0m\u001b[0;34m\u001b[0m\u001b[0;34m\u001b[0m\u001b[0m\n\u001b[0m\u001b[1;32m     10\u001b[0m \u001b[0mprint\u001b[0m\u001b[0;34m(\u001b[0m\u001b[0mgs_bc\u001b[0m\u001b[0;34m.\u001b[0m\u001b[0mbest_params_\u001b[0m\u001b[0;34m)\u001b[0m\u001b[0;34m\u001b[0m\u001b[0;34m\u001b[0m\u001b[0m\n\u001b[1;32m     11\u001b[0m \u001b[0mprint\u001b[0m\u001b[0;34m(\u001b[0m\u001b[0mgs_bc\u001b[0m\u001b[0;34m.\u001b[0m\u001b[0mbest_score_\u001b[0m\u001b[0;34m)\u001b[0m\u001b[0;34m\u001b[0m\u001b[0;34m\u001b[0m\u001b[0m\n",
      "\u001b[0;32m~/anaconda3/envs/tensorflow_env/lib/python3.7/site-packages/sklearn/model_selection/_search.py\u001b[0m in \u001b[0;36mfit\u001b[0;34m(self, X, y, groups, **fit_params)\u001b[0m\n\u001b[1;32m    708\u001b[0m                 \u001b[0;32mreturn\u001b[0m \u001b[0mresults\u001b[0m\u001b[0;34m\u001b[0m\u001b[0;34m\u001b[0m\u001b[0m\n\u001b[1;32m    709\u001b[0m \u001b[0;34m\u001b[0m\u001b[0m\n\u001b[0;32m--> 710\u001b[0;31m             \u001b[0mself\u001b[0m\u001b[0;34m.\u001b[0m\u001b[0m_run_search\u001b[0m\u001b[0;34m(\u001b[0m\u001b[0mevaluate_candidates\u001b[0m\u001b[0;34m)\u001b[0m\u001b[0;34m\u001b[0m\u001b[0;34m\u001b[0m\u001b[0m\n\u001b[0m\u001b[1;32m    711\u001b[0m \u001b[0;34m\u001b[0m\u001b[0m\n\u001b[1;32m    712\u001b[0m         \u001b[0;31m# For multi-metric evaluation, store the best_index_, best_params_ and\u001b[0m\u001b[0;34m\u001b[0m\u001b[0;34m\u001b[0m\u001b[0;34m\u001b[0m\u001b[0m\n",
      "\u001b[0;32m~/anaconda3/envs/tensorflow_env/lib/python3.7/site-packages/sklearn/model_selection/_search.py\u001b[0m in \u001b[0;36m_run_search\u001b[0;34m(self, evaluate_candidates)\u001b[0m\n\u001b[1;32m   1149\u001b[0m     \u001b[0;32mdef\u001b[0m \u001b[0m_run_search\u001b[0m\u001b[0;34m(\u001b[0m\u001b[0mself\u001b[0m\u001b[0;34m,\u001b[0m \u001b[0mevaluate_candidates\u001b[0m\u001b[0;34m)\u001b[0m\u001b[0;34m:\u001b[0m\u001b[0;34m\u001b[0m\u001b[0;34m\u001b[0m\u001b[0m\n\u001b[1;32m   1150\u001b[0m         \u001b[0;34m\"\"\"Search all candidates in param_grid\"\"\"\u001b[0m\u001b[0;34m\u001b[0m\u001b[0;34m\u001b[0m\u001b[0m\n\u001b[0;32m-> 1151\u001b[0;31m         \u001b[0mevaluate_candidates\u001b[0m\u001b[0;34m(\u001b[0m\u001b[0mParameterGrid\u001b[0m\u001b[0;34m(\u001b[0m\u001b[0mself\u001b[0m\u001b[0;34m.\u001b[0m\u001b[0mparam_grid\u001b[0m\u001b[0;34m)\u001b[0m\u001b[0;34m)\u001b[0m\u001b[0;34m\u001b[0m\u001b[0;34m\u001b[0m\u001b[0m\n\u001b[0m\u001b[1;32m   1152\u001b[0m \u001b[0;34m\u001b[0m\u001b[0m\n\u001b[1;32m   1153\u001b[0m \u001b[0;34m\u001b[0m\u001b[0m\n",
      "\u001b[0;32m~/anaconda3/envs/tensorflow_env/lib/python3.7/site-packages/sklearn/model_selection/_search.py\u001b[0m in \u001b[0;36mevaluate_candidates\u001b[0;34m(candidate_params)\u001b[0m\n\u001b[1;32m    687\u001b[0m                                \u001b[0;32mfor\u001b[0m \u001b[0mparameters\u001b[0m\u001b[0;34m,\u001b[0m \u001b[0;34m(\u001b[0m\u001b[0mtrain\u001b[0m\u001b[0;34m,\u001b[0m \u001b[0mtest\u001b[0m\u001b[0;34m)\u001b[0m\u001b[0;34m\u001b[0m\u001b[0;34m\u001b[0m\u001b[0m\n\u001b[1;32m    688\u001b[0m                                in product(candidate_params,\n\u001b[0;32m--> 689\u001b[0;31m                                           cv.split(X, y, groups)))\n\u001b[0m\u001b[1;32m    690\u001b[0m \u001b[0;34m\u001b[0m\u001b[0m\n\u001b[1;32m    691\u001b[0m                 \u001b[0;32mif\u001b[0m \u001b[0mlen\u001b[0m\u001b[0;34m(\u001b[0m\u001b[0mout\u001b[0m\u001b[0;34m)\u001b[0m \u001b[0;34m<\u001b[0m \u001b[0;36m1\u001b[0m\u001b[0;34m:\u001b[0m\u001b[0;34m\u001b[0m\u001b[0;34m\u001b[0m\u001b[0m\n",
      "\u001b[0;32m~/anaconda3/envs/tensorflow_env/lib/python3.7/site-packages/joblib/parallel.py\u001b[0m in \u001b[0;36m__call__\u001b[0;34m(self, iterable)\u001b[0m\n\u001b[1;32m   1015\u001b[0m \u001b[0;34m\u001b[0m\u001b[0m\n\u001b[1;32m   1016\u001b[0m             \u001b[0;32mwith\u001b[0m \u001b[0mself\u001b[0m\u001b[0;34m.\u001b[0m\u001b[0m_backend\u001b[0m\u001b[0;34m.\u001b[0m\u001b[0mretrieval_context\u001b[0m\u001b[0;34m(\u001b[0m\u001b[0;34m)\u001b[0m\u001b[0;34m:\u001b[0m\u001b[0;34m\u001b[0m\u001b[0;34m\u001b[0m\u001b[0m\n\u001b[0;32m-> 1017\u001b[0;31m                 \u001b[0mself\u001b[0m\u001b[0;34m.\u001b[0m\u001b[0mretrieve\u001b[0m\u001b[0;34m(\u001b[0m\u001b[0;34m)\u001b[0m\u001b[0;34m\u001b[0m\u001b[0;34m\u001b[0m\u001b[0m\n\u001b[0m\u001b[1;32m   1018\u001b[0m             \u001b[0;31m# Make sure that we get a last message telling us we are done\u001b[0m\u001b[0;34m\u001b[0m\u001b[0;34m\u001b[0m\u001b[0;34m\u001b[0m\u001b[0m\n\u001b[1;32m   1019\u001b[0m             \u001b[0melapsed_time\u001b[0m \u001b[0;34m=\u001b[0m \u001b[0mtime\u001b[0m\u001b[0;34m.\u001b[0m\u001b[0mtime\u001b[0m\u001b[0;34m(\u001b[0m\u001b[0;34m)\u001b[0m \u001b[0;34m-\u001b[0m \u001b[0mself\u001b[0m\u001b[0;34m.\u001b[0m\u001b[0m_start_time\u001b[0m\u001b[0;34m\u001b[0m\u001b[0;34m\u001b[0m\u001b[0m\n",
      "\u001b[0;32m~/anaconda3/envs/tensorflow_env/lib/python3.7/site-packages/joblib/parallel.py\u001b[0m in \u001b[0;36mretrieve\u001b[0;34m(self)\u001b[0m\n\u001b[1;32m    907\u001b[0m             \u001b[0;32mtry\u001b[0m\u001b[0;34m:\u001b[0m\u001b[0;34m\u001b[0m\u001b[0;34m\u001b[0m\u001b[0m\n\u001b[1;32m    908\u001b[0m                 \u001b[0;32mif\u001b[0m \u001b[0mgetattr\u001b[0m\u001b[0;34m(\u001b[0m\u001b[0mself\u001b[0m\u001b[0;34m.\u001b[0m\u001b[0m_backend\u001b[0m\u001b[0;34m,\u001b[0m \u001b[0;34m'supports_timeout'\u001b[0m\u001b[0;34m,\u001b[0m \u001b[0;32mFalse\u001b[0m\u001b[0;34m)\u001b[0m\u001b[0;34m:\u001b[0m\u001b[0;34m\u001b[0m\u001b[0;34m\u001b[0m\u001b[0m\n\u001b[0;32m--> 909\u001b[0;31m                     \u001b[0mself\u001b[0m\u001b[0;34m.\u001b[0m\u001b[0m_output\u001b[0m\u001b[0;34m.\u001b[0m\u001b[0mextend\u001b[0m\u001b[0;34m(\u001b[0m\u001b[0mjob\u001b[0m\u001b[0;34m.\u001b[0m\u001b[0mget\u001b[0m\u001b[0;34m(\u001b[0m\u001b[0mtimeout\u001b[0m\u001b[0;34m=\u001b[0m\u001b[0mself\u001b[0m\u001b[0;34m.\u001b[0m\u001b[0mtimeout\u001b[0m\u001b[0;34m)\u001b[0m\u001b[0;34m)\u001b[0m\u001b[0;34m\u001b[0m\u001b[0;34m\u001b[0m\u001b[0m\n\u001b[0m\u001b[1;32m    910\u001b[0m                 \u001b[0;32melse\u001b[0m\u001b[0;34m:\u001b[0m\u001b[0;34m\u001b[0m\u001b[0;34m\u001b[0m\u001b[0m\n\u001b[1;32m    911\u001b[0m                     \u001b[0mself\u001b[0m\u001b[0;34m.\u001b[0m\u001b[0m_output\u001b[0m\u001b[0;34m.\u001b[0m\u001b[0mextend\u001b[0m\u001b[0;34m(\u001b[0m\u001b[0mjob\u001b[0m\u001b[0;34m.\u001b[0m\u001b[0mget\u001b[0m\u001b[0;34m(\u001b[0m\u001b[0;34m)\u001b[0m\u001b[0;34m)\u001b[0m\u001b[0;34m\u001b[0m\u001b[0;34m\u001b[0m\u001b[0m\n",
      "\u001b[0;32m~/anaconda3/envs/tensorflow_env/lib/python3.7/site-packages/joblib/_parallel_backends.py\u001b[0m in \u001b[0;36mwrap_future_result\u001b[0;34m(future, timeout)\u001b[0m\n\u001b[1;32m    560\u001b[0m         AsyncResults.get from multiprocessing.\"\"\"\n\u001b[1;32m    561\u001b[0m         \u001b[0;32mtry\u001b[0m\u001b[0;34m:\u001b[0m\u001b[0;34m\u001b[0m\u001b[0;34m\u001b[0m\u001b[0m\n\u001b[0;32m--> 562\u001b[0;31m             \u001b[0;32mreturn\u001b[0m \u001b[0mfuture\u001b[0m\u001b[0;34m.\u001b[0m\u001b[0mresult\u001b[0m\u001b[0;34m(\u001b[0m\u001b[0mtimeout\u001b[0m\u001b[0;34m=\u001b[0m\u001b[0mtimeout\u001b[0m\u001b[0;34m)\u001b[0m\u001b[0;34m\u001b[0m\u001b[0;34m\u001b[0m\u001b[0m\n\u001b[0m\u001b[1;32m    563\u001b[0m         \u001b[0;32mexcept\u001b[0m \u001b[0mLokyTimeoutError\u001b[0m\u001b[0;34m:\u001b[0m\u001b[0;34m\u001b[0m\u001b[0;34m\u001b[0m\u001b[0m\n\u001b[1;32m    564\u001b[0m             \u001b[0;32mraise\u001b[0m \u001b[0mTimeoutError\u001b[0m\u001b[0;34m(\u001b[0m\u001b[0;34m)\u001b[0m\u001b[0;34m\u001b[0m\u001b[0;34m\u001b[0m\u001b[0m\n",
      "\u001b[0;32m~/anaconda3/envs/tensorflow_env/lib/python3.7/concurrent/futures/_base.py\u001b[0m in \u001b[0;36mresult\u001b[0;34m(self, timeout)\u001b[0m\n\u001b[1;32m    428\u001b[0m                 \u001b[0;32mreturn\u001b[0m \u001b[0mself\u001b[0m\u001b[0;34m.\u001b[0m\u001b[0m__get_result\u001b[0m\u001b[0;34m(\u001b[0m\u001b[0;34m)\u001b[0m\u001b[0;34m\u001b[0m\u001b[0;34m\u001b[0m\u001b[0m\n\u001b[1;32m    429\u001b[0m \u001b[0;34m\u001b[0m\u001b[0m\n\u001b[0;32m--> 430\u001b[0;31m             \u001b[0mself\u001b[0m\u001b[0;34m.\u001b[0m\u001b[0m_condition\u001b[0m\u001b[0;34m.\u001b[0m\u001b[0mwait\u001b[0m\u001b[0;34m(\u001b[0m\u001b[0mtimeout\u001b[0m\u001b[0;34m)\u001b[0m\u001b[0;34m\u001b[0m\u001b[0;34m\u001b[0m\u001b[0m\n\u001b[0m\u001b[1;32m    431\u001b[0m \u001b[0;34m\u001b[0m\u001b[0m\n\u001b[1;32m    432\u001b[0m             \u001b[0;32mif\u001b[0m \u001b[0mself\u001b[0m\u001b[0;34m.\u001b[0m\u001b[0m_state\u001b[0m \u001b[0;32min\u001b[0m \u001b[0;34m[\u001b[0m\u001b[0mCANCELLED\u001b[0m\u001b[0;34m,\u001b[0m \u001b[0mCANCELLED_AND_NOTIFIED\u001b[0m\u001b[0;34m]\u001b[0m\u001b[0;34m:\u001b[0m\u001b[0;34m\u001b[0m\u001b[0;34m\u001b[0m\u001b[0m\n",
      "\u001b[0;32m~/anaconda3/envs/tensorflow_env/lib/python3.7/threading.py\u001b[0m in \u001b[0;36mwait\u001b[0;34m(self, timeout)\u001b[0m\n\u001b[1;32m    294\u001b[0m         \u001b[0;32mtry\u001b[0m\u001b[0;34m:\u001b[0m    \u001b[0;31m# restore state no matter what (e.g., KeyboardInterrupt)\u001b[0m\u001b[0;34m\u001b[0m\u001b[0;34m\u001b[0m\u001b[0m\n\u001b[1;32m    295\u001b[0m             \u001b[0;32mif\u001b[0m \u001b[0mtimeout\u001b[0m \u001b[0;32mis\u001b[0m \u001b[0;32mNone\u001b[0m\u001b[0;34m:\u001b[0m\u001b[0;34m\u001b[0m\u001b[0;34m\u001b[0m\u001b[0m\n\u001b[0;32m--> 296\u001b[0;31m                 \u001b[0mwaiter\u001b[0m\u001b[0;34m.\u001b[0m\u001b[0macquire\u001b[0m\u001b[0;34m(\u001b[0m\u001b[0;34m)\u001b[0m\u001b[0;34m\u001b[0m\u001b[0;34m\u001b[0m\u001b[0m\n\u001b[0m\u001b[1;32m    297\u001b[0m                 \u001b[0mgotit\u001b[0m \u001b[0;34m=\u001b[0m \u001b[0;32mTrue\u001b[0m\u001b[0;34m\u001b[0m\u001b[0;34m\u001b[0m\u001b[0m\n\u001b[1;32m    298\u001b[0m             \u001b[0;32melse\u001b[0m\u001b[0;34m:\u001b[0m\u001b[0;34m\u001b[0m\u001b[0;34m\u001b[0m\u001b[0m\n",
      "\u001b[0;31mKeyboardInterrupt\u001b[0m: "
     ]
    }
   ],
   "source": [
    "knn = KNeighborsClassifier()\n",
    "bc = BaggingClassifier(knn, n_estimators=100)\n",
    "params = {'bc__max_samples': np.linspace(0.1, 1, 5),\n",
    "          'bc__max_features': np.linspace(0.1, 1, 5)}\n",
    "\n",
    "pipeline = Pipeline([('std', std), ('ovr', ovr), ('bc', bc)])\n",
    "\n",
    "gs_bc = GridSearchCV(pipeline, params, verbose=1, n_jobs=2, cv=kf, scoring='roc_auc')\n",
    "gs_bc.fit(X_dum, y)\n",
    "print(gs_bc.best_params_)\n",
    "print(gs_bc.best_score_)"
   ]
  },
  {
   "cell_type": "code",
   "execution_count": null,
   "metadata": {
    "ExecuteTime": {
     "end_time": "2020-03-04T22:45:50.759220Z",
     "start_time": "2020-03-04T22:10:28.095Z"
    }
   },
   "outputs": [],
   "source": [
    "bc_best = BaggingClassifier(n_estimators=100,\n",
    "                            max_samples=gs_bc.best_estimator_.steps[2][1].max_samples,\n",
    "                            max_features=gs_bc.best_estimator_.steps[2][1].max_features)\n",
    "pipe_bc_best = Pipeline([('std', std), ('ovr', ovr), ('bc_best', bc_best)])\n",
    "pipe_bc_best.fit(X_dum, y)\n",
    "print('Classification Report:')\n",
    "print(classification_report(y, pipe_bc_best.predict(X_dum)))"
   ]
  },
  {
   "cell_type": "code",
   "execution_count": null,
   "metadata": {
    "ExecuteTime": {
     "end_time": "2020-03-04T18:03:07.657081Z",
     "start_time": "2020-03-04T18:03:06.933223Z"
    }
   },
   "outputs": [],
   "source": [
    "y_pp = pd.DataFrame(pipe_bc_best.predict_proba(X_dum), columns=['class_0_pp', 'class_1_pp'])\n",
    "\n",
    "# ROC curve\n",
    "fpr, tpr, threshold = roc_curve(y, y_pp.class_1_pp)\n",
    "roc_auc = auc(fpr, tpr)\n",
    "\n",
    "fig, ax = plt.subplots(ncols=2, figsize=(10,4))\n",
    "ax[0].plot(fpr, tpr, label='ROC curve (area = %0.2f)' % roc_auc, linewidth=4)\n",
    "ax[0].plot([0, 1], [0, 1], 'k--', linewidth=4)\n",
    "ax[0].set_xlabel('False Positive Rate')\n",
    "ax[0].set_ylabel('True Positive Rate')\n",
    "ax[0].legend(loc=\"lower right\")\n",
    "ax[0].set_title('ROC curve')\n",
    "\n",
    "ax[0].xaxis.label.set_color('white')\n",
    "ax[0].yaxis.label.set_color('white')\n",
    "ax[0].tick_params(axis='x', colors='white')\n",
    "ax[0].tick_params(axis='y', colors='white')\n",
    "ax[0].title.set_color('white')\n",
    "\n",
    "ax[0].spines['bottom'].set_color('white')\n",
    "ax[0].spines['top'].set_color('white')\n",
    "ax[0].spines['left'].set_color('white')\n",
    "ax[0].spines['right'].set_color('white')\n",
    "\n",
    "# PR curve\n",
    "precision, recall, threshold = precision_recall_curve(y, y_pp.class_1_pp)\n",
    "\n",
    "ax[1].plot(recall, precision, label='Precision-recall curve', linewidth=4)\n",
    "ax[1].set_xlabel('Recall')\n",
    "ax[1].set_ylabel('Precision')\n",
    "ax[1].set_title('Precision-Recall curve')\n",
    "\n",
    "ax[1].xaxis.label.set_color('white')\n",
    "ax[1].yaxis.label.set_color('white')\n",
    "ax[1].tick_params(axis='x', colors='white')\n",
    "ax[1].tick_params(axis='y', colors='white')\n",
    "ax[1].title.set_color('white')\n",
    "\n",
    "ax[1].spines['bottom'].set_color('white')\n",
    "ax[1].spines['top'].set_color('white')\n",
    "ax[1].spines['left'].set_color('white')\n",
    "ax[1].spines['right'].set_color('white')\n",
    "\n",
    "legend = ax[0].legend(frameon = 1)\n",
    "frame = legend.get_frame()\n",
    "frame.set_color('white')\n",
    "\n",
    "legend = ax[1].legend(frameon = 1)\n",
    "frame = legend.get_frame()\n",
    "frame.set_color('white')\n",
    "\n",
    "fig.savefig('bc_roc.png', transparent=True, edgecolor='white')\n",
    "\n",
    "plt.tight_layout()\n",
    "plt.show()"
   ]
  },
  {
   "cell_type": "code",
   "execution_count": null,
   "metadata": {
    "ExecuteTime": {
     "end_time": "2020-03-04T18:04:02.394355Z",
     "start_time": "2020-03-04T18:04:02.328946Z"
    }
   },
   "outputs": [],
   "source": [
    "# Pickle if results are satisfactory:\n",
    "gs_bc_pickle_name = './pickle_objects/gs_bc_best_score_{}%.pkl'.format(np.round(gs_bc.best_score_*100,2))\n",
    "pickle.dump(gs_bc.best_estimator_, open(gs_bc_pickle_name, 'wb'))"
   ]
  },
  {
   "cell_type": "markdown",
   "metadata": {},
   "source": [
    "#### Gradient Boosting Classifier"
   ]
  },
  {
   "cell_type": "code",
   "execution_count": 21,
   "metadata": {
    "ExecuteTime": {
     "end_time": "2020-03-04T22:50:00.492999Z",
     "start_time": "2020-03-04T22:49:12.080543Z"
    }
   },
   "outputs": [
    {
     "name": "stdout",
     "output_type": "stream",
     "text": [
      "Fitting 5 folds for each of 1 candidates, totalling 5 fits\n"
     ]
    },
    {
     "name": "stderr",
     "output_type": "stream",
     "text": [
      "[Parallel(n_jobs=2)]: Using backend LokyBackend with 2 concurrent workers.\n",
      "[Parallel(n_jobs=2)]: Done   5 out of   5 | elapsed:   34.9s finished\n"
     ]
    },
    {
     "name": "stdout",
     "output_type": "stream",
     "text": [
      "{'gb__learning_rate': 0.1, 'gb__max_depth': 9, 'gb__max_features': 0.1}\n",
      "0.8283421959012115\n"
     ]
    }
   ],
   "source": [
    "gb = GradientBoostingClassifier(n_estimators=200, n_iter_no_change=20)\n",
    "# params = {'gb__learning_rate': np.linspace(.01,0.2,4),\n",
    "#           'gb__max_depth':range(6,10),\n",
    "#           'gb__max_features':np.linspace(0.05,0.5,4)}\n",
    "params = {'gb__learning_rate': [0.1],\n",
    "          'gb__max_depth':[9],\n",
    "          'gb__max_features':[0.1]}\n",
    "\n",
    "pipeline = Pipeline([('std', std), ('ovr', ovr), ('gb', gb)])\n",
    "\n",
    "gs_gb = GridSearchCV(pipeline, params, verbose=1, n_jobs=2, cv=kf, scoring='roc_auc')\n",
    "gs_gb.fit(X_dum, y)\n",
    "print(gs_gb.best_params_)\n",
    "print(gs_gb.best_score_)"
   ]
  },
  {
   "cell_type": "code",
   "execution_count": null,
   "metadata": {
    "ExecuteTime": {
     "end_time": "2020-03-04T18:05:38.091564Z",
     "start_time": "2020-03-04T18:05:36.831581Z"
    }
   },
   "outputs": [],
   "source": [
    "gb_feature_importances = pd.DataFrame(gs_gb.best_estimator_.steps[2][1].feature_importances_,\n",
    "                                      index=X_dum.columns,\n",
    "                                      columns=['importances']).sort_values('importances')\n",
    "\n",
    "fig, ax = plt.subplots(ncols=2, figsize=(12,6))\n",
    "ax[0].barh(gb_feature_importances.iloc[-30:,0].index, gb_feature_importances.iloc[-30:,0])\n",
    "ax[0].set_title('Top 30...')\n",
    "ax[0].set_xlabel('Gradient Boosting importances')\n",
    "ax[0].set_xlim([0,0.1])\n",
    "ax[1].barh(gb_feature_importances.iloc[:30,0].index, gb_feature_importances.iloc[:30,0])\n",
    "ax[1].set_title('...Next 30')\n",
    "ax[1].set_xlabel('Gradient Boosting importances')\n",
    "ax[1].set_xlim([0,0.1])\n",
    "fig.tight_layout();"
   ]
  },
  {
   "cell_type": "code",
   "execution_count": 22,
   "metadata": {
    "ExecuteTime": {
     "end_time": "2020-03-04T22:50:20.062945Z",
     "start_time": "2020-03-04T22:50:14.383184Z"
    }
   },
   "outputs": [
    {
     "name": "stdout",
     "output_type": "stream",
     "text": [
      "Confusion Matrix:\n",
      "[[8374 1581]\n",
      " [  25  526]]\n",
      "Classification Report:\n",
      "              precision    recall  f1-score   support\n",
      "\n",
      "           0       1.00      0.84      0.91      9955\n",
      "           1       0.25      0.95      0.40       551\n",
      "\n",
      "    accuracy                           0.85     10506\n",
      "   macro avg       0.62      0.90      0.65     10506\n",
      "weighted avg       0.96      0.85      0.89     10506\n",
      "\n"
     ]
    }
   ],
   "source": [
    "gb_best = GradientBoostingClassifier(n_estimators=100, n_iter_no_change=20,\n",
    "                                     learning_rate=gs_gb.best_estimator_.steps[2][1].learning_rate,\n",
    "                                     max_depth=gs_gb.best_estimator_.steps[2][1].max_depth,\n",
    "                                     max_features=gs_gb.best_estimator_.steps[2][1].max_features)\n",
    "pipe_gb_best = Pipeline([('std', std), ('ovr', ovr), ('gb_best', gb_best)])\n",
    "pipe_gb_best.fit(X_dum, y)\n",
    "print('Confusion Matrix:')\n",
    "print(confusion_matrix(y, pipe_gb_best.predict(X_dum)))\n",
    "print('Classification Report:')\n",
    "print(classification_report(y, pipe_gb_best.predict(X_dum)))"
   ]
  },
  {
   "cell_type": "code",
   "execution_count": 23,
   "metadata": {
    "ExecuteTime": {
     "end_time": "2020-03-04T22:50:35.037232Z",
     "start_time": "2020-03-04T22:50:34.362983Z"
    }
   },
   "outputs": [
    {
     "data": {
      "image/png": "[encoded data removed]",
      "text/plain": [
       "<Figure size 576x288 with 2 Axes>"
      ]
     },
     "metadata": {
      "needs_background": "dark"
     },
     "output_type": "display_data"
    }
   ],
   "source": [
    "cm = confusion_matrix(y, pipe_gb_best.predict(X_dum))\n",
    "cm_norm = confusion_matrix(y, pipe_gb_best.predict(X_dum), normalize='true')\n",
    "\n",
    "classes = pipe_gb_best.classes_\n",
    "\n",
    "fig, ax = plt.subplots(ncols=2, figsize=(8,4))\n",
    "sns.heatmap(pd.DataFrame(cm, index=classes, columns=classes), annot=True, fmt='d', cbar=False,\n",
    "            cmap=sns.color_palette(\"Blues\"), ax=ax[0])\n",
    "ax[0].set_title('Confusion Matrix')\n",
    "ax[0].xaxis.label.set_color('white')\n",
    "ax[0].yaxis.label.set_color('white')\n",
    "ax[0].tick_params(axis='x', colors='white')\n",
    "ax[0].tick_params(axis='y', colors='white')\n",
    "ax[0].title.set_color('white')\n",
    "\n",
    "sns.heatmap(pd.DataFrame(cm_norm, index=classes, columns=classes), annot=True, cbar=False,\n",
    "            cmap=sns.color_palette(\"Blues\"), ax=ax[1])\n",
    "ax[1].set_title('Normalized Confusion Matrix')\n",
    "\n",
    "ax[1].xaxis.label.set_color('white')\n",
    "ax[1].yaxis.label.set_color('white')\n",
    "ax[1].tick_params(axis='x', colors='white')\n",
    "ax[1].tick_params(axis='y', colors='white')\n",
    "ax[1].title.set_color('white')\n",
    "\n",
    "plt.tight_layout();"
   ]
  },
  {
   "cell_type": "code",
   "execution_count": 24,
   "metadata": {
    "ExecuteTime": {
     "end_time": "2020-03-04T22:50:51.641376Z",
     "start_time": "2020-03-04T22:50:50.549066Z"
    }
   },
   "outputs": [
    {
     "data": {
      "image/png": "[encoded data removed]",
      "text/plain": [
       "<Figure size 720x288 with 2 Axes>"
      ]
     },
     "metadata": {
      "needs_background": "dark"
     },
     "output_type": "display_data"
    }
   ],
   "source": [
    "y_pp = pd.DataFrame(pipe_gb_best.predict_proba(X_dum), columns=['class_0_pp', 'class_1_pp'])\n",
    "\n",
    "# ROC curve\n",
    "fpr, tpr, threshold = roc_curve(y, y_pp.class_1_pp)\n",
    "roc_auc = auc(fpr, tpr)\n",
    "\n",
    "fig, ax = plt.subplots(ncols=2, figsize=(10,4))\n",
    "ax[0].plot(fpr, tpr, label='ROC curve (area = %0.2f)' % roc_auc, linewidth=4)\n",
    "ax[0].plot([0, 1], [0, 1], 'k--', linewidth=4)\n",
    "ax[0].set_xlabel('False Positive Rate')\n",
    "ax[0].set_ylabel('True Positive Rate')\n",
    "ax[0].legend(loc=\"lower right\")\n",
    "ax[0].set_title('ROC curve')\n",
    "\n",
    "ax[0].xaxis.label.set_color('white')\n",
    "ax[0].yaxis.label.set_color('white')\n",
    "ax[0].tick_params(axis='x', colors='white')\n",
    "ax[0].tick_params(axis='y', colors='white')\n",
    "ax[0].title.set_color('white')\n",
    "\n",
    "ax[0].spines['bottom'].set_color('white')\n",
    "ax[0].spines['top'].set_color('white')\n",
    "ax[0].spines['left'].set_color('white')\n",
    "ax[0].spines['right'].set_color('white')\n",
    "\n",
    "# PR curve\n",
    "precision, recall, threshold = precision_recall_curve(y, y_pp.class_1_pp)\n",
    "\n",
    "ax[1].plot(recall, precision, label='Precision-recall curve', linewidth=4)\n",
    "ax[1].set_xlabel('Recall')\n",
    "ax[1].set_ylabel('Precision')\n",
    "ax[1].set_title('Precision-Recall curve')\n",
    "\n",
    "ax[1].xaxis.label.set_color('white')\n",
    "ax[1].yaxis.label.set_color('white')\n",
    "ax[1].tick_params(axis='x', colors='white')\n",
    "ax[1].tick_params(axis='y', colors='white')\n",
    "ax[1].title.set_color('white')\n",
    "\n",
    "ax[1].spines['bottom'].set_color('white')\n",
    "ax[1].spines['top'].set_color('white')\n",
    "ax[1].spines['left'].set_color('white')\n",
    "ax[1].spines['right'].set_color('white')\n",
    "\n",
    "legend = ax[0].legend(frameon = 1)\n",
    "frame = legend.get_frame()\n",
    "frame.set_color('white')\n",
    "\n",
    "legend = ax[1].legend(frameon = 1)\n",
    "frame = legend.get_frame()\n",
    "frame.set_color('white')\n",
    "\n",
    "fig.savefig('gb_roc.png', transparent=True, edgecolor='white')\n",
    "\n",
    "plt.tight_layout()\n",
    "plt.show()"
   ]
  },
  {
   "cell_type": "code",
   "execution_count": null,
   "metadata": {},
   "outputs": [],
   "source": [
    "# Pickle if results are satisfactory:\n",
    "gs_gb_pickle_name = './pickle_objects/gs_gb_best_score_{}%.pkl'.format(np.round(gs_gb.best_score_*100,2))\n",
    "pickle.dump(gs_gb.best_estimator_, open(gs_gb_pickle_name, 'wb'))"
   ]
  },
  {
   "cell_type": "markdown",
   "metadata": {},
   "source": [
    "#### Naive Bayes Classifier"
   ]
  },
  {
   "cell_type": "code",
   "execution_count": null,
   "metadata": {},
   "outputs": [],
   "source": [
    "pt = PowerTransformer(standardize=True)\n",
    "X_dum_pt = pd.DataFrame(pt.fit_transform(X_dum), columns=X_dum.columns, index=X_dum.index)\n",
    "\n",
    "fig,ax = plt.subplots(ncols=2, figsize=(10,4))\n",
    "X_dum.loc[:,'weather_PC1':'weather_PC10'].boxplot(vert=False, ax=ax[0]);\n",
    "ax[0].set_title('Continuous variables')\n",
    "X_dum_pt.loc[:,'weather_PC1':'weather_PC10'].boxplot(vert=False, ax=ax[1]);\n",
    "ax[1].set_title('Normalized Continuous variables')\n",
    "plt.tight_layout();"
   ]
  },
  {
   "cell_type": "code",
   "execution_count": null,
   "metadata": {
    "scrolled": true
   },
   "outputs": [],
   "source": [
    "sm_nb_gaussian = SMOTE()\n",
    "ovr = RandomOverSampler()\n",
    "\n",
    "# GaussianNB for continuous features:\n",
    "nb_gaussian = naive_bayes.GaussianNB()\n",
    "params = {'nb_gaussian__var_smoothing':np.logspace(-10,0,5)}\n",
    "    \n",
    "pipeline = Pipeline([('std', std), ('sm_nb_gaussian', sm_nb_gaussian), ('nb_gaussian', nb_gaussian)])\n",
    "\n",
    "gs_nb_gaussian = GridSearchCV(pipeline, params, verbose=1, n_jobs=2, cv=kf, scoring='roc_auc')\n",
    "gs_nb_gaussian.fit(X_dum_pt.loc[:,'weather_PC1':'weather_PC10'], y)\n",
    "print(gs_nb_gaussian.best_params_)\n",
    "print(gs_nb_gaussian.best_score_)\n",
    "\n",
    "# MultinomialNB for categorical features:\n",
    "nb_multinomial = naive_bayes.MultinomialNB()\n",
    "params = {'nb_multinomial__alpha':np.linspace(0.1,1.0,5)}\n",
    "\n",
    "pipeline = Pipeline([('ovr', ovr),\n",
    "                     ('nb_multinomial', nb_multinomial)])\n",
    "\n",
    "X_dum_multinb = pd.get_dummies(X[['Species','Trap']])\n",
    "\n",
    "gs_nb_multinomial = GridSearchCV(pipeline, params, verbose=1, n_jobs=2, cv=kf, scoring='roc_auc')\n",
    "gs_nb_multinomial.fit(X_dum_multinb, y)\n",
    "print(gs_nb_multinomial.best_params_)\n",
    "print(gs_nb_multinomial.best_score_)\n",
    "\n",
    "# BernoulliNB for binary features:\n",
    "nb_bernoulli = naive_bayes.BernoulliNB()\n",
    "params = {'nb_bernoulli__alpha':np.linspace(0.1,1.0,5)}\n",
    "\n",
    "pipeline = Pipeline([('ovr', ovr),\n",
    "                     ('nb_bernoulli', nb_bernoulli)])\n",
    "\n",
    "gs_nb_bernoulli = GridSearchCV(pipeline, params, verbose=1, n_jobs=2, cv=kf, scoring='roc_auc')\n",
    "gs_nb_bernoulli.fit(X[['isSpray']], y)\n",
    "print(gs_nb_bernoulli.best_params_)\n",
    "print(gs_nb_bernoulli.best_score_)\n",
    "\n",
    "# Combining Naive Bayes classifiers:\n"
   ]
  },
  {
   "cell_type": "code",
   "execution_count": null,
   "metadata": {},
   "outputs": [],
   "source": [
    "nb_gaussian_best = naive_bayes.GaussianNB(var_smoothing=1.0)\n",
    "pipeline_best_nb_gau = Pipeline([('std', std), ('sm_nb_gaussian', sm_nb_gaussian), ('nb_gaussian_best', nb_gaussian_best)])\n",
    "\n",
    "pipeline_best_nb_gau.fit(X_dum_pt.loc[:,'weather_PC1':'weather_PC10'], y)\n",
    "a_gau = pipeline_best_nb_gau.predict_proba(X_dum_pt.loc[:,'weather_PC1':'weather_PC10'])\n",
    "a_gau"
   ]
  },
  {
   "cell_type": "code",
   "execution_count": null,
   "metadata": {},
   "outputs": [],
   "source": [
    "nb_bernoulli_best = naive_bayes.BernoulliNB(alpha=0.1)\n",
    "pipeline_best_nb_ber = Pipeline([('ovr' , ovr), ('nb_bernoulli_best', nb_bernoulli_best)])\n",
    "pipeline_best_nb_ber.fit(X[['isSpray']], y)\n",
    "a_ber = pipeline_best_nb_ber.predict_proba(X[['isSpray']])\n",
    "a_ber"
   ]
  },
  {
   "cell_type": "code",
   "execution_count": null,
   "metadata": {},
   "outputs": [],
   "source": [
    "nb_multinomial_best = naive_bayes.MultinomialNB(alpha=1.0)\n",
    "pipeline_best_nb_mul = Pipeline([('ovr' , ovr), ('nb_multinomial_best', nb_multinomial_best)])\n",
    "pipeline_best_nb_mul.fit(X_dum_multinb, y)\n",
    "a_mul = pipeline_best_nb_mul.predict_proba(X_dum_multinb)\n",
    "a_mul"
   ]
  },
  {
   "cell_type": "markdown",
   "metadata": {},
   "source": [
    "#### Support Vector Machines"
   ]
  },
  {
   "cell_type": "code",
   "execution_count": null,
   "metadata": {},
   "outputs": [],
   "source": [
    "svm = SVC(kernel='rbf')\n",
    "params = {'svm__C':np.logspace(-4,4,5),\n",
    "          'svm__gamma':np.logspace(-4,4,5)}\n",
    "    \n",
    "pipeline = Pipeline([('std', std), ('sm', sm), ('svm', svm)])\n",
    "\n",
    "gs_svm = GridSearchCV(pipeline, params, verbose=1, n_jobs=2, cv=kf, scoring='roc_auc')\n",
    "gs_svm.fit(X_dum, y)\n",
    "print(gs_svm.best_params_)\n",
    "print(gs_svm.best_score_)"
   ]
  },
  {
   "cell_type": "code",
   "execution_count": null,
   "metadata": {},
   "outputs": [],
   "source": [
    "# Pickle if results are satisfactory:\n",
    "gs_svm_pickle_name = './pickle_objects/gs_svm_best_score_{}%.pkl'.format(np.round(gs_svm.best_score_*100,2))\n",
    "pickle.dump(gs_svm.best_estimator_, open(gs_svm_pickle_name, 'wb'))"
   ]
  },
  {
   "cell_type": "markdown",
   "metadata": {},
   "source": [
    "### Append predicts"
   ]
  },
  {
   "cell_type": "code",
   "execution_count": 25,
   "metadata": {
    "ExecuteTime": {
     "end_time": "2020-03-04T23:03:56.947060Z",
     "start_time": "2020-03-04T23:03:45.972267Z"
    }
   },
   "outputs": [],
   "source": [
    "# Reload .pkl objects on restart:\n",
    "Tk().withdraw()\n",
    "pipe_lr_best = pickle.load(open(askopenfilename(), 'rb'))\n",
    "# pipe_dt_best = pickle.load(open(askopenfilename(), 'rb'))\n",
    "# pipe_rf_best = pickle.load(open(askopenfilename(), 'rb'))\n",
    "pipe_bc_best = pickle.load(open(askopenfilename(), 'rb'))\n",
    "# pipe_gb_best = pickle.load(open(askopenfilename(), 'rb'))"
   ]
  },
  {
   "cell_type": "code",
   "execution_count": 26,
   "metadata": {
    "ExecuteTime": {
     "end_time": "2020-03-04T23:05:31.088773Z",
     "start_time": "2020-03-04T23:05:26.025990Z"
    }
   },
   "outputs": [
    {
     "name": "stderr",
     "output_type": "stream",
     "text": [
      "/Users/Noah/anaconda3/envs/tensorflow_env/lib/python3.7/site-packages/IPython/core/interactiveshell.py:3063: DtypeWarning: Columns (23,31,33,89) have mixed types.Specify dtype option on import or set low_memory=False.\n",
      "  interactivity=interactivity, compiler=compiler, result=result)\n"
     ]
    }
   ],
   "source": [
    "train_predict_df = pd.read_csv('./datasets/train_predict_df.csv')\n",
    "# train_predict_df = train_df.copy()\n",
    "pipe_lr_best.fit(X_dum, y)\n",
    "train_predict_df['lr_predict'] = pipe_lr_best.predict(X_dum)\n",
    "# pipe_dt_best.fit(X_dum, y)\n",
    "# train_predict_df['dt_predict'] = pipe_dt_best.predict(X_dum)\n",
    "# pipe_rf_best.fit(X_dum, y)\n",
    "# train_predict_df['rf_predict'] = pipe_rf_best.predict(X_dum)\n",
    "pipe_bc_best.fit(X_dum, y)\n",
    "train_predict_df['bc_predict'] = pipe_bc_best.predict(X_dum)\n",
    "# pipe_gb_best.fit(X_dum, y)\n",
    "# train_predict_df['gb_predict'] = pipe_gb_best.predict(X_dum)\n",
    "train_predict_df.to_csv('./datasets/train_predict_df.csv')"
   ]
  },
  {
   "cell_type": "code",
   "execution_count": 27,
   "metadata": {
    "ExecuteTime": {
     "end_time": "2020-03-04T23:05:47.644907Z",
     "start_time": "2020-03-04T23:05:47.629460Z"
    },
    "code_folding": [
     0
    ]
   },
   "outputs": [],
   "source": [
    "def vs_actual_labeller(df):\n",
    "    if df.iloc[0] and df.iloc[1]:\n",
    "        label = 'VirusCaught'\n",
    "    elif df.iloc[0] and not df.iloc[1]:\n",
    "        label = 'VirusMissed'\n",
    "    elif not df.iloc[0] and df.iloc[1]:\n",
    "        label = 'FalseAlarm'\n",
    "    else:\n",
    "        label = 'NoVirus'\n",
    "    return label"
   ]
  },
  {
   "cell_type": "code",
   "execution_count": 28,
   "metadata": {
    "ExecuteTime": {
     "end_time": "2020-03-04T23:06:12.016674Z",
     "start_time": "2020-03-04T23:06:09.742797Z"
    }
   },
   "outputs": [
    {
     "name": "stderr",
     "output_type": "stream",
     "text": [
      "/Users/Noah/anaconda3/envs/tensorflow_env/lib/python3.7/site-packages/IPython/core/interactiveshell.py:3063: DtypeWarning: Columns (24,32,34,90) have mixed types.Specify dtype option on import or set low_memory=False.\n",
      "  interactivity=interactivity, compiler=compiler, result=result)\n"
     ]
    }
   ],
   "source": [
    "train_predict_df = pd.read_csv('./datasets/train_predict_df.csv')\n",
    "\n",
    "train_predict_df['lr_vs_actual'] = train_predict_df[['WnvPresent','lr_predict']].apply(vs_actual_labeller, axis=1)\n",
    "#train_predict_df['dt_vs_actual'] = train_predict_df[['WnvPresent','dt_predict']].apply(vs_actual_labeller, axis=1)\n",
    "#train_predict_df['rf_vs_actual'] = train_predict_df[['WnvPresent','rf_predict']].apply(vs_actual_labeller, axis=1)\n",
    "train_predict_df['bc_vs_actual'] = train_predict_df[['WnvPresent','bc_predict']].apply(vs_actual_labeller, axis=1)\n",
    "#train_predict_df['gb_vs_actual'] = train_predict_df[['WnvPresent','gb_predict']].apply(vs_actual_labeller, axis=1)\n",
    "\n",
    "train_predict_df.to_csv('./datasets/train_predict_df.csv')"
   ]
  },
  {
   "cell_type": "markdown",
   "metadata": {},
   "source": [
    "### TensorFlow Keras Neural Network"
   ]
  },
  {
   "cell_type": "code",
   "execution_count": null,
   "metadata": {},
   "outputs": [],
   "source": [
    "optimizer = tf.keras.optimizers.SGD(learning_rate=0.0001)\n",
    "metric = tf.keras.metrics.AUC()\n",
    "\n",
    "def create_model(epochs, optimizer, batch_size, kernel_initializer_fn, kernel_regularizer_fn):\n",
    "    tf_keras = tf.keras.Sequential([\n",
    "    tf.keras.layers.Dense(8, activation='relu', input_shape=(X_dum.shape[1], )),\n",
    "    tf.keras.layers.Dropout(0.2),\n",
    "    tf.keras.layers.Dense(8, activation='relu'),\n",
    "    tf.keras.layers.Dropout(0.2),\n",
    "    tf.keras.layers.Dense(8, activation='relu'),\n",
    "    tf.keras.layers.Dropout(0.2),\n",
    "    tf.keras.layers.Dense(8, activation='relu'),\n",
    "    tf.keras.layers.Dropout(0.2),\n",
    "    tf.keras.layers.Dense(1, activation='sigmoid')])\n",
    "    \n",
    "    tf_keras.compile(loss='binary_crossentropy',\n",
    "                     optimizer=optimizer,\n",
    "                     metrics=[metric])\n",
    "    return tf_keras"
   ]
  },
  {
   "cell_type": "code",
   "execution_count": null,
   "metadata": {},
   "outputs": [],
   "source": [
    "kerasclf = tf.keras.wrappers.scikit_learn.KerasClassifier(build_fn=create_model, verbose=0)\n",
    "params = {'kerasclf__epochs': [100],\n",
    "          'kerasclf__optimizer': ['sgd','adam'],\n",
    "          'kerasclf__batch_size': [5, 10, 20],\n",
    "          'kerasclf__kernel_initializer_fn': ['glorot_uniform', 'normal', 'uniform'],\n",
    "          'kerasclf__kernel_regularizer_fn': ['L1L2']}\n",
    "          \n",
    "pipeline = Pipeline([('std', std), ('sm', sm), ('kerasclf', kerasclf)])\n",
    "\n",
    "gs_keras = GridSearchCV(pipeline, params, verbose=1, n_jobs=2, cv=kf, scoring='roc_auc')\n",
    "gs_keras.fit(X_dum, y)\n",
    "print(gs_keras.best_params_)\n",
    "print(gs_keras.best_score_)"
   ]
  },
  {
   "cell_type": "code",
   "execution_count": null,
   "metadata": {},
   "outputs": [],
   "source": [
    "early_stop = tf.keras.callbacks.EarlyStopping(monitor='val_loss', patience=30)\n",
    "\n",
    "model = create_model(epochs=gs_keras.best_params_['kerasclf__epochs'],\n",
    "                     optimizer=gs_keras.best_params_['kerasclf__optimizer'],\n",
    "                     batch_size=gs_keras.best_params_['kerasclf__batch_size'],\n",
    "                     kernel_initializer_fn=gs_keras.best_params_['kerasclf__kernel_initializer_fn'],\n",
    "                     kernel_regularizer_fn=gs_keras.best_params_['kerasclf__kernel_regularizer_fn'],)\n",
    "\n",
    "history = model.fit(X_dum, y.values,\n",
    "                    epochs=gs_keras.best_params_['kerasclf__epochs'],\n",
    "                    validation_split=0.2,\n",
    "                    verbose=0,\n",
    "                    callbacks=[early_stop])"
   ]
  },
  {
   "cell_type": "code",
   "execution_count": null,
   "metadata": {},
   "outputs": [],
   "source": [
    "plt.plot(history.history['loss'],c='r')\n",
    "plt.plot(history.history['val_loss'],c='b')\n",
    "plt.show()"
   ]
  },
  {
   "cell_type": "markdown",
   "metadata": {},
   "source": [
    "## Kaggle Submission"
   ]
  },
  {
   "cell_type": "markdown",
   "metadata": {},
   "source": [
    "#### Setting up (X_test)"
   ]
  },
  {
   "cell_type": "code",
   "execution_count": null,
   "metadata": {
    "ExecuteTime": {
     "end_time": "2020-03-03T22:00:16.891716Z",
     "start_time": "2020-03-03T22:00:15.828920Z"
    }
   },
   "outputs": [],
   "source": [
    "X_test = test_df[['Species','Trap','weather_PC1','weather_PC2','weather_PC3','weather_PC4','weather_PC5',\n",
    "                  'weather_PC6','weather_PC7','weather_PC8','weather_PC9','weather_PC10','isSpray']]\n",
    "X_test_dum = pd.get_dummies(X_test, drop_first=True, columns=['Species','Trap'])"
   ]
  },
  {
   "cell_type": "markdown",
   "metadata": {},
   "source": [
    "#### Model predictions"
   ]
  },
  {
   "cell_type": "code",
   "execution_count": null,
   "metadata": {
    "ExecuteTime": {
     "end_time": "2020-03-03T22:09:35.024655Z",
     "start_time": "2020-03-03T22:09:34.807978Z"
    }
   },
   "outputs": [],
   "source": [
    "X_dum.head(1)"
   ]
  },
  {
   "cell_type": "code",
   "execution_count": null,
   "metadata": {
    "ExecuteTime": {
     "end_time": "2020-03-03T22:09:47.544174Z",
     "start_time": "2020-03-03T22:09:47.264776Z"
    }
   },
   "outputs": [],
   "source": [
    "X_test_dum.head(1)"
   ]
  },
  {
   "cell_type": "code",
   "execution_count": null,
   "metadata": {
    "ExecuteTime": {
     "end_time": "2020-03-03T22:04:02.647397Z",
     "start_time": "2020-03-03T22:02:44.668583Z"
    }
   },
   "outputs": [],
   "source": [
    "pipe_gb_best.fit(X_dum, y)\n",
    "y_test_pp = pd.DataFrame(pipe_gb_best.predict_proba(X_test_dum), columns=['class_0_pp', 'class_1_pp'])"
   ]
  },
  {
   "cell_type": "code",
   "execution_count": null,
   "metadata": {},
   "outputs": [],
   "source": [
    "# Submit to kaggle\n",
    "# Add sampling strategy as hyperparameter in gridsearches\n",
    "# How can I combine the NB classifiers?\n",
    "# Keras - plot acc as well as loss. like calum"
   ]
  },
  {
   "cell_type": "code",
   "execution_count": null,
   "metadata": {},
   "outputs": [],
   "source": []
  }
 ],
 "metadata": {
  "kernelspec": {
   "display_name": "tensorflow_env",
   "language": "python",
   "name": "tensorflow_env"
  },
  "language_info": {
   "codemirror_mode": {
    "name": "ipython",
    "version": 3
   },
   "file_extension": ".py",
   "mimetype": "text/x-python",
   "name": "python",
   "nbconvert_exporter": "python",
   "pygments_lexer": "ipython3",
   "version": "3.7.4"
  },
  "toc": {
   "base_numbering": 1,
   "nav_menu": {},
   "number_sections": true,
   "sideBar": true,
   "skip_h1_title": false,
   "title_cell": "Table of Contents",
   "title_sidebar": "Contents",
   "toc_cell": false,
   "toc_position": {
    "height": "610px",
    "left": "91px",
    "top": "220.722px",
    "width": "320px"
   },
   "toc_section_display": true,
   "toc_window_display": true
  },
  "varInspector": {
   "cols": {
    "lenName": 16,
    "lenType": 16,
    "lenVar": 40
   },
   "kernels_config": {
    "python": {
     "delete_cmd_postfix": "",
     "delete_cmd_prefix": "del ",
     "library": "var_list.py",
     "varRefreshCmd": "print(var_dic_list())"
    },
    "r": {
     "delete_cmd_postfix": ") ",
     "delete_cmd_prefix": "rm(",
     "library": "var_list.r",
     "varRefreshCmd": "cat(var_dic_list()) "
    }
   },
   "position": {
    "height": "445.208px",
    "left": "1230px",
    "right": "20px",
    "top": "120px",
    "width": "350px"
   },
   "types_to_exclude": [
    "module",
    "function",
    "builtin_function_or_method",
    "instance",
    "_Feature"
   ],
   "window_display": false
  }
 },
 "nbformat": 4,
 "nbformat_minor": 2
}
