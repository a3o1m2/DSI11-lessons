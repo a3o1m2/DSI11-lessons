{
 "cells": [
  {
   "cell_type": "markdown",
   "metadata": {
    "focus": false,
    "id": "69b9a648-bcc7-490d-9f9b-ea244d156bd6"
   },
   "source": [
    "<img src=\"http://imgur.com/1ZcRyrc.png\" style=\"float: left; margin: 15px; height: 80px\">\n",
    "\n",
    "\n",
    "# Web Scraping for Indeed.com and Predicting Salaries"
   ]
  },
  {
   "cell_type": "markdown",
   "metadata": {},
   "source": [
    "### Business Case Overview\n",
    "\n",
    "You're working as a data scientist for a contracting firm that's rapidly expanding. Now that they have their most valuable employee (you!), they need to leverage data to win more contracts. Your firm offers technology and scientific solutions and wants to be competitive in the hiring market. Your principal wants you to\n",
    "\n",
    "   - determine the industry factors that are most important in predicting the salary amounts for these data.\n",
    "\n",
    "To limit the scope, your principal has suggested that you *focus on data-related job postings*, e.g. data scientist, data analyst, research scientist, business intelligence, and any others you might think of. You may also want to decrease the scope by *limiting your search to a single region.*\n",
    "\n",
    "Hint: Aggregators like [Indeed.com](https://www.indeed.com) regularly pool job postings from a variety of markets and industries.\n",
    "\n",
    "**Goal:** Scrape your own data from a job aggregation tool like Indeed.com in order to collect the data to best answer this question.\n",
    "\n",
    "---\n",
    "\n",
    "### Directions\n",
    "\n",
    "In this project you will be leveraging a variety of skills. The first will be to use the web-scraping and/or API techniques you've learned to collect data on data jobs from Indeed.com or another aggregator. Once you have collected and cleaned the data, you will use it to address the question above."
   ]
  },
  {
   "cell_type": "markdown",
   "metadata": {},
   "source": [
    "### Factors that impact salary\n",
    "\n",
    "To predict salary the most appropriate approach would be a regression model.\n",
    "Here instead we just want to estimate which factors (like location, job title, job level, industry sector) lead to high or low salary and work with a classification model. To do so, split the salary into two groups of high and low salary, for example by choosing the median salary as a threshold (in principle you could choose any single or multiple splitting points).\n",
    "\n",
    "Use all the skills you have learned so far to build a predictive model.\n",
    "Whatever you decide to use, the most important thing is to justify your choices and interpret your results. *Communication of your process is key.* Note that most listings **DO NOT** come with salary information. You'll need to be able to extrapolate or predict the expected salaries for these listings."
   ]
  },
  {
   "cell_type": "markdown",
   "metadata": {
    "focus": false,
    "id": "a948d79c-5527-4c0d-ab23-f5d43ce72056"
   },
   "source": [
    "### Scraping job listings from Indeed.com"
   ]
  },
  {
   "cell_type": "markdown",
   "metadata": {
    "focus": true,
    "id": "7203e0c9-e437-4802-a6ad-7dc464f94436"
   },
   "source": [
    "We will be scraping job listings from Indeed.com using BeautifulSoup. Luckily, Indeed.com is a simple text page where we can easily find relevant entries.\n",
    "\n",
    "First, look at the source of an Indeed.com page: (http://www.indeed.com/jobs?q=data+scientist+%2420%2C000&l=New+York&start=10\").\n",
    "\n",
    "Notice, each job listing is underneath a `div` tag with a class name of `result`. We can use BeautifulSoup to extract those. "
   ]
  },
  {
   "cell_type": "markdown",
   "metadata": {
    "focus": false,
    "id": "9732c901-ae26-4160-8376-42e22dd327df"
   },
   "source": [
    "#### Setup a request (using `requests`) to the URL below. Use BeautifulSoup to parse the page and extract all results (HINT: Look for div tags with class name result)\n",
    "\n",
    "The URL here has many query parameters:\n",
    "\n",
    "- `q` for the job search\n",
    "- This is followed by \"+20,000\" to return results with salaries (or expected salaries >$20,000)\n",
    "- `l` for a location \n",
    "- `start` for what result number to start on"
   ]
  },
  {
   "cell_type": "code",
   "execution_count": 1,
   "metadata": {
    "focus": false,
    "id": "e915023e-6b0d-4982-af2a-b1e0355f4927"
   },
   "outputs": [],
   "source": [
    "URL = \"http://www.indeed.com/jobs?\""
   ]
  },
  {
   "cell_type": "code",
   "execution_count": 2,
   "metadata": {
    "focus": false,
    "id": "2efefc73-064a-482d-b3b5-ddf5508cb4ec"
   },
   "outputs": [],
   "source": [
    "import requests\n",
    "import bs4\n",
    "from bs4 import BeautifulSoup\n",
    "import pandas as pd\n",
    "from tqdm import tqdm_notebook\n",
    "\n",
    "pd.set_option('display.max_colwidth',1000)"
   ]
  },
  {
   "cell_type": "markdown",
   "metadata": {
    "focus": false,
    "id": "bb0b866a-26a7-45e9-8084-5a0f90eb4b3e"
   },
   "source": [
    "Let's look at one result more closely. A single `result` looks like\n",
    "\n",
    "```\n",
    "<div class=\" row result\" data-jk=\"2480d203f7e97210\" data-tn-component=\"organicJob\" id=\"p_2480d203f7e97210\" itemscope=\"\" itemtype=\"http://schema.org/JobPosting\">\n",
    "<h2 class=\"jobtitle\" id=\"jl_2480d203f7e97210\">\n",
    "<a class=\"turnstileLink\" data-tn-element=\"jobTitle\" onmousedown=\"return rclk(this,jobmap[0],1);\" rel=\"nofollow\" target=\"_blank\" title=\"AVP/Quantitative Analyst\">AVP/Quantitative Analyst</a>\n",
    "</h2>\n",
    "<span class=\"company\" itemprop=\"hiringOrganization\" itemtype=\"http://schema.org/Organization\">\n",
    "<span itemprop=\"name\">\n",
    "<a href=\"/cmp/Alliancebernstein?from=SERP&amp;campaignid=serp-linkcompanyname&amp;fromjk=2480d203f7e97210&amp;jcid=b374f2a780e04789\" target=\"_blank\">\n",
    "    AllianceBernstein</a></span>\n",
    "</span>\n",
    "<tr>\n",
    "<td class=\"snip\">\n",
    "<nobr>$117,500 - $127,500 a year</nobr>\n",
    "<div>\n",
    "<span class=\"summary\" itemprop=\"description\">\n",
    "C onduct quantitative and statistical research as well as portfolio management for various investment portfolios. Collaborate with Quantitative Analysts and</span>\n",
    "</div>\n",
    "</div>\n",
    "</td>\n",
    "</tr>\n",
    "</table>\n",
    "</div>\n",
    "```\n",
    "\n",
    "While this has some more verbose elements removed, we can see that there is some structure to the above:\n",
    "- The salary is in a `span` with `class='salaryText'`.\n",
    "- The title of a job is in a link with class set to `jobtitle` and a `data-tn-element='jobTitle'`.  \n",
    "- The location is set in a `span` with `class='location'`. \n",
    "- The company is set in a `span` with `class='company'`. \n",
    "- Decide which other components could be relevant, for example the region or the summary of the job advert."
   ]
  },
  {
   "cell_type": "markdown",
   "metadata": {
    "focus": false,
    "id": "f1eddb90-4ba8-483c-a229-77e93aa53119"
   },
   "source": [
    "### Write 4 functions to extract each item: location, company, job, and salary.\n",
    "\n",
    "Example: \n",
    "```python\n",
    "def extract_location_from_result(result):\n",
    "    return result.find ...\n",
    "```\n",
    "\n",
    "\n",
    "- **Make sure these functions are robust and can handle cases where the data/field may not be available.**\n",
    "    - Remember to check if a field is empty or `None` for attempting to call methods on it.\n",
    "    - Remember to use `try/except` if you anticipate errors.\n",
    "- **Test** the functions on the results above and simple examples."
   ]
  },
  {
   "cell_type": "code",
   "execution_count": 3,
   "metadata": {
    "code_folding": [
     0
    ],
    "focus": false,
    "id": "a1af53c9-9090-494f-b82e-cadb60a54909"
   },
   "outputs": [],
   "source": [
    "## YOUR CODE HERE\n",
    "\n",
    "def extract_title_from_result(result):\n",
    "    try:\n",
    "        return result.find('a', attrs={'class':'jobtitle', 'data-tn-element':'jobTitle'}).text.strip()\n",
    "    except:\n",
    "        np.nan\n",
    "    \n",
    "def extract_company_from_result(result):\n",
    "    try:\n",
    "        return result.find('span', attrs={'class':'company'}).text.strip()\n",
    "    except:\n",
    "        return np.nan\n",
    "        \n",
    "def extract_rating_from_result(result):\n",
    "    try:\n",
    "        return result.find('span', attrs={'class':'ratingsDisplay'}).text.strip()\n",
    "    except:\n",
    "        return np.nan\n",
    "        \n",
    "def extract_location_from_result(result):\n",
    "    try:\n",
    "        return result.find('span', attrs={'class':'location'}).text.strip()\n",
    "    except:\n",
    "        return np.nan\n",
    "\n",
    "def extract_summary_from_result(result):\n",
    "    try:\n",
    "        return result.find('div', attrs={'class':'summary'}).text.strip()\n",
    "    except:\n",
    "        return np.nan\n",
    "\n",
    "def extract_date_from_result(result):\n",
    "    try:\n",
    "        return result.find('span', attrs={'class':'date'}).text.strip()\n",
    "    except:\n",
    "        return np.nan\n",
    "\n",
    "def extract_salary_from_result(result):\n",
    "    try:\n",
    "        return result.find('span', attrs={'class':'salaryText'}).text.strip()\n",
    "    except:\n",
    "        return np.nan\n",
    "    \n",
    "def calc_salary_USD_from_salary(result):\n",
    "    try:\n",
    "        return extract_salary_from_result(result)*fx_rate[str(city)]\n",
    "    except:\n",
    "        return extract_salary_from_result(result)"
   ]
  },
  {
   "cell_type": "markdown",
   "metadata": {
    "focus": false,
    "id": "34070e89-9521-4b45-90c8-57a6599aac68"
   },
   "source": [
    "Now, to scale up our scraping, we need to accumulate more results. We can do this by examining the URL above.\n",
    "\n",
    "- \"http://www.indeed.com/jobs?q=data+scientist+%2420%2C000&l=New+York&start=10\"\n",
    "\n",
    "There are two query parameters here we can alter to collect more results, the `l=New+York` and the `start=10`. The first controls the location of the results (so we can try a different city). The second controls where in the results to start and gives 10 results (thus, we can keep incrementing by 10 to go further in the list)."
   ]
  },
  {
   "cell_type": "markdown",
   "metadata": {
    "focus": false,
    "id": "e8beed7c-3e42-40c0-810f-5f67f8f885a0"
   },
   "source": [
    "### Complete the following code to collect results from multiple cities and starting points. \n",
    "- Enter your city below to add it to the search.\n",
    "- Remember to convert your salary to U.S. Dollars to match the other cities if the currency is different."
   ]
  },
  {
   "cell_type": "markdown",
   "metadata": {
    "focus": false,
    "id": "20339c09-5032-4e27-91be-286e9b46cd13"
   },
   "source": [
    "#### Use the functions you wrote above to parse out the 4 fields - location, title, company and salary. Create a dataframe from the results with those 4 columns."
   ]
  },
  {
   "cell_type": "code",
   "execution_count": null,
   "metadata": {
    "code_folding": [],
    "focus": false,
    "id": "6e259594-1c52-436b-ab9e-527e071941c1",
    "scrolled": true
   },
   "outputs": [],
   "source": [
    "## YOUR CODE HERE\n",
    "\n",
    "title = []\n",
    "company = []\n",
    "rating = []\n",
    "search_city = []\n",
    "location = []\n",
    "salary = []\n",
    "age = []\n",
    "summary = []\n",
    "\n",
    "UK_CITY = ['London', 'Edinburgh', 'Cambridge', 'Oxford', 'Manchester', 'Reading', 'Bristol', 'Belfast',\n",
    "            'Leeds', 'Glasgow', 'Birmingham', 'Nottingham']\n",
    "UK_FX_rate = 1.3\n",
    "\n",
    "occupation = ['data scientist', 'data analyst', 'data engineer', 'business intelligence', 'machine learning',\n",
    "              'artificial intelligence']\n",
    "\n",
    "max_results_per_city = 5000\n",
    "\n",
    "job_city = {}\n",
    "\n",
    "for city in set(['New+York', 'Chicago', 'San+Francisco', 'Austin', 'Seattle', 'Los+Angeles', 'Philadelphia',\n",
    "                 'Atlanta', 'Dallas', 'Pittsburgh', 'Portland', 'Phoenix', 'Denver', 'Houston',\n",
    "                 'Miami'] + UK_CITY):\n",
    "    \n",
    "    for occupation in set(['data scientist', 'data analyst', 'data analytics', 'data engineer',\n",
    "                           'business intelligence', 'machine learning', 'artificial intelligence']):\n",
    "    \n",
    "        try:\n",
    "            for page in range(0, max_results_per_city, 10):\n",
    "                if city in UK_CITY:\n",
    "                    URL = \"http://www.indeed.co.uk/jobs?\"\n",
    "                    PARAMS = dict(q=str(occupation)+' £20,000', l=city, start=page)\n",
    "                else:\n",
    "                    URL = \"http://www.indeed.com/jobs?\"\n",
    "                    PARAMS = dict(q=str(occupation)+' $20,000', l=city, start=page)\n",
    "\n",
    "                r = requests.get(url=URL, params=PARAMS)\n",
    "                soup = BeautifulSoup(r.text, 'html.parser')\n",
    "\n",
    "                for posting in soup.find_all('div', attrs={'class':'result'}):\n",
    "                    title.append(extract_title_from_result(posting))\n",
    "                    company.append(extract_company_from_result(posting))\n",
    "                    rating.append(extract_rating_from_result(posting))\n",
    "                    search_city.append(city)\n",
    "                    location.append(extract_location_from_result(posting))\n",
    "                    salary.append(extract_salary_from_result(posting))\n",
    "                    age.append(extract_date_from_result(posting))\n",
    "                    summary.append(extract_summary_from_result(posting))\n",
    "        except:\n",
    "            print('Unable to find results for:', city)\n",
    "            \n",
    "    # creating a df for that city's results...\n",
    "    job_city_df = pd.DataFrame(dict(title=title,company=company,rating=rating,search_city=search_city,\n",
    "                            location=location,salary=salary,age=age,summary=summary))\n",
    "    # ... then preserving it in a dictionary with key = that city:\n",
    "    job_city[str(city)] = job_city_df \n",
    "\n",
    "\n",
    "# now to create the full df of results from all cities:\n",
    "jobs = pd.DataFrame()\n",
    "\n",
    "for city in set(['New+York', 'Chicago', 'San+Francisco', 'Austin', 'Seattle', 'Los+Angeles', 'Philadelphia',\n",
    "                 'Atlanta', 'Dallas', 'Pittsburgh', 'Portland', 'Phoenix', 'Denver', 'Houston',\n",
    "                 'Miami'] + UK_CITY):\n",
    "    jobs = jobs.append(job_city['{}'.format(city)], ignore_index=True)\n",
    "\n",
    "print(jobs.shape)\n",
    "jobs.head()"
   ]
  },
  {
   "cell_type": "markdown",
   "metadata": {
    "focus": false,
    "id": "ff98ce64-78a7-441f-a675-63464e32c834"
   },
   "source": [
    "Lastly, we need to clean up salary data. \n",
    "\n",
    "1. Only a small number of the scraped results have salary information - only these will be used for modeling.\n",
    "1. Some of the salaries are not yearly but hourly or weekly, these will not be useful to us for now.\n",
    "1. Some of the entries may be duplicated.\n",
    "1. The salaries are given as text and usually with ranges."
   ]
  },
  {
   "cell_type": "markdown",
   "metadata": {
    "focus": false,
    "id": "ff98ce64-78a7-441f-a675-63464e32c834"
   },
   "source": [
    "#### Find the entries with annual salary entries, by filtering the entries without salaries or salaries that are not yearly (filter those that refer to hour or week). Also, remove duplicate entries."
   ]
  },
  {
   "cell_type": "code",
   "execution_count": 262,
   "metadata": {
    "focus": false,
    "id": "58533e57-f86b-494a-b841-e7b59c6229c6"
   },
   "outputs": [
    {
     "name": "stdout",
     "output_type": "stream",
     "text": [
      "Total shape: (55947, 8)\n",
      "Duplicates: (55529, 8)\n",
      "Any dupes left?: (0, 8)\n",
      "Unique Salary Frequencies found: ['year' 'hour' 'day' 'week' 'month']\n",
      "Checking only year remains: ['year']\n",
      "Jobs Salaried Yearly: (367, 9)\n"
     ]
    },
    {
     "name": "stderr",
     "output_type": "stream",
     "text": [
      "/Users/Noah/anaconda3/lib/python3.7/site-packages/ipykernel_launcher.py:8: SettingWithCopyWarning: \n",
      "A value is trying to be set on a copy of a slice from a DataFrame\n",
      "\n",
      "See the caveats in the documentation: http://pandas.pydata.org/pandas-docs/stable/indexing.html#indexing-view-versus-copy\n",
      "  \n"
     ]
    }
   ],
   "source": [
    "## YOUR CODE HERE\n",
    "jobs_salaried = jobs[jobs['salary'].notnull()]\n",
    "\n",
    "# find and remove dupes first:\n",
    "print('Total shape:',jobs_salaried.shape)\n",
    "print('Duplicates:',jobs_salaried[jobs_salaried.duplicated()].shape)\n",
    "\n",
    "jobs_salaried.drop_duplicates(inplace=True)\n",
    "print('Any dupes left?:',jobs_salaried[jobs_salaried.duplicated()].shape)\n",
    "\n",
    "# create salary_freq column and filter for only yearly salaries:\n",
    "salary_freq = []\n",
    "for sal in jobs_salaried['salary']:\n",
    "    if 'year' in sal:\n",
    "        salary_freq.append('year')\n",
    "    elif 'month' in sal:\n",
    "        salary_freq.append('month')\n",
    "    elif 'week' in sal:\n",
    "        salary_freq.append('week')\n",
    "    elif 'day' in sal:\n",
    "        salary_freq.append('day')\n",
    "    elif 'hour' in sal:\n",
    "        salary_freq.append('hour')\n",
    "    else:\n",
    "        salary_freq.append(np.nan)\n",
    "        \n",
    "jobs_salaried.insert(6, 'salary_freq', salary_freq)\n",
    "print('Unique Salary Frequencies found:',jobs_salaried.salary_freq.unique())\n",
    "\n",
    "jobs_salaried_year = jobs_salaried[jobs_salaried['salary_freq']=='year']\n",
    "print('Checking only year remains:',jobs_salaried_year.salary_freq.unique())\n",
    "print('Jobs Salaried Yearly:',jobs_salaried_year.shape)"
   ]
  },
  {
   "cell_type": "markdown",
   "metadata": {
    "focus": false,
    "id": "7d4bc860-b214-4f75-9cd0-b234830b1ec2"
   },
   "source": [
    "#### Write a function that takes a salary string and converts it to a number, averaging a salary range if necessary."
   ]
  },
  {
   "cell_type": "code",
   "execution_count": 263,
   "metadata": {
    "code_folding": [],
    "focus": false,
    "id": "a0f701e0-80bd-40ba-9101-4535860c0968"
   },
   "outputs": [
    {
     "data": {
      "text/html": [
       "<div>\n",
       "<style scoped>\n",
       "    .dataframe tbody tr th:only-of-type {\n",
       "        vertical-align: middle;\n",
       "    }\n",
       "\n",
       "    .dataframe tbody tr th {\n",
       "        vertical-align: top;\n",
       "    }\n",
       "\n",
       "    .dataframe thead th {\n",
       "        text-align: right;\n",
       "    }\n",
       "</style>\n",
       "<table border=\"1\" class=\"dataframe\">\n",
       "  <thead>\n",
       "    <tr style=\"text-align: right;\">\n",
       "      <th></th>\n",
       "      <th>title</th>\n",
       "      <th>company</th>\n",
       "      <th>rating</th>\n",
       "      <th>search_city</th>\n",
       "      <th>location</th>\n",
       "      <th>salary</th>\n",
       "      <th>salary_freq</th>\n",
       "      <th>isRange</th>\n",
       "      <th>salary_range_min</th>\n",
       "      <th>salary_range_max</th>\n",
       "      <th>salary_avg</th>\n",
       "      <th>salary_avg_USD</th>\n",
       "      <th>age</th>\n",
       "      <th>summary</th>\n",
       "    </tr>\n",
       "  </thead>\n",
       "  <tbody>\n",
       "    <tr>\n",
       "      <th>246</th>\n",
       "      <td>Data Scientist</td>\n",
       "      <td>TheMathCompany Inc.</td>\n",
       "      <td>NaN</td>\n",
       "      <td>Chicago</td>\n",
       "      <td>Chicago, IL</td>\n",
       "      <td>$80,000 - $110,000 a year</td>\n",
       "      <td>year</td>\n",
       "      <td>Range</td>\n",
       "      <td>80000</td>\n",
       "      <td>110000</td>\n",
       "      <td>95000</td>\n",
       "      <td>95000</td>\n",
       "      <td>10 days ago</td>\n",
       "      <td>We are looking for passionate individuals to help our clients solve complex challenges enabling their sustained analytics transformation.</td>\n",
       "    </tr>\n",
       "  </tbody>\n",
       "</table>\n",
       "</div>"
      ],
      "text/plain": [
       "              title              company rating search_city     location  \\\n",
       "246  Data Scientist  TheMathCompany Inc.    NaN     Chicago  Chicago, IL   \n",
       "\n",
       "                        salary salary_freq isRange salary_range_min  \\\n",
       "246  $80,000 - $110,000 a year        year   Range            80000   \n",
       "\n",
       "    salary_range_max salary_avg salary_avg_USD          age  \\\n",
       "246           110000      95000          95000  10 days ago   \n",
       "\n",
       "                                                                                                                                       summary  \n",
       "246  We are looking for passionate individuals to help our clients solve complex challenges enabling their sustained analytics transformation.  "
      ]
     },
     "execution_count": 263,
     "metadata": {},
     "output_type": "execute_result"
    }
   ],
   "source": [
    "## YOUR CODE HERE\n",
    "import re\n",
    "from re import sub\n",
    "from decimal import Decimal\n",
    "\n",
    "jobs_salaried_year.insert(7, 'isRange', jobs_salaried_year.apply(lambda x: 'Range' if '-' in x['salary'] else\n",
    "                                                        'Not Range', axis=1))\n",
    "\n",
    "salary_range_min = []\n",
    "salary_range_max = []\n",
    "salary_avg = []\n",
    "salary_avg_USD = []\n",
    "\n",
    "for x in jobs_salaried_year[['salary','isRange']].values:\n",
    "    if x[1] == 'Not Range':\n",
    "        salary_range_min.append(Decimal(sub(r'[^\\d.]', '', x[0])))\n",
    "        salary_range_max.append(Decimal(sub(r'[^\\d.]', '', x[0])))\n",
    "        salary_avg.append(Decimal(sub(r'[^\\d.]', '', x[0])))\n",
    "\n",
    "    if x[1] == 'Range':\n",
    "        range_min = re.findall(r'[\\d.,]+',x[0])[0]\n",
    "        range_min = Decimal(sub(r',','',range_min))\n",
    "        salary_range_min.append(range_min)\n",
    "        \n",
    "        range_max = re.findall(r'[\\d.,]+',x[0])[1]\n",
    "        range_max = Decimal(sub(r',','',range_max))\n",
    "        salary_range_max.append(range_max)\n",
    "        \n",
    "        salary_avg.append((range_min+range_max)/2)\n",
    "    \n",
    "jobs_salaried_year.insert(8, 'salary_range_min', salary_range_min)\n",
    "jobs_salaried_year.insert(9, 'salary_range_max', salary_range_max)\n",
    "jobs_salaried_year.insert(10, 'salary_avg', salary_avg)\n",
    "\n",
    "jobs_salaried_year.insert(11, 'salary_avg_USD',\n",
    "                         jobs_salaried_year.apply(lambda x: round(Decimal(UK_FX_rate)*x['salary_avg'],2) \n",
    "                                                  if x['search_city'] in UK_CITY\n",
    "                                                  else x['salary_avg'], axis=1))\n",
    "\n",
    "jobs_salaried_year.head(1)"
   ]
  },
  {
   "cell_type": "markdown",
   "metadata": {
    "focus": false,
    "id": "43e71edd-210e-42b1-9336-70a931f048af"
   },
   "source": [
    "### Save your results as a CSV"
   ]
  },
  {
   "cell_type": "code",
   "execution_count": 266,
   "metadata": {
    "focus": false,
    "id": "783fd153-28ac-47ab-bfca-27e7c1de95b4"
   },
   "outputs": [],
   "source": [
    "## YOUR CODE HERE\n",
    "jobs_salaried_year.to_csv('indeed_results.csv', index=False)"
   ]
  },
  {
   "cell_type": "markdown",
   "metadata": {
    "focus": false,
    "id": "243e949e-2742-40af-872e-fec475fd306c"
   },
   "source": [
    "### Load in the the data of scraped salaries"
   ]
  },
  {
   "cell_type": "code",
   "execution_count": 310,
   "metadata": {
    "focus": false,
    "id": "588f9845-6143-4bcc-bfd1-85d45b79303d"
   },
   "outputs": [],
   "source": [
    "## YOUR CODE HERE\n",
    "indeed = pd.read_csv('indeed_results.csv')"
   ]
  },
  {
   "cell_type": "markdown",
   "metadata": {
    "focus": false,
    "id": "c7631f51-07f2-4c79-a093-3e9bc7849a48"
   },
   "source": [
    "### We want to predict a binary variable - whether the salary was low or high. Compute the median salary and create a new binary variable that is true when the salary is high (above the median).\n",
    "\n",
    "We could also perform Linear Regression (or any regression) to predict the salary value here. Instead, we are going to convert this into a _binary_ classification problem, by predicting two classes, HIGH vs LOW salary.\n",
    "\n",
    "While performing regression may be better, performing classification may help remove some of the noise of the extreme salaries. We don't have to choose the `median` as the splitting point - we could also split on the 75th percentile or any other reasonable breaking point.\n",
    "\n",
    "In fact, the ideal scenario may be to predict many levels of salaries."
   ]
  },
  {
   "cell_type": "code",
   "execution_count": 311,
   "metadata": {
    "focus": false,
    "id": "c20d2498-151c-44c3-a453-3a333c79a0ac"
   },
   "outputs": [],
   "source": [
    "## YOUR CODE HERE: categorise salary into 0-25%-ile, 25-50%-ile, 50-75%-ile, 75-100%-ile\n",
    "\n",
    "def categorise(x):\n",
    "    if x <= indeed.salary_avg_USD.quantile(0.25):\n",
    "        return '0_25'\n",
    "    elif x > indeed.salary_avg_USD.quantile(0.25) and x <= indeed.salary_avg_USD.quantile(0.5):\n",
    "        return '25_50'\n",
    "    elif x > indeed.salary_avg_USD.quantile(0.5) and x <= indeed.salary_avg_USD.quantile(0.75):\n",
    "        return '50_75'\n",
    "    elif x > indeed.salary_avg_USD.quantile(0.75):\n",
    "        return '75_100'\n",
    "    else:\n",
    "        return np.nan\n",
    "\n",
    "indeed.insert(12, 'target', indeed['salary_avg_USD'].apply(categorise))"
   ]
  },
  {
   "cell_type": "markdown",
   "metadata": {
    "focus": false,
    "id": "a7afb2c0-d41e-4779-8216-91cd8dd4473f"
   },
   "source": [
    "#### Thought experiment: What is the baseline accuracy for this model?"
   ]
  },
  {
   "cell_type": "code",
   "execution_count": 312,
   "metadata": {
    "focus": false,
    "id": "87a17d3d-b7f4-4747-9f75-f9af1d18a174"
   },
   "outputs": [
    {
     "name": "stdout",
     "output_type": "stream",
     "text": [
      "Baseline Accuracy: 0.2670299727520436\n",
      "Normalized Value Counts:\n",
      "0_25      0.267030\n",
      "50_75     0.267030\n",
      "25_50     0.234332\n",
      "75_100    0.231608\n",
      "Name: target, dtype: float64\n"
     ]
    }
   ],
   "source": [
    "## YOUR CODE HERE\n",
    "baseline = indeed.target.value_counts(normalize=True).max()\n",
    "print('Baseline Accuracy:',baseline)\n",
    "print('Normalized Value Counts:')\n",
    "print(indeed.target.value_counts(normalize=True))"
   ]
  },
  {
   "cell_type": "markdown",
   "metadata": {
    "focus": false,
    "id": "4fb29de2-5b98-474c-a4ad-5170b72b9aea"
   },
   "source": [
    "### Create a classification model to predict High/Low salary. \n",
    "\n",
    "\n",
    "- Start by ONLY using the location as a feature.\n",
    "- Use at least two different classifiers you find suitable.\n",
    "- Remember that scaling your features might be necessary.\n",
    "- Display the coefficients/feature importances and write a short summary of what they mean.\n",
    "- Create a few new variables in your dataframe to represent interesting features of a job title (e.g. whether 'Senior' or 'Manager' is in the title).\n",
    "- Incorporate other text features from the title or summary that you believe will predict the salary.\n",
    "- Then build new classification models including also those features. Do they add any value?\n",
    "- Tune your models by testing parameter ranges, regularization strengths, etc. Discuss how that affects your models.\n",
    "- Discuss model coefficients or feature importances as applicable."
   ]
  },
  {
   "cell_type": "code",
   "execution_count": 395,
   "metadata": {},
   "outputs": [
    {
     "name": "stdout",
     "output_type": "stream",
     "text": [
      "Fitting 5 folds for each of 2 candidates, totalling 10 fits\n"
     ]
    },
    {
     "name": "stderr",
     "output_type": "stream",
     "text": [
      "[Parallel(n_jobs=2)]: Using backend LokyBackend with 2 concurrent workers.\n",
      "[Parallel(n_jobs=2)]: Done  10 out of  10 | elapsed:    4.2s finished\n"
     ]
    },
    {
     "name": "stdout",
     "output_type": "stream",
     "text": [
      "Best GS LRCV params: {'Cs': array([1.00000000e-30, 4.64158883e-29, 2.15443469e-27, 1.00000000e-25,\n",
      "       4.64158883e-24, 2.15443469e-22, 1.00000000e-20, 4.64158883e-19,\n",
      "       2.15443469e-17, 1.00000000e-15]), 'penalty': 'l2'}\n",
      "Best GS LRCV C_: [1.e-30 1.e-15 1.e-30 1.e-15]\n",
      "Best Training LRCVScore: 0.27782302850796003\n",
      "Fitting 5 folds for each of 32 candidates, totalling 160 fits\n"
     ]
    },
    {
     "name": "stderr",
     "output_type": "stream",
     "text": [
      "[Parallel(n_jobs=2)]: Using backend LokyBackend with 2 concurrent workers.\n",
      "[Parallel(n_jobs=2)]: Done  88 tasks      | elapsed:    5.1s\n"
     ]
    },
    {
     "name": "stdout",
     "output_type": "stream",
     "text": [
      "Best GS KNN params: {'metric': 'euclidean', 'n_neighbors': 21, 'weights': 'distance'}\n",
      "Best Training KNN CVScore: 0.3787486116253239\n"
     ]
    },
    {
     "name": "stderr",
     "output_type": "stream",
     "text": [
      "[Parallel(n_jobs=2)]: Done 160 out of 160 | elapsed:    9.1s finished\n"
     ]
    }
   ],
   "source": [
    "## YOUR CODE HERE\n",
    "\n",
    "from sklearn.metrics import classification_report, confusion_matrix, accuracy_score\n",
    "from sklearn.model_selection import train_test_split, GridSearchCV, cross_val_score, KFold, StratifiedKFold\n",
    "from sklearn.linear_model import LogisticRegression, LogisticRegressionCV\n",
    "from sklearn.neighbors import KNeighborsClassifier\n",
    "from sklearn.preprocessing import StandardScaler\n",
    "\n",
    "# set X,y\n",
    "X = indeed['search_city']\n",
    "y = indeed['target']\n",
    "\n",
    "# dummify X\n",
    "X_dum = pd.get_dummies(X, drop_first=True)\n",
    "\n",
    "# scale\n",
    "scaler = StandardScaler()\n",
    "Xs = scaler.fit_transform(X_dum)\n",
    "\n",
    "# GridSearchCV with LRCV:\n",
    "kf = StratifiedKFold(n_splits=5, shuffle=True, random_state=1)\n",
    "lrcv = LogisticRegressionCV(solver='liblinear', multi_class='ovr', cv=kf, max_iter=10000)\n",
    "lrcv_params = {'penalty': ['l1', 'l2'],\n",
    "              'Cs':[np.logspace(-30,-15,10)]}\n",
    "gs_lrcv = GridSearchCV(lrcv, lrcv_params, cv=kf, n_jobs=2, verbose=1)\n",
    "gs_lrcv.fit(Xs, y)\n",
    "print('Best GS LRCV params:',gs_lrcv.best_params_)\n",
    "best_gs_lrcv = gs_lrcv.best_estimator_\n",
    "print('Best GS LRCV C_:',best_gs_lrcv.C_)\n",
    "print('Best Training LRCVScore:', gs_lrcv.best_score_)\n",
    "\n",
    "# GridSearchCV with KNN:\n",
    "knn = KNeighborsClassifier(n_jobs=2)\n",
    "knn_params = {'n_neighbors': [3,5,7,9,11,21,41,51],\n",
    "             'weights': ['uniform', 'distance'],\n",
    "             'metric': ['euclidean', 'manhattan']}\n",
    "gs_knn = GridSearchCV(knn, knn_params, cv=kf, n_jobs=2, verbose=1)\n",
    "gs_knn.fit(Xs,y)\n",
    "print('Best GS KNN params:', gs_knn.best_params_)\n",
    "best_gs_knn = gs_knn.best_estimator_\n",
    "print('Best Training KNN CVScore:', gs_knn.best_score_)"
   ]
  },
  {
   "cell_type": "code",
   "execution_count": 365,
   "metadata": {},
   "outputs": [
    {
     "name": "stdout",
     "output_type": "stream",
     "text": [
      "4\n",
      "14\n"
     ]
    }
   ],
   "source": [
    "print(len(best_gs_lrcv.coef_))\n",
    "print(len(X_dum.columns))"
   ]
  },
  {
   "cell_type": "code",
   "execution_count": 368,
   "metadata": {},
   "outputs": [
    {
     "data": {
      "text/plain": [
       "(4, 14)"
      ]
     },
     "execution_count": 368,
     "metadata": {},
     "output_type": "execute_result"
    }
   ],
   "source": [
    "best_gs_lrcv.coef_.shape"
   ]
  },
  {
   "cell_type": "code",
   "execution_count": 371,
   "metadata": {},
   "outputs": [
    {
     "data": {
      "text/plain": [
       "array([[ 0.00000000e+00,  0.00000000e+00,  0.00000000e+00,\n",
       "         0.00000000e+00,  0.00000000e+00,  0.00000000e+00,\n",
       "         0.00000000e+00,  0.00000000e+00,  0.00000000e+00,\n",
       "         0.00000000e+00,  0.00000000e+00,  0.00000000e+00,\n",
       "         0.00000000e+00,  0.00000000e+00],\n",
       "       [ 0.00000000e+00,  0.00000000e+00,  0.00000000e+00,\n",
       "         0.00000000e+00,  0.00000000e+00,  0.00000000e+00,\n",
       "         0.00000000e+00,  0.00000000e+00,  0.00000000e+00,\n",
       "         0.00000000e+00,  0.00000000e+00,  0.00000000e+00,\n",
       "         0.00000000e+00,  0.00000000e+00],\n",
       "       [ 0.00000000e+00,  0.00000000e+00,  0.00000000e+00,\n",
       "         0.00000000e+00,  0.00000000e+00,  0.00000000e+00,\n",
       "         0.00000000e+00,  0.00000000e+00,  0.00000000e+00,\n",
       "         0.00000000e+00,  0.00000000e+00,  0.00000000e+00,\n",
       "         0.00000000e+00,  0.00000000e+00],\n",
       "       [ 1.31671291e-14, -3.97939900e-15, -1.23855875e-15,\n",
       "         1.86531001e-14,  9.23529412e-15, -1.32659656e-14,\n",
       "         1.29510129e-14, -1.34301450e-14,  1.26176771e-15,\n",
       "        -3.96081039e-15, -4.93930190e-15,  1.29510129e-14,\n",
       "         2.02640171e-14,  6.50785938e-15]])"
      ]
     },
     "execution_count": 371,
     "metadata": {},
     "output_type": "execute_result"
    }
   ],
   "source": [
    "best_gs_lrcv.coef_"
   ]
  },
  {
   "cell_type": "code",
   "execution_count": 388,
   "metadata": {
    "scrolled": false
   },
   "outputs": [
    {
     "data": {
      "text/plain": [
       "<BarContainer object of 14 artists>"
      ]
     },
     "execution_count": 388,
     "metadata": {},
     "output_type": "execute_result"
    },
    {
     "data": {
      "image/png": "[encoded data removed]",
      "text/plain": [
       "<Figure size 432x288 with 1 Axes>"
      ]
     },
     "metadata": {
      "image/png": {
       "height": 278,
       "width": 472
      },
      "needs_background": "light"
     },
     "output_type": "display_data"
    }
   ],
   "source": [
    "# Display the coefficients/feature importances and write a short summary of what they mean:\n",
    "import matplotlib.pyplot as plt\n",
    "\n",
    "location_coef = pd.DataFrame(dict(gs_lrcv_coefficents=best_gs_lrcv.coef_[3]),index=X_dum.columns).sort_values('gs_lrcv_coefficents')\n",
    "plt.barh(y=location_coef.index, width=location_coef.gs_lrcv_coefficents)\n",
    "\n",
    "# Ask Chris... why do my coefficents all go to zero? ie. why is the C_ so low??"
   ]
  },
  {
   "cell_type": "code",
   "execution_count": 396,
   "metadata": {},
   "outputs": [
    {
     "name": "stdout",
     "output_type": "stream",
     "text": [
      "[[94  1  0  3]\n",
      " [74 11  0  1]\n",
      " [91  2  0  5]\n",
      " [63  2  0 20]]\n"
     ]
    }
   ],
   "source": [
    "predictions = best_gs_lrcv.predict(Xs)\n",
    "print(confusion_matrix(y, predictions))"
   ]
  },
  {
   "cell_type": "markdown",
   "metadata": {
    "focus": false,
    "id": "4fb29de2-5b98-474c-a4ad-5170b72b9aea"
   },
   "source": [
    "### Model evaluation:\n",
    "\n",
    "Your boss would rather tell a client incorrectly that they would get a lower salary job than tell a client incorrectly that they would get a high salary job. Adjust one of your models to ease his mind, and explain what it is doing and any tradeoffs.\n",
    "\n",
    "\n",
    "- Use cross-validation to evaluate your models.\n",
    "- Evaluate the accuracy, AUC, precision and recall of the models.\n",
    "- Plot the ROC and precision-recall curves for at least one of your models."
   ]
  },
  {
   "cell_type": "code",
   "execution_count": null,
   "metadata": {},
   "outputs": [],
   "source": [
    "## YOUR CODE HERE"
   ]
  },
  {
   "cell_type": "markdown",
   "metadata": {
    "focus": false,
    "id": "4fb29de2-5b98-474c-a4ad-5170b72b9aea"
   },
   "source": [
    "<img src=\"http://imgur.com/xDpSobf.png\" style=\"float: left; margin: 25px 15px 0px 0px; height: 25px\">\n",
    "\n",
    "### Bonus:\n",
    "\n",
    "- Answer the salary discussion by using your model to explain the tradeoffs between detecting high vs low salary positions. \n",
    "- Discuss the differences and explain when you want a high-recall or a high-precision model in this scenario.\n",
    "- Obtain the ROC/precision-recall curves for the different models you studied (at least the tuned model of each category) and compare."
   ]
  },
  {
   "cell_type": "code",
   "execution_count": null,
   "metadata": {
    "focus": false,
    "id": "068dc1cf-7fd7-4f27-a1f1-7f0a5a221d29"
   },
   "outputs": [],
   "source": [
    "## YOUR CODE HERE"
   ]
  },
  {
   "cell_type": "markdown",
   "metadata": {},
   "source": [
    "### Summarize your results in an executive summary written for a non-technical audience.\n",
    "   \n",
    "- Writeups should be at least 500-1000 words, defining any technical terms, explaining your approach, as well as any risks and limitations."
   ]
  },
  {
   "cell_type": "code",
   "execution_count": null,
   "metadata": {},
   "outputs": [],
   "source": [
    "## YOUR TEXT HERE IN MARKDOWN FORMAT "
   ]
  },
  {
   "cell_type": "markdown",
   "metadata": {},
   "source": [
    "<img src=\"http://imgur.com/xDpSobf.png\" style=\"float: left; margin: 25px 15px 0px 0px; height: 25px\">\n",
    "\n",
    "### BONUS\n",
    "\n",
    "Convert your executive summary into a public blog post of at least 500 words, in which you document your approach in a tutorial for other aspiring data scientists. Link to this in your notebook."
   ]
  },
  {
   "cell_type": "code",
   "execution_count": null,
   "metadata": {},
   "outputs": [],
   "source": [
    "## YOUR LINK HERE IN MARKDOWN FORMAT "
   ]
  }
 ],
 "metadata": {
  "kernelspec": {
   "display_name": "Python 3",
   "language": "python",
   "name": "python3"
  },
  "language_info": {
   "codemirror_mode": {
    "name": "ipython",
    "version": 3
   },
   "file_extension": ".py",
   "mimetype": "text/x-python",
   "name": "python",
   "nbconvert_exporter": "python",
   "pygments_lexer": "ipython3",
   "version": "3.7.3"
  },
  "toc": {
   "base_numbering": 1,
   "nav_menu": {},
   "number_sections": false,
   "sideBar": true,
   "skip_h1_title": true,
   "title_cell": "Table of Contents",
   "title_sidebar": "Contents",
   "toc_cell": false,
   "toc_position": {},
   "toc_section_display": "block",
   "toc_window_display": false
  },
  "varInspector": {
   "cols": {
    "lenName": 16,
    "lenType": 16,
    "lenVar": 40
   },
   "kernels_config": {
    "python": {
     "delete_cmd_postfix": "",
     "delete_cmd_prefix": "del ",
     "library": "var_list.py",
     "varRefreshCmd": "print(var_dic_list())"
    },
    "r": {
     "delete_cmd_postfix": ") ",
     "delete_cmd_prefix": "rm(",
     "library": "var_list.r",
     "varRefreshCmd": "cat(var_dic_list()) "
    }
   },
   "types_to_exclude": [
    "module",
    "function",
    "builtin_function_or_method",
    "instance",
    "_Feature"
   ],
   "window_display": false
  }
 },
 "nbformat": 4,
 "nbformat_minor": 1
}
