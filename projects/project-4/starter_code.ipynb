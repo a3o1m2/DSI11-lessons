{
 "cells": [
  {
   "cell_type": "markdown",
   "metadata": {
    "focus": false,
    "id": "69b9a648-bcc7-490d-9f9b-ea244d156bd6"
   },
   "source": [
    "<img src=\"http://imgur.com/1ZcRyrc.png\" style=\"float: left; margin: 15px; height: 80px\">\n",
    "\n",
    "\n",
    "# Web Scraping for Indeed.com and Predicting Salaries"
   ]
  },
  {
   "cell_type": "markdown",
   "metadata": {},
   "source": [
    "### Business Case Overview\n",
    "\n",
    "You're working as a data scientist for a contracting firm that's rapidly expanding. Now that they have their most valuable employee (you!), they need to leverage data to win more contracts. Your firm offers technology and scientific solutions and wants to be competitive in the hiring market. Your principal wants you to\n",
    "\n",
    "   - determine the industry factors that are most important in predicting the salary amounts for these data.\n",
    "\n",
    "To limit the scope, your principal has suggested that you *focus on data-related job postings*, e.g. data scientist, data analyst, research scientist, business intelligence, and any others you might think of. You may also want to decrease the scope by *limiting your search to a single region.*\n",
    "\n",
    "Hint: Aggregators like [Indeed.com](https://www.indeed.com) regularly pool job postings from a variety of markets and industries.\n",
    "\n",
    "**Goal:** Scrape your own data from a job aggregation tool like Indeed.com in order to collect the data to best answer this question.\n",
    "\n",
    "---\n",
    "\n",
    "### Directions\n",
    "\n",
    "In this project you will be leveraging a variety of skills. The first will be to use the web-scraping and/or API techniques you've learned to collect data on data jobs from Indeed.com or another aggregator. Once you have collected and cleaned the data, you will use it to address the question above."
   ]
  },
  {
   "cell_type": "markdown",
   "metadata": {},
   "source": [
    "### Factors that impact salary\n",
    "\n",
    "To predict salary the most appropriate approach would be a regression model.\n",
    "Here instead we just want to estimate which factors (like location, job title, job level, industry sector) lead to high or low salary and work with a classification model. To do so, split the salary into two groups of high and low salary, for example by choosing the median salary as a threshold (in principle you could choose any single or multiple splitting points).\n",
    "\n",
    "Use all the skills you have learned so far to build a predictive model.\n",
    "Whatever you decide to use, the most important thing is to justify your choices and interpret your results. *Communication of your process is key.* Note that most listings **DO NOT** come with salary information. You'll need to be able to extrapolate or predict the expected salaries for these listings."
   ]
  },
  {
   "cell_type": "markdown",
   "metadata": {
    "focus": false,
    "id": "a948d79c-5527-4c0d-ab23-f5d43ce72056"
   },
   "source": [
    "### Scraping job listings from Indeed.com"
   ]
  },
  {
   "cell_type": "markdown",
   "metadata": {
    "focus": true,
    "id": "7203e0c9-e437-4802-a6ad-7dc464f94436"
   },
   "source": [
    "We will be scraping job listings from Indeed.com using BeautifulSoup. Luckily, Indeed.com is a simple text page where we can easily find relevant entries.\n",
    "\n",
    "First, look at the source of an Indeed.com page: (http://www.indeed.com/jobs?q=data+scientist+%2420%2C000&l=New+York&start=10\").\n",
    "\n",
    "Notice, each job listing is underneath a `div` tag with a class name of `result`. We can use BeautifulSoup to extract those. "
   ]
  },
  {
   "cell_type": "markdown",
   "metadata": {
    "focus": false,
    "id": "9732c901-ae26-4160-8376-42e22dd327df"
   },
   "source": [
    "#### Setup a request (using `requests`) to the URL below. Use BeautifulSoup to parse the page and extract all results (HINT: Look for div tags with class name result)\n",
    "\n",
    "The URL here has many query parameters:\n",
    "\n",
    "- `q` for the job search\n",
    "- This is followed by \"+20,000\" to return results with salaries (or expected salaries >$20,000)\n",
    "- `l` for a location \n",
    "- `start` for what result number to start on"
   ]
  },
  {
   "cell_type": "code",
   "execution_count": 7,
   "metadata": {
    "focus": false,
    "id": "e915023e-6b0d-4982-af2a-b1e0355f4927"
   },
   "outputs": [],
   "source": [
    "URL = \"http://www.indeed.com/jobs?\""
   ]
  },
  {
   "cell_type": "code",
   "execution_count": 35,
   "metadata": {
    "focus": false,
    "id": "2efefc73-064a-482d-b3b5-ddf5508cb4ec"
   },
   "outputs": [],
   "source": [
    "import requests\n",
    "import bs4\n",
    "from bs4 import BeautifulSoup\n",
    "import pandas as pd\n",
    "from tqdm import tqdm_notebook\n",
    "\n",
    "pd.set_option('display.max_colwidth',1000)"
   ]
  },
  {
   "cell_type": "code",
   "execution_count": 43,
   "metadata": {
    "focus": false,
    "id": "2c6752c4-7704-4c94-8bc0-6f13d2d0d570",
    "scrolled": true
   },
   "outputs": [],
   "source": [
    "## YOUR CODE HERE\n",
    "\n",
    "title = []\n",
    "company = []\n",
    "rating = []\n",
    "location = []\n",
    "summary = []\n",
    "age = []\n",
    "\n",
    "for x in tqdm_notebook(range(10, 200, 10)):\n",
    "    URL = \"http://www.indeed.com/jobs?\"\n",
    "    PARAMS = dict(q='data scientist $20,000', l='New York', start={})\n",
    "\n",
    "    r = requests.get(url=URL, params=PARAMS)\n",
    "    soup = BeautifulSoup(r.text, 'html.parser')\n",
    "\n",
    "    for posting in soup.find_all('div', attrs={'class':'result'}):\n",
    "        try:\n",
    "            title.append(posting.find('a', attrs={'class':'jobtitle'}).text.split())\n",
    "        except:\n",
    "            title.append(np.nan)\n",
    "        try:\n",
    "            company.append(posting.find('span', attrs={'class':'company'}).text.split())\n",
    "        except:\n",
    "            company.append(np.nan)\n",
    "        try:\n",
    "            rating.append(posting.find('span', attrs={'class':'ratingsDisplay'}).text.split())\n",
    "        except:\n",
    "            rating.append(np.nan)\n",
    "        try:\n",
    "            location.append(posting.find('span', attrs={'class':'location'}).text.split())\n",
    "        except:\n",
    "            location.append(np.nan)\n",
    "        try:\n",
    "            summary.append(posting.find('div', attrs={'class':'summary'}).text.split())\n",
    "        except:\n",
    "            summary.append(np.nan)\n",
    "        try:\n",
    "            age.append(posting.find('span', attrs={'class':'date'}).text.split())\n",
    "        except:\n",
    "            age.append(np.nan)\n",
    "\n",
    "jobs = pd.DataFrame(dict(title=title,company=company,rating=rating,location=location,summary=summary))\n",
    "jobs.head()"
   ]
  },
  {
   "cell_type": "markdown",
   "metadata": {
    "focus": false,
    "id": "bb0b866a-26a7-45e9-8084-5a0f90eb4b3e"
   },
   "source": [
    "Let's look at one result more closely. A single `result` looks like\n",
    "\n",
    "```\n",
    "<div class=\" row result\" data-jk=\"2480d203f7e97210\" data-tn-component=\"organicJob\" id=\"p_2480d203f7e97210\" itemscope=\"\" itemtype=\"http://schema.org/JobPosting\">\n",
    "<h2 class=\"jobtitle\" id=\"jl_2480d203f7e97210\">\n",
    "<a class=\"turnstileLink\" data-tn-element=\"jobTitle\" onmousedown=\"return rclk(this,jobmap[0],1);\" rel=\"nofollow\" target=\"_blank\" title=\"AVP/Quantitative Analyst\">AVP/Quantitative Analyst</a>\n",
    "</h2>\n",
    "<span class=\"company\" itemprop=\"hiringOrganization\" itemtype=\"http://schema.org/Organization\">\n",
    "<span itemprop=\"name\">\n",
    "<a href=\"/cmp/Alliancebernstein?from=SERP&amp;campaignid=serp-linkcompanyname&amp;fromjk=2480d203f7e97210&amp;jcid=b374f2a780e04789\" target=\"_blank\">\n",
    "    AllianceBernstein</a></span>\n",
    "</span>\n",
    "<tr>\n",
    "<td class=\"snip\">\n",
    "<nobr>$117,500 - $127,500 a year</nobr>\n",
    "<div>\n",
    "<span class=\"summary\" itemprop=\"description\">\n",
    "C onduct quantitative and statistical research as well as portfolio management for various investment portfolios. Collaborate with Quantitative Analysts and</span>\n",
    "</div>\n",
    "</div>\n",
    "</td>\n",
    "</tr>\n",
    "</table>\n",
    "</div>\n",
    "```\n",
    "\n",
    "While this has some more verbose elements removed, we can see that there is some structure to the above:\n",
    "- The salary is in a `span` with `class='salaryText'`.\n",
    "- The title of a job is in a link with class set to `jobtitle` and a `data-tn-element='jobTitle'`.  \n",
    "- The location is set in a `span` with `class='location'`. \n",
    "- The company is set in a `span` with `class='company'`. \n",
    "- Decide which other components could be relevant, for example the region or the summary of the job advert."
   ]
  },
  {
   "cell_type": "markdown",
   "metadata": {
    "focus": false,
    "id": "f1eddb90-4ba8-483c-a229-77e93aa53119"
   },
   "source": [
    "### Write 4 functions to extract each item: location, company, job, and salary.\n",
    "\n",
    "Example: \n",
    "```python\n",
    "def extract_location_from_result(result):\n",
    "    return result.find ...\n",
    "```\n",
    "\n",
    "\n",
    "- **Make sure these functions are robust and can handle cases where the data/field may not be available.**\n",
    "    - Remember to check if a field is empty or `None` for attempting to call methods on it.\n",
    "    - Remember to use `try/except` if you anticipate errors.\n",
    "- **Test** the functions on the results above and simple examples."
   ]
  },
  {
   "cell_type": "code",
   "execution_count": 40,
   "metadata": {
    "focus": false,
    "id": "a1af53c9-9090-494f-b82e-cadb60a54909"
   },
   "outputs": [],
   "source": [
    "## YOUR CODE HERE\n",
    "\n",
    "def extract_title_from_result(result):\n",
    "    try:\n",
    "        return result.find('a', attrs={'class':'jobtitle', 'data-tn-element':'jobTitle'}).text.split()\n",
    "    except:\n",
    "        np.nan\n",
    "    \n",
    "def extract_company_from_result(result):\n",
    "    try:\n",
    "        return result.find('span', attrs={'class':'company'}).text.split()\n",
    "    except:\n",
    "        return np.nan\n",
    "        \n",
    "def extract_rating_from_result(result):\n",
    "    try:\n",
    "        return result.find('span', attrs={'class':'ratingsDisplay'}).text.split()\n",
    "    except:\n",
    "        return np.nan\n",
    "        \n",
    "def extract_location_from_result(result):\n",
    "    try:\n",
    "        return result.find('span', attrs={'class':'location'}).text.split()\n",
    "    except:\n",
    "        return np.nan\n",
    "\n",
    "def extract_summary_from_result(result):\n",
    "    try:\n",
    "        return result.find('div', attrs={'class':'summary'}).text.split()\n",
    "    except:\n",
    "        return np.nan\n",
    "\n",
    "def extract_date_from_result(result):\n",
    "    try:\n",
    "        return result.find('span', attrs={'class':'date'}).text.split()\n",
    "    except:\n",
    "        return np.nan\n",
    "\n",
    "def extract_salary_from_result(result):\n",
    "    try:\n",
    "        return result.find('span', attrs={'class':'salaryText'}).text.split()\n",
    "    except:\n",
    "        return np.nan\n"
   ]
  },
  {
   "cell_type": "code",
   "execution_count": 42,
   "metadata": {
    "scrolled": true
   },
   "outputs": [
    {
     "data": {
      "application/vnd.jupyter.widget-view+json": {
       "model_id": "a87795c6865a407b9dca86742d59a0d5",
       "version_major": 2,
       "version_minor": 0
      },
      "text/plain": [
       "HBox(children=(IntProgress(value=0, max=19), HTML(value='')))"
      ]
     },
     "metadata": {},
     "output_type": "display_data"
    },
    {
     "name": "stdout",
     "output_type": "stream",
     "text": [
      "\n"
     ]
    },
    {
     "data": {
      "text/html": [
       "<div>\n",
       "<style scoped>\n",
       "    .dataframe tbody tr th:only-of-type {\n",
       "        vertical-align: middle;\n",
       "    }\n",
       "\n",
       "    .dataframe tbody tr th {\n",
       "        vertical-align: top;\n",
       "    }\n",
       "\n",
       "    .dataframe thead th {\n",
       "        text-align: right;\n",
       "    }\n",
       "</style>\n",
       "<table border=\"1\" class=\"dataframe\">\n",
       "  <thead>\n",
       "    <tr style=\"text-align: right;\">\n",
       "      <th></th>\n",
       "      <th>title</th>\n",
       "      <th>company</th>\n",
       "      <th>rating</th>\n",
       "      <th>location</th>\n",
       "      <th>summary</th>\n",
       "      <th>date</th>\n",
       "      <th>salary</th>\n",
       "    </tr>\n",
       "  </thead>\n",
       "  <tbody>\n",
       "    <tr>\n",
       "      <th>0</th>\n",
       "      <td>[Data, Scientist,, Marketplace]</td>\n",
       "      <td>[Spotify]</td>\n",
       "      <td>[4.3]</td>\n",
       "      <td>[New, York,, NY, 10011, (Flatiron, District, area)]</td>\n",
       "      <td>[Marketplace, is, the, home, for, Spotify’s, music, industry, products,, such, as, Spotify, for, Artists,, Spotify, Label, Analytics, and, Spotify, Publisher, Analytics.SPSSSoftware, package, created, by, IBM, used, for, statistical, analysis.SQLProgramming, language, used, for, interacting, with, data, held, in, a, relational, database.Data, ScienceKnowledge, or, experience, employing, various, data, science, methods,, algorithms,, and, programming, languages.RA, software, environment, and, language, for, statistical, computing.ScalaA, functional, programming, language, that, runs, on, the, JVM, (Java, Virtual, Machine).PythonAn, interpreted,, open-source, programming, language.+8, moreMathematics, DegreePostsecondary, degree, in, mathematics,, applied, mathematics,, probability,, or, number, theory., Statistics, DegreePostsecondary, degree, in, statistics., AnalyticsExperience, or, skill, with, finding, and, analyzing, patterns, in, data.Computer, ...]</td>\n",
       "      <td>[1, day, ago]</td>\n",
       "      <td>NaN</td>\n",
       "    </tr>\n",
       "    <tr>\n",
       "      <th>1</th>\n",
       "      <td>[Data, Scientist, -, Trello]</td>\n",
       "      <td>[Atlassian]</td>\n",
       "      <td>[4.5]</td>\n",
       "      <td>[New, York,, NY]</td>\n",
       "      <td>[Our, data, team, is, lean,, nimble,, and, remote-friendly.Partner, with, engineering,, product,, and, leadership, teams, focused, on, strategic, improvements, to, Trello.Disability, FriendlyIndividuals, with, disabilities, are, encouraged, to, apply.ConfluenceKnowledge, management, and, workplace, collaboration, software, developed, by, Atlassian.JiraIssue, tracking, and, project, management, software, by, Atlassian.RedshiftA, data, warehouse, product, that, is, part, of, the, larger, cloud, computing, platform,, Amazon, Web, Services.TableauData, visualization, software, built, for, business, intelligence, applications., Developed, by, Tableau.RA, software, environment, and, language, for, statistical, computing.+4, morePythonAn, interpreted,, open-source, programming, language.SQLProgramming, language, used, for, interacting, with, data, held, in, a, relational, database.RemoteA, job, that, can, be, performed, entirely, remotely., May, involve, on-site, ...]</td>\n",
       "      <td>[6, days, ago]</td>\n",
       "      <td>NaN</td>\n",
       "    </tr>\n",
       "    <tr>\n",
       "      <th>2</th>\n",
       "      <td>[Associate, Data, Scientist]</td>\n",
       "      <td>[Direct-to-Consumer, and, International]</td>\n",
       "      <td>NaN</td>\n",
       "      <td>[New, York,, NY]</td>\n",
       "      <td>[Supporting, the, Disney, Advertising, Sales, organization, within, our, new, Direct, To, Consumer, &amp;, International, (DTCI), segment,, the, Data, Science, &amp;, Analytics, team, are…OracleDatabase, used, for, online, transaction, processing, and, data, warehousing, developed, by, Oracle, Corporation.SQLProgramming, language, used, for, interacting, with, data, held, in, a, relational, database.HadoopA, framework, that, allows, for, the, distributed, processing, of, large, data, sets, across, clusters, of, computers, using, simple, programming, models.Data, MiningSkill, in, data, mining, techniques, used, to, identify, patterns, in, large, amounts, of, data.HiveData, warehouse, software.StatisticsKnowledge, or, experience, in, the, field, of, statistics,, from, basic, to, advanced.+5, moreCommunication, SkillsExperience, or, skill, effectively, exchanging, and, understanding, ...]</td>\n",
       "      <td>[1, day, ago]</td>\n",
       "      <td>NaN</td>\n",
       "    </tr>\n",
       "    <tr>\n",
       "      <th>3</th>\n",
       "      <td>[Data, Scientist]</td>\n",
       "      <td>[Source, Enterprises]</td>\n",
       "      <td>[5.0]</td>\n",
       "      <td>[New, York,, NY]</td>\n",
       "      <td>[Work, with, our, industry, experts, to, gain, unrivaled, knowledge, at, both, the, strategic, level, (generating, bold, and, innovative, ideas, for, data, science-driven, growth), and…Writing, SkillsSkills,, knowledge,, and, experience, with, creating, written, content, through, any, medium.Flexible, ScheduleWork, schedule, that, allows, employees, to, vary, their, arrival, and, departure, times.MATLABA, programming, language, and, environment, used, for, numerical, and, technical, computation.CassandraOpen-source, noSQL, database, built, with, NoSQL, for, scalability, and, high, availability, and, developed, by, Apache.MongoDBOpen-source, NOSQL, document-oriented, database.RemoteA, job, that, can, be, performed, entirely, remotely., May, involve, on-site, training, or, an, on-site, interview,, but, the, job, itself, can, be, performed, remotely, with, no, need, ...]</td>\n",
       "      <td>[30+, days, ago]</td>\n",
       "      <td>NaN</td>\n",
       "    </tr>\n",
       "    <tr>\n",
       "      <th>4</th>\n",
       "      <td>[Data, Scientist,, Analytics, (University, Grad)]</td>\n",
       "      <td>[Facebook]</td>\n",
       "      <td>[4.2]</td>\n",
       "      <td>[New, York,, NY, 10017]</td>\n",
       "      <td>[Candidates, will, help, own, analytics, for, a, particular, product, or, business, at, Facebook, and, work, with, product, managers, and, engineers, to, translate, the, analysis, into…Presentation, SkillsExperience, effectively, speaking, and, communicating, information, to, a, large, or, small, audience., Disability, FriendlyIndividuals, with, disabilities, are, encouraged, to, apply.PerlA, general-purpose, programming, language, often, used, for, developing, web, applications, and, scripting.Doctoral, DegreeTerminal, degree, awarded, by, universities, or, colleges, at, the, completion, of, an, advanced,, research-focused, course, of, study., A, Doctoral, Degree, enables, the, holder, to, teach, at, high, levels, in, universities, or, colleges,, or, to, work, in, other, specialized, professional, roles., Master's, DegreeDegree, awarded, to, ...]</td>\n",
       "      <td>[30+, days, ago]</td>\n",
       "      <td>NaN</td>\n",
       "    </tr>\n",
       "  </tbody>\n",
       "</table>\n",
       "</div>"
      ],
      "text/plain": [
       "                                               title  \\\n",
       "0                    [Data, Scientist,, Marketplace]   \n",
       "1                       [Data, Scientist, -, Trello]   \n",
       "2                       [Associate, Data, Scientist]   \n",
       "3                                  [Data, Scientist]   \n",
       "4  [Data, Scientist,, Analytics, (University, Grad)]   \n",
       "\n",
       "                                    company rating  \\\n",
       "0                                 [Spotify]  [4.3]   \n",
       "1                               [Atlassian]  [4.5]   \n",
       "2  [Direct-to-Consumer, and, International]    NaN   \n",
       "3                     [Source, Enterprises]  [5.0]   \n",
       "4                                [Facebook]  [4.2]   \n",
       "\n",
       "                                              location  \\\n",
       "0  [New, York,, NY, 10011, (Flatiron, District, area)]   \n",
       "1                                     [New, York,, NY]   \n",
       "2                                     [New, York,, NY]   \n",
       "3                                     [New, York,, NY]   \n",
       "4                              [New, York,, NY, 10017]   \n",
       "\n",
       "                                                                                                                                                                                                                                                                                                                                                                                                                                                                                                                                                                                                                                                                                                                                                                                                                                                                                                                                                                                                           summary  \\\n",
       "0         [Marketplace, is, the, home, for, Spotify’s, music, industry, products,, such, as, Spotify, for, Artists,, Spotify, Label, Analytics, and, Spotify, Publisher, Analytics.SPSSSoftware, package, created, by, IBM, used, for, statistical, analysis.SQLProgramming, language, used, for, interacting, with, data, held, in, a, relational, database.Data, ScienceKnowledge, or, experience, employing, various, data, science, methods,, algorithms,, and, programming, languages.RA, software, environment, and, language, for, statistical, computing.ScalaA, functional, programming, language, that, runs, on, the, JVM, (Java, Virtual, Machine).PythonAn, interpreted,, open-source, programming, language.+8, moreMathematics, DegreePostsecondary, degree, in, mathematics,, applied, mathematics,, probability,, or, number, theory., Statistics, DegreePostsecondary, degree, in, statistics., AnalyticsExperience, or, skill, with, finding, and, analyzing, patterns, in, data.Computer, ...]   \n",
       "1  [Our, data, team, is, lean,, nimble,, and, remote-friendly.Partner, with, engineering,, product,, and, leadership, teams, focused, on, strategic, improvements, to, Trello.Disability, FriendlyIndividuals, with, disabilities, are, encouraged, to, apply.ConfluenceKnowledge, management, and, workplace, collaboration, software, developed, by, Atlassian.JiraIssue, tracking, and, project, management, software, by, Atlassian.RedshiftA, data, warehouse, product, that, is, part, of, the, larger, cloud, computing, platform,, Amazon, Web, Services.TableauData, visualization, software, built, for, business, intelligence, applications., Developed, by, Tableau.RA, software, environment, and, language, for, statistical, computing.+4, morePythonAn, interpreted,, open-source, programming, language.SQLProgramming, language, used, for, interacting, with, data, held, in, a, relational, database.RemoteA, job, that, can, be, performed, entirely, remotely., May, involve, on-site, ...]   \n",
       "2                                                                                       [Supporting, the, Disney, Advertising, Sales, organization, within, our, new, Direct, To, Consumer, &, International, (DTCI), segment,, the, Data, Science, &, Analytics, team, are…OracleDatabase, used, for, online, transaction, processing, and, data, warehousing, developed, by, Oracle, Corporation.SQLProgramming, language, used, for, interacting, with, data, held, in, a, relational, database.HadoopA, framework, that, allows, for, the, distributed, processing, of, large, data, sets, across, clusters, of, computers, using, simple, programming, models.Data, MiningSkill, in, data, mining, techniques, used, to, identify, patterns, in, large, amounts, of, data.HiveData, warehouse, software.StatisticsKnowledge, or, experience, in, the, field, of, statistics,, from, basic, to, advanced.+5, moreCommunication, SkillsExperience, or, skill, effectively, exchanging, and, understanding, ...]   \n",
       "3                                                                                                 [Work, with, our, industry, experts, to, gain, unrivaled, knowledge, at, both, the, strategic, level, (generating, bold, and, innovative, ideas, for, data, science-driven, growth), and…Writing, SkillsSkills,, knowledge,, and, experience, with, creating, written, content, through, any, medium.Flexible, ScheduleWork, schedule, that, allows, employees, to, vary, their, arrival, and, departure, times.MATLABA, programming, language, and, environment, used, for, numerical, and, technical, computation.CassandraOpen-source, noSQL, database, built, with, NoSQL, for, scalability, and, high, availability, and, developed, by, Apache.MongoDBOpen-source, NOSQL, document-oriented, database.RemoteA, job, that, can, be, performed, entirely, remotely., May, involve, on-site, training, or, an, on-site, interview,, but, the, job, itself, can, be, performed, remotely, with, no, need, ...]   \n",
       "4                                                                                                                      [Candidates, will, help, own, analytics, for, a, particular, product, or, business, at, Facebook, and, work, with, product, managers, and, engineers, to, translate, the, analysis, into…Presentation, SkillsExperience, effectively, speaking, and, communicating, information, to, a, large, or, small, audience., Disability, FriendlyIndividuals, with, disabilities, are, encouraged, to, apply.PerlA, general-purpose, programming, language, often, used, for, developing, web, applications, and, scripting.Doctoral, DegreeTerminal, degree, awarded, by, universities, or, colleges, at, the, completion, of, an, advanced,, research-focused, course, of, study., A, Doctoral, Degree, enables, the, holder, to, teach, at, high, levels, in, universities, or, colleges,, or, to, work, in, other, specialized, professional, roles., Master's, DegreeDegree, awarded, to, ...]   \n",
       "\n",
       "               date  salary  \n",
       "0     [1, day, ago]     NaN  \n",
       "1    [6, days, ago]     NaN  \n",
       "2     [1, day, ago]     NaN  \n",
       "3  [30+, days, ago]     NaN  \n",
       "4  [30+, days, ago]     NaN  "
      ]
     },
     "execution_count": 42,
     "metadata": {},
     "output_type": "execute_result"
    }
   ],
   "source": [
    "title = []\n",
    "company = []\n",
    "rating = []\n",
    "location = []\n",
    "summary = []\n",
    "date = []\n",
    "salary = []\n",
    "\n",
    "for x in tqdm_notebook(range(10, 200, 10)):\n",
    "    URL = \"http://www.indeed.com/jobs?\"\n",
    "    PARAMS = dict(q='data scientist $20,000', l='New York', start={})\n",
    "\n",
    "    r = requests.get(url=URL, params=PARAMS)\n",
    "    soup = BeautifulSoup(r.text, 'html.parser')\n",
    "\n",
    "    for posting in soup.find_all('div', attrs={'class':'result'}):\n",
    "        title.append(extract_title_from_result(posting))\n",
    "        company.append(extract_company_from_result(posting))\n",
    "        rating.append(extract_rating_from_result(posting))\n",
    "        location.append(extract_location_from_result(posting))\n",
    "        summary.append(extract_summary_from_result(posting))\n",
    "        date.append(extract_date_from_result(posting))\n",
    "        salary.append(extract_salary_from_result(posting))\n",
    "\n",
    "jobs = pd.DataFrame(dict(title=title,company=company,rating=rating,location=location,summary=summary,date=date,salary=salary))\n",
    "\n",
    "print(jobs.shape)\n",
    "jobs.head()"
   ]
  },
  {
   "cell_type": "markdown",
   "metadata": {
    "focus": false,
    "id": "34070e89-9521-4b45-90c8-57a6599aac68"
   },
   "source": [
    "Now, to scale up our scraping, we need to accumulate more results. We can do this by examining the URL above.\n",
    "\n",
    "- \"http://www.indeed.com/jobs?q=data+scientist+%2420%2C000&l=New+York&start=10\"\n",
    "\n",
    "There are two query parameters here we can alter to collect more results, the `l=New+York` and the `start=10`. The first controls the location of the results (so we can try a different city). The second controls where in the results to start and gives 10 results (thus, we can keep incrementing by 10 to go further in the list)."
   ]
  },
  {
   "cell_type": "code",
   "execution_count": null,
   "metadata": {},
   "outputs": [],
   "source": []
  },
  {
   "cell_type": "markdown",
   "metadata": {
    "focus": false,
    "id": "e8beed7c-3e42-40c0-810f-5f67f8f885a0"
   },
   "source": [
    "### Complete the following code to collect results from multiple cities and starting points. \n",
    "- Enter your city below to add it to the search.\n",
    "- Remember to convert your salary to U.S. Dollars to match the other cities if the currency is different."
   ]
  },
  {
   "cell_type": "code",
   "execution_count": 5,
   "metadata": {
    "focus": false,
    "id": "a9aa87ec-3575-4a01-a986-eb684f2c47d0"
   },
   "outputs": [],
   "source": [
    "YOUR_CITY = ''"
   ]
  },
  {
   "cell_type": "code",
   "execution_count": 6,
   "metadata": {
    "focus": false,
    "id": "04b0f9af-540e-402f-8292-81748707c676"
   },
   "outputs": [],
   "source": [
    "url_template = \"http://www.indeed.com/jobs?q=data+scientist+%2420%2C000&l={}&start={}\"\n",
    "max_results_per_city = 100 # Set this to a high-value (5000) to generate more results. \n",
    "# Crawling more results, will also take much longer. First test your code on a small number of results and then expand.\n",
    "\n",
    "results = []\n",
    "\n",
    "for city in set(['New+York', 'Chicago', 'San+Francisco', 'Austin', 'Seattle', \n",
    "    'Los+Angeles', 'Philadelphia', 'Atlanta', 'Dallas', 'Pittsburgh', \n",
    "    'Portland', 'Phoenix', 'Denver', 'Houston', 'Miami', YOUR_CITY]):\n",
    "    for start in range(0, max_results_per_city, 10):\n",
    "        # Grab the results from the request (as above)\n",
    "        # Append to the full set of results\n",
    "        pass"
   ]
  },
  {
   "cell_type": "markdown",
   "metadata": {
    "focus": false,
    "id": "20339c09-5032-4e27-91be-286e9b46cd13"
   },
   "source": [
    "#### Use the functions you wrote above to parse out the 4 fields - location, title, company and salary. Create a dataframe from the results with those 4 columns."
   ]
  },
  {
   "cell_type": "code",
   "execution_count": 7,
   "metadata": {
    "focus": false,
    "id": "6e259594-1c52-436b-ab9e-527e071941c1"
   },
   "outputs": [],
   "source": [
    "## YOUR CODE HERE"
   ]
  },
  {
   "cell_type": "markdown",
   "metadata": {
    "focus": false,
    "id": "ff98ce64-78a7-441f-a675-63464e32c834"
   },
   "source": [
    "Lastly, we need to clean up salary data. \n",
    "\n",
    "1. Only a small number of the scraped results have salary information - only these will be used for modeling.\n",
    "1. Some of the salaries are not yearly but hourly or weekly, these will not be useful to us for now.\n",
    "1. Some of the entries may be duplicated.\n",
    "1. The salaries are given as text and usually with ranges."
   ]
  },
  {
   "cell_type": "markdown",
   "metadata": {
    "focus": false,
    "id": "ff98ce64-78a7-441f-a675-63464e32c834"
   },
   "source": [
    "#### Find the entries with annual salary entries, by filtering the entries without salaries or salaries that are not yearly (filter those that refer to hour or week). Also, remove duplicate entries."
   ]
  },
  {
   "cell_type": "code",
   "execution_count": 8,
   "metadata": {
    "focus": false,
    "id": "58533e57-f86b-494a-b841-e7b59c6229c6"
   },
   "outputs": [],
   "source": [
    "## YOUR CODE HERE"
   ]
  },
  {
   "cell_type": "markdown",
   "metadata": {
    "focus": false,
    "id": "7d4bc860-b214-4f75-9cd0-b234830b1ec2"
   },
   "source": [
    "#### Write a function that takes a salary string and converts it to a number, averaging a salary range if necessary."
   ]
  },
  {
   "cell_type": "code",
   "execution_count": 9,
   "metadata": {
    "focus": false,
    "id": "a0f701e0-80bd-40ba-9101-4535860c0968"
   },
   "outputs": [],
   "source": [
    "## YOUR CODE HERE"
   ]
  },
  {
   "cell_type": "markdown",
   "metadata": {
    "focus": false,
    "id": "43e71edd-210e-42b1-9336-70a931f048af"
   },
   "source": [
    "### Save your results as a CSV"
   ]
  },
  {
   "cell_type": "code",
   "execution_count": 10,
   "metadata": {
    "focus": false,
    "id": "783fd153-28ac-47ab-bfca-27e7c1de95b4"
   },
   "outputs": [],
   "source": [
    "## YOUR CODE HERE"
   ]
  },
  {
   "cell_type": "markdown",
   "metadata": {
    "focus": false,
    "id": "243e949e-2742-40af-872e-fec475fd306c"
   },
   "source": [
    "### Load in the the data of scraped salaries"
   ]
  },
  {
   "cell_type": "code",
   "execution_count": 11,
   "metadata": {
    "focus": false,
    "id": "588f9845-6143-4bcc-bfd1-85d45b79303d"
   },
   "outputs": [],
   "source": [
    "## YOUR CODE HERE"
   ]
  },
  {
   "cell_type": "markdown",
   "metadata": {
    "focus": false,
    "id": "c7631f51-07f2-4c79-a093-3e9bc7849a48"
   },
   "source": [
    "### We want to predict a binary variable - whether the salary was low or high. Compute the median salary and create a new binary variable that is true when the salary is high (above the median).\n",
    "\n",
    "We could also perform Linear Regression (or any regression) to predict the salary value here. Instead, we are going to convert this into a _binary_ classification problem, by predicting two classes, HIGH vs LOW salary.\n",
    "\n",
    "While performing regression may be better, performing classification may help remove some of the noise of the extreme salaries. We don't have to choose the `median` as the splitting point - we could also split on the 75th percentile or any other reasonable breaking point.\n",
    "\n",
    "In fact, the ideal scenario may be to predict many levels of salaries."
   ]
  },
  {
   "cell_type": "code",
   "execution_count": 12,
   "metadata": {
    "focus": false,
    "id": "c20d2498-151c-44c3-a453-3a333c79a0ac"
   },
   "outputs": [],
   "source": [
    "## YOUR CODE HERE"
   ]
  },
  {
   "cell_type": "markdown",
   "metadata": {
    "focus": false,
    "id": "a7afb2c0-d41e-4779-8216-91cd8dd4473f"
   },
   "source": [
    "#### Thought experiment: What is the baseline accuracy for this model?"
   ]
  },
  {
   "cell_type": "code",
   "execution_count": 13,
   "metadata": {
    "focus": false,
    "id": "87a17d3d-b7f4-4747-9f75-f9af1d18a174"
   },
   "outputs": [],
   "source": [
    "## YOUR CODE HERE"
   ]
  },
  {
   "cell_type": "markdown",
   "metadata": {
    "focus": false,
    "id": "4fb29de2-5b98-474c-a4ad-5170b72b9aea"
   },
   "source": [
    "### Create a classification model to predict High/Low salary. \n",
    "\n",
    "\n",
    "- Start by ONLY using the location as a feature.\n",
    "- Use at least two different classifiers you find suitable.\n",
    "- Remember that scaling your features might be necessary.\n",
    "- Display the coefficients/feature importances and write a short summary of what they mean.\n",
    "- Create a few new variables in your dataframe to represent interesting features of a job title (e.g. whether 'Senior' or 'Manager' is in the title).\n",
    "- Incorporate other text features from the title or summary that you believe will predict the salary.\n",
    "- Then build new classification models including also those features. Do they add any value?\n",
    "- Tune your models by testing parameter ranges, regularization strengths, etc. Discuss how that affects your models.\n",
    "- Discuss model coefficients or feature importances as applicable."
   ]
  },
  {
   "cell_type": "code",
   "execution_count": 14,
   "metadata": {},
   "outputs": [],
   "source": [
    "## YOUR CODE HERE"
   ]
  },
  {
   "cell_type": "markdown",
   "metadata": {
    "focus": false,
    "id": "4fb29de2-5b98-474c-a4ad-5170b72b9aea"
   },
   "source": [
    "### Model evaluation:\n",
    "\n",
    "Your boss would rather tell a client incorrectly that they would get a lower salary job than tell a client incorrectly that they would get a high salary job. Adjust one of your models to ease his mind, and explain what it is doing and any tradeoffs.\n",
    "\n",
    "\n",
    "- Use cross-validation to evaluate your models.\n",
    "- Evaluate the accuracy, AUC, precision and recall of the models.\n",
    "- Plot the ROC and precision-recall curves for at least one of your models."
   ]
  },
  {
   "cell_type": "code",
   "execution_count": 15,
   "metadata": {},
   "outputs": [],
   "source": [
    "## YOUR CODE HERE"
   ]
  },
  {
   "cell_type": "markdown",
   "metadata": {
    "focus": false,
    "id": "4fb29de2-5b98-474c-a4ad-5170b72b9aea"
   },
   "source": [
    "<img src=\"http://imgur.com/xDpSobf.png\" style=\"float: left; margin: 25px 15px 0px 0px; height: 25px\">\n",
    "\n",
    "### Bonus:\n",
    "\n",
    "- Answer the salary discussion by using your model to explain the tradeoffs between detecting high vs low salary positions. \n",
    "- Discuss the differences and explain when you want a high-recall or a high-precision model in this scenario.\n",
    "- Obtain the ROC/precision-recall curves for the different models you studied (at least the tuned model of each category) and compare."
   ]
  },
  {
   "cell_type": "code",
   "execution_count": 16,
   "metadata": {
    "focus": false,
    "id": "068dc1cf-7fd7-4f27-a1f1-7f0a5a221d29"
   },
   "outputs": [],
   "source": [
    "## YOUR CODE HERE"
   ]
  },
  {
   "cell_type": "markdown",
   "metadata": {},
   "source": [
    "### Summarize your results in an executive summary written for a non-technical audience.\n",
    "   \n",
    "- Writeups should be at least 500-1000 words, defining any technical terms, explaining your approach, as well as any risks and limitations."
   ]
  },
  {
   "cell_type": "code",
   "execution_count": 17,
   "metadata": {},
   "outputs": [],
   "source": [
    "## YOUR TEXT HERE IN MARKDOWN FORMAT "
   ]
  },
  {
   "cell_type": "markdown",
   "metadata": {},
   "source": [
    "<img src=\"http://imgur.com/xDpSobf.png\" style=\"float: left; margin: 25px 15px 0px 0px; height: 25px\">\n",
    "\n",
    "### BONUS\n",
    "\n",
    "Convert your executive summary into a public blog post of at least 500 words, in which you document your approach in a tutorial for other aspiring data scientists. Link to this in your notebook."
   ]
  },
  {
   "cell_type": "code",
   "execution_count": 18,
   "metadata": {},
   "outputs": [],
   "source": [
    "## YOUR LINK HERE IN MARKDOWN FORMAT "
   ]
  }
 ],
 "metadata": {
  "kernelspec": {
   "display_name": "Python 3",
   "language": "python",
   "name": "python3"
  },
  "language_info": {
   "codemirror_mode": {
    "name": "ipython",
    "version": 3
   },
   "file_extension": ".py",
   "mimetype": "text/x-python",
   "name": "python",
   "nbconvert_exporter": "python",
   "pygments_lexer": "ipython3",
   "version": "3.7.3"
  },
  "toc": {
   "base_numbering": 1,
   "nav_menu": {},
   "number_sections": false,
   "sideBar": true,
   "skip_h1_title": true,
   "title_cell": "Table of Contents",
   "title_sidebar": "Contents",
   "toc_cell": false,
   "toc_position": {},
   "toc_section_display": "block",
   "toc_window_display": false
  },
  "varInspector": {
   "cols": {
    "lenName": 16,
    "lenType": 16,
    "lenVar": 40
   },
   "kernels_config": {
    "python": {
     "delete_cmd_postfix": "",
     "delete_cmd_prefix": "del ",
     "library": "var_list.py",
     "varRefreshCmd": "print(var_dic_list())"
    },
    "r": {
     "delete_cmd_postfix": ") ",
     "delete_cmd_prefix": "rm(",
     "library": "var_list.r",
     "varRefreshCmd": "cat(var_dic_list()) "
    }
   },
   "types_to_exclude": [
    "module",
    "function",
    "builtin_function_or_method",
    "instance",
    "_Feature"
   ],
   "window_display": false
  }
 },
 "nbformat": 4,
 "nbformat_minor": 1
}
