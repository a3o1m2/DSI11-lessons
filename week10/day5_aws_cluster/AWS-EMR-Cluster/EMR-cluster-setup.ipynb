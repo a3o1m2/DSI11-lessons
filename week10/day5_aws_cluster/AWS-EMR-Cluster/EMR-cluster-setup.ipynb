{
 "cells": [
  {
   "cell_type": "markdown",
   "metadata": {},
   "source": [
    "<img src=\"http://imgur.com/1ZcRyrc.png\" style=\"float: left; margin: 20px; height: 55px\">\n",
    "\n",
    "# AWS: Setting up an EMR cluster\n",
    "\n",
    "---"
   ]
  },
  {
   "cell_type": "markdown",
   "metadata": {},
   "source": [
    "## Cluster setup\n",
    "- Select the EMR (Elastic Map Reduce) service\n",
    "- This service is not part of the free tier!\n",
    "- Click create cluster\n",
    "- Choose the configuration with Spark\n",
    "\n",
    "![](images/create_cluster.png)\n",
    "\n",
    "Once the cluster is set up, you connect to it by:\n",
    "1. Going to EC2 instances, and selecting the master node...\n",
    "2. Click on 'ElasticMapReduce-master' then inbound... ensure there's a new rule for SSH, port 22, 0.0.0.0/0\n",
    "3. Then go back to Cluster and click on it, and click / pase SSH code, and then same for Enable Web Connection link (update path for keypair location)"
   ]
  },
  {
   "cell_type": "markdown",
   "metadata": {},
   "source": [
    "## Notebook creation\n",
    "- Follow the steps and launch - it will take some minutes before it becomes active\n",
    "- Once the cluster is running, go back to the cluster menu and select notebook\n",
    "- You can start a notebook which will be saved in one of your S3 buckets\n",
    "- The bucket needs to be in the same region as the cluster\n",
    "\n",
    "![](images/create_notebook.png)\n",
    "\n",
    "- Once created, you can Open in Jupyter..\n",
    "- Then download a notebook you have to your Downloads folder\n",
    "- Then you can Upload it to your cluster's notebook.\n",
    "- Then you can run it... ensuring it's pointing to the right kernel if need be"
   ]
  },
  {
   "cell_type": "markdown",
   "metadata": {},
   "source": []
  }
 ],
 "metadata": {
  "kernelspec": {
   "display_name": "Python 3",
   "language": "python",
   "name": "python3"
  },
  "language_info": {
   "codemirror_mode": {
    "name": "ipython",
    "version": 3
   },
   "file_extension": ".py",
   "mimetype": "text/x-python",
   "name": "python",
   "nbconvert_exporter": "python",
   "pygments_lexer": "ipython3",
   "version": "3.7.3"
  },
  "toc": {
   "base_numbering": 1,
   "nav_menu": {},
   "number_sections": false,
   "sideBar": true,
   "skip_h1_title": false,
   "title_cell": "Table of Contents",
   "title_sidebar": "Contents",
   "toc_cell": false,
   "toc_position": {
    "height": "calc(100% - 180px)",
    "left": "10px",
    "top": "150px",
    "width": "229.091px"
   },
   "toc_section_display": true,
   "toc_window_display": false
  },
  "varInspector": {
   "cols": {
    "lenName": 16,
    "lenType": 16,
    "lenVar": 40
   },
   "kernels_config": {
    "python": {
     "delete_cmd_postfix": "",
     "delete_cmd_prefix": "del ",
     "library": "var_list.py",
     "varRefreshCmd": "print(var_dic_list())"
    },
    "r": {
     "delete_cmd_postfix": ") ",
     "delete_cmd_prefix": "rm(",
     "library": "var_list.r",
     "varRefreshCmd": "cat(var_dic_list()) "
    }
   },
   "types_to_exclude": [
    "module",
    "function",
    "builtin_function_or_method",
    "instance",
    "_Feature"
   ],
   "window_display": false
  }
 },
 "nbformat": 4,
 "nbformat_minor": 4
}
