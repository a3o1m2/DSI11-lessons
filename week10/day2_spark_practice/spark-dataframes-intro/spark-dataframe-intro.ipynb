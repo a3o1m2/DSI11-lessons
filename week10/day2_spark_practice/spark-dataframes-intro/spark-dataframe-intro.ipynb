{
 "cells": [
  {
   "cell_type": "markdown",
   "metadata": {},
   "source": [
    "<img src=\"http://imgur.com/1ZcRyrc.png\" style=\"float: left; margin: 20px; height: 55px\">\n",
    "\n",
    "# Spark Dataframes\n",
    "\n",
    "---"
   ]
  },
  {
   "cell_type": "markdown",
   "metadata": {
    "toc": true
   },
   "source": [
    "<h1>Lesson Guide<span class=\"tocSkip\"></span></h1>\n",
    "<div class=\"toc\"><ul class=\"toc-item\"><li><span><a href=\"#Spark-has-an-SQL-interface-into-dataframes-like-Hive\" data-toc-modified-id=\"Spark-has-an-SQL-interface-into-dataframes-like-Hive-1\">Spark has an SQL interface into dataframes like <em>Hive</em></a></span></li><li><span><a href=\"#Spark-data-types\" data-toc-modified-id=\"Spark-data-types-2\">Spark data types</a></span><ul class=\"toc-item\"><li><span><a href=\"#RDD's\" data-toc-modified-id=\"RDD's-2.1\">RDD's</a></span></li><li><span><a href=\"#DataFrames\" data-toc-modified-id=\"DataFrames-2.2\">DataFrames</a></span></li><li><span><a href=\"#Common-DataFrame-operations-and-characteristics\" data-toc-modified-id=\"Common-DataFrame-operations-and-characteristics-2.3\">Common DataFrame operations and characteristics</a></span><ul class=\"toc-item\"><li><span><a href=\"#Inspect-variable-/-column-space-of-a-DataFrame\" data-toc-modified-id=\"Inspect-variable-/-column-space-of-a-DataFrame-2.3.1\">Inspect variable / column space of a DataFrame</a></span></li><li><span><a href=\"#DTypes\" data-toc-modified-id=\"DTypes-2.3.2\">DTypes</a></span></li><li><span><a href=\"#Explain-DataFrame\" data-toc-modified-id=\"Explain-DataFrame-2.3.3\">Explain DataFrame</a></span></li><li><span><a href=\"#Describe\" data-toc-modified-id=\"Describe-2.3.4\">Describe</a></span></li><li><span><a href=\"#printSchema\" data-toc-modified-id=\"printSchema-2.3.5\">printSchema</a></span></li><li><span><a href=\"#Count\" data-toc-modified-id=\"Count-2.3.6\">Count</a></span></li></ul></li><li><span><a href=\"#Some-basic-stats-in-spark\" data-toc-modified-id=\"Some-basic-stats-in-spark-2.4\">Some basic stats in spark</a></span><ul class=\"toc-item\"><li><span><a href=\"#Covariance\" data-toc-modified-id=\"Covariance-2.4.1\">Covariance</a></span></li><li><span><a href=\"#Pearson-correlation\" data-toc-modified-id=\"Pearson-correlation-2.4.2\">Pearson correlation</a></span></li></ul></li><li><span><a href=\"#Limiting-results\" data-toc-modified-id=\"Limiting-results-2.5\">Limiting results</a></span><ul class=\"toc-item\"><li><span><a href=\"#Head\" data-toc-modified-id=\"Head-2.5.1\">Head</a></span></li><li><span><a href=\"#Show-limited-results\" data-toc-modified-id=\"Show-limited-results-2.5.2\">Show limited results</a></span></li></ul></li><li><span><a href=\"#-Why-should-you-need-to-be-careful-when-displaying-data-in-Spark?\" data-toc-modified-id=\"-Why-should-you-need-to-be-careful-when-displaying-data-in-Spark?-2.6\"><i class=\"fa fa-question-circle\"></i> Why should you need to be careful when displaying data in Spark?</a></span></li><li><span><a href=\"#More-DataFrame-and-Series-operations\" data-toc-modified-id=\"More-DataFrame-and-Series-operations-2.7\">More DataFrame and Series operations</a></span><ul class=\"toc-item\"><li><span><a href=\"#Transform-dataframe-to-RDD\" data-toc-modified-id=\"Transform-dataframe-to-RDD-2.7.1\">Transform dataframe to RDD</a></span></li><li><span><a href=\"#Convert-from-list-of-Row-objects-to-list-of-dictionaries\" data-toc-modified-id=\"Convert-from-list-of-Row-objects-to-list-of-dictionaries-2.7.2\">Convert from list of Row objects to list of dictionaries</a></span></li><li><span><a href=\"#Selecting-DataFrame-Series\" data-toc-modified-id=\"Selecting-DataFrame-Series-2.7.3\">Selecting DataFrame Series</a></span></li><li><span><a href=\"#Select-all-features-/-variables-/-columns\" data-toc-modified-id=\"Select-all-features-/-variables-/-columns-2.7.4\">Select all features / variables / columns</a></span></li><li><span><a href=\"#Select-specific-features-/-variables-/-columns\" data-toc-modified-id=\"Select-specific-features-/-variables-/-columns-2.7.5\">Select specific features / variables / columns</a></span></li><li><span><a href=\"#Series-Operations\" data-toc-modified-id=\"Series-Operations-2.7.6\">Series Operations</a></span></li><li><span><a href=\"#As-an-&quot;alias&quot;\" data-toc-modified-id=\"As-an-&quot;alias&quot;-2.7.7\">As an \"alias\"</a></span></li><li><span><a href=\"#Creating-new-features-/-variables-/-columns\" data-toc-modified-id=\"Creating-new-features-/-variables-/-columns-2.7.8\">Creating new features / variables / columns</a></span></li></ul></li><li><span><a href=\"#-Have-we-changed-the-original-DataFrame?\" data-toc-modified-id=\"-Have-we-changed-the-original-DataFrame?-2.8\"><i class=\"fa fa-question-circle\"></i> Have we changed the original DataFrame?</a></span><ul class=\"toc-item\"><li><span><a href=\"#Filtering-Data\" data-toc-modified-id=\"Filtering-Data-2.8.1\">Filtering Data</a></span></li><li><span><a href=\"#Multiple-conditions\" data-toc-modified-id=\"Multiple-conditions-2.8.2\">Multiple conditions</a></span></li><li><span><a href=\"#Filter-as-an-expression\" data-toc-modified-id=\"Filter-as-an-expression-2.8.3\">Filter as an expression</a></span></li><li><span><a href=\"#Sorting\" data-toc-modified-id=\"Sorting-2.8.4\">Sorting</a></span></li><li><span><a href=\"#Creating-a-histogram-from-a-column\" data-toc-modified-id=\"Creating-a-histogram-from-a-column-2.8.5\">Creating a histogram from a column</a></span></li></ul></li><li><span><a href=\"#AS-SQL!?\" data-toc-modified-id=\"AS-SQL!?-2.9\">AS SQL!?</a></span></li><li><span><a href=\"#Temporary-Views-select-DataFrames\" data-toc-modified-id=\"Temporary-Views-select-DataFrames-2.10\">Temporary Views select DataFrames</a></span></li></ul></li><li><span><a href=\"#Check-out-another-dataset-using-Spark-DataFrames\" data-toc-modified-id=\"Check-out-another-dataset-using-Spark-DataFrames-3\">Check out another dataset using Spark DataFrames</a></span><ul class=\"toc-item\"><li><ul class=\"toc-item\"><li><span><a href=\"#1.-Load-up-the-&quot;Pokemon&quot;-basic-Pokedex-dataset\" data-toc-modified-id=\"1.-Load-up-the-&quot;Pokemon&quot;-basic-Pokedex-dataset-3.0.1\">1. Load up the \"Pokemon\" basic Pokedex dataset</a></span></li><li><span><a href=\"#2.-Check-out-the-dataset-with-infer-schema-parameter-but-without-header.\" data-toc-modified-id=\"2.-Check-out-the-dataset-with-infer-schema-parameter-but-without-header.-3.0.2\">2. Check out the dataset with infer schema parameter but without header.</a></span></li><li><span><a href=\"#3.--Create-a-tempory-view-with-the-Pokedex-DataFrame-called-&quot;pokemon&quot;\" data-toc-modified-id=\"3.--Create-a-tempory-view-with-the-Pokedex-DataFrame-called-&quot;pokemon&quot;-3.0.3\">3.  Create a tempory view with the Pokedex DataFrame called \"pokemon\"</a></span></li><li><span><a href=\"#4.a-Which-is-the-strongest-Pokemon-by-Type?\" data-toc-modified-id=\"4.a-Which-is-the-strongest-Pokemon-by-Type?-3.0.4\">4.a Which is the strongest Pokemon by <code>Type</code>?</a></span></li><li><span><a href=\"#4.b-Which-is-the-strongest-Pokemon-by-Type?\" data-toc-modified-id=\"4.b-Which-is-the-strongest-Pokemon-by-Type?-3.0.5\">4.b Which is the strongest Pokemon by Type?</a></span></li><li><span><a href=\"#5.a-Which-Pokemon-has-the-best-combined-Attack-and-Defence?\" data-toc-modified-id=\"5.a-Which-Pokemon-has-the-best-combined-Attack-and-Defence?-3.0.6\">5.a Which Pokemon has the best combined Attack and Defence?</a></span></li><li><span><a href=\"#5.b-Which-Pokemon-has-the-best-combined-Attack-and-Defence?\" data-toc-modified-id=\"5.b-Which-Pokemon-has-the-best-combined-Attack-and-Defence?-3.0.7\">5.b Which Pokemon has the best combined Attack and Defence?</a></span></li><li><span><a href=\"#6.-Create-a-new-feature-called-&quot;Pokevalue&quot;-that-is-the-combined-Attack,-Defense-and-scaled-by-.2-of-the-Pokemon-HP.\" data-toc-modified-id=\"6.-Create-a-new-feature-called-&quot;Pokevalue&quot;-that-is-the-combined-Attack,-Defense-and-scaled-by-.2-of-the-Pokemon-HP.-3.0.8\">6. Create a new feature called \"Pokevalue\" that is the combined Attack, Defense and scaled by .2 of the Pokemon HP.</a></span></li></ul></li></ul></li></ul></div>"
   ]
  },
  {
   "cell_type": "markdown",
   "metadata": {},
   "source": [
    "## Spark has an SQL interface into dataframes like _Hive_\n",
    "\n",
    "Spark isn't exactly **Hive**, but it uses components from Hive.  You can use temporary SQL views with Spark dataframes.\n",
    "\n",
    ">```python\n",
    "># Load a dataset as a Spark DataFrame\n",
    ">df = spark.read.csv(\"datasets/somedataset/hamburgers_eaten_per_hour.csv\")\n",
    ">df.createOrReplaceTempView(\"hamburgers\")\n",
    ">```\n",
    "\n",
    "\n",
    "\n",
    "Then you can slice and dice your dataframe with SQL:\n",
    "\n",
    ">```python\n",
    ">spark.sql(\"SELECT * FROM hamburgers\").show()\n",
    ">\n",
    "># +------+---------+\n",
    "># | eaten|     name|\n",
    "># +------+---------+\n",
    "># |null  |     Jeff|\n",
    "># |  30  |   Kiefer|\n",
    "># |  19  |     Hang|\n",
    "># +------+---------+\n",
    ">```"
   ]
  },
  {
   "cell_type": "markdown",
   "metadata": {},
   "source": [
    "## Spark data types\n",
    "---"
   ]
  },
  {
   "cell_type": "markdown",
   "metadata": {},
   "source": [
    "### RDD's\n",
    "\n",
    "It's best to think of RDDs as primitive objects that are distributed.  RDDs can contain any type of Python, Java, or Scala objects, including user-defined classes.  "
   ]
  },
  {
   "cell_type": "markdown",
   "metadata": {},
   "source": [
    "### DataFrames\n",
    "\n",
    "The big difference between RDD's and DataFrames is that DataFrames introduce the idea of a \"schema\" much like Pandas.  \n",
    "\n",
    "The big plus is that Spark DataFrames serialize data at a lower level to native Java/Scala, so when it's passed between nodes, it's much more performant, requiring fewer processes to handle computations.  Mainly data can be processed faster when it's optimized to a common format (the schema) that Spark doesn't have to convert to in order to perform tasks on it.\n",
    "\n",
    "Outside of the performance optimizations introduced with a schema-based datastructure, the **DataFrame API** provides a convenient set of selectors for transforming data, much like Pandas.  Lastly, it's possible to create temporary views in which **DataFrames** can be queried with SQL - **SparkSQL**."
   ]
  },
  {
   "cell_type": "code",
   "execution_count": 72,
   "metadata": {},
   "outputs": [],
   "source": [
    "sc.stop()\n",
    "import pyspark as ps\n",
    "sc = ps.SparkContext(\"local\")\n",
    "spark = ps.sql.SparkSession(sc)"
   ]
  },
  {
   "cell_type": "code",
   "execution_count": 73,
   "metadata": {},
   "outputs": [
    {
     "name": "stdout",
     "output_type": "stream",
     "text": [
      "root\n",
      " |-- pos: string (nullable = true)\n",
      " |-- word: string (nullable = true)\n",
      " |-- pos_score: double (nullable = true)\n",
      " |-- neg_score: double (nullable = true)\n",
      "\n"
     ]
    }
   ],
   "source": [
    "df = spark.read.csv(\n",
    "    path=\"data/sentiment_words_simple.csv\",\n",
    "    header=True,\n",
    "    # Poorly formed rows in CSV are dropped rather than erroring entire operation\n",
    "    mode=\"DROPMALFORMED\",\n",
    "    # Not always perfect but works well in most cases as of 2.1+\n",
    "    inferSchema=True\n",
    ")\n",
    "\n",
    "df.printSchema()"
   ]
  },
  {
   "cell_type": "code",
   "execution_count": null,
   "metadata": {},
   "outputs": [],
   "source": [
    "df"
   ]
  },
  {
   "cell_type": "markdown",
   "metadata": {},
   "source": [
    "To see the dataframe, we have to use the command `.show()`. It will limit to 20 rows by default."
   ]
  },
  {
   "cell_type": "code",
   "execution_count": null,
   "metadata": {},
   "outputs": [],
   "source": [
    "df.show(10)"
   ]
  },
  {
   "cell_type": "markdown",
   "metadata": {},
   "source": [
    "### Common DataFrame operations and characteristics\n",
    "---\n",
    "\n",
    "Let's have a look at some familiar and new functions and properties."
   ]
  },
  {
   "cell_type": "markdown",
   "metadata": {},
   "source": [
    "#### Inspect variable / column space of a DataFrame"
   ]
  },
  {
   "cell_type": "code",
   "execution_count": null,
   "metadata": {},
   "outputs": [],
   "source": [
    "df.columns"
   ]
  },
  {
   "cell_type": "markdown",
   "metadata": {},
   "source": [
    "#### DTypes\n",
    "\n",
    "Inspect schema programmatically."
   ]
  },
  {
   "cell_type": "code",
   "execution_count": null,
   "metadata": {},
   "outputs": [],
   "source": [
    "df.dtypes"
   ]
  },
  {
   "cell_type": "markdown",
   "metadata": {},
   "source": [
    "#### Explain DataFrame\n",
    "Show details about DataFrame type, schema, and origin of data."
   ]
  },
  {
   "cell_type": "code",
   "execution_count": null,
   "metadata": {},
   "outputs": [],
   "source": [
    "df.explain()"
   ]
  },
  {
   "cell_type": "markdown",
   "metadata": {},
   "source": [
    "#### Describe\n",
    "Describe will look similar to the synonymous Pandas **describe** function."
   ]
  },
  {
   "cell_type": "code",
   "execution_count": 74,
   "metadata": {},
   "outputs": [
    {
     "name": "stdout",
     "output_type": "stream",
     "text": [
      "+-------+------+--------------------+-------------------+-------------------+\n",
      "|summary|   pos|                word|          pos_score|          neg_score|\n",
      "+-------+------+--------------------+-------------------+-------------------+\n",
      "|  count|155287|              155287|             155287|             155287|\n",
      "|   mean|  null| 5.687506389495568E9|0.03865380738372139|0.05048873043068892|\n",
      "| stddev|  null|7.537744261701462E10|0.11118246263109259| 0.1392276319041252|\n",
      "|    min|   adj|               'hood|                0.0|                0.0|\n",
      "|    max|  verb|              zyrian|                1.0|                1.0|\n",
      "+-------+------+--------------------+-------------------+-------------------+\n",
      "\n"
     ]
    }
   ],
   "source": [
    "df.describe().show()"
   ]
  },
  {
   "cell_type": "code",
   "execution_count": 75,
   "metadata": {},
   "outputs": [
    {
     "data": {
      "text/html": [
       "<div>\n",
       "<style scoped>\n",
       "    .dataframe tbody tr th:only-of-type {\n",
       "        vertical-align: middle;\n",
       "    }\n",
       "\n",
       "    .dataframe tbody tr th {\n",
       "        vertical-align: top;\n",
       "    }\n",
       "\n",
       "    .dataframe thead th {\n",
       "        text-align: right;\n",
       "    }\n",
       "</style>\n",
       "<table border=\"1\" class=\"dataframe\">\n",
       "  <thead>\n",
       "    <tr style=\"text-align: right;\">\n",
       "      <th></th>\n",
       "      <th>summary</th>\n",
       "      <th>pos</th>\n",
       "      <th>word</th>\n",
       "      <th>pos_score</th>\n",
       "      <th>neg_score</th>\n",
       "    </tr>\n",
       "  </thead>\n",
       "  <tbody>\n",
       "    <tr>\n",
       "      <td>0</td>\n",
       "      <td>count</td>\n",
       "      <td>155287</td>\n",
       "      <td>155287</td>\n",
       "      <td>155287</td>\n",
       "      <td>155287</td>\n",
       "    </tr>\n",
       "    <tr>\n",
       "      <td>1</td>\n",
       "      <td>mean</td>\n",
       "      <td>None</td>\n",
       "      <td>5.687506389495568E9</td>\n",
       "      <td>0.03865380738372139</td>\n",
       "      <td>0.05048873043068892</td>\n",
       "    </tr>\n",
       "    <tr>\n",
       "      <td>2</td>\n",
       "      <td>stddev</td>\n",
       "      <td>None</td>\n",
       "      <td>7.537744261701462E10</td>\n",
       "      <td>0.11118246263109259</td>\n",
       "      <td>0.1392276319041252</td>\n",
       "    </tr>\n",
       "    <tr>\n",
       "      <td>3</td>\n",
       "      <td>min</td>\n",
       "      <td>adj</td>\n",
       "      <td>'hood</td>\n",
       "      <td>0.0</td>\n",
       "      <td>0.0</td>\n",
       "    </tr>\n",
       "    <tr>\n",
       "      <td>4</td>\n",
       "      <td>max</td>\n",
       "      <td>verb</td>\n",
       "      <td>zyrian</td>\n",
       "      <td>1.0</td>\n",
       "      <td>1.0</td>\n",
       "    </tr>\n",
       "  </tbody>\n",
       "</table>\n",
       "</div>"
      ],
      "text/plain": [
       "  summary     pos                  word            pos_score  \\\n",
       "0   count  155287                155287               155287   \n",
       "1    mean    None   5.687506389495568E9  0.03865380738372139   \n",
       "2  stddev    None  7.537744261701462E10  0.11118246263109259   \n",
       "3     min     adj                 'hood                  0.0   \n",
       "4     max    verb                zyrian                  1.0   \n",
       "\n",
       "             neg_score  \n",
       "0               155287  \n",
       "1  0.05048873043068892  \n",
       "2   0.1392276319041252  \n",
       "3                  0.0  \n",
       "4                  1.0  "
      ]
     },
     "execution_count": 75,
     "metadata": {},
     "output_type": "execute_result"
    }
   ],
   "source": [
    "df.describe().toPandas()"
   ]
  },
  {
   "cell_type": "code",
   "execution_count": 76,
   "metadata": {},
   "outputs": [
    {
     "data": {
      "text/html": [
       "<div>\n",
       "<style scoped>\n",
       "    .dataframe tbody tr th:only-of-type {\n",
       "        vertical-align: middle;\n",
       "    }\n",
       "\n",
       "    .dataframe tbody tr th {\n",
       "        vertical-align: top;\n",
       "    }\n",
       "\n",
       "    .dataframe thead th {\n",
       "        text-align: right;\n",
       "    }\n",
       "</style>\n",
       "<table border=\"1\" class=\"dataframe\">\n",
       "  <thead>\n",
       "    <tr style=\"text-align: right;\">\n",
       "      <th></th>\n",
       "      <th>pos_score</th>\n",
       "      <th>neg_score</th>\n",
       "    </tr>\n",
       "  </thead>\n",
       "  <tbody>\n",
       "    <tr>\n",
       "      <td>count</td>\n",
       "      <td>155287.000000</td>\n",
       "      <td>155287.000000</td>\n",
       "    </tr>\n",
       "    <tr>\n",
       "      <td>mean</td>\n",
       "      <td>0.038654</td>\n",
       "      <td>0.050489</td>\n",
       "    </tr>\n",
       "    <tr>\n",
       "      <td>std</td>\n",
       "      <td>0.111182</td>\n",
       "      <td>0.139228</td>\n",
       "    </tr>\n",
       "    <tr>\n",
       "      <td>min</td>\n",
       "      <td>0.000000</td>\n",
       "      <td>0.000000</td>\n",
       "    </tr>\n",
       "    <tr>\n",
       "      <td>25%</td>\n",
       "      <td>0.000000</td>\n",
       "      <td>0.000000</td>\n",
       "    </tr>\n",
       "    <tr>\n",
       "      <td>50%</td>\n",
       "      <td>0.000000</td>\n",
       "      <td>0.000000</td>\n",
       "    </tr>\n",
       "    <tr>\n",
       "      <td>75%</td>\n",
       "      <td>0.000000</td>\n",
       "      <td>0.000000</td>\n",
       "    </tr>\n",
       "    <tr>\n",
       "      <td>max</td>\n",
       "      <td>1.000000</td>\n",
       "      <td>1.000000</td>\n",
       "    </tr>\n",
       "  </tbody>\n",
       "</table>\n",
       "</div>"
      ],
      "text/plain": [
       "           pos_score      neg_score\n",
       "count  155287.000000  155287.000000\n",
       "mean        0.038654       0.050489\n",
       "std         0.111182       0.139228\n",
       "min         0.000000       0.000000\n",
       "25%         0.000000       0.000000\n",
       "50%         0.000000       0.000000\n",
       "75%         0.000000       0.000000\n",
       "max         1.000000       1.000000"
      ]
     },
     "execution_count": 76,
     "metadata": {},
     "output_type": "execute_result"
    }
   ],
   "source": [
    "# Check Pandas version here!!!\n",
    "df.toPandas().describe()"
   ]
  },
  {
   "cell_type": "markdown",
   "metadata": {},
   "source": [
    "#### printSchema\n",
    "The schema is a very import characteristic of a Spark DataFrame.  It tells us what's possible in terms of transformation.  Also, it's the reason DataFrames are so fast since they are typed to a set number of types that are serialized and optimized in Java/Scala behind the scenes.\n",
    "\n",
    "><i class=\"fa fa-exclamation-triangle\" aria-hidden=\"true\"></i> The \"schema\" that we've been so excited to see is finally here to explore.  Feel free to take a screenshot and show your friends."
   ]
  },
  {
   "cell_type": "code",
   "execution_count": 101,
   "metadata": {},
   "outputs": [
    {
     "name": "stdout",
     "output_type": "stream",
     "text": [
      "root\n",
      " |-- PokedexNumber: integer (nullable = true)\n",
      " |-- Name: string (nullable = true)\n",
      " |-- Type: string (nullable = true)\n",
      " |-- Total: integer (nullable = true)\n",
      " |-- HP: integer (nullable = true)\n",
      " |-- Attack: integer (nullable = true)\n",
      " |-- Defense: integer (nullable = true)\n",
      " |-- SpecialAttack: integer (nullable = true)\n",
      " |-- SpecialDefense: integer (nullable = true)\n",
      " |-- Speed: integer (nullable = true)\n",
      "\n"
     ]
    }
   ],
   "source": [
    "df.printSchema()"
   ]
  },
  {
   "cell_type": "markdown",
   "metadata": {},
   "source": [
    "#### Count\n",
    "Count with caveat:  This will return the count of all rows, including _non-NaN_ values.  Pandas will omit these."
   ]
  },
  {
   "cell_type": "code",
   "execution_count": null,
   "metadata": {},
   "outputs": [],
   "source": [
    "df.count()"
   ]
  },
  {
   "cell_type": "markdown",
   "metadata": {},
   "source": [
    "### Some basic stats in spark\n",
    "---"
   ]
  },
  {
   "cell_type": "markdown",
   "metadata": {},
   "source": [
    "#### Covariance"
   ]
  },
  {
   "cell_type": "code",
   "execution_count": null,
   "metadata": {},
   "outputs": [],
   "source": [
    "df.cov(\"pos_score\", \"neg_score\")"
   ]
  },
  {
   "cell_type": "markdown",
   "metadata": {},
   "source": [
    "#### Pearson correlation"
   ]
  },
  {
   "cell_type": "code",
   "execution_count": null,
   "metadata": {},
   "outputs": [],
   "source": [
    "df.corr(\"pos_score\", \"neg_score\")"
   ]
  },
  {
   "cell_type": "markdown",
   "metadata": {},
   "source": [
    "### Limiting results\n",
    "\n",
    "---"
   ]
  },
  {
   "cell_type": "markdown",
   "metadata": {},
   "source": [
    "#### Head"
   ]
  },
  {
   "cell_type": "code",
   "execution_count": null,
   "metadata": {},
   "outputs": [],
   "source": [
    "# all the data is loaded into an instance's memory -- use for small datasets\n",
    "df.head(5)"
   ]
  },
  {
   "cell_type": "markdown",
   "metadata": {},
   "source": [
    "#### Show limited results\n",
    "\n",
    "With Pandas we're used to the `df.head()` as a first step in exploring a dataset.  With Spark this isn't exactly the same.  You need to use the `df.show()` operation in order to explore data as a first step.  Where Pandas formats its DataFrame output for display in nice HTML tables with sensible defaults for output, you have to be a bit more specific about what you're looking at with `show()` when using Spark.\n",
    "\n",
    "\n",
    "> The parameter `truncate` is helpful for truncating attributes for display."
   ]
  },
  {
   "cell_type": "code",
   "execution_count": null,
   "metadata": {},
   "outputs": [],
   "source": [
    "df.show(6)"
   ]
  },
  {
   "cell_type": "code",
   "execution_count": null,
   "metadata": {},
   "outputs": [],
   "source": [
    "df.show(5, truncate=8)"
   ]
  },
  {
   "cell_type": "code",
   "execution_count": null,
   "metadata": {},
   "outputs": [],
   "source": [
    "df.limit(19).show()\n",
    "# `show()` can also be chained to certain outputs like `limit`.\n",
    "# `show` by itself is a compound operation for displaying data."
   ]
  },
  {
   "cell_type": "markdown",
   "metadata": {},
   "source": [
    "### <i class=\"fa fa-question-circle\" aria-hidden=\"true\"></i> Why should you need to be careful when displaying data in Spark?\n",
    "\n",
    "Hopefully you can see why Pandas is so nice to use for EDA."
   ]
  },
  {
   "cell_type": "markdown",
   "metadata": {},
   "source": [
    "### More DataFrame and Series operations\n",
    "---"
   ]
  },
  {
   "cell_type": "markdown",
   "metadata": {},
   "source": [
    "#### Transform dataframe to RDD"
   ]
  },
  {
   "cell_type": "code",
   "execution_count": null,
   "metadata": {},
   "outputs": [],
   "source": [
    "df.rdd.take(5)"
   ]
  },
  {
   "cell_type": "markdown",
   "metadata": {},
   "source": [
    "#### Convert from list of Row objects to list of dictionaries"
   ]
  },
  {
   "cell_type": "code",
   "execution_count": null,
   "metadata": {},
   "outputs": [],
   "source": [
    "[row.asDict() for row in df.take(10)]"
   ]
  },
  {
   "cell_type": "markdown",
   "metadata": {},
   "source": [
    "#### Selecting DataFrame Series\n",
    "\n",
    "Selecting variables with Spark **DataFrames API** works very similarly to Pandas DataFrames.  When selecting variables in Pandas use a `list` object, passed to a DataFrame object via `[]` brackets like so:\n",
    "\n",
    ">```df[['col1', 'col2']]```\n",
    "\n",
    "The equivalent in spark is using the `.select()` method which takes flat parameters."
   ]
  },
  {
   "cell_type": "markdown",
   "metadata": {},
   "source": [
    "#### Select all features / variables / columns"
   ]
  },
  {
   "cell_type": "code",
   "execution_count": null,
   "metadata": {},
   "outputs": [],
   "source": [
    "df.select(df.columns)"
   ]
  },
  {
   "cell_type": "code",
   "execution_count": null,
   "metadata": {},
   "outputs": [],
   "source": [
    "df.select(df.columns).show(5)"
   ]
  },
  {
   "cell_type": "markdown",
   "metadata": {},
   "source": [
    "#### Select specific features / variables / columns"
   ]
  },
  {
   "cell_type": "code",
   "execution_count": null,
   "metadata": {},
   "outputs": [],
   "source": [
    "df.select(\"word\", \"pos_score\").show()"
   ]
  },
  {
   "cell_type": "markdown",
   "metadata": {},
   "source": [
    "#### Series Operations\n",
    "\n",
    "With Pandas, you can easily create a new series that's the sum of every row in **\"col1\"** and **\"col2\"** with\n",
    "\n",
    "> `df['col1'] + df['col2']`\n",
    "\n",
    "In Spark, we have to do this through the select function."
   ]
  },
  {
   "cell_type": "code",
   "execution_count": null,
   "metadata": {},
   "outputs": [],
   "source": [
    "df.select(df[\"pos_score\"] + df[\"neg_score\"]).show(15)"
   ]
  },
  {
   "cell_type": "code",
   "execution_count": null,
   "metadata": {},
   "outputs": [],
   "source": [
    "# We can also do math operations in series as well\n",
    "df.select(df[\"pos_score\"] + 10).show(15)"
   ]
  },
  {
   "cell_type": "markdown",
   "metadata": {},
   "source": [
    "#### As an \"alias\"\n",
    "As selections are keyed by conditions, they can become hard to read.  We can use an \"alias\" to abstract any selections."
   ]
  },
  {
   "cell_type": "code",
   "execution_count": null,
   "metadata": {},
   "outputs": [],
   "source": [
    "df.select((df[\"pos_score\"] + df[\"neg_score\"]).alias(\"total_score\")).show(15)"
   ]
  },
  {
   "cell_type": "markdown",
   "metadata": {},
   "source": [
    "#### Creating new features / variables / columns"
   ]
  },
  {
   "cell_type": "code",
   "execution_count": 77,
   "metadata": {},
   "outputs": [
    {
     "name": "stdout",
     "output_type": "stream",
     "text": [
      "+---+-----------+---------+---------+----------+\n",
      "|pos|       word|pos_score|neg_score|new_column|\n",
      "+---+-----------+---------+---------+----------+\n",
      "|adj|.22-caliber|      0.0|      0.0|       0.0|\n",
      "|adj|.22-calibre|      0.0|      0.0|       0.0|\n",
      "|adj|.22_caliber|      0.0|      0.0|       0.0|\n",
      "|adj|.22_calibre|      0.0|      0.0|       0.0|\n",
      "|adj|.38-caliber|      0.0|      0.0|       0.0|\n",
      "|adj|.38-calibre|      0.0|      0.0|       0.0|\n",
      "|adj|.38_caliber|      0.0|      0.0|       0.0|\n",
      "|adj|.38_calibre|      0.0|      0.0|       0.0|\n",
      "|adj|.45-caliber|      0.0|      0.0|       0.0|\n",
      "|adj|.45-calibre|      0.0|      0.0|       0.0|\n",
      "|adj|.45_caliber|      0.0|      0.0|       0.0|\n",
      "|adj|.45_calibre|      0.0|      0.0|       0.0|\n",
      "|adj|          0|      0.0|      0.5|       0.5|\n",
      "|adj|          1|      0.0|     0.25|      0.25|\n",
      "|adj|         10|      0.0|      0.0|       0.0|\n",
      "+---+-----------+---------+---------+----------+\n",
      "only showing top 15 rows\n",
      "\n"
     ]
    }
   ],
   "source": [
    "df.select(df['pos_score'] + df['neg_score'])\n",
    "df.withColumn(\"new_column\", df['pos_score'] + df['neg_score']).show(15)"
   ]
  },
  {
   "cell_type": "markdown",
   "metadata": {},
   "source": [
    "### <i class=\"fa fa-question-circle\"></i> Have we changed the original DataFrame?"
   ]
  },
  {
   "cell_type": "markdown",
   "metadata": {},
   "source": [
    "#### Filtering Data\n",
    "In Pandas we use \"masks\" through dataframe object brackets in order to filter data.\n",
    ">`df[df['feature'] > 0]`\n",
    "\n",
    "In Spark, we use the `filter()` method to select different aspects of our data."
   ]
  },
  {
   "cell_type": "code",
   "execution_count": null,
   "metadata": {},
   "outputs": [],
   "source": [
    "df.filter(df[\"pos_score\"] > .5).show(5)"
   ]
  },
  {
   "cell_type": "markdown",
   "metadata": {},
   "source": [
    "#### Multiple conditions\n",
    "SAME AS PANDAS!  Thankfully, we don't have to leave our comfort zone with too many oddities here."
   ]
  },
  {
   "cell_type": "code",
   "execution_count": null,
   "metadata": {},
   "outputs": [],
   "source": [
    "df.filter((df[\"pos_score\"] > .5) & (df[\"neg_score\"] > 0)).show(5)"
   ]
  },
  {
   "cell_type": "code",
   "execution_count": null,
   "metadata": {},
   "outputs": [],
   "source": [
    "df \\\n",
    "    .filter(df[\"pos_score\"] > .5) \\\n",
    "    .filter(df[\"neg_score\"] > 0).show(5)  # Filters can be chained per line using the \\ newline escape sequence character"
   ]
  },
  {
   "cell_type": "markdown",
   "metadata": {},
   "source": [
    "#### Filter as an expression\n",
    "Pandas has a similar function called \"where\".  However, with Spark `filter`, we can filter by shorthand expressions when referencing column sequences."
   ]
  },
  {
   "cell_type": "code",
   "execution_count": 78,
   "metadata": {},
   "outputs": [
    {
     "name": "stdout",
     "output_type": "stream",
     "text": [
      "+---+-------------+--------------+---------------+\n",
      "|pos|         word|     pos_score|      neg_score|\n",
      "+---+-------------+--------------+---------------+\n",
      "|adj|    adjustive|         0.625|          0.125|\n",
      "|adj|adventuresome|         0.625|           0.25|\n",
      "|adj|  adventurous|         0.625|           0.25|\n",
      "|adj|  affirmative|0.583333333333|0.0416666666667|\n",
      "|adj|all-important|          0.75|          0.125|\n",
      "+---+-------------+--------------+---------------+\n",
      "only showing top 5 rows\n",
      "\n"
     ]
    }
   ],
   "source": [
    "df.filter(\"pos_score > .5 AND neg_score > 0\").show(5)"
   ]
  },
  {
   "cell_type": "code",
   "execution_count": 79,
   "metadata": {},
   "outputs": [
    {
     "name": "stdout",
     "output_type": "stream",
     "text": [
      "+---+-------------+--------------+---------------+\n",
      "|pos|         word|     pos_score|      neg_score|\n",
      "+---+-------------+--------------+---------------+\n",
      "|adj|    adjustive|         0.625|          0.125|\n",
      "|adj|adventuresome|         0.625|           0.25|\n",
      "|adj|  adventurous|         0.625|           0.25|\n",
      "|adj|  affirmative|0.583333333333|0.0416666666667|\n",
      "|adj|all-important|          0.75|          0.125|\n",
      "+---+-------------+--------------+---------------+\n",
      "only showing top 5 rows\n",
      "\n"
     ]
    }
   ],
   "source": [
    "condition = \"\"\"\n",
    "pos_score > .5 AND \n",
    "neg_score > 0 \n",
    "\"\"\"\n",
    "\n",
    "df.filter(condition).show(5)"
   ]
  },
  {
   "cell_type": "markdown",
   "metadata": {},
   "source": [
    "#### Sorting"
   ]
  },
  {
   "cell_type": "code",
   "execution_count": null,
   "metadata": {},
   "outputs": [],
   "source": [
    "df.sort(df.neg_score.desc()).show(5)"
   ]
  },
  {
   "cell_type": "code",
   "execution_count": null,
   "metadata": {},
   "outputs": [],
   "source": [
    "df.sort(df.pos_score.desc()).show(5)"
   ]
  },
  {
   "cell_type": "code",
   "execution_count": null,
   "metadata": {},
   "outputs": [],
   "source": [
    "df.filter(\"pos_score > .5 AND pos_score < 1.0 AND neg_score > 0\") \\\n",
    "    .sort(df.pos_score.desc(), df.neg_score.desc()) \\\n",
    "    .show(5)"
   ]
  },
  {
   "cell_type": "code",
   "execution_count": null,
   "metadata": {},
   "outputs": [],
   "source": [
    "df.filter(\"pos_score > .5 AND pos_score < 1.0 AND neg_score > 0\") \\\n",
    "    .sort(df.pos_score.asc(), df.neg_score.desc()) \\\n",
    "    .show(5)"
   ]
  },
  {
   "cell_type": "markdown",
   "metadata": {},
   "source": [
    "#### Creating a histogram from a column\n",
    "\n",
    "We select a single column, transform it into an RDD, flatten it, and can then apply the RDD histogram function which returns arrays with bin-boundaries and counts."
   ]
  },
  {
   "cell_type": "code",
   "execution_count": 82,
   "metadata": {},
   "outputs": [
    {
     "data": {
      "text/plain": [
       "([0.0,\n",
       "  0.1,\n",
       "  0.2,\n",
       "  0.30000000000000004,\n",
       "  0.4,\n",
       "  0.5,\n",
       "  0.6000000000000001,\n",
       "  0.7000000000000001,\n",
       "  0.8,\n",
       "  0.9,\n",
       "  1.0],\n",
       " [131707, 8151, 5241, 3510, 418, 2831, 2029, 1109, 280, 11])"
      ]
     },
     "execution_count": 82,
     "metadata": {},
     "output_type": "execute_result"
    }
   ],
   "source": [
    "a = df.select('neg_score').rdd.flatMap(lambda x: x)\n",
    "histogram = a.histogram(10)\n",
    "histogram"
   ]
  },
  {
   "cell_type": "code",
   "execution_count": 38,
   "metadata": {},
   "outputs": [],
   "source": [
    "import numpy as np\n",
    "import matplotlib.pyplot as plt\n",
    "import seaborn as sns\n",
    "sns.set(font_scale=1.5)\n",
    "%config InlineBackend.figure_format = 'retina'\n",
    "%matplotlib inline"
   ]
  },
  {
   "cell_type": "code",
   "execution_count": 39,
   "metadata": {},
   "outputs": [
    {
     "data": {
      "image/png": "[encoded data removed]",
      "text/plain": [
       "<Figure size 432x288 with 1 Axes>"
      ]
     },
     "metadata": {
      "image/png": {
       "height": 259,
       "width": 387
      },
      "needs_background": "light"
     },
     "output_type": "display_data"
    }
   ],
   "source": [
    "fig, ax = plt.subplots()\n",
    "ax.bar(histogram[0][:-1], histogram[1], width=np.diff(histogram[0]), ec=\"k\", align=\"edge\")\n",
    "ax.set_yscale('log')\n",
    "plt.show()"
   ]
  },
  {
   "cell_type": "markdown",
   "metadata": {},
   "source": [
    "### AS SQL!?\n",
    "\n",
    "\n",
    "Working with DataFrames and SQL is as easy as creating a **temporary view**. In this way you define the table name to refer to in SQL-queries."
   ]
  },
  {
   "cell_type": "code",
   "execution_count": 102,
   "metadata": {},
   "outputs": [],
   "source": [
    "df.createOrReplaceTempView(\"sentiment\")"
   ]
  },
  {
   "cell_type": "code",
   "execution_count": 103,
   "metadata": {},
   "outputs": [
    {
     "name": "stdout",
     "output_type": "stream",
     "text": [
      "+-------------+--------------------+-----------+-----+---+------+-------+-------------+--------------+-----+\n",
      "|PokedexNumber|                Name|       Type|Total| HP|Attack|Defense|SpecialAttack|SpecialDefense|Speed|\n",
      "+-------------+--------------------+-----------+-----+---+------+-------+-------------+--------------+-----+\n",
      "|            1|           Bulbasaur|GrassPoison|  318| 45|    49|     49|           65|            65|   45|\n",
      "|            2|             Ivysaur|GrassPoison|  405| 60|    62|     63|           80|            80|   60|\n",
      "|            3|            Venusaur|GrassPoison|  525| 80|    82|     83|          100|           100|   80|\n",
      "|            3|VenusaurMega Venu...|GrassPoison|  625| 80|   100|    123|          122|           120|   80|\n",
      "|            4|          Charmander|       Fire|  309| 39|    52|     43|           60|            50|   65|\n",
      "+-------------+--------------------+-----------+-----+---+------+-------+-------------+--------------+-----+\n",
      "only showing top 5 rows\n",
      "\n"
     ]
    }
   ],
   "source": [
    "sentiment = spark.sql(\"SELECT * FROM sentiment LIMIT 100\")\n",
    "sentiment.show(5)"
   ]
  },
  {
   "cell_type": "code",
   "execution_count": 86,
   "metadata": {},
   "outputs": [
    {
     "data": {
      "text/plain": [
       "(100,)"
      ]
     },
     "execution_count": 86,
     "metadata": {},
     "output_type": "execute_result"
    }
   ],
   "source": [
    "sentiment.toPandas()['neg_score'].shape"
   ]
  },
  {
   "cell_type": "markdown",
   "metadata": {},
   "source": [
    "### Temporary Views select DataFrames\n",
    "So the same transformations can be applied to DataFrames as we just learned."
   ]
  },
  {
   "cell_type": "code",
   "execution_count": 43,
   "metadata": {},
   "outputs": [
    {
     "name": "stdout",
     "output_type": "stream",
     "text": [
      "+-------+----+------------------+---------+-------------------+\n",
      "|summary| pos|              word|pos_score|          neg_score|\n",
      "+-------+----+------------------+---------+-------------------+\n",
      "|  count| 100|               100|      100|                100|\n",
      "|   mean|null|  96.9090909090909|      0.0|            0.02625|\n",
      "| stddev|null|154.37463012769066|      0.0|0.09282158132458183|\n",
      "|    min| adj|       .22-caliber|      0.0|                0.0|\n",
      "|    max| adj|              29th|      0.0|              0.625|\n",
      "+-------+----+------------------+---------+-------------------+\n",
      "\n"
     ]
    }
   ],
   "source": [
    "sentiment.describe().show()"
   ]
  },
  {
   "cell_type": "markdown",
   "metadata": {},
   "source": [
    "## Check out another dataset using Spark DataFrames"
   ]
  },
  {
   "cell_type": "markdown",
   "metadata": {},
   "source": [
    "#### 1. Load up the \"Pokemon\" basic Pokedex dataset\n",
    "First try without inferring the schema and without the header."
   ]
  },
  {
   "cell_type": "code",
   "execution_count": 87,
   "metadata": {},
   "outputs": [],
   "source": [
    "#\n",
    "sqlContext = ps.SQLContext(sc)"
   ]
  },
  {
   "cell_type": "code",
   "execution_count": 94,
   "metadata": {},
   "outputs": [],
   "source": [
    "df = sqlContext.read.csv(\n",
    "    path=\"./data/pokedex_basic.csv\",\n",
    "    header=True,\n",
    "    # Poorly formed rows in CSV are dropped rather than erroring entire operation\n",
    "    mode=\"DROPMALFORMED\",\n",
    "    # Not always perfect but works well in most cases as of 2.1+\n",
    "    inferSchema=True\n",
    ")"
   ]
  },
  {
   "cell_type": "code",
   "execution_count": 46,
   "metadata": {},
   "outputs": [
    {
     "name": "stdout",
     "output_type": "stream",
     "text": [
      "+-------+-------------+-----+-----+-----+-----+------+-------+-------------+--------------+-----+\n",
      "|summary|PokedexNumber| Name| Type|Total|   HP|Attack|Defense|SpecialAttack|SpecialDefense|Speed|\n",
      "+-------+-------------+-----+-----+-----+-----+------+-------+-------------+--------------+-----+\n",
      "|  count|          800|  800|  800|  800|  800|   800|    800|          800|           800|  800|\n",
      "|   mean|        36...| null| null|43...|69...| 79...|  73...|        72.82|         71...|68...|\n",
      "|  st...|        20...| null| null|11...|25...| 32...|  31...|        32...|         27...|29...|\n",
      "|    min|            1|Ab...|  Bug|  180|    1|     5|      5|           10|            20|    5|\n",
      "|    max|          721|Zy...|Wa...|  780|  255|   190|    230|          194|           230|  180|\n",
      "+-------+-------------+-----+-----+-----+-----+------+-------+-------------+--------------+-----+\n",
      "\n"
     ]
    }
   ],
   "source": [
    "df.describe().show(truncate=5)"
   ]
  },
  {
   "cell_type": "markdown",
   "metadata": {},
   "source": [
    "#### 2. Check out the dataset with infer schema parameter but without header.\n",
    "How does it work with / without?"
   ]
  },
  {
   "cell_type": "code",
   "execution_count": 96,
   "metadata": {},
   "outputs": [
    {
     "name": "stdout",
     "output_type": "stream",
     "text": [
      "root\n",
      " |-- PokedexNumber: integer (nullable = true)\n",
      " |-- Name: string (nullable = true)\n",
      " |-- Type: string (nullable = true)\n",
      " |-- Total: integer (nullable = true)\n",
      " |-- HP: integer (nullable = true)\n",
      " |-- Attack: integer (nullable = true)\n",
      " |-- Defense: integer (nullable = true)\n",
      " |-- SpecialAttack: integer (nullable = true)\n",
      " |-- SpecialDefense: integer (nullable = true)\n",
      " |-- Speed: integer (nullable = true)\n",
      "\n"
     ]
    }
   ],
   "source": [
    "#\n",
    "df.printSchema()"
   ]
  },
  {
   "cell_type": "code",
   "execution_count": 98,
   "metadata": {},
   "outputs": [
    {
     "data": {
      "text/plain": [
       "StructType(List(StructField(PokedexNumber,IntegerType,true),StructField(Name,StringType,true),StructField(Type,StringType,true),StructField(Total,IntegerType,true),StructField(HP,IntegerType,true),StructField(Attack,IntegerType,true),StructField(Defense,IntegerType,true),StructField(SpecialAttack,IntegerType,true),StructField(SpecialDefense,IntegerType,true),StructField(Speed,IntegerType,true)))"
      ]
     },
     "execution_count": 98,
     "metadata": {},
     "output_type": "execute_result"
    }
   ],
   "source": [
    "df.schema"
   ]
  },
  {
   "cell_type": "markdown",
   "metadata": {},
   "source": [
    "#### 3.  Create a tempory view with the Pokedex DataFrame called \"pokemon\"\n",
    "Then \n",
    "```sql SELECT * FROM pokemon LIMIT 10```"
   ]
  },
  {
   "cell_type": "code",
   "execution_count": 99,
   "metadata": {},
   "outputs": [
    {
     "name": "stdout",
     "output_type": "stream",
     "text": [
      "+-------------+--------------------+-----------+-----+---+------+-------+-------------+--------------+-----+\n",
      "|PokedexNumber|                Name|       Type|Total| HP|Attack|Defense|SpecialAttack|SpecialDefense|Speed|\n",
      "+-------------+--------------------+-----------+-----+---+------+-------+-------------+--------------+-----+\n",
      "|            1|           Bulbasaur|GrassPoison|  318| 45|    49|     49|           65|            65|   45|\n",
      "|            2|             Ivysaur|GrassPoison|  405| 60|    62|     63|           80|            80|   60|\n",
      "|            3|            Venusaur|GrassPoison|  525| 80|    82|     83|          100|           100|   80|\n",
      "|            3|VenusaurMega Venu...|GrassPoison|  625| 80|   100|    123|          122|           120|   80|\n",
      "|            4|          Charmander|       Fire|  309| 39|    52|     43|           60|            50|   65|\n",
      "|            5|          Charmeleon|       Fire|  405| 58|    64|     58|           80|            65|   80|\n",
      "|            6|           Charizard| FireFlying|  534| 78|    84|     78|          109|            85|  100|\n",
      "|            6|CharizardMega Cha...| FireDragon|  634| 78|   130|    111|          130|            85|  100|\n",
      "|            6|CharizardMega Cha...| FireFlying|  634| 78|   104|     78|          159|           115|  100|\n",
      "|            7|            Squirtle|      Water|  314| 44|    48|     65|           50|            64|   43|\n",
      "+-------------+--------------------+-----------+-----+---+------+-------+-------------+--------------+-----+\n",
      "\n"
     ]
    }
   ],
   "source": [
    "#\n",
    "df.createOrReplaceTempView(\"pokemon\")\n",
    "sqlContext.sql(\"SELECT * FROM pokemon LIMIT 10\").show()"
   ]
  },
  {
   "cell_type": "markdown",
   "metadata": {},
   "source": [
    "#### 4.a Which is the strongest Pokemon by `Type`?\n",
    "Using Spark DataFrame operations.  Research Spark's \"groupBy\" functions."
   ]
  },
  {
   "cell_type": "code",
   "execution_count": 100,
   "metadata": {
    "scrolled": true
   },
   "outputs": [
    {
     "name": "stdout",
     "output_type": "stream",
     "text": [
      "+---------------+-----------+\n",
      "|           Type|max(attack)|\n",
      "+---------------+-----------+\n",
      "|PsychicFighting|        190|\n",
      "|    BugFighting|        185|\n",
      "|        Psychic|        180|\n",
      "|   DragonFlying|        180|\n",
      "|     GroundFire|        180|\n",
      "+---------------+-----------+\n",
      "only showing top 5 rows\n",
      "\n"
     ]
    }
   ],
   "source": [
    "count_df = df.select('Type', 'attack').groupBy(\n",
    "    'Type').max().sort('max(attack)', ascending=False)\n",
    "count_df.show(5)"
   ]
  },
  {
   "cell_type": "code",
   "execution_count": 51,
   "metadata": {},
   "outputs": [
    {
     "data": {
      "text/plain": [
       "154"
      ]
     },
     "execution_count": 51,
     "metadata": {},
     "output_type": "execute_result"
    }
   ],
   "source": [
    "count_df.count()"
   ]
  },
  {
   "cell_type": "code",
   "execution_count": 52,
   "metadata": {},
   "outputs": [],
   "source": [
    "count_df = count_df.withColumn('attack', count_df['max(attack)'])"
   ]
  },
  {
   "cell_type": "code",
   "execution_count": 53,
   "metadata": {},
   "outputs": [
    {
     "name": "stdout",
     "output_type": "stream",
     "text": [
      "+--------------------+---------------+------+\n",
      "|                Name|           Type|attack|\n",
      "+--------------------+---------------+------+\n",
      "| MewtwoMega Mewtwo X|PsychicFighting|   190|\n",
      "|HeracrossMega Her...|    BugFighting|   185|\n",
      "|GroudonPrimal Gro...|     GroundFire|   180|\n",
      "|RayquazaMega Rayq...|   DragonFlying|   180|\n",
      "|  DeoxysAttack Forme|        Psychic|   180|\n",
      "|  KyuremBlack Kyurem|      DragonIce|   170|\n",
      "|GarchompMega Garc...|   DragonGround|   170|\n",
      "| BanetteMega Banette|          Ghost|   165|\n",
      "|           Rampardos|           Rock|   165|\n",
      "|TyranitarMega Tyr...|       RockDark|   164|\n",
      "|             Slaking|         Normal|   160|\n",
      "|           Regigigas|         Normal|   160|\n",
      "| DiancieMega Diancie|      RockFairy|   160|\n",
      "|  HoopaHoopa Unbound|    PsychicDark|   160|\n",
      "|BlazikenMega Blaz...|   FireFighting|   160|\n",
      "|   PinsirMega Pinsir|      BugFlying|   155|\n",
      "|GyaradosMega Gyar...|      WaterDark|   155|\n",
      "|SwampertMega Swam...|    WaterGround|   150|\n",
      "|   ScizorMega Scizor|       BugSteel|   150|\n",
      "|BeedrillMega Beed...|      BugPoison|   150|\n",
      "+--------------------+---------------+------+\n",
      "only showing top 20 rows\n",
      "\n"
     ]
    }
   ],
   "source": [
    "count_df.join(df, on=['Type', 'attack']).select(\n",
    "    'Name', 'Type', 'attack').sort('attack', ascending=False).show(20)"
   ]
  },
  {
   "cell_type": "markdown",
   "metadata": {},
   "source": [
    "#### 4.b Which is the strongest Pokemon by Type?\n",
    "Using the Spark SQL temporary view."
   ]
  },
  {
   "cell_type": "code",
   "execution_count": 54,
   "metadata": {},
   "outputs": [
    {
     "name": "stdout",
     "output_type": "stream",
     "text": [
      "+--------------------+---------------+--------+\n",
      "|                Name|           Type|TotalMax|\n",
      "+--------------------+---------------+--------+\n",
      "| MewtwoMega Mewtwo X|PsychicFighting|     190|\n",
      "|HeracrossMega Her...|    BugFighting|     185|\n",
      "|GroudonPrimal Gro...|     GroundFire|     180|\n",
      "|  DeoxysAttack Forme|        Psychic|     180|\n",
      "|RayquazaMega Rayq...|   DragonFlying|     180|\n",
      "|GarchompMega Garc...|   DragonGround|     170|\n",
      "|  KyuremBlack Kyurem|      DragonIce|     170|\n",
      "|           Rampardos|           Rock|     165|\n",
      "| BanetteMega Banette|          Ghost|     165|\n",
      "|TyranitarMega Tyr...|       RockDark|     164|\n",
      "+--------------------+---------------+--------+\n",
      "\n"
     ]
    }
   ],
   "source": [
    "#\n",
    "sql = \"\"\"\n",
    "SELECT p.Name, tbl.Type, tbl.TotalMax\n",
    "FROM (\n",
    "    SELECT Type, MAX(attack) AS TotalMax\n",
    "    FROM pokemon\n",
    "    GROUP BY Type\n",
    ") AS tbl \n",
    "LEFT OUTER JOIN pokemon p \n",
    "ON tbl.Type = p.Type AND tbl.TotalMax = p.attack\n",
    "ORDER BY TotalMax DESC\n",
    "LIMIT 10\n",
    "\"\"\"\n",
    "strongest_pokemon = sqlContext.sql(sql)\n",
    "strongest_pokemon.show()"
   ]
  },
  {
   "cell_type": "markdown",
   "metadata": {},
   "source": [
    "#### 5.a Which Pokemon has the best combined Attack and Defence?\n",
    "Using Spark DataFrame operations."
   ]
  },
  {
   "cell_type": "code",
   "execution_count": 104,
   "metadata": {},
   "outputs": [
    {
     "name": "stdout",
     "output_type": "stream",
     "text": [
      "+-------------+--------------------+-----------+-----+---+------+-------+-------------+--------------+-----+---------+\n",
      "|PokedexNumber|                Name|       Type|Total| HP|Attack|Defense|SpecialAttack|SpecialDefense|Speed|Poketotal|\n",
      "+-------------+--------------------+-----------+-----+---+------+-------+-------------+--------------+-----+---------+\n",
      "|          306|   AggronMega Aggron|      Steel|  630| 70|   140|    230|           60|            80|   50|      370|\n",
      "|          208| SteelixMega Steelix|SteelGround|  610| 75|   125|    230|           55|            95|   30|      355|\n",
      "|          383|GroudonPrimal Gro...| GroundFire|  770|100|   180|    160|          150|            90|   90|      340|\n",
      "|          248|TyranitarMega Tyr...|   RockDark|  700|100|   164|    150|           95|           120|   71|      314|\n",
      "|          713|             Avalugg|        Ice|  514| 95|   117|    184|           44|            46|   28|      301|\n",
      "+-------------+--------------------+-----------+-----+---+------+-------+-------------+--------------+-----+---------+\n",
      "only showing top 5 rows\n",
      "\n"
     ]
    }
   ],
   "source": [
    "#\n",
    "df.withColumn(\"Poketotal\", df[\"Attack\"] + df[\"Defense\"]).sort(\"Poketotal\", ascending=0).show(5)"
   ]
  },
  {
   "cell_type": "markdown",
   "metadata": {},
   "source": [
    "#### 5.b Which Pokemon has the best combined Attack and Defence?\n",
    "Using the Spark SQL temporary view."
   ]
  },
  {
   "cell_type": "code",
   "execution_count": 56,
   "metadata": {
    "scrolled": false
   },
   "outputs": [
    {
     "name": "stdout",
     "output_type": "stream",
     "text": [
      "+-------------+--------------------+---------------+-----+---+------+-------+-------------+--------------+-----+---------+\n",
      "|PokedexNumber|                Name|           Type|Total| HP|Attack|Defense|SpecialAttack|SpecialDefense|Speed|Poketotal|\n",
      "+-------------+--------------------+---------------+-----+---+------+-------+-------------+--------------+-----+---------+\n",
      "|          306|   AggronMega Aggron|          Steel|  630| 70|   140|    230|           60|            80|   50|      370|\n",
      "|          208| SteelixMega Steelix|    SteelGround|  610| 75|   125|    230|           55|            95|   30|      355|\n",
      "|          383|GroudonPrimal Gro...|     GroundFire|  770|100|   180|    160|          150|            90|   90|      340|\n",
      "|          248|TyranitarMega Tyr...|       RockDark|  700|100|   164|    150|           95|           120|   71|      314|\n",
      "|          713|             Avalugg|            Ice|  514| 95|   117|    184|           44|            46|   28|      301|\n",
      "|          377|            Regirock|           Rock|  580| 80|   100|    200|           50|           100|   50|      300|\n",
      "|          214|HeracrossMega Her...|    BugFighting|  600| 80|   185|    115|           40|           105|   75|      300|\n",
      "|          376|MetagrossMega Met...|   SteelPsychic|  700| 80|   145|    150|          105|           110|  110|      295|\n",
      "|          212|   ScizorMega Scizor|       BugSteel|  600| 70|   150|    140|           65|           100|   75|      290|\n",
      "|          150| MewtwoMega Mewtwo X|PsychicFighting|  780|106|   190|    100|          154|           100|  130|      290|\n",
      "+-------------+--------------------+---------------+-----+---+------+-------+-------------+--------------+-----+---------+\n",
      "\n"
     ]
    }
   ],
   "source": [
    "#\n",
    "sql = \"\"\"\n",
    "SELECT p.*, p.Attack + p.Defense AS Poketotal\n",
    "FROM pokemon p\n",
    "ORDER BY Poketotal DESC\n",
    "LIMIT 10\n",
    "\"\"\"\n",
    "sqlContext.sql(sql).show(15)"
   ]
  },
  {
   "cell_type": "markdown",
   "metadata": {},
   "source": [
    "#### 6. Create a new feature called \"Pokevalue\" that is the combined Attack, Defense and scaled by .2 of the Pokemon HP."
   ]
  },
  {
   "cell_type": "code",
   "execution_count": 57,
   "metadata": {},
   "outputs": [
    {
     "name": "stdout",
     "output_type": "stream",
     "text": [
      "+-------------+---------------+---------------+-----+---+------+-------+-------------+--------------+-----+---------+\n",
      "|PokedexNumber|           Name|           Type|Total| HP|Attack|Defense|SpecialAttack|SpecialDefense|Speed|Pokevalue|\n",
      "+-------------+---------------+---------------+-----+---+------+-------+-------------+--------------+-----+---------+\n",
      "|          289|        Slaking|         Normal|  670|150|   160|    100|           95|            65|  100|   7800.0|\n",
      "|          383|GroudonPrima...|     GroundFire|  770|100|   180|    160|          150|            90|   90|   6800.0|\n",
      "|          646|KyuremBlack ...|      DragonIce|  700|125|   170|    100|          120|            90|   95|   6750.0|\n",
      "|          487|GiratinaAlte...|    GhostDragon|  680|150|   100|    120|          100|           120|   90|   6600.0|\n",
      "|          487|GiratinaOrig...|    GhostDragon|  680|150|   120|    100|          120|           100|   90|   6600.0|\n",
      "|          248|TyranitarMeg...|       RockDark|  700|100|   164|    150|           95|           120|   71|   6280.0|\n",
      "|          464|      Rhyperior|     GroundRock|  535|115|   140|    130|           55|            55|   40|   6210.0|\n",
      "|          445|GarchompMega...|   DragonGround|  700|108|   170|    115|          120|            95|   92|   6156.0|\n",
      "|          150|MewtwoMega M...|PsychicFighting|  780|106|   190|    100|          154|           100|  130|   6148.0|\n",
      "|          486|      Regigigas|         Normal|  670|110|   160|    110|           80|           110|  100|   5940.0|\n",
      "+-------------+---------------+---------------+-----+---+------+-------+-------------+--------------+-----+---------+\n",
      "\n"
     ]
    }
   ],
   "source": [
    "#\n",
    "sql = \"\"\"\n",
    "SELECT p.*, (p.Attack + p.Defense) * (p.HP * .2) AS Pokevalue\n",
    "FROM pokemon p\n",
    "ORDER BY Pokevalue DESC\n",
    "LIMIT 10\n",
    "\"\"\"\n",
    "sqlContext.sql(sql).show(truncate=15)"
   ]
  },
  {
   "cell_type": "code",
   "execution_count": null,
   "metadata": {},
   "outputs": [],
   "source": []
  }
 ],
 "metadata": {
  "anaconda-cloud": {},
  "kernelspec": {
   "display_name": "pyspark_env",
   "language": "python",
   "name": "pyspark_env"
  },
  "language_info": {
   "codemirror_mode": {
    "name": "ipython",
    "version": 3
   },
   "file_extension": ".py",
   "mimetype": "text/x-python",
   "name": "python",
   "nbconvert_exporter": "python",
   "pygments_lexer": "ipython3",
   "version": "3.7.4"
  },
  "toc": {
   "base_numbering": 1,
   "nav_menu": {},
   "number_sections": false,
   "sideBar": true,
   "skip_h1_title": true,
   "title_cell": "Lesson Guide",
   "title_sidebar": "Contents",
   "toc_cell": true,
   "toc_position": {},
   "toc_section_display": true,
   "toc_window_display": false
  },
  "varInspector": {
   "cols": {
    "lenName": 16,
    "lenType": 16,
    "lenVar": 40
   },
   "kernels_config": {
    "python": {
     "delete_cmd_postfix": "",
     "delete_cmd_prefix": "del ",
     "library": "var_list.py",
     "varRefreshCmd": "print(var_dic_list())"
    },
    "r": {
     "delete_cmd_postfix": ") ",
     "delete_cmd_prefix": "rm(",
     "library": "var_list.r",
     "varRefreshCmd": "cat(var_dic_list()) "
    }
   },
   "position": {
    "height": "579px",
    "left": "561.111px",
    "right": "20px",
    "top": "120px",
    "width": "337px"
   },
   "types_to_exclude": [
    "module",
    "function",
    "builtin_function_or_method",
    "instance",
    "_Feature"
   ],
   "window_display": false
  }
 },
 "nbformat": 4,
 "nbformat_minor": 1
}
