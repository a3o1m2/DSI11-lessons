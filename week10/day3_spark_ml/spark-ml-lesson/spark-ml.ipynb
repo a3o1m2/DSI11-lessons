{
 "cells": [
  {
   "cell_type": "markdown",
   "metadata": {},
   "source": [
    "<img src=\"http://imgur.com/1ZcRyrc.png\" style=\"float: left; margin: 20px; height: 55px\"> \n",
    "# Spark MLlib Lesson\n",
    "---"
   ]
  },
  {
   "cell_type": "markdown",
   "metadata": {},
   "source": [
    "## Learning Objectives\n",
    "\n",
    "- Understand how features and labels have to be encoded in spark\n",
    "- Construct a model pipeline\n",
    "- Fit regression and classification models with spark"
   ]
  },
  {
   "cell_type": "markdown",
   "metadata": {
    "toc": true
   },
   "source": [
    "<h1>Lesson Guide<span class=\"tocSkip\"></span></h1>\n",
    "<div class=\"toc\"><ul class=\"toc-item\"><li><span><a href=\"#Learning-Objectives\" data-toc-modified-id=\"Learning-Objectives-1\">Learning Objectives</a></span></li><li><span><a href=\"#Creating-the-spark-context\" data-toc-modified-id=\"Creating-the-spark-context-2\">Creating the spark context</a></span></li><li><span><a href=\"#Regression-example\" data-toc-modified-id=\"Regression-example-3\">Regression example</a></span><ul class=\"toc-item\"><li><span><a href=\"#Load-the-data\" data-toc-modified-id=\"Load-the-data-3.1\">Load the data</a></span></li><li><span><a href=\"#Put-the-data-into-a-spark-dataframe\" data-toc-modified-id=\"Put-the-data-into-a-spark-dataframe-3.2\">Put the data into a spark dataframe</a></span></li><li><span><a href=\"#Create-feature-columns\" data-toc-modified-id=\"Create-feature-columns-3.3\">Create feature columns</a></span></li><li><span><a href=\"#Rescale-the-data\" data-toc-modified-id=\"Rescale-the-data-3.4\">Rescale the data</a></span></li><li><span><a href=\"#Fit-and-evaluate-a-linear-regression-model\" data-toc-modified-id=\"Fit-and-evaluate-a-linear-regression-model-3.5\">Fit and evaluate a linear regression model</a></span></li><li><span><a href=\"#Linear-regression-with-train-test-split-and-pipeline\" data-toc-modified-id=\"Linear-regression-with-train-test-split-and-pipeline-3.6\">Linear regression with train-test split and pipeline</a></span></li><li><span><a href=\"#Linear-regression-with-grid-search\" data-toc-modified-id=\"Linear-regression-with-grid-search-3.7\">Linear regression with grid search</a></span></li></ul></li><li><span><a href=\"#Classification\" data-toc-modified-id=\"Classification-4\">Classification</a></span><ul class=\"toc-item\"><li><span><a href=\"#Load-the-data\" data-toc-modified-id=\"Load-the-data-4.1\">Load the data</a></span></li><li><span><a href=\"#Create-the-spark-dataframe\" data-toc-modified-id=\"Create-the-spark-dataframe-4.2\">Create the spark dataframe</a></span></li><li><span><a href=\"#Create-feature-columns\" data-toc-modified-id=\"Create-feature-columns-4.3\">Create feature columns</a></span></li><li><span><a href=\"#Rescale-the-data\" data-toc-modified-id=\"Rescale-the-data-4.4\">Rescale the data</a></span></li><li><span><a href=\"#Fit-logistic-regression\" data-toc-modified-id=\"Fit-logistic-regression-4.5\">Fit logistic regression</a></span></li><li><span><a href=\"#Logistic-regression-with-grid-search\" data-toc-modified-id=\"Logistic-regression-with-grid-search-4.6\">Logistic regression with grid search</a></span></li><li><span><a href=\"#Decision-Tree-with-grid-search\" data-toc-modified-id=\"Decision-Tree-with-grid-search-4.7\">Decision Tree with grid search</a></span></li></ul></li></ul></div>"
   ]
  },
  {
   "cell_type": "code",
   "execution_count": 1,
   "metadata": {},
   "outputs": [],
   "source": [
    "import pandas as pd\n",
    "import numpy as np\n",
    "import matplotlib.pyplot as plt\n",
    "import seaborn as sns\n",
    "\n",
    "plt.style.use('ggplot')\n",
    "sns.set(font_scale=1.5)\n",
    "%config InlineBackend.figure_format = 'retina'\n",
    "%matplotlib inline"
   ]
  },
  {
   "cell_type": "markdown",
   "metadata": {},
   "source": [
    "## Creating the spark context"
   ]
  },
  {
   "cell_type": "code",
   "execution_count": 2,
   "metadata": {},
   "outputs": [],
   "source": [
    "import pyspark as ps\n",
    "from pyspark.sql import SQLContext\n",
    "\n",
    "from pyspark.ml import Pipeline\n",
    "from pyspark.ml.classification import LogisticRegression\n",
    "from pyspark.ml.feature import StandardScaler"
   ]
  },
  {
   "cell_type": "code",
   "execution_count": 3,
   "metadata": {},
   "outputs": [],
   "source": [
    "sc = ps.SparkContext('local[*]')\n",
    "sqlContext = SQLContext(sc)"
   ]
  },
  {
   "cell_type": "markdown",
   "metadata": {},
   "source": [
    "## Regression example"
   ]
  },
  {
   "cell_type": "markdown",
   "metadata": {},
   "source": [
    "### Load the data"
   ]
  },
  {
   "cell_type": "code",
   "execution_count": 4,
   "metadata": {},
   "outputs": [
    {
     "data": {
      "text/plain": [
       "Index(['CRIM', 'ZN', 'INDUS', 'CHAS', 'NOX', 'RM', 'AGE', 'DIS', 'RAD', 'TAX',\n",
       "       'PTRATIO', 'B', 'LSTAT', 'MEDV'],\n",
       "      dtype='object')"
      ]
     },
     "execution_count": 4,
     "metadata": {},
     "output_type": "execute_result"
    }
   ],
   "source": [
    "from sklearn.datasets import load_boston\n",
    "\n",
    "data = load_boston()\n",
    "df = pd.DataFrame(data.data, columns=data.feature_names)\n",
    "df['MEDV'] = data.target\n",
    "df.columns"
   ]
  },
  {
   "cell_type": "markdown",
   "metadata": {},
   "source": [
    "### Put the data into a spark dataframe"
   ]
  },
  {
   "cell_type": "code",
   "execution_count": 5,
   "metadata": {},
   "outputs": [],
   "source": [
    "spark_df = sqlContext.createDataFrame(df)"
   ]
  },
  {
   "cell_type": "code",
   "execution_count": 6,
   "metadata": {},
   "outputs": [
    {
     "data": {
      "text/plain": [
       "Row(CRIM=0.00632, ZN=18.0, INDUS=2.31, CHAS=0.0, NOX=0.538, RM=6.575, AGE=65.2, DIS=4.09, RAD=1.0, TAX=296.0, PTRATIO=15.3, B=396.9, LSTAT=4.98, MEDV=24.0)"
      ]
     },
     "execution_count": 6,
     "metadata": {},
     "output_type": "execute_result"
    }
   ],
   "source": [
    "spark_df.first()"
   ]
  },
  {
   "cell_type": "markdown",
   "metadata": {},
   "source": [
    "### Create feature columns"
   ]
  },
  {
   "cell_type": "code",
   "execution_count": 7,
   "metadata": {},
   "outputs": [],
   "source": [
    "from pyspark.ml.feature import StandardScaler, VectorAssembler"
   ]
  },
  {
   "cell_type": "code",
   "execution_count": 8,
   "metadata": {},
   "outputs": [
    {
     "data": {
      "text/plain": [
       "DataFrame[CRIM: double, ZN: double, INDUS: double, CHAS: double, NOX: double, RM: double, AGE: double, DIS: double, RAD: double, TAX: double, PTRATIO: double, B: double, LSTAT: double, MEDV: double, features: vector]"
      ]
     },
     "execution_count": 8,
     "metadata": {},
     "output_type": "execute_result"
    }
   ],
   "source": [
    "vectorAssembler = VectorAssembler(inputCols=data.feature_names,\n",
    "                                  outputCol=\"features\")\n",
    "\n",
    "vector_df = vectorAssembler.transform(spark_df)\n",
    "vector_df.persist()"
   ]
  },
  {
   "cell_type": "code",
   "execution_count": 9,
   "metadata": {},
   "outputs": [
    {
     "data": {
      "text/plain": [
       "Row(CRIM=0.00632, ZN=18.0, INDUS=2.31, CHAS=0.0, NOX=0.538, RM=6.575, AGE=65.2, DIS=4.09, RAD=1.0, TAX=296.0, PTRATIO=15.3, B=396.9, LSTAT=4.98, MEDV=24.0, features=DenseVector([0.0063, 18.0, 2.31, 0.0, 0.538, 6.575, 65.2, 4.09, 1.0, 296.0, 15.3, 396.9, 4.98]))"
      ]
     },
     "execution_count": 9,
     "metadata": {},
     "output_type": "execute_result"
    }
   ],
   "source": [
    "vector_df.first()"
   ]
  },
  {
   "cell_type": "code",
   "execution_count": 10,
   "metadata": {},
   "outputs": [
    {
     "name": "stdout",
     "output_type": "stream",
     "text": [
      "+--------------------+\n",
      "|            features|\n",
      "+--------------------+\n",
      "|[0.00632,18.0,2.3...|\n",
      "|[0.02731,0.0,7.07...|\n",
      "+--------------------+\n",
      "only showing top 2 rows\n",
      "\n"
     ]
    }
   ],
   "source": [
    "vector_df.select('features').show(2)"
   ]
  },
  {
   "cell_type": "markdown",
   "metadata": {},
   "source": [
    "### Rescale the data"
   ]
  },
  {
   "cell_type": "code",
   "execution_count": 11,
   "metadata": {},
   "outputs": [
    {
     "data": {
      "text/plain": [
       "Row(CRIM=0.00632, ZN=18.0, INDUS=2.31, CHAS=0.0, NOX=0.538, RM=6.575, AGE=65.2, DIS=4.09, RAD=1.0, TAX=296.0, PTRATIO=15.3, B=396.9, LSTAT=4.98, MEDV=24.0, features=DenseVector([0.0063, 18.0, 2.31, 0.0, 0.538, 6.575, 65.2, 4.09, 1.0, 296.0, 15.3, 396.9, 4.98]), scaledfeatures=DenseVector([-0.4194, 0.2845, -1.2866, -0.2723, -0.1441, 0.4133, -0.1199, 0.1401, -0.9819, -0.6659, -1.4576, 0.4406, -1.0745]))"
      ]
     },
     "execution_count": 11,
     "metadata": {},
     "output_type": "execute_result"
    }
   ],
   "source": [
    "scaler = StandardScaler(withMean=True,\n",
    "                        inputCol=\"features\",\n",
    "                        outputCol=\"scaledfeatures\")\n",
    "scalerModel = scaler.fit(vector_df)\n",
    "scaled_df = scalerModel.transform(vector_df)\n",
    "\n",
    "scaled_df.first()"
   ]
  },
  {
   "cell_type": "markdown",
   "metadata": {},
   "source": [
    "### Fit and evaluate a linear regression model"
   ]
  },
  {
   "cell_type": "code",
   "execution_count": 12,
   "metadata": {},
   "outputs": [],
   "source": [
    "from pyspark.ml.regression import LinearRegression"
   ]
  },
  {
   "cell_type": "code",
   "execution_count": 13,
   "metadata": {},
   "outputs": [
    {
     "name": "stdout",
     "output_type": "stream",
     "text": [
      "Coefficients: [-0.6062632627237937,0.5062345333551295,-0.45076347419998414,0.7222839154612091,-0.7197652622902537,2.655883036940676,-0.20223035959396854,-1.3041718596876453,0.42032700597617795,-0.5159561186446088,-1.5340017317179775,0.7302749733697339,-2.6704591109791393]\n",
      "Intercept: 22.532806324110666\n",
      "+-------------------+\n",
      "|          residuals|\n",
      "+-------------------+\n",
      "|-5.7151798743489906|\n",
      "| -3.501561127864761|\n",
      "| 4.7042766529601785|\n",
      "|  4.396390100783677|\n",
      "|  7.571708144725903|\n",
      "|  2.788887122370493|\n",
      "|-0.7843526158647549|\n",
      "|  5.770899773545327|\n",
      "| 1.4435189491054565|\n",
      "|-2.1532747901694904|\n",
      "| -6.344698272018949|\n",
      "| -3.937514368581951|\n",
      "|-0.5178168301829764|\n",
      "|-0.6189233518252912|\n",
      "|-2.4800906847445034|\n",
      "|-0.7630810593572335|\n",
      "| 1.2531615320005507|\n",
      "|  -1.32024601031749|\n",
      "|  2.457384759577973|\n",
      "|-1.3049574271814386|\n",
      "+-------------------+\n",
      "only showing top 20 rows\n",
      "\n",
      "RMSE: 4.984106058207139\n",
      "r2: 0.7057398269957282\n"
     ]
    }
   ],
   "source": [
    "model = LinearRegression(featuresCol=scaler.getOutputCol(),\n",
    "                         labelCol='MEDV',\n",
    "                         maxIter=3000,\n",
    "                         regParam=3.0,\n",
    "                         elasticNetParam=0.0)\n",
    "\n",
    "# Fit the model\n",
    "model_fit = model.fit(scaled_df)\n",
    "\n",
    "# Print the coefficients and intercept for linear regression\n",
    "print(\"Coefficients: {}\".format(model_fit.coefficients))\n",
    "print(\"Intercept: {}\".format(model_fit.intercept))\n",
    "\n",
    "# Summarize the model over the training set and print out some metrics\n",
    "summary_train = model_fit.summary\n",
    "summary_train.residuals.show()\n",
    "print(\"RMSE: {}\".format(summary_train.rootMeanSquaredError))\n",
    "print(\"r2: {}\" .format(summary_train.r2))"
   ]
  },
  {
   "cell_type": "markdown",
   "metadata": {},
   "source": [
    "### Linear regression with train-test split and pipeline"
   ]
  },
  {
   "cell_type": "code",
   "execution_count": 14,
   "metadata": {},
   "outputs": [],
   "source": [
    "(data_train, data_test) = vector_df.randomSplit([0.7, 0.3], seed=1)"
   ]
  },
  {
   "cell_type": "code",
   "execution_count": 15,
   "metadata": {},
   "outputs": [],
   "source": [
    "# Add the stages to the Pipeline\n",
    "pipeline = Pipeline(stages=[scaler, model])"
   ]
  },
  {
   "cell_type": "code",
   "execution_count": 16,
   "metadata": {},
   "outputs": [],
   "source": [
    "model_fit = pipeline.fit(data_train)"
   ]
  },
  {
   "cell_type": "code",
   "execution_count": 17,
   "metadata": {},
   "outputs": [
    {
     "name": "stdout",
     "output_type": "stream",
     "text": [
      "Coefficients: [-0.5943224384820917,0.4998150414555452,-0.29509806941784816,0.6562384914943207,-0.8804672381738274,2.832438031819585,-0.2817895606602363,-1.354099680732903,0.31038490868102,-0.5011005487663395,-1.6260098600146455,0.778200033503933,-2.4694597648550105]\n",
      "Intercept: 22.547058823529415\n",
      "+--------------------+\n",
      "|           residuals|\n",
      "+--------------------+\n",
      "|  -5.652697390338773|\n",
      "|   4.679806484281578|\n",
      "|0.020008090338379247|\n",
      "| 0.10006386770951536|\n",
      "|  -1.735820038103622|\n",
      "|   4.638616291710406|\n",
      "| -3.5464585745869606|\n",
      "|   1.347912323789064|\n",
      "| -1.6455215690228684|\n",
      "|  4.5663180775743015|\n",
      "|  2.8894638840916116|\n",
      "| -1.7696893559052462|\n",
      "| -5.6211817469841385|\n",
      "| -0.8720752283085353|\n",
      "| 0.16705888219081189|\n",
      "|  -4.262070333630383|\n",
      "|  -5.700318853843417|\n",
      "| -2.4659469448237985|\n",
      "| -3.9094212863913107|\n",
      "| -1.1482821632082576|\n",
      "+--------------------+\n",
      "only showing top 20 rows\n",
      "\n",
      "RMSE: 4.9538448168180205\n",
      "r2: 0.7122273921852267\n"
     ]
    }
   ],
   "source": [
    "# Print the coefficients and intercept for linear regression\n",
    "print(\"Coefficients: {}\".format(model_fit.stages[1].coefficients))\n",
    "print(\"Intercept: {}\".format(model_fit.stages[1].intercept))\n",
    "\n",
    "# Summarize the model over the training set and print out some metrics\n",
    "summary_train = model_fit.stages[1].summary\n",
    "summary_train.residuals.show()\n",
    "print(\"RMSE: {}\".format(summary_train.rootMeanSquaredError))\n",
    "print(\"r2: {}\".format(summary_train.r2))"
   ]
  },
  {
   "cell_type": "code",
   "execution_count": 18,
   "metadata": {},
   "outputs": [
    {
     "data": {
      "text/plain": [
       "[Row(MEDV=33.0, features=DenseVector([0.0195, 17.5, 1.38, 0.0, 0.4161, 7.104, 59.5, 9.2229, 3.0, 216.0, 18.6, 393.24, 8.05])),\n",
       " Row(MEDV=28.7, features=DenseVector([0.0298, 0.0, 2.18, 0.0, 0.458, 6.43, 58.7, 6.0622, 3.0, 222.0, 18.7, 394.12, 5.21])),\n",
       " Row(MEDV=22.0, features=DenseVector([0.0393, 0.0, 3.41, 0.0, 0.489, 6.405, 73.9, 3.0921, 2.0, 270.0, 17.8, 393.55, 8.2])),\n",
       " Row(MEDV=22.9, features=DenseVector([0.042, 28.0, 15.04, 0.0, 0.464, 6.442, 53.6, 3.6659, 4.0, 270.0, 18.2, 395.01, 8.16])),\n",
       " Row(MEDV=20.5, features=DenseVector([0.0434, 21.0, 5.64, 0.0, 0.439, 6.115, 63.0, 6.8147, 4.0, 243.0, 16.8, 393.97, 9.43]))]"
      ]
     },
     "execution_count": 18,
     "metadata": {},
     "output_type": "execute_result"
    }
   ],
   "source": [
    "data_test.select('MEDV', 'features').take(5)"
   ]
  },
  {
   "cell_type": "code",
   "execution_count": 19,
   "metadata": {},
   "outputs": [],
   "source": [
    "predictions = model_fit.transform(data_test)"
   ]
  },
  {
   "cell_type": "code",
   "execution_count": 20,
   "metadata": {},
   "outputs": [
    {
     "data": {
      "text/plain": [
       "['CRIM',\n",
       " 'ZN',\n",
       " 'INDUS',\n",
       " 'CHAS',\n",
       " 'NOX',\n",
       " 'RM',\n",
       " 'AGE',\n",
       " 'DIS',\n",
       " 'RAD',\n",
       " 'TAX',\n",
       " 'PTRATIO',\n",
       " 'B',\n",
       " 'LSTAT',\n",
       " 'MEDV',\n",
       " 'features',\n",
       " 'scaledfeatures',\n",
       " 'prediction']"
      ]
     },
     "execution_count": 20,
     "metadata": {},
     "output_type": "execute_result"
    }
   ],
   "source": [
    "predictions.columns"
   ]
  },
  {
   "cell_type": "code",
   "execution_count": 21,
   "metadata": {},
   "outputs": [
    {
     "name": "stdout",
     "output_type": "stream",
     "text": [
      "+----+------------------+--------------------+--------------------+\n",
      "|MEDV|        prediction|      scaledfeatures|            features|\n",
      "+----+------------------+--------------------+--------------------+\n",
      "|33.0|26.078118830897928|[-0.4345522980957...|[0.01951,17.5,1.3...|\n",
      "|28.7|25.671655566721004|[-0.4332489475014...|[0.02985,0.0,2.18...|\n",
      "|22.0| 26.60107132730394|[-0.4320552598681...|[0.03932,0.0,3.41...|\n",
      "|22.9| 26.64253197416731|[-0.4317136660470...|[0.04203,28.0,15....|\n",
      "|20.5|24.290626061321465|[-0.4315447598771...|[0.04337,21.0,5.6...|\n",
      "+----+------------------+--------------------+--------------------+\n",
      "only showing top 5 rows\n",
      "\n"
     ]
    }
   ],
   "source": [
    "# Select example rows to display.\n",
    "predictions.select(\"MEDV\", \"prediction\",  \"scaledfeatures\", 'features').show(5)"
   ]
  },
  {
   "cell_type": "code",
   "execution_count": 22,
   "metadata": {},
   "outputs": [],
   "source": [
    "from pyspark.ml.evaluation import RegressionEvaluator"
   ]
  },
  {
   "cell_type": "code",
   "execution_count": 23,
   "metadata": {},
   "outputs": [
    {
     "data": {
      "text/plain": [
       "0.6871192657191219"
      ]
     },
     "execution_count": 23,
     "metadata": {},
     "output_type": "execute_result"
    }
   ],
   "source": [
    "evaluator = RegressionEvaluator(predictionCol='prediction',\n",
    "                                labelCol='MEDV',\n",
    "                                metricName='r2')\n",
    "evaluator.evaluate(predictions)"
   ]
  },
  {
   "cell_type": "markdown",
   "metadata": {},
   "source": [
    "### Linear regression with grid search"
   ]
  },
  {
   "cell_type": "code",
   "execution_count": 24,
   "metadata": {},
   "outputs": [],
   "source": [
    "from pyspark.ml.tuning import CrossValidator, ParamGridBuilder"
   ]
  },
  {
   "cell_type": "code",
   "execution_count": 25,
   "metadata": {},
   "outputs": [
    {
     "data": {
      "text/plain": [
       "['aggregationDepth',\n",
       " 'solver',\n",
       " 'standardization',\n",
       " 'fitIntercept',\n",
       " 'elasticNetParam',\n",
       " 'predictionCol',\n",
       " 'labelCol',\n",
       " 'featuresCol',\n",
       " 'maxIter',\n",
       " 'regParam',\n",
       " 'tol',\n",
       " 'loss',\n",
       " 'epsilon']"
      ]
     },
     "execution_count": 25,
     "metadata": {},
     "output_type": "execute_result"
    }
   ],
   "source": [
    "[parameter.name for parameter in model._defaultParamMap]"
   ]
  },
  {
   "cell_type": "code",
   "execution_count": 26,
   "metadata": {},
   "outputs": [],
   "source": [
    "scaler = StandardScaler(withMean=True,\n",
    "                        inputCol=\"features\",\n",
    "                        outputCol=\"scaledfeatures\")\n",
    "model = LinearRegression(featuresCol=scaler.getOutputCol(),\n",
    "                         labelCol='MEDV',\n",
    "                         maxIter=3000,\n",
    "                         regParam=0.0,\n",
    "                         elasticNetParam=0.0)\n",
    "pipeline = Pipeline(stages=[scaler, model])\n",
    "\n",
    "evaluator = RegressionEvaluator(predictionCol='prediction',\n",
    "                                labelCol='MEDV',\n",
    "                                metricName='r2')\n",
    "\n",
    "paramGrid = ParamGridBuilder() \\\n",
    "    .addGrid(model.regParam, np.logspace(-4, 4, 9)) \\\n",
    "    .addGrid(model.fitIntercept, [True, False]) \\\n",
    "    .build()\n",
    "\n",
    "# the actual gridsearch\n",
    "crossval = CrossValidator(estimator=pipeline,\n",
    "                          estimatorParamMaps=paramGrid,\n",
    "                          evaluator=evaluator,\n",
    "                          numFolds=5)\n",
    "\n",
    "# Run cross-validation, and choose the best set of parameters.\n",
    "model_fit = crossval.fit(data_train)"
   ]
  },
  {
   "cell_type": "code",
   "execution_count": 27,
   "metadata": {},
   "outputs": [
    {
     "name": "stdout",
     "output_type": "stream",
     "text": [
      "{'regParam': 0.1, 'fitIntercept': True}\n",
      "\n",
      "aggregationDepth: suggested depth for treeAggregate (>= 2) (default: 2)\n",
      "elasticNetParam: the ElasticNet mixing parameter, in range [0, 1]. For alpha = 0, the penalty is an L2 penalty. For alpha = 1, it is an L1 penalty (default: 0.0, current: 0.0)\n",
      "epsilon: The shape parameter to control the amount of robustness. Must be > 1.0. (default: 1.35)\n",
      "featuresCol: features column name (default: features, current: scaledfeatures)\n",
      "fitIntercept: whether to fit an intercept term (default: true, current: true)\n",
      "labelCol: label column name (default: label, current: MEDV)\n",
      "loss: The loss function to be optimized. Supported options: squaredError, huber. (Default squaredError) (default: squaredError)\n",
      "maxIter: maximum number of iterations (>= 0) (default: 100, current: 3000)\n",
      "predictionCol: prediction column name (default: prediction)\n",
      "regParam: regularization parameter (>= 0) (default: 0.0, current: 0.1)\n",
      "solver: The solver algorithm for optimization. Supported options: auto, normal, l-bfgs. (Default auto) (default: auto)\n",
      "standardization: whether to standardize the training features before fitting the model (default: true)\n",
      "tol: the convergence tolerance for iterative algorithms (>= 0) (default: 1.0E-6)\n",
      "weightCol: weight column name. If this is not set or empty, we treat all instance weights as 1.0 (undefined)\n"
     ]
    }
   ],
   "source": [
    "java_model = model_fit.bestModel.stages[1]._java_obj\n",
    "\n",
    "print({param.name: java_model.getOrDefault(java_model.getParam(param.name))\n",
    "       for param in paramGrid[0]})\n",
    "print()\n",
    "print(java_model.explainParams())"
   ]
  },
  {
   "cell_type": "code",
   "execution_count": 28,
   "metadata": {},
   "outputs": [
    {
     "data": {
      "text/plain": [
       "[Row(MEDV=33.0, prediction=22.899282725615542),\n",
       " Row(MEDV=28.7, prediction=24.57479134697234),\n",
       " Row(MEDV=22.0, prediction=27.233555040957945),\n",
       " Row(MEDV=22.9, prediction=29.438751258000075),\n",
       " Row(MEDV=20.5, prediction=23.65860913739102)]"
      ]
     },
     "execution_count": 28,
     "metadata": {},
     "output_type": "execute_result"
    }
   ],
   "source": [
    "prediction = model_fit.transform(data_test)\n",
    "selected = prediction.select(\"MEDV\", \"prediction\").limit(5)\n",
    "selected.take(5)"
   ]
  },
  {
   "cell_type": "code",
   "execution_count": 29,
   "metadata": {},
   "outputs": [
    {
     "data": {
      "text/plain": [
       "['CRIM',\n",
       " 'ZN',\n",
       " 'INDUS',\n",
       " 'CHAS',\n",
       " 'NOX',\n",
       " 'RM',\n",
       " 'AGE',\n",
       " 'DIS',\n",
       " 'RAD',\n",
       " 'TAX',\n",
       " 'PTRATIO',\n",
       " 'B',\n",
       " 'LSTAT',\n",
       " 'MEDV',\n",
       " 'features',\n",
       " 'scaledfeatures',\n",
       " 'prediction']"
      ]
     },
     "execution_count": 29,
     "metadata": {},
     "output_type": "execute_result"
    }
   ],
   "source": [
    "prediction.columns"
   ]
  },
  {
   "cell_type": "code",
   "execution_count": 30,
   "metadata": {},
   "outputs": [
    {
     "data": {
      "text/plain": [
       "0.7476171384606205"
      ]
     },
     "execution_count": 30,
     "metadata": {},
     "output_type": "execute_result"
    }
   ],
   "source": [
    "model_fit.bestModel.stages[1].summary.r2"
   ]
  },
  {
   "cell_type": "code",
   "execution_count": 31,
   "metadata": {},
   "outputs": [
    {
     "data": {
      "text/plain": [
       "0.7111367843485983"
      ]
     },
     "execution_count": 31,
     "metadata": {},
     "output_type": "execute_result"
    }
   ],
   "source": [
    "evaluator.evaluate(prediction)"
   ]
  },
  {
   "cell_type": "markdown",
   "metadata": {},
   "source": [
    "## Classification"
   ]
  },
  {
   "cell_type": "markdown",
   "metadata": {},
   "source": [
    "### Load the data"
   ]
  },
  {
   "cell_type": "code",
   "execution_count": 32,
   "metadata": {},
   "outputs": [
    {
     "data": {
      "text/plain": [
       "Index(['mean radius', 'mean texture', 'mean perimeter', 'mean area',\n",
       "       'mean smoothness', 'mean compactness', 'mean concavity',\n",
       "       'mean concave points', 'mean symmetry', 'mean fractal dimension',\n",
       "       'radius error', 'texture error', 'perimeter error', 'area error',\n",
       "       'smoothness error', 'compactness error', 'concavity error',\n",
       "       'concave points error', 'symmetry error', 'fractal dimension error',\n",
       "       'worst radius', 'worst texture', 'worst perimeter', 'worst area',\n",
       "       'worst smoothness', 'worst compactness', 'worst concavity',\n",
       "       'worst concave points', 'worst symmetry', 'worst fractal dimension',\n",
       "       'label'],\n",
       "      dtype='object')"
      ]
     },
     "execution_count": 32,
     "metadata": {},
     "output_type": "execute_result"
    }
   ],
   "source": [
    "from sklearn.datasets import load_breast_cancer\n",
    "\n",
    "data = load_breast_cancer()\n",
    "df = pd.DataFrame(data.data, columns=data.feature_names)\n",
    "df['label'] = data.target\n",
    "df.columns"
   ]
  },
  {
   "cell_type": "code",
   "execution_count": 33,
   "metadata": {},
   "outputs": [
    {
     "data": {
      "text/html": [
       "<div>\n",
       "<style scoped>\n",
       "    .dataframe tbody tr th:only-of-type {\n",
       "        vertical-align: middle;\n",
       "    }\n",
       "\n",
       "    .dataframe tbody tr th {\n",
       "        vertical-align: top;\n",
       "    }\n",
       "\n",
       "    .dataframe thead th {\n",
       "        text-align: right;\n",
       "    }\n",
       "</style>\n",
       "<table border=\"1\" class=\"dataframe\">\n",
       "  <thead>\n",
       "    <tr style=\"text-align: right;\">\n",
       "      <th></th>\n",
       "      <th>mean radius</th>\n",
       "      <th>mean texture</th>\n",
       "      <th>mean perimeter</th>\n",
       "      <th>mean area</th>\n",
       "      <th>mean smoothness</th>\n",
       "      <th>mean compactness</th>\n",
       "      <th>mean concavity</th>\n",
       "      <th>mean concave points</th>\n",
       "      <th>mean symmetry</th>\n",
       "      <th>mean fractal dimension</th>\n",
       "      <th>...</th>\n",
       "      <th>worst texture</th>\n",
       "      <th>worst perimeter</th>\n",
       "      <th>worst area</th>\n",
       "      <th>worst smoothness</th>\n",
       "      <th>worst compactness</th>\n",
       "      <th>worst concavity</th>\n",
       "      <th>worst concave points</th>\n",
       "      <th>worst symmetry</th>\n",
       "      <th>worst fractal dimension</th>\n",
       "      <th>label</th>\n",
       "    </tr>\n",
       "  </thead>\n",
       "  <tbody>\n",
       "    <tr>\n",
       "      <th>0</th>\n",
       "      <td>17.99</td>\n",
       "      <td>10.38</td>\n",
       "      <td>122.80</td>\n",
       "      <td>1001.0</td>\n",
       "      <td>0.11840</td>\n",
       "      <td>0.27760</td>\n",
       "      <td>0.30010</td>\n",
       "      <td>0.14710</td>\n",
       "      <td>0.2419</td>\n",
       "      <td>0.07871</td>\n",
       "      <td>...</td>\n",
       "      <td>17.33</td>\n",
       "      <td>184.60</td>\n",
       "      <td>2019.0</td>\n",
       "      <td>0.16220</td>\n",
       "      <td>0.66560</td>\n",
       "      <td>0.7119</td>\n",
       "      <td>0.2654</td>\n",
       "      <td>0.4601</td>\n",
       "      <td>0.11890</td>\n",
       "      <td>0</td>\n",
       "    </tr>\n",
       "    <tr>\n",
       "      <th>1</th>\n",
       "      <td>20.57</td>\n",
       "      <td>17.77</td>\n",
       "      <td>132.90</td>\n",
       "      <td>1326.0</td>\n",
       "      <td>0.08474</td>\n",
       "      <td>0.07864</td>\n",
       "      <td>0.08690</td>\n",
       "      <td>0.07017</td>\n",
       "      <td>0.1812</td>\n",
       "      <td>0.05667</td>\n",
       "      <td>...</td>\n",
       "      <td>23.41</td>\n",
       "      <td>158.80</td>\n",
       "      <td>1956.0</td>\n",
       "      <td>0.12380</td>\n",
       "      <td>0.18660</td>\n",
       "      <td>0.2416</td>\n",
       "      <td>0.1860</td>\n",
       "      <td>0.2750</td>\n",
       "      <td>0.08902</td>\n",
       "      <td>0</td>\n",
       "    </tr>\n",
       "    <tr>\n",
       "      <th>2</th>\n",
       "      <td>19.69</td>\n",
       "      <td>21.25</td>\n",
       "      <td>130.00</td>\n",
       "      <td>1203.0</td>\n",
       "      <td>0.10960</td>\n",
       "      <td>0.15990</td>\n",
       "      <td>0.19740</td>\n",
       "      <td>0.12790</td>\n",
       "      <td>0.2069</td>\n",
       "      <td>0.05999</td>\n",
       "      <td>...</td>\n",
       "      <td>25.53</td>\n",
       "      <td>152.50</td>\n",
       "      <td>1709.0</td>\n",
       "      <td>0.14440</td>\n",
       "      <td>0.42450</td>\n",
       "      <td>0.4504</td>\n",
       "      <td>0.2430</td>\n",
       "      <td>0.3613</td>\n",
       "      <td>0.08758</td>\n",
       "      <td>0</td>\n",
       "    </tr>\n",
       "    <tr>\n",
       "      <th>3</th>\n",
       "      <td>11.42</td>\n",
       "      <td>20.38</td>\n",
       "      <td>77.58</td>\n",
       "      <td>386.1</td>\n",
       "      <td>0.14250</td>\n",
       "      <td>0.28390</td>\n",
       "      <td>0.24140</td>\n",
       "      <td>0.10520</td>\n",
       "      <td>0.2597</td>\n",
       "      <td>0.09744</td>\n",
       "      <td>...</td>\n",
       "      <td>26.50</td>\n",
       "      <td>98.87</td>\n",
       "      <td>567.7</td>\n",
       "      <td>0.20980</td>\n",
       "      <td>0.86630</td>\n",
       "      <td>0.6869</td>\n",
       "      <td>0.2575</td>\n",
       "      <td>0.6638</td>\n",
       "      <td>0.17300</td>\n",
       "      <td>0</td>\n",
       "    </tr>\n",
       "    <tr>\n",
       "      <th>4</th>\n",
       "      <td>20.29</td>\n",
       "      <td>14.34</td>\n",
       "      <td>135.10</td>\n",
       "      <td>1297.0</td>\n",
       "      <td>0.10030</td>\n",
       "      <td>0.13280</td>\n",
       "      <td>0.19800</td>\n",
       "      <td>0.10430</td>\n",
       "      <td>0.1809</td>\n",
       "      <td>0.05883</td>\n",
       "      <td>...</td>\n",
       "      <td>16.67</td>\n",
       "      <td>152.20</td>\n",
       "      <td>1575.0</td>\n",
       "      <td>0.13740</td>\n",
       "      <td>0.20500</td>\n",
       "      <td>0.4000</td>\n",
       "      <td>0.1625</td>\n",
       "      <td>0.2364</td>\n",
       "      <td>0.07678</td>\n",
       "      <td>0</td>\n",
       "    </tr>\n",
       "    <tr>\n",
       "      <th>...</th>\n",
       "      <td>...</td>\n",
       "      <td>...</td>\n",
       "      <td>...</td>\n",
       "      <td>...</td>\n",
       "      <td>...</td>\n",
       "      <td>...</td>\n",
       "      <td>...</td>\n",
       "      <td>...</td>\n",
       "      <td>...</td>\n",
       "      <td>...</td>\n",
       "      <td>...</td>\n",
       "      <td>...</td>\n",
       "      <td>...</td>\n",
       "      <td>...</td>\n",
       "      <td>...</td>\n",
       "      <td>...</td>\n",
       "      <td>...</td>\n",
       "      <td>...</td>\n",
       "      <td>...</td>\n",
       "      <td>...</td>\n",
       "      <td>...</td>\n",
       "    </tr>\n",
       "    <tr>\n",
       "      <th>564</th>\n",
       "      <td>21.56</td>\n",
       "      <td>22.39</td>\n",
       "      <td>142.00</td>\n",
       "      <td>1479.0</td>\n",
       "      <td>0.11100</td>\n",
       "      <td>0.11590</td>\n",
       "      <td>0.24390</td>\n",
       "      <td>0.13890</td>\n",
       "      <td>0.1726</td>\n",
       "      <td>0.05623</td>\n",
       "      <td>...</td>\n",
       "      <td>26.40</td>\n",
       "      <td>166.10</td>\n",
       "      <td>2027.0</td>\n",
       "      <td>0.14100</td>\n",
       "      <td>0.21130</td>\n",
       "      <td>0.4107</td>\n",
       "      <td>0.2216</td>\n",
       "      <td>0.2060</td>\n",
       "      <td>0.07115</td>\n",
       "      <td>0</td>\n",
       "    </tr>\n",
       "    <tr>\n",
       "      <th>565</th>\n",
       "      <td>20.13</td>\n",
       "      <td>28.25</td>\n",
       "      <td>131.20</td>\n",
       "      <td>1261.0</td>\n",
       "      <td>0.09780</td>\n",
       "      <td>0.10340</td>\n",
       "      <td>0.14400</td>\n",
       "      <td>0.09791</td>\n",
       "      <td>0.1752</td>\n",
       "      <td>0.05533</td>\n",
       "      <td>...</td>\n",
       "      <td>38.25</td>\n",
       "      <td>155.00</td>\n",
       "      <td>1731.0</td>\n",
       "      <td>0.11660</td>\n",
       "      <td>0.19220</td>\n",
       "      <td>0.3215</td>\n",
       "      <td>0.1628</td>\n",
       "      <td>0.2572</td>\n",
       "      <td>0.06637</td>\n",
       "      <td>0</td>\n",
       "    </tr>\n",
       "    <tr>\n",
       "      <th>566</th>\n",
       "      <td>16.60</td>\n",
       "      <td>28.08</td>\n",
       "      <td>108.30</td>\n",
       "      <td>858.1</td>\n",
       "      <td>0.08455</td>\n",
       "      <td>0.10230</td>\n",
       "      <td>0.09251</td>\n",
       "      <td>0.05302</td>\n",
       "      <td>0.1590</td>\n",
       "      <td>0.05648</td>\n",
       "      <td>...</td>\n",
       "      <td>34.12</td>\n",
       "      <td>126.70</td>\n",
       "      <td>1124.0</td>\n",
       "      <td>0.11390</td>\n",
       "      <td>0.30940</td>\n",
       "      <td>0.3403</td>\n",
       "      <td>0.1418</td>\n",
       "      <td>0.2218</td>\n",
       "      <td>0.07820</td>\n",
       "      <td>0</td>\n",
       "    </tr>\n",
       "    <tr>\n",
       "      <th>567</th>\n",
       "      <td>20.60</td>\n",
       "      <td>29.33</td>\n",
       "      <td>140.10</td>\n",
       "      <td>1265.0</td>\n",
       "      <td>0.11780</td>\n",
       "      <td>0.27700</td>\n",
       "      <td>0.35140</td>\n",
       "      <td>0.15200</td>\n",
       "      <td>0.2397</td>\n",
       "      <td>0.07016</td>\n",
       "      <td>...</td>\n",
       "      <td>39.42</td>\n",
       "      <td>184.60</td>\n",
       "      <td>1821.0</td>\n",
       "      <td>0.16500</td>\n",
       "      <td>0.86810</td>\n",
       "      <td>0.9387</td>\n",
       "      <td>0.2650</td>\n",
       "      <td>0.4087</td>\n",
       "      <td>0.12400</td>\n",
       "      <td>0</td>\n",
       "    </tr>\n",
       "    <tr>\n",
       "      <th>568</th>\n",
       "      <td>7.76</td>\n",
       "      <td>24.54</td>\n",
       "      <td>47.92</td>\n",
       "      <td>181.0</td>\n",
       "      <td>0.05263</td>\n",
       "      <td>0.04362</td>\n",
       "      <td>0.00000</td>\n",
       "      <td>0.00000</td>\n",
       "      <td>0.1587</td>\n",
       "      <td>0.05884</td>\n",
       "      <td>...</td>\n",
       "      <td>30.37</td>\n",
       "      <td>59.16</td>\n",
       "      <td>268.6</td>\n",
       "      <td>0.08996</td>\n",
       "      <td>0.06444</td>\n",
       "      <td>0.0000</td>\n",
       "      <td>0.0000</td>\n",
       "      <td>0.2871</td>\n",
       "      <td>0.07039</td>\n",
       "      <td>1</td>\n",
       "    </tr>\n",
       "  </tbody>\n",
       "</table>\n",
       "<p>569 rows × 31 columns</p>\n",
       "</div>"
      ],
      "text/plain": [
       "     mean radius  mean texture  mean perimeter  mean area  mean smoothness  \\\n",
       "0          17.99         10.38          122.80     1001.0          0.11840   \n",
       "1          20.57         17.77          132.90     1326.0          0.08474   \n",
       "2          19.69         21.25          130.00     1203.0          0.10960   \n",
       "3          11.42         20.38           77.58      386.1          0.14250   \n",
       "4          20.29         14.34          135.10     1297.0          0.10030   \n",
       "..           ...           ...             ...        ...              ...   \n",
       "564        21.56         22.39          142.00     1479.0          0.11100   \n",
       "565        20.13         28.25          131.20     1261.0          0.09780   \n",
       "566        16.60         28.08          108.30      858.1          0.08455   \n",
       "567        20.60         29.33          140.10     1265.0          0.11780   \n",
       "568         7.76         24.54           47.92      181.0          0.05263   \n",
       "\n",
       "     mean compactness  mean concavity  mean concave points  mean symmetry  \\\n",
       "0             0.27760         0.30010              0.14710         0.2419   \n",
       "1             0.07864         0.08690              0.07017         0.1812   \n",
       "2             0.15990         0.19740              0.12790         0.2069   \n",
       "3             0.28390         0.24140              0.10520         0.2597   \n",
       "4             0.13280         0.19800              0.10430         0.1809   \n",
       "..                ...             ...                  ...            ...   \n",
       "564           0.11590         0.24390              0.13890         0.1726   \n",
       "565           0.10340         0.14400              0.09791         0.1752   \n",
       "566           0.10230         0.09251              0.05302         0.1590   \n",
       "567           0.27700         0.35140              0.15200         0.2397   \n",
       "568           0.04362         0.00000              0.00000         0.1587   \n",
       "\n",
       "     mean fractal dimension  ...  worst texture  worst perimeter  worst area  \\\n",
       "0                   0.07871  ...          17.33           184.60      2019.0   \n",
       "1                   0.05667  ...          23.41           158.80      1956.0   \n",
       "2                   0.05999  ...          25.53           152.50      1709.0   \n",
       "3                   0.09744  ...          26.50            98.87       567.7   \n",
       "4                   0.05883  ...          16.67           152.20      1575.0   \n",
       "..                      ...  ...            ...              ...         ...   \n",
       "564                 0.05623  ...          26.40           166.10      2027.0   \n",
       "565                 0.05533  ...          38.25           155.00      1731.0   \n",
       "566                 0.05648  ...          34.12           126.70      1124.0   \n",
       "567                 0.07016  ...          39.42           184.60      1821.0   \n",
       "568                 0.05884  ...          30.37            59.16       268.6   \n",
       "\n",
       "     worst smoothness  worst compactness  worst concavity  \\\n",
       "0             0.16220            0.66560           0.7119   \n",
       "1             0.12380            0.18660           0.2416   \n",
       "2             0.14440            0.42450           0.4504   \n",
       "3             0.20980            0.86630           0.6869   \n",
       "4             0.13740            0.20500           0.4000   \n",
       "..                ...                ...              ...   \n",
       "564           0.14100            0.21130           0.4107   \n",
       "565           0.11660            0.19220           0.3215   \n",
       "566           0.11390            0.30940           0.3403   \n",
       "567           0.16500            0.86810           0.9387   \n",
       "568           0.08996            0.06444           0.0000   \n",
       "\n",
       "     worst concave points  worst symmetry  worst fractal dimension  label  \n",
       "0                  0.2654          0.4601                  0.11890      0  \n",
       "1                  0.1860          0.2750                  0.08902      0  \n",
       "2                  0.2430          0.3613                  0.08758      0  \n",
       "3                  0.2575          0.6638                  0.17300      0  \n",
       "4                  0.1625          0.2364                  0.07678      0  \n",
       "..                    ...             ...                      ...    ...  \n",
       "564                0.2216          0.2060                  0.07115      0  \n",
       "565                0.1628          0.2572                  0.06637      0  \n",
       "566                0.1418          0.2218                  0.07820      0  \n",
       "567                0.2650          0.4087                  0.12400      0  \n",
       "568                0.0000          0.2871                  0.07039      1  \n",
       "\n",
       "[569 rows x 31 columns]"
      ]
     },
     "execution_count": 33,
     "metadata": {},
     "output_type": "execute_result"
    }
   ],
   "source": [
    "df"
   ]
  },
  {
   "cell_type": "markdown",
   "metadata": {},
   "source": [
    "### Create the spark dataframe"
   ]
  },
  {
   "cell_type": "code",
   "execution_count": 34,
   "metadata": {},
   "outputs": [
    {
     "data": {
      "text/plain": [
       "Row(mean radius=17.99, mean texture=10.38, mean perimeter=122.8, mean area=1001.0, mean smoothness=0.1184, mean compactness=0.2776, mean concavity=0.3001, mean concave points=0.1471, mean symmetry=0.2419, mean fractal dimension=0.07871, radius error=1.095, texture error=0.9053, perimeter error=8.589, area error=153.4, smoothness error=0.006399, compactness error=0.04904, concavity error=0.05373, concave points error=0.01587, symmetry error=0.03003, fractal dimension error=0.006193, worst radius=25.38, worst texture=17.33, worst perimeter=184.6, worst area=2019.0, worst smoothness=0.1622, worst compactness=0.6656, worst concavity=0.7119, worst concave points=0.2654, worst symmetry=0.4601, worst fractal dimension=0.1189, label=0)"
      ]
     },
     "execution_count": 34,
     "metadata": {},
     "output_type": "execute_result"
    }
   ],
   "source": [
    "spark_df = sqlContext.createDataFrame(df)\n",
    "\n",
    "spark_df.first()"
   ]
  },
  {
   "cell_type": "markdown",
   "metadata": {},
   "source": [
    "### Create feature columns"
   ]
  },
  {
   "cell_type": "code",
   "execution_count": 35,
   "metadata": {},
   "outputs": [
    {
     "name": "stdout",
     "output_type": "stream",
     "text": [
      "+--------------------+\n",
      "|            features|\n",
      "+--------------------+\n",
      "|[17.99,10.38,122....|\n",
      "|[20.57,17.77,132....|\n",
      "+--------------------+\n",
      "only showing top 2 rows\n",
      "\n"
     ]
    }
   ],
   "source": [
    "vectorAssembler = VectorAssembler(inputCols=data.feature_names,\n",
    "                                  outputCol=\"features\")\n",
    "\n",
    "vector_df = vectorAssembler.transform(spark_df)\n",
    "vector_df.persist()\n",
    "vector_df.select('features').show(2)"
   ]
  },
  {
   "cell_type": "markdown",
   "metadata": {},
   "source": [
    "### Rescale the data"
   ]
  },
  {
   "cell_type": "code",
   "execution_count": 36,
   "metadata": {},
   "outputs": [
    {
     "data": {
      "text/plain": [
       "Row(mean radius=17.99, mean texture=10.38, mean perimeter=122.8, mean area=1001.0, mean smoothness=0.1184, mean compactness=0.2776, mean concavity=0.3001, mean concave points=0.1471, mean symmetry=0.2419, mean fractal dimension=0.07871, radius error=1.095, texture error=0.9053, perimeter error=8.589, area error=153.4, smoothness error=0.006399, compactness error=0.04904, concavity error=0.05373, concave points error=0.01587, symmetry error=0.03003, fractal dimension error=0.006193, worst radius=25.38, worst texture=17.33, worst perimeter=184.6, worst area=2019.0, worst smoothness=0.1622, worst compactness=0.6656, worst concavity=0.7119, worst concave points=0.2654, worst symmetry=0.4601, worst fractal dimension=0.1189, label=0, features=DenseVector([17.99, 10.38, 122.8, 1001.0, 0.1184, 0.2776, 0.3001, 0.1471, 0.2419, 0.0787, 1.095, 0.9053, 8.589, 153.4, 0.0064, 0.049, 0.0537, 0.0159, 0.03, 0.0062, 25.38, 17.33, 184.6, 2019.0, 0.1622, 0.6656, 0.7119, 0.2654, 0.4601, 0.1189]), scaledfeatures=DenseVector([1.0961, -2.0715, 1.2688, 0.9835, 1.5671, 3.2806, 2.6505, 2.5302, 2.2156, 2.2538, 2.4875, -0.5648, 2.8305, 2.4854, -0.2138, 1.3157, 0.7234, 0.6602, 1.1477, 0.9063, 1.885, -1.3581, 2.3016, 1.9995, 1.3065, 2.6144, 2.1077, 2.2941, 2.7482, 1.9353]))"
      ]
     },
     "execution_count": 36,
     "metadata": {},
     "output_type": "execute_result"
    }
   ],
   "source": [
    "scaler = StandardScaler(withMean=True,\n",
    "                        inputCol=\"features\",\n",
    "                        outputCol=\"scaledfeatures\")\n",
    "\n",
    "# Compute summary statistics and generate ScalerModel\n",
    "scalerModel = scaler.fit(vector_df)\n",
    "\n",
    "# rescale each feature to range [min, max].\n",
    "scaled_df = scalerModel.transform(vector_df)\n",
    "\n",
    "scaled_df.first()"
   ]
  },
  {
   "cell_type": "markdown",
   "metadata": {},
   "source": [
    "### Fit logistic regression"
   ]
  },
  {
   "cell_type": "code",
   "execution_count": 37,
   "metadata": {},
   "outputs": [],
   "source": [
    "from pyspark.ml.classification import LogisticRegression"
   ]
  },
  {
   "cell_type": "code",
   "execution_count": 38,
   "metadata": {},
   "outputs": [
    {
     "name": "stdout",
     "output_type": "stream",
     "text": [
      "Coefficients: [20.02376357992916,-0.8445037846608884,13.431567111789084,-4.793741273522687,-6.851653538939276,24.440435538727638,-22.945007663829127,-9.040402795877208,4.100610924703864,-1.8099560719407106,-11.155935087579186,4.853527360034203,12.33271557809537,-21.592957710270973,-0.8295127881062248,-9.958242988158062,15.562710151663468,-18.291353706971986,4.392855141952629,20.714838125025317,-11.853477261759272,-8.749642652935632,-12.784315949406984,-24.3863074667062,3.3753005299164776,2.7413106387509805,-6.10875571211878,3.1509147391227903,-7.9791021028978815,-13.627701410132033]\n",
      "Intercept: -6.205881681888754\n"
     ]
    },
    {
     "data": {
      "text/plain": [
       "[Row(label=0.0, probability=DenseVector([1.0, 0.0]), prediction=0.0),\n",
       " Row(label=0.0, probability=DenseVector([1.0, 0.0]), prediction=0.0),\n",
       " Row(label=0.0, probability=DenseVector([1.0, 0.0]), prediction=0.0),\n",
       " Row(label=0.0, probability=DenseVector([1.0, 0.0]), prediction=0.0),\n",
       " Row(label=0.0, probability=DenseVector([1.0, 0.0]), prediction=0.0)]"
      ]
     },
     "execution_count": 38,
     "metadata": {},
     "output_type": "execute_result"
    }
   ],
   "source": [
    "model = LogisticRegression(featuresCol='scaledfeatures',\n",
    "                           labelCol='label')\n",
    "\n",
    "# Fit the model\n",
    "model_fit = model.fit(scaled_df)\n",
    "\n",
    "# Print the coefficients and intercept for linear regression\n",
    "print(\"Coefficients: {}\".format(model_fit.coefficients))\n",
    "print(\"Intercept: {}\".format(model_fit.intercept))\n",
    "\n",
    "# Summarize the model over the training set and print out some metrics\n",
    "summary_train = model_fit.summary\n",
    "\n",
    "summary_train.predictions.select(\n",
    "    'label', 'probability', 'prediction').take(5)"
   ]
  },
  {
   "cell_type": "code",
   "execution_count": 39,
   "metadata": {},
   "outputs": [
    {
     "name": "stdout",
     "output_type": "stream",
     "text": [
      "+-----------------+---------+\n",
      "|           recall|precision|\n",
      "+-----------------+---------+\n",
      "|              0.0|      1.0|\n",
      "|0.453781512605042|      1.0|\n",
      "+-----------------+---------+\n",
      "only showing top 2 rows\n",
      "\n"
     ]
    }
   ],
   "source": [
    "summary_train.pr.show(2)"
   ]
  },
  {
   "cell_type": "code",
   "execution_count": 40,
   "metadata": {},
   "outputs": [
    {
     "data": {
      "image/png": "[encoded data removed]",
      "text/plain": [
       "<Figure size 864x288 with 2 Axes>"
      ]
     },
     "metadata": {
      "image/png": {
       "height": 277,
       "width": 716
      },
      "needs_background": "light"
     },
     "output_type": "display_data"
    }
   ],
   "source": [
    "fig, ax = plt.subplots(ncols=2, figsize=(12, 4))\n",
    "summary_train.roc.toPandas().plot(x='FPR', y='TPR', ax=ax[0])\n",
    "summary_train.pr.toPandas().plot(x='recall', y='precision', ax=ax[1])\n",
    "plt.show()"
   ]
  },
  {
   "cell_type": "code",
   "execution_count": 41,
   "metadata": {},
   "outputs": [
    {
     "name": "stdout",
     "output_type": "stream",
     "text": [
      "+---+-------------------+\n",
      "|FPR|                TPR|\n",
      "+---+-------------------+\n",
      "|0.0|                0.0|\n",
      "|0.0|  0.453781512605042|\n",
      "|0.0|0.47058823529411764|\n",
      "|0.0|0.49019607843137253|\n",
      "|0.0| 0.5014005602240896|\n",
      "+---+-------------------+\n",
      "only showing top 5 rows\n",
      "\n"
     ]
    }
   ],
   "source": [
    "# Obtain the receiver-operating characteristic as a dataframe and areaUnderROC.\n",
    "summary_train.roc.show(5)"
   ]
  },
  {
   "cell_type": "code",
   "execution_count": 42,
   "metadata": {},
   "outputs": [
    {
     "name": "stdout",
     "output_type": "stream",
     "text": [
      "areaUnderROC: 0.9995045187886475\n"
     ]
    }
   ],
   "source": [
    "print(\"areaUnderROC: \" + str(summary_train.areaUnderROC))"
   ]
  },
  {
   "cell_type": "code",
   "execution_count": 43,
   "metadata": {},
   "outputs": [],
   "source": [
    "from pyspark.ml.evaluation import BinaryClassificationEvaluator, MulticlassClassificationEvaluator"
   ]
  },
  {
   "cell_type": "code",
   "execution_count": 44,
   "metadata": {},
   "outputs": [],
   "source": [
    "predictions = summary_train.predictions.select('label', 'prediction')"
   ]
  },
  {
   "cell_type": "code",
   "execution_count": 45,
   "metadata": {},
   "outputs": [
    {
     "data": {
      "text/plain": [
       "0.9938824586438348"
      ]
     },
     "execution_count": 45,
     "metadata": {},
     "output_type": "execute_result"
    }
   ],
   "source": [
    "# possible metric choices: (areaUnderROC|areaUnderPR)'\n",
    "\n",
    "evaluator = BinaryClassificationEvaluator(\n",
    "    rawPredictionCol='prediction',\n",
    "    labelCol='label',\n",
    "    metricName='areaUnderROC'\n",
    ")\n",
    "\n",
    "evaluator.evaluate(predictions)"
   ]
  },
  {
   "cell_type": "code",
   "execution_count": 46,
   "metadata": {},
   "outputs": [
    {
     "data": {
      "text/plain": [
       "0.9947275922671354"
      ]
     },
     "execution_count": 46,
     "metadata": {},
     "output_type": "execute_result"
    }
   ],
   "source": [
    "predictions.rdd.map(lambda x: (x[0] == x[1]) *\n",
    "                    1).reduce(lambda x, y: x+y)/predictions.count()"
   ]
  },
  {
   "cell_type": "code",
   "execution_count": 47,
   "metadata": {},
   "outputs": [
    {
     "data": {
      "text/plain": [
       "0.9947275922671354"
      ]
     },
     "execution_count": 47,
     "metadata": {},
     "output_type": "execute_result"
    }
   ],
   "source": [
    "# possible metric choices: (f1|weightedPrecision|weightedRecall|accuracy)'\n",
    "\n",
    "evaluator = MulticlassClassificationEvaluator(\n",
    "    predictionCol='prediction',\n",
    "    labelCol='label',\n",
    "    metricName='accuracy'\n",
    ")\n",
    "\n",
    "evaluator.evaluate(predictions)"
   ]
  },
  {
   "cell_type": "markdown",
   "metadata": {},
   "source": [
    "### Logistic regression with grid search"
   ]
  },
  {
   "cell_type": "code",
   "execution_count": 48,
   "metadata": {},
   "outputs": [
    {
     "data": {
      "text/plain": [
       "['aggregationDepth',\n",
       " 'standardization',\n",
       " 'fitIntercept',\n",
       " 'elasticNetParam',\n",
       " 'rawPredictionCol',\n",
       " 'probabilityCol',\n",
       " 'predictionCol',\n",
       " 'labelCol',\n",
       " 'featuresCol',\n",
       " 'maxIter',\n",
       " 'regParam',\n",
       " 'tol',\n",
       " 'threshold',\n",
       " 'family']"
      ]
     },
     "execution_count": 48,
     "metadata": {},
     "output_type": "execute_result"
    }
   ],
   "source": [
    "[parameter.name for parameter in model._defaultParamMap]"
   ]
  },
  {
   "cell_type": "code",
   "execution_count": 49,
   "metadata": {},
   "outputs": [
    {
     "name": "stdout",
     "output_type": "stream",
     "text": [
      "Average cv scores:\n",
      "[0.9583 0.9609 0.9704 0.9734 0.9758 0.9786 0.9634 0.9628 0.918  0.942\n",
      " 0.7255 0.9345 0.6241 0.9295 0.6241 0.9295 0.6241 0.9295]\n",
      "Best model parameters:\n",
      "{'regParam': 0.01, 'fitIntercept': False}\n",
      "\n",
      "Best model test accuracy:\n",
      "0.9881656804733728\n"
     ]
    }
   ],
   "source": [
    "(data_train, data_test) = vector_df.randomSplit([0.7, 0.3], seed=1)\n",
    "scaler = StandardScaler(withMean=True,\n",
    "                        inputCol=\"features\",\n",
    "                        outputCol=\"scaledfeatures\")\n",
    "model = LogisticRegression(featuresCol=scaler.getOutputCol(),\n",
    "                           labelCol='label')\n",
    "\n",
    "pipeline = Pipeline(stages=[scaler, model])\n",
    "\n",
    "evaluator = MulticlassClassificationEvaluator(\n",
    "    predictionCol='prediction',\n",
    "    labelCol='label',\n",
    "    metricName='accuracy'\n",
    ")\n",
    "\n",
    "paramGrid = ParamGridBuilder() \\\n",
    "    .addGrid(model.regParam, np.logspace(-4, 4, 9)) \\\n",
    "    .addGrid(model.fitIntercept, [True, False]) \\\n",
    "    .build()\n",
    "\n",
    "# the actual gridsearch\n",
    "crossval = CrossValidator(estimator=pipeline,\n",
    "                          estimatorParamMaps=paramGrid,\n",
    "                          evaluator=evaluator,\n",
    "                          numFolds=5)\n",
    "\n",
    "# Run cross-validation, and choose the best set of parameters.\n",
    "model_fit = crossval.fit(data_train)\n",
    "\n",
    "print('Average cv scores:')\n",
    "print(np.around(np.array(model_fit.avgMetrics), 4))\n",
    "\n",
    "java_model = model_fit.bestModel.stages[1]._java_obj\n",
    "\n",
    "print('Best model parameters:')\n",
    "print({param.name: java_model.getOrDefault(java_model.getParam(param.name))\n",
    "       for param in paramGrid[0]})\n",
    "print()\n",
    "# print(java_model.explainParams())\n",
    "\n",
    "predictions = model_fit.transform(data_test)\n",
    "\n",
    "print('Best model test accuracy:')\n",
    "print(evaluator.evaluate(predictions))"
   ]
  },
  {
   "cell_type": "markdown",
   "metadata": {},
   "source": [
    "### Decision Tree with grid search"
   ]
  },
  {
   "cell_type": "code",
   "execution_count": 50,
   "metadata": {},
   "outputs": [],
   "source": [
    "from pyspark.ml.classification import DecisionTreeClassifier, DecisionTreeClassificationModel"
   ]
  },
  {
   "cell_type": "code",
   "execution_count": 51,
   "metadata": {},
   "outputs": [],
   "source": [
    "model = DecisionTreeClassifier(featuresCol=scaler.getOutputCol(),\n",
    "                               labelCol='label')"
   ]
  },
  {
   "cell_type": "code",
   "execution_count": 52,
   "metadata": {},
   "outputs": [
    {
     "data": {
      "text/plain": [
       "['seed',\n",
       " 'rawPredictionCol',\n",
       " 'probabilityCol',\n",
       " 'predictionCol',\n",
       " 'labelCol',\n",
       " 'featuresCol',\n",
       " 'maxDepth',\n",
       " 'maxBins',\n",
       " 'minInstancesPerNode',\n",
       " 'minInfoGain',\n",
       " 'maxMemoryInMB',\n",
       " 'cacheNodeIds',\n",
       " 'checkpointInterval',\n",
       " 'impurity']"
      ]
     },
     "execution_count": 52,
     "metadata": {},
     "output_type": "execute_result"
    }
   ],
   "source": [
    "[parameter.name for parameter in model._defaultParamMap]"
   ]
  },
  {
   "cell_type": "code",
   "execution_count": 53,
   "metadata": {},
   "outputs": [
    {
     "name": "stdout",
     "output_type": "stream",
     "text": [
      "Average cv scores:\n",
      "[0.91   0.9005 0.9033]\n",
      "Best model parameters:\n",
      "{'maxDepth': 3}\n",
      "\n",
      "Best model test accuracy:\n",
      "0.9526627218934911\n"
     ]
    }
   ],
   "source": [
    "(data_train, data_test) = vector_df.randomSplit([0.7, 0.3], seed=1)\n",
    "scaler = StandardScaler(withMean=True,\n",
    "                        inputCol=\"features\",\n",
    "                        outputCol=\"scaledfeatures\")\n",
    "\n",
    "\n",
    "pipeline = Pipeline(stages=[scaler, model])\n",
    "\n",
    "evaluator = MulticlassClassificationEvaluator(\n",
    "    predictionCol='prediction',\n",
    "    labelCol='label',\n",
    "    metricName='accuracy'\n",
    ")\n",
    "\n",
    "paramGrid = ParamGridBuilder() \\\n",
    "    .addGrid(model.maxDepth, [3, 4, 5]) \\\n",
    "    .build()\n",
    "\n",
    "# the actual gridsearch\n",
    "crossval = CrossValidator(estimator=pipeline,\n",
    "                          estimatorParamMaps=paramGrid,\n",
    "                          evaluator=evaluator,\n",
    "                          numFolds=5)\n",
    "\n",
    "# Run cross-validation, and choose the best set of parameters.\n",
    "model_fit = crossval.fit(data_train)\n",
    "\n",
    "print('Average cv scores:')\n",
    "print(np.around(np.array(model_fit.avgMetrics), 4))\n",
    "\n",
    "java_model = model_fit.bestModel.stages[1]._java_obj\n",
    "\n",
    "print('Best model parameters:')\n",
    "print({param.name: java_model.getOrDefault(java_model.getParam(param.name))\n",
    "       for param in paramGrid[0]})\n",
    "print()\n",
    "# print(java_model.explainParams())\n",
    "\n",
    "predictions = model_fit.transform(data_test)\n",
    "\n",
    "print('Best model test accuracy:')\n",
    "print(evaluator.evaluate(predictions))"
   ]
  },
  {
   "cell_type": "code",
   "execution_count": 54,
   "metadata": {},
   "outputs": [],
   "source": [
    "m_1 = DecisionTreeClassificationModel(java_model=java_model)"
   ]
  },
  {
   "cell_type": "code",
   "execution_count": 55,
   "metadata": {},
   "outputs": [
    {
     "data": {
      "text/plain": [
       "SparseVector(30, {7: 0.0348, 21: 0.0613, 22: 0.8021, 27: 0.1019})"
      ]
     },
     "execution_count": 55,
     "metadata": {},
     "output_type": "execute_result"
    }
   ],
   "source": [
    "m_1.featureImportances"
   ]
  },
  {
   "cell_type": "code",
   "execution_count": null,
   "metadata": {},
   "outputs": [],
   "source": []
  }
 ],
 "metadata": {
  "kernelspec": {
   "display_name": "pyspark_env",
   "language": "python",
   "name": "pyspark_env"
  },
  "language_info": {
   "codemirror_mode": {
    "name": "ipython",
    "version": 3
   },
   "file_extension": ".py",
   "mimetype": "text/x-python",
   "name": "python",
   "nbconvert_exporter": "python",
   "pygments_lexer": "ipython3",
   "version": "3.7.4"
  },
  "toc": {
   "base_numbering": 1,
   "nav_menu": {},
   "number_sections": false,
   "sideBar": true,
   "skip_h1_title": true,
   "title_cell": "Lesson Guide",
   "title_sidebar": "Contents",
   "toc_cell": true,
   "toc_position": {},
   "toc_section_display": true,
   "toc_window_display": false
  }
 },
 "nbformat": 4,
 "nbformat_minor": 2
}
