{
 "cells": [
  {
   "cell_type": "markdown",
   "metadata": {},
   "source": [
    "<img src=\"http://imgur.com/1ZcRyrc.png\" style=\"float: left; margin: 20px; height: 55px\">\n",
    "\n",
    "# Time series exercises\n",
    "\n",
    "--- "
   ]
  },
  {
   "cell_type": "markdown",
   "metadata": {
    "toc": true
   },
   "source": [
    "<h1>Lab Guide<span class=\"tocSkip\"></span></h1>\n",
    "<div class=\"toc\"><ul class=\"toc-item\"><li><span><a href=\"#1.-Load-the-CRSP-daily-returns.-Fit-an-ARMA-model-to-the-GE-column-and-tune-the-parameters.\" data-toc-modified-id=\"1.-Load-the-CRSP-daily-returns.-Fit-an-ARMA-model-to-the-GE-column-and-tune-the-parameters.-1\">1. Load the CRSP daily returns. Fit an ARMA model to the GE column and tune the parameters.</a></span><ul class=\"toc-item\"><li><span><a href=\"#Bonus:-Fit-also-the-other-columns.\" data-toc-modified-id=\"Bonus:-Fit-also-the-other-columns.-1.1\">Bonus: Fit also the other columns.</a></span></li><li><span><a href=\"#Obtain-a-date-index-by-combining-the-year,-month-and-day-data.\" data-toc-modified-id=\"Obtain-a-date-index-by-combining-the-year,-month-and-day-data.-1.2\">Obtain a date index by combining the year, month and day data.</a></span></li><li><span><a href=\"#Plot-the-timeseries-and-the-(partial)-autocorrelations\" data-toc-modified-id=\"Plot-the-timeseries-and-the-(partial)-autocorrelations-1.3\">Plot the timeseries and the (partial) autocorrelations</a></span></li><li><span><a href=\"#Fit-an-ARIMA-model\" data-toc-modified-id=\"Fit-an-ARIMA-model-1.4\">Fit an ARIMA model</a></span></li><li><span><a href=\"#Do-the-same-with-the-CRSP-data\" data-toc-modified-id=\"Do-the-same-with-the-CRSP-data-1.5\">Do the same with the CRSP data</a></span></li></ul></li><li><span><a href=\"#Load-the-Mishkin-dataset.\" data-toc-modified-id=\"Load-the-Mishkin-dataset.-2\">Load the Mishkin dataset.</a></span><ul class=\"toc-item\"><li><span><a href=\"#Bonus:-Use-also-the-columns-on-one-month-inflation-rate-(pai1)-and-consumer-price-index-for-urban-consumers-(cpi).\" data-toc-modified-id=\"Bonus:-Use-also-the-columns-on-one-month-inflation-rate-(pai1)-and-consumer-price-index-for-urban-consumers-(cpi).-2.1\">Bonus: Use also the columns on one-month inflation rate (pai1) and consumer price index for urban consumers (cpi).</a></span></li><li><span><a href=\"#Plot-the-time-series-for-the-tb1-data-before-and-after-taking-the-logarithm,-and-plot-it-together-with-the-one-or-two-times-differenced-timeseries\" data-toc-modified-id=\"Plot-the-time-series-for-the-tb1-data-before-and-after-taking-the-logarithm,-and-plot-it-together-with-the-one-or-two-times-differenced-timeseries-2.2\">Plot the time series for the tb1 data before and after taking the logarithm, and plot it together with the one or two times differenced timeseries</a></span></li><li><span><a href=\"#Plot-the-(partial)-autocorrelations-before-and-after-differencing-and-compare\" data-toc-modified-id=\"Plot-the-(partial)-autocorrelations-before-and-after-differencing-and-compare-2.3\">Plot the (partial) autocorrelations before and after differencing and compare</a></span></li><li><span><a href=\"#Select-the-best-model-order-according-to-AIC-and-cross-validation-and-compare\" data-toc-modified-id=\"Select-the-best-model-order-according-to-AIC-and-cross-validation-and-compare-2.4\">Select the best model order according to AIC and cross validation and compare</a></span></li><li><span><a href=\"#With-external-predictors\" data-toc-modified-id=\"With-external-predictors-2.5\">With external predictors</a></span></li></ul></li></ul></div>"
   ]
  },
  {
   "cell_type": "code",
   "execution_count": 1,
   "metadata": {},
   "outputs": [],
   "source": [
    "import statsmodels.api as sm\n",
    "from statsmodels.tsa.arima_model import ARIMA\n",
    "from statsmodels.graphics.tsaplots import plot_acf, plot_pacf\n",
    "\n",
    "import numpy as np\n",
    "import pandas as pd\n",
    "import seaborn as sns\n",
    "from matplotlib import pyplot as plt\n",
    "sns.set(font_scale=1.5)\n",
    "%matplotlib inline\n",
    "\n",
    "sns.set(font_scale=1.5)\n",
    "plt.style.use('fivethirtyeight')\n",
    "\n",
    "%matplotlib inline\n",
    "%config InlineBackend.figure_format = 'retina'"
   ]
  },
  {
   "cell_type": "markdown",
   "metadata": {},
   "source": [
    "### 1. Load the CRSP daily returns. Fit an ARMA model to the GE column and tune the parameters."
   ]
  },
  {
   "cell_type": "markdown",
   "metadata": {},
   "source": [
    "#### Bonus: Fit also the other columns."
   ]
  },
  {
   "cell_type": "markdown",
   "metadata": {},
   "source": [
    "#### Obtain a date index by combining the year, month and day data."
   ]
  },
  {
   "cell_type": "code",
   "execution_count": 2,
   "metadata": {},
   "outputs": [
    {
     "name": "stderr",
     "output_type": "stream",
     "text": [
      "/Users/crahmede/anaconda3/lib/python3.7/site-packages/statsmodels/datasets/utils.py:192: FutureWarning: `item` has been deprecated and will be removed in a future version\n",
      "  return dataset_meta[\"Title\"].item()\n"
     ]
    }
   ],
   "source": [
    "data = sm.datasets.get_rdataset('CRSPday', package='Ecdat')"
   ]
  },
  {
   "cell_type": "code",
   "execution_count": 3,
   "metadata": {},
   "outputs": [
    {
     "name": "stdout",
     "output_type": "stream",
     "text": [
      "+---------+-----------------+\n",
      "| CRSPday | R Documentation |\n",
      "+---------+-----------------+\n",
      "\n",
      "Daily Returns from the CRSP Database\n",
      "------------------------------------\n",
      "\n",
      "Description\n",
      "~~~~~~~~~~~\n",
      "\n",
      "daily observations from 1969-1-03 to 1998-12-31\n",
      "\n",
      "*number of observations* : 2528\n",
      "\n",
      "*observation* : production units\n",
      "\n",
      "*country* : United States\n",
      "\n",
      "Usage\n",
      "~~~~~\n",
      "\n",
      "::\n",
      "\n",
      "   data(CRSPday)\n",
      "\n",
      "Format\n",
      "~~~~~~\n",
      "\n",
      "A dataframe containing :\n",
      "\n",
      "year\n",
      "   the year\n",
      "\n",
      "month\n",
      "   the month\n",
      "\n",
      "day\n",
      "   the day\n",
      "\n",
      "ge\n",
      "   the return for General Electric, Permno 12060\n",
      "\n",
      "ibm\n",
      "   the return for IBM, Permno 12490\n",
      "\n",
      "mobil\n",
      "   the return for Mobil Corporation, Permno 15966\n",
      "\n",
      "crsp\n",
      "   the return for the CRSP value-weighted index, including dividends\n",
      "\n",
      "Source\n",
      "~~~~~~\n",
      "\n",
      "Center for Research in Security Prices, Graduate School of Business,\n",
      "University of Chicago, 725 South Wells - Suite 800, Chicago, Illinois\n",
      "60607, http://www.crsp.com.\n",
      "\n",
      "References\n",
      "~~~~~~~~~~\n",
      "\n",
      "Davidson, R. and James G. MacKinnon (2004) *Econometric Theory and\n",
      "Methods*, New York, Oxford University Press,\n",
      "http://www.econ.queensu.ca/ETM/, chapter 7, 9 and 15.\n",
      "\n",
      "See Also\n",
      "~~~~~~~~\n",
      "\n",
      "``Index.Source``, ``Index.Economics``, ``Index.Econometrics``,\n",
      "``Index.Observations``,\n",
      "\n",
      "``Index.Time.Series``\n",
      "\n"
     ]
    }
   ],
   "source": [
    "print(data.__doc__)"
   ]
  },
  {
   "cell_type": "code",
   "execution_count": 4,
   "metadata": {},
   "outputs": [
    {
     "data": {
      "text/html": [
       "<div>\n",
       "<style scoped>\n",
       "    .dataframe tbody tr th:only-of-type {\n",
       "        vertical-align: middle;\n",
       "    }\n",
       "\n",
       "    .dataframe tbody tr th {\n",
       "        vertical-align: top;\n",
       "    }\n",
       "\n",
       "    .dataframe thead th {\n",
       "        text-align: right;\n",
       "    }\n",
       "</style>\n",
       "<table border=\"1\" class=\"dataframe\">\n",
       "  <thead>\n",
       "    <tr style=\"text-align: right;\">\n",
       "      <th></th>\n",
       "      <th>year</th>\n",
       "      <th>month</th>\n",
       "      <th>day</th>\n",
       "      <th>ge</th>\n",
       "      <th>ibm</th>\n",
       "      <th>mobil</th>\n",
       "      <th>crsp</th>\n",
       "    </tr>\n",
       "  </thead>\n",
       "  <tbody>\n",
       "    <tr>\n",
       "      <td>0</td>\n",
       "      <td>1989</td>\n",
       "      <td>1</td>\n",
       "      <td>3</td>\n",
       "      <td>-0.016760</td>\n",
       "      <td>0.000000</td>\n",
       "      <td>-0.002747</td>\n",
       "      <td>-0.007619</td>\n",
       "    </tr>\n",
       "    <tr>\n",
       "      <td>1</td>\n",
       "      <td>1989</td>\n",
       "      <td>1</td>\n",
       "      <td>4</td>\n",
       "      <td>0.017045</td>\n",
       "      <td>0.005128</td>\n",
       "      <td>0.005510</td>\n",
       "      <td>0.013016</td>\n",
       "    </tr>\n",
       "    <tr>\n",
       "      <td>2</td>\n",
       "      <td>1989</td>\n",
       "      <td>1</td>\n",
       "      <td>5</td>\n",
       "      <td>-0.002793</td>\n",
       "      <td>-0.002041</td>\n",
       "      <td>0.005479</td>\n",
       "      <td>0.002815</td>\n",
       "    </tr>\n",
       "    <tr>\n",
       "      <td>3</td>\n",
       "      <td>1989</td>\n",
       "      <td>1</td>\n",
       "      <td>6</td>\n",
       "      <td>0.000000</td>\n",
       "      <td>-0.006135</td>\n",
       "      <td>0.002725</td>\n",
       "      <td>0.003064</td>\n",
       "    </tr>\n",
       "    <tr>\n",
       "      <td>4</td>\n",
       "      <td>1989</td>\n",
       "      <td>1</td>\n",
       "      <td>9</td>\n",
       "      <td>0.000000</td>\n",
       "      <td>0.004115</td>\n",
       "      <td>0.005435</td>\n",
       "      <td>0.001633</td>\n",
       "    </tr>\n",
       "  </tbody>\n",
       "</table>\n",
       "</div>"
      ],
      "text/plain": [
       "   year  month  day        ge       ibm     mobil      crsp\n",
       "0  1989      1    3 -0.016760  0.000000 -0.002747 -0.007619\n",
       "1  1989      1    4  0.017045  0.005128  0.005510  0.013016\n",
       "2  1989      1    5 -0.002793 -0.002041  0.005479  0.002815\n",
       "3  1989      1    6  0.000000 -0.006135  0.002725  0.003064\n",
       "4  1989      1    9  0.000000  0.004115  0.005435  0.001633"
      ]
     },
     "execution_count": 4,
     "metadata": {},
     "output_type": "execute_result"
    }
   ],
   "source": [
    "df = data.data\n",
    "df.head()"
   ]
  },
  {
   "cell_type": "code",
   "execution_count": null,
   "metadata": {},
   "outputs": [],
   "source": []
  },
  {
   "cell_type": "markdown",
   "metadata": {},
   "source": [
    "#### Plot the timeseries and the (partial) autocorrelations\n",
    "\n",
    "Compare before and after differencing. Do you think that your model will require differencing?"
   ]
  },
  {
   "cell_type": "code",
   "execution_count": null,
   "metadata": {},
   "outputs": [],
   "source": []
  },
  {
   "cell_type": "markdown",
   "metadata": {},
   "source": [
    "#### Fit an ARIMA model\n",
    "\n",
    "1. Use automatic selection based on AIC to select the best model order\n",
    "2. Use cross validation to select the best model order and compare"
   ]
  },
  {
   "cell_type": "code",
   "execution_count": null,
   "metadata": {},
   "outputs": [],
   "source": []
  },
  {
   "cell_type": "markdown",
   "metadata": {},
   "source": [
    "#### Do the same with the CRSP data"
   ]
  },
  {
   "cell_type": "code",
   "execution_count": null,
   "metadata": {},
   "outputs": [],
   "source": []
  },
  {
   "cell_type": "markdown",
   "metadata": {},
   "source": [
    "### Load the Mishkin dataset. \n",
    "\n",
    "- Consider the time series of the logarithm of the tb1 (monthly one-month T-bill rates) values. \n",
    "- Judge from autocorrelation plots how much differencing is required to obtain a stationary time series. \n",
    "- Fit an ARMA model to the resulting time series. \n",
    "\n",
    "#### Bonus: Use also the columns on one-month inflation rate (pai1) and consumer price index for urban consumers (cpi)."
   ]
  },
  {
   "cell_type": "code",
   "execution_count": 17,
   "metadata": {},
   "outputs": [
    {
     "name": "stderr",
     "output_type": "stream",
     "text": [
      "/Users/crahmede/anaconda3/lib/python3.7/site-packages/statsmodels/datasets/utils.py:192: FutureWarning: `item` has been deprecated and will be removed in a future version\n",
      "  return dataset_meta[\"Title\"].item()\n"
     ]
    }
   ],
   "source": [
    "data_1 = sm.datasets.get_rdataset('Mishkin', package='Ecdat')"
   ]
  },
  {
   "cell_type": "code",
   "execution_count": 18,
   "metadata": {},
   "outputs": [
    {
     "name": "stdout",
     "output_type": "stream",
     "text": [
      "+---------+-----------------+\n",
      "| Mishkin | R Documentation |\n",
      "+---------+-----------------+\n",
      "\n",
      "Inflation and Interest Rates\n",
      "----------------------------\n",
      "\n",
      "Description\n",
      "~~~~~~~~~~~\n",
      "\n",
      "monthly observations from 1950-2 to 1990-12\n",
      "\n",
      "*number of observations* : 491\n",
      "\n",
      "*observation* : country\n",
      "\n",
      "*country* : United States\n",
      "\n",
      "Usage\n",
      "~~~~~\n",
      "\n",
      "::\n",
      "\n",
      "   data(Mishkin)\n",
      "\n",
      "Format\n",
      "~~~~~~\n",
      "\n",
      "A time serie containing :\n",
      "\n",
      "pai1\n",
      "   one-month inflation rate (in percent, annual rate)\n",
      "\n",
      "pai3\n",
      "   three-month inflation rate (in percent, annual rate)\n",
      "\n",
      "tb1\n",
      "   one-month T-bill rate (in percent, annual rate)\n",
      "\n",
      "tb3\n",
      "   three-month T-bill rate (in percent, annual rate)\n",
      "\n",
      "cpi\n",
      "   CPI for urban consumers, all items (the 1982-1984 average is set to\n",
      "   100)\n",
      "\n",
      "Source\n",
      "~~~~~~\n",
      "\n",
      "Mishkin, F. (1992) “Is the Fisher effect for real ?”, *Journal of\n",
      "Monetary Economics*, **30**, 195-215.\n",
      "\n",
      "References\n",
      "~~~~~~~~~~\n",
      "\n",
      "Hayashi, F. (2000) *Econometrics*, Princeton University Press,\n",
      "http://fhayashi.fc2web.com/hayashi_econometrics.htm, chapter 2, 176-184.\n",
      "\n",
      "See Also\n",
      "~~~~~~~~\n",
      "\n",
      "``Index.Source``, ``Index.Economics``, ``Index.Econometrics``,\n",
      "``Index.Observations``,\n",
      "\n",
      "``Index.Time.Series``\n",
      "\n"
     ]
    }
   ],
   "source": [
    "print(data_1.__doc__)"
   ]
  },
  {
   "cell_type": "code",
   "execution_count": 19,
   "metadata": {},
   "outputs": [],
   "source": [
    "dates = pd.period_range(start='1950-02-01', end='1990-12-01', freq='M')"
   ]
  },
  {
   "cell_type": "code",
   "execution_count": 20,
   "metadata": {},
   "outputs": [
    {
     "data": {
      "text/html": [
       "<div>\n",
       "<style scoped>\n",
       "    .dataframe tbody tr th:only-of-type {\n",
       "        vertical-align: middle;\n",
       "    }\n",
       "\n",
       "    .dataframe tbody tr th {\n",
       "        vertical-align: top;\n",
       "    }\n",
       "\n",
       "    .dataframe thead th {\n",
       "        text-align: right;\n",
       "    }\n",
       "</style>\n",
       "<table border=\"1\" class=\"dataframe\">\n",
       "  <thead>\n",
       "    <tr style=\"text-align: right;\">\n",
       "      <th></th>\n",
       "      <th>pai1</th>\n",
       "      <th>pai3</th>\n",
       "      <th>tb1</th>\n",
       "      <th>tb3</th>\n",
       "      <th>cpi</th>\n",
       "      <th>tb1log</th>\n",
       "    </tr>\n",
       "  </thead>\n",
       "  <tbody>\n",
       "    <tr>\n",
       "      <td>1950-02</td>\n",
       "      <td>-3.552289</td>\n",
       "      <td>1.129370</td>\n",
       "      <td>1.100854</td>\n",
       "      <td>1.129406</td>\n",
       "      <td>23.5</td>\n",
       "      <td>0.096086</td>\n",
       "    </tr>\n",
       "    <tr>\n",
       "      <td>1950-03</td>\n",
       "      <td>5.247540</td>\n",
       "      <td>4.001566</td>\n",
       "      <td>1.125513</td>\n",
       "      <td>1.137254</td>\n",
       "      <td>23.6</td>\n",
       "      <td>0.118239</td>\n",
       "    </tr>\n",
       "    <tr>\n",
       "      <td>1950-04</td>\n",
       "      <td>1.692860</td>\n",
       "      <td>4.492160</td>\n",
       "      <td>1.115715</td>\n",
       "      <td>1.142319</td>\n",
       "      <td>23.6</td>\n",
       "      <td>0.109495</td>\n",
       "    </tr>\n",
       "    <tr>\n",
       "      <td>1950-05</td>\n",
       "      <td>5.064298</td>\n",
       "      <td>7.817513</td>\n",
       "      <td>1.146380</td>\n",
       "      <td>1.177902</td>\n",
       "      <td>23.7</td>\n",
       "      <td>0.136609</td>\n",
       "    </tr>\n",
       "    <tr>\n",
       "      <td>1950-06</td>\n",
       "      <td>6.719322</td>\n",
       "      <td>9.433580</td>\n",
       "      <td>1.158520</td>\n",
       "      <td>1.167777</td>\n",
       "      <td>23.8</td>\n",
       "      <td>0.147143</td>\n",
       "    </tr>\n",
       "  </tbody>\n",
       "</table>\n",
       "</div>"
      ],
      "text/plain": [
       "             pai1      pai3       tb1       tb3   cpi    tb1log\n",
       "1950-02 -3.552289  1.129370  1.100854  1.129406  23.5  0.096086\n",
       "1950-03  5.247540  4.001566  1.125513  1.137254  23.6  0.118239\n",
       "1950-04  1.692860  4.492160  1.115715  1.142319  23.6  0.109495\n",
       "1950-05  5.064298  7.817513  1.146380  1.177902  23.7  0.136609\n",
       "1950-06  6.719322  9.433580  1.158520  1.167777  23.8  0.147143"
      ]
     },
     "execution_count": 20,
     "metadata": {},
     "output_type": "execute_result"
    }
   ],
   "source": [
    "df_1 = data_1.data\n",
    "df_1.index = dates\n",
    "df_1['tb1log'] = np.log(df_1.tb1)\n",
    "df_1.head()"
   ]
  },
  {
   "cell_type": "markdown",
   "metadata": {},
   "source": [
    "#### Plot the time series for the tb1 data before and after taking the logarithm, and plot it together with the one or two times differenced timeseries"
   ]
  },
  {
   "cell_type": "code",
   "execution_count": null,
   "metadata": {},
   "outputs": [],
   "source": []
  },
  {
   "cell_type": "markdown",
   "metadata": {},
   "source": [
    "#### Plot the (partial) autocorrelations before and after differencing and compare"
   ]
  },
  {
   "cell_type": "code",
   "execution_count": null,
   "metadata": {},
   "outputs": [],
   "source": []
  },
  {
   "cell_type": "markdown",
   "metadata": {},
   "source": [
    "#### Select the best model order according to AIC and cross validation and compare"
   ]
  },
  {
   "cell_type": "code",
   "execution_count": null,
   "metadata": {},
   "outputs": [],
   "source": []
  }
 ],
 "metadata": {
  "anaconda-cloud": {},
  "kernelspec": {
   "display_name": "Python 3",
   "language": "python",
   "name": "python3"
  },
  "language_info": {
   "codemirror_mode": {
    "name": "ipython",
    "version": 3
   },
   "file_extension": ".py",
   "mimetype": "text/x-python",
   "name": "python",
   "nbconvert_exporter": "python",
   "pygments_lexer": "ipython3",
   "version": "3.7.4"
  },
  "toc": {
   "base_numbering": 1,
   "nav_menu": {},
   "number_sections": false,
   "sideBar": true,
   "skip_h1_title": true,
   "title_cell": "Lab Guide",
   "title_sidebar": "Contents",
   "toc_cell": true,
   "toc_position": {},
   "toc_section_display": "block",
   "toc_window_display": false
  }
 },
 "nbformat": 4,
 "nbformat_minor": 1
}
