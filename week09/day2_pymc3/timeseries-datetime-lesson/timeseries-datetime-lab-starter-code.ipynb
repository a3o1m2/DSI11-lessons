{
 "cells": [
  {
   "cell_type": "markdown",
   "metadata": {},
   "source": [
    "<img src=\"http://imgur.com/1ZcRyrc.png\" style=\"float: left; margin: 20px; height: 55px\">\n",
    "\n",
    "# Practice Using Timeseries Data and Datetime\n",
    "\n",
    "---"
   ]
  },
  {
   "cell_type": "markdown",
   "metadata": {},
   "source": [
    "This lab covers the basics of manipulating datetime objects and using datetimes in pandas."
   ]
  },
  {
   "cell_type": "markdown",
   "metadata": {
    "toc": true
   },
   "source": [
    "<h1>Lab Guide<span class=\"tocSkip\"></span></h1>\n",
    "<div class=\"toc\"><ul class=\"toc-item\"><li><span><a href=\"#Practice-Using-Timeseries-Data-and-Datetime\" data-toc-modified-id=\"Practice-Using-Timeseries-Data-and-Datetime-1\">Practice Using Timeseries Data and Datetime</a></span><ul class=\"toc-item\"><li><ul class=\"toc-item\"><li><span><a href=\"#1.-Create-a-datetime-object-representing-today's-date\" data-toc-modified-id=\"1.-Create-a-datetime-object-representing-today's-date-1.0.1\">1. Create a datetime object representing today's date</a></span></li><li><span><a href=\"#2.-Write-a-function-to-print-the-day-of-the-week-for-a-datetime-object\" data-toc-modified-id=\"2.-Write-a-function-to-print-the-day-of-the-week-for-a-datetime-object-1.0.2\">2. Write a function to print the day of the week for a datetime object</a></span></li><li><span><a href=\"#3.-What-is-the-Gregorian-ordinal-representation-of-today's-date?-What-is-the-difference-in-days-between-the-ordinal-representation-of-today's-date-and-the-ordinal-representation-of-your-birthday?\" data-toc-modified-id=\"3.-What-is-the-Gregorian-ordinal-representation-of-today's-date?-What-is-the-difference-in-days-between-the-ordinal-representation-of-today's-date-and-the-ordinal-representation-of-your-birthday?-1.0.3\">3. What is the Gregorian ordinal representation of today's date? What is the difference in days between the ordinal representation of today's date and the ordinal representation of your birthday?</a></span></li><li><span><a href=\"#4.-Try-using-timedelta-to-shift-our-datetime-object-by-the-following-intervals:\" data-toc-modified-id=\"4.-Try-using-timedelta-to-shift-our-datetime-object-by-the-following-intervals:-1.0.4\">4. Try using <code>timedelta</code> to shift our datetime object by the following intervals:</a></span></li><li><span><a href=\"#5.-Load-the-stock-data-for-AAPL\" data-toc-modified-id=\"5.-Load-the-stock-data-for-AAPL-1.0.5\">5. Load the stock data for AAPL</a></span><ul class=\"toc-item\"><li><span><a href=\"#Load-the-data\" data-toc-modified-id=\"Load-the-data-1.0.5.1\">Load the data</a></span></li><li><span><a href=\"#Inspect-the-columns\" data-toc-modified-id=\"Inspect-the-columns-1.0.5.2\">Inspect the columns</a></span></li><li><span><a href=\"#Sort-the-rows-by-Date-in-ascending-order\" data-toc-modified-id=\"Sort-the-rows-by-Date-in-ascending-order-1.0.5.3\">Sort the rows by <code>Date</code> in ascending order</a></span></li></ul></li><li><span><a href=\"#6.-Take-a-high-level-look-at-the-data.-Describe-it.-What-are-we-looking-at?\" data-toc-modified-id=\"6.-Take-a-high-level-look-at-the-data.-Describe-it.-What-are-we-looking-at?-1.0.6\">6. Take a high-level look at the data. Describe it. What are we looking at?</a></span><ul class=\"toc-item\"><li><span><a href=\"#Plot-the-values-of-the-columns-Open,-Close,-High,-Low\" data-toc-modified-id=\"Plot-the-values-of-the-columns-Open,-Close,-High,-Low-1.0.6.1\">Plot the values of the columns <code>Open</code>, <code>Close</code>, <code>High</code>, <code>Low</code></a></span></li><li><span><a href=\"#Plot-the-values-in-the-column-Volume\" data-toc-modified-id=\"Plot-the-values-in-the-column-Volume-1.0.6.2\">Plot the values in the column <code>Volume</code></a></span></li><li><span><a href=\"#Check-the-type-of-the-individual-entries-in-the-Date-column\" data-toc-modified-id=\"Check-the-type-of-the-individual-entries-in-the-Date-column-1.0.6.3\">Check the type of the individual entries in the <code>Date</code> column</a></span></li><li><span><a href=\"#Transform-the-Date-column-into-DateTime-format\" data-toc-modified-id=\"Transform-the-Date-column-into-DateTime-format-1.0.6.4\">Transform the <code>Date</code> column into DateTime format</a></span></li></ul></li><li><span><a href=\"#7.-Make-the-Date-column-the-index-of-the-DataFrame\" data-toc-modified-id=\"7.-Make-the-Date-column-the-index-of-the-DataFrame-1.0.7\">7. Make the <code>Date</code> column the index of the DataFrame</a></span></li><li><span><a href=\"#8.-Plot-the-data-again-using-panda's-now-that-you-have-a-datetime-index\" data-toc-modified-id=\"8.-Plot-the-data-again-using-panda's-now-that-you-have-a-datetime-index-1.0.8\">8. Plot the data again using panda's now that you have a datetime index</a></span></li><li><span><a href=\"#9.-Add-columns-with-useful-data-extracted-from-the-DateTime-index\" data-toc-modified-id=\"9.-Add-columns-with-useful-data-extracted-from-the-DateTime-index-1.0.9\">9. Add columns with useful data extracted from the DateTime index</a></span></li><li><span><a href=\"#10.-Create-a-subset-of-the-data-containing-only-2017-dates\" data-toc-modified-id=\"10.-Create-a-subset-of-the-data-containing-only-2017-dates-1.0.10\">10. Create a subset of the data containing only 2017 dates</a></span></li><li><span><a href=\"#11.-Subset-the-data-on-those-dates-which-are-on-a-Tuesday\" data-toc-modified-id=\"11.-Subset-the-data-on-those-dates-which-are-on-a-Tuesday-1.0.11\">11. Subset the data on those dates which are on a Tuesday</a></span></li><li><span><a href=\"#12.-Subset-the-data-on-those-dates-which-are-in-December\" data-toc-modified-id=\"12.-Subset-the-data-on-those-dates-which-are-in-December-1.0.12\">12. Subset the data on those dates which are in December</a></span></li><li><span><a href=\"#13.-Subset-the-data-on-those-dates-which-are-before-12/01/2017\" data-toc-modified-id=\"13.-Subset-the-data-on-those-dates-which-are-before-12/01/2017-1.0.13\">13. Subset the data on those dates which are before 12/01/2017</a></span></li><li><span><a href=\"#14.-Date-ranges\" data-toc-modified-id=\"14.-Date-ranges-1.0.14\">14. Date ranges</a></span></li></ul></li></ul></li></ul></div>"
   ]
  },
  {
   "cell_type": "code",
   "execution_count": 81,
   "metadata": {},
   "outputs": [],
   "source": [
    "import pandas as pd\n",
    "import numpy as np\n",
    "import matplotlib.pyplot as plt\n",
    "import seaborn as sns\n",
    " \n",
    "plt.style.use('fivethirtyeight')\n",
    "\n",
    "%config InlineBackend.figure_format = 'retina'\n",
    "%matplotlib inline"
   ]
  },
  {
   "cell_type": "code",
   "execution_count": 82,
   "metadata": {},
   "outputs": [],
   "source": [
    "from datetime import datetime\n",
    "from datetime import timedelta"
   ]
  },
  {
   "cell_type": "markdown",
   "metadata": {},
   "source": [
    "### 1. Create a datetime object representing today's date"
   ]
  },
  {
   "cell_type": "code",
   "execution_count": 83,
   "metadata": {},
   "outputs": [],
   "source": [
    "today = pd.to_datetime('11/02/2020', format='%d/%m/%Y')"
   ]
  },
  {
   "cell_type": "markdown",
   "metadata": {},
   "source": [
    "### 2. Write a function to print the day of the week for a datetime object"
   ]
  },
  {
   "cell_type": "code",
   "execution_count": 69,
   "metadata": {},
   "outputs": [
    {
     "data": {
      "text/plain": [
       "'Tuesday'"
      ]
     },
     "execution_count": 69,
     "metadata": {},
     "output_type": "execute_result"
    }
   ],
   "source": [
    "def day_of_week(obj):\n",
    "    import calendar\n",
    "    return calendar.day_name[obj.weekday()]\n",
    "\n",
    "day_of_week(today)"
   ]
  },
  {
   "cell_type": "markdown",
   "metadata": {},
   "source": [
    "### 3. What is the Gregorian ordinal representation of today's date? What is the difference in days between the ordinal representation of today's date and the ordinal representation of your birthday?\n",
    "\n",
    "> **Hint:** `.toordinal()` will get you the ordinal representation. The aim is to calculate the number of days between your birthday and today."
   ]
  },
  {
   "cell_type": "code",
   "execution_count": 17,
   "metadata": {},
   "outputs": [
    {
     "data": {
      "text/plain": [
       "12498"
      ]
     },
     "execution_count": 17,
     "metadata": {},
     "output_type": "execute_result"
    }
   ],
   "source": [
    "my_birthday = pd.to_datetime('23/11/1985', format='%d/%m/%Y')\n",
    "today.toordinal()-my_birthday.toordinal()"
   ]
  },
  {
   "cell_type": "markdown",
   "metadata": {},
   "source": [
    "### 4. Try using `timedelta` to shift our datetime object by the following intervals:\n",
    "- 1 hour ahead\n",
    "- 3 days ago\n",
    "- 1 year, 3 days, 2 seconds ahead"
   ]
  },
  {
   "cell_type": "code",
   "execution_count": 19,
   "metadata": {},
   "outputs": [
    {
     "name": "stdout",
     "output_type": "stream",
     "text": [
      "+1hr: 2020-02-11 01:00:00\n",
      "-3d: 2020-02-14 00:00:00\n",
      "+1y,3d,2s: 2021-02-13 00:00:02\n"
     ]
    }
   ],
   "source": [
    "from datetime import timedelta\n",
    "\n",
    "print('+1hr:', today + timedelta(hours=1))\n",
    "print('-3d:', today + timedelta(days=3))\n",
    "print('+1y,3d,2s:', today + timedelta(days=365+3, seconds=2))"
   ]
  },
  {
   "cell_type": "markdown",
   "metadata": {},
   "source": [
    "### 5. Load the stock data for AAPL\n",
    "\n",
    "\n",
    "- `Close`: The price of AAPL when the stock market closes (at 4:30pm ET)\n",
    "- `High`: The highest price of AAPL during that trading day\n",
    "- `Low`: The lowest price of AAPL during that trading day\n",
    "- `Open`: The price of AAPL when the stock market opens (at 9:30am ET)\n",
    "- `Volume`: How many shares of AAPL were traded that day"
   ]
  },
  {
   "cell_type": "code",
   "execution_count": 20,
   "metadata": {},
   "outputs": [],
   "source": [
    "from datetime import timedelta"
   ]
  },
  {
   "cell_type": "markdown",
   "metadata": {},
   "source": [
    "#### Load the data"
   ]
  },
  {
   "cell_type": "code",
   "execution_count": 84,
   "metadata": {},
   "outputs": [
    {
     "data": {
      "text/html": [
       "<div>\n",
       "<style scoped>\n",
       "    .dataframe tbody tr th:only-of-type {\n",
       "        vertical-align: middle;\n",
       "    }\n",
       "\n",
       "    .dataframe tbody tr th {\n",
       "        vertical-align: top;\n",
       "    }\n",
       "\n",
       "    .dataframe thead th {\n",
       "        text-align: right;\n",
       "    }\n",
       "</style>\n",
       "<table border=\"1\" class=\"dataframe\">\n",
       "  <thead>\n",
       "    <tr style=\"text-align: right;\">\n",
       "      <th></th>\n",
       "      <th>Date</th>\n",
       "      <th>Open</th>\n",
       "      <th>High</th>\n",
       "      <th>Low</th>\n",
       "      <th>Close</th>\n",
       "      <th>Volume</th>\n",
       "    </tr>\n",
       "  </thead>\n",
       "  <tbody>\n",
       "    <tr>\n",
       "      <th>0</th>\n",
       "      <td>2017-01-13</td>\n",
       "      <td>119.11</td>\n",
       "      <td>119.62</td>\n",
       "      <td>118.81</td>\n",
       "      <td>119.04</td>\n",
       "      <td>26111948</td>\n",
       "    </tr>\n",
       "    <tr>\n",
       "      <th>1</th>\n",
       "      <td>2017-01-12</td>\n",
       "      <td>118.90</td>\n",
       "      <td>119.30</td>\n",
       "      <td>118.21</td>\n",
       "      <td>119.25</td>\n",
       "      <td>27086220</td>\n",
       "    </tr>\n",
       "    <tr>\n",
       "      <th>2</th>\n",
       "      <td>2017-01-11</td>\n",
       "      <td>118.74</td>\n",
       "      <td>119.93</td>\n",
       "      <td>118.60</td>\n",
       "      <td>119.75</td>\n",
       "      <td>27588593</td>\n",
       "    </tr>\n",
       "    <tr>\n",
       "      <th>3</th>\n",
       "      <td>2017-01-10</td>\n",
       "      <td>118.77</td>\n",
       "      <td>119.38</td>\n",
       "      <td>118.30</td>\n",
       "      <td>119.11</td>\n",
       "      <td>24462051</td>\n",
       "    </tr>\n",
       "    <tr>\n",
       "      <th>4</th>\n",
       "      <td>2017-01-09</td>\n",
       "      <td>117.95</td>\n",
       "      <td>119.43</td>\n",
       "      <td>117.94</td>\n",
       "      <td>118.99</td>\n",
       "      <td>33561948</td>\n",
       "    </tr>\n",
       "  </tbody>\n",
       "</table>\n",
       "</div>"
      ],
      "text/plain": [
       "        Date    Open    High     Low   Close    Volume\n",
       "0 2017-01-13  119.11  119.62  118.81  119.04  26111948\n",
       "1 2017-01-12  118.90  119.30  118.21  119.25  27086220\n",
       "2 2017-01-11  118.74  119.93  118.60  119.75  27588593\n",
       "3 2017-01-10  118.77  119.38  118.30  119.11  24462051\n",
       "4 2017-01-09  117.95  119.43  117.94  118.99  33561948"
      ]
     },
     "execution_count": 84,
     "metadata": {},
     "output_type": "execute_result"
    }
   ],
   "source": [
    "df = pd.read_csv('../../../../resource-datasets/apple_stocks/aapl.csv', parse_dates=['Date'])\n",
    "df.head()"
   ]
  },
  {
   "cell_type": "markdown",
   "metadata": {},
   "source": [
    "#### Inspect the columns"
   ]
  },
  {
   "cell_type": "code",
   "execution_count": 26,
   "metadata": {},
   "outputs": [
    {
     "data": {
      "text/plain": [
       "Date      datetime64[ns]\n",
       "Open             float64\n",
       "High             float64\n",
       "Low              float64\n",
       "Close            float64\n",
       "Volume             int64\n",
       "dtype: object"
      ]
     },
     "execution_count": 26,
     "metadata": {},
     "output_type": "execute_result"
    }
   ],
   "source": [
    "df.dtypes"
   ]
  },
  {
   "cell_type": "markdown",
   "metadata": {},
   "source": [
    "#### Sort the rows by `Date` in ascending order"
   ]
  },
  {
   "cell_type": "code",
   "execution_count": 85,
   "metadata": {},
   "outputs": [],
   "source": [
    "df.sort_values('Date',inplace=True)"
   ]
  },
  {
   "cell_type": "markdown",
   "metadata": {},
   "source": [
    "### 6. Take a high-level look at the data. Describe it. What are we looking at? "
   ]
  },
  {
   "cell_type": "code",
   "execution_count": 29,
   "metadata": {},
   "outputs": [
    {
     "data": {
      "text/html": [
       "<div>\n",
       "<style scoped>\n",
       "    .dataframe tbody tr th:only-of-type {\n",
       "        vertical-align: middle;\n",
       "    }\n",
       "\n",
       "    .dataframe tbody tr th {\n",
       "        vertical-align: top;\n",
       "    }\n",
       "\n",
       "    .dataframe thead th {\n",
       "        text-align: right;\n",
       "    }\n",
       "</style>\n",
       "<table border=\"1\" class=\"dataframe\">\n",
       "  <thead>\n",
       "    <tr style=\"text-align: right;\">\n",
       "      <th></th>\n",
       "      <th>Date</th>\n",
       "      <th>Open</th>\n",
       "      <th>High</th>\n",
       "      <th>Low</th>\n",
       "      <th>Close</th>\n",
       "      <th>Volume</th>\n",
       "    </tr>\n",
       "  </thead>\n",
       "  <tbody>\n",
       "    <tr>\n",
       "      <th>count</th>\n",
       "      <td>251</td>\n",
       "      <td>251.000000</td>\n",
       "      <td>251.000000</td>\n",
       "      <td>251.000000</td>\n",
       "      <td>251.000000</td>\n",
       "      <td>2.510000e+02</td>\n",
       "    </tr>\n",
       "    <tr>\n",
       "      <th>unique</th>\n",
       "      <td>251</td>\n",
       "      <td>NaN</td>\n",
       "      <td>NaN</td>\n",
       "      <td>NaN</td>\n",
       "      <td>NaN</td>\n",
       "      <td>NaN</td>\n",
       "    </tr>\n",
       "    <tr>\n",
       "      <th>top</th>\n",
       "      <td>2016-09-08 00:00:00</td>\n",
       "      <td>NaN</td>\n",
       "      <td>NaN</td>\n",
       "      <td>NaN</td>\n",
       "      <td>NaN</td>\n",
       "      <td>NaN</td>\n",
       "    </tr>\n",
       "    <tr>\n",
       "      <th>freq</th>\n",
       "      <td>1</td>\n",
       "      <td>NaN</td>\n",
       "      <td>NaN</td>\n",
       "      <td>NaN</td>\n",
       "      <td>NaN</td>\n",
       "      <td>NaN</td>\n",
       "    </tr>\n",
       "    <tr>\n",
       "      <th>first</th>\n",
       "      <td>2016-01-19 00:00:00</td>\n",
       "      <td>NaN</td>\n",
       "      <td>NaN</td>\n",
       "      <td>NaN</td>\n",
       "      <td>NaN</td>\n",
       "      <td>NaN</td>\n",
       "    </tr>\n",
       "    <tr>\n",
       "      <th>last</th>\n",
       "      <td>2017-01-13 00:00:00</td>\n",
       "      <td>NaN</td>\n",
       "      <td>NaN</td>\n",
       "      <td>NaN</td>\n",
       "      <td>NaN</td>\n",
       "      <td>NaN</td>\n",
       "    </tr>\n",
       "    <tr>\n",
       "      <th>mean</th>\n",
       "      <td>NaN</td>\n",
       "      <td>105.155100</td>\n",
       "      <td>106.060518</td>\n",
       "      <td>104.392550</td>\n",
       "      <td>105.292191</td>\n",
       "      <td>3.674495e+07</td>\n",
       "    </tr>\n",
       "    <tr>\n",
       "      <th>std</th>\n",
       "      <td>NaN</td>\n",
       "      <td>7.905047</td>\n",
       "      <td>7.876708</td>\n",
       "      <td>7.995679</td>\n",
       "      <td>7.963102</td>\n",
       "      <td>1.609059e+07</td>\n",
       "    </tr>\n",
       "    <tr>\n",
       "      <th>min</th>\n",
       "      <td>NaN</td>\n",
       "      <td>90.000000</td>\n",
       "      <td>91.670000</td>\n",
       "      <td>89.470000</td>\n",
       "      <td>90.340000</td>\n",
       "      <td>1.147592e+07</td>\n",
       "    </tr>\n",
       "    <tr>\n",
       "      <th>25%</th>\n",
       "      <td>NaN</td>\n",
       "      <td>97.355000</td>\n",
       "      <td>98.220000</td>\n",
       "      <td>96.690000</td>\n",
       "      <td>97.340000</td>\n",
       "      <td>2.665144e+07</td>\n",
       "    </tr>\n",
       "    <tr>\n",
       "      <th>50%</th>\n",
       "      <td>NaN</td>\n",
       "      <td>106.270000</td>\n",
       "      <td>107.270000</td>\n",
       "      <td>105.500000</td>\n",
       "      <td>106.100000</td>\n",
       "      <td>3.229234e+07</td>\n",
       "    </tr>\n",
       "    <tr>\n",
       "      <th>75%</th>\n",
       "      <td>NaN</td>\n",
       "      <td>111.450000</td>\n",
       "      <td>112.370000</td>\n",
       "      <td>110.700000</td>\n",
       "      <td>111.750000</td>\n",
       "      <td>4.137394e+07</td>\n",
       "    </tr>\n",
       "    <tr>\n",
       "      <th>max</th>\n",
       "      <td>NaN</td>\n",
       "      <td>119.110000</td>\n",
       "      <td>119.930000</td>\n",
       "      <td>118.810000</td>\n",
       "      <td>119.750000</td>\n",
       "      <td>1.322245e+08</td>\n",
       "    </tr>\n",
       "  </tbody>\n",
       "</table>\n",
       "</div>"
      ],
      "text/plain": [
       "                       Date        Open        High         Low       Close  \\\n",
       "count                   251  251.000000  251.000000  251.000000  251.000000   \n",
       "unique                  251         NaN         NaN         NaN         NaN   \n",
       "top     2016-09-08 00:00:00         NaN         NaN         NaN         NaN   \n",
       "freq                      1         NaN         NaN         NaN         NaN   \n",
       "first   2016-01-19 00:00:00         NaN         NaN         NaN         NaN   \n",
       "last    2017-01-13 00:00:00         NaN         NaN         NaN         NaN   \n",
       "mean                    NaN  105.155100  106.060518  104.392550  105.292191   \n",
       "std                     NaN    7.905047    7.876708    7.995679    7.963102   \n",
       "min                     NaN   90.000000   91.670000   89.470000   90.340000   \n",
       "25%                     NaN   97.355000   98.220000   96.690000   97.340000   \n",
       "50%                     NaN  106.270000  107.270000  105.500000  106.100000   \n",
       "75%                     NaN  111.450000  112.370000  110.700000  111.750000   \n",
       "max                     NaN  119.110000  119.930000  118.810000  119.750000   \n",
       "\n",
       "              Volume  \n",
       "count   2.510000e+02  \n",
       "unique           NaN  \n",
       "top              NaN  \n",
       "freq             NaN  \n",
       "first            NaN  \n",
       "last             NaN  \n",
       "mean    3.674495e+07  \n",
       "std     1.609059e+07  \n",
       "min     1.147592e+07  \n",
       "25%     2.665144e+07  \n",
       "50%     3.229234e+07  \n",
       "75%     4.137394e+07  \n",
       "max     1.322245e+08  "
      ]
     },
     "execution_count": 29,
     "metadata": {},
     "output_type": "execute_result"
    }
   ],
   "source": [
    "df.describe(include='all')"
   ]
  },
  {
   "cell_type": "markdown",
   "metadata": {},
   "source": [
    "#### Plot the values of the columns `Open`, `Close`, `High`, `Low`"
   ]
  },
  {
   "cell_type": "code",
   "execution_count": 38,
   "metadata": {},
   "outputs": [
    {
     "data": {
      "image/png": "[encoded data removed]",
      "text/plain": [
       "<Figure size 432x288 with 1 Axes>"
      ]
     },
     "metadata": {
      "image/png": {
       "height": 259,
       "width": 417
      },
      "needs_background": "light"
     },
     "output_type": "display_data"
    },
    {
     "data": {
      "image/png": "[encoded data removed]",
      "text/plain": [
       "<Figure size 432x288 with 1 Axes>"
      ]
     },
     "metadata": {
      "image/png": {
       "height": 258,
       "width": 417
      },
      "needs_background": "light"
     },
     "output_type": "display_data"
    },
    {
     "data": {
      "image/png": "[encoded data removed]",
      "text/plain": [
       "<Figure size 432x288 with 1 Axes>"
      ]
     },
     "metadata": {
      "image/png": {
       "height": 258,
       "width": 417
      },
      "needs_background": "light"
     },
     "output_type": "display_data"
    },
    {
     "data": {
      "image/png": "[encoded data removed]",
      "text/plain": [
       "<Figure size 432x288 with 1 Axes>"
      ]
     },
     "metadata": {
      "image/png": {
       "height": 261,
       "width": 417
      },
      "needs_background": "light"
     },
     "output_type": "display_data"
    }
   ],
   "source": [
    "df.plot(x='Date',y='Open',c='b')\n",
    "df.plot(x='Date',y='Close',c='r')\n",
    "df.plot(x='Date',y='High',c='g')\n",
    "df.plot(x='Date',y='Low',c='y');"
   ]
  },
  {
   "cell_type": "markdown",
   "metadata": {},
   "source": [
    "#### Plot the values in the column `Volume`\n",
    "\n",
    "Why would you not plot these values together with the ones of the other variables?"
   ]
  },
  {
   "cell_type": "code",
   "execution_count": 40,
   "metadata": {},
   "outputs": [
    {
     "data": {
      "image/png": "[encoded data removed]",
      "text/plain": [
       "<Figure size 432x288 with 1 Axes>"
      ]
     },
     "metadata": {
      "image/png": {
       "height": 269,
       "width": 417
      },
      "needs_background": "light"
     },
     "output_type": "display_data"
    }
   ],
   "source": [
    "df.plot(x='Date',y='Volume',c='b');\n",
    "# different scales"
   ]
  },
  {
   "cell_type": "markdown",
   "metadata": {},
   "source": [
    "#### Check the type of the individual entries in the `Date` column"
   ]
  },
  {
   "cell_type": "code",
   "execution_count": 44,
   "metadata": {},
   "outputs": [
    {
     "name": "stdout",
     "output_type": "stream",
     "text": [
      "<class 'pandas.core.frame.DataFrame'>\n",
      "Int64Index: 251 entries, 250 to 0\n",
      "Data columns (total 6 columns):\n",
      "Date      251 non-null datetime64[ns]\n",
      "Open      251 non-null float64\n",
      "High      251 non-null float64\n",
      "Low       251 non-null float64\n",
      "Close     251 non-null float64\n",
      "Volume    251 non-null int64\n",
      "dtypes: datetime64[ns](1), float64(4), int64(1)\n",
      "memory usage: 13.7 KB\n"
     ]
    }
   ],
   "source": [
    "df.info()"
   ]
  },
  {
   "cell_type": "markdown",
   "metadata": {},
   "source": [
    "#### Transform the `Date` column into DateTime format"
   ]
  },
  {
   "cell_type": "code",
   "execution_count": 86,
   "metadata": {},
   "outputs": [
    {
     "name": "stdout",
     "output_type": "stream",
     "text": [
      "<class 'pandas.core.frame.DataFrame'>\n",
      "Int64Index: 251 entries, 250 to 0\n",
      "Data columns (total 6 columns):\n",
      "Date      251 non-null datetime64[ns]\n",
      "Open      251 non-null float64\n",
      "High      251 non-null float64\n",
      "Low       251 non-null float64\n",
      "Close     251 non-null float64\n",
      "Volume    251 non-null int64\n",
      "dtypes: datetime64[ns](1), float64(4), int64(1)\n",
      "memory usage: 13.7 KB\n"
     ]
    }
   ],
   "source": [
    "df['Date'] = pd.to_datetime(df.Date)\n",
    "df.info()"
   ]
  },
  {
   "cell_type": "markdown",
   "metadata": {},
   "source": [
    "### 7. Make the `Date` column the index of the DataFrame\n",
    "\n",
    "Making the index a datetime allows us to easily order the data by time. Doing this will result in dataframe objects indexed by DateTime - literally Time Series!"
   ]
  },
  {
   "cell_type": "code",
   "execution_count": 88,
   "metadata": {},
   "outputs": [],
   "source": [
    "df.set_index('Date',inplace=True)"
   ]
  },
  {
   "cell_type": "markdown",
   "metadata": {},
   "source": [
    "### 8. Plot the data again using panda's now that you have a datetime index\n",
    "\n",
    "Which difference do you notice?"
   ]
  },
  {
   "cell_type": "code",
   "execution_count": 91,
   "metadata": {},
   "outputs": [
    {
     "ename": "KeyError",
     "evalue": "('Open', 'Close', 'High', 'Low')",
     "output_type": "error",
     "traceback": [
      "\u001b[0;31m---------------------------------------------------------------------------\u001b[0m",
      "\u001b[0;31mKeyError\u001b[0m                                  Traceback (most recent call last)",
      "\u001b[0;32m~/anaconda3/lib/python3.7/site-packages/pandas/core/indexes/base.py\u001b[0m in \u001b[0;36mget_loc\u001b[0;34m(self, key, method, tolerance)\u001b[0m\n\u001b[1;32m   2656\u001b[0m             \u001b[0;32mtry\u001b[0m\u001b[0;34m:\u001b[0m\u001b[0;34m\u001b[0m\u001b[0;34m\u001b[0m\u001b[0m\n\u001b[0;32m-> 2657\u001b[0;31m                 \u001b[0;32mreturn\u001b[0m \u001b[0mself\u001b[0m\u001b[0;34m.\u001b[0m\u001b[0m_engine\u001b[0m\u001b[0;34m.\u001b[0m\u001b[0mget_loc\u001b[0m\u001b[0;34m(\u001b[0m\u001b[0mkey\u001b[0m\u001b[0;34m)\u001b[0m\u001b[0;34m\u001b[0m\u001b[0;34m\u001b[0m\u001b[0m\n\u001b[0m\u001b[1;32m   2658\u001b[0m             \u001b[0;32mexcept\u001b[0m \u001b[0mKeyError\u001b[0m\u001b[0;34m:\u001b[0m\u001b[0;34m\u001b[0m\u001b[0;34m\u001b[0m\u001b[0m\n",
      "\u001b[0;32mpandas/_libs/index.pyx\u001b[0m in \u001b[0;36mpandas._libs.index.IndexEngine.get_loc\u001b[0;34m()\u001b[0m\n",
      "\u001b[0;32mpandas/_libs/index.pyx\u001b[0m in \u001b[0;36mpandas._libs.index.IndexEngine.get_loc\u001b[0;34m()\u001b[0m\n",
      "\u001b[0;32mpandas/_libs/hashtable_class_helper.pxi\u001b[0m in \u001b[0;36mpandas._libs.hashtable.PyObjectHashTable.get_item\u001b[0;34m()\u001b[0m\n",
      "\u001b[0;32mpandas/_libs/hashtable_class_helper.pxi\u001b[0m in \u001b[0;36mpandas._libs.hashtable.PyObjectHashTable.get_item\u001b[0;34m()\u001b[0m\n",
      "\u001b[0;31mKeyError\u001b[0m: ('Open', 'Close', 'High', 'Low')",
      "\nDuring handling of the above exception, another exception occurred:\n",
      "\u001b[0;31mKeyError\u001b[0m                                  Traceback (most recent call last)",
      "\u001b[0;32m<ipython-input-91-9e158e893a46>\u001b[0m in \u001b[0;36m<module>\u001b[0;34m\u001b[0m\n\u001b[0;32m----> 1\u001b[0;31m \u001b[0mdf\u001b[0m\u001b[0;34m[\u001b[0m\u001b[0;34m'Open'\u001b[0m\u001b[0;34m,\u001b[0m\u001b[0;34m'Close'\u001b[0m\u001b[0;34m,\u001b[0m\u001b[0;34m'High'\u001b[0m\u001b[0;34m,\u001b[0m\u001b[0;34m'Low'\u001b[0m\u001b[0;34m]\u001b[0m\u001b[0;34m.\u001b[0m\u001b[0mplot\u001b[0m\u001b[0;34m(\u001b[0m\u001b[0;34m)\u001b[0m\u001b[0;34m\u001b[0m\u001b[0;34m\u001b[0m\u001b[0m\n\u001b[0m",
      "\u001b[0;32m~/anaconda3/lib/python3.7/site-packages/pandas/core/frame.py\u001b[0m in \u001b[0;36m__getitem__\u001b[0;34m(self, key)\u001b[0m\n\u001b[1;32m   2925\u001b[0m             \u001b[0;32mif\u001b[0m \u001b[0mself\u001b[0m\u001b[0;34m.\u001b[0m\u001b[0mcolumns\u001b[0m\u001b[0;34m.\u001b[0m\u001b[0mnlevels\u001b[0m \u001b[0;34m>\u001b[0m \u001b[0;36m1\u001b[0m\u001b[0;34m:\u001b[0m\u001b[0;34m\u001b[0m\u001b[0;34m\u001b[0m\u001b[0m\n\u001b[1;32m   2926\u001b[0m                 \u001b[0;32mreturn\u001b[0m \u001b[0mself\u001b[0m\u001b[0;34m.\u001b[0m\u001b[0m_getitem_multilevel\u001b[0m\u001b[0;34m(\u001b[0m\u001b[0mkey\u001b[0m\u001b[0;34m)\u001b[0m\u001b[0;34m\u001b[0m\u001b[0;34m\u001b[0m\u001b[0m\n\u001b[0;32m-> 2927\u001b[0;31m             \u001b[0mindexer\u001b[0m \u001b[0;34m=\u001b[0m \u001b[0mself\u001b[0m\u001b[0;34m.\u001b[0m\u001b[0mcolumns\u001b[0m\u001b[0;34m.\u001b[0m\u001b[0mget_loc\u001b[0m\u001b[0;34m(\u001b[0m\u001b[0mkey\u001b[0m\u001b[0;34m)\u001b[0m\u001b[0;34m\u001b[0m\u001b[0;34m\u001b[0m\u001b[0m\n\u001b[0m\u001b[1;32m   2928\u001b[0m             \u001b[0;32mif\u001b[0m \u001b[0mis_integer\u001b[0m\u001b[0;34m(\u001b[0m\u001b[0mindexer\u001b[0m\u001b[0;34m)\u001b[0m\u001b[0;34m:\u001b[0m\u001b[0;34m\u001b[0m\u001b[0;34m\u001b[0m\u001b[0m\n\u001b[1;32m   2929\u001b[0m                 \u001b[0mindexer\u001b[0m \u001b[0;34m=\u001b[0m \u001b[0;34m[\u001b[0m\u001b[0mindexer\u001b[0m\u001b[0;34m]\u001b[0m\u001b[0;34m\u001b[0m\u001b[0;34m\u001b[0m\u001b[0m\n",
      "\u001b[0;32m~/anaconda3/lib/python3.7/site-packages/pandas/core/indexes/base.py\u001b[0m in \u001b[0;36mget_loc\u001b[0;34m(self, key, method, tolerance)\u001b[0m\n\u001b[1;32m   2657\u001b[0m                 \u001b[0;32mreturn\u001b[0m \u001b[0mself\u001b[0m\u001b[0;34m.\u001b[0m\u001b[0m_engine\u001b[0m\u001b[0;34m.\u001b[0m\u001b[0mget_loc\u001b[0m\u001b[0;34m(\u001b[0m\u001b[0mkey\u001b[0m\u001b[0;34m)\u001b[0m\u001b[0;34m\u001b[0m\u001b[0;34m\u001b[0m\u001b[0m\n\u001b[1;32m   2658\u001b[0m             \u001b[0;32mexcept\u001b[0m \u001b[0mKeyError\u001b[0m\u001b[0;34m:\u001b[0m\u001b[0;34m\u001b[0m\u001b[0;34m\u001b[0m\u001b[0m\n\u001b[0;32m-> 2659\u001b[0;31m                 \u001b[0;32mreturn\u001b[0m \u001b[0mself\u001b[0m\u001b[0;34m.\u001b[0m\u001b[0m_engine\u001b[0m\u001b[0;34m.\u001b[0m\u001b[0mget_loc\u001b[0m\u001b[0;34m(\u001b[0m\u001b[0mself\u001b[0m\u001b[0;34m.\u001b[0m\u001b[0m_maybe_cast_indexer\u001b[0m\u001b[0;34m(\u001b[0m\u001b[0mkey\u001b[0m\u001b[0;34m)\u001b[0m\u001b[0;34m)\u001b[0m\u001b[0;34m\u001b[0m\u001b[0;34m\u001b[0m\u001b[0m\n\u001b[0m\u001b[1;32m   2660\u001b[0m         \u001b[0mindexer\u001b[0m \u001b[0;34m=\u001b[0m \u001b[0mself\u001b[0m\u001b[0;34m.\u001b[0m\u001b[0mget_indexer\u001b[0m\u001b[0;34m(\u001b[0m\u001b[0;34m[\u001b[0m\u001b[0mkey\u001b[0m\u001b[0;34m]\u001b[0m\u001b[0;34m,\u001b[0m \u001b[0mmethod\u001b[0m\u001b[0;34m=\u001b[0m\u001b[0mmethod\u001b[0m\u001b[0;34m,\u001b[0m \u001b[0mtolerance\u001b[0m\u001b[0;34m=\u001b[0m\u001b[0mtolerance\u001b[0m\u001b[0;34m)\u001b[0m\u001b[0;34m\u001b[0m\u001b[0;34m\u001b[0m\u001b[0m\n\u001b[1;32m   2661\u001b[0m         \u001b[0;32mif\u001b[0m \u001b[0mindexer\u001b[0m\u001b[0;34m.\u001b[0m\u001b[0mndim\u001b[0m \u001b[0;34m>\u001b[0m \u001b[0;36m1\u001b[0m \u001b[0;32mor\u001b[0m \u001b[0mindexer\u001b[0m\u001b[0;34m.\u001b[0m\u001b[0msize\u001b[0m \u001b[0;34m>\u001b[0m \u001b[0;36m1\u001b[0m\u001b[0;34m:\u001b[0m\u001b[0;34m\u001b[0m\u001b[0;34m\u001b[0m\u001b[0m\n",
      "\u001b[0;32mpandas/_libs/index.pyx\u001b[0m in \u001b[0;36mpandas._libs.index.IndexEngine.get_loc\u001b[0;34m()\u001b[0m\n",
      "\u001b[0;32mpandas/_libs/index.pyx\u001b[0m in \u001b[0;36mpandas._libs.index.IndexEngine.get_loc\u001b[0;34m()\u001b[0m\n",
      "\u001b[0;32mpandas/_libs/hashtable_class_helper.pxi\u001b[0m in \u001b[0;36mpandas._libs.hashtable.PyObjectHashTable.get_item\u001b[0;34m()\u001b[0m\n",
      "\u001b[0;32mpandas/_libs/hashtable_class_helper.pxi\u001b[0m in \u001b[0;36mpandas._libs.hashtable.PyObjectHashTable.get_item\u001b[0;34m()\u001b[0m\n",
      "\u001b[0;31mKeyError\u001b[0m: ('Open', 'Close', 'High', 'Low')"
     ]
    }
   ],
   "source": [
    "df['Open','Close','High','Low'].plot()"
   ]
  },
  {
   "cell_type": "markdown",
   "metadata": {},
   "source": [
    "### 9. Add columns with useful data extracted from the DateTime index\n",
    "\n",
    "Make at least three columns, one for day, month, and year.\n"
   ]
  },
  {
   "cell_type": "code",
   "execution_count": 54,
   "metadata": {},
   "outputs": [
    {
     "data": {
      "text/html": [
       "<div>\n",
       "<style scoped>\n",
       "    .dataframe tbody tr th:only-of-type {\n",
       "        vertical-align: middle;\n",
       "    }\n",
       "\n",
       "    .dataframe tbody tr th {\n",
       "        vertical-align: top;\n",
       "    }\n",
       "\n",
       "    .dataframe thead th {\n",
       "        text-align: right;\n",
       "    }\n",
       "</style>\n",
       "<table border=\"1\" class=\"dataframe\">\n",
       "  <thead>\n",
       "    <tr style=\"text-align: right;\">\n",
       "      <th></th>\n",
       "      <th>Open</th>\n",
       "      <th>High</th>\n",
       "      <th>Low</th>\n",
       "      <th>Close</th>\n",
       "      <th>Volume</th>\n",
       "    </tr>\n",
       "    <tr>\n",
       "      <th>Date</th>\n",
       "      <th></th>\n",
       "      <th></th>\n",
       "      <th></th>\n",
       "      <th></th>\n",
       "      <th></th>\n",
       "    </tr>\n",
       "  </thead>\n",
       "  <tbody>\n",
       "    <tr>\n",
       "      <th>2016-01-19</th>\n",
       "      <td>98.41</td>\n",
       "      <td>98.65</td>\n",
       "      <td>95.50</td>\n",
       "      <td>96.66</td>\n",
       "      <td>52841349</td>\n",
       "    </tr>\n",
       "    <tr>\n",
       "      <th>2016-01-20</th>\n",
       "      <td>95.10</td>\n",
       "      <td>98.19</td>\n",
       "      <td>93.42</td>\n",
       "      <td>96.79</td>\n",
       "      <td>72008265</td>\n",
       "    </tr>\n",
       "    <tr>\n",
       "      <th>2016-01-21</th>\n",
       "      <td>97.06</td>\n",
       "      <td>97.88</td>\n",
       "      <td>94.94</td>\n",
       "      <td>96.30</td>\n",
       "      <td>52054521</td>\n",
       "    </tr>\n",
       "    <tr>\n",
       "      <th>2016-01-22</th>\n",
       "      <td>98.63</td>\n",
       "      <td>101.46</td>\n",
       "      <td>98.37</td>\n",
       "      <td>101.42</td>\n",
       "      <td>65562769</td>\n",
       "    </tr>\n",
       "    <tr>\n",
       "      <th>2016-01-25</th>\n",
       "      <td>101.52</td>\n",
       "      <td>101.53</td>\n",
       "      <td>99.21</td>\n",
       "      <td>99.44</td>\n",
       "      <td>51196375</td>\n",
       "    </tr>\n",
       "  </tbody>\n",
       "</table>\n",
       "</div>"
      ],
      "text/plain": [
       "              Open    High    Low   Close    Volume\n",
       "Date                                               \n",
       "2016-01-19   98.41   98.65  95.50   96.66  52841349\n",
       "2016-01-20   95.10   98.19  93.42   96.79  72008265\n",
       "2016-01-21   97.06   97.88  94.94   96.30  52054521\n",
       "2016-01-22   98.63  101.46  98.37  101.42  65562769\n",
       "2016-01-25  101.52  101.53  99.21   99.44  51196375"
      ]
     },
     "execution_count": 54,
     "metadata": {},
     "output_type": "execute_result"
    }
   ],
   "source": [
    "df.head()"
   ]
  },
  {
   "cell_type": "code",
   "execution_count": 61,
   "metadata": {},
   "outputs": [
    {
     "data": {
      "text/html": [
       "<div>\n",
       "<style scoped>\n",
       "    .dataframe tbody tr th:only-of-type {\n",
       "        vertical-align: middle;\n",
       "    }\n",
       "\n",
       "    .dataframe tbody tr th {\n",
       "        vertical-align: top;\n",
       "    }\n",
       "\n",
       "    .dataframe thead th {\n",
       "        text-align: right;\n",
       "    }\n",
       "</style>\n",
       "<table border=\"1\" class=\"dataframe\">\n",
       "  <thead>\n",
       "    <tr style=\"text-align: right;\">\n",
       "      <th></th>\n",
       "      <th>Open</th>\n",
       "      <th>High</th>\n",
       "      <th>Low</th>\n",
       "      <th>Close</th>\n",
       "      <th>Volume</th>\n",
       "      <th>Day</th>\n",
       "      <th>Month</th>\n",
       "      <th>Year</th>\n",
       "    </tr>\n",
       "    <tr>\n",
       "      <th>Date</th>\n",
       "      <th></th>\n",
       "      <th></th>\n",
       "      <th></th>\n",
       "      <th></th>\n",
       "      <th></th>\n",
       "      <th></th>\n",
       "      <th></th>\n",
       "      <th></th>\n",
       "    </tr>\n",
       "  </thead>\n",
       "  <tbody>\n",
       "    <tr>\n",
       "      <th>2016-01-19</th>\n",
       "      <td>98.41</td>\n",
       "      <td>98.65</td>\n",
       "      <td>95.50</td>\n",
       "      <td>96.66</td>\n",
       "      <td>52841349</td>\n",
       "      <td>19</td>\n",
       "      <td>1</td>\n",
       "      <td>2016</td>\n",
       "    </tr>\n",
       "    <tr>\n",
       "      <th>2016-01-20</th>\n",
       "      <td>95.10</td>\n",
       "      <td>98.19</td>\n",
       "      <td>93.42</td>\n",
       "      <td>96.79</td>\n",
       "      <td>72008265</td>\n",
       "      <td>20</td>\n",
       "      <td>1</td>\n",
       "      <td>2016</td>\n",
       "    </tr>\n",
       "    <tr>\n",
       "      <th>2016-01-21</th>\n",
       "      <td>97.06</td>\n",
       "      <td>97.88</td>\n",
       "      <td>94.94</td>\n",
       "      <td>96.30</td>\n",
       "      <td>52054521</td>\n",
       "      <td>21</td>\n",
       "      <td>1</td>\n",
       "      <td>2016</td>\n",
       "    </tr>\n",
       "    <tr>\n",
       "      <th>2016-01-22</th>\n",
       "      <td>98.63</td>\n",
       "      <td>101.46</td>\n",
       "      <td>98.37</td>\n",
       "      <td>101.42</td>\n",
       "      <td>65562769</td>\n",
       "      <td>22</td>\n",
       "      <td>1</td>\n",
       "      <td>2016</td>\n",
       "    </tr>\n",
       "    <tr>\n",
       "      <th>2016-01-25</th>\n",
       "      <td>101.52</td>\n",
       "      <td>101.53</td>\n",
       "      <td>99.21</td>\n",
       "      <td>99.44</td>\n",
       "      <td>51196375</td>\n",
       "      <td>25</td>\n",
       "      <td>1</td>\n",
       "      <td>2016</td>\n",
       "    </tr>\n",
       "  </tbody>\n",
       "</table>\n",
       "</div>"
      ],
      "text/plain": [
       "              Open    High    Low   Close    Volume  Day  Month  Year\n",
       "Date                                                                 \n",
       "2016-01-19   98.41   98.65  95.50   96.66  52841349   19      1  2016\n",
       "2016-01-20   95.10   98.19  93.42   96.79  72008265   20      1  2016\n",
       "2016-01-21   97.06   97.88  94.94   96.30  52054521   21      1  2016\n",
       "2016-01-22   98.63  101.46  98.37  101.42  65562769   22      1  2016\n",
       "2016-01-25  101.52  101.53  99.21   99.44  51196375   25      1  2016"
      ]
     },
     "execution_count": 61,
     "metadata": {},
     "output_type": "execute_result"
    }
   ],
   "source": [
    "df['Day'] = df.index.day\n",
    "df['Month'] = df.index.month\n",
    "df['Year'] = df.index.year\n",
    "df.head()"
   ]
  },
  {
   "cell_type": "markdown",
   "metadata": {},
   "source": [
    "### 10. Create a subset of the data containing only 2017 dates"
   ]
  },
  {
   "cell_type": "code",
   "execution_count": 63,
   "metadata": {},
   "outputs": [
    {
     "data": {
      "text/html": [
       "<div>\n",
       "<style scoped>\n",
       "    .dataframe tbody tr th:only-of-type {\n",
       "        vertical-align: middle;\n",
       "    }\n",
       "\n",
       "    .dataframe tbody tr th {\n",
       "        vertical-align: top;\n",
       "    }\n",
       "\n",
       "    .dataframe thead th {\n",
       "        text-align: right;\n",
       "    }\n",
       "</style>\n",
       "<table border=\"1\" class=\"dataframe\">\n",
       "  <thead>\n",
       "    <tr style=\"text-align: right;\">\n",
       "      <th></th>\n",
       "      <th>Open</th>\n",
       "      <th>High</th>\n",
       "      <th>Low</th>\n",
       "      <th>Close</th>\n",
       "      <th>Volume</th>\n",
       "      <th>Day</th>\n",
       "      <th>Month</th>\n",
       "      <th>Year</th>\n",
       "    </tr>\n",
       "    <tr>\n",
       "      <th>Date</th>\n",
       "      <th></th>\n",
       "      <th></th>\n",
       "      <th></th>\n",
       "      <th></th>\n",
       "      <th></th>\n",
       "      <th></th>\n",
       "      <th></th>\n",
       "      <th></th>\n",
       "    </tr>\n",
       "  </thead>\n",
       "  <tbody>\n",
       "    <tr>\n",
       "      <th>2017-01-03</th>\n",
       "      <td>115.80</td>\n",
       "      <td>116.33</td>\n",
       "      <td>114.76</td>\n",
       "      <td>116.15</td>\n",
       "      <td>28781865</td>\n",
       "      <td>3</td>\n",
       "      <td>1</td>\n",
       "      <td>2017</td>\n",
       "    </tr>\n",
       "    <tr>\n",
       "      <th>2017-01-04</th>\n",
       "      <td>115.85</td>\n",
       "      <td>116.51</td>\n",
       "      <td>115.75</td>\n",
       "      <td>116.02</td>\n",
       "      <td>21118116</td>\n",
       "      <td>4</td>\n",
       "      <td>1</td>\n",
       "      <td>2017</td>\n",
       "    </tr>\n",
       "    <tr>\n",
       "      <th>2017-01-05</th>\n",
       "      <td>115.92</td>\n",
       "      <td>116.86</td>\n",
       "      <td>115.81</td>\n",
       "      <td>116.61</td>\n",
       "      <td>22193587</td>\n",
       "      <td>5</td>\n",
       "      <td>1</td>\n",
       "      <td>2017</td>\n",
       "    </tr>\n",
       "    <tr>\n",
       "      <th>2017-01-06</th>\n",
       "      <td>116.78</td>\n",
       "      <td>118.16</td>\n",
       "      <td>116.47</td>\n",
       "      <td>117.91</td>\n",
       "      <td>31751900</td>\n",
       "      <td>6</td>\n",
       "      <td>1</td>\n",
       "      <td>2017</td>\n",
       "    </tr>\n",
       "    <tr>\n",
       "      <th>2017-01-09</th>\n",
       "      <td>117.95</td>\n",
       "      <td>119.43</td>\n",
       "      <td>117.94</td>\n",
       "      <td>118.99</td>\n",
       "      <td>33561948</td>\n",
       "      <td>9</td>\n",
       "      <td>1</td>\n",
       "      <td>2017</td>\n",
       "    </tr>\n",
       "  </tbody>\n",
       "</table>\n",
       "</div>"
      ],
      "text/plain": [
       "              Open    High     Low   Close    Volume  Day  Month  Year\n",
       "Date                                                                  \n",
       "2017-01-03  115.80  116.33  114.76  116.15  28781865    3      1  2017\n",
       "2017-01-04  115.85  116.51  115.75  116.02  21118116    4      1  2017\n",
       "2017-01-05  115.92  116.86  115.81  116.61  22193587    5      1  2017\n",
       "2017-01-06  116.78  118.16  116.47  117.91  31751900    6      1  2017\n",
       "2017-01-09  117.95  119.43  117.94  118.99  33561948    9      1  2017"
      ]
     },
     "execution_count": 63,
     "metadata": {},
     "output_type": "execute_result"
    }
   ],
   "source": [
    "df[df['Year']==2017].head()"
   ]
  },
  {
   "cell_type": "markdown",
   "metadata": {},
   "source": [
    "### 11. Subset the data on those dates which are on a Tuesday"
   ]
  },
  {
   "cell_type": "code",
   "execution_count": 68,
   "metadata": {},
   "outputs": [
    {
     "data": {
      "text/html": [
       "<div>\n",
       "<style scoped>\n",
       "    .dataframe tbody tr th:only-of-type {\n",
       "        vertical-align: middle;\n",
       "    }\n",
       "\n",
       "    .dataframe tbody tr th {\n",
       "        vertical-align: top;\n",
       "    }\n",
       "\n",
       "    .dataframe thead th {\n",
       "        text-align: right;\n",
       "    }\n",
       "</style>\n",
       "<table border=\"1\" class=\"dataframe\">\n",
       "  <thead>\n",
       "    <tr style=\"text-align: right;\">\n",
       "      <th></th>\n",
       "      <th>Open</th>\n",
       "      <th>High</th>\n",
       "      <th>Low</th>\n",
       "      <th>Close</th>\n",
       "      <th>Volume</th>\n",
       "      <th>Day</th>\n",
       "      <th>Month</th>\n",
       "      <th>Year</th>\n",
       "    </tr>\n",
       "    <tr>\n",
       "      <th>Date</th>\n",
       "      <th></th>\n",
       "      <th></th>\n",
       "      <th></th>\n",
       "      <th></th>\n",
       "      <th></th>\n",
       "      <th></th>\n",
       "      <th></th>\n",
       "      <th></th>\n",
       "    </tr>\n",
       "  </thead>\n",
       "  <tbody>\n",
       "    <tr>\n",
       "      <th>2016-02-02</th>\n",
       "      <td>95.42</td>\n",
       "      <td>96.04</td>\n",
       "      <td>94.28</td>\n",
       "      <td>94.48</td>\n",
       "      <td>37081206</td>\n",
       "      <td>2</td>\n",
       "      <td>2</td>\n",
       "      <td>2016</td>\n",
       "    </tr>\n",
       "    <tr>\n",
       "      <th>2016-03-02</th>\n",
       "      <td>100.51</td>\n",
       "      <td>100.89</td>\n",
       "      <td>99.64</td>\n",
       "      <td>100.75</td>\n",
       "      <td>33084941</td>\n",
       "      <td>2</td>\n",
       "      <td>3</td>\n",
       "      <td>2016</td>\n",
       "    </tr>\n",
       "    <tr>\n",
       "      <th>2016-05-02</th>\n",
       "      <td>93.96</td>\n",
       "      <td>94.08</td>\n",
       "      <td>92.40</td>\n",
       "      <td>93.64</td>\n",
       "      <td>47736879</td>\n",
       "      <td>2</td>\n",
       "      <td>5</td>\n",
       "      <td>2016</td>\n",
       "    </tr>\n",
       "    <tr>\n",
       "      <th>2016-06-02</th>\n",
       "      <td>97.60</td>\n",
       "      <td>97.84</td>\n",
       "      <td>96.63</td>\n",
       "      <td>97.72</td>\n",
       "      <td>40191600</td>\n",
       "      <td>2</td>\n",
       "      <td>6</td>\n",
       "      <td>2016</td>\n",
       "    </tr>\n",
       "    <tr>\n",
       "      <th>2016-08-02</th>\n",
       "      <td>106.05</td>\n",
       "      <td>106.07</td>\n",
       "      <td>104.00</td>\n",
       "      <td>104.48</td>\n",
       "      <td>33816556</td>\n",
       "      <td>2</td>\n",
       "      <td>8</td>\n",
       "      <td>2016</td>\n",
       "    </tr>\n",
       "  </tbody>\n",
       "</table>\n",
       "</div>"
      ],
      "text/plain": [
       "              Open    High     Low   Close    Volume  Day  Month  Year\n",
       "Date                                                                  \n",
       "2016-02-02   95.42   96.04   94.28   94.48  37081206    2      2  2016\n",
       "2016-03-02  100.51  100.89   99.64  100.75  33084941    2      3  2016\n",
       "2016-05-02   93.96   94.08   92.40   93.64  47736879    2      5  2016\n",
       "2016-06-02   97.60   97.84   96.63   97.72  40191600    2      6  2016\n",
       "2016-08-02  106.05  106.07  104.00  104.48  33816556    2      8  2016"
      ]
     },
     "execution_count": 68,
     "metadata": {},
     "output_type": "execute_result"
    }
   ],
   "source": [
    "df[df['Day']==2].head()"
   ]
  },
  {
   "cell_type": "markdown",
   "metadata": {},
   "source": [
    "### 12. Subset the data on those dates which are in December"
   ]
  },
  {
   "cell_type": "code",
   "execution_count": 65,
   "metadata": {
    "scrolled": true
   },
   "outputs": [
    {
     "data": {
      "text/html": [
       "<div>\n",
       "<style scoped>\n",
       "    .dataframe tbody tr th:only-of-type {\n",
       "        vertical-align: middle;\n",
       "    }\n",
       "\n",
       "    .dataframe tbody tr th {\n",
       "        vertical-align: top;\n",
       "    }\n",
       "\n",
       "    .dataframe thead th {\n",
       "        text-align: right;\n",
       "    }\n",
       "</style>\n",
       "<table border=\"1\" class=\"dataframe\">\n",
       "  <thead>\n",
       "    <tr style=\"text-align: right;\">\n",
       "      <th></th>\n",
       "      <th>Open</th>\n",
       "      <th>High</th>\n",
       "      <th>Low</th>\n",
       "      <th>Close</th>\n",
       "      <th>Volume</th>\n",
       "      <th>Day</th>\n",
       "      <th>Month</th>\n",
       "      <th>Year</th>\n",
       "    </tr>\n",
       "    <tr>\n",
       "      <th>Date</th>\n",
       "      <th></th>\n",
       "      <th></th>\n",
       "      <th></th>\n",
       "      <th></th>\n",
       "      <th></th>\n",
       "      <th></th>\n",
       "      <th></th>\n",
       "      <th></th>\n",
       "    </tr>\n",
       "  </thead>\n",
       "  <tbody>\n",
       "    <tr>\n",
       "      <th>2016-12-01</th>\n",
       "      <td>110.36</td>\n",
       "      <td>110.94</td>\n",
       "      <td>109.03</td>\n",
       "      <td>109.49</td>\n",
       "      <td>37086862</td>\n",
       "      <td>1</td>\n",
       "      <td>12</td>\n",
       "      <td>2016</td>\n",
       "    </tr>\n",
       "    <tr>\n",
       "      <th>2016-12-02</th>\n",
       "      <td>109.17</td>\n",
       "      <td>110.09</td>\n",
       "      <td>108.85</td>\n",
       "      <td>109.90</td>\n",
       "      <td>26527997</td>\n",
       "      <td>2</td>\n",
       "      <td>12</td>\n",
       "      <td>2016</td>\n",
       "    </tr>\n",
       "    <tr>\n",
       "      <th>2016-12-05</th>\n",
       "      <td>110.00</td>\n",
       "      <td>110.03</td>\n",
       "      <td>108.25</td>\n",
       "      <td>109.11</td>\n",
       "      <td>34324540</td>\n",
       "      <td>5</td>\n",
       "      <td>12</td>\n",
       "      <td>2016</td>\n",
       "    </tr>\n",
       "    <tr>\n",
       "      <th>2016-12-06</th>\n",
       "      <td>109.50</td>\n",
       "      <td>110.36</td>\n",
       "      <td>109.19</td>\n",
       "      <td>109.95</td>\n",
       "      <td>26195462</td>\n",
       "      <td>6</td>\n",
       "      <td>12</td>\n",
       "      <td>2016</td>\n",
       "    </tr>\n",
       "    <tr>\n",
       "      <th>2016-12-07</th>\n",
       "      <td>109.26</td>\n",
       "      <td>111.19</td>\n",
       "      <td>109.16</td>\n",
       "      <td>111.03</td>\n",
       "      <td>29998719</td>\n",
       "      <td>7</td>\n",
       "      <td>12</td>\n",
       "      <td>2016</td>\n",
       "    </tr>\n",
       "  </tbody>\n",
       "</table>\n",
       "</div>"
      ],
      "text/plain": [
       "              Open    High     Low   Close    Volume  Day  Month  Year\n",
       "Date                                                                  \n",
       "2016-12-01  110.36  110.94  109.03  109.49  37086862    1     12  2016\n",
       "2016-12-02  109.17  110.09  108.85  109.90  26527997    2     12  2016\n",
       "2016-12-05  110.00  110.03  108.25  109.11  34324540    5     12  2016\n",
       "2016-12-06  109.50  110.36  109.19  109.95  26195462    6     12  2016\n",
       "2016-12-07  109.26  111.19  109.16  111.03  29998719    7     12  2016"
      ]
     },
     "execution_count": 65,
     "metadata": {},
     "output_type": "execute_result"
    }
   ],
   "source": [
    "df[df['Month']==12].head()"
   ]
  },
  {
   "cell_type": "markdown",
   "metadata": {},
   "source": [
    "### 13. Subset the data on those dates which are before 12/01/2017"
   ]
  },
  {
   "cell_type": "code",
   "execution_count": 71,
   "metadata": {},
   "outputs": [
    {
     "data": {
      "text/html": [
       "<div>\n",
       "<style scoped>\n",
       "    .dataframe tbody tr th:only-of-type {\n",
       "        vertical-align: middle;\n",
       "    }\n",
       "\n",
       "    .dataframe tbody tr th {\n",
       "        vertical-align: top;\n",
       "    }\n",
       "\n",
       "    .dataframe thead th {\n",
       "        text-align: right;\n",
       "    }\n",
       "</style>\n",
       "<table border=\"1\" class=\"dataframe\">\n",
       "  <thead>\n",
       "    <tr style=\"text-align: right;\">\n",
       "      <th></th>\n",
       "      <th>Open</th>\n",
       "      <th>High</th>\n",
       "      <th>Low</th>\n",
       "      <th>Close</th>\n",
       "      <th>Volume</th>\n",
       "      <th>Day</th>\n",
       "      <th>Month</th>\n",
       "      <th>Year</th>\n",
       "    </tr>\n",
       "    <tr>\n",
       "      <th>Date</th>\n",
       "      <th></th>\n",
       "      <th></th>\n",
       "      <th></th>\n",
       "      <th></th>\n",
       "      <th></th>\n",
       "      <th></th>\n",
       "      <th></th>\n",
       "      <th></th>\n",
       "    </tr>\n",
       "  </thead>\n",
       "  <tbody>\n",
       "    <tr>\n",
       "      <th>2016-01-19</th>\n",
       "      <td>98.41</td>\n",
       "      <td>98.65</td>\n",
       "      <td>95.50</td>\n",
       "      <td>96.66</td>\n",
       "      <td>52841349</td>\n",
       "      <td>19</td>\n",
       "      <td>1</td>\n",
       "      <td>2016</td>\n",
       "    </tr>\n",
       "    <tr>\n",
       "      <th>2016-01-20</th>\n",
       "      <td>95.10</td>\n",
       "      <td>98.19</td>\n",
       "      <td>93.42</td>\n",
       "      <td>96.79</td>\n",
       "      <td>72008265</td>\n",
       "      <td>20</td>\n",
       "      <td>1</td>\n",
       "      <td>2016</td>\n",
       "    </tr>\n",
       "    <tr>\n",
       "      <th>2016-01-21</th>\n",
       "      <td>97.06</td>\n",
       "      <td>97.88</td>\n",
       "      <td>94.94</td>\n",
       "      <td>96.30</td>\n",
       "      <td>52054521</td>\n",
       "      <td>21</td>\n",
       "      <td>1</td>\n",
       "      <td>2016</td>\n",
       "    </tr>\n",
       "    <tr>\n",
       "      <th>2016-01-22</th>\n",
       "      <td>98.63</td>\n",
       "      <td>101.46</td>\n",
       "      <td>98.37</td>\n",
       "      <td>101.42</td>\n",
       "      <td>65562769</td>\n",
       "      <td>22</td>\n",
       "      <td>1</td>\n",
       "      <td>2016</td>\n",
       "    </tr>\n",
       "    <tr>\n",
       "      <th>2016-01-25</th>\n",
       "      <td>101.52</td>\n",
       "      <td>101.53</td>\n",
       "      <td>99.21</td>\n",
       "      <td>99.44</td>\n",
       "      <td>51196375</td>\n",
       "      <td>25</td>\n",
       "      <td>1</td>\n",
       "      <td>2016</td>\n",
       "    </tr>\n",
       "  </tbody>\n",
       "</table>\n",
       "</div>"
      ],
      "text/plain": [
       "              Open    High    Low   Close    Volume  Day  Month  Year\n",
       "Date                                                                 \n",
       "2016-01-19   98.41   98.65  95.50   96.66  52841349   19      1  2016\n",
       "2016-01-20   95.10   98.19  93.42   96.79  72008265   20      1  2016\n",
       "2016-01-21   97.06   97.88  94.94   96.30  52054521   21      1  2016\n",
       "2016-01-22   98.63  101.46  98.37  101.42  65562769   22      1  2016\n",
       "2016-01-25  101.52  101.53  99.21   99.44  51196375   25      1  2016"
      ]
     },
     "execution_count": 71,
     "metadata": {},
     "output_type": "execute_result"
    }
   ],
   "source": [
    "df[df.index<datetime(2017,1,12)].head()"
   ]
  },
  {
   "cell_type": "markdown",
   "metadata": {},
   "source": [
    "### 14. Date ranges \n",
    "\n",
    "We can create our own date ranges using a built in function, `date_range`.\n",
    "The `periods` and `freq` keyword arguments grant the user finegrained control over the resulting values. To reset the time data, use the `normalize=True` attribute."
   ]
  },
  {
   "cell_type": "code",
   "execution_count": 92,
   "metadata": {},
   "outputs": [
    {
     "data": {
      "text/plain": [
       "DatetimeIndex(['2018-03-01', '2018-03-02', '2018-03-03', '2018-03-04',\n",
       "               '2018-03-05'],\n",
       "              dtype='datetime64[ns]', freq='D')"
      ]
     },
     "execution_count": 92,
     "metadata": {},
     "output_type": "execute_result"
    }
   ],
   "source": [
    "# specify a start and an end date\n",
    "index = pd.date_range(start='3/1/2018', end='6/1/2018', freq='D')\n",
    "index[:5]"
   ]
  },
  {
   "cell_type": "code",
   "execution_count": 73,
   "metadata": {},
   "outputs": [
    {
     "data": {
      "text/plain": [
       "DatetimeIndex(['2018-03-01', '2018-03-02', '2018-03-03', '2018-03-04',\n",
       "               '2018-03-05', '2018-03-06', '2018-03-07', '2018-03-08',\n",
       "               '2018-03-09', '2018-03-10', '2018-03-11', '2018-03-12',\n",
       "               '2018-03-13', '2018-03-14', '2018-03-15', '2018-03-16',\n",
       "               '2018-03-17', '2018-03-18', '2018-03-19', '2018-03-20'],\n",
       "              dtype='datetime64[ns]', freq='D')"
      ]
     },
     "execution_count": 73,
     "metadata": {},
     "output_type": "execute_result"
    }
   ],
   "source": [
    "# Specify a start point and how many periods after\n",
    "index = pd.date_range(start='3/1/2018', periods=20)\n",
    "index[:]"
   ]
  },
  {
   "cell_type": "code",
   "execution_count": 74,
   "metadata": {},
   "outputs": [
    {
     "data": {
      "text/plain": [
       "DatetimeIndex(['2018-05-13', '2018-05-14', '2018-05-15', '2018-05-16',\n",
       "               '2018-05-17', '2018-05-18', '2018-05-19', '2018-05-20',\n",
       "               '2018-05-21', '2018-05-22', '2018-05-23', '2018-05-24',\n",
       "               '2018-05-25', '2018-05-26', '2018-05-27', '2018-05-28',\n",
       "               '2018-05-29', '2018-05-30', '2018-05-31', '2018-06-01'],\n",
       "              dtype='datetime64[ns]', freq='D')"
      ]
     },
     "execution_count": 74,
     "metadata": {},
     "output_type": "execute_result"
    }
   ],
   "source": [
    "# Specify an end point and how many periods before\n",
    "index = pd.date_range(end='6/1/2018', periods=20)\n",
    "index[:]"
   ]
  },
  {
   "cell_type": "code",
   "execution_count": 75,
   "metadata": {},
   "outputs": [],
   "source": [
    "series = pd.Series(range(0,20), index=index)"
   ]
  },
  {
   "cell_type": "code",
   "execution_count": 76,
   "metadata": {},
   "outputs": [
    {
     "data": {
      "text/plain": [
       "2018-05-13    0\n",
       "2018-05-14    1\n",
       "2018-05-15    2\n",
       "2018-05-16    3\n",
       "2018-05-17    4\n",
       "Freq: D, dtype: int64"
      ]
     },
     "execution_count": 76,
     "metadata": {},
     "output_type": "execute_result"
    }
   ],
   "source": [
    "series.head()"
   ]
  },
  {
   "cell_type": "code",
   "execution_count": 77,
   "metadata": {},
   "outputs": [
    {
     "data": {
      "text/plain": [
       "DatetimeIndex(['2018-01-31', '2018-02-28', '2018-03-30', '2018-04-30',\n",
       "               '2018-05-31', '2018-06-29', '2018-07-31', '2018-08-31',\n",
       "               '2018-09-28', '2018-10-31', '2018-11-30'],\n",
       "              dtype='datetime64[ns]', freq='BM')"
      ]
     },
     "execution_count": 77,
     "metadata": {},
     "output_type": "execute_result"
    }
   ],
   "source": [
    "# Frequency specifying the length of the periods the default 'D' being daily.\n",
    "pd.date_range(start='1/1/2018', end='12/1/2018', freq='BM')"
   ]
  },
  {
   "cell_type": "code",
   "execution_count": 78,
   "metadata": {},
   "outputs": [
    {
     "data": {
      "text/plain": [
       "DatetimeIndex(['2018-03-07 12:56:31', '2018-03-08 12:56:31',\n",
       "               '2018-03-09 12:56:31', '2018-03-10 12:56:31',\n",
       "               '2018-03-11 12:56:31', '2018-03-12 12:56:31'],\n",
       "              dtype='datetime64[ns]', freq='D')"
      ]
     },
     "execution_count": 78,
     "metadata": {},
     "output_type": "execute_result"
    }
   ],
   "source": [
    "# Specify time more exactly\n",
    "pd.date_range(start='3/7/2018 12:56:31', periods=6)"
   ]
  },
  {
   "cell_type": "code",
   "execution_count": 79,
   "metadata": {},
   "outputs": [
    {
     "name": "stdout",
     "output_type": "stream",
     "text": [
      "2012-03-07 00:00:00\n",
      "Int64Index([2, 3, 4, 5, 6, 0], dtype='int64')\n"
     ]
    }
   ],
   "source": [
    "# Normalize creates normal daily times and will make the default time for each day midnight.\n",
    "timerange = pd.date_range(start='3/7/2012 12:56:31', periods=6, normalize=True)\n",
    "print(timerange[0])\n",
    "print(timerange.dayofweek)"
   ]
  },
  {
   "cell_type": "markdown",
   "metadata": {},
   "source": [
    "We are also given a Period object, which can be used to represent a time interval. The Period object consists of a start time and an end time, and can be created by providing a start time and a given frequency."
   ]
  },
  {
   "cell_type": "code",
   "execution_count": 80,
   "metadata": {},
   "outputs": [
    {
     "name": "stdout",
     "output_type": "stream",
     "text": [
      "2018-03-01 00:00:00\n",
      "2018-03-31 23:59:59.999999999\n",
      "5\n"
     ]
    }
   ],
   "source": [
    "# March 2018 was our start period, and the period frequency is months.\n",
    "march_2018 = pd.Period(value='2018-03', freq='M')\n",
    "\n",
    "print(march_2018.start_time)\n",
    "print(march_2018.end_time)\n",
    "print(march_2018.dayofweek)"
   ]
  },
  {
   "cell_type": "code",
   "execution_count": null,
   "metadata": {},
   "outputs": [],
   "source": []
  }
 ],
 "metadata": {
  "kernelspec": {
   "display_name": "Python 3",
   "language": "python",
   "name": "python3"
  },
  "language_info": {
   "codemirror_mode": {
    "name": "ipython",
    "version": 3
   },
   "file_extension": ".py",
   "mimetype": "text/x-python",
   "name": "python",
   "nbconvert_exporter": "python",
   "pygments_lexer": "ipython3",
   "version": "3.7.3"
  },
  "toc": {
   "base_numbering": 1,
   "nav_menu": {},
   "number_sections": false,
   "sideBar": true,
   "skip_h1_title": false,
   "title_cell": "Lab Guide",
   "title_sidebar": "Contents",
   "toc_cell": true,
   "toc_position": {},
   "toc_section_display": true,
   "toc_window_display": false
  },
  "varInspector": {
   "cols": {
    "lenName": 16,
    "lenType": 16,
    "lenVar": 40
   },
   "kernels_config": {
    "python": {
     "delete_cmd_postfix": "",
     "delete_cmd_prefix": "del ",
     "library": "var_list.py",
     "varRefreshCmd": "print(var_dic_list())"
    },
    "r": {
     "delete_cmd_postfix": ") ",
     "delete_cmd_prefix": "rm(",
     "library": "var_list.r",
     "varRefreshCmd": "cat(var_dic_list()) "
    }
   },
   "types_to_exclude": [
    "module",
    "function",
    "builtin_function_or_method",
    "instance",
    "_Feature"
   ],
   "window_display": false
  }
 },
 "nbformat": 4,
 "nbformat_minor": 2
}
