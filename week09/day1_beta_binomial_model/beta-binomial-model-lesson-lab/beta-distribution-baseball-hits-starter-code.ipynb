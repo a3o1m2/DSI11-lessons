{
 "cells": [
  {
   "cell_type": "markdown",
   "metadata": {},
   "source": [
    "<img src=\"http://imgur.com/1ZcRyrc.png\" style=\"float: left; margin: 20px; height: 55px\">\n",
    "\n",
    "# Bayesian Statistics with Baseball Data: Priors and Posteriors\n",
    "\n",
    "\n",
    "---\n",
    "\n",
    "To review the general setup for Bayesian modeling, we have:\n",
    "\n",
    "$$P\\left(\\;model\\;|\\;data\\;\\right) = \\frac{P\\left(\\;data\\;|\\;model\\;\\right)}{P(\\;data\\;)} P\\left(\\;model\\;\\right)\\ .$$\n",
    "\n",
    "This can also be written as:\n",
    "\n",
    "$$posterior \\propto likelihood \\cdot prior$$\n",
    "\n",
    "where the posterior is an update of our prior belief, given the data observed.\n"
   ]
  },
  {
   "cell_type": "markdown",
   "metadata": {},
   "source": [
    "## Review: the Beta distribution\n",
    "\n",
    "---\n",
    "\n",
    "[The Beta distribution](https://en.wikipedia.org/wiki/Beta_distribution) is the appropriate prior distribution for modeling Bernoulli and/or Binomial processes (occurrences of successes or failures, etc.). It is a model of the random behavior of data related to percentages, rates, proportions, etc.\n",
    "\n",
    "The Beta distribution takes two parameters: $Beta(\\alpha,\\beta)$\n",
    "\n",
    "The $\\alpha$ or **alpha** parameter can be thought of as the number of `successes + 1`\n",
    "\n",
    "The $\\beta$ or **beta** parameter can be thought of as the number of `failures + 1`\n",
    "\n",
    "<img src=\"https://upload.wikimedia.org/wikipedia/commons/thumb/f/f3/Beta_distribution_pdf.svg/650px-Beta_distribution_pdf.svg.png\" alt=\"betapdf\" style=\"width: 400px;\"/>"
   ]
  },
  {
   "cell_type": "markdown",
   "metadata": {},
   "source": [
    "## Review: the Beta as a \"conjugate prior\"\n",
    "\n",
    "---\n",
    "\n",
    "The beta distribution is a **conjugate prior** for the binomial (and the beta) distributions. What does this mean?\n",
    "\n",
    "Take the calculation of the posterior distribution with a binomial likelihood function (any binary outcome data):\n",
    "\n",
    "$$\\text{beta posterior} \\propto \\text{binomial likelihood} \\cdot \\text{beta prior}$$\n",
    "\n",
    "**The Beta distribution being a \"conjugate prior\" of the Binomial likelihood guarantees that the posterior distribution will also be a Beta distribution.**\n",
    "\n",
    "> **Note:** Conjugate priors are extremely useful for calculating posteriors directly. Unfortunately, in many modeling scenarios we do not have the convenience of a conjugate prior. This is where methods like Markov Chain Monte Carlo (MCMC) will come into play down the line."
   ]
  },
  {
   "cell_type": "markdown",
   "metadata": {},
   "source": [
    "## Bayesian analysis of batting averages\n",
    "\n",
    "---\n",
    "\n",
    "Load in the simple batting avergage data for players below. There are just four fields in the dataset: the player's name, their times at bat, their hits, and their batting average.\n",
    "\n",
    "> **Note:** [This section of the lab is a partial replication of this exercise in R, if you're interested without the \"empirical Bayes\" part.](https://www.r-bloggers.com/understanding-empirical-bayes-estimation-using-baseball-statistics/) "
   ]
  },
  {
   "cell_type": "code",
   "execution_count": 1,
   "metadata": {},
   "outputs": [],
   "source": [
    "import matplotlib.pyplot as plt\n",
    "import numpy as np\n",
    "import pandas as pd\n",
    "import seaborn as sns\n",
    "\n",
    "plt.style.use('fivethirtyeight')\n",
    "\n",
    "%matplotlib inline\n",
    "%config InlineBackend.figure_format = 'retina'\n",
    "\n",
    "import scipy.stats as stats"
   ]
  },
  {
   "cell_type": "code",
   "execution_count": 2,
   "metadata": {},
   "outputs": [],
   "source": [
    "hits = pd.read_csv('../../../../resource-datasets/baseball_hits/career_hits.csv')"
   ]
  },
  {
   "cell_type": "code",
   "execution_count": null,
   "metadata": {},
   "outputs": [],
   "source": []
  },
  {
   "cell_type": "markdown",
   "metadata": {},
   "source": [
    "### 1. Find the top and bottom 3 hitters according to their average.\n",
    "\n",
    "What is wrong with using the average to find the 3 best and 3 worst hitters?"
   ]
  },
  {
   "cell_type": "code",
   "execution_count": null,
   "metadata": {},
   "outputs": [],
   "source": []
  },
  {
   "cell_type": "markdown",
   "metadata": {},
   "source": [
    "### 2. Set up a prior distribution to represent our belief about batting average\n",
    "\n",
    "[After doing a quick search online](https://www.google.com/search?q=average+batting+average+for+players+mlb&oq=average+batting+average+for+players+mlb&aqs=chrome..69i57j0.7373j0j4&sourceid=chrome&ie=UTF-8), it looks like the overall batting average for MLB baseball players is around 0.260.\n",
    "\n",
    "**Let's make it simple and say that our prior belief is: out of 100 at-bats we have seen 26 hits. Set up a beta distribution with `alpha=27` and `beta=75`. Plot it with the function from the lesson.**\n",
    "\n",
    "This is our distribution of beliefs on the batting average (probability of hit while at-bat) for MLB players."
   ]
  },
  {
   "cell_type": "code",
   "execution_count": 3,
   "metadata": {},
   "outputs": [],
   "source": [
    "def plot_beta(successes, failures):\n",
    "\n",
    "    # instantiate the beta distribution from scipy.stats\n",
    "    beta = stats.beta(successes+1, failures+1)\n",
    "\n",
    "    # create a range of x-values (pvals) for plotting\n",
    "    pvals = np.linspace(0., 1., 100)\n",
    "    # calculate the beta-pdf values corresponding to the pvals\n",
    "    like = beta.pdf(pvals)\n",
    "\n",
    "    fig, ax = plt.subplots(figsize=(8, 5))\n",
    "    ax.plot(pvals, like, lw=3)\n",
    "    ax.set_xlabel('p', fontsize=16)\n",
    "    ax.set_ylabel(r'Pdf(p | $\\alpha$,$\\beta$)'+'\\n', fontsize=16)\n",
    "    ax.set_title(r'Beta PDF for $\\alpha$={}, $\\beta$={}'.format(\n",
    "        successes+1, failures+1)+'\\n', fontsize=18)\n",
    "    plt.show()"
   ]
  },
  {
   "cell_type": "code",
   "execution_count": null,
   "metadata": {},
   "outputs": [],
   "source": []
  },
  {
   "cell_type": "markdown",
   "metadata": {},
   "source": [
    "### 3. Calculate the Maximum A Posteriori (MAP) estimate of players' batting averages\n",
    "\n",
    "The Maximum A Posteriori (MAP) estimate is the mode of a posterior distribution for a statistical parameter.\n",
    "\n",
    "In our case, the MAP estimate for our players' batting averages will be the mode of the posterior Beta distribution we get from updating our prior distribution with their at-bats and hits.\n",
    "\n",
    "---\n",
    "\n",
    "> **Note:** For an additional overview of the maths behind updating the Beta distribution posterior and conjugate priors [see this website](https://alexanderetz.com/2015/07/25/understanding-bayes-updating-priors-via-the-likelihood/).\n",
    "\n",
    "We need to update our beta distribution prior belief about batting averages with a player's at-bat and hit information to give us a _new_ beta posterior distribution for that player's batting average. \n",
    "\n",
    "Luckily, with the beta distribution the update is just a matter of adding in our new observations to the alpha and beta parameters of the distribution, where alpha is the number of hits and beta is the number of misses/strikes:\n",
    "\n",
    "    observed_hits = n_hits\n",
    "    observed_misses = n_misses\n",
    "    beta_prior = Beta(prior_hits+1, prior_misses+1)\n",
    "    beta_posterior = Beta(prior_hits + n_hits + 1, prior_misses + n_misses + 1)\n",
    "    \n",
    "> **Note:** This process will also be useful in the context of A/B testing, which we will look at later on.\n",
    "\n",
    "For each player, update the prior to the posterior distribution and calculate the **mode** of the distribution. The mode of a beta distribution is conveniently calculated:\n",
    "\n",
    "$$ \\frac{\\alpha - 1}{\\alpha + \\beta -2} $$\n",
    "\n",
    "which means we don't even really need to use scipy's beta distribution function at all. Just calculate the new alpha (hits) and beta (misses) for each player's posterior beta distribution and plug them into the formula above to get the MAP estimate of batting average."
   ]
  },
  {
   "cell_type": "code",
   "execution_count": null,
   "metadata": {},
   "outputs": [],
   "source": []
  },
  {
   "cell_type": "markdown",
   "metadata": {},
   "source": [
    "### 4. Look up the top and bottom batters according to the MAP estimate"
   ]
  },
  {
   "cell_type": "code",
   "execution_count": null,
   "metadata": {},
   "outputs": [],
   "source": []
  },
  {
   "cell_type": "markdown",
   "metadata": {},
   "source": [
    "### 5. Plot the MAP batting average against the MLE batting average"
   ]
  },
  {
   "cell_type": "code",
   "execution_count": null,
   "metadata": {},
   "outputs": [],
   "source": []
  }
 ],
 "metadata": {
  "anaconda-cloud": {},
  "kernelspec": {
   "display_name": "Python 3",
   "language": "python",
   "name": "python3"
  },
  "language_info": {
   "codemirror_mode": {
    "name": "ipython",
    "version": 3
   },
   "file_extension": ".py",
   "mimetype": "text/x-python",
   "name": "python",
   "nbconvert_exporter": "python",
   "pygments_lexer": "ipython3",
   "version": "3.7.4"
  },
  "toc": {
   "base_numbering": 1,
   "nav_menu": {},
   "number_sections": false,
   "sideBar": true,
   "skip_h1_title": true,
   "title_cell": "Table of Contents",
   "title_sidebar": "Contents",
   "toc_cell": false,
   "toc_position": {},
   "toc_section_display": "block",
   "toc_window_display": false
  }
 },
 "nbformat": 4,
 "nbformat_minor": 1
}
