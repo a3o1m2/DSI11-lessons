{
 "cells": [
  {
   "cell_type": "markdown",
   "metadata": {
    "slideshow": {
     "slide_type": "slide"
    }
   },
   "source": [
    "<img src=\"http://imgur.com/1ZcRyrc.png\" style=\"float: left; margin: 20px; height: 55px\">\n",
    "\n",
    "# Intro to Data Representation and Data Cleaning\n",
    "\n",
    "\n",
    "---\n",
    "\n",
    "<img src=\"https://snag.gy/ywU34V.jpg\" width=\"250\">"
   ]
  },
  {
   "cell_type": "markdown",
   "metadata": {
    "slideshow": {
     "slide_type": "slide"
    }
   },
   "source": [
    "## Learning Objectives\n",
    "\n",
    "\n",
    "### Core\n",
    "- Know about common data cleaning strategies\n",
    "- Know how to assess data quality\n",
    "- Inspect data types\n",
    "- Fill missing values with `fillna`\n",
    "- Count categorical values with `.value_counts`\n",
    "\n",
    "### Target\n",
    "- Know the difference between `.map`, `.apply`, `.applymap`  \n",
    "- Clean up a column using `.map`, `.apply`, `.applymap`  \n",
    "\n",
    "### Stretch\n",
    "- Write your own function and apply it to a series/dataframe with `.map`, `.apply`, `.applymap`  "
   ]
  },
  {
   "cell_type": "markdown",
   "metadata": {
    "toc": true
   },
   "source": [
    "<h1>Lesson Guide<span class=\"tocSkip\"></span></h1>\n",
    "<div class=\"toc\"><ul class=\"toc-item\"><li><span><a href=\"#Learning-Objectives\" data-toc-modified-id=\"Learning-Objectives-1\">Learning Objectives</a></span><ul class=\"toc-item\"><li><span><a href=\"#Core\" data-toc-modified-id=\"Core-1.1\">Core</a></span></li><li><span><a href=\"#Target\" data-toc-modified-id=\"Target-1.2\">Target</a></span></li><li><span><a href=\"#Stretch\" data-toc-modified-id=\"Stretch-1.3\">Stretch</a></span></li></ul></li><li><span><a href=\"#Common-Data-Cleaning-Strategies\" data-toc-modified-id=\"Common-Data-Cleaning-Strategies-2\">Common Data Cleaning Strategies</a></span></li><li><span><a href=\"#Measures-of-Data-Quality\" data-toc-modified-id=\"Measures-of-Data-Quality-3\">Measures of Data Quality</a></span></li><li><span><a href=\"#pandas-Tools-for-Data-Cleaning\" data-toc-modified-id=\"pandas-Tools-for-Data-Cleaning-4\"><code>pandas</code> Tools for Data Cleaning</a></span><ul class=\"toc-item\"><li><ul class=\"toc-item\"><li><span><a href=\"#The-.map()-function\" data-toc-modified-id=\"The-.map()-function-4.0.1\">The <code>.map()</code> function</a></span></li><li><span><a href=\"#The-.apply()-function\" data-toc-modified-id=\"The-.apply()-function-4.0.2\">The <code>.apply()</code> function</a></span></li><li><span><a href=\"#The-.applymap()-function\" data-toc-modified-id=\"The-.applymap()-function-4.0.3\">The <code>.applymap()</code> function</a></span></li><li><span><a href=\"#The-.fillna()-function\" data-toc-modified-id=\"The-.fillna()-function-4.0.4\">The <code>.fillna()</code> function</a></span></li><li><span><a href=\"#The-.value_counts()-function\" data-toc-modified-id=\"The-.value_counts()-function-4.0.5\">The <code>.value_counts()</code> function</a></span></li></ul></li></ul></li><li><span><a href=\"#Inspecting-Data-Types\" data-toc-modified-id=\"Inspecting-Data-Types-5\">Inspecting Data Types</a></span><ul class=\"toc-item\"><li><span><a href=\"#1.-Create-a-small-DataFrame-with-different-data-types\" data-toc-modified-id=\"1.-Create-a-small-DataFrame-with-different-data-types-5.1\">1. Create a small DataFrame with different data types</a></span></li><li><span><a href=\"#2.-Examine-the-data-types-of-the-columns\" data-toc-modified-id=\"2.-Examine-the-data-types-of-the-columns-5.2\">2. Examine the data types of the columns</a></span></li><li><span><a href=\"#3.-Use-the-.get_dtype_counts()-function-to-determine-how-many-columns-there-are-of-each-type\" data-toc-modified-id=\"3.-Use-the-.get_dtype_counts()-function-to-determine-how-many-columns-there-are-of-each-type-5.3\">3. Use the <code>.get_dtype_counts()</code> function to determine how many columns there are of each type</a></span></li><li><span><a href=\"#4.-Create-a-Series-object-with-integers-1-5-and-float-6.0.\" data-toc-modified-id=\"4.-Create-a-Series-object-with-integers-1-5-and-float-6.0.-5.4\">4. Create a Series object with integers 1-5 and float 6.0.</a></span></li><li><span><a href=\"#5.-Create-a-Series-with-data-[1,-2,-3,-6.,-'foo'].-What-data-type-is-the-Series?\" data-toc-modified-id=\"5.-Create-a-Series-with-data-[1,-2,-3,-6.,-'foo'].-What-data-type-is-the-Series?-5.5\">5. Create a Series with data <code>[1, 2, 3, 6., 'foo']</code>. What data type is the Series?</a></span></li><li><span><a href=\"#Without-running-this-code-with-a-Python-interpreter,-what-would-you-expect-to-be-the-common-dtype?\" data-toc-modified-id=\"Without-running-this-code-with-a-Python-interpreter,-what-would-you-expect-to-be-the-common-dtype?-5.6\"><em>Without</em> running this code with a Python interpreter, what would you expect to be the common <code>dtype</code>?</a></span></li></ul></li><li><span><a href=\"#Applying-Functions-to-DataFrames-and-Series\" data-toc-modified-id=\"Applying-Functions-to-DataFrames-and-Series-6\">Applying Functions to DataFrames and Series</a></span><ul class=\"toc-item\"><li><span><a href=\"#6.-Create-another-small-DataFrame\" data-toc-modified-id=\"6.-Create-another-small-DataFrame-6.1\">6. Create another small DataFrame</a></span></li><li><span><a href=\"#7.-Use-the-.apply()/.applymap()-function-to-find-the-square-root-of-all-cells\" data-toc-modified-id=\"7.-Use-the-.apply()/.applymap()-function-to-find-the-square-root-of-all-cells-6.2\">7. Use the <code>.apply()</code>/<code>.applymap()</code> function to find the square root of all cells</a></span></li><li><span><a href=\"#8.-Use-.apply()-to-find-the-mean-of-the-columns\" data-toc-modified-id=\"8.-Use-.apply()-to-find-the-mean-of-the-columns-6.3\">8. Use <code>.apply()</code> to find the mean of the columns</a></span></li><li><span><a href=\"#9.-Use-.apply()-to-find-the-mean-of-the-rows\" data-toc-modified-id=\"9.-Use-.apply()-to-find-the-mean-of-the-rows-6.4\">9. Use <code>.apply()</code> to find the mean of the rows</a></span></li><li><span><a href=\"#10.-Use-.apply()-to-add-two-columns\" data-toc-modified-id=\"10.-Use-.apply()-to-add-two-columns-6.5\">10. Use <code>.apply()</code> to add two columns</a></span><ul class=\"toc-item\"><li><span><a href=\"#Examples-for-pandas-series\" data-toc-modified-id=\"Examples-for-pandas-series-6.5.1\">Examples for pandas series</a></span></li></ul></li><li><span><a href=\"#11.-Use-.applymap()-to-round-the-value-in-each-cell\" data-toc-modified-id=\"11.-Use-.applymap()-to-round-the-value-in-each-cell-6.6\">11. Use <code>.applymap()</code> to round the value in each cell</a></span></li><li><span><a href=\"#12.-Use-.applymap()-to-apply-a-self-defined-function-to-each-cell\" data-toc-modified-id=\"12.-Use-.applymap()-to-apply-a-self-defined-function-to-each-cell-6.7\">12. Use <code>.applymap()</code> to apply a self-defined function to each cell</a></span></li></ul></li><li><span><a href=\"#Filling-missing-values\" data-toc-modified-id=\"Filling-missing-values-7\">Filling missing values</a></span><ul class=\"toc-item\"><li><span><a href=\"#13.-Fill-all-missing-values-with-'neg'-(indicating-that-the-missing-value-was-due-to-a-negative-original-value)\" data-toc-modified-id=\"13.-Fill-all-missing-values-with-'neg'-(indicating-that-the-missing-value-was-due-to-a-negative-original-value)-7.1\">13. Fill all missing values with 'neg' (indicating that the missing value was due to a negative original value)</a></span></li><li><span><a href=\"#14.-We-could-do-that-also-for-one-column-only.\" data-toc-modified-id=\"14.-We-could-do-that-also-for-one-column-only.-7.2\">14. We could do that also for one column only.</a></span></li><li><span><a href=\"#15.-In-other-contexts,-it-might-be-useful-to-fill-with-other-values.\" data-toc-modified-id=\"15.-In-other-contexts,-it-might-be-useful-to-fill-with-other-values.-7.3\">15. In other contexts, it might be useful to fill with other values.</a></span></li><li><span><a href=\"#16.-Forward-filling-propagates-values-from-rows-above\" data-toc-modified-id=\"16.-Forward-filling-propagates-values-from-rows-above-7.4\">16. Forward filling propagates values from rows above</a></span></li><li><span><a href=\"#17.-Backward-filling-propagates-values-from-rows-below\" data-toc-modified-id=\"17.-Backward-filling-propagates-values-from-rows-below-7.5\">17. Backward filling propagates values from rows below</a></span></li></ul></li><li><span><a href=\"#Counting-Occurrances-of-Unique-Values-With-.value_counts()\" data-toc-modified-id=\"Counting-Occurrances-of-Unique-Values-With-.value_counts()-8\">Counting Occurrances of Unique Values With <code>.value_counts()</code></a></span><ul class=\"toc-item\"><li><span><a href=\"#18.-Create-a-random-vector-of-50-numbers-ranging-from-0-to-6-with-numpy\" data-toc-modified-id=\"18.-Create-a-random-vector-of-50-numbers-ranging-from-0-to-6-with-numpy-8.1\">18. Create a random vector of 50 numbers ranging from 0 to 6 with <code>numpy</code></a></span></li><li><span><a href=\"#19.-Convert-the-vector-to-a-series-and-count-the-occurrences-of-each-number\" data-toc-modified-id=\"19.-Convert-the-vector-to-a-series-and-count-the-occurrences-of-each-number-8.2\">19. Convert the vector to a series and count the occurrences of each number</a></span></li></ul></li><li><span><a href=\"#Independent-Practice:-Sales-Data\" data-toc-modified-id=\"Independent-Practice:-Sales-Data-9\">Independent Practice: Sales Data</a></span></li><li><span><a href=\"#Conclusion\" data-toc-modified-id=\"Conclusion-10\">Conclusion</a></span></li><li><span><a href=\"#Additional-resources\" data-toc-modified-id=\"Additional-resources-11\">Additional resources</a></span></li></ul></div>"
   ]
  },
  {
   "cell_type": "markdown",
   "metadata": {
    "slideshow": {
     "slide_type": "slide"
    }
   },
   "source": [
    "## Common Data Cleaning Strategies\n",
    "\n",
    "---\n",
    "\n",
    "- Remove missing values\n",
    "- Remove incorrect values\n",
    "- Update incorrect values\n",
    "  - Removing invalid characters\n",
    "  - Truncating part of a value\n",
    "  - Adding an extra numeral or string-based data\n",
    "- Impute missing or invalid data\n",
    "  - Calculating the mean/median/mode of a column, sometimes within group subsets\n",
    "  - Implementing model-based imputation (K-Nearest Neighbors, MICE, etc.)\n",
    "- Backward fill or forward fill\n"
   ]
  },
  {
   "cell_type": "markdown",
   "metadata": {
    "slideshow": {
     "slide_type": "slide"
    }
   },
   "source": [
    "## Measures of Data Quality\n",
    "\n",
    "---\n",
    "\n",
    " - What is the relative value of the data column?\n",
    " - Is the data encoded properly?\n",
    " - Is the data consistently encoded? \n",
    " - Does it represent the information it contains appropriately?"
   ]
  },
  {
   "cell_type": "markdown",
   "metadata": {
    "slideshow": {
     "slide_type": "slide"
    }
   },
   "source": [
    "##  `pandas` Tools for Data Cleaning\n",
    "\n",
    "---\n",
    "\n",
    "We're starting to get more comfortable with using `pandas` for manipulating and examining data. Now, let's add a couple more tools to our toolbox.\n",
    "\n",
    "The main data types in `pandas` objects are:\n",
    "- **`float`**: Precision-specific math operations\n",
    "- **`int`**: Operations with whole numbers\n",
    "- **`bool`**: Control flow conditions\n",
    "- **`datetime64`**: Resampling, slicing/selection, frequency back/front filling on a date range\n",
    "- **`timedelta`**: Date comparisons\n",
    "- **`category`**: A more powerful set type; can capture for example days as a category with ordinal (ordering) information\n",
    "- **`object`**: All data types can be represented as an object, but math and date operations will not be possible; limited control flow possibilities are available unless you are comparing strings\n",
    "\n",
    "It is always important to evaluate the data types of columns to ensure that the information they contain is properly represented.\n",
    "\n",
    "We will be using two tools extensively in this lesson:\n",
    "\n",
    "#### The `.map()` function\n",
    "\n",
    "This built-in function can be used to apply a function to a pandas series or single dataframe colum.\n",
    "\n",
    "#### The `.apply()` function\n",
    "\n",
    "This function can be used to apply a function along every row or column of a dataframe, what is returned depends on if the function aggregates or not.\n",
    "\n",
    "#### The `.applymap()` function\n",
    "\n",
    "This function can be used to apply a function to every cell of a dataframe.\n",
    "\n",
    "#### The `.fillna()` function\n",
    "\n",
    "This built-in function allows to specify methods for filling missing data.\n",
    "\n",
    "#### The `.value_counts()` function\n",
    "\n",
    "The `.value_counts()` function can be applied to `pandas` series objects and returns a new series containing the counts of the data's unique values. This series will be formatted in descending order by default, so the first element is the most frequently occurring value.\n",
    "\n",
    "Note: `.value_counts()` excludes the counts of null values in the column!"
   ]
  },
  {
   "cell_type": "markdown",
   "metadata": {
    "slideshow": {
     "slide_type": "slide"
    }
   },
   "source": [
    "## Inspecting Data Types\n",
    "\n",
    "---"
   ]
  },
  {
   "cell_type": "code",
   "execution_count": 1,
   "metadata": {},
   "outputs": [],
   "source": [
    "import pandas as pd\n",
    "import numpy as np"
   ]
  },
  {
   "cell_type": "markdown",
   "metadata": {
    "slideshow": {
     "slide_type": "slide"
    }
   },
   "source": [
    "### 1. Create a small DataFrame with different data types"
   ]
  },
  {
   "cell_type": "code",
   "execution_count": 2,
   "metadata": {
    "slideshow": {
     "slide_type": "-"
    }
   },
   "outputs": [],
   "source": [
    "test_data = dict(\n",
    "    A=np.random.rand(3),\n",
    "    B=1,\n",
    "    C='foo',\n",
    "    D=pd.Timestamp('20010102'),\n",
    "    E=pd.Series([1.0]*3).astype('float32'),\n",
    "    F=False,\n",
    "    G=pd.Series([1]*3, dtype='int8')\n",
    ")"
   ]
  },
  {
   "cell_type": "code",
   "execution_count": 3,
   "metadata": {
    "slideshow": {
     "slide_type": "fragment"
    }
   },
   "outputs": [
    {
     "data": {
      "text/plain": [
       "{'A': array([0.44915863, 0.36006142, 0.04808244]),\n",
       " 'B': 1,\n",
       " 'C': 'foo',\n",
       " 'D': Timestamp('2001-01-02 00:00:00'),\n",
       " 'E': 0    1.0\n",
       " 1    1.0\n",
       " 2    1.0\n",
       " dtype: float32,\n",
       " 'F': False,\n",
       " 'G': 0    1\n",
       " 1    1\n",
       " 2    1\n",
       " dtype: int8}"
      ]
     },
     "execution_count": 3,
     "metadata": {},
     "output_type": "execute_result"
    }
   ],
   "source": [
    "test_data"
   ]
  },
  {
   "cell_type": "code",
   "execution_count": 4,
   "metadata": {
    "slideshow": {
     "slide_type": "slide"
    }
   },
   "outputs": [],
   "source": [
    "# Create a dataframe from the dictionary"
   ]
  },
  {
   "cell_type": "code",
   "execution_count": 4,
   "metadata": {},
   "outputs": [
    {
     "data": {
      "text/html": [
       "<div>\n",
       "<style scoped>\n",
       "    .dataframe tbody tr th:only-of-type {\n",
       "        vertical-align: middle;\n",
       "    }\n",
       "\n",
       "    .dataframe tbody tr th {\n",
       "        vertical-align: top;\n",
       "    }\n",
       "\n",
       "    .dataframe thead th {\n",
       "        text-align: right;\n",
       "    }\n",
       "</style>\n",
       "<table border=\"1\" class=\"dataframe\">\n",
       "  <thead>\n",
       "    <tr style=\"text-align: right;\">\n",
       "      <th></th>\n",
       "      <th>A</th>\n",
       "      <th>B</th>\n",
       "      <th>C</th>\n",
       "      <th>D</th>\n",
       "      <th>E</th>\n",
       "      <th>F</th>\n",
       "      <th>G</th>\n",
       "    </tr>\n",
       "  </thead>\n",
       "  <tbody>\n",
       "    <tr>\n",
       "      <th>0</th>\n",
       "      <td>0.449159</td>\n",
       "      <td>1</td>\n",
       "      <td>foo</td>\n",
       "      <td>2001-01-02</td>\n",
       "      <td>1.0</td>\n",
       "      <td>False</td>\n",
       "      <td>1</td>\n",
       "    </tr>\n",
       "    <tr>\n",
       "      <th>1</th>\n",
       "      <td>0.360061</td>\n",
       "      <td>1</td>\n",
       "      <td>foo</td>\n",
       "      <td>2001-01-02</td>\n",
       "      <td>1.0</td>\n",
       "      <td>False</td>\n",
       "      <td>1</td>\n",
       "    </tr>\n",
       "    <tr>\n",
       "      <th>2</th>\n",
       "      <td>0.048082</td>\n",
       "      <td>1</td>\n",
       "      <td>foo</td>\n",
       "      <td>2001-01-02</td>\n",
       "      <td>1.0</td>\n",
       "      <td>False</td>\n",
       "      <td>1</td>\n",
       "    </tr>\n",
       "  </tbody>\n",
       "</table>\n",
       "</div>"
      ],
      "text/plain": [
       "          A  B    C          D    E      F  G\n",
       "0  0.449159  1  foo 2001-01-02  1.0  False  1\n",
       "1  0.360061  1  foo 2001-01-02  1.0  False  1\n",
       "2  0.048082  1  foo 2001-01-02  1.0  False  1"
      ]
     },
     "execution_count": 4,
     "metadata": {},
     "output_type": "execute_result"
    }
   ],
   "source": [
    "df = pd.DataFrame(test_data)\n",
    "df"
   ]
  },
  {
   "cell_type": "markdown",
   "metadata": {
    "slideshow": {
     "slide_type": "slide"
    }
   },
   "source": [
    "### 2. Examine the data types of the columns"
   ]
  },
  {
   "cell_type": "code",
   "execution_count": 7,
   "metadata": {},
   "outputs": [
    {
     "data": {
      "text/plain": [
       "A           float64\n",
       "B             int64\n",
       "C            object\n",
       "D    datetime64[ns]\n",
       "E           float32\n",
       "F              bool\n",
       "G              int8\n",
       "dtype: object"
      ]
     },
     "execution_count": 7,
     "metadata": {},
     "output_type": "execute_result"
    }
   ],
   "source": [
    "df.dtypes"
   ]
  },
  {
   "cell_type": "markdown",
   "metadata": {
    "slideshow": {
     "slide_type": "slide"
    }
   },
   "source": [
    "### 3. Use the `.get_dtype_counts()` function to determine how many columns there are of each type"
   ]
  },
  {
   "cell_type": "code",
   "execution_count": 8,
   "metadata": {},
   "outputs": [
    {
     "data": {
      "text/plain": [
       "float64           1\n",
       "float32           1\n",
       "int64             1\n",
       "int8              1\n",
       "datetime64[ns]    1\n",
       "bool              1\n",
       "object            1\n",
       "dtype: int64"
      ]
     },
     "execution_count": 8,
     "metadata": {},
     "output_type": "execute_result"
    }
   ],
   "source": [
    "df.get_dtype_counts()"
   ]
  },
  {
   "cell_type": "markdown",
   "metadata": {
    "slideshow": {
     "slide_type": "slide"
    }
   },
   "source": [
    "### 4. Create a Series object with integers 1-5 and float 6.0. \n",
    "\n",
    "- What data type is the Series?\n",
    "- What if instead of a float you inserted a string `'6'`?\n",
    "- Can you convert the series to int format?"
   ]
  },
  {
   "cell_type": "code",
   "execution_count": 35,
   "metadata": {},
   "outputs": [],
   "source": [
    "series_1 = pd.Series([1,2,3,4,5,'6'])"
   ]
  },
  {
   "cell_type": "code",
   "execution_count": 36,
   "metadata": {},
   "outputs": [
    {
     "data": {
      "text/plain": [
       "dtype('O')"
      ]
     },
     "execution_count": 36,
     "metadata": {},
     "output_type": "execute_result"
    }
   ],
   "source": [
    "series_1.dtypes"
   ]
  },
  {
   "cell_type": "code",
   "execution_count": 38,
   "metadata": {},
   "outputs": [
    {
     "name": "stdout",
     "output_type": "stream",
     "text": [
      "<class 'int'>\n",
      "<class 'int'>\n",
      "<class 'int'>\n",
      "<class 'int'>\n",
      "<class 'int'>\n",
      "<class 'str'>\n"
     ]
    }
   ],
   "source": [
    "for i in series_1:\n",
    "    print(type(i))"
   ]
  },
  {
   "cell_type": "code",
   "execution_count": 39,
   "metadata": {},
   "outputs": [],
   "source": [
    "series_1 = series_1.astype(int)"
   ]
  },
  {
   "cell_type": "code",
   "execution_count": 40,
   "metadata": {},
   "outputs": [
    {
     "data": {
      "text/plain": [
       "dtype('int64')"
      ]
     },
     "execution_count": 40,
     "metadata": {},
     "output_type": "execute_result"
    }
   ],
   "source": [
    "series_1.dtypes"
   ]
  },
  {
   "cell_type": "markdown",
   "metadata": {
    "slideshow": {
     "slide_type": "slide"
    }
   },
   "source": [
    "### 5. Create a Series with data `[1, 2, 3, 6., 'foo']`. What data type is the Series?"
   ]
  },
  {
   "cell_type": "code",
   "execution_count": null,
   "metadata": {},
   "outputs": [],
   "source": []
  },
  {
   "cell_type": "markdown",
   "metadata": {
    "slideshow": {
     "slide_type": "slide"
    }
   },
   "source": [
    "### *Without* running this code with a Python interpreter, what would you expect to be the common `dtype`?\n",
    "\n",
    "    [1, 3, 9, .33, False, '03-20-1978', np.arange(22)]\n",
    "\n"
   ]
  },
  {
   "cell_type": "code",
   "execution_count": null,
   "metadata": {},
   "outputs": [],
   "source": []
  },
  {
   "cell_type": "markdown",
   "metadata": {
    "slideshow": {
     "slide_type": "slide"
    }
   },
   "source": [
    "## Applying Functions to DataFrames and Series\n",
    "\n",
    "* `df.map()` can be used to apply a function to a pandas series or single dataframe colum.\n",
    "* `df.apply()` can be used to apply a function along every row or column of a dataframe, what is returned depends on if the function aggregates or not.\n",
    "* `df.applymap()` can be used to apply a function to every cell of a dataframe."
   ]
  },
  {
   "cell_type": "markdown",
   "metadata": {
    "slideshow": {
     "slide_type": "slide"
    }
   },
   "source": [
    "### 6. Create another small DataFrame"
   ]
  },
  {
   "cell_type": "code",
   "execution_count": 9,
   "metadata": {
    "slideshow": {
     "slide_type": "-"
    }
   },
   "outputs": [
    {
     "data": {
      "text/html": [
       "<div>\n",
       "<style scoped>\n",
       "    .dataframe tbody tr th:only-of-type {\n",
       "        vertical-align: middle;\n",
       "    }\n",
       "\n",
       "    .dataframe tbody tr th {\n",
       "        vertical-align: top;\n",
       "    }\n",
       "\n",
       "    .dataframe thead th {\n",
       "        text-align: right;\n",
       "    }\n",
       "</style>\n",
       "<table border=\"1\" class=\"dataframe\">\n",
       "  <thead>\n",
       "    <tr style=\"text-align: right;\">\n",
       "      <th></th>\n",
       "      <th>a</th>\n",
       "      <th>b</th>\n",
       "      <th>c</th>\n",
       "      <th>d</th>\n",
       "    </tr>\n",
       "  </thead>\n",
       "  <tbody>\n",
       "    <tr>\n",
       "      <th>0</th>\n",
       "      <td>1.624345</td>\n",
       "      <td>-0.611756</td>\n",
       "      <td>-0.528172</td>\n",
       "      <td>-1.072969</td>\n",
       "    </tr>\n",
       "    <tr>\n",
       "      <th>1</th>\n",
       "      <td>0.865408</td>\n",
       "      <td>-2.301539</td>\n",
       "      <td>1.744812</td>\n",
       "      <td>-0.761207</td>\n",
       "    </tr>\n",
       "    <tr>\n",
       "      <th>2</th>\n",
       "      <td>0.319039</td>\n",
       "      <td>-0.249370</td>\n",
       "      <td>1.462108</td>\n",
       "      <td>-2.060141</td>\n",
       "    </tr>\n",
       "    <tr>\n",
       "      <th>3</th>\n",
       "      <td>-0.322417</td>\n",
       "      <td>-0.384054</td>\n",
       "      <td>1.133769</td>\n",
       "      <td>-1.099891</td>\n",
       "    </tr>\n",
       "    <tr>\n",
       "      <th>4</th>\n",
       "      <td>-0.172428</td>\n",
       "      <td>-0.877858</td>\n",
       "      <td>0.042214</td>\n",
       "      <td>0.582815</td>\n",
       "    </tr>\n",
       "  </tbody>\n",
       "</table>\n",
       "</div>"
      ],
      "text/plain": [
       "          a         b         c         d\n",
       "0  1.624345 -0.611756 -0.528172 -1.072969\n",
       "1  0.865408 -2.301539  1.744812 -0.761207\n",
       "2  0.319039 -0.249370  1.462108 -2.060141\n",
       "3 -0.322417 -0.384054  1.133769 -1.099891\n",
       "4 -0.172428 -0.877858  0.042214  0.582815"
      ]
     },
     "execution_count": 9,
     "metadata": {},
     "output_type": "execute_result"
    }
   ],
   "source": [
    "# Create some more test data.\n",
    "np.random.seed(1)\n",
    "df = pd.DataFrame(np.random.randn(5, 4), columns=['a', 'b', 'c', 'd'])\n",
    "df"
   ]
  },
  {
   "cell_type": "markdown",
   "metadata": {
    "slideshow": {
     "slide_type": "slide"
    }
   },
   "source": [
    "### 7. Use the `.apply()`/`.applymap()` function to find the square root of all cells\n",
    "\n",
    "*Hint: You can use np.sqrt*"
   ]
  },
  {
   "cell_type": "code",
   "execution_count": 11,
   "metadata": {},
   "outputs": [
    {
     "data": {
      "text/html": [
       "<div>\n",
       "<style scoped>\n",
       "    .dataframe tbody tr th:only-of-type {\n",
       "        vertical-align: middle;\n",
       "    }\n",
       "\n",
       "    .dataframe tbody tr th {\n",
       "        vertical-align: top;\n",
       "    }\n",
       "\n",
       "    .dataframe thead th {\n",
       "        text-align: right;\n",
       "    }\n",
       "</style>\n",
       "<table border=\"1\" class=\"dataframe\">\n",
       "  <thead>\n",
       "    <tr style=\"text-align: right;\">\n",
       "      <th></th>\n",
       "      <th>a</th>\n",
       "      <th>b</th>\n",
       "      <th>c</th>\n",
       "      <th>d</th>\n",
       "    </tr>\n",
       "  </thead>\n",
       "  <tbody>\n",
       "    <tr>\n",
       "      <th>0</th>\n",
       "      <td>1.274498</td>\n",
       "      <td>NaN</td>\n",
       "      <td>NaN</td>\n",
       "      <td>NaN</td>\n",
       "    </tr>\n",
       "    <tr>\n",
       "      <th>1</th>\n",
       "      <td>0.930273</td>\n",
       "      <td>NaN</td>\n",
       "      <td>1.320913</td>\n",
       "      <td>NaN</td>\n",
       "    </tr>\n",
       "    <tr>\n",
       "      <th>2</th>\n",
       "      <td>0.564835</td>\n",
       "      <td>NaN</td>\n",
       "      <td>1.209177</td>\n",
       "      <td>NaN</td>\n",
       "    </tr>\n",
       "    <tr>\n",
       "      <th>3</th>\n",
       "      <td>NaN</td>\n",
       "      <td>NaN</td>\n",
       "      <td>1.064786</td>\n",
       "      <td>NaN</td>\n",
       "    </tr>\n",
       "    <tr>\n",
       "      <th>4</th>\n",
       "      <td>NaN</td>\n",
       "      <td>NaN</td>\n",
       "      <td>0.205460</td>\n",
       "      <td>0.763423</td>\n",
       "    </tr>\n",
       "  </tbody>\n",
       "</table>\n",
       "</div>"
      ],
      "text/plain": [
       "          a   b         c         d\n",
       "0  1.274498 NaN       NaN       NaN\n",
       "1  0.930273 NaN  1.320913       NaN\n",
       "2  0.564835 NaN  1.209177       NaN\n",
       "3       NaN NaN  1.064786       NaN\n",
       "4       NaN NaN  0.205460  0.763423"
      ]
     },
     "execution_count": 11,
     "metadata": {},
     "output_type": "execute_result"
    }
   ],
   "source": [
    "df.applymap(np.sqrt)"
   ]
  },
  {
   "cell_type": "markdown",
   "metadata": {
    "slideshow": {
     "slide_type": "slide"
    }
   },
   "source": [
    "### 8. Use `.apply()` to find the mean of the columns"
   ]
  },
  {
   "cell_type": "code",
   "execution_count": 13,
   "metadata": {
    "slideshow": {
     "slide_type": "fragment"
    }
   },
   "outputs": [
    {
     "data": {
      "text/plain": [
       "a    0.462789\n",
       "b   -0.884916\n",
       "c    0.770946\n",
       "d   -0.882278\n",
       "dtype: float64"
      ]
     },
     "execution_count": 13,
     "metadata": {},
     "output_type": "execute_result"
    }
   ],
   "source": [
    "df.apply(np.mean)"
   ]
  },
  {
   "cell_type": "markdown",
   "metadata": {
    "slideshow": {
     "slide_type": "slide"
    }
   },
   "source": [
    "### 9. Use `.apply()` to find the mean of the rows"
   ]
  },
  {
   "cell_type": "code",
   "execution_count": 14,
   "metadata": {},
   "outputs": [
    {
     "data": {
      "text/plain": [
       "0   -0.147138\n",
       "1   -0.113132\n",
       "2   -0.132091\n",
       "3   -0.168148\n",
       "4   -0.106314\n",
       "dtype: float64"
      ]
     },
     "execution_count": 14,
     "metadata": {},
     "output_type": "execute_result"
    }
   ],
   "source": [
    "df.apply(np.mean, axis=1)"
   ]
  },
  {
   "cell_type": "markdown",
   "metadata": {},
   "source": [
    "### 10. Use `.apply()` to add columns `a` and `c`"
   ]
  },
  {
   "cell_type": "code",
   "execution_count": 18,
   "metadata": {
    "scrolled": true
   },
   "outputs": [
    {
     "data": {
      "text/plain": [
       "0    1.096174\n",
       "1    2.610219\n",
       "2    1.781147\n",
       "3    0.811352\n",
       "4   -0.130214\n",
       "dtype: float64"
      ]
     },
     "execution_count": 18,
     "metadata": {},
     "output_type": "execute_result"
    }
   ],
   "source": [
    "df.loc[:,['a','c']].apply(np.sum, axis = 1)"
   ]
  },
  {
   "cell_type": "markdown",
   "metadata": {},
   "source": [
    "### 11. Use `.applymap()` to round the value in each cell"
   ]
  },
  {
   "cell_type": "code",
   "execution_count": 34,
   "metadata": {},
   "outputs": [
    {
     "data": {
      "text/html": [
       "<div>\n",
       "<style scoped>\n",
       "    .dataframe tbody tr th:only-of-type {\n",
       "        vertical-align: middle;\n",
       "    }\n",
       "\n",
       "    .dataframe tbody tr th {\n",
       "        vertical-align: top;\n",
       "    }\n",
       "\n",
       "    .dataframe thead th {\n",
       "        text-align: right;\n",
       "    }\n",
       "</style>\n",
       "<table border=\"1\" class=\"dataframe\">\n",
       "  <thead>\n",
       "    <tr style=\"text-align: right;\">\n",
       "      <th></th>\n",
       "      <th>a</th>\n",
       "      <th>b</th>\n",
       "      <th>c</th>\n",
       "      <th>d</th>\n",
       "    </tr>\n",
       "  </thead>\n",
       "  <tbody>\n",
       "    <tr>\n",
       "      <th>0</th>\n",
       "      <td>2</td>\n",
       "      <td>-1</td>\n",
       "      <td>-1</td>\n",
       "      <td>-1</td>\n",
       "    </tr>\n",
       "    <tr>\n",
       "      <th>1</th>\n",
       "      <td>1</td>\n",
       "      <td>-2</td>\n",
       "      <td>2</td>\n",
       "      <td>-1</td>\n",
       "    </tr>\n",
       "    <tr>\n",
       "      <th>2</th>\n",
       "      <td>0</td>\n",
       "      <td>0</td>\n",
       "      <td>1</td>\n",
       "      <td>-2</td>\n",
       "    </tr>\n",
       "    <tr>\n",
       "      <th>3</th>\n",
       "      <td>0</td>\n",
       "      <td>0</td>\n",
       "      <td>1</td>\n",
       "      <td>-1</td>\n",
       "    </tr>\n",
       "    <tr>\n",
       "      <th>4</th>\n",
       "      <td>0</td>\n",
       "      <td>-1</td>\n",
       "      <td>0</td>\n",
       "      <td>1</td>\n",
       "    </tr>\n",
       "  </tbody>\n",
       "</table>\n",
       "</div>"
      ],
      "text/plain": [
       "   a  b  c  d\n",
       "0  2 -1 -1 -1\n",
       "1  1 -2  2 -1\n",
       "2  0  0  1 -2\n",
       "3  0  0  1 -1\n",
       "4  0 -1  0  1"
      ]
     },
     "execution_count": 34,
     "metadata": {},
     "output_type": "execute_result"
    }
   ],
   "source": [
    "df.applymap(round)"
   ]
  },
  {
   "cell_type": "code",
   "execution_count": 32,
   "metadata": {},
   "outputs": [
    {
     "data": {
      "text/html": [
       "<div>\n",
       "<style scoped>\n",
       "    .dataframe tbody tr th:only-of-type {\n",
       "        vertical-align: middle;\n",
       "    }\n",
       "\n",
       "    .dataframe tbody tr th {\n",
       "        vertical-align: top;\n",
       "    }\n",
       "\n",
       "    .dataframe thead th {\n",
       "        text-align: right;\n",
       "    }\n",
       "</style>\n",
       "<table border=\"1\" class=\"dataframe\">\n",
       "  <thead>\n",
       "    <tr style=\"text-align: right;\">\n",
       "      <th></th>\n",
       "      <th>a</th>\n",
       "      <th>b</th>\n",
       "      <th>c</th>\n",
       "      <th>d</th>\n",
       "    </tr>\n",
       "  </thead>\n",
       "  <tbody>\n",
       "    <tr>\n",
       "      <th>0</th>\n",
       "      <td>1.62</td>\n",
       "      <td>-0.61</td>\n",
       "      <td>-0.53</td>\n",
       "      <td>-1.07</td>\n",
       "    </tr>\n",
       "    <tr>\n",
       "      <th>1</th>\n",
       "      <td>0.87</td>\n",
       "      <td>-2.30</td>\n",
       "      <td>1.74</td>\n",
       "      <td>-0.76</td>\n",
       "    </tr>\n",
       "    <tr>\n",
       "      <th>2</th>\n",
       "      <td>0.32</td>\n",
       "      <td>-0.25</td>\n",
       "      <td>1.46</td>\n",
       "      <td>-2.06</td>\n",
       "    </tr>\n",
       "    <tr>\n",
       "      <th>3</th>\n",
       "      <td>-0.32</td>\n",
       "      <td>-0.38</td>\n",
       "      <td>1.13</td>\n",
       "      <td>-1.10</td>\n",
       "    </tr>\n",
       "    <tr>\n",
       "      <th>4</th>\n",
       "      <td>-0.17</td>\n",
       "      <td>-0.88</td>\n",
       "      <td>0.04</td>\n",
       "      <td>0.58</td>\n",
       "    </tr>\n",
       "  </tbody>\n",
       "</table>\n",
       "</div>"
      ],
      "text/plain": [
       "      a     b     c     d\n",
       "0  1.62 -0.61 -0.53 -1.07\n",
       "1  0.87 -2.30  1.74 -0.76\n",
       "2  0.32 -0.25  1.46 -2.06\n",
       "3 -0.32 -0.38  1.13 -1.10\n",
       "4 -0.17 -0.88  0.04  0.58"
      ]
     },
     "execution_count": 32,
     "metadata": {},
     "output_type": "execute_result"
    }
   ],
   "source": [
    "#or...\n",
    "df.applymap(lambda x: round(x,2))"
   ]
  },
  {
   "cell_type": "markdown",
   "metadata": {},
   "source": [
    "### 12. Use `.applymap()` to convert the data type of each cell"
   ]
  },
  {
   "cell_type": "markdown",
   "metadata": {},
   "source": [
    "Convert all values into integers and replace words with NaNs"
   ]
  },
  {
   "cell_type": "code",
   "execution_count": 23,
   "metadata": {},
   "outputs": [
    {
     "data": {
      "text/html": [
       "<div>\n",
       "<style scoped>\n",
       "    .dataframe tbody tr th:only-of-type {\n",
       "        vertical-align: middle;\n",
       "    }\n",
       "\n",
       "    .dataframe tbody tr th {\n",
       "        vertical-align: top;\n",
       "    }\n",
       "\n",
       "    .dataframe thead th {\n",
       "        text-align: right;\n",
       "    }\n",
       "</style>\n",
       "<table border=\"1\" class=\"dataframe\">\n",
       "  <thead>\n",
       "    <tr style=\"text-align: right;\">\n",
       "      <th></th>\n",
       "      <th>A</th>\n",
       "      <th>B</th>\n",
       "    </tr>\n",
       "  </thead>\n",
       "  <tbody>\n",
       "    <tr>\n",
       "      <th>0</th>\n",
       "      <td>1</td>\n",
       "      <td>test</td>\n",
       "    </tr>\n",
       "    <tr>\n",
       "      <th>1</th>\n",
       "      <td>2</td>\n",
       "      <td>10</td>\n",
       "    </tr>\n",
       "    <tr>\n",
       "      <th>2</th>\n",
       "      <td>3</td>\n",
       "      <td>20</td>\n",
       "    </tr>\n",
       "    <tr>\n",
       "      <th>3</th>\n",
       "      <td>4</td>\n",
       "      <td>30</td>\n",
       "    </tr>\n",
       "    <tr>\n",
       "      <th>4</th>\n",
       "      <td>5</td>\n",
       "      <td>not</td>\n",
       "    </tr>\n",
       "  </tbody>\n",
       "</table>\n",
       "</div>"
      ],
      "text/plain": [
       "   A     B\n",
       "0  1  test\n",
       "1  2    10\n",
       "2  3    20\n",
       "3  4    30\n",
       "4  5   not"
      ]
     },
     "execution_count": 23,
     "metadata": {},
     "output_type": "execute_result"
    }
   ],
   "source": [
    "df12 = pd.DataFrame({'A':[1,2,'3',4,'5'],\n",
    "                 'B': ['test', 10, 20, '30', 'not']})\n",
    "df12"
   ]
  },
  {
   "cell_type": "code",
   "execution_count": 42,
   "metadata": {},
   "outputs": [
    {
     "name": "stdout",
     "output_type": "stream",
     "text": [
      "<class 'int'>\n",
      "<class 'int'>\n",
      "<class 'str'>\n",
      "<class 'int'>\n",
      "<class 'str'>\n",
      "<class 'str'>\n",
      "<class 'int'>\n",
      "<class 'int'>\n",
      "<class 'str'>\n",
      "<class 'str'>\n"
     ]
    }
   ],
   "source": [
    "for col in df12.columns:\n",
    "    for i in df12[col]:\n",
    "        print(type(i))"
   ]
  },
  {
   "cell_type": "code",
   "execution_count": 7,
   "metadata": {},
   "outputs": [
    {
     "name": "stdout",
     "output_type": "stream",
     "text": [
      "<class 'int'>\n",
      "<class 'int'>\n",
      "<class 'str'>\n",
      "<class 'int'>\n",
      "<class 'str'>\n",
      "<class 'str'>\n",
      "<class 'int'>\n",
      "<class 'int'>\n",
      "<class 'str'>\n",
      "<class 'str'>\n"
     ]
    }
   ],
   "source": [
    "# This is the data type of each cell currently\n",
    "# Try this again after your conversion\n",
    "\n",
    "for col in df12.columns:\n",
    "    for i in df12[col]:\n",
    "        print(type(i))"
   ]
  },
  {
   "cell_type": "code",
   "execution_count": 57,
   "metadata": {},
   "outputs": [
    {
     "data": {
      "text/html": [
       "<div>\n",
       "<style scoped>\n",
       "    .dataframe tbody tr th:only-of-type {\n",
       "        vertical-align: middle;\n",
       "    }\n",
       "\n",
       "    .dataframe tbody tr th {\n",
       "        vertical-align: top;\n",
       "    }\n",
       "\n",
       "    .dataframe thead th {\n",
       "        text-align: right;\n",
       "    }\n",
       "</style>\n",
       "<table border=\"1\" class=\"dataframe\">\n",
       "  <thead>\n",
       "    <tr style=\"text-align: right;\">\n",
       "      <th></th>\n",
       "      <th>A</th>\n",
       "      <th>B</th>\n",
       "    </tr>\n",
       "  </thead>\n",
       "  <tbody>\n",
       "    <tr>\n",
       "      <th>0</th>\n",
       "      <td>1</td>\n",
       "      <td>NaN</td>\n",
       "    </tr>\n",
       "    <tr>\n",
       "      <th>1</th>\n",
       "      <td>2</td>\n",
       "      <td>10.0</td>\n",
       "    </tr>\n",
       "    <tr>\n",
       "      <th>2</th>\n",
       "      <td>3</td>\n",
       "      <td>20.0</td>\n",
       "    </tr>\n",
       "    <tr>\n",
       "      <th>3</th>\n",
       "      <td>4</td>\n",
       "      <td>30.0</td>\n",
       "    </tr>\n",
       "    <tr>\n",
       "      <th>4</th>\n",
       "      <td>5</td>\n",
       "      <td>NaN</td>\n",
       "    </tr>\n",
       "  </tbody>\n",
       "</table>\n",
       "</div>"
      ],
      "text/plain": [
       "   A     B\n",
       "0  1   NaN\n",
       "1  2  10.0\n",
       "2  3  20.0\n",
       "3  4  30.0\n",
       "4  5   NaN"
      ]
     },
     "execution_count": 57,
     "metadata": {},
     "output_type": "execute_result"
    }
   ],
   "source": [
    "# Use a defined function\n",
    "def make_int(x):\n",
    "    if type(x) == str and x.isdigit():\n",
    "        return int(x)\n",
    "    elif type(x) is str:\n",
    "        return None\n",
    "    else:\n",
    "        return x\n",
    "    \n",
    "df12.applymap(make_int)"
   ]
  },
  {
   "cell_type": "code",
   "execution_count": 63,
   "metadata": {},
   "outputs": [
    {
     "data": {
      "text/html": [
       "<div>\n",
       "<style scoped>\n",
       "    .dataframe tbody tr th:only-of-type {\n",
       "        vertical-align: middle;\n",
       "    }\n",
       "\n",
       "    .dataframe tbody tr th {\n",
       "        vertical-align: top;\n",
       "    }\n",
       "\n",
       "    .dataframe thead th {\n",
       "        text-align: right;\n",
       "    }\n",
       "</style>\n",
       "<table border=\"1\" class=\"dataframe\">\n",
       "  <thead>\n",
       "    <tr style=\"text-align: right;\">\n",
       "      <th></th>\n",
       "      <th>A</th>\n",
       "      <th>B</th>\n",
       "    </tr>\n",
       "  </thead>\n",
       "  <tbody>\n",
       "    <tr>\n",
       "      <th>0</th>\n",
       "      <td>1</td>\n",
       "      <td>NaN</td>\n",
       "    </tr>\n",
       "    <tr>\n",
       "      <th>1</th>\n",
       "      <td>2</td>\n",
       "      <td>10.0</td>\n",
       "    </tr>\n",
       "    <tr>\n",
       "      <th>2</th>\n",
       "      <td>3</td>\n",
       "      <td>20.0</td>\n",
       "    </tr>\n",
       "    <tr>\n",
       "      <th>3</th>\n",
       "      <td>4</td>\n",
       "      <td>30.0</td>\n",
       "    </tr>\n",
       "    <tr>\n",
       "      <th>4</th>\n",
       "      <td>5</td>\n",
       "      <td>NaN</td>\n",
       "    </tr>\n",
       "  </tbody>\n",
       "</table>\n",
       "</div>"
      ],
      "text/plain": [
       "   A     B\n",
       "0  1   NaN\n",
       "1  2  10.0\n",
       "2  3  20.0\n",
       "3  4  30.0\n",
       "4  5   NaN"
      ]
     },
     "execution_count": 63,
     "metadata": {},
     "output_type": "execute_result"
    }
   ],
   "source": [
    "# Use a lambda function\n",
    "df12.applymap(lambda x: int(x) \n",
    "              if type(x) is str and x.isdigit()\n",
    "              else\n",
    "                  (None if type(x) is str\n",
    "                  else x))"
   ]
  },
  {
   "cell_type": "markdown",
   "metadata": {},
   "source": [
    "## Filling missing values\n",
    "\n",
    "---\n",
    "\n",
    "When we took the square root of all the elements in df, some values where not mapped to another number because they were negative. One could use `.applymap()` in some way to fill these values. A more direct method uses pandas' data filling methods."
   ]
  },
  {
   "cell_type": "markdown",
   "metadata": {},
   "source": [
    "### 13. Fill all missing values with 'neg' (indicating that the missing value was due to a negative original value)"
   ]
  },
  {
   "cell_type": "code",
   "execution_count": 10,
   "metadata": {},
   "outputs": [
    {
     "name": "stderr",
     "output_type": "stream",
     "text": [
      "/Users/joanawang/anaconda3/lib/python3.7/site-packages/pandas/core/frame.py:6551: RuntimeWarning: invalid value encountered in sqrt\n",
      "  return lib.map_infer(x.astype(object).values, func)\n"
     ]
    },
    {
     "data": {
      "text/html": [
       "<div>\n",
       "<style scoped>\n",
       "    .dataframe tbody tr th:only-of-type {\n",
       "        vertical-align: middle;\n",
       "    }\n",
       "\n",
       "    .dataframe tbody tr th {\n",
       "        vertical-align: top;\n",
       "    }\n",
       "\n",
       "    .dataframe thead th {\n",
       "        text-align: right;\n",
       "    }\n",
       "</style>\n",
       "<table border=\"1\" class=\"dataframe\">\n",
       "  <thead>\n",
       "    <tr style=\"text-align: right;\">\n",
       "      <th></th>\n",
       "      <th>a</th>\n",
       "      <th>b</th>\n",
       "      <th>c</th>\n",
       "      <th>d</th>\n",
       "    </tr>\n",
       "  </thead>\n",
       "  <tbody>\n",
       "    <tr>\n",
       "      <th>0</th>\n",
       "      <td>1.274498</td>\n",
       "      <td>NaN</td>\n",
       "      <td>NaN</td>\n",
       "      <td>NaN</td>\n",
       "    </tr>\n",
       "    <tr>\n",
       "      <th>1</th>\n",
       "      <td>0.930273</td>\n",
       "      <td>NaN</td>\n",
       "      <td>1.320913</td>\n",
       "      <td>NaN</td>\n",
       "    </tr>\n",
       "    <tr>\n",
       "      <th>2</th>\n",
       "      <td>0.564835</td>\n",
       "      <td>NaN</td>\n",
       "      <td>1.209177</td>\n",
       "      <td>NaN</td>\n",
       "    </tr>\n",
       "    <tr>\n",
       "      <th>3</th>\n",
       "      <td>NaN</td>\n",
       "      <td>NaN</td>\n",
       "      <td>1.064786</td>\n",
       "      <td>NaN</td>\n",
       "    </tr>\n",
       "    <tr>\n",
       "      <th>4</th>\n",
       "      <td>NaN</td>\n",
       "      <td>NaN</td>\n",
       "      <td>0.205460</td>\n",
       "      <td>0.763423</td>\n",
       "    </tr>\n",
       "  </tbody>\n",
       "</table>\n",
       "</div>"
      ],
      "text/plain": [
       "          a   b         c         d\n",
       "0  1.274498 NaN       NaN       NaN\n",
       "1  0.930273 NaN  1.320913       NaN\n",
       "2  0.564835 NaN  1.209177       NaN\n",
       "3       NaN NaN  1.064786       NaN\n",
       "4       NaN NaN  0.205460  0.763423"
      ]
     },
     "execution_count": 10,
     "metadata": {},
     "output_type": "execute_result"
    }
   ],
   "source": [
    "# Creating a dataframe with NaNs\n",
    "\n",
    "df_sqrt = df.applymap(np.sqrt)\n",
    "df_sqrt"
   ]
  },
  {
   "cell_type": "code",
   "execution_count": 11,
   "metadata": {},
   "outputs": [
    {
     "data": {
      "text/html": [
       "<div>\n",
       "<style scoped>\n",
       "    .dataframe tbody tr th:only-of-type {\n",
       "        vertical-align: middle;\n",
       "    }\n",
       "\n",
       "    .dataframe tbody tr th {\n",
       "        vertical-align: top;\n",
       "    }\n",
       "\n",
       "    .dataframe thead th {\n",
       "        text-align: right;\n",
       "    }\n",
       "</style>\n",
       "<table border=\"1\" class=\"dataframe\">\n",
       "  <thead>\n",
       "    <tr style=\"text-align: right;\">\n",
       "      <th></th>\n",
       "      <th>a</th>\n",
       "      <th>b</th>\n",
       "      <th>c</th>\n",
       "      <th>d</th>\n",
       "    </tr>\n",
       "  </thead>\n",
       "  <tbody>\n",
       "    <tr>\n",
       "      <th>0</th>\n",
       "      <td>1.2745</td>\n",
       "      <td>neg</td>\n",
       "      <td>neg</td>\n",
       "      <td>neg</td>\n",
       "    </tr>\n",
       "    <tr>\n",
       "      <th>1</th>\n",
       "      <td>0.930273</td>\n",
       "      <td>neg</td>\n",
       "      <td>1.32091</td>\n",
       "      <td>neg</td>\n",
       "    </tr>\n",
       "    <tr>\n",
       "      <th>2</th>\n",
       "      <td>0.564835</td>\n",
       "      <td>neg</td>\n",
       "      <td>1.20918</td>\n",
       "      <td>neg</td>\n",
       "    </tr>\n",
       "    <tr>\n",
       "      <th>3</th>\n",
       "      <td>neg</td>\n",
       "      <td>neg</td>\n",
       "      <td>1.06479</td>\n",
       "      <td>neg</td>\n",
       "    </tr>\n",
       "    <tr>\n",
       "      <th>4</th>\n",
       "      <td>neg</td>\n",
       "      <td>neg</td>\n",
       "      <td>0.20546</td>\n",
       "      <td>0.763423</td>\n",
       "    </tr>\n",
       "  </tbody>\n",
       "</table>\n",
       "</div>"
      ],
      "text/plain": [
       "          a    b        c         d\n",
       "0    1.2745  neg      neg       neg\n",
       "1  0.930273  neg  1.32091       neg\n",
       "2  0.564835  neg  1.20918       neg\n",
       "3       neg  neg  1.06479       neg\n",
       "4       neg  neg  0.20546  0.763423"
      ]
     },
     "execution_count": 11,
     "metadata": {},
     "output_type": "execute_result"
    }
   ],
   "source": [
    "df_sqrt.fillna('neg')"
   ]
  },
  {
   "cell_type": "markdown",
   "metadata": {},
   "source": [
    "### 14. We could do that also for one column only. \n",
    "\n",
    "Note that the given dataframe was not modified before. We have to specify `inplace=True` to do so."
   ]
  },
  {
   "cell_type": "code",
   "execution_count": 12,
   "metadata": {},
   "outputs": [
    {
     "data": {
      "text/html": [
       "<div>\n",
       "<style scoped>\n",
       "    .dataframe tbody tr th:only-of-type {\n",
       "        vertical-align: middle;\n",
       "    }\n",
       "\n",
       "    .dataframe tbody tr th {\n",
       "        vertical-align: top;\n",
       "    }\n",
       "\n",
       "    .dataframe thead th {\n",
       "        text-align: right;\n",
       "    }\n",
       "</style>\n",
       "<table border=\"1\" class=\"dataframe\">\n",
       "  <thead>\n",
       "    <tr style=\"text-align: right;\">\n",
       "      <th></th>\n",
       "      <th>a</th>\n",
       "      <th>b</th>\n",
       "      <th>c</th>\n",
       "      <th>d</th>\n",
       "    </tr>\n",
       "  </thead>\n",
       "  <tbody>\n",
       "    <tr>\n",
       "      <th>0</th>\n",
       "      <td>1.274498</td>\n",
       "      <td>neg</td>\n",
       "      <td>NaN</td>\n",
       "      <td>NaN</td>\n",
       "    </tr>\n",
       "    <tr>\n",
       "      <th>1</th>\n",
       "      <td>0.930273</td>\n",
       "      <td>neg</td>\n",
       "      <td>1.320913</td>\n",
       "      <td>NaN</td>\n",
       "    </tr>\n",
       "    <tr>\n",
       "      <th>2</th>\n",
       "      <td>0.564835</td>\n",
       "      <td>neg</td>\n",
       "      <td>1.209177</td>\n",
       "      <td>NaN</td>\n",
       "    </tr>\n",
       "    <tr>\n",
       "      <th>3</th>\n",
       "      <td>NaN</td>\n",
       "      <td>neg</td>\n",
       "      <td>1.064786</td>\n",
       "      <td>NaN</td>\n",
       "    </tr>\n",
       "    <tr>\n",
       "      <th>4</th>\n",
       "      <td>NaN</td>\n",
       "      <td>neg</td>\n",
       "      <td>0.205460</td>\n",
       "      <td>0.763423</td>\n",
       "    </tr>\n",
       "  </tbody>\n",
       "</table>\n",
       "</div>"
      ],
      "text/plain": [
       "          a    b         c         d\n",
       "0  1.274498  neg       NaN       NaN\n",
       "1  0.930273  neg  1.320913       NaN\n",
       "2  0.564835  neg  1.209177       NaN\n",
       "3       NaN  neg  1.064786       NaN\n",
       "4       NaN  neg  0.205460  0.763423"
      ]
     },
     "execution_count": 12,
     "metadata": {},
     "output_type": "execute_result"
    }
   ],
   "source": [
    "df_sqrt.fillna({'b': 'neg'}, inplace=True)\n",
    "df_sqrt"
   ]
  },
  {
   "cell_type": "markdown",
   "metadata": {},
   "source": [
    "### 15. In other contexts, it might be useful to fill with other values. \n",
    "\n",
    "Just to show how it works,\n",
    "let's fill the missing value in column `c` with the column mean."
   ]
  },
  {
   "cell_type": "code",
   "execution_count": 13,
   "metadata": {},
   "outputs": [
    {
     "data": {
      "text/html": [
       "<div>\n",
       "<style scoped>\n",
       "    .dataframe tbody tr th:only-of-type {\n",
       "        vertical-align: middle;\n",
       "    }\n",
       "\n",
       "    .dataframe tbody tr th {\n",
       "        vertical-align: top;\n",
       "    }\n",
       "\n",
       "    .dataframe thead th {\n",
       "        text-align: right;\n",
       "    }\n",
       "</style>\n",
       "<table border=\"1\" class=\"dataframe\">\n",
       "  <thead>\n",
       "    <tr style=\"text-align: right;\">\n",
       "      <th></th>\n",
       "      <th>a</th>\n",
       "      <th>b</th>\n",
       "      <th>c</th>\n",
       "      <th>d</th>\n",
       "    </tr>\n",
       "  </thead>\n",
       "  <tbody>\n",
       "    <tr>\n",
       "      <th>0</th>\n",
       "      <td>1.274498</td>\n",
       "      <td>neg</td>\n",
       "      <td>0.950084</td>\n",
       "      <td>NaN</td>\n",
       "    </tr>\n",
       "    <tr>\n",
       "      <th>1</th>\n",
       "      <td>0.930273</td>\n",
       "      <td>neg</td>\n",
       "      <td>1.320913</td>\n",
       "      <td>NaN</td>\n",
       "    </tr>\n",
       "    <tr>\n",
       "      <th>2</th>\n",
       "      <td>0.564835</td>\n",
       "      <td>neg</td>\n",
       "      <td>1.209177</td>\n",
       "      <td>NaN</td>\n",
       "    </tr>\n",
       "    <tr>\n",
       "      <th>3</th>\n",
       "      <td>NaN</td>\n",
       "      <td>neg</td>\n",
       "      <td>1.064786</td>\n",
       "      <td>NaN</td>\n",
       "    </tr>\n",
       "    <tr>\n",
       "      <th>4</th>\n",
       "      <td>NaN</td>\n",
       "      <td>neg</td>\n",
       "      <td>0.205460</td>\n",
       "      <td>0.763423</td>\n",
       "    </tr>\n",
       "  </tbody>\n",
       "</table>\n",
       "</div>"
      ],
      "text/plain": [
       "          a    b         c         d\n",
       "0  1.274498  neg  0.950084       NaN\n",
       "1  0.930273  neg  1.320913       NaN\n",
       "2  0.564835  neg  1.209177       NaN\n",
       "3       NaN  neg  1.064786       NaN\n",
       "4       NaN  neg  0.205460  0.763423"
      ]
     },
     "execution_count": 13,
     "metadata": {},
     "output_type": "execute_result"
    }
   ],
   "source": [
    "df_sqrt.c.fillna(df_sqrt.c.mean(), inplace=True)\n",
    "df_sqrt"
   ]
  },
  {
   "cell_type": "markdown",
   "metadata": {},
   "source": [
    "### 16. Forward filling propagates values from rows above"
   ]
  },
  {
   "cell_type": "code",
   "execution_count": 14,
   "metadata": {},
   "outputs": [
    {
     "data": {
      "text/html": [
       "<div>\n",
       "<style scoped>\n",
       "    .dataframe tbody tr th:only-of-type {\n",
       "        vertical-align: middle;\n",
       "    }\n",
       "\n",
       "    .dataframe tbody tr th {\n",
       "        vertical-align: top;\n",
       "    }\n",
       "\n",
       "    .dataframe thead th {\n",
       "        text-align: right;\n",
       "    }\n",
       "</style>\n",
       "<table border=\"1\" class=\"dataframe\">\n",
       "  <thead>\n",
       "    <tr style=\"text-align: right;\">\n",
       "      <th></th>\n",
       "      <th>a</th>\n",
       "      <th>b</th>\n",
       "      <th>c</th>\n",
       "      <th>d</th>\n",
       "    </tr>\n",
       "  </thead>\n",
       "  <tbody>\n",
       "    <tr>\n",
       "      <th>0</th>\n",
       "      <td>1.274498</td>\n",
       "      <td>neg</td>\n",
       "      <td>0.950084</td>\n",
       "      <td>NaN</td>\n",
       "    </tr>\n",
       "    <tr>\n",
       "      <th>1</th>\n",
       "      <td>0.930273</td>\n",
       "      <td>neg</td>\n",
       "      <td>1.320913</td>\n",
       "      <td>NaN</td>\n",
       "    </tr>\n",
       "    <tr>\n",
       "      <th>2</th>\n",
       "      <td>0.564835</td>\n",
       "      <td>neg</td>\n",
       "      <td>1.209177</td>\n",
       "      <td>NaN</td>\n",
       "    </tr>\n",
       "    <tr>\n",
       "      <th>3</th>\n",
       "      <td>0.564835</td>\n",
       "      <td>neg</td>\n",
       "      <td>1.064786</td>\n",
       "      <td>NaN</td>\n",
       "    </tr>\n",
       "    <tr>\n",
       "      <th>4</th>\n",
       "      <td>0.564835</td>\n",
       "      <td>neg</td>\n",
       "      <td>0.205460</td>\n",
       "      <td>0.763423</td>\n",
       "    </tr>\n",
       "  </tbody>\n",
       "</table>\n",
       "</div>"
      ],
      "text/plain": [
       "          a    b         c         d\n",
       "0  1.274498  neg  0.950084       NaN\n",
       "1  0.930273  neg  1.320913       NaN\n",
       "2  0.564835  neg  1.209177       NaN\n",
       "3  0.564835  neg  1.064786       NaN\n",
       "4  0.564835  neg  0.205460  0.763423"
      ]
     },
     "execution_count": 14,
     "metadata": {},
     "output_type": "execute_result"
    }
   ],
   "source": [
    "df_sqrt.a.fillna(method='ffill', inplace=True)\n",
    "df_sqrt"
   ]
  },
  {
   "cell_type": "markdown",
   "metadata": {},
   "source": [
    "### 17. Backward filling propagates values from rows below"
   ]
  },
  {
   "cell_type": "code",
   "execution_count": 15,
   "metadata": {},
   "outputs": [
    {
     "data": {
      "text/html": [
       "<div>\n",
       "<style scoped>\n",
       "    .dataframe tbody tr th:only-of-type {\n",
       "        vertical-align: middle;\n",
       "    }\n",
       "\n",
       "    .dataframe tbody tr th {\n",
       "        vertical-align: top;\n",
       "    }\n",
       "\n",
       "    .dataframe thead th {\n",
       "        text-align: right;\n",
       "    }\n",
       "</style>\n",
       "<table border=\"1\" class=\"dataframe\">\n",
       "  <thead>\n",
       "    <tr style=\"text-align: right;\">\n",
       "      <th></th>\n",
       "      <th>a</th>\n",
       "      <th>b</th>\n",
       "      <th>c</th>\n",
       "      <th>d</th>\n",
       "    </tr>\n",
       "  </thead>\n",
       "  <tbody>\n",
       "    <tr>\n",
       "      <th>0</th>\n",
       "      <td>1.274498</td>\n",
       "      <td>neg</td>\n",
       "      <td>0.950084</td>\n",
       "      <td>0.763423</td>\n",
       "    </tr>\n",
       "    <tr>\n",
       "      <th>1</th>\n",
       "      <td>0.930273</td>\n",
       "      <td>neg</td>\n",
       "      <td>1.320913</td>\n",
       "      <td>0.763423</td>\n",
       "    </tr>\n",
       "    <tr>\n",
       "      <th>2</th>\n",
       "      <td>0.564835</td>\n",
       "      <td>neg</td>\n",
       "      <td>1.209177</td>\n",
       "      <td>0.763423</td>\n",
       "    </tr>\n",
       "    <tr>\n",
       "      <th>3</th>\n",
       "      <td>0.564835</td>\n",
       "      <td>neg</td>\n",
       "      <td>1.064786</td>\n",
       "      <td>0.763423</td>\n",
       "    </tr>\n",
       "    <tr>\n",
       "      <th>4</th>\n",
       "      <td>0.564835</td>\n",
       "      <td>neg</td>\n",
       "      <td>0.205460</td>\n",
       "      <td>0.763423</td>\n",
       "    </tr>\n",
       "  </tbody>\n",
       "</table>\n",
       "</div>"
      ],
      "text/plain": [
       "          a    b         c         d\n",
       "0  1.274498  neg  0.950084  0.763423\n",
       "1  0.930273  neg  1.320913  0.763423\n",
       "2  0.564835  neg  1.209177  0.763423\n",
       "3  0.564835  neg  1.064786  0.763423\n",
       "4  0.564835  neg  0.205460  0.763423"
      ]
     },
     "execution_count": 15,
     "metadata": {},
     "output_type": "execute_result"
    }
   ],
   "source": [
    "df_sqrt.d.fillna(method='bfill', inplace=True)\n",
    "df_sqrt"
   ]
  },
  {
   "cell_type": "markdown",
   "metadata": {},
   "source": [
    "As such we have resolved all the NaNs in our dataset."
   ]
  },
  {
   "cell_type": "markdown",
   "metadata": {
    "slideshow": {
     "slide_type": "slide"
    }
   },
   "source": [
    "## Independent Practice: Sales Data\n",
    "\n",
    "---"
   ]
  },
  {
   "cell_type": "markdown",
   "metadata": {
    "slideshow": {
     "slide_type": "slide"
    }
   },
   "source": [
    "#### 1. Load the `sales.csv` data set from last week's class."
   ]
  },
  {
   "cell_type": "code",
   "execution_count": 64,
   "metadata": {},
   "outputs": [
    {
     "data": {
      "text/html": [
       "<div>\n",
       "<style scoped>\n",
       "    .dataframe tbody tr th:only-of-type {\n",
       "        vertical-align: middle;\n",
       "    }\n",
       "\n",
       "    .dataframe tbody tr th {\n",
       "        vertical-align: top;\n",
       "    }\n",
       "\n",
       "    .dataframe thead th {\n",
       "        text-align: right;\n",
       "    }\n",
       "</style>\n",
       "<table border=\"1\" class=\"dataframe\">\n",
       "  <thead>\n",
       "    <tr style=\"text-align: right;\">\n",
       "      <th></th>\n",
       "      <th>volume_sold</th>\n",
       "      <th>2015_margin</th>\n",
       "      <th>2015_q1_sales</th>\n",
       "      <th>2016_q1_sales</th>\n",
       "    </tr>\n",
       "  </thead>\n",
       "  <tbody>\n",
       "    <tr>\n",
       "      <th>0</th>\n",
       "      <td>18.420760</td>\n",
       "      <td>93.802281</td>\n",
       "      <td>337166.53</td>\n",
       "      <td>337804.05</td>\n",
       "    </tr>\n",
       "    <tr>\n",
       "      <th>1</th>\n",
       "      <td>4.776510</td>\n",
       "      <td>21.082425</td>\n",
       "      <td>22351.86</td>\n",
       "      <td>21736.63</td>\n",
       "    </tr>\n",
       "    <tr>\n",
       "      <th>2</th>\n",
       "      <td>16.602401</td>\n",
       "      <td>93.612494</td>\n",
       "      <td>277764.46</td>\n",
       "      <td>306942.27</td>\n",
       "    </tr>\n",
       "    <tr>\n",
       "      <th>3</th>\n",
       "      <td>4.296111</td>\n",
       "      <td>16.824704</td>\n",
       "      <td>16805.11</td>\n",
       "      <td>9307.75</td>\n",
       "    </tr>\n",
       "    <tr>\n",
       "      <th>4</th>\n",
       "      <td>8.156023</td>\n",
       "      <td>35.011457</td>\n",
       "      <td>54411.42</td>\n",
       "      <td>58939.90</td>\n",
       "    </tr>\n",
       "  </tbody>\n",
       "</table>\n",
       "</div>"
      ],
      "text/plain": [
       "   volume_sold  2015_margin  2015_q1_sales  2016_q1_sales\n",
       "0    18.420760    93.802281      337166.53      337804.05\n",
       "1     4.776510    21.082425       22351.86       21736.63\n",
       "2    16.602401    93.612494      277764.46      306942.27\n",
       "3     4.296111    16.824704       16805.11        9307.75\n",
       "4     8.156023    35.011457       54411.42       58939.90"
      ]
     },
     "execution_count": 64,
     "metadata": {},
     "output_type": "execute_result"
    }
   ],
   "source": [
    "df = pd.read_csv('../../../../resource-datasets/sales_data_simple/sales.csv')\n",
    "df.head()"
   ]
  },
  {
   "cell_type": "markdown",
   "metadata": {
    "slideshow": {
     "slide_type": "slide"
    }
   },
   "source": [
    "#### 2. Inspect the data types."
   ]
  },
  {
   "cell_type": "code",
   "execution_count": 65,
   "metadata": {},
   "outputs": [
    {
     "data": {
      "text/plain": [
       "volume_sold      float64\n",
       "2015_margin      float64\n",
       "2015_q1_sales    float64\n",
       "2016_q1_sales    float64\n",
       "dtype: object"
      ]
     },
     "execution_count": 65,
     "metadata": {},
     "output_type": "execute_result"
    }
   ],
   "source": [
    "df.dtypes"
   ]
  },
  {
   "cell_type": "markdown",
   "metadata": {
    "slideshow": {
     "slide_type": "slide"
    }
   },
   "source": [
    "#### 3. Imagine you've found out that all your values in column `2015_margin` are off by one. Use `.apply()` or `.map()` to add `1` to every cell."
   ]
  },
  {
   "cell_type": "code",
   "execution_count": 107,
   "metadata": {},
   "outputs": [
    {
     "data": {
      "text/plain": [
       "0    94.802281\n",
       "1    22.082425\n",
       "2    94.612494\n",
       "3    17.824704\n",
       "4    36.011457\n",
       "Name: 2015_margin, dtype: float64"
      ]
     },
     "execution_count": 107,
     "metadata": {},
     "output_type": "execute_result"
    }
   ],
   "source": [
    "df.loc[:,'2015_margin'].map(lambda x: x+1).head()\n",
    "\n",
    "# Note: you will see here that we filter out sections of df using loc[] hence you dont need axis to be set\n",
    "# But below.. if you select it within apply function then you need to think about axis"
   ]
  },
  {
   "cell_type": "code",
   "execution_count": 110,
   "metadata": {},
   "outputs": [
    {
     "data": {
      "text/plain": [
       "0    94.802281\n",
       "1    22.082425\n",
       "2    94.612494\n",
       "3    17.824704\n",
       "4    36.011457\n",
       "dtype: float64"
      ]
     },
     "execution_count": 110,
     "metadata": {},
     "output_type": "execute_result"
    }
   ],
   "source": [
    "df.apply(lambda x: x['2015_margin']+1,axis=1).head()"
   ]
  },
  {
   "cell_type": "markdown",
   "metadata": {
    "slideshow": {
     "slide_type": "slide"
    }
   },
   "source": [
    "#### 4. Use `.apply` to calculate 2 * `2015_q1_sales` + 3 * `2016_q1_sales`"
   ]
  },
  {
   "cell_type": "code",
   "execution_count": 111,
   "metadata": {},
   "outputs": [
    {
     "data": {
      "text/plain": [
       "0    1687745.21\n",
       "1     109913.61\n",
       "2    1476355.73\n",
       "3      61533.47\n",
       "4     285642.54\n",
       "dtype: float64"
      ]
     },
     "execution_count": 111,
     "metadata": {},
     "output_type": "execute_result"
    }
   ],
   "source": [
    "df.apply(lambda x: 2*x['2015_q1_sales'] + 3*x['2016_q1_sales'], axis=1).head()"
   ]
  },
  {
   "cell_type": "markdown",
   "metadata": {
    "slideshow": {
     "slide_type": "slide"
    }
   },
   "source": [
    "#### 5. Use a combination of `apply` and `.value_counts()` to count how many values of `2015_margin` are larger than 45.\n",
    "\n",
    "*Hint: Create a binary flag for 1 if the value is greater than 45*"
   ]
  },
  {
   "cell_type": "code",
   "execution_count": 113,
   "metadata": {},
   "outputs": [
    {
     "data": {
      "text/plain": [
       "0    134\n",
       "1     66\n",
       "dtype: int64"
      ]
     },
     "execution_count": 113,
     "metadata": {},
     "output_type": "execute_result"
    }
   ],
   "source": [
    "df.apply(lambda x: 1 if x['2015_margin'] > 45 else 0,axis=1).value_counts()"
   ]
  },
  {
   "cell_type": "markdown",
   "metadata": {},
   "source": [
    "#### 6. Turns out there was a problem with how `volume_sold` was recorded. For all the values that were 3 standard deviations above or below the mean replace with NaNs."
   ]
  },
  {
   "cell_type": "code",
   "execution_count": 135,
   "metadata": {},
   "outputs": [
    {
     "name": "stdout",
     "output_type": "stream",
     "text": [
      "Means: volume_sold           8.204897\n",
      "2015_margin          46.858895\n",
      "2015_q1_sales    154631.668200\n",
      "2016_q1_sales    154699.178750\n",
      "dtype: float64\n",
      "Std Deviations: volume_sold           2.701281\n",
      "2015_margin          44.900575\n",
      "2015_q1_sales    217784.989066\n",
      "2016_q1_sales    217116.124812\n",
      "dtype: float64\n"
     ]
    }
   ],
   "source": [
    "means = df.apply(np.mean)\n",
    "stds = df.apply(np.std)\n",
    "\n",
    "print('Means:',means)\n",
    "\n",
    "print('Std Deviations:',stds)"
   ]
  },
  {
   "cell_type": "code",
   "execution_count": 128,
   "metadata": {},
   "outputs": [
    {
     "data": {
      "text/html": [
       "<div>\n",
       "<style scoped>\n",
       "    .dataframe tbody tr th:only-of-type {\n",
       "        vertical-align: middle;\n",
       "    }\n",
       "\n",
       "    .dataframe tbody tr th {\n",
       "        vertical-align: top;\n",
       "    }\n",
       "\n",
       "    .dataframe thead th {\n",
       "        text-align: right;\n",
       "    }\n",
       "</style>\n",
       "<table border=\"1\" class=\"dataframe\">\n",
       "  <thead>\n",
       "    <tr style=\"text-align: right;\">\n",
       "      <th></th>\n",
       "      <th>volume_sold</th>\n",
       "      <th>2015_margin</th>\n",
       "      <th>2015_q1_sales</th>\n",
       "      <th>2016_q1_sales</th>\n",
       "    </tr>\n",
       "  </thead>\n",
       "  <tbody>\n",
       "    <tr>\n",
       "      <th>0</th>\n",
       "      <td>NaN</td>\n",
       "      <td>93.802281</td>\n",
       "      <td>337166.53</td>\n",
       "      <td>337804.05</td>\n",
       "    </tr>\n",
       "    <tr>\n",
       "      <th>2</th>\n",
       "      <td>NaN</td>\n",
       "      <td>93.612494</td>\n",
       "      <td>277764.46</td>\n",
       "      <td>306942.27</td>\n",
       "    </tr>\n",
       "  </tbody>\n",
       "</table>\n",
       "</div>"
      ],
      "text/plain": [
       "   volume_sold  2015_margin  2015_q1_sales  2016_q1_sales\n",
       "0          NaN    93.802281      337166.53      337804.05\n",
       "2          NaN    93.612494      277764.46      306942.27"
      ]
     },
     "execution_count": 128,
     "metadata": {},
     "output_type": "execute_result"
    }
   ],
   "source": [
    "#Note: Above I've created a series of means for each column and a series of std's for each column\n",
    "\n",
    "df['volume_sold'] = df['volume_sold'].apply(lambda x: np.nan\n",
    "                                            if abs(x) > (means['volume_sold'] + 3*stds['volume_sold']) else x)\n",
    "df.head()\n",
    "\n",
    "# Check that the NaNs have been filled in correctly\n",
    "df[df['volume_sold'].isna()]"
   ]
  },
  {
   "cell_type": "markdown",
   "metadata": {},
   "source": [
    "#### 7. Now for the NaNs use a forward fill method to impute them."
   ]
  },
  {
   "cell_type": "code",
   "execution_count": 129,
   "metadata": {},
   "outputs": [
    {
     "data": {
      "text/html": [
       "<div>\n",
       "<style scoped>\n",
       "    .dataframe tbody tr th:only-of-type {\n",
       "        vertical-align: middle;\n",
       "    }\n",
       "\n",
       "    .dataframe tbody tr th {\n",
       "        vertical-align: top;\n",
       "    }\n",
       "\n",
       "    .dataframe thead th {\n",
       "        text-align: right;\n",
       "    }\n",
       "</style>\n",
       "<table border=\"1\" class=\"dataframe\">\n",
       "  <thead>\n",
       "    <tr style=\"text-align: right;\">\n",
       "      <th></th>\n",
       "      <th>volume_sold</th>\n",
       "      <th>2015_margin</th>\n",
       "      <th>2015_q1_sales</th>\n",
       "      <th>2016_q1_sales</th>\n",
       "    </tr>\n",
       "  </thead>\n",
       "  <tbody>\n",
       "    <tr>\n",
       "      <th>0</th>\n",
       "      <td>NaN</td>\n",
       "      <td>93.802281</td>\n",
       "      <td>337166.53</td>\n",
       "      <td>337804.05</td>\n",
       "    </tr>\n",
       "  </tbody>\n",
       "</table>\n",
       "</div>"
      ],
      "text/plain": [
       "   volume_sold  2015_margin  2015_q1_sales  2016_q1_sales\n",
       "0          NaN    93.802281      337166.53      337804.05"
      ]
     },
     "execution_count": 129,
     "metadata": {},
     "output_type": "execute_result"
    }
   ],
   "source": [
    "df.volume_sold.fillna(method='ffill', inplace=True)\n",
    "\n",
    "# Check that the NaNs have been filled in correctly\n",
    "df[df['volume_sold'].isna()]"
   ]
  },
  {
   "cell_type": "markdown",
   "metadata": {
    "collapsed": true
   },
   "source": [
    "## Conclusion \n",
    "\n",
    "Before this lesson we used pandas for reading in datasets, producing summary statistics and slicing on the data. In this lesson you learned how to inspect which datatypes are contained, how to transform individual cells and columns using `.map()`, `.apply()` and `.applymap()`, and how to get insight about the contained values using `.value_counts()`."
   ]
  },
  {
   "cell_type": "markdown",
   "metadata": {},
   "source": [
    "## Additional resources\n",
    "\n",
    "\n",
    "- [`pandas` Documentation](http://pandas.pydata.org/pandas-docs/stable/pandas.pdf).\n",
    "- [`pandas`: dtypes](http://pandas.pydata.org/pandas-docs/stable/pandas.pdf)\n",
    "- [`pandas` Series: value_counts](https://pandas.pydata.org/pandas-docs/stable/generated/pandas.Series.value_counts.html) \n",
    "\n",
    "For more advanced information on `.apply` usage, check out these links:\n",
    "\n",
    "- [\"Why Not\"'s Gist Examples](https://gist.github.com/why-not/4582705)\n",
    "\n",
    "- [Chris Albon's Map + Apply Examples](http://chrisalbon.com/python/pandas_apply_operations_to_dataframes.html)\n",
    "\n"
   ]
  }
 ],
 "metadata": {
  "anaconda-cloud": {},
  "kernelspec": {
   "display_name": "Python 3",
   "language": "python",
   "name": "python3"
  },
  "language_info": {
   "codemirror_mode": {
    "name": "ipython",
    "version": 3
   },
   "file_extension": ".py",
   "mimetype": "text/x-python",
   "name": "python",
   "nbconvert_exporter": "python",
   "pygments_lexer": "ipython3",
   "version": "3.7.3"
  },
  "toc": {
   "base_numbering": 1,
   "nav_menu": {},
   "number_sections": false,
   "sideBar": true,
   "skip_h1_title": true,
   "title_cell": "Lesson Guide",
   "title_sidebar": "Contents",
   "toc_cell": true,
   "toc_position": {},
   "toc_section_display": "block",
   "toc_window_display": false
  }
 },
 "nbformat": 4,
 "nbformat_minor": 1
}
