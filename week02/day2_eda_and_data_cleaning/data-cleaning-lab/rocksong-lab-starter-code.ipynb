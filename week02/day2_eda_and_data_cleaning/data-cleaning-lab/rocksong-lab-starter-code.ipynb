{
 "cells": [
  {
   "cell_type": "markdown",
   "metadata": {},
   "source": [
    "<img src=\"http://imgur.com/1ZcRyrc.png\" style=\"float: left; margin: 20px; height: 55px\">\n",
    "\n",
    "# Lab: Cleaning Rock Song Data\n",
    "\n",
    "---\n"
   ]
  },
  {
   "cell_type": "markdown",
   "metadata": {
    "toc": true
   },
   "source": [
    "<h1>Lab Guide<span class=\"tocSkip\"></span></h1>\n",
    "<div class=\"toc\"><ul class=\"toc-item\"><li><span><a href=\"#1.-Load-rock.csv-and-do-an-initial-examination-of-its-data-columns.\" data-toc-modified-id=\"1.-Load-rock.csv-and-do-an-initial-examination-of-its-data-columns.-1\">1. Load <code>rock.csv</code> and do an initial examination of its data columns.</a></span></li><li><span><a href=\"#2.--Clean-up-the-column-names.\" data-toc-modified-id=\"2.--Clean-up-the-column-names.-2\">2.  Clean up the column names.</a></span></li><li><span><a href=\"#3.-How-many-missing-values-are-there?\" data-toc-modified-id=\"3.-How-many-missing-values-are-there?-3\">3. How many missing values are there?</a></span></li><li><span><a href=\"#4.-Why-is-the-release-column-coded-as-object-type?-Convert-to-a-more-appropriate-format.\" data-toc-modified-id=\"4.-Why-is-the-release-column-coded-as-object-type?-Convert-to-a-more-appropriate-format.-4\">4. Why is the release column coded as object type? Convert to a more appropriate format.</a></span></li><li><span><a href=\"#5.-Obtain-summary-statistics-for-the-converted-release-column.\" data-toc-modified-id=\"5.-Obtain-summary-statistics-for-the-converted-release-column.-5\">5. Obtain summary statistics for the converted release column.</a></span></li><li><span><a href=\"#6.-What-is-the-role-of-the-year-column?-How-does-it-relate-to-the-release-year?\" data-toc-modified-id=\"6.-What-is-the-role-of-the-year-column?-How-does-it-relate-to-the-release-year?-6\">6. What is the role of the year column? How does it relate to the release year?</a></span></li><li><span><a href=\"#7.-Plot-the-distributions-of-the-release-year,-playcount-and-fg.\" data-toc-modified-id=\"7.-Plot-the-distributions-of-the-release-year,-playcount-and-fg.-7\">7. Plot the distributions of the release year, playcount and fg.</a></span></li><li><span><a href=\"#8.-Plot-the-playcount-versus-the-release-year.\" data-toc-modified-id=\"8.-Plot-the-playcount-versus-the-release-year.-8\">8. Plot the playcount versus the release year.</a></span></li><li><span><a href=\"#9.-Which-years-have-the-most-releases?\" data-toc-modified-id=\"9.-Which-years-have-the-most-releases?-9\">9. Which years have the most releases?</a></span></li><li><span><a href=\"#10.-Which-records-don't-have-matching-&quot;Play-Count&quot;-corresponding-to-&quot;F*G&quot;?\" data-toc-modified-id=\"10.-Which-records-don't-have-matching-&quot;Play-Count&quot;-corresponding-to-&quot;F*G&quot;?-10\">10. Which records don't have matching \"Play Count\" corresponding to \"F*G\"?</a></span></li><li><span><a href=\"#11.-Which-artists-have-the-most-songs?\" data-toc-modified-id=\"11.-Which-artists-have-the-most-songs?-11\">11. Which artists have the most songs?</a></span></li><li><span><a href=\"#Bonus:-Which-artists-have-the-most-playcounts?\" data-toc-modified-id=\"Bonus:-Which-artists-have-the-most-playcounts?-12\">Bonus: Which artists have the most playcounts?</a></span></li><li><span><a href=\"#Bonus:-Which-artists-have-the-most-missing-values-between-each-of-the-variables?\" data-toc-modified-id=\"Bonus:-Which-artists-have-the-most-missing-values-between-each-of-the-variables?-13\">Bonus: Which artists have the most missing values between each of the variables?</a></span></li></ul></div>"
   ]
  },
  {
   "cell_type": "code",
   "execution_count": 1,
   "metadata": {},
   "outputs": [],
   "source": [
    "import pandas as pd\n",
    "import numpy as np\n",
    "import matplotlib.pyplot as plt\n",
    "import seaborn as sns\n",
    "sns.set(font_scale=1.5)\n",
    "\n",
    "%config InlineBackend.figure_format = 'retina'\n",
    "%matplotlib inline"
   ]
  },
  {
   "cell_type": "markdown",
   "metadata": {},
   "source": [
    "### 1. Load `rock.csv` and do an initial examination of its data columns."
   ]
  },
  {
   "cell_type": "code",
   "execution_count": 2,
   "metadata": {},
   "outputs": [
    {
     "data": {
      "text/html": [
       "<div>\n",
       "<style scoped>\n",
       "    .dataframe tbody tr th:only-of-type {\n",
       "        vertical-align: middle;\n",
       "    }\n",
       "\n",
       "    .dataframe tbody tr th {\n",
       "        vertical-align: top;\n",
       "    }\n",
       "\n",
       "    .dataframe thead th {\n",
       "        text-align: right;\n",
       "    }\n",
       "</style>\n",
       "<table border=\"1\" class=\"dataframe\">\n",
       "  <thead>\n",
       "    <tr style=\"text-align: right;\">\n",
       "      <th></th>\n",
       "      <th>Song Clean</th>\n",
       "      <th>ARTIST CLEAN</th>\n",
       "      <th>Release Year</th>\n",
       "      <th>COMBINED</th>\n",
       "      <th>First?</th>\n",
       "      <th>Year?</th>\n",
       "      <th>PlayCount</th>\n",
       "      <th>F*G</th>\n",
       "    </tr>\n",
       "  </thead>\n",
       "  <tbody>\n",
       "    <tr>\n",
       "      <th>0</th>\n",
       "      <td>Caught Up in You</td>\n",
       "      <td>.38 Special</td>\n",
       "      <td>1982</td>\n",
       "      <td>Caught Up in You by .38 Special</td>\n",
       "      <td>1</td>\n",
       "      <td>1</td>\n",
       "      <td>82</td>\n",
       "      <td>82</td>\n",
       "    </tr>\n",
       "    <tr>\n",
       "      <th>1</th>\n",
       "      <td>Fantasy Girl</td>\n",
       "      <td>.38 Special</td>\n",
       "      <td>NaN</td>\n",
       "      <td>Fantasy Girl by .38 Special</td>\n",
       "      <td>1</td>\n",
       "      <td>0</td>\n",
       "      <td>3</td>\n",
       "      <td>0</td>\n",
       "    </tr>\n",
       "    <tr>\n",
       "      <th>2</th>\n",
       "      <td>Hold On Loosely</td>\n",
       "      <td>.38 Special</td>\n",
       "      <td>1981</td>\n",
       "      <td>Hold On Loosely by .38 Special</td>\n",
       "      <td>1</td>\n",
       "      <td>1</td>\n",
       "      <td>85</td>\n",
       "      <td>85</td>\n",
       "    </tr>\n",
       "    <tr>\n",
       "      <th>3</th>\n",
       "      <td>Rockin' Into the Night</td>\n",
       "      <td>.38 Special</td>\n",
       "      <td>1980</td>\n",
       "      <td>Rockin' Into the Night by .38 Special</td>\n",
       "      <td>1</td>\n",
       "      <td>1</td>\n",
       "      <td>18</td>\n",
       "      <td>18</td>\n",
       "    </tr>\n",
       "    <tr>\n",
       "      <th>4</th>\n",
       "      <td>Art For Arts Sake</td>\n",
       "      <td>10cc</td>\n",
       "      <td>1975</td>\n",
       "      <td>Art For Arts Sake by 10cc</td>\n",
       "      <td>1</td>\n",
       "      <td>1</td>\n",
       "      <td>1</td>\n",
       "      <td>1</td>\n",
       "    </tr>\n",
       "  </tbody>\n",
       "</table>\n",
       "</div>"
      ],
      "text/plain": [
       "               Song Clean ARTIST CLEAN Release Year  \\\n",
       "0        Caught Up in You  .38 Special         1982   \n",
       "1            Fantasy Girl  .38 Special          NaN   \n",
       "2         Hold On Loosely  .38 Special         1981   \n",
       "3  Rockin' Into the Night  .38 Special         1980   \n",
       "4       Art For Arts Sake         10cc         1975   \n",
       "\n",
       "                                COMBINED  First?  Year?  PlayCount  F*G  \n",
       "0        Caught Up in You by .38 Special       1      1         82   82  \n",
       "1            Fantasy Girl by .38 Special       1      0          3    0  \n",
       "2         Hold On Loosely by .38 Special       1      1         85   85  \n",
       "3  Rockin' Into the Night by .38 Special       1      1         18   18  \n",
       "4              Art For Arts Sake by 10cc       1      1          1    1  "
      ]
     },
     "execution_count": 2,
     "metadata": {},
     "output_type": "execute_result"
    }
   ],
   "source": [
    "# Load the data.\n",
    "df = pd.read_csv(\"../../../../resource-datasets/rock_songs/rock.csv\")\n",
    "df.head()"
   ]
  },
  {
   "cell_type": "code",
   "execution_count": 3,
   "metadata": {},
   "outputs": [],
   "source": [
    "# Look at the information regarding its columns."
   ]
  },
  {
   "cell_type": "markdown",
   "metadata": {},
   "source": [
    "### 2.  Clean up the column names.\n",
    "\n",
    "Clean up the column names. Choose one of the methods from the lesson."
   ]
  },
  {
   "cell_type": "code",
   "execution_count": null,
   "metadata": {},
   "outputs": [],
   "source": []
  },
  {
   "cell_type": "markdown",
   "metadata": {},
   "source": [
    "### 3. How many missing values are there?\n",
    "\n",
    "Filter the rows containing missing release years using the command `.isnull()` on the release column."
   ]
  },
  {
   "cell_type": "code",
   "execution_count": null,
   "metadata": {},
   "outputs": [],
   "source": []
  },
  {
   "cell_type": "markdown",
   "metadata": {},
   "source": [
    "### 4. Why is the release column coded as object type? Convert to a more appropriate format."
   ]
  },
  {
   "cell_type": "code",
   "execution_count": null,
   "metadata": {},
   "outputs": [],
   "source": []
  },
  {
   "cell_type": "markdown",
   "metadata": {},
   "source": [
    "### 5. Obtain summary statistics for the converted release column.\n",
    "\n",
    "What do you notice? What would you suggest to do?"
   ]
  },
  {
   "cell_type": "code",
   "execution_count": null,
   "metadata": {},
   "outputs": [],
   "source": []
  },
  {
   "cell_type": "markdown",
   "metadata": {},
   "source": [
    "### 6. What is the role of the year column? How does it relate to the release year?"
   ]
  },
  {
   "cell_type": "code",
   "execution_count": null,
   "metadata": {},
   "outputs": [],
   "source": []
  },
  {
   "cell_type": "markdown",
   "metadata": {},
   "source": [
    "### 7. Plot the distributions of the release year, playcount and fg."
   ]
  },
  {
   "cell_type": "code",
   "execution_count": null,
   "metadata": {},
   "outputs": [],
   "source": []
  },
  {
   "cell_type": "markdown",
   "metadata": {},
   "source": [
    "### 8. Plot the playcount versus the release year."
   ]
  },
  {
   "cell_type": "code",
   "execution_count": null,
   "metadata": {},
   "outputs": [],
   "source": []
  },
  {
   "cell_type": "markdown",
   "metadata": {},
   "source": [
    "### 9. Which years have the most releases?"
   ]
  },
  {
   "cell_type": "code",
   "execution_count": null,
   "metadata": {},
   "outputs": [],
   "source": []
  },
  {
   "cell_type": "markdown",
   "metadata": {},
   "source": [
    "### 10. Which songs don't have matching \"Play Count\" corresponding to \"F*G\"?"
   ]
  },
  {
   "cell_type": "code",
   "execution_count": null,
   "metadata": {},
   "outputs": [],
   "source": []
  },
  {
   "cell_type": "markdown",
   "metadata": {},
   "source": [
    "### 11. Which are the top 10 artists with the most songs?"
   ]
  },
  {
   "cell_type": "code",
   "execution_count": null,
   "metadata": {},
   "outputs": [],
   "source": []
  },
  {
   "cell_type": "markdown",
   "metadata": {},
   "source": [
    "### Bonus: Which are the top 5 artists with the most playcounts? "
   ]
  },
  {
   "cell_type": "code",
   "execution_count": null,
   "metadata": {},
   "outputs": [],
   "source": []
  },
  {
   "cell_type": "markdown",
   "metadata": {},
   "source": [
    "### Bonus: Which artists have the most missing values between each of the variables? "
   ]
  },
  {
   "cell_type": "code",
   "execution_count": null,
   "metadata": {},
   "outputs": [],
   "source": []
  }
 ],
 "metadata": {
  "kernelspec": {
   "display_name": "Python 3",
   "language": "python",
   "name": "python3"
  },
  "language_info": {
   "codemirror_mode": {
    "name": "ipython",
    "version": 3
   },
   "file_extension": ".py",
   "mimetype": "text/x-python",
   "name": "python",
   "nbconvert_exporter": "python",
   "pygments_lexer": "ipython3",
   "version": "3.7.3"
  },
  "toc": {
   "base_numbering": 1,
   "nav_menu": {},
   "number_sections": false,
   "sideBar": true,
   "skip_h1_title": true,
   "title_cell": "Lab Guide",
   "title_sidebar": "Contents",
   "toc_cell": true,
   "toc_position": {},
   "toc_section_display": true,
   "toc_window_display": false
  }
 },
 "nbformat": 4,
 "nbformat_minor": 2
}
