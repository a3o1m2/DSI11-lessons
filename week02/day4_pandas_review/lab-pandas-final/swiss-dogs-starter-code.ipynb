{
 "cells": [
  {
   "cell_type": "markdown",
   "metadata": {},
   "source": [
    "<img src=\"http://imgur.com/1ZcRyrc.png\" style=\"float: left; margin: 20px; height: 55px\">\n",
    "\n",
    "# Swiss Dog Owners\n",
    "\n",
    "Please check out the data documentation on Kaggle, [here](https://www.kaggle.com/kmader/dogs-of-zurich)."
   ]
  },
  {
   "cell_type": "markdown",
   "metadata": {},
   "source": [
    "## 1) Import the libraries you'll need below."
   ]
  },
  {
   "cell_type": "code",
   "execution_count": 1,
   "metadata": {},
   "outputs": [],
   "source": [
    "import pandas as pd\n",
    "import numpy as np\n",
    "import matplotlib.pyplot as plt\n",
    "import seaborn as sns\n",
    "sns.set(font_scale=1.5)\n",
    "\n",
    "%config InlineBackend.figure_format = 'retina'\n",
    "%matplotlib inline"
   ]
  },
  {
   "cell_type": "markdown",
   "metadata": {},
   "source": [
    "## 2) Load the datasets\n",
    "This time, there are _three_ datasets. Load them in as separate variables."
   ]
  },
  {
   "cell_type": "code",
   "execution_count": 2,
   "metadata": {},
   "outputs": [],
   "source": [
    "dogs15 = pd.read_csv('../../../../resource-datasets/swiss_dogs/20151001hundehalter.csv')\n",
    "dogs16 = pd.read_csv('../../../../resource-datasets/swiss_dogs/20160307hundehalter.csv')\n",
    "dogs17 = pd.read_csv('../../../../resource-datasets/swiss_dogs/20170308hundehalter.csv')"
   ]
  },
  {
   "cell_type": "code",
   "execution_count": 3,
   "metadata": {
    "scrolled": true
   },
   "outputs": [
    {
     "data": {
      "text/html": [
       "<div>\n",
       "<style scoped>\n",
       "    .dataframe tbody tr th:only-of-type {\n",
       "        vertical-align: middle;\n",
       "    }\n",
       "\n",
       "    .dataframe tbody tr th {\n",
       "        vertical-align: top;\n",
       "    }\n",
       "\n",
       "    .dataframe thead th {\n",
       "        text-align: right;\n",
       "    }\n",
       "</style>\n",
       "<table border=\"1\" class=\"dataframe\">\n",
       "  <thead>\n",
       "    <tr style=\"text-align: right;\">\n",
       "      <th></th>\n",
       "      <th>HALTER_ID</th>\n",
       "      <th>ALTER</th>\n",
       "      <th>GESCHLECHT</th>\n",
       "      <th>STADTKREIS</th>\n",
       "      <th>STADTQUARTIER</th>\n",
       "      <th>RASSE1</th>\n",
       "      <th>RASSE1_MISCHLING</th>\n",
       "      <th>RASSE2</th>\n",
       "      <th>RASSE2_MISCHLING</th>\n",
       "      <th>RASSENTYP</th>\n",
       "      <th>GEBURTSJAHR_HUND</th>\n",
       "      <th>GESCHLECHT_HUND</th>\n",
       "      <th>HUNDEFARBE</th>\n",
       "    </tr>\n",
       "  </thead>\n",
       "  <tbody>\n",
       "    <tr>\n",
       "      <th>0</th>\n",
       "      <td>126</td>\n",
       "      <td>51-60</td>\n",
       "      <td>m</td>\n",
       "      <td>9.0</td>\n",
       "      <td>92.0</td>\n",
       "      <td>Welsh Terrier</td>\n",
       "      <td>NaN</td>\n",
       "      <td>NaN</td>\n",
       "      <td>NaN</td>\n",
       "      <td>K</td>\n",
       "      <td>2011</td>\n",
       "      <td>w</td>\n",
       "      <td>schwarz/braun</td>\n",
       "    </tr>\n",
       "    <tr>\n",
       "      <th>1</th>\n",
       "      <td>574</td>\n",
       "      <td>61-70</td>\n",
       "      <td>w</td>\n",
       "      <td>2.0</td>\n",
       "      <td>23.0</td>\n",
       "      <td>Cairn Terrier</td>\n",
       "      <td>NaN</td>\n",
       "      <td>NaN</td>\n",
       "      <td>NaN</td>\n",
       "      <td>K</td>\n",
       "      <td>2002</td>\n",
       "      <td>w</td>\n",
       "      <td>brindle</td>\n",
       "    </tr>\n",
       "    <tr>\n",
       "      <th>2</th>\n",
       "      <td>695</td>\n",
       "      <td>41-50</td>\n",
       "      <td>m</td>\n",
       "      <td>6.0</td>\n",
       "      <td>63.0</td>\n",
       "      <td>Labrador Retriever</td>\n",
       "      <td>NaN</td>\n",
       "      <td>NaN</td>\n",
       "      <td>NaN</td>\n",
       "      <td>I</td>\n",
       "      <td>2012</td>\n",
       "      <td>w</td>\n",
       "      <td>braun</td>\n",
       "    </tr>\n",
       "    <tr>\n",
       "      <th>3</th>\n",
       "      <td>893</td>\n",
       "      <td>61-70</td>\n",
       "      <td>w</td>\n",
       "      <td>7.0</td>\n",
       "      <td>71.0</td>\n",
       "      <td>Mittelschnauzer</td>\n",
       "      <td>NaN</td>\n",
       "      <td>NaN</td>\n",
       "      <td>NaN</td>\n",
       "      <td>I</td>\n",
       "      <td>2010</td>\n",
       "      <td>w</td>\n",
       "      <td>schwarz</td>\n",
       "    </tr>\n",
       "    <tr>\n",
       "      <th>4</th>\n",
       "      <td>1177</td>\n",
       "      <td>51-60</td>\n",
       "      <td>m</td>\n",
       "      <td>10.0</td>\n",
       "      <td>102.0</td>\n",
       "      <td>Shih Tzu</td>\n",
       "      <td>NaN</td>\n",
       "      <td>NaN</td>\n",
       "      <td>NaN</td>\n",
       "      <td>K</td>\n",
       "      <td>2011</td>\n",
       "      <td>m</td>\n",
       "      <td>schwarz/weiss</td>\n",
       "    </tr>\n",
       "  </tbody>\n",
       "</table>\n",
       "</div>"
      ],
      "text/plain": [
       "   HALTER_ID  ALTER GESCHLECHT  STADTKREIS  STADTQUARTIER              RASSE1  \\\n",
       "0        126  51-60          m         9.0           92.0       Welsh Terrier   \n",
       "1        574  61-70          w         2.0           23.0       Cairn Terrier   \n",
       "2        695  41-50          m         6.0           63.0  Labrador Retriever   \n",
       "3        893  61-70          w         7.0           71.0     Mittelschnauzer   \n",
       "4       1177  51-60          m        10.0          102.0            Shih Tzu   \n",
       "\n",
       "  RASSE1_MISCHLING RASSE2  RASSE2_MISCHLING RASSENTYP  GEBURTSJAHR_HUND  \\\n",
       "0              NaN    NaN               NaN         K              2011   \n",
       "1              NaN    NaN               NaN         K              2002   \n",
       "2              NaN    NaN               NaN         I              2012   \n",
       "3              NaN    NaN               NaN         I              2010   \n",
       "4              NaN    NaN               NaN         K              2011   \n",
       "\n",
       "  GESCHLECHT_HUND     HUNDEFARBE  \n",
       "0               w  schwarz/braun  \n",
       "1               w        brindle  \n",
       "2               w          braun  \n",
       "3               w        schwarz  \n",
       "4               m  schwarz/weiss  "
      ]
     },
     "execution_count": 3,
     "metadata": {},
     "output_type": "execute_result"
    }
   ],
   "source": [
    "dogs15.head()"
   ]
  },
  {
   "cell_type": "markdown",
   "metadata": {},
   "source": [
    "## 3) Append them together.\n",
    "In each dataset, make an appropriate `year` column. After that, append all three `DataFrame`s into one master `DataFrame`."
   ]
  },
  {
   "cell_type": "code",
   "execution_count": 4,
   "metadata": {},
   "outputs": [],
   "source": [
    "dogs = pd.concat([dogs15, dogs16, dogs17], axis=0)"
   ]
  },
  {
   "cell_type": "markdown",
   "metadata": {},
   "source": [
    "## 4) Check yourself\n",
    "Did step 3 work? Did the data append properly?"
   ]
  },
  {
   "cell_type": "code",
   "execution_count": 5,
   "metadata": {},
   "outputs": [
    {
     "data": {
      "text/plain": [
       "(6980, 13)"
      ]
     },
     "execution_count": 5,
     "metadata": {},
     "output_type": "execute_result"
    }
   ],
   "source": [
    "dogs15.shape"
   ]
  },
  {
   "cell_type": "code",
   "execution_count": 6,
   "metadata": {},
   "outputs": [
    {
     "data": {
      "text/plain": [
       "(6930, 13)"
      ]
     },
     "execution_count": 6,
     "metadata": {},
     "output_type": "execute_result"
    }
   ],
   "source": [
    "dogs16.shape"
   ]
  },
  {
   "cell_type": "code",
   "execution_count": 7,
   "metadata": {},
   "outputs": [
    {
     "data": {
      "text/plain": [
       "(7155, 13)"
      ]
     },
     "execution_count": 7,
     "metadata": {},
     "output_type": "execute_result"
    }
   ],
   "source": [
    "dogs17.shape"
   ]
  },
  {
   "cell_type": "code",
   "execution_count": 8,
   "metadata": {},
   "outputs": [
    {
     "data": {
      "text/plain": [
       "(21065, 13)"
      ]
     },
     "execution_count": 8,
     "metadata": {},
     "output_type": "execute_result"
    }
   ],
   "source": [
    "dogs.shape"
   ]
  },
  {
   "cell_type": "markdown",
   "metadata": {},
   "source": [
    "## 5) Ach nein! This data set is in German!\n",
    "Rename each column so that it is in English. The translations are in the data documentation.\n",
    "\n",
    "**NOTE!!:** This dataset is on dog **owners**, and their dogs. Be careful when labeling columns."
   ]
  },
  {
   "cell_type": "code",
   "execution_count": 9,
   "metadata": {
    "scrolled": true
   },
   "outputs": [
    {
     "data": {
      "text/plain": [
       "Index(['HALTER_ID', 'ALTER', 'GESCHLECHT', 'STADTKREIS', 'STADTQUARTIER',\n",
       "       'RASSE1', 'RASSE1_MISCHLING', 'RASSE2', 'RASSE2_MISCHLING', 'RASSENTYP',\n",
       "       'GEBURTSJAHR_HUND', 'GESCHLECHT_HUND', 'HUNDEFARBE'],\n",
       "      dtype='object')"
      ]
     },
     "execution_count": 9,
     "metadata": {},
     "output_type": "execute_result"
    }
   ],
   "source": [
    "dogs15.columns"
   ]
  },
  {
   "cell_type": "code",
   "execution_count": 10,
   "metadata": {},
   "outputs": [],
   "source": [
    "dogs.columns = ['owner_id','age','gender','city_district','city_quarter','primary_breed',\n",
    "                'primary_breed_hybrid','secondary_breed','secondary_breed_hybrid',\n",
    "               'breed_type','dog_birth_year','dog_gender','dog_color']"
   ]
  },
  {
   "cell_type": "code",
   "execution_count": 11,
   "metadata": {},
   "outputs": [
    {
     "data": {
      "text/html": [
       "<div>\n",
       "<style scoped>\n",
       "    .dataframe tbody tr th:only-of-type {\n",
       "        vertical-align: middle;\n",
       "    }\n",
       "\n",
       "    .dataframe tbody tr th {\n",
       "        vertical-align: top;\n",
       "    }\n",
       "\n",
       "    .dataframe thead th {\n",
       "        text-align: right;\n",
       "    }\n",
       "</style>\n",
       "<table border=\"1\" class=\"dataframe\">\n",
       "  <thead>\n",
       "    <tr style=\"text-align: right;\">\n",
       "      <th></th>\n",
       "      <th>owner_id</th>\n",
       "      <th>age</th>\n",
       "      <th>gender</th>\n",
       "      <th>city_district</th>\n",
       "      <th>city_quarter</th>\n",
       "      <th>primary_breed</th>\n",
       "      <th>primary_breed_hybrid</th>\n",
       "      <th>secondary_breed</th>\n",
       "      <th>secondary_breed_hybrid</th>\n",
       "      <th>breed_type</th>\n",
       "      <th>dog_birth_year</th>\n",
       "      <th>dog_gender</th>\n",
       "      <th>dog_color</th>\n",
       "    </tr>\n",
       "  </thead>\n",
       "  <tbody>\n",
       "    <tr>\n",
       "      <th>0</th>\n",
       "      <td>126</td>\n",
       "      <td>51-60</td>\n",
       "      <td>m</td>\n",
       "      <td>9.0</td>\n",
       "      <td>92.0</td>\n",
       "      <td>Welsh Terrier</td>\n",
       "      <td>NaN</td>\n",
       "      <td>NaN</td>\n",
       "      <td>NaN</td>\n",
       "      <td>K</td>\n",
       "      <td>2011</td>\n",
       "      <td>w</td>\n",
       "      <td>schwarz/braun</td>\n",
       "    </tr>\n",
       "    <tr>\n",
       "      <th>1</th>\n",
       "      <td>574</td>\n",
       "      <td>61-70</td>\n",
       "      <td>w</td>\n",
       "      <td>2.0</td>\n",
       "      <td>23.0</td>\n",
       "      <td>Cairn Terrier</td>\n",
       "      <td>NaN</td>\n",
       "      <td>NaN</td>\n",
       "      <td>NaN</td>\n",
       "      <td>K</td>\n",
       "      <td>2002</td>\n",
       "      <td>w</td>\n",
       "      <td>brindle</td>\n",
       "    </tr>\n",
       "    <tr>\n",
       "      <th>2</th>\n",
       "      <td>695</td>\n",
       "      <td>41-50</td>\n",
       "      <td>m</td>\n",
       "      <td>6.0</td>\n",
       "      <td>63.0</td>\n",
       "      <td>Labrador Retriever</td>\n",
       "      <td>NaN</td>\n",
       "      <td>NaN</td>\n",
       "      <td>NaN</td>\n",
       "      <td>I</td>\n",
       "      <td>2012</td>\n",
       "      <td>w</td>\n",
       "      <td>braun</td>\n",
       "    </tr>\n",
       "    <tr>\n",
       "      <th>3</th>\n",
       "      <td>893</td>\n",
       "      <td>61-70</td>\n",
       "      <td>w</td>\n",
       "      <td>7.0</td>\n",
       "      <td>71.0</td>\n",
       "      <td>Mittelschnauzer</td>\n",
       "      <td>NaN</td>\n",
       "      <td>NaN</td>\n",
       "      <td>NaN</td>\n",
       "      <td>I</td>\n",
       "      <td>2010</td>\n",
       "      <td>w</td>\n",
       "      <td>schwarz</td>\n",
       "    </tr>\n",
       "    <tr>\n",
       "      <th>4</th>\n",
       "      <td>1177</td>\n",
       "      <td>51-60</td>\n",
       "      <td>m</td>\n",
       "      <td>10.0</td>\n",
       "      <td>102.0</td>\n",
       "      <td>Shih Tzu</td>\n",
       "      <td>NaN</td>\n",
       "      <td>NaN</td>\n",
       "      <td>NaN</td>\n",
       "      <td>K</td>\n",
       "      <td>2011</td>\n",
       "      <td>m</td>\n",
       "      <td>schwarz/weiss</td>\n",
       "    </tr>\n",
       "  </tbody>\n",
       "</table>\n",
       "</div>"
      ],
      "text/plain": [
       "   owner_id    age gender  city_district  city_quarter       primary_breed  \\\n",
       "0       126  51-60      m            9.0          92.0       Welsh Terrier   \n",
       "1       574  61-70      w            2.0          23.0       Cairn Terrier   \n",
       "2       695  41-50      m            6.0          63.0  Labrador Retriever   \n",
       "3       893  61-70      w            7.0          71.0     Mittelschnauzer   \n",
       "4      1177  51-60      m           10.0         102.0            Shih Tzu   \n",
       "\n",
       "  primary_breed_hybrid secondary_breed  secondary_breed_hybrid breed_type  \\\n",
       "0                  NaN             NaN                     NaN          K   \n",
       "1                  NaN             NaN                     NaN          K   \n",
       "2                  NaN             NaN                     NaN          I   \n",
       "3                  NaN             NaN                     NaN          I   \n",
       "4                  NaN             NaN                     NaN          K   \n",
       "\n",
       "   dog_birth_year dog_gender      dog_color  \n",
       "0            2011          w  schwarz/braun  \n",
       "1            2002          w        brindle  \n",
       "2            2012          w          braun  \n",
       "3            2010          w        schwarz  \n",
       "4            2011          m  schwarz/weiss  "
      ]
     },
     "execution_count": 11,
     "metadata": {},
     "output_type": "execute_result"
    }
   ],
   "source": [
    "dogs.head()"
   ]
  },
  {
   "cell_type": "markdown",
   "metadata": {},
   "source": [
    "## 6) One of these columns is totally blank.\n",
    "Drop it permanently."
   ]
  },
  {
   "cell_type": "code",
   "execution_count": 12,
   "metadata": {},
   "outputs": [],
   "source": [
    "dogs.dropna(axis='columns',how='all',inplace=True)"
   ]
  },
  {
   "cell_type": "code",
   "execution_count": 13,
   "metadata": {},
   "outputs": [
    {
     "data": {
      "text/html": [
       "<div>\n",
       "<style scoped>\n",
       "    .dataframe tbody tr th:only-of-type {\n",
       "        vertical-align: middle;\n",
       "    }\n",
       "\n",
       "    .dataframe tbody tr th {\n",
       "        vertical-align: top;\n",
       "    }\n",
       "\n",
       "    .dataframe thead th {\n",
       "        text-align: right;\n",
       "    }\n",
       "</style>\n",
       "<table border=\"1\" class=\"dataframe\">\n",
       "  <thead>\n",
       "    <tr style=\"text-align: right;\">\n",
       "      <th></th>\n",
       "      <th>owner_id</th>\n",
       "      <th>age</th>\n",
       "      <th>gender</th>\n",
       "      <th>city_district</th>\n",
       "      <th>city_quarter</th>\n",
       "      <th>primary_breed</th>\n",
       "      <th>primary_breed_hybrid</th>\n",
       "      <th>secondary_breed</th>\n",
       "      <th>breed_type</th>\n",
       "      <th>dog_birth_year</th>\n",
       "      <th>dog_gender</th>\n",
       "      <th>dog_color</th>\n",
       "    </tr>\n",
       "  </thead>\n",
       "  <tbody>\n",
       "    <tr>\n",
       "      <th>0</th>\n",
       "      <td>126</td>\n",
       "      <td>51-60</td>\n",
       "      <td>m</td>\n",
       "      <td>9.0</td>\n",
       "      <td>92.0</td>\n",
       "      <td>Welsh Terrier</td>\n",
       "      <td>NaN</td>\n",
       "      <td>NaN</td>\n",
       "      <td>K</td>\n",
       "      <td>2011</td>\n",
       "      <td>w</td>\n",
       "      <td>schwarz/braun</td>\n",
       "    </tr>\n",
       "    <tr>\n",
       "      <th>1</th>\n",
       "      <td>574</td>\n",
       "      <td>61-70</td>\n",
       "      <td>w</td>\n",
       "      <td>2.0</td>\n",
       "      <td>23.0</td>\n",
       "      <td>Cairn Terrier</td>\n",
       "      <td>NaN</td>\n",
       "      <td>NaN</td>\n",
       "      <td>K</td>\n",
       "      <td>2002</td>\n",
       "      <td>w</td>\n",
       "      <td>brindle</td>\n",
       "    </tr>\n",
       "    <tr>\n",
       "      <th>2</th>\n",
       "      <td>695</td>\n",
       "      <td>41-50</td>\n",
       "      <td>m</td>\n",
       "      <td>6.0</td>\n",
       "      <td>63.0</td>\n",
       "      <td>Labrador Retriever</td>\n",
       "      <td>NaN</td>\n",
       "      <td>NaN</td>\n",
       "      <td>I</td>\n",
       "      <td>2012</td>\n",
       "      <td>w</td>\n",
       "      <td>braun</td>\n",
       "    </tr>\n",
       "    <tr>\n",
       "      <th>3</th>\n",
       "      <td>893</td>\n",
       "      <td>61-70</td>\n",
       "      <td>w</td>\n",
       "      <td>7.0</td>\n",
       "      <td>71.0</td>\n",
       "      <td>Mittelschnauzer</td>\n",
       "      <td>NaN</td>\n",
       "      <td>NaN</td>\n",
       "      <td>I</td>\n",
       "      <td>2010</td>\n",
       "      <td>w</td>\n",
       "      <td>schwarz</td>\n",
       "    </tr>\n",
       "    <tr>\n",
       "      <th>4</th>\n",
       "      <td>1177</td>\n",
       "      <td>51-60</td>\n",
       "      <td>m</td>\n",
       "      <td>10.0</td>\n",
       "      <td>102.0</td>\n",
       "      <td>Shih Tzu</td>\n",
       "      <td>NaN</td>\n",
       "      <td>NaN</td>\n",
       "      <td>K</td>\n",
       "      <td>2011</td>\n",
       "      <td>m</td>\n",
       "      <td>schwarz/weiss</td>\n",
       "    </tr>\n",
       "  </tbody>\n",
       "</table>\n",
       "</div>"
      ],
      "text/plain": [
       "   owner_id    age gender  city_district  city_quarter       primary_breed  \\\n",
       "0       126  51-60      m            9.0          92.0       Welsh Terrier   \n",
       "1       574  61-70      w            2.0          23.0       Cairn Terrier   \n",
       "2       695  41-50      m            6.0          63.0  Labrador Retriever   \n",
       "3       893  61-70      w            7.0          71.0     Mittelschnauzer   \n",
       "4      1177  51-60      m           10.0         102.0            Shih Tzu   \n",
       "\n",
       "  primary_breed_hybrid secondary_breed breed_type  dog_birth_year dog_gender  \\\n",
       "0                  NaN             NaN          K            2011          w   \n",
       "1                  NaN             NaN          K            2002          w   \n",
       "2                  NaN             NaN          I            2012          w   \n",
       "3                  NaN             NaN          I            2010          w   \n",
       "4                  NaN             NaN          K            2011          m   \n",
       "\n",
       "       dog_color  \n",
       "0  schwarz/braun  \n",
       "1        brindle  \n",
       "2          braun  \n",
       "3        schwarz  \n",
       "4  schwarz/weiss  "
      ]
     },
     "execution_count": 13,
     "metadata": {},
     "output_type": "execute_result"
    }
   ],
   "source": [
    "dogs.head()"
   ]
  },
  {
   "cell_type": "markdown",
   "metadata": {},
   "source": [
    "## 7) Pugs\n",
    "Create a filtered DataFrame that contains all of the pugs in this dataset. And yes, even the dog breeds are in German. Turns out, Germans call pugs \"Mops\"."
   ]
  },
  {
   "cell_type": "code",
   "execution_count": 14,
   "metadata": {
    "scrolled": true
   },
   "outputs": [
    {
     "data": {
      "text/html": [
       "<div>\n",
       "<style scoped>\n",
       "    .dataframe tbody tr th:only-of-type {\n",
       "        vertical-align: middle;\n",
       "    }\n",
       "\n",
       "    .dataframe tbody tr th {\n",
       "        vertical-align: top;\n",
       "    }\n",
       "\n",
       "    .dataframe thead th {\n",
       "        text-align: right;\n",
       "    }\n",
       "</style>\n",
       "<table border=\"1\" class=\"dataframe\">\n",
       "  <thead>\n",
       "    <tr style=\"text-align: right;\">\n",
       "      <th></th>\n",
       "      <th>owner_id</th>\n",
       "      <th>age</th>\n",
       "      <th>gender</th>\n",
       "      <th>city_district</th>\n",
       "      <th>city_quarter</th>\n",
       "      <th>primary_breed</th>\n",
       "      <th>primary_breed_hybrid</th>\n",
       "      <th>secondary_breed</th>\n",
       "      <th>breed_type</th>\n",
       "      <th>dog_birth_year</th>\n",
       "      <th>dog_gender</th>\n",
       "      <th>dog_color</th>\n",
       "    </tr>\n",
       "  </thead>\n",
       "  <tbody>\n",
       "    <tr>\n",
       "      <th>35</th>\n",
       "      <td>6321</td>\n",
       "      <td>51-60</td>\n",
       "      <td>w</td>\n",
       "      <td>8.0</td>\n",
       "      <td>81.0</td>\n",
       "      <td>Mops</td>\n",
       "      <td>NaN</td>\n",
       "      <td>NaN</td>\n",
       "      <td>K</td>\n",
       "      <td>2011</td>\n",
       "      <td>m</td>\n",
       "      <td>beige</td>\n",
       "    </tr>\n",
       "    <tr>\n",
       "      <th>37</th>\n",
       "      <td>6469</td>\n",
       "      <td>41-50</td>\n",
       "      <td>m</td>\n",
       "      <td>11.0</td>\n",
       "      <td>111.0</td>\n",
       "      <td>Mops</td>\n",
       "      <td>NaN</td>\n",
       "      <td>NaN</td>\n",
       "      <td>K</td>\n",
       "      <td>2011</td>\n",
       "      <td>m</td>\n",
       "      <td>beige</td>\n",
       "    </tr>\n",
       "    <tr>\n",
       "      <th>104</th>\n",
       "      <td>65665</td>\n",
       "      <td>61-70</td>\n",
       "      <td>w</td>\n",
       "      <td>8.0</td>\n",
       "      <td>82.0</td>\n",
       "      <td>Mops</td>\n",
       "      <td>NaN</td>\n",
       "      <td>NaN</td>\n",
       "      <td>K</td>\n",
       "      <td>2002</td>\n",
       "      <td>m</td>\n",
       "      <td>beige</td>\n",
       "    </tr>\n",
       "    <tr>\n",
       "      <th>105</th>\n",
       "      <td>65665</td>\n",
       "      <td>61-70</td>\n",
       "      <td>w</td>\n",
       "      <td>8.0</td>\n",
       "      <td>82.0</td>\n",
       "      <td>Mops</td>\n",
       "      <td>NaN</td>\n",
       "      <td>NaN</td>\n",
       "      <td>K</td>\n",
       "      <td>2002</td>\n",
       "      <td>m</td>\n",
       "      <td>schwarz</td>\n",
       "    </tr>\n",
       "    <tr>\n",
       "      <th>123</th>\n",
       "      <td>66524</td>\n",
       "      <td>51-60</td>\n",
       "      <td>w</td>\n",
       "      <td>12.0</td>\n",
       "      <td>123.0</td>\n",
       "      <td>Mops</td>\n",
       "      <td>NaN</td>\n",
       "      <td>Chihuahua</td>\n",
       "      <td>K</td>\n",
       "      <td>2013</td>\n",
       "      <td>m</td>\n",
       "      <td>blue/merle</td>\n",
       "    </tr>\n",
       "  </tbody>\n",
       "</table>\n",
       "</div>"
      ],
      "text/plain": [
       "     owner_id    age gender  city_district  city_quarter primary_breed  \\\n",
       "35       6321  51-60      w            8.0          81.0          Mops   \n",
       "37       6469  41-50      m           11.0         111.0          Mops   \n",
       "104     65665  61-70      w            8.0          82.0          Mops   \n",
       "105     65665  61-70      w            8.0          82.0          Mops   \n",
       "123     66524  51-60      w           12.0         123.0          Mops   \n",
       "\n",
       "    primary_breed_hybrid secondary_breed breed_type  dog_birth_year  \\\n",
       "35                   NaN             NaN          K            2011   \n",
       "37                   NaN             NaN          K            2011   \n",
       "104                  NaN             NaN          K            2002   \n",
       "105                  NaN             NaN          K            2002   \n",
       "123                  NaN       Chihuahua          K            2013   \n",
       "\n",
       "    dog_gender   dog_color  \n",
       "35           m       beige  \n",
       "37           m       beige  \n",
       "104          m       beige  \n",
       "105          m     schwarz  \n",
       "123          m  blue/merle  "
      ]
     },
     "execution_count": 14,
     "metadata": {},
     "output_type": "execute_result"
    }
   ],
   "source": [
    "pugs = dogs[(dogs['primary_breed'] == 'Mops') | (dogs['secondary_breed'] == 'Mops')]\n",
    "pugs.head()"
   ]
  },
  {
   "cell_type": "markdown",
   "metadata": {},
   "source": [
    "## 8) Tables\n",
    "For the pug data, show the counts of:\n",
    "* Human genders\n",
    "* Dog genders\n",
    "* Dog color (only show the top 5)\n",
    "* Dog gender _versus_ human gender"
   ]
  },
  {
   "cell_type": "code",
   "execution_count": 15,
   "metadata": {},
   "outputs": [
    {
     "data": {
      "text/plain": [
       "gender\n",
       "m    138\n",
       "w    419\n",
       "dtype: int64"
      ]
     },
     "execution_count": 15,
     "metadata": {},
     "output_type": "execute_result"
    }
   ],
   "source": [
    "pugs.groupby('gender').size()"
   ]
  },
  {
   "cell_type": "code",
   "execution_count": 16,
   "metadata": {},
   "outputs": [
    {
     "data": {
      "text/plain": [
       "dog_gender\n",
       "m    302\n",
       "w    255\n",
       "dtype: int64"
      ]
     },
     "execution_count": 16,
     "metadata": {},
     "output_type": "execute_result"
    }
   ],
   "source": [
    "pugs.groupby('dog_gender').size()"
   ]
  },
  {
   "cell_type": "code",
   "execution_count": 17,
   "metadata": {},
   "outputs": [
    {
     "data": {
      "text/plain": [
       "dog_color\n",
       "beige            281\n",
       "schwarz          127\n",
       "beige/schwarz     63\n",
       "braun             21\n",
       "hellbraun          8\n",
       "dtype: int64"
      ]
     },
     "execution_count": 17,
     "metadata": {},
     "output_type": "execute_result"
    }
   ],
   "source": [
    "pugs.groupby('dog_color').size().sort_values(ascending=False)[:5]"
   ]
  },
  {
   "cell_type": "markdown",
   "metadata": {},
   "source": [
    "## 9) Translate the gender columns\n",
    "Convert all instances of `m` to `M` and `w` to `F` in the pug data."
   ]
  },
  {
   "cell_type": "code",
   "execution_count": 20,
   "metadata": {
    "scrolled": true
   },
   "outputs": [
    {
     "data": {
      "text/html": [
       "<div>\n",
       "<style scoped>\n",
       "    .dataframe tbody tr th:only-of-type {\n",
       "        vertical-align: middle;\n",
       "    }\n",
       "\n",
       "    .dataframe tbody tr th {\n",
       "        vertical-align: top;\n",
       "    }\n",
       "\n",
       "    .dataframe thead th {\n",
       "        text-align: right;\n",
       "    }\n",
       "</style>\n",
       "<table border=\"1\" class=\"dataframe\">\n",
       "  <thead>\n",
       "    <tr style=\"text-align: right;\">\n",
       "      <th></th>\n",
       "      <th>owner_id</th>\n",
       "      <th>age</th>\n",
       "      <th>gender</th>\n",
       "      <th>city_district</th>\n",
       "      <th>city_quarter</th>\n",
       "      <th>primary_breed</th>\n",
       "      <th>primary_breed_hybrid</th>\n",
       "      <th>secondary_breed</th>\n",
       "      <th>breed_type</th>\n",
       "      <th>dog_birth_year</th>\n",
       "      <th>dog_gender</th>\n",
       "      <th>dog_color</th>\n",
       "    </tr>\n",
       "  </thead>\n",
       "  <tbody>\n",
       "    <tr>\n",
       "      <th>35</th>\n",
       "      <td>6321</td>\n",
       "      <td>51-60</td>\n",
       "      <td>NaN</td>\n",
       "      <td>8.0</td>\n",
       "      <td>81.0</td>\n",
       "      <td>Mops</td>\n",
       "      <td>NaN</td>\n",
       "      <td>NaN</td>\n",
       "      <td>K</td>\n",
       "      <td>2011</td>\n",
       "      <td>NaN</td>\n",
       "      <td>beige</td>\n",
       "    </tr>\n",
       "    <tr>\n",
       "      <th>37</th>\n",
       "      <td>6469</td>\n",
       "      <td>41-50</td>\n",
       "      <td>NaN</td>\n",
       "      <td>11.0</td>\n",
       "      <td>111.0</td>\n",
       "      <td>Mops</td>\n",
       "      <td>NaN</td>\n",
       "      <td>NaN</td>\n",
       "      <td>K</td>\n",
       "      <td>2011</td>\n",
       "      <td>NaN</td>\n",
       "      <td>beige</td>\n",
       "    </tr>\n",
       "    <tr>\n",
       "      <th>104</th>\n",
       "      <td>65665</td>\n",
       "      <td>61-70</td>\n",
       "      <td>NaN</td>\n",
       "      <td>8.0</td>\n",
       "      <td>82.0</td>\n",
       "      <td>Mops</td>\n",
       "      <td>NaN</td>\n",
       "      <td>NaN</td>\n",
       "      <td>K</td>\n",
       "      <td>2002</td>\n",
       "      <td>NaN</td>\n",
       "      <td>beige</td>\n",
       "    </tr>\n",
       "    <tr>\n",
       "      <th>105</th>\n",
       "      <td>65665</td>\n",
       "      <td>61-70</td>\n",
       "      <td>NaN</td>\n",
       "      <td>8.0</td>\n",
       "      <td>82.0</td>\n",
       "      <td>Mops</td>\n",
       "      <td>NaN</td>\n",
       "      <td>NaN</td>\n",
       "      <td>K</td>\n",
       "      <td>2002</td>\n",
       "      <td>NaN</td>\n",
       "      <td>schwarz</td>\n",
       "    </tr>\n",
       "    <tr>\n",
       "      <th>123</th>\n",
       "      <td>66524</td>\n",
       "      <td>51-60</td>\n",
       "      <td>NaN</td>\n",
       "      <td>12.0</td>\n",
       "      <td>123.0</td>\n",
       "      <td>Mops</td>\n",
       "      <td>NaN</td>\n",
       "      <td>Chihuahua</td>\n",
       "      <td>K</td>\n",
       "      <td>2013</td>\n",
       "      <td>NaN</td>\n",
       "      <td>blue/merle</td>\n",
       "    </tr>\n",
       "  </tbody>\n",
       "</table>\n",
       "</div>"
      ],
      "text/plain": [
       "     owner_id    age gender  city_district  city_quarter primary_breed  \\\n",
       "35       6321  51-60    NaN            8.0          81.0          Mops   \n",
       "37       6469  41-50    NaN           11.0         111.0          Mops   \n",
       "104     65665  61-70    NaN            8.0          82.0          Mops   \n",
       "105     65665  61-70    NaN            8.0          82.0          Mops   \n",
       "123     66524  51-60    NaN           12.0         123.0          Mops   \n",
       "\n",
       "    primary_breed_hybrid secondary_breed breed_type  dog_birth_year  \\\n",
       "35                   NaN             NaN          K            2011   \n",
       "37                   NaN             NaN          K            2011   \n",
       "104                  NaN             NaN          K            2002   \n",
       "105                  NaN             NaN          K            2002   \n",
       "123                  NaN       Chihuahua          K            2013   \n",
       "\n",
       "    dog_gender   dog_color  \n",
       "35         NaN       beige  \n",
       "37         NaN       beige  \n",
       "104        NaN       beige  \n",
       "105        NaN     schwarz  \n",
       "123        NaN  blue/merle  "
      ]
     },
     "execution_count": 20,
     "metadata": {},
     "output_type": "execute_result"
    }
   ],
   "source": [
    "pugs.gender = pugs.gender.map({'m':'M','w':'F'})\n",
    "pugs.dog_gender = pugs.dog_gender.map({'m':'M','w':'F'})\n",
    "\n",
    "pugs.head()"
   ]
  },
  {
   "cell_type": "markdown",
   "metadata": {},
   "source": [
    "## 10) Translate colors\n",
    "Still using the pug data. Use the provided data dictionary as a guide. Use this to translate each dog's color into English. For colors not in this dictionary, put `\"other\"`.\n"
   ]
  },
  {
   "cell_type": "code",
   "execution_count": 19,
   "metadata": {},
   "outputs": [],
   "source": [
    "color_dict = {'beige': 'beige', \n",
    "              'schwarz': 'black', \n",
    "              'braun': 'brown', \n",
    "              'gestromt': 'brindle', \n",
    "              'beige/schwarz': 'beige/black',\n",
    "              'silber': 'silver',\n",
    "              'beige/weiss': 'beige/white',\n",
    "              'grau': 'grey',\n",
    "              'rehbraun': 'fawn brown',\n",
    "              'sandfarbig': 'buff',\n",
    "              'brindle': 'brindle',\n",
    "              'schwarz/weiss': 'black/white',\n",
    "              'braun gestromt': 'brown brindle',\n",
    "              'braun/schwarz': 'brown/black',\n",
    "              'hellbraun': 'light-brown',\n",
    "              'blondfarben': 'blond',\n",
    "              'tricolor': 'tricolor',\n",
    "              'beige/braun': 'beige/brown',\n",
    "              'apricot': 'apricot', \n",
    "              'weiss': 'white',\n",
    "              'blue/merle': 'blue/merle',\n",
    "              'creme': 'creme',\n",
    "              'sable': 'sable'}"
   ]
  },
  {
   "cell_type": "code",
   "execution_count": null,
   "metadata": {},
   "outputs": [],
   "source": []
  },
  {
   "cell_type": "markdown",
   "metadata": {},
   "source": [
    "## Grande Finale\n",
    "\n",
    "This problem is going to involve a few steps. Read carefully. Pick apart each task and solve them one at a time. **This pertains to the full dataset, no longer just pugs.**\n",
    "\n",
    "- Create a new column, `age_mid`, which is the age of the owner. To do this, you'll calculate the average of the endpoints for the numbers in the `age` column. For example, `51-60` => `55.5`. You can do this for example by\n",
    "    - creating some sort of dictionary as in the last problem (this is brute force, and requires a lot of work and is not extensible).\n",
    "    - creating a function that will compute this for an individual string as input, and returns the appropriate number. While this might sound more difficult, it actually involves less work, is cleaner, and is more extensible.\n",
    "- Create a new column, `dog_age`, which is the age of the dogs _at that time_. You may use the dog's year of birth and the \"year\" column you made in part 3 to compute this.\n",
    "* Take a look at this new `dog_age` variable. Drop or clean up the ones that make no sense and are likely the result of data errors.\n",
    "* Subset to only include pugs (`Mops`), shiba inus (`Shiba Inu`), any dog with  \"Retriever\" in its name, and any dog with \"Terrier\" in its name.\n",
    "    - _Hint:_ Check out the `.str.contains()` method.\n",
    "* Keep only breeds with more than 100 observations.\n",
    "* With this data subset, compute the average human and dog age for each breed."
   ]
  },
  {
   "cell_type": "code",
   "execution_count": null,
   "metadata": {},
   "outputs": [],
   "source": []
  }
 ],
 "metadata": {
  "kernelspec": {
   "display_name": "Python 3",
   "language": "python",
   "name": "python3"
  },
  "language_info": {
   "codemirror_mode": {
    "name": "ipython",
    "version": 3
   },
   "file_extension": ".py",
   "mimetype": "text/x-python",
   "name": "python",
   "nbconvert_exporter": "python",
   "pygments_lexer": "ipython3",
   "version": "3.7.3"
  },
  "toc": {
   "base_numbering": 1,
   "nav_menu": {},
   "number_sections": false,
   "sideBar": true,
   "skip_h1_title": true,
   "title_cell": "Table of Contents",
   "title_sidebar": "Contents",
   "toc_cell": false,
   "toc_position": {},
   "toc_section_display": true,
   "toc_window_display": false
  }
 },
 "nbformat": 4,
 "nbformat_minor": 2
}
