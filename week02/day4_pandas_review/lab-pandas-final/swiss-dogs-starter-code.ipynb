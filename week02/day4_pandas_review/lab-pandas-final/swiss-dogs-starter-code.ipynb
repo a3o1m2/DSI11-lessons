{
 "cells": [
  {
   "cell_type": "markdown",
   "metadata": {},
   "source": [
    "<img src=\"http://imgur.com/1ZcRyrc.png\" style=\"float: left; margin: 20px; height: 55px\">\n",
    "\n",
    "# Swiss Dog Owners\n",
    "\n",
    "Please check out the data documentation on Kaggle, [here](https://www.kaggle.com/kmader/dogs-of-zurich)."
   ]
  },
  {
   "cell_type": "markdown",
   "metadata": {},
   "source": [
    "## 1) Import the libraries you'll need below."
   ]
  },
  {
   "cell_type": "code",
   "execution_count": 1,
   "metadata": {},
   "outputs": [],
   "source": [
    "import pandas as pd\n",
    "import numpy as np\n",
    "import matplotlib.pyplot as plt\n",
    "import seaborn as sns\n",
    "sns.set(font_scale=1.5)\n",
    "\n",
    "%config InlineBackend.figure_format = 'retina'\n",
    "%matplotlib inline"
   ]
  },
  {
   "cell_type": "markdown",
   "metadata": {},
   "source": [
    "## 2) Load the datasets\n",
    "This time, there are _three_ datasets. Load them in as separate variables."
   ]
  },
  {
   "cell_type": "code",
   "execution_count": 2,
   "metadata": {},
   "outputs": [],
   "source": [
    "dogs15 = pd.read_csv('../../../../resource-datasets/swiss_dogs/20151001hundehalter.csv')\n",
    "dogs16 = pd.read_csv('../../../../resource-datasets/swiss_dogs/20160307hundehalter.csv')\n",
    "dogs17 = pd.read_csv('../../../../resource-datasets/swiss_dogs/20170308hundehalter.csv')"
   ]
  },
  {
   "cell_type": "markdown",
   "metadata": {},
   "source": [
    "## 3) Append them together.\n",
    "In each dataset, make an appropriate `year` column. After that, append all three `DataFrame`s into one master `DataFrame`."
   ]
  },
  {
   "cell_type": "code",
   "execution_count": null,
   "metadata": {},
   "outputs": [],
   "source": []
  },
  {
   "cell_type": "markdown",
   "metadata": {},
   "source": [
    "## 4) Check yourself\n",
    "Did step 3 work? Did the data append properly?"
   ]
  },
  {
   "cell_type": "code",
   "execution_count": null,
   "metadata": {},
   "outputs": [],
   "source": []
  },
  {
   "cell_type": "markdown",
   "metadata": {},
   "source": [
    "## 5) Ach nein! This data set is in German!\n",
    "Rename each column so that it is in English. The translations are in the data documentation.\n",
    "\n",
    "**NOTE!!:** This dataset is on dog **owners**, and their dogs. Be careful when labeling columns."
   ]
  },
  {
   "cell_type": "code",
   "execution_count": 3,
   "metadata": {},
   "outputs": [
    {
     "data": {
      "text/plain": [
       "Index(['HALTER_ID', 'ALTER', 'GESCHLECHT', 'STADTKREIS', 'STADTQUARTIER',\n",
       "       'RASSE1', 'RASSE1_MISCHLING', 'RASSE2', 'RASSE2_MISCHLING', 'RASSENTYP',\n",
       "       'GEBURTSJAHR_HUND', 'GESCHLECHT_HUND', 'HUNDEFARBE'],\n",
       "      dtype='object')"
      ]
     },
     "execution_count": 3,
     "metadata": {},
     "output_type": "execute_result"
    }
   ],
   "source": [
    "dogs15.columns"
   ]
  },
  {
   "cell_type": "markdown",
   "metadata": {},
   "source": [
    "## 6) One of these columns is totally blank.\n",
    "Drop it permanently."
   ]
  },
  {
   "cell_type": "code",
   "execution_count": null,
   "metadata": {},
   "outputs": [],
   "source": []
  },
  {
   "cell_type": "markdown",
   "metadata": {},
   "source": [
    "## 7) Pugs\n",
    "Create a filtered DataFrame that contains all of the pugs in this dataset. And yes, even the dog breeds are in German. Turns out, Germans call pugs \"Mops\"."
   ]
  },
  {
   "cell_type": "code",
   "execution_count": null,
   "metadata": {},
   "outputs": [],
   "source": []
  },
  {
   "cell_type": "markdown",
   "metadata": {},
   "source": [
    "## 8) Tables\n",
    "For the pug data, show the counts of:\n",
    "* Human genders\n",
    "* Dog genders\n",
    "* Dog color (only show the top 5)\n",
    "* Dog gender _versus_ human gender"
   ]
  },
  {
   "cell_type": "code",
   "execution_count": null,
   "metadata": {},
   "outputs": [],
   "source": []
  },
  {
   "cell_type": "markdown",
   "metadata": {},
   "source": [
    "## 9) Translate the gender columns\n",
    "Convert all instances of `m` to `M` and `w` to `F` in the pug data."
   ]
  },
  {
   "cell_type": "code",
   "execution_count": null,
   "metadata": {},
   "outputs": [],
   "source": []
  },
  {
   "cell_type": "markdown",
   "metadata": {},
   "source": [
    "## 10) Translate colors\n",
    "Still using the pug data. Use the provided data dictionary as a guide. Use this to translate each dog's color into English. For colors not in this dictionary, put `\"other\"`.\n"
   ]
  },
  {
   "cell_type": "code",
   "execution_count": 4,
   "metadata": {},
   "outputs": [],
   "source": [
    "color_dict = {'beige': 'beige', \n",
    "              'schwarz': 'black', \n",
    "              'braun': 'brown', \n",
    "              'gestromt': 'brindle', \n",
    "              'beige/schwarz': 'beige/black',\n",
    "              'silber': 'silver',\n",
    "              'beige/weiss': 'beige/white',\n",
    "              'grau': 'grey',\n",
    "              'rehbraun': 'fawn brown',\n",
    "              'sandfarbig': 'buff',\n",
    "              'brindle': 'brindle',\n",
    "              'schwarz/weiss': 'black/white',\n",
    "              'braun gestromt': 'brown brindle',\n",
    "              'braun/schwarz': 'brown/black',\n",
    "              'hellbraun': 'light-brown',\n",
    "              'blondfarben': 'blond',\n",
    "              'tricolor': 'tricolor',\n",
    "              'beige/braun': 'beige/brown',\n",
    "              'apricot': 'apricot', \n",
    "              'weiss': 'white',\n",
    "              'blue/merle': 'blue/merle',\n",
    "              'creme': 'creme',\n",
    "              'sable': 'sable'}"
   ]
  },
  {
   "cell_type": "code",
   "execution_count": null,
   "metadata": {},
   "outputs": [],
   "source": []
  },
  {
   "cell_type": "markdown",
   "metadata": {},
   "source": [
    "## Grande Finale\n",
    "\n",
    "This problem is going to involve a few steps. Read carefully. Pick apart each task and solve them one at a time. **This pertains to the full dataset, no longer just pugs.**\n",
    "\n",
    "- Create a new column, `age_mid`, which is the age of the owner. To do this, you'll calculate the average of the endpoints for the numbers in the `age` column. For example, `51-60` => `55.5`. You can do this for example by\n",
    "    - creating some sort of dictionary as in the last problem (this is brute force, and requires a lot of work and is not extensible).\n",
    "    - creating a function that will compute this for an individual string as input, and returns the appropriate number. While this might sound more difficult, it actually involves less work, is cleaner, and is more extensible.\n",
    "- Create a new column, `dog_age`, which is the age of the dogs _at that time_. You may use the dog's year of birth and the \"year\" column you made in part 3 to compute this.\n",
    "* Take a look at this new `dog_age` variable. Drop or clean up the ones that make no sense and are likely the result of data errors.\n",
    "* Subset to only include pugs (`Mops`), shiba inus (`Shiba Inu`), any dog with  \"Retriever\" in its name, and any dog with \"Terrier\" in its name.\n",
    "    - _Hint:_ Check out the `.str.contains()` method.\n",
    "* Keep only breeds with more than 100 observations.\n",
    "* With this data subset, compute the average human and dog age for each breed."
   ]
  },
  {
   "cell_type": "code",
   "execution_count": null,
   "metadata": {},
   "outputs": [],
   "source": []
  }
 ],
 "metadata": {
  "kernelspec": {
   "display_name": "Python 3",
   "language": "python",
   "name": "python3"
  },
  "language_info": {
   "codemirror_mode": {
    "name": "ipython",
    "version": 3
   },
   "file_extension": ".py",
   "mimetype": "text/x-python",
   "name": "python",
   "nbconvert_exporter": "python",
   "pygments_lexer": "ipython3",
   "version": "3.7.3"
  },
  "toc": {
   "base_numbering": 1,
   "nav_menu": {},
   "number_sections": false,
   "sideBar": true,
   "skip_h1_title": true,
   "title_cell": "Table of Contents",
   "title_sidebar": "Contents",
   "toc_cell": false,
   "toc_position": {},
   "toc_section_display": true,
   "toc_window_display": false
  }
 },
 "nbformat": 4,
 "nbformat_minor": 2
}
