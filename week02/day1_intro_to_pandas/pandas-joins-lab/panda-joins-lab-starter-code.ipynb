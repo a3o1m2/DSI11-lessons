{
 "cells": [
  {
   "cell_type": "markdown",
   "metadata": {},
   "source": [
    "<img src=\"http://imgur.com/1ZcRyrc.png\" style=\"float: left; margin: 20px; height: 55px\">\n",
    "\n",
    "# Pandas joins lab\n",
    "\n",
    "---"
   ]
  },
  {
   "cell_type": "markdown",
   "metadata": {},
   "source": [
    "In this lab we want to obtain more practice of extracting information from dataframes and joining different dataframes."
   ]
  },
  {
   "cell_type": "markdown",
   "metadata": {
    "toc": true
   },
   "source": [
    "<h1>Table of Contents<span class=\"tocSkip\"></span></h1>\n",
    "<div class=\"toc\"><ul class=\"toc-item\"><li><span><a href=\"#1.--Read-in-the-EuroMart-CSV-Data\" data-toc-modified-id=\"1.--Read-in-the-EuroMart-CSV-Data-1\">1.  Read in the EuroMart CSV Data</a></span></li><li><span><a href=\"#2.-Inspect-the-column-names-of-the-dataframes\" data-toc-modified-id=\"2.-Inspect-the-column-names-of-the-dataframes-2\">2. Inspect the column names of the dataframes</a></span></li><li><span><a href=\"#3.-Inspect-the-shapes-of-the-dataframes\" data-toc-modified-id=\"3.-Inspect-the-shapes-of-the-dataframes-3\">3. Inspect the shapes of the dataframes</a></span></li><li><span><a href=\"#4.-Rename-columns-to-remove-any-spaces-in-the-names\" data-toc-modified-id=\"4.-Rename-columns-to-remove-any-spaces-in-the-names-4\">4. Rename columns to remove any spaces in the names</a></span></li><li><span><a href=\"#5.-Inspect-the-top-of-the-dataframes\" data-toc-modified-id=\"5.-Inspect-the-top-of-the-dataframes-5\">5. Inspect the top of the dataframes</a></span></li><li><span><a href=\"#6.-How-many-orders-has-each-Customer-placed?-How-many-have-placed-more-than-ten-orders?\" data-toc-modified-id=\"6.-How-many-orders-has-each-Customer-placed?-How-many-have-placed-more-than-ten-orders?-6\">6. How many orders has each Customer placed? How many have placed more than ten orders?</a></span></li><li><span><a href=\"#7.-From-the-table-of-orders,-subset-on-the-columns-containing-geographical-information-and-sort-by-country.\" data-toc-modified-id=\"7.-From-the-table-of-orders,-subset-on-the-columns-containing-geographical-information-and-sort-by-country.-7\">7. From the table of orders, subset on the columns containing geographical information and sort by country.</a></span></li><li><span><a href=\"#8.-Use-a-join-to-return-a-table-with-the-Customer-Name-and-Product-Name.\" data-toc-modified-id=\"8.-Use-a-join-to-return-a-table-with-the-Customer-Name-and-Product-Name.-8\">8. Use a join to return a table with the Customer Name and Product Name.</a></span></li><li><span><a href=\"#9.--How-many-orders-for-&quot;Office-Supplies&quot;-(Category)-has-Sweden-made?\" data-toc-modified-id=\"9.--How-many-orders-for-&quot;Office-Supplies&quot;-(Category)-has-Sweden-made?-9\">9.  How many orders for \"Office Supplies\" (Category) has Sweden made?</a></span></li><li><span><a href=\"#10.-What-is-the-total-quantity-of-objects-sold-for-Sweden?\" data-toc-modified-id=\"10.-What-is-the-total-quantity-of-objects-sold-for-Sweden?-10\">10. What is the total quantity of objects sold for Sweden?</a></span></li><li><span><a href=\"#11.-What-Shipping-method-is-most-common-for-'Bookcases'-(Sub-Category)?\" data-toc-modified-id=\"11.-What-Shipping-method-is-most-common-for-'Bookcases'-(Sub-Category)?-11\">11. What Shipping method is most common for 'Bookcases' (Sub Category)?</a></span></li></ul></div>"
   ]
  },
  {
   "cell_type": "code",
   "execution_count": 1,
   "metadata": {},
   "outputs": [],
   "source": [
    "# Necessary Libraries\n",
    "import pandas as pd"
   ]
  },
  {
   "cell_type": "markdown",
   "metadata": {},
   "source": [
    "### 1.  Read in the EuroMart CSV Data\n",
    "- 'EuroMart-ListOfOrders.csv'\n",
    "- 'EuroMart-OrderBreakdown.csv'"
   ]
  },
  {
   "cell_type": "code",
   "execution_count": 2,
   "metadata": {},
   "outputs": [],
   "source": [
    "# Reading CSV to Dataframe\n",
    "orders = pd.read_csv('../../../../resource-datasets/euromart/EuroMart-ListOfOrders.csv')\n",
    "OBD = pd.read_csv('../../../../resource-datasets/euromart/EuroMart-OrderBreakdown.csv')"
   ]
  },
  {
   "cell_type": "markdown",
   "metadata": {},
   "source": [
    "### 2. Inspect the column names of the dataframes"
   ]
  },
  {
   "cell_type": "code",
   "execution_count": null,
   "metadata": {},
   "outputs": [],
   "source": []
  },
  {
   "cell_type": "markdown",
   "metadata": {},
   "source": [
    "### 3. Inspect the shapes of the dataframes"
   ]
  },
  {
   "cell_type": "code",
   "execution_count": null,
   "metadata": {},
   "outputs": [],
   "source": []
  },
  {
   "cell_type": "markdown",
   "metadata": {},
   "source": [
    "### 4. Rename columns to replace spaces with underscore in the names and turn them lower case"
   ]
  },
  {
   "cell_type": "code",
   "execution_count": null,
   "metadata": {},
   "outputs": [],
   "source": []
  },
  {
   "cell_type": "markdown",
   "metadata": {},
   "source": [
    "### 5. Inspect the top of the dataframes"
   ]
  },
  {
   "cell_type": "code",
   "execution_count": null,
   "metadata": {},
   "outputs": [],
   "source": []
  },
  {
   "cell_type": "markdown",
   "metadata": {},
   "source": [
    "### 6. How many orders has each Customer placed? How many have placed more than ten orders?\n",
    "\n",
    "Hint: Use `.value_counts()`."
   ]
  },
  {
   "cell_type": "code",
   "execution_count": null,
   "metadata": {},
   "outputs": [],
   "source": []
  },
  {
   "cell_type": "markdown",
   "metadata": {},
   "source": [
    "### 7. From the table of orders, subset on the columns containing geographical information and sort by country."
   ]
  },
  {
   "cell_type": "code",
   "execution_count": null,
   "metadata": {},
   "outputs": [],
   "source": []
  },
  {
   "cell_type": "markdown",
   "metadata": {},
   "source": [
    "In the following parts you will need to use `pd.merge`."
   ]
  },
  {
   "cell_type": "markdown",
   "metadata": {},
   "source": [
    "### 8. Use a join to return a table with the Customer Name and Product Name.  "
   ]
  },
  {
   "cell_type": "code",
   "execution_count": null,
   "metadata": {},
   "outputs": [],
   "source": []
  },
  {
   "cell_type": "markdown",
   "metadata": {},
   "source": [
    "### 9.  How many orders for \"Office Supplies\" (Category) has Sweden made?"
   ]
  },
  {
   "cell_type": "code",
   "execution_count": null,
   "metadata": {},
   "outputs": [],
   "source": []
  },
  {
   "cell_type": "markdown",
   "metadata": {},
   "source": [
    "### 10. What is the total quantity of objects sold for Sweden?"
   ]
  },
  {
   "cell_type": "code",
   "execution_count": null,
   "metadata": {},
   "outputs": [],
   "source": []
  },
  {
   "cell_type": "markdown",
   "metadata": {},
   "source": [
    "### 11. What Shipping method is most common for 'Bookcases' (Sub Category)?"
   ]
  },
  {
   "cell_type": "code",
   "execution_count": null,
   "metadata": {},
   "outputs": [],
   "source": []
  }
 ],
 "metadata": {
  "anaconda-cloud": {},
  "kernelspec": {
   "display_name": "Python 3",
   "language": "python",
   "name": "python3"
  },
  "language_info": {
   "codemirror_mode": {
    "name": "ipython",
    "version": 3
   },
   "file_extension": ".py",
   "mimetype": "text/x-python",
   "name": "python",
   "nbconvert_exporter": "python",
   "pygments_lexer": "ipython3",
   "version": "3.7.3"
  },
  "toc": {
   "base_numbering": 1,
   "nav_menu": {},
   "number_sections": false,
   "sideBar": true,
   "skip_h1_title": true,
   "title_cell": "Table of Contents",
   "title_sidebar": "Contents",
   "toc_cell": true,
   "toc_position": {},
   "toc_section_display": true,
   "toc_window_display": false
  }
 },
 "nbformat": 4,
 "nbformat_minor": 1
}
