{
 "cells": [
  {
   "cell_type": "markdown",
   "metadata": {},
   "source": [
    "<img src=\"http://imgur.com/1ZcRyrc.png\" style=\"float: left; margin: 20px; height: 55px\">\n",
    "\n",
    "# Github for Teams\n",
    "---"
   ]
  },
  {
   "cell_type": "markdown",
   "metadata": {},
   "source": [
    "## Introduction\n",
    "\n",
    "We're going to use the skills covered in the earlier lesson to practice interacting with a Github repository. By the end of this lab, you will have practiced merging Pull Requests, resolving Merge Conflicts, and maintaining Forks. These skills will enable you to effectively work as a team using Github as your source control tool. At the end of each part, make sure you switch roles and re-do the exercise. This way each partner will get to practice the skills covered.\n",
    "\n",
    "Make sure you have a strong handle on the topics covered in this lab. They may feel awkward at first, but will become more meaningful over time. In a working environment, having an effective collaboration workflow will make everything much easier.\n",
    "\n",
    "As a Data Scientist in a technical environment, it is almost guaranteed that you will rely on Git or a similar source control system to store source code, allow easy collaboration, power external codebase search tools, keep code easily accessible for deployment, and document a project's progress. Some projects might have hundreds of collaborators, some only one, but all are stored in  Git repositories."
   ]
  },
  {
   "cell_type": "markdown",
   "metadata": {},
   "source": [
    "## Pair programming exercise\n",
    "\n",
    "At the end of this lab, you should have multiple repositories, each with merged Pull Requests. "
   ]
  },
  {
   "cell_type": "markdown",
   "metadata": {},
   "source": [
    "### Part 1\n",
    "\n",
    "**Merging Pull Requests**\n",
    "\n",
    "Partner 1:\n",
    "* Create a GitHub repository\n",
    "* Create a folder named \"Pong\"\n",
    "* Add two files named \"paddle.py\" and \"ball.py\"\n",
    "* In the \"paddle.py\" file, define a Paddle class with an empty main method\n",
    "* Commit and Push your changes to GitHub\n",
    "\n",
    "Partner 2:\n",
    "* Fork and Clone the new GitHub repository\n",
    "* Add member variables to the Ball class to indicate X and Y coordinates\n",
    "* Add a new file named \"main.py\"\n",
    "* Commit your changes and submit a pull request back to Partner 1 (pull request means you git push origin master from your local to create the pull request in the remote repo)\n",
    "\n",
    "Partner 1:\n",
    "* Review and accept the Pull Request\n",
    "\n",
    "*Now switch roles and do Part 1 again!*"
   ]
  },
  {
   "cell_type": "code",
   "execution_count": null,
   "metadata": {},
   "outputs": [],
   "source": []
  },
  {
   "cell_type": "markdown",
   "metadata": {},
   "source": [
    "### Part 2\n",
    "\n",
    "**Synchronizing a Fork**\n",
    "\n",
    "Both Partners:\n",
    "* Review [the documentation](https://help.github.com/articles/syncing-a-fork/) on synchronizing forks\n",
    "\n",
    "Partner 2:\n",
    "* Use the technique described in the documentation to sync your fork of Partner 1's GitHub repository.\n",
    "\n",
    "Partner 1:\n",
    "* Edit the \"main.py\" file to import both Paddle and Ball classes\n",
    "* Push your commit to Github and open a Pull Request\n",
    "\n",
    "Partner 2: \n",
    "* Review and accept the Pull Request\n",
    "\n",
    "*Now switch roles and do Part 2 again!*"
   ]
  },
  {
   "cell_type": "markdown",
   "metadata": {},
   "source": [
    "### Part 3\n",
    "\n",
    "**Merge Conflicts**\n",
    "\n",
    "Partner 1:\n",
    "* Edit the main method in \"paddle.py\" to print \"Hello World!\"\n",
    "* Commit and push your code to your repository\n",
    "\n",
    "Partner 2: \n",
    "* Edit the main method in your **local** copy of \"paddle.py\" to print \"Goodbye Cruel World!\"\n",
    "* Commit and push your code to Partner 1's repository \n",
    "\n",
    "Partner 1:\n",
    "* Create a Pull Request for your code\n",
    "* Review and Accept your Pull Request\n",
    "\n",
    "Partner 2:\n",
    "* Create a Pull Request for your code. \n",
    " - **Note:** You *should* have a merge conflict.\n",
    "* Edit the Merge conflict and successfully merge in your code\n",
    "\n",
    "*Now switch roles and do Part 3 again!*"
   ]
  },
  {
   "cell_type": "markdown",
   "metadata": {},
   "source": [
    "## Bonus\n",
    "\n",
    "If you've mastered the exercises above, here are some bonus exercises you can try.\n",
    "\n",
    "* Create ten branches that all edit the same file, and then merge them all together\n",
    "* Create a fork of a fork of a fork, and attempt to push a commit all the way back up to the original repository\n",
    "* Merge your group with another group and try all of the above with 4 contributors instead of 2\n",
    "* Create teams for your github repository and add collaborators."
   ]
  },
  {
   "cell_type": "markdown",
   "metadata": {},
   "source": [
    "## Additional Resources\n",
    "- [How Pull Requests Work](https://www.atlassian.com/git/tutorials/making-a-pull-request/)\n",
    "- [Pull Requests & Merge Conflict Walkthrough](https://bocoup.com/weblog/git-workflow-walkthrough-merging-pull-requests)"
   ]
  }
 ],
 "metadata": {
  "kernelspec": {
   "display_name": "Python 3",
   "language": "python",
   "name": "python3"
  },
  "language_info": {
   "codemirror_mode": {
    "name": "ipython",
    "version": 3
   },
   "file_extension": ".py",
   "mimetype": "text/x-python",
   "name": "python",
   "nbconvert_exporter": "python",
   "pygments_lexer": "ipython3",
   "version": "3.7.3"
  },
  "toc": {
   "base_numbering": 1,
   "nav_menu": {},
   "number_sections": false,
   "sideBar": true,
   "skip_h1_title": true,
   "title_cell": "Table of Contents",
   "title_sidebar": "Contents",
   "toc_cell": false,
   "toc_position": {},
   "toc_section_display": "block",
   "toc_window_display": false
  },
  "varInspector": {
   "cols": {
    "lenName": 16,
    "lenType": 16,
    "lenVar": 40
   },
   "kernels_config": {
    "python": {
     "delete_cmd_postfix": "",
     "delete_cmd_prefix": "del ",
     "library": "var_list.py",
     "varRefreshCmd": "print(var_dic_list())"
    },
    "r": {
     "delete_cmd_postfix": ") ",
     "delete_cmd_prefix": "rm(",
     "library": "var_list.r",
     "varRefreshCmd": "cat(var_dic_list()) "
    }
   },
   "types_to_exclude": [
    "module",
    "function",
    "builtin_function_or_method",
    "instance",
    "_Feature"
   ],
   "window_display": false
  }
 },
 "nbformat": 4,
 "nbformat_minor": 2
}
