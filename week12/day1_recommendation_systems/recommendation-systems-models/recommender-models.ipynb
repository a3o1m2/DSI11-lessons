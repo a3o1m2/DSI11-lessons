{
 "cells": [
  {
   "cell_type": "markdown",
   "metadata": {},
   "source": [
    "<img src=\"http://imgur.com/1ZcRyrc.png\" style=\"float: left; margin: 20px; height: 55px\">\n",
    "\n",
    "# Recommendation Systems\n",
    "\n",
    "---"
   ]
  },
  {
   "cell_type": "markdown",
   "metadata": {
    "toc": true
   },
   "source": [
    "<h1>Lesson Guide<span class=\"tocSkip\"></span></h1>\n",
    "<div class=\"toc\"><ul class=\"toc-item\"><li><span><a href=\"#Recommendation-Systems\" data-toc-modified-id=\"Recommendation-Systems-1\">Recommendation Systems</a></span><ul class=\"toc-item\"><li><span><a href=\"#Learning-Objectives\" data-toc-modified-id=\"Learning-Objectives-1.1\">Learning Objectives</a></span></li><li><span><a href=\"#Users-and-items\" data-toc-modified-id=\"Users-and-items-1.2\">Users and items</a></span></li><li><span><a href=\"#Get-the-data\" data-toc-modified-id=\"Get-the-data-1.3\">Get the data</a></span><ul class=\"toc-item\"><li><ul class=\"toc-item\"><li><span><a href=\"#Create-two-columns-containing-date-and-year-of-the-given--rating\" data-toc-modified-id=\"Create-two-columns-containing-date-and-year-of-the-given--rating-1.3.0.1\">Create two columns containing date and year of the given  rating</a></span></li><li><span><a href=\"#Solution-(double-click)\" data-toc-modified-id=\"Solution-(double-click)-1.3.0.2\">Solution (double click)</a></span></li><li><span><a href=\"#Describe-the-rating-data\" data-toc-modified-id=\"Describe-the-rating-data-1.3.0.3\">Describe the rating data</a></span></li><li><span><a href=\"#Solution-(double-click)\" data-toc-modified-id=\"Solution-(double-click)-1.3.0.4\">Solution (double click)</a></span></li><li><span><a href=\"#How-many-ratings-have-been-given-in-each-month-and-year?\" data-toc-modified-id=\"How-many-ratings-have-been-given-in-each-month-and-year?-1.3.0.5\">How many ratings have been given in each month and year?</a></span></li><li><span><a href=\"#Solution-(double-click)\" data-toc-modified-id=\"Solution-(double-click)-1.3.0.6\">Solution (double click)</a></span></li><li><span><a href=\"#How-many-different-films-have-been-rated-by-how-many-different-users?\" data-toc-modified-id=\"How-many-different-films-have-been-rated-by-how-many-different-users?-1.3.0.7\">How many different films have been rated by how many different users?</a></span></li><li><span><a href=\"#Solution-(double-click)\" data-toc-modified-id=\"Solution-(double-click)-1.3.0.8\">Solution (double click)</a></span></li><li><span><a href=\"#Which-rating-scale-has-been-used?-How-many-times-has-each-rating-been-given?\" data-toc-modified-id=\"Which-rating-scale-has-been-used?-How-many-times-has-each-rating-been-given?-1.3.0.9\">Which rating scale has been used? How many times has each rating been given?</a></span></li><li><span><a href=\"#Solution-(double-click)\" data-toc-modified-id=\"Solution-(double-click)-1.3.0.10\">Solution (double click)</a></span></li><li><span><a href=\"#How-many-ratings-were-given-by-each-user?\" data-toc-modified-id=\"How-many-ratings-were-given-by-each-user?-1.3.0.11\">How many ratings were given by each user?</a></span></li><li><span><a href=\"#Solution-(double-click)\" data-toc-modified-id=\"Solution-(double-click)-1.3.0.12\">Solution (double click)</a></span></li><li><span><a href=\"#How-many-ratings-were-received-by-each-film?\" data-toc-modified-id=\"How-many-ratings-were-received-by-each-film?-1.3.0.13\">How many ratings were received by each film?</a></span></li><li><span><a href=\"#Solution-(double-click)\" data-toc-modified-id=\"Solution-(double-click)-1.3.0.14\">Solution (double click)</a></span></li></ul></li></ul></li><li><span><a href=\"#Evaluation\" data-toc-modified-id=\"Evaluation-1.4\">Evaluation</a></span><ul class=\"toc-item\"><li><span><a href=\"#MAE-and-MSE\" data-toc-modified-id=\"MAE-and-MSE-1.4.1\">MAE and MSE</a></span></li><li><span><a href=\"#Correlations\" data-toc-modified-id=\"Correlations-1.4.2\">Correlations</a></span></li><li><span><a href=\"#Precision@k-and-recall@k\" data-toc-modified-id=\"Precision@k-and-recall@k-1.4.3\">Precision@k and recall@k</a></span></li></ul></li><li><span><a href=\"#Baseline-prediction\" data-toc-modified-id=\"Baseline-prediction-1.5\">Baseline prediction</a></span><ul class=\"toc-item\"><li><ul class=\"toc-item\"><li><span><a href=\"#Example\" data-toc-modified-id=\"Example-1.5.0.1\">Example</a></span></li><li><span><a href=\"#Determine-the-baseline-estimate-for-each-user-item-pair\" data-toc-modified-id=\"Determine-the-baseline-estimate-for-each-user-item-pair-1.5.0.2\">Determine the baseline estimate for each user-item pair</a></span></li><li><span><a href=\"#Solution-(double-click)\" data-toc-modified-id=\"Solution-(double-click)-1.5.0.3\">Solution (double click)</a></span></li><li><span><a href=\"#Is-there-any-problem-with-determining-the-baseline-like-this?\" data-toc-modified-id=\"Is-there-any-problem-with-determining-the-baseline-like-this?-1.5.0.4\">Is there any problem with determining the baseline like this?</a></span></li><li><span><a href=\"#Solution-(double-click)\" data-toc-modified-id=\"Solution-(double-click)-1.5.0.5\">Solution (double click)</a></span></li></ul></li><li><span><a href=\"#User-item-matrix\" data-toc-modified-id=\"User-item-matrix-1.5.1\">User-item matrix</a></span><ul class=\"toc-item\"><li><span><a href=\"#Solution-(double-click)\" data-toc-modified-id=\"Solution-(double-click)-1.5.1.1\">Solution (double click)</a></span></li><li><span><a href=\"#Evaluate-the-baseline-prediction-against-the-true-values\" data-toc-modified-id=\"Evaluate-the-baseline-prediction-against-the-true-values-1.5.1.2\">Evaluate the baseline prediction against the true values</a></span></li><li><span><a href=\"#Solution-(double-click)\" data-toc-modified-id=\"Solution-(double-click)-1.5.1.3\">Solution (double click)</a></span></li><li><span><a href=\"#Form-recommendation-lists-by-proposing-to-each-user-the-five-films-ranked-highest-according-to-their-baseline.\" data-toc-modified-id=\"Form-recommendation-lists-by-proposing-to-each-user-the-five-films-ranked-highest-according-to-their-baseline.-1.5.1.4\">Form recommendation lists by proposing to each user the five films ranked highest according to their baseline.</a></span></li><li><span><a href=\"#Solution-(double-click)\" data-toc-modified-id=\"Solution-(double-click)-1.5.1.5\">Solution (double click)</a></span></li></ul></li><li><span><a href=\"#Slope-one-predictor\" data-toc-modified-id=\"Slope-one-predictor-1.5.2\">Slope-one predictor</a></span><ul class=\"toc-item\"><li><span><a href=\"#Example\" data-toc-modified-id=\"Example-1.5.2.1\">Example</a></span></li><li><span><a href=\"#According-to-this-model,-how-would-user-8-rate-film-1?\" data-toc-modified-id=\"According-to-this-model,-how-would-user-8-rate-film-1?-1.5.2.2\">According to this model, how would user 8 rate film 1?</a></span></li><li><span><a href=\"#Solution-(double-click)\" data-toc-modified-id=\"Solution-(double-click)-1.5.2.3\">Solution (double click)</a></span></li></ul></li></ul></li><li><span><a href=\"#Measuring-(dis-)similarity-between-ratings\" data-toc-modified-id=\"Measuring-(dis-)similarity-between-ratings-1.6\">Measuring (dis-)similarity between ratings</a></span><ul class=\"toc-item\"><li><ul class=\"toc-item\"><li><span><a href=\"#Determine-the-pairwise-distances-between-items\" data-toc-modified-id=\"Determine-the-pairwise-distances-between-items-1.6.0.1\">Determine the pairwise distances between items</a></span></li><li><span><a href=\"#Solution-(double-click)\" data-toc-modified-id=\"Solution-(double-click)-1.6.0.2\">Solution (double click)</a></span></li><li><span><a href=\"#Based-on-the-user-cosine-similarity,-determine-who-are-the-three-closest-users-to-user-8\" data-toc-modified-id=\"Based-on-the-user-cosine-similarity,-determine-who-are-the-three-closest-users-to-user-8-1.6.0.3\">Based on the user-cosine similarity, determine who are the three closest users to user 8</a></span></li><li><span><a href=\"#Solution-(double-click)\" data-toc-modified-id=\"Solution-(double-click)-1.6.0.4\">Solution (double click)</a></span></li></ul></li><li><span><a href=\"#KNN-with-means\" data-toc-modified-id=\"KNN-with-means-1.6.1\">KNN with means</a></span><ul class=\"toc-item\"><li><span><a href=\"#Example\" data-toc-modified-id=\"Example-1.6.1.1\">Example</a></span></li><li><span><a href=\"#What-would-we-predict-for-the-rating-given-by-user-8-for-film-1-with-this-model-with-$k=3$-and-using-cosine-similarity?\" data-toc-modified-id=\"What-would-we-predict-for-the-rating-given-by-user-8-for-film-1-with-this-model-with-$k=3$-and-using-cosine-similarity?-1.6.1.2\">What would we predict for the rating given by user 8 for film 1 with this model with $k=3$ and using cosine similarity?</a></span></li><li><span><a href=\"#Solution-(double-click)\" data-toc-modified-id=\"Solution-(double-click)-1.6.1.3\">Solution (double click)</a></span></li></ul></li><li><span><a href=\"#Singular-Value-decomposition\" data-toc-modified-id=\"Singular-Value-decomposition-1.6.2\">Singular Value decomposition</a></span><ul class=\"toc-item\"><li><span><a href=\"#Evaluate-the-predictions-using-MSE,-MAE,-Pearson-and-Spearman-correlations\" data-toc-modified-id=\"Evaluate-the-predictions-using-MSE,-MAE,-Pearson-and-Spearman-correlations-1.6.2.1\">Evaluate the predictions using MSE, MAE, Pearson and Spearman correlations</a></span></li><li><span><a href=\"#Solution-(double-click)\" data-toc-modified-id=\"Solution-(double-click)-1.6.2.2\">Solution (double click)</a></span></li></ul></li></ul></li><li><span><a href=\"#Conclusions\" data-toc-modified-id=\"Conclusions-1.7\">Conclusions</a></span></li></ul></li></ul></div>"
   ]
  },
  {
   "cell_type": "markdown",
   "metadata": {},
   "source": [
    "## Learning Objectives\n",
    "\n",
    "- Understand what data is needed to form recommendations\n",
    "- Learn how to evaluate a recommendation model\n",
    "- Meet the main types of recommendation models"
   ]
  },
  {
   "cell_type": "markdown",
   "metadata": {},
   "source": [
    "When we try to recommend items to users, we face a few fundamental problems:\n",
    "\n",
    "1. Data Sparsity\n",
    "    - There are lots of products to recommend to many users. \n",
    "    - It is unlikely that a user will ever try out a large fraction of products.\n",
    "    - A few items are demanded by many users, but many only by a few.\n",
    "   \n",
    "- Cold Start\n",
    "    - We need to be able to give recommendations to users about which we only have scarse data (if at all).\n",
    "    \n",
    "- Accurate, but also diverse predictions\n",
    "    - We want to give useful recommendations in the sense that they match the user's preferences, but also that the recommendation contains some novelty for the user. \n",
    "\n",
    "- Evaluation\n",
    "    - Evaluation is difficult and might differ from algorithm to algorithm.\n",
    "\n",
    "- Scalability\n",
    "    - We need to be able to give recommendations on the spot even though there might be millions of users and items which we have to analyze carefully.\n",
    "\n",
    "- User interface\n",
    "    - Users want to know why they get particular recommendations.\n",
    "\n",
    "- Vulnerability to attacks\n",
    "    - We do not want our recommendation system to be abused for promoting or inhibiting particular items.\n",
    " \n",
    "- Temporal resolution\n",
    "    - Tastes and preferences do not remain the same over time. The algorithms that we will see neglect any kind of dynamics."
   ]
  },
  {
   "cell_type": "markdown",
   "metadata": {},
   "source": [
    "## Users and items\n",
    "\n",
    "In general we speak of users and items.\n",
    "\n",
    "> **Users:** indicate preferences for products through explicit/implicit ratings\n",
    "\n",
    "> **Items:** products which should be recommended and which have received ratings\n",
    "\n",
    "In most cases we are going to predict a certain rating for each possible pair of user and item. If the user already gave some rating we can compare it to our prediction:\n",
    "\n",
    "- True rating: $r_{ui}$\n",
    "- Predicted rating: $\\hat{r}_{ui}$"
   ]
  },
  {
   "cell_type": "code",
   "execution_count": 1,
   "metadata": {
    "ExecuteTime": {
     "end_time": "2020-03-03T09:26:37.137842Z",
     "start_time": "2020-03-03T09:26:33.638054Z"
    }
   },
   "outputs": [],
   "source": [
    "import matplotlib.pyplot as plt\n",
    "import numpy as np\n",
    "import pandas as pd\n",
    "import seaborn as sns\n",
    "from datetime import datetime\n",
    "from datetime import date\n",
    "\n",
    "sns.set(font_scale=1.5)\n",
    "%matplotlib inline\n",
    "%config InlineBackend.figure_format = 'retina'"
   ]
  },
  {
   "cell_type": "markdown",
   "metadata": {},
   "source": [
    "## Get the data"
   ]
  },
  {
   "cell_type": "markdown",
   "metadata": {},
   "source": [
    "First we will need some data. Download the Movielens 100K dataset from [here](https://grouplens.org/datasets/movielens/). \n",
    "It is a very famous dataset about movie ratings. Adjust the paths to the files as necessary."
   ]
  },
  {
   "cell_type": "code",
   "execution_count": 2,
   "metadata": {
    "ExecuteTime": {
     "end_time": "2020-03-03T09:26:37.184979Z",
     "start_time": "2020-03-03T09:26:37.152548Z"
    }
   },
   "outputs": [
    {
     "name": "stdout",
     "output_type": "stream",
     "text": [
      "SUMMARY & USAGE LICENSE\n",
      "=============================================\n",
      "\n",
      "MovieLens data sets were collected by the GroupLens Research Project\n",
      "at the University of Minnesota.\n",
      " \n",
      "This data set consists of:\n",
      "\t* 100,000 ratings (1-5) from 943 users on 1682 movies. \n",
      "\t* Each user has rated at least 20 movies. \n",
      "        * Simple demographic info for the users (age, gender, occupation, zip)\n",
      "\n",
      "The data was collected through the MovieLens web site\n",
      "(movielens.umn.edu) during the seven-month period from September 19th, \n",
      "1997 through April 22nd, 1998. This data has been cleaned up - users\n",
      "who had less than 20 ratings or did not have complete demographic\n",
      "information were removed from this data set. Detailed descriptions of\n",
      "the data file can be found at the end of this file.\n",
      "\n",
      "Neither the University of Minnesota nor any of the researchers\n",
      "involved can guarantee the correctness of the data, its suitability\n",
      "for any particular purpose, or the validity of results based on the\n",
      "use of the data set.  The data set may be used for any research\n",
      "purposes under the following conditions:\n",
      "\n",
      "     * The user may not state or imply any endorsement from the\n",
      "       University of Minnesota or the GroupLens Research Group.\n",
      "\n",
      "     * The user must acknowledge the use of the data set in\n",
      "       publications resulting from the use of the data set\n",
      "       (see below for citation information).\n",
      "\n",
      "     * The user may not redistribute the data without separate\n",
      "       permission.\n",
      "\n",
      "     * The user may not use this information for any commercial or\n",
      "       revenue-bearing purposes without first obtaining permission\n",
      "       from a faculty member of the GroupLens Research Project at the\n",
      "       University of Minnesota.\n",
      "\n",
      "If you have any further questions or comments, please contact GroupLens\n",
      "<grouplens-info@cs.umn.edu>. \n",
      "\n",
      "CITATION\n",
      "==============================================\n",
      "\n",
      "To acknowledge use of the dataset in publications, please cite the \n",
      "following paper:\n",
      "\n",
      "F. Maxwell Harper and Joseph A. Konstan. 2015. The MovieLens Datasets:\n",
      "History and Context. ACM Transactions on Interactive Intelligent\n",
      "Systems (TiiS) 5, 4, Article 19 (December 2015), 19 pages.\n",
      "DOI=http://dx.doi.org/10.1145/2827872\n",
      "\n",
      "\n",
      "ACKNOWLEDGEMENTS\n",
      "==============================================\n",
      "\n",
      "Thanks to Al Borchers for cleaning up this data and writing the\n",
      "accompanying scripts.\n",
      "\n",
      "PUBLISHED WORK THAT HAS USED THIS DATASET\n",
      "==============================================\n",
      "\n",
      "Herlocker, J., Konstan, J., Borchers, A., Riedl, J.. An Algorithmic\n",
      "Framework for Performing Collaborative Filtering. Proceedings of the\n",
      "1999 Conference on Research and Development in Information\n",
      "Retrieval. Aug. 1999.\n",
      "\n",
      "FURTHER INFORMATION ABOUT THE GROUPLENS RESEARCH PROJECT\n",
      "==============================================\n",
      "\n",
      "The GroupLens Research Project is a research group in the Department\n",
      "of Computer Science and Engineering at the University of Minnesota.\n",
      "Members of the GroupLens Research Project are involved in many\n",
      "research projects related to the fields of information filtering,\n",
      "collaborative filtering, and recommender systems. The project is lead\n",
      "by professors John Riedl and Joseph Konstan. The project began to\n",
      "explore automated collaborative filtering in 1992, but is most well\n",
      "known for its world wide trial of an automated collaborative filtering\n",
      "system for Usenet news in 1996.  The technology developed in the\n",
      "Usenet trial formed the base for the formation of Net Perceptions,\n",
      "Inc., which was founded by members of GroupLens Research. Since then\n",
      "the project has expanded its scope to research overall information\n",
      "filtering solutions, integrating in content-based methods as well as\n",
      "improving current collaborative filtering technology.\n",
      "\n",
      "Further information on the GroupLens Research project, including\n",
      "research publications, can be found at the following web site:\n",
      "        \n",
      "        http://www.grouplens.org/\n",
      "\n",
      "GroupLens Research currently operates a movie recommender based on\n",
      "collaborative filtering:\n",
      "\n",
      "        http://www.movielens.org/\n",
      "\n",
      "DETAILED DESCRIPTIONS OF DATA FILES\n",
      "==============================================\n",
      "\n",
      "Here are brief descriptions of the data.\n",
      "\n",
      "ml-data.tar.gz   -- Compressed tar file.  To rebuild the u data files do this:\n",
      "                gunzip ml-data.tar.gz\n",
      "                tar xvf ml-data.tar\n",
      "                mku.sh\n",
      "\n",
      "u.data     -- The full u data set, 100000 ratings by 943 users on 1682 items.\n",
      "              Each user has rated at least 20 movies.  Users and items are\n",
      "              numbered consecutively from 1.  The data is randomly\n",
      "              ordered. This is a tab separated list of \n",
      "\t         user id | item id | rating | timestamp. \n",
      "              The time stamps are unix seconds since 1/1/1970 UTC   \n",
      "\n",
      "u.info     -- The number of users, items, and ratings in the u data set.\n",
      "\n",
      "u.item     -- Information about the items (movies); this is a tab separated\n",
      "              list of\n",
      "              movie id | movie title | release date | video release date |\n",
      "              IMDb URL | unknown | Action | Adventure | Animation |\n",
      "              Children's | Comedy | Crime | Documentary | Drama | Fantasy |\n",
      "              Film-Noir | Horror | Musical | Mystery | Romance | Sci-Fi |\n",
      "              Thriller | War | Western |\n",
      "              The last 19 fields are the genres, a 1 indicates the movie\n",
      "              is of that genre, a 0 indicates it is not; movies can be in\n",
      "              several genres at once.\n",
      "              The movie ids are the ones used in the u.data data set.\n",
      "\n",
      "u.genre    -- A list of the genres.\n",
      "\n",
      "u.user     -- Demographic information about the users; this is a tab\n",
      "              separated list of\n",
      "              user id | age | gender | occupation | zip code\n",
      "              The user ids are the ones used in the u.data data set.\n",
      "\n",
      "u.occupation -- A list of the occupations.\n",
      "\n",
      "u1.base    -- The data sets u1.base and u1.test through u5.base and u5.test\n",
      "u1.test       are 80%/20% splits of the u data into training and test data.\n",
      "u2.base       Each of u1, ..., u5 have disjoint test sets; this if for\n",
      "u2.test       5 fold cross validation (where you repeat your experiment\n",
      "u3.base       with each training and test set and average the results).\n",
      "u3.test       These data sets can be generated from u.data by mku.sh.\n",
      "u4.base\n",
      "u4.test\n",
      "u5.base\n",
      "u5.test\n",
      "\n",
      "ua.base    -- The data sets ua.base, ua.test, ub.base, and ub.test\n",
      "ua.test       split the u data into a training set and a test set with\n",
      "ub.base       exactly 10 ratings per user in the test set.  The sets\n",
      "ub.test       ua.test and ub.test are disjoint.  These data sets can\n",
      "              be generated from u.data by mku.sh.\n",
      "\n",
      "allbut.pl  -- The script that generates training and test sets where\n",
      "              all but n of a users ratings are in the training data.\n",
      "\n",
      "mku.sh     -- A shell script to generate all the u data sets from u.data.\n",
      "\n"
     ]
    }
   ],
   "source": [
    "with open('./ml-100k/README', 'r') as f:\n",
    "    print(f.read())"
   ]
  },
  {
   "cell_type": "code",
   "execution_count": 3,
   "metadata": {
    "ExecuteTime": {
     "end_time": "2020-03-03T09:26:37.518800Z",
     "start_time": "2020-03-03T09:26:37.218250Z"
    }
   },
   "outputs": [],
   "source": [
    "df = pd.read_csv('./ml-100k/u.data', \n",
    "                 header=None, \n",
    "                 sep='\\t', \n",
    "                 names=['user_id', 'item_id', 'rating', 'timestamp'])\n",
    "df['date'] = pd.to_datetime(df['timestamp'], unit='s')\n",
    "\n"
   ]
  },
  {
   "cell_type": "code",
   "execution_count": 4,
   "metadata": {
    "ExecuteTime": {
     "end_time": "2020-03-03T09:26:37.560716Z",
     "start_time": "2020-03-03T09:26:37.528882Z"
    }
   },
   "outputs": [
    {
     "data": {
      "text/html": [
       "<div>\n",
       "<style scoped>\n",
       "    .dataframe tbody tr th:only-of-type {\n",
       "        vertical-align: middle;\n",
       "    }\n",
       "\n",
       "    .dataframe tbody tr th {\n",
       "        vertical-align: top;\n",
       "    }\n",
       "\n",
       "    .dataframe thead th {\n",
       "        text-align: right;\n",
       "    }\n",
       "</style>\n",
       "<table border=\"1\" class=\"dataframe\">\n",
       "  <thead>\n",
       "    <tr style=\"text-align: right;\">\n",
       "      <th></th>\n",
       "      <th>user_id</th>\n",
       "      <th>item_id</th>\n",
       "      <th>rating</th>\n",
       "      <th>timestamp</th>\n",
       "      <th>date</th>\n",
       "    </tr>\n",
       "  </thead>\n",
       "  <tbody>\n",
       "    <tr>\n",
       "      <th>0</th>\n",
       "      <td>196</td>\n",
       "      <td>242</td>\n",
       "      <td>3</td>\n",
       "      <td>881250949</td>\n",
       "      <td>1997-12-04 15:55:49</td>\n",
       "    </tr>\n",
       "    <tr>\n",
       "      <th>1</th>\n",
       "      <td>186</td>\n",
       "      <td>302</td>\n",
       "      <td>3</td>\n",
       "      <td>891717742</td>\n",
       "      <td>1998-04-04 19:22:22</td>\n",
       "    </tr>\n",
       "    <tr>\n",
       "      <th>2</th>\n",
       "      <td>22</td>\n",
       "      <td>377</td>\n",
       "      <td>1</td>\n",
       "      <td>878887116</td>\n",
       "      <td>1997-11-07 07:18:36</td>\n",
       "    </tr>\n",
       "    <tr>\n",
       "      <th>3</th>\n",
       "      <td>244</td>\n",
       "      <td>51</td>\n",
       "      <td>2</td>\n",
       "      <td>880606923</td>\n",
       "      <td>1997-11-27 05:02:03</td>\n",
       "    </tr>\n",
       "    <tr>\n",
       "      <th>4</th>\n",
       "      <td>166</td>\n",
       "      <td>346</td>\n",
       "      <td>1</td>\n",
       "      <td>886397596</td>\n",
       "      <td>1998-02-02 05:33:16</td>\n",
       "    </tr>\n",
       "  </tbody>\n",
       "</table>\n",
       "</div>"
      ],
      "text/plain": [
       "   user_id  item_id  rating  timestamp                date\n",
       "0      196      242       3  881250949 1997-12-04 15:55:49\n",
       "1      186      302       3  891717742 1998-04-04 19:22:22\n",
       "2       22      377       1  878887116 1997-11-07 07:18:36\n",
       "3      244       51       2  880606923 1997-11-27 05:02:03\n",
       "4      166      346       1  886397596 1998-02-02 05:33:16"
      ]
     },
     "execution_count": 4,
     "metadata": {},
     "output_type": "execute_result"
    }
   ],
   "source": [
    "df.head()"
   ]
  },
  {
   "cell_type": "code",
   "execution_count": 5,
   "metadata": {
    "ExecuteTime": {
     "end_time": "2020-03-03T09:26:37.584907Z",
     "start_time": "2020-03-03T09:26:37.568100Z"
    }
   },
   "outputs": [
    {
     "data": {
      "text/plain": [
       "(1, 1)"
      ]
     },
     "execution_count": 5,
     "metadata": {},
     "output_type": "execute_result"
    }
   ],
   "source": [
    "df.user_id.min(), df.item_id.min()"
   ]
  },
  {
   "cell_type": "markdown",
   "metadata": {},
   "source": [
    "To work better with python indices, we adjust the id labels so that they start at 0."
   ]
  },
  {
   "cell_type": "code",
   "execution_count": 6,
   "metadata": {
    "ExecuteTime": {
     "end_time": "2020-03-03T09:26:37.646170Z",
     "start_time": "2020-03-03T09:26:37.591414Z"
    }
   },
   "outputs": [],
   "source": [
    "df['user_id'] = df['user_id'] - 1\n",
    "df['item_id'] = df['item_id'] - 1"
   ]
  },
  {
   "cell_type": "code",
   "execution_count": 7,
   "metadata": {
    "ExecuteTime": {
     "end_time": "2020-03-03T09:26:37.666011Z",
     "start_time": "2020-03-03T09:26:37.650164Z"
    }
   },
   "outputs": [
    {
     "data": {
      "text/plain": [
       "(0, 0)"
      ]
     },
     "execution_count": 7,
     "metadata": {},
     "output_type": "execute_result"
    }
   ],
   "source": [
    "# now check:\n",
    "df.user_id.min(), df.item_id.min()"
   ]
  },
  {
   "cell_type": "markdown",
   "metadata": {},
   "source": [
    "#### Create two columns containing date and year of the given  rating "
   ]
  },
  {
   "cell_type": "code",
   "execution_count": 8,
   "metadata": {
    "ExecuteTime": {
     "end_time": "2020-03-03T09:26:44.571210Z",
     "start_time": "2020-03-03T09:26:37.676089Z"
    }
   },
   "outputs": [
    {
     "data": {
      "text/html": [
       "<div>\n",
       "<style scoped>\n",
       "    .dataframe tbody tr th:only-of-type {\n",
       "        vertical-align: middle;\n",
       "    }\n",
       "\n",
       "    .dataframe tbody tr th {\n",
       "        vertical-align: top;\n",
       "    }\n",
       "\n",
       "    .dataframe thead th {\n",
       "        text-align: right;\n",
       "    }\n",
       "</style>\n",
       "<table border=\"1\" class=\"dataframe\">\n",
       "  <thead>\n",
       "    <tr style=\"text-align: right;\">\n",
       "      <th></th>\n",
       "      <th>user_id</th>\n",
       "      <th>item_id</th>\n",
       "      <th>rating</th>\n",
       "      <th>timestamp</th>\n",
       "      <th>date</th>\n",
       "      <th>year</th>\n",
       "      <th>date_just</th>\n",
       "    </tr>\n",
       "  </thead>\n",
       "  <tbody>\n",
       "    <tr>\n",
       "      <th>0</th>\n",
       "      <td>195</td>\n",
       "      <td>241</td>\n",
       "      <td>3</td>\n",
       "      <td>881250949</td>\n",
       "      <td>1997-12-04 15:55:49</td>\n",
       "      <td>1997</td>\n",
       "      <td>1997-12-04</td>\n",
       "    </tr>\n",
       "    <tr>\n",
       "      <th>1</th>\n",
       "      <td>185</td>\n",
       "      <td>301</td>\n",
       "      <td>3</td>\n",
       "      <td>891717742</td>\n",
       "      <td>1998-04-04 19:22:22</td>\n",
       "      <td>1998</td>\n",
       "      <td>1998-04-04</td>\n",
       "    </tr>\n",
       "    <tr>\n",
       "      <th>2</th>\n",
       "      <td>21</td>\n",
       "      <td>376</td>\n",
       "      <td>1</td>\n",
       "      <td>878887116</td>\n",
       "      <td>1997-11-07 07:18:36</td>\n",
       "      <td>1997</td>\n",
       "      <td>1997-11-07</td>\n",
       "    </tr>\n",
       "    <tr>\n",
       "      <th>3</th>\n",
       "      <td>243</td>\n",
       "      <td>50</td>\n",
       "      <td>2</td>\n",
       "      <td>880606923</td>\n",
       "      <td>1997-11-27 05:02:03</td>\n",
       "      <td>1997</td>\n",
       "      <td>1997-11-27</td>\n",
       "    </tr>\n",
       "    <tr>\n",
       "      <th>4</th>\n",
       "      <td>165</td>\n",
       "      <td>345</td>\n",
       "      <td>1</td>\n",
       "      <td>886397596</td>\n",
       "      <td>1998-02-02 05:33:16</td>\n",
       "      <td>1998</td>\n",
       "      <td>1998-02-02</td>\n",
       "    </tr>\n",
       "  </tbody>\n",
       "</table>\n",
       "</div>"
      ],
      "text/plain": [
       "   user_id  item_id  rating  timestamp                date  year  date_just\n",
       "0      195      241       3  881250949 1997-12-04 15:55:49  1997 1997-12-04\n",
       "1      185      301       3  891717742 1998-04-04 19:22:22  1998 1998-04-04\n",
       "2       21      376       1  878887116 1997-11-07 07:18:36  1997 1997-11-07\n",
       "3      243       50       2  880606923 1997-11-27 05:02:03  1997 1997-11-27\n",
       "4      165      345       1  886397596 1998-02-02 05:33:16  1998 1998-02-02"
      ]
     },
     "execution_count": 8,
     "metadata": {},
     "output_type": "execute_result"
    }
   ],
   "source": [
    "df['year'] = df.apply(lambda x: x['date'].year, axis=1)\n",
    "df['date_just'] = pd.to_datetime(df.apply(lambda x: x['date'].date(), axis=1), format='%Y-%m-%d')\n",
    "df.head()"
   ]
  },
  {
   "cell_type": "markdown",
   "metadata": {},
   "source": [
    "#### Solution (double click)\n",
    "\n",
    "<span style=\"color:white;font-family:'Courier New'\"><br/>\n",
    "df['year'] = df.date.dt.year\n",
    "df['month'] = df.date.dt.month\n",
    "</span>"
   ]
  },
  {
   "cell_type": "markdown",
   "metadata": {},
   "source": [
    "#### Describe the rating data"
   ]
  },
  {
   "cell_type": "code",
   "execution_count": 9,
   "metadata": {
    "ExecuteTime": {
     "end_time": "2020-03-03T09:26:45.188077Z",
     "start_time": "2020-03-03T09:26:44.798324Z"
    }
   },
   "outputs": [
    {
     "data": {
      "text/html": [
       "<div>\n",
       "<style scoped>\n",
       "    .dataframe tbody tr th:only-of-type {\n",
       "        vertical-align: middle;\n",
       "    }\n",
       "\n",
       "    .dataframe tbody tr th {\n",
       "        vertical-align: top;\n",
       "    }\n",
       "\n",
       "    .dataframe thead th {\n",
       "        text-align: right;\n",
       "    }\n",
       "</style>\n",
       "<table border=\"1\" class=\"dataframe\">\n",
       "  <thead>\n",
       "    <tr style=\"text-align: right;\">\n",
       "      <th></th>\n",
       "      <th>user_id</th>\n",
       "      <th>item_id</th>\n",
       "      <th>rating</th>\n",
       "      <th>timestamp</th>\n",
       "      <th>year</th>\n",
       "    </tr>\n",
       "  </thead>\n",
       "  <tbody>\n",
       "    <tr>\n",
       "      <th>count</th>\n",
       "      <td>100000.00000</td>\n",
       "      <td>100000.000000</td>\n",
       "      <td>100000.000000</td>\n",
       "      <td>1.000000e+05</td>\n",
       "      <td>100000.000000</td>\n",
       "    </tr>\n",
       "    <tr>\n",
       "      <th>mean</th>\n",
       "      <td>461.48475</td>\n",
       "      <td>424.530130</td>\n",
       "      <td>3.529860</td>\n",
       "      <td>8.835289e+08</td>\n",
       "      <td>1997.471010</td>\n",
       "    </tr>\n",
       "    <tr>\n",
       "      <th>std</th>\n",
       "      <td>266.61442</td>\n",
       "      <td>330.798356</td>\n",
       "      <td>1.125674</td>\n",
       "      <td>5.343856e+06</td>\n",
       "      <td>0.499161</td>\n",
       "    </tr>\n",
       "    <tr>\n",
       "      <th>min</th>\n",
       "      <td>0.00000</td>\n",
       "      <td>0.000000</td>\n",
       "      <td>1.000000</td>\n",
       "      <td>8.747247e+08</td>\n",
       "      <td>1997.000000</td>\n",
       "    </tr>\n",
       "    <tr>\n",
       "      <th>25%</th>\n",
       "      <td>253.00000</td>\n",
       "      <td>174.000000</td>\n",
       "      <td>3.000000</td>\n",
       "      <td>8.794487e+08</td>\n",
       "      <td>1997.000000</td>\n",
       "    </tr>\n",
       "    <tr>\n",
       "      <th>50%</th>\n",
       "      <td>446.00000</td>\n",
       "      <td>321.000000</td>\n",
       "      <td>4.000000</td>\n",
       "      <td>8.828269e+08</td>\n",
       "      <td>1997.000000</td>\n",
       "    </tr>\n",
       "    <tr>\n",
       "      <th>75%</th>\n",
       "      <td>681.00000</td>\n",
       "      <td>630.000000</td>\n",
       "      <td>4.000000</td>\n",
       "      <td>8.882600e+08</td>\n",
       "      <td>1998.000000</td>\n",
       "    </tr>\n",
       "    <tr>\n",
       "      <th>max</th>\n",
       "      <td>942.00000</td>\n",
       "      <td>1681.000000</td>\n",
       "      <td>5.000000</td>\n",
       "      <td>8.932866e+08</td>\n",
       "      <td>1998.000000</td>\n",
       "    </tr>\n",
       "  </tbody>\n",
       "</table>\n",
       "</div>"
      ],
      "text/plain": [
       "            user_id        item_id         rating     timestamp           year\n",
       "count  100000.00000  100000.000000  100000.000000  1.000000e+05  100000.000000\n",
       "mean      461.48475     424.530130       3.529860  8.835289e+08    1997.471010\n",
       "std       266.61442     330.798356       1.125674  5.343856e+06       0.499161\n",
       "min         0.00000       0.000000       1.000000  8.747247e+08    1997.000000\n",
       "25%       253.00000     174.000000       3.000000  8.794487e+08    1997.000000\n",
       "50%       446.00000     321.000000       4.000000  8.828269e+08    1997.000000\n",
       "75%       681.00000     630.000000       4.000000  8.882600e+08    1998.000000\n",
       "max       942.00000    1681.000000       5.000000  8.932866e+08    1998.000000"
      ]
     },
     "execution_count": 9,
     "metadata": {},
     "output_type": "execute_result"
    }
   ],
   "source": [
    "df.describe()"
   ]
  },
  {
   "cell_type": "code",
   "execution_count": 10,
   "metadata": {
    "ExecuteTime": {
     "end_time": "2020-03-03T09:26:45.907141Z",
     "start_time": "2020-03-03T09:26:45.198415Z"
    }
   },
   "outputs": [
    {
     "data": {
      "image/png": "[encoded data removed]",
      "text/plain": [
       "<Figure size 432x288 with 1 Axes>"
      ]
     },
     "metadata": {
      "image/png": {
       "height": 259,
       "width": 407
      },
      "needs_background": "light"
     },
     "output_type": "display_data"
    }
   ],
   "source": [
    "df.rating.hist();"
   ]
  },
  {
   "cell_type": "markdown",
   "metadata": {},
   "source": [
    "#### Solution (double click)\n",
    "\n",
    "<span style=\"color:white;font-family:'Courier New'\"><br/>\n",
    "df.describe()\n",
    "</span>"
   ]
  },
  {
   "cell_type": "markdown",
   "metadata": {},
   "source": [
    "#### How many ratings have been given in each month and year?"
   ]
  },
  {
   "cell_type": "code",
   "execution_count": 11,
   "metadata": {
    "ExecuteTime": {
     "end_time": "2020-03-03T09:26:46.180759Z",
     "start_time": "2020-03-03T09:26:45.915836Z"
    }
   },
   "outputs": [
    {
     "data": {
      "text/html": [
       "<div>\n",
       "<style scoped>\n",
       "    .dataframe tbody tr th:only-of-type {\n",
       "        vertical-align: middle;\n",
       "    }\n",
       "\n",
       "    .dataframe tbody tr th {\n",
       "        vertical-align: top;\n",
       "    }\n",
       "\n",
       "    .dataframe thead th {\n",
       "        text-align: right;\n",
       "    }\n",
       "</style>\n",
       "<table border=\"1\" class=\"dataframe\">\n",
       "  <thead>\n",
       "    <tr style=\"text-align: right;\">\n",
       "      <th></th>\n",
       "      <th>rating</th>\n",
       "    </tr>\n",
       "    <tr>\n",
       "      <th>date_just</th>\n",
       "      <th></th>\n",
       "    </tr>\n",
       "  </thead>\n",
       "  <tbody>\n",
       "    <tr>\n",
       "      <th>1997-09</th>\n",
       "      <td>6704</td>\n",
       "    </tr>\n",
       "    <tr>\n",
       "      <th>1997-10</th>\n",
       "      <td>10304</td>\n",
       "    </tr>\n",
       "    <tr>\n",
       "      <th>1997-11</th>\n",
       "      <td>23980</td>\n",
       "    </tr>\n",
       "    <tr>\n",
       "      <th>1997-12</th>\n",
       "      <td>11911</td>\n",
       "    </tr>\n",
       "    <tr>\n",
       "      <th>1998-01</th>\n",
       "      <td>14095</td>\n",
       "    </tr>\n",
       "    <tr>\n",
       "      <th>1998-02</th>\n",
       "      <td>10991</td>\n",
       "    </tr>\n",
       "    <tr>\n",
       "      <th>1998-03</th>\n",
       "      <td>12656</td>\n",
       "    </tr>\n",
       "    <tr>\n",
       "      <th>1998-04</th>\n",
       "      <td>9359</td>\n",
       "    </tr>\n",
       "  </tbody>\n",
       "</table>\n",
       "</div>"
      ],
      "text/plain": [
       "           rating\n",
       "date_just        \n",
       "1997-09      6704\n",
       "1997-10     10304\n",
       "1997-11     23980\n",
       "1997-12     11911\n",
       "1998-01     14095\n",
       "1998-02     10991\n",
       "1998-03     12656\n",
       "1998-04      9359"
      ]
     },
     "execution_count": 11,
     "metadata": {},
     "output_type": "execute_result"
    }
   ],
   "source": [
    "df.groupby(df.date_just.dt.to_period('M')).agg({'rating':'count'})"
   ]
  },
  {
   "cell_type": "markdown",
   "metadata": {},
   "source": [
    "#### Solution (double click)\n",
    "\n",
    "<span style=\"color:white;font-family:'Courier New'\"><br/>\n",
    "df.groupby(['year', 'month'], sort=True)[['date']].count().plot(kind='barh')\n",
    "plt.show()\n",
    "</span>"
   ]
  },
  {
   "cell_type": "markdown",
   "metadata": {},
   "source": [
    "#### How many different films have been rated by how many different users?"
   ]
  },
  {
   "cell_type": "code",
   "execution_count": 12,
   "metadata": {
    "ExecuteTime": {
     "end_time": "2020-03-03T09:26:46.249305Z",
     "start_time": "2020-03-03T09:26:46.231681Z"
    }
   },
   "outputs": [
    {
     "name": "stdout",
     "output_type": "stream",
     "text": [
      "943\n",
      "1682\n"
     ]
    }
   ],
   "source": [
    "print(df.user_id.nunique())\n",
    "print(df.item_id.nunique())"
   ]
  },
  {
   "cell_type": "markdown",
   "metadata": {},
   "source": [
    "#### Solution (double click)\n",
    "\n",
    "<span style=\"color:white;font-family:'Courier New'\"><br/>\n",
    "print(df.user_id.unique().shape)\n",
    "print(df.item_id.unique().shape)\n",
    "</span>"
   ]
  },
  {
   "cell_type": "markdown",
   "metadata": {},
   "source": [
    "#### Which rating scale has been used? How many times has each rating been given?"
   ]
  },
  {
   "cell_type": "code",
   "execution_count": 13,
   "metadata": {
    "ExecuteTime": {
     "end_time": "2020-03-03T09:26:46.284254Z",
     "start_time": "2020-03-03T09:26:46.257644Z"
    }
   },
   "outputs": [
    {
     "data": {
      "text/plain": [
       "4    34174\n",
       "3    27145\n",
       "5    21201\n",
       "2    11370\n",
       "1     6110\n",
       "Name: rating, dtype: int64"
      ]
     },
     "execution_count": 13,
     "metadata": {},
     "output_type": "execute_result"
    }
   ],
   "source": [
    "df.rating.value_counts()"
   ]
  },
  {
   "cell_type": "markdown",
   "metadata": {},
   "source": [
    "#### Solution (double click)\n",
    "\n",
    "<span style=\"color:white;font-family:'Courier New'\"><br/>\n",
    "print(np.sort(df.rating.unique()))\n",
    "df.rating.value_counts(sort=False, normalize=True).plot(kind='bar')\n",
    "plt.xticks(rotation=0)\n",
    "plt.xlabel('rating')\n",
    "plt.show()\n",
    "</span>"
   ]
  },
  {
   "cell_type": "markdown",
   "metadata": {},
   "source": [
    "#### How many ratings were given by each user?\n",
    "\n",
    "- Determine the user with the highest number of ratings.\n",
    "- Plot a histogram with the rating count per user distribution."
   ]
  },
  {
   "cell_type": "code",
   "execution_count": 14,
   "metadata": {
    "ExecuteTime": {
     "end_time": "2020-03-03T09:26:46.345152Z",
     "start_time": "2020-03-03T09:26:46.291105Z"
    }
   },
   "outputs": [
    {
     "data": {
      "text/html": [
       "<div>\n",
       "<style scoped>\n",
       "    .dataframe tbody tr th:only-of-type {\n",
       "        vertical-align: middle;\n",
       "    }\n",
       "\n",
       "    .dataframe tbody tr th {\n",
       "        vertical-align: top;\n",
       "    }\n",
       "\n",
       "    .dataframe thead th {\n",
       "        text-align: right;\n",
       "    }\n",
       "</style>\n",
       "<table border=\"1\" class=\"dataframe\">\n",
       "  <thead>\n",
       "    <tr style=\"text-align: right;\">\n",
       "      <th></th>\n",
       "      <th>rating</th>\n",
       "    </tr>\n",
       "    <tr>\n",
       "      <th>user_id</th>\n",
       "      <th></th>\n",
       "    </tr>\n",
       "  </thead>\n",
       "  <tbody>\n",
       "    <tr>\n",
       "      <th>404</th>\n",
       "      <td>737</td>\n",
       "    </tr>\n",
       "  </tbody>\n",
       "</table>\n",
       "</div>"
      ],
      "text/plain": [
       "         rating\n",
       "user_id        \n",
       "404         737"
      ]
     },
     "execution_count": 14,
     "metadata": {},
     "output_type": "execute_result"
    }
   ],
   "source": [
    "df.groupby('user_id').agg({'rating':'count'}).sort_values('rating',ascending=False).head(1)"
   ]
  },
  {
   "cell_type": "code",
   "execution_count": 15,
   "metadata": {
    "ExecuteTime": {
     "end_time": "2020-03-03T09:26:46.999861Z",
     "start_time": "2020-03-03T09:26:46.372209Z"
    }
   },
   "outputs": [
    {
     "data": {
      "image/png": "[encoded data removed]",
      "text/plain": [
       "<Figure size 432x288 with 1 Axes>"
      ]
     },
     "metadata": {
      "image/png": {
       "height": 275,
       "width": 389
      },
      "needs_background": "light"
     },
     "output_type": "display_data"
    }
   ],
   "source": [
    "df.groupby('user_id').agg({'rating':'count'}).hist(bins=20);"
   ]
  },
  {
   "cell_type": "markdown",
   "metadata": {},
   "source": [
    "#### Solution (double click)\n",
    "\n",
    "<span style=\"color:white;font-family:'Courier New'\"><br/>\n",
    "print(df.groupby('user_id')['rating'].count().argmax())\n",
    "print(df.groupby('user_id')['rating'].count().max())\n",
    "df.groupby('user_id')['rating'].count().hist()\n",
    "plt.yscale('log')\n",
    "plt.show()\n",
    "</span>"
   ]
  },
  {
   "cell_type": "markdown",
   "metadata": {},
   "source": [
    "#### How many ratings were received by each film?\n",
    "\n",
    "- Determine the film with the highest number of ratings.\n",
    "- Plot a histogram with the rating count per film distribution."
   ]
  },
  {
   "cell_type": "code",
   "execution_count": 16,
   "metadata": {
    "ExecuteTime": {
     "end_time": "2020-03-03T09:26:47.066228Z",
     "start_time": "2020-03-03T09:26:47.038657Z"
    }
   },
   "outputs": [
    {
     "data": {
      "text/html": [
       "<div>\n",
       "<style scoped>\n",
       "    .dataframe tbody tr th:only-of-type {\n",
       "        vertical-align: middle;\n",
       "    }\n",
       "\n",
       "    .dataframe tbody tr th {\n",
       "        vertical-align: top;\n",
       "    }\n",
       "\n",
       "    .dataframe thead th {\n",
       "        text-align: right;\n",
       "    }\n",
       "</style>\n",
       "<table border=\"1\" class=\"dataframe\">\n",
       "  <thead>\n",
       "    <tr style=\"text-align: right;\">\n",
       "      <th></th>\n",
       "      <th>rating</th>\n",
       "    </tr>\n",
       "    <tr>\n",
       "      <th>item_id</th>\n",
       "      <th></th>\n",
       "    </tr>\n",
       "  </thead>\n",
       "  <tbody>\n",
       "    <tr>\n",
       "      <th>49</th>\n",
       "      <td>583</td>\n",
       "    </tr>\n",
       "    <tr>\n",
       "      <th>257</th>\n",
       "      <td>509</td>\n",
       "    </tr>\n",
       "    <tr>\n",
       "      <th>99</th>\n",
       "      <td>508</td>\n",
       "    </tr>\n",
       "    <tr>\n",
       "      <th>180</th>\n",
       "      <td>507</td>\n",
       "    </tr>\n",
       "    <tr>\n",
       "      <th>293</th>\n",
       "      <td>485</td>\n",
       "    </tr>\n",
       "  </tbody>\n",
       "</table>\n",
       "</div>"
      ],
      "text/plain": [
       "         rating\n",
       "item_id        \n",
       "49          583\n",
       "257         509\n",
       "99          508\n",
       "180         507\n",
       "293         485"
      ]
     },
     "execution_count": 16,
     "metadata": {},
     "output_type": "execute_result"
    }
   ],
   "source": [
    "df.groupby('item_id').agg({'rating':'count'}).sort_values('rating',ascending=False).head()"
   ]
  },
  {
   "cell_type": "code",
   "execution_count": 17,
   "metadata": {
    "ExecuteTime": {
     "end_time": "2020-03-03T09:26:48.741682Z",
     "start_time": "2020-03-03T09:26:47.078031Z"
    }
   },
   "outputs": [
    {
     "data": {
      "image/png": "[encoded data removed]",
      "text/plain": [
       "<Figure size 432x288 with 1 Axes>"
      ]
     },
     "metadata": {
      "image/png": {
       "height": 275,
       "width": 391
      },
      "needs_background": "light"
     },
     "output_type": "display_data"
    }
   ],
   "source": [
    "df.groupby('item_id').agg({'rating':'count'}).hist(bins=20)\n",
    "plt.yscale('log');"
   ]
  },
  {
   "cell_type": "markdown",
   "metadata": {},
   "source": [
    "#### Solution (double click)\n",
    "\n",
    "<span style=\"color:white;font-family:'Courier New'\"><br/>\n",
    "print(df.groupby('item_id')['rating'].count().argmax())\n",
    "print(df.groupby('item_id')['rating'].count().max())\n",
    "df.groupby('item_id')['rating'].count().hist()\n",
    "plt.yscale('log')\n",
    "plt.show()\n",
    "</span>"
   ]
  },
  {
   "cell_type": "markdown",
   "metadata": {},
   "source": [
    "## Evaluation"
   ]
  },
  {
   "cell_type": "markdown",
   "metadata": {},
   "source": [
    "### MAE and MSE\n",
    "\n",
    "We can compare all existing ratings to our prediction for example using the root mean squared error (RMSE) or the mean absolute error (MAE):\n",
    "\n",
    "    \n",
    "$$\n",
    "\\begin{eqnarray*}\n",
    "{\\rm MAE} &=& \\frac{1}{|R|}\\sum_{(u,i)\\in R}|r_{ui}-{\\hat r}_{ui}|\\\\\n",
    "{\\rm RMSE} &=& \\left(\\frac{1}{|R|}\\sum_{(u,i)\\in R}(r_{ui}-{\\hat r}_{ui})^2\\right)^{1/2}\n",
    "\\end{eqnarray*}\n",
    "$$\n",
    "\n",
    "Here, $R$ stands for the set of all user-item pairs. $|\\cdot|$ indicates the cardinality of the set (here the number of user-item pairs)."
   ]
  },
  {
   "cell_type": "markdown",
   "metadata": {},
   "source": [
    "### Correlations\n",
    "\n",
    "Alternatively one can use correlations between true and predicted values for model evaluation, e.g.\n",
    "\n",
    "- the Pearson correlation\n",
    "- the Spearman rank correlation\n",
    "- Kendall's tau\n",
    "\n",
    "You can call these three for example with panda's `.corr()` function by setting the `method` argument.\n",
    "    \n",
    "The above scores are alright to obtain a model assessment if we have explicit ratings, but in the case of implicit ratings we might only be able to rank the items. In general, we would like to recommend the top-ranked items, but we have to evaluate if the top-ranked ones are really the ones relevant to the user, or if for some irrelevant items we predicted higher ratings.\n",
    "In that regard, we can use the usual classification metrics."
   ]
  },
  {
   "cell_type": "markdown",
   "metadata": {},
   "source": [
    "### Precision@k and recall@k\n",
    "\n",
    "Often users will not really care about all the rating predictions we are making, but instead they will have a major interest only in a few top-ranked items, let's say the $k$ top-ranked items. So it is appropriate to take only these $k$ ratings into account. We then ask how many of these $k$ items are relevant to the user. The relevance is in general difficult to measure, but we can for example ask how many out of the $k$ top-ranked items have a score beyond a certain threshold.\n",
    "\n",
    "We can then define the so-called precision@k and recall@k for $k$ recommended items:\n",
    "\n",
    "$$\n",
    "\\begin{eqnarray*}\n",
    "{\\rm precision@k} &=& \\frac{\\rm  Recommended\\ items\\ that\\ are\\ relevant}{\\rm Recommended\\ items}\\\\\n",
    "\\\\\n",
    "{\\rm recall@k} &=& \n",
    "\\frac{\\rm  Recommended\\ items\\ that\\ are\\ relevant}{\\rm Relevant\\ items}\n",
    "\\end{eqnarray*}\n",
    "$$\n",
    "\n",
    "Out of these scores we can define an F1@k score in the usual way."
   ]
  },
  {
   "cell_type": "markdown",
   "metadata": {},
   "source": [
    "We can calculate a precision@k at a global level, for each k-level.\n",
    "e.g. Precision at k across all users... some will have low recall at that k if there are many relevant items for them, ie. they've rated many items well, but will have have higher precision given higher numerator.\n",
    "This makes it more lenient as throws away any mistakes on non-relevant items, and also more lenient on actual rating prediction as we only care about recommended or not"
   ]
  },
  {
   "cell_type": "markdown",
   "metadata": {},
   "source": [
    "## Baseline prediction\n",
    "\n",
    "As we are predicting ratings $\\hat{r}_{ui}$ of user $u$ on item $i$, the baseline should be the mean of all ratings, $\\mu$.\n",
    "\n",
    "As we will always be considering a specific user or a specific item, we can determine how much each user's or item's ratings are above the average. \n",
    "\n",
    "Therefore we add a bias term $b_u$ for each user and $b_i$ for each item, so that our baseline is\n",
    "\n",
    "$$\n",
    "{\\rm baseline}_{ui} = \\mu + b_u + b_i\n",
    "$$"
   ]
  },
  {
   "cell_type": "markdown",
   "metadata": {},
   "source": [
    "#### Example\n",
    "\n",
    "Let's say for example that the average rating is $\\mu=3.52$. Our user is very enthusiastic and on average evaluates items better than the average user by $b_u=0.3$. The item is very popular receiving above average ratings with $b_i=0.5$. So we would have a baseline prediction of $4.32$.\n",
    "\n",
    "We will look at various models which make more accurate predictions based on either similarity or content."
   ]
  },
  {
   "cell_type": "markdown",
   "metadata": {},
   "source": [
    "#### Determine the baseline estimate for each user-item pair"
   ]
  },
  {
   "cell_type": "code",
   "execution_count": 18,
   "metadata": {
    "ExecuteTime": {
     "end_time": "2020-03-03T09:26:48.974804Z",
     "start_time": "2020-03-03T09:26:48.843654Z"
    },
    "scrolled": true
   },
   "outputs": [
    {
     "name": "stdout",
     "output_type": "stream",
     "text": [
      "3.52986\n",
      "           rating\n",
      "user_id          \n",
      "0        0.080434\n",
      "1        0.179817\n",
      "2       -0.733564\n",
      "3        0.803473\n",
      "4       -0.655574\n",
      "           rating\n",
      "item_id          \n",
      "0        0.348459\n",
      "1       -0.323753\n",
      "2       -0.496527\n",
      "3        0.020379\n",
      "4       -0.227534\n",
      "[[3.9587527  3.28654099 3.11376745 ... 2.08043412 3.08043412 3.08043412]\n",
      " [4.058136   3.38592429 3.21315075 ... 2.17981742 3.17981742 3.17981742]\n",
      " [3.14475488 2.47254317 2.29976963 ... 1.2664363  2.2664363  2.2664363 ]\n",
      " ...\n",
      " [4.39391313 3.72170142 3.54892788 ... 2.51559455 3.51559455 3.51559455]\n",
      " [4.61428137 3.94206966 3.76929612 ... 2.73596278 3.73596278 3.73596278]\n",
      " [3.75917287 3.08696116 2.91418762 ... 1.88085429 2.88085429 2.88085429]]\n"
     ]
    }
   ],
   "source": [
    "mu = df.rating.mean()\n",
    "print(mu)\n",
    "bu = df.groupby('user_id')[['rating']].mean() - mu\n",
    "print(bu.head())\n",
    "bi = df.groupby('item_id')[['rating']].mean() - mu\n",
    "print(bi.head())\n",
    "\n",
    "# Broadcasting rules of numpy to simplify our lives... instead of having to loop through all user, item \n",
    "# combinations in df and appending the correct bu and bi mix, you could reshape so that one is in rows, and \n",
    "# the other is transposed to columns (both made into matrices) so you can then sum to give the same result\n",
    "\n",
    "# The -1 in reshape: means as many rows or cols as there are items. The 1 is 1\n",
    "\n",
    "baseline = mu + bu.values.reshape(-1, 1) + bi.values.reshape(1, -1)\n",
    "print(baseline)"
   ]
  },
  {
   "cell_type": "markdown",
   "metadata": {},
   "source": [
    "#### Solution (double click)\n",
    "\n",
    "<span style=\"color:white;font-family:'Courier New'\"><br/>\n",
    "mu = df.rating.mean()\n",
    "print(mu)\n",
    "bu = df.groupby('user_id')[['rating']].mean() - mu\n",
    "print(bu.head())\n",
    "bi = df.groupby('item_id')[['rating']].mean() - mu\n",
    "print(bi.head())\n",
    "baseline = mu + bu.values.reshape(-1, 1) + bi.values.reshape(1, -1)\n",
    "print(baseline)\n",
    "</span>"
   ]
  },
  {
   "cell_type": "markdown",
   "metadata": {},
   "source": [
    "#### Is there any problem with determining the baseline like this? \n",
    "\n",
    "- Check the range of the baseline ratings.\n",
    "- How would you adjust that?"
   ]
  },
  {
   "cell_type": "code",
   "execution_count": 19,
   "metadata": {
    "ExecuteTime": {
     "end_time": "2020-03-03T09:26:49.044222Z",
     "start_time": "2020-03-03T09:26:49.011297Z"
    }
   },
   "outputs": [
    {
     "name": "stdout",
     "output_type": "stream",
     "text": [
      "-1.0379059770114942\n",
      "6.339705217391304\n"
     ]
    }
   ],
   "source": [
    "print(baseline.min())\n",
    "print(baseline.max())"
   ]
  },
  {
   "cell_type": "code",
   "execution_count": 20,
   "metadata": {
    "ExecuteTime": {
     "end_time": "2020-03-03T09:26:49.068963Z",
     "start_time": "2020-03-03T09:26:49.052141Z"
    }
   },
   "outputs": [],
   "source": [
    "baseline[baseline>5] = 5\n",
    "baseline[baseline<1] = 1"
   ]
  },
  {
   "cell_type": "code",
   "execution_count": 21,
   "metadata": {
    "ExecuteTime": {
     "end_time": "2020-03-03T09:26:49.091403Z",
     "start_time": "2020-03-03T09:26:49.075184Z"
    }
   },
   "outputs": [
    {
     "name": "stdout",
     "output_type": "stream",
     "text": [
      "1.0\n",
      "5.0\n"
     ]
    }
   ],
   "source": [
    "print(baseline.min())\n",
    "print(baseline.max())"
   ]
  },
  {
   "cell_type": "markdown",
   "metadata": {},
   "source": [
    "#### Solution (double click)\n",
    "\n",
    "<span style=\"color:white;font-family:'Courier New'\"><br/>\n",
    "print(baseline.argmax(), baseline.max())\n",
    "print(baseline.min())\n",
    "print(int(baseline.argmax() / baseline.shape[1]))\n",
    "print(baseline.argmax() % baseline.shape[1])\n",
    "print(baseline[848, 813])\n",
    "baseline[baseline>5] = 5\n",
    "baseline[baseline<1] = 1\n",
    "print(baseline.max(), baseline.min())\n",
    "plt.hist(baseline.ravel())\n",
    "plt.show()\n",
    "</span>"
   ]
  },
  {
   "cell_type": "markdown",
   "metadata": {},
   "source": [
    "### User-item matrix\n",
    "\n",
    "We can construct the user-item matrix by reading all user-item-rating triples into a scipy-sparse matrix. Recall how that would work for any matrix. How would you apply this procedure to the given ratings?"
   ]
  },
  {
   "cell_type": "code",
   "execution_count": 22,
   "metadata": {
    "ExecuteTime": {
     "end_time": "2020-03-03T09:26:49.126237Z",
     "start_time": "2020-03-03T09:26:49.106486Z"
    }
   },
   "outputs": [],
   "source": [
    "from scipy import sparse"
   ]
  },
  {
   "cell_type": "code",
   "execution_count": 23,
   "metadata": {
    "ExecuteTime": {
     "end_time": "2020-03-03T09:26:49.258772Z",
     "start_time": "2020-03-03T09:26:49.190459Z"
    }
   },
   "outputs": [
    {
     "data": {
      "text/plain": [
       "<3x3 sparse matrix of type '<class 'numpy.int64'>'\n",
       "\twith 6 stored elements in Compressed Sparse Row format>"
      ]
     },
     "execution_count": 23,
     "metadata": {},
     "output_type": "execute_result"
    }
   ],
   "source": [
    "row = np.array([0, 2, 2, 0, 1, 2])\n",
    "col = np.array([0, 0, 1, 2, 2, 2])\n",
    "data = np.array([1, 2, 3, 4, 5, 6])\n",
    "A = sparse.csr_matrix((data, (row, col)), shape=(3, 3))\n",
    "A"
   ]
  },
  {
   "cell_type": "code",
   "execution_count": 24,
   "metadata": {
    "ExecuteTime": {
     "end_time": "2020-03-03T09:26:49.355087Z",
     "start_time": "2020-03-03T09:26:49.310160Z"
    }
   },
   "outputs": [
    {
     "data": {
      "text/plain": [
       "<943x1682 sparse matrix of type '<class 'numpy.int64'>'\n",
       "\twith 100000 stored elements in Compressed Sparse Row format>"
      ]
     },
     "execution_count": 24,
     "metadata": {},
     "output_type": "execute_result"
    }
   ],
   "source": [
    "df.user_id.unique().shape\n",
    "row = df.user_id\n",
    "col = df.item_id\n",
    "data = df.rating\n",
    "rui = sparse.csr_matrix((data, (row, col)),\n",
    "                        shape=(df.user_id.unique().shape[0], df.item_id.unique().shape[0]))\n",
    "rui"
   ]
  },
  {
   "cell_type": "markdown",
   "metadata": {},
   "source": [
    "#### Solution (double click)\n",
    "\n",
    "<span style=\"color:white;font-family:'Courier New'\"><br/>\n",
    "df.user_id.unique().shape\n",
    "row = df.user_id\n",
    "col = df.item_id\n",
    "data = df.rating\n",
    "rui = sparse.csr_matrix((data, (row, col)), shape=(df.user_id.unique().shape[0], df.item_id.unique().shape[0]))\n",
    "rui\n",
    "</span>"
   ]
  },
  {
   "cell_type": "markdown",
   "metadata": {},
   "source": [
    "#### Evaluate the baseline prediction against the true values\n",
    "\n",
    "Evaluate using \n",
    "- the MSE\n",
    "- the MAE\n",
    "- the Pearson correlation\n",
    "- the Spearman correlation"
   ]
  },
  {
   "cell_type": "code",
   "execution_count": 25,
   "metadata": {
    "ExecuteTime": {
     "end_time": "2020-03-03T09:26:49.552072Z",
     "start_time": "2020-03-03T09:26:49.362126Z"
    }
   },
   "outputs": [],
   "source": [
    "from scipy.stats import pearsonr, spearmanr\n",
    "from sklearn.metrics import mean_squared_error, mean_absolute_error"
   ]
  },
  {
   "cell_type": "code",
   "execution_count": 26,
   "metadata": {
    "ExecuteTime": {
     "end_time": "2020-03-03T09:26:49.817644Z",
     "start_time": "2020-03-03T09:26:49.565010Z"
    }
   },
   "outputs": [
    {
     "name": "stdout",
     "output_type": "stream",
     "text": [
      "MSE = 0.875646979607654\n",
      "MAE = 0.7341881407806082\n",
      "Pearson =  0.5625110986379915\n",
      "Spearman =  0.5422788716083453\n"
     ]
    }
   ],
   "source": [
    "rui_flat = rui.toarray().ravel() # you want to flatten (ravel) so you can filter on rui_flat>0, this is a np \n",
    "                                    # function so you want to .toarray() first.\n",
    "                                        # sparse.toarray() gives zeros in observations that weren't there.\n",
    "baseline_flat = baseline.ravel()\n",
    "residuals = rui_flat - baseline_flat\n",
    "\n",
    "print('MSE =',np.mean(np.square(residuals[rui_flat>0])))\n",
    "print('MAE =',np.mean(np.absolute(residuals[rui_flat>0])))\n",
    "print('Pearson = ', pearsonr(rui_flat[rui_flat>0], baseline_flat[rui_flat>0])[0])\n",
    "# interestingly you can filter baseline on rui_flat as rui_flat>0 gives a list of True/False, as long as they'e\n",
    "# same shape, you can filter!!!\n",
    "\n",
    "print('Spearman = ', spearmanr(rui_flat[rui_flat>0], baseline_flat[rui_flat>0])[0])\n",
    "\n",
    "# any model we create should therefore be better than these baseline scores"
   ]
  },
  {
   "cell_type": "markdown",
   "metadata": {},
   "source": [
    "#### Solution (double click)\n",
    "\n",
    "<span style=\"color:white;font-family:'Courier New'\"><br/>\n",
    "rui_flat = rui.toarray().ravel()\n",
    "residuals = (rui_flat-baseline.ravel())[rui_flat>0]\n",
    "print(np.mean(np.square(residuals)))\n",
    "print(np.mean(np.abs(residuals)))\n",
    "print(pearsonr(rui_flat[rui_flat>0], baseline.ravel()[rui_flat>0])[0])\n",
    "print(spearmanr(rui_flat[rui_flat>0], baseline.ravel()[rui_flat>0])[0])\n",
    "</span>"
   ]
  },
  {
   "cell_type": "markdown",
   "metadata": {},
   "source": [
    "#### Form recommendation lists by proposing to each user the five films ranked highest according to their baseline. \n",
    "\n",
    "Calculate the fraction of all the films which are ever proposed in any of these lists. This fraction is called the **coverage**. Most recommender systems would make sure to increase this coverage. Are you proposing films which have been rated very frequently?"
   ]
  },
  {
   "cell_type": "code",
   "execution_count": 27,
   "metadata": {
    "ExecuteTime": {
     "end_time": "2020-03-03T09:26:52.249977Z",
     "start_time": "2020-03-03T09:26:49.830513Z"
    }
   },
   "outputs": [
    {
     "name": "stdout",
     "output_type": "stream",
     "text": [
      "[[ 813. 1121. 1188. 1200. 1292.]\n",
      " [ 813. 1121. 1188. 1200. 1292.]\n",
      " [ 813. 1121. 1188. 1200. 1292.]\n",
      " ...\n",
      " [ 118.  407.  813. 1121. 1188.]\n",
      " [  11.   49.   63.   97.  113.]\n",
      " [ 813. 1121. 1188. 1200. 1292.]]\n",
      "[   0    6    7    8    9   10   11   13   21   22   44   47   49   63\n",
      "   88   97  113  118  168  317  407  482  813 1121 1188 1200 1292]\n",
      "item_id\n",
      "0       452\n",
      "6       392\n",
      "7       219\n",
      "8       299\n",
      "9        89\n",
      "10      236\n",
      "11      267\n",
      "13      183\n",
      "21      297\n",
      "22      182\n",
      "44       80\n",
      "47      117\n",
      "49      583\n",
      "63      283\n",
      "88      275\n",
      "97      390\n",
      "113      67\n",
      "118       4\n",
      "168     118\n",
      "317     298\n",
      "407     112\n",
      "482     243\n",
      "813       1\n",
      "1121      1\n",
      "1188      3\n",
      "1200      1\n",
      "1292      3\n",
      "Name: rating, dtype: int64\n"
     ]
    }
   ],
   "source": [
    "baseline_recommendation = []\n",
    "for i in range(len(baseline)):\n",
    "    baseline_recommendation.append(sorted(list(zip(range((baseline.shape[1])), baseline[i])), key=lambda x: x[1], reverse=True)[:5])\n",
    "baseline_recommendation = np.array(baseline_recommendation)\n",
    "print(baseline_recommendation[0:, :, 0])\n",
    "baseline_recommendation_unique = np.unique(baseline_recommendation[0:, :, 0].ravel()).astype(int)\n",
    "print(baseline_recommendation_unique)\n",
    "print(df.groupby('item_id')['rating'].count().loc[baseline_recommendation_unique])\n"
   ]
  },
  {
   "cell_type": "markdown",
   "metadata": {},
   "source": [
    "#### Solution (double click)\n",
    "\n",
    "<span style=\"color:white;font-family:'Courier New'\"><br/>\n",
    "baseline_recommendation = []\n",
    "for i in range(len(baseline)):\n",
    "    baseline_recommendation.append(sorted(list(zip(range((baseline.shape[1])), baseline[i])), key=lambda x: x[1], reverse=True)[:5])\n",
    "baseline_recommendation = np.array(baseline_recommendation)\n",
    "print(baseline_recommendation[0:, :, 0])\n",
    "baseline_recommendation_unique = np.unique(baseline_recommendation[0:, :, 0].ravel()).astype(int)\n",
    "print(baseline_recommendation_unique)\n",
    "print(df.groupby('item_id')['rating'].count().loc[baseline_recommendation_unique])\n",
    "</span>"
   ]
  },
  {
   "cell_type": "markdown",
   "metadata": {},
   "source": [
    "### Slope-one predictor\n",
    "\n",
    "\n",
    "This scheme makes use of both the information from other users who rated the same item and from the other items rated by the same user to predict a rating:\n",
    "\n",
    "$$\n",
    "\\hat{r}_{ui} = \\mu_u + \\frac{1}{|R_i(u)|}\\sum_{j \\in R_i(u)}{\\rm dev}(i,j)\n",
    "$$\n",
    "\n",
    "where $R_i(u)$ is the set of items rated by user $u$\n",
    "and the average difference between the ratings of item $i$ and $j$ is\n",
    "\n",
    "$$\n",
    "{\\rm dev}(i,j) = \\frac{1}{|U_{ij}|}\\sum_{u\\in U_{ij}}(r_{ui}-r_{uj})\n",
    "$$\n",
    "\n",
    "and $U_{ij}$ is the set of all users that have rated both items $i$ and $j$."
   ]
  },
  {
   "cell_type": "markdown",
   "metadata": {},
   "source": [
    "#### Example\n",
    "\n",
    "Consider the following example of ratings\n",
    "\n",
    "|   -     | item 1 | item 2|\n",
    "| ------- |:------:| -----:|\n",
    "| user 1  | 2      | 1.8   |\n",
    "| user 2  | 1      |  ?    |\n",
    "\n",
    "Then we have\n",
    "\n",
    "$\\mu_{\\rm user 2}=1$, $|U_{12}|=1$, $r_{11}=2$, $r_{12}=1.8$ and\n",
    "\n",
    "$$\n",
    "r_{22} = 1+\\frac{1}{1}(1.8-2) = 0.8\n",
    "$$ "
   ]
  },
  {
   "cell_type": "markdown",
   "metadata": {},
   "source": [
    "#### According to this model, how would user 8 rate film 1?"
   ]
  },
  {
   "cell_type": "code",
   "execution_count": 28,
   "metadata": {
    "ExecuteTime": {
     "end_time": "2020-03-03T09:26:52.353313Z",
     "start_time": "2020-03-03T09:26:52.300438Z"
    }
   },
   "outputs": [
    {
     "data": {
      "text/plain": [
       "4.2727272727272725"
      ]
     },
     "execution_count": 28,
     "metadata": {},
     "output_type": "execute_result"
    }
   ],
   "source": [
    "mu_user_8 = df[df.user_id==8].rating.mean()\n",
    "mu_user_8"
   ]
  },
  {
   "cell_type": "code",
   "execution_count": 29,
   "metadata": {
    "ExecuteTime": {
     "end_time": "2020-03-03T09:26:52.385527Z",
     "start_time": "2020-03-03T09:26:52.368506Z"
    }
   },
   "outputs": [
    {
     "data": {
      "text/plain": [
       "array([297, 690, 520, 486, 285,   5, 478, 339, 526, 506, 275, 614, 689,\n",
       "       293, 482, 401, 370, 241, 200,  49,   6, 384])"
      ]
     },
     "execution_count": 29,
     "metadata": {},
     "output_type": "execute_result"
    }
   ],
   "source": [
    "rated_by_user_8 = df[df.user_id==8]['item_id'].values\n",
    "rated_by_user_8"
   ]
  },
  {
   "cell_type": "code",
   "execution_count": 30,
   "metadata": {
    "ExecuteTime": {
     "end_time": "2020-03-03T09:26:52.404916Z",
     "start_time": "2020-03-03T09:26:52.398578Z"
    }
   },
   "outputs": [],
   "source": [
    "# Look at how other users have rated these films and also film 1"
   ]
  },
  {
   "cell_type": "code",
   "execution_count": 31,
   "metadata": {
    "ExecuteTime": {
     "end_time": "2020-03-03T09:26:52.430635Z",
     "start_time": "2020-03-03T09:26:52.411859Z"
    }
   },
   "outputs": [
    {
     "data": {
      "text/plain": [
       "array([  4, 267, 275, 216,  86, 249, 200,  63,  12,  94, 212, 372, 292,\n",
       "       192, 362, 255, 199, 206, 392, 221, 398, 300, 378, 386,  91, 449,\n",
       "       302, 177,  82, 406, 326,   0, 324, 454,  29, 319, 404, 465, 535,\n",
       "       345, 196,  71, 109, 599, 621, 550, 617, 494, 496, 428, 279, 397,\n",
       "       659, 652, 377, 129, 748, 373,  21, 424, 486, 756, 704, 471, 708,\n",
       "       415, 560, 291, 304, 520, 248, 726, 795, 773, 772, 270, 565, 626,\n",
       "       750, 542, 641, 898, 483, 829, 845, 863, 805, 681, 384, 654, 869,\n",
       "       647, 434, 915, 737, 714, 505, 879, 933, 620, 278, 745, 685, 642,\n",
       "       639, 789, 803,  41, 531, 891, 923, 101, 763, 843, 631, 670, 942,\n",
       "       266, 825, 649, 895, 794, 233, 441, 867, 814, 797,  48, 806, 885,\n",
       "       888])"
      ]
     },
     "execution_count": 31,
     "metadata": {},
     "output_type": "execute_result"
    }
   ],
   "source": [
    "raters_of_film_1 = df[df.item_id==1]['user_id'].values\n",
    "raters_of_film_1"
   ]
  },
  {
   "cell_type": "code",
   "execution_count": 32,
   "metadata": {
    "ExecuteTime": {
     "end_time": "2020-03-03T09:26:52.724786Z",
     "start_time": "2020-03-03T09:26:52.450158Z"
    }
   },
   "outputs": [
    {
     "data": {
      "text/plain": [
       "0.5196438885324587"
      ]
     },
     "execution_count": 32,
     "metadata": {},
     "output_type": "execute_result"
    }
   ],
   "source": [
    "# How other users have rated the same films:\n",
    "list1 = [(df[(df.item_id==item) & (df.user_id==8)].rating.values[0]\n",
    "  - df[(df.item_id==item) & (df.user_id!=8)].rating.mean()) for item in rated_by_user_8]\n",
    "mean1 = sum(list1)/len(list1)\n",
    "mean1"
   ]
  },
  {
   "cell_type": "code",
   "execution_count": 33,
   "metadata": {
    "ExecuteTime": {
     "end_time": "2020-03-03T09:26:54.641249Z",
     "start_time": "2020-03-03T09:26:52.734443Z"
    }
   },
   "outputs": [
    {
     "ename": "TypeError",
     "evalue": "unsupported operand type(s) for -: 'list' and 'list'",
     "output_type": "error",
     "traceback": [
      "\u001b[0;31m---------------------------------------------------------------------------\u001b[0m",
      "\u001b[0;31mTypeError\u001b[0m                                 Traceback (most recent call last)",
      "\u001b[0;32m<ipython-input-33-99b776b2180f>\u001b[0m in \u001b[0;36m<module>\u001b[0;34m\u001b[0m\n\u001b[1;32m      4\u001b[0m     \u001b[0muser_rating\u001b[0m \u001b[0;34m=\u001b[0m \u001b[0;34m[\u001b[0m\u001b[0mdf\u001b[0m\u001b[0;34m[\u001b[0m\u001b[0;34m(\u001b[0m\u001b[0mdf\u001b[0m\u001b[0;34m.\u001b[0m\u001b[0muser_id\u001b[0m\u001b[0;34m==\u001b[0m\u001b[0muser\u001b[0m\u001b[0;34m)\u001b[0m \u001b[0;34m&\u001b[0m \u001b[0;34m(\u001b[0m\u001b[0mdf\u001b[0m\u001b[0;34m.\u001b[0m\u001b[0mitem_id\u001b[0m\u001b[0;34m==\u001b[0m\u001b[0mitem\u001b[0m\u001b[0;34m)\u001b[0m\u001b[0;34m]\u001b[0m\u001b[0;34m.\u001b[0m\u001b[0mrating\u001b[0m\u001b[0;34m.\u001b[0m\u001b[0mmean\u001b[0m\u001b[0;34m(\u001b[0m\u001b[0;34m)\u001b[0m \u001b[0;32mfor\u001b[0m \u001b[0muser\u001b[0m \u001b[0;32min\u001b[0m \u001b[0mraters_of_film_1\u001b[0m\u001b[0;34m]\u001b[0m\u001b[0;34m\u001b[0m\u001b[0;34m\u001b[0m\u001b[0m\n\u001b[1;32m      5\u001b[0m     \u001b[0muser_rating1\u001b[0m \u001b[0;34m=\u001b[0m \u001b[0;34m[\u001b[0m\u001b[0mdf\u001b[0m\u001b[0;34m[\u001b[0m\u001b[0;34m(\u001b[0m\u001b[0mdf\u001b[0m\u001b[0;34m.\u001b[0m\u001b[0muser_id\u001b[0m\u001b[0;34m==\u001b[0m\u001b[0muser\u001b[0m\u001b[0;34m)\u001b[0m \u001b[0;34m&\u001b[0m \u001b[0;34m(\u001b[0m\u001b[0mdf\u001b[0m\u001b[0;34m.\u001b[0m\u001b[0mitem_id\u001b[0m\u001b[0;34m==\u001b[0m\u001b[0;36m1\u001b[0m\u001b[0;34m)\u001b[0m\u001b[0;34m]\u001b[0m\u001b[0;34m.\u001b[0m\u001b[0mrating\u001b[0m\u001b[0;34m.\u001b[0m\u001b[0mmean\u001b[0m\u001b[0;34m(\u001b[0m\u001b[0;34m)\u001b[0m \u001b[0;32mfor\u001b[0m \u001b[0muser\u001b[0m \u001b[0;32min\u001b[0m \u001b[0mraters_of_film_1\u001b[0m\u001b[0;34m]\u001b[0m\u001b[0;34m\u001b[0m\u001b[0;34m\u001b[0m\u001b[0m\n\u001b[0;32m----> 6\u001b[0;31m     \u001b[0mdiffs\u001b[0m\u001b[0;34m.\u001b[0m\u001b[0mappend\u001b[0m\u001b[0;34m(\u001b[0m\u001b[0muser_rating1\u001b[0m\u001b[0;34m-\u001b[0m\u001b[0muser_rating\u001b[0m\u001b[0;34m)\u001b[0m\u001b[0;34m\u001b[0m\u001b[0;34m\u001b[0m\u001b[0m\n\u001b[0m\u001b[1;32m      7\u001b[0m \u001b[0mmean2\u001b[0m \u001b[0;34m=\u001b[0m \u001b[0msum\u001b[0m\u001b[0;34m(\u001b[0m\u001b[0mlist2\u001b[0m\u001b[0;34m)\u001b[0m\u001b[0;34m/\u001b[0m\u001b[0mlen\u001b[0m\u001b[0;34m(\u001b[0m\u001b[0mlist2\u001b[0m\u001b[0;34m)\u001b[0m\u001b[0;34m\u001b[0m\u001b[0;34m\u001b[0m\u001b[0m\n\u001b[1;32m      8\u001b[0m \u001b[0mmean2\u001b[0m\u001b[0;34m\u001b[0m\u001b[0;34m\u001b[0m\u001b[0m\n",
      "\u001b[0;31mTypeError\u001b[0m: unsupported operand type(s) for -: 'list' and 'list'"
     ]
    }
   ],
   "source": [
    "# How those other users have rated film 1:\n",
    "diffs = []\n",
    "for item in rated_by_user_8:\n",
    "    user_rating = [df[(df.user_id==user) & (df.item_id==item)].rating.mean() for user in raters_of_film_1]\n",
    "    user_rating1 = [df[(df.user_id==user) & (df.item_id==1)].rating.mean() for user in raters_of_film_1]\n",
    "    diffs.append(user_rating1-user_rating)\n",
    "mean2 = sum(list2)/len(list2)\n",
    "mean2"
   ]
  },
  {
   "cell_type": "markdown",
   "metadata": {},
   "source": [
    "#### Solution (double click)\n",
    "\n",
    "<span style=\"color:white;font-family:'Courier New'\"><br/>\n",
    "rui_np = rui.toarray()\n",
    "def slope_one_predictor(user_predict, item_predict, rui_np):\n",
    "    rated_by_user = np.arange(rui_np.shape[1])[rui_np[user_predict]>0]\n",
    "    user_mean = (rui_np[user_predict][rui_np[user_predict]>0]).mean()\n",
    "    deviance = 0\n",
    "    for item in rated_by_user:\n",
    "        deviance_current = rui_np[((rui_np[:, item_predict]>0) & (rui_np[:, item]>0))]\n",
    "        deviance_current = (deviance_current[:, item_predict] - deviance_current[:, item]).sum() / deviance_current.shape[0]\n",
    "        deviance += deviance_current\n",
    "    deviance = deviance / len(rated_by_user)\n",
    "    deviance += user_mean\n",
    "    return deviance\n",
    "slope_one_predictor(8, 1, rui.toarray())\n",
    "</span>"
   ]
  },
  {
   "cell_type": "markdown",
   "metadata": {},
   "source": [
    "## Measuring (dis-)similarity between ratings\n",
    "\n",
    "We use similarity measures to infer from past ratings what to recommend in the future. This can be \n",
    "\n",
    "- **item based:** a user who already rated some items positively would like to have similar items recommended in the future\n",
    "- **user based:** users who agree on their item ratings will do so also in the future\n",
    "\n",
    "We can use similarity measures we have already seen frequently:\n",
    "\n",
    "- **Correlation similarity:** \n",
    "\n",
    "$$\n",
    "{\\rm sim}_{\\rm corr}(u,v) = \\frac{(u-\\bar{u})\\cdot (v-\\bar{v})}{\\|u\\|\\|v\\|}\n",
    "$$\n",
    "\n",
    "- **Cosine similarity**\n",
    "\n",
    "$$\n",
    "{\\rm sim}_{\\cos}(u,v) = \\frac{u\\cdot v}{\\|u\\|\\|v\\|}\n",
    "$$\n",
    "\n",
    "- **Mean squared difference**\n",
    "\n",
    "$$\n",
    "{\\rm msd}(u,v) = \\frac{1}{|I_{uv}|}\\sum_{i\\in I_{uv}}(r_{ui}-r_{vi})^2\n",
    "$$\n",
    "\n",
    "and then\n",
    "\n",
    "$$\n",
    "{\\rm msd\\_sim}(u,v) = \\frac{1}{{\\rm msd}(u,v)+1} \n",
    "$$\n",
    "\n",
    "and similarly for item pairs $i,j$. $|I_{uv}|$ is the number of items rated by both users $u$ and $v$.\n",
    "\n",
    "There exist many more based on the usual distance metrics, but also many specialized for recommendation system requirements."
   ]
  },
  {
   "cell_type": "code",
   "execution_count": 34,
   "metadata": {
    "ExecuteTime": {
     "end_time": "2020-03-03T09:27:35.061061Z",
     "start_time": "2020-03-03T09:27:35.038671Z"
    }
   },
   "outputs": [],
   "source": [
    "from sklearn.metrics.pairwise import cosine_distances, cosine_similarity, pairwise_distances, euclidean_distances\n",
    "\n",
    "# these work with sparse matrices."
   ]
  },
  {
   "cell_type": "code",
   "execution_count": 35,
   "metadata": {
    "ExecuteTime": {
     "end_time": "2020-03-03T09:27:35.206079Z",
     "start_time": "2020-03-03T09:27:35.158599Z"
    }
   },
   "outputs": [
    {
     "data": {
      "text/plain": [
       "<943x1682 sparse matrix of type '<class 'numpy.int64'>'\n",
       "\twith 100000 stored elements in Compressed Sparse Row format>"
      ]
     },
     "execution_count": 35,
     "metadata": {},
     "output_type": "execute_result"
    }
   ],
   "source": [
    "row = df.user_id\n",
    "col = df.item_id\n",
    "data = df.rating\n",
    "rui = sparse.csr_matrix((data, (row, col)), shape=(df.user_id.unique().shape[0], df.item_id.unique().shape[0]))\n",
    "rui"
   ]
  },
  {
   "cell_type": "code",
   "execution_count": 48,
   "metadata": {
    "ExecuteTime": {
     "end_time": "2020-03-03T09:46:55.296085Z",
     "start_time": "2020-03-03T09:46:55.186765Z"
    }
   },
   "outputs": [
    {
     "data": {
      "text/plain": [
       "array([1.        , 0.16693098, 0.04745954, 0.06435782, 0.37847518,\n",
       "       0.43023944, 0.4403668 , 0.31907211, 0.07813837, 0.37654381])"
      ]
     },
     "execution_count": 48,
     "metadata": {},
     "output_type": "execute_result"
    }
   ],
   "source": [
    "user_similarity_cos = cosine_similarity(rui)\n",
    "user_similarity_cos[0, :10]"
   ]
  },
  {
   "cell_type": "code",
   "execution_count": 49,
   "metadata": {
    "ExecuteTime": {
     "end_time": "2020-03-03T09:46:55.675086Z",
     "start_time": "2020-03-03T09:46:55.568236Z"
    }
   },
   "outputs": [
    {
     "data": {
      "text/plain": [
       "array([0.        , 0.83306902, 0.95254046, 0.93564218, 0.62152482,\n",
       "       0.56976056, 0.5596332 , 0.68092789, 0.92186163, 0.62345619])"
      ]
     },
     "execution_count": 49,
     "metadata": {},
     "output_type": "execute_result"
    }
   ],
   "source": [
    "user_distance_cos = cosine_distances(rui)\n",
    "user_distance_cos[0, :10]"
   ]
  },
  {
   "cell_type": "code",
   "execution_count": 50,
   "metadata": {
    "ExecuteTime": {
     "end_time": "2020-03-03T09:46:57.305221Z",
     "start_time": "2020-03-03T09:46:56.155027Z"
    }
   },
   "outputs": [
    {
     "data": {
      "text/plain": [
       "array([0.        , 0.89367807, 1.01642393, 0.97828412, 0.69740786,\n",
       "       0.65402415, 0.67998316, 0.7237923 , 0.96118849, 0.71150891])"
      ]
     },
     "execution_count": 50,
     "metadata": {},
     "output_type": "execute_result"
    }
   ],
   "source": [
    "user_distance_corr = pairwise_distances(rui.toarray(), metric='correlation')\n",
    "user_distance_corr[0, :10]\n",
    "# this is 1-corr, to convert to a distance metric"
   ]
  },
  {
   "cell_type": "code",
   "execution_count": 51,
   "metadata": {
    "ExecuteTime": {
     "end_time": "2020-03-03T09:46:59.008213Z",
     "start_time": "2020-03-03T09:46:58.999784Z"
    }
   },
   "outputs": [],
   "source": [
    "def msd(x, y):\n",
    "    \"\"\"\n",
    "    check for items rated by both users,\n",
    "    then calculate Euclidean distance between users\n",
    "    \"\"\"\n",
    "    condition = (x!=0) & (y!=0) # ie. where a rating was actually given by both users\n",
    "    try:\n",
    "        x_c = x[condition].reshape(1, -1)\n",
    "        y_c = y[condition].reshape(1, -1)\n",
    "        e = (euclidean_distances(x_c, y_c)[0, 0])**2 / condition.sum() # square brackets are loc in matrix returned by\n",
    "        # euclidean distances operation, the matrix is just one number everywhere anyway.\n",
    "        return 1 - 1 / (1 + e)\n",
    "    except:\n",
    "        return 1"
   ]
  },
  {
   "cell_type": "code",
   "execution_count": 52,
   "metadata": {
    "ExecuteTime": {
     "end_time": "2020-03-03T09:48:14.263557Z",
     "start_time": "2020-03-03T09:46:59.257246Z"
    },
    "collapsed": true
   },
   "outputs": [
    {
     "ename": "KeyboardInterrupt",
     "evalue": "",
     "output_type": "error",
     "traceback": [
      "\u001b[0;31m---------------------------------------------------------------------------\u001b[0m",
      "\u001b[0;31mKeyboardInterrupt\u001b[0m                         Traceback (most recent call last)",
      "\u001b[0;32m<ipython-input-52-852fbd12eedb>\u001b[0m in \u001b[0;36m<module>\u001b[0;34m\u001b[0m\n\u001b[0;32m----> 1\u001b[0;31m \u001b[0muser_distance_msd\u001b[0m \u001b[0;34m=\u001b[0m \u001b[0mpairwise_distances\u001b[0m\u001b[0;34m(\u001b[0m\u001b[0mrui\u001b[0m\u001b[0;34m.\u001b[0m\u001b[0mtoarray\u001b[0m\u001b[0;34m(\u001b[0m\u001b[0;34m)\u001b[0m\u001b[0;34m,\u001b[0m \u001b[0mmetric\u001b[0m\u001b[0;34m=\u001b[0m\u001b[0mmsd\u001b[0m\u001b[0;34m)\u001b[0m \u001b[0;31m# refer to funtion created above\u001b[0m\u001b[0;34m\u001b[0m\u001b[0;34m\u001b[0m\u001b[0m\n\u001b[0m\u001b[1;32m      2\u001b[0m \u001b[0muser_distance_msd\u001b[0m\u001b[0;34m[\u001b[0m\u001b[0;36m0\u001b[0m\u001b[0;34m,\u001b[0m \u001b[0;34m:\u001b[0m\u001b[0;36m10\u001b[0m\u001b[0;34m]\u001b[0m\u001b[0;34m\u001b[0m\u001b[0;34m\u001b[0m\u001b[0m\n",
      "\u001b[0;32m~/anaconda3/lib/python3.7/site-packages/sklearn/metrics/pairwise.py\u001b[0m in \u001b[0;36mpairwise_distances\u001b[0;34m(X, Y, metric, n_jobs, force_all_finite, **kwds)\u001b[0m\n\u001b[1;32m   1747\u001b[0m         \u001b[0mfunc\u001b[0m \u001b[0;34m=\u001b[0m \u001b[0mpartial\u001b[0m\u001b[0;34m(\u001b[0m\u001b[0mdistance\u001b[0m\u001b[0;34m.\u001b[0m\u001b[0mcdist\u001b[0m\u001b[0;34m,\u001b[0m \u001b[0mmetric\u001b[0m\u001b[0;34m=\u001b[0m\u001b[0mmetric\u001b[0m\u001b[0;34m,\u001b[0m \u001b[0;34m**\u001b[0m\u001b[0mkwds\u001b[0m\u001b[0;34m)\u001b[0m\u001b[0;34m\u001b[0m\u001b[0;34m\u001b[0m\u001b[0m\n\u001b[1;32m   1748\u001b[0m \u001b[0;34m\u001b[0m\u001b[0m\n\u001b[0;32m-> 1749\u001b[0;31m     \u001b[0;32mreturn\u001b[0m \u001b[0m_parallel_pairwise\u001b[0m\u001b[0;34m(\u001b[0m\u001b[0mX\u001b[0m\u001b[0;34m,\u001b[0m \u001b[0mY\u001b[0m\u001b[0;34m,\u001b[0m \u001b[0mfunc\u001b[0m\u001b[0;34m,\u001b[0m \u001b[0mn_jobs\u001b[0m\u001b[0;34m,\u001b[0m \u001b[0;34m**\u001b[0m\u001b[0mkwds\u001b[0m\u001b[0;34m)\u001b[0m\u001b[0;34m\u001b[0m\u001b[0;34m\u001b[0m\u001b[0m\n\u001b[0m\u001b[1;32m   1750\u001b[0m \u001b[0;34m\u001b[0m\u001b[0m\n\u001b[1;32m   1751\u001b[0m \u001b[0;34m\u001b[0m\u001b[0m\n",
      "\u001b[0;32m~/anaconda3/lib/python3.7/site-packages/sklearn/metrics/pairwise.py\u001b[0m in \u001b[0;36m_parallel_pairwise\u001b[0;34m(X, Y, func, n_jobs, **kwds)\u001b[0m\n\u001b[1;32m   1346\u001b[0m \u001b[0;34m\u001b[0m\u001b[0m\n\u001b[1;32m   1347\u001b[0m     \u001b[0;32mif\u001b[0m \u001b[0meffective_n_jobs\u001b[0m\u001b[0;34m(\u001b[0m\u001b[0mn_jobs\u001b[0m\u001b[0;34m)\u001b[0m \u001b[0;34m==\u001b[0m \u001b[0;36m1\u001b[0m\u001b[0;34m:\u001b[0m\u001b[0;34m\u001b[0m\u001b[0;34m\u001b[0m\u001b[0m\n\u001b[0;32m-> 1348\u001b[0;31m         \u001b[0;32mreturn\u001b[0m \u001b[0mfunc\u001b[0m\u001b[0;34m(\u001b[0m\u001b[0mX\u001b[0m\u001b[0;34m,\u001b[0m \u001b[0mY\u001b[0m\u001b[0;34m,\u001b[0m \u001b[0;34m**\u001b[0m\u001b[0mkwds\u001b[0m\u001b[0;34m)\u001b[0m\u001b[0;34m\u001b[0m\u001b[0;34m\u001b[0m\u001b[0m\n\u001b[0m\u001b[1;32m   1349\u001b[0m \u001b[0;34m\u001b[0m\u001b[0m\n\u001b[1;32m   1350\u001b[0m     \u001b[0;31m# enforce a threading backend to prevent data communication overhead\u001b[0m\u001b[0;34m\u001b[0m\u001b[0;34m\u001b[0m\u001b[0;34m\u001b[0m\u001b[0m\n",
      "\u001b[0;32m~/anaconda3/lib/python3.7/site-packages/sklearn/metrics/pairwise.py\u001b[0m in \u001b[0;36m_pairwise_callable\u001b[0;34m(X, Y, metric, force_all_finite, **kwds)\u001b[0m\n\u001b[1;32m   1373\u001b[0m         \u001b[0miterator\u001b[0m \u001b[0;34m=\u001b[0m \u001b[0mitertools\u001b[0m\u001b[0;34m.\u001b[0m\u001b[0mcombinations\u001b[0m\u001b[0;34m(\u001b[0m\u001b[0mrange\u001b[0m\u001b[0;34m(\u001b[0m\u001b[0mX\u001b[0m\u001b[0;34m.\u001b[0m\u001b[0mshape\u001b[0m\u001b[0;34m[\u001b[0m\u001b[0;36m0\u001b[0m\u001b[0;34m]\u001b[0m\u001b[0;34m)\u001b[0m\u001b[0;34m,\u001b[0m \u001b[0;36m2\u001b[0m\u001b[0;34m)\u001b[0m\u001b[0;34m\u001b[0m\u001b[0;34m\u001b[0m\u001b[0m\n\u001b[1;32m   1374\u001b[0m         \u001b[0;32mfor\u001b[0m \u001b[0mi\u001b[0m\u001b[0;34m,\u001b[0m \u001b[0mj\u001b[0m \u001b[0;32min\u001b[0m \u001b[0miterator\u001b[0m\u001b[0;34m:\u001b[0m\u001b[0;34m\u001b[0m\u001b[0;34m\u001b[0m\u001b[0m\n\u001b[0;32m-> 1375\u001b[0;31m             \u001b[0mout\u001b[0m\u001b[0;34m[\u001b[0m\u001b[0mi\u001b[0m\u001b[0;34m,\u001b[0m \u001b[0mj\u001b[0m\u001b[0;34m]\u001b[0m \u001b[0;34m=\u001b[0m \u001b[0mmetric\u001b[0m\u001b[0;34m(\u001b[0m\u001b[0mX\u001b[0m\u001b[0;34m[\u001b[0m\u001b[0mi\u001b[0m\u001b[0;34m]\u001b[0m\u001b[0;34m,\u001b[0m \u001b[0mY\u001b[0m\u001b[0;34m[\u001b[0m\u001b[0mj\u001b[0m\u001b[0;34m]\u001b[0m\u001b[0;34m,\u001b[0m \u001b[0;34m**\u001b[0m\u001b[0mkwds\u001b[0m\u001b[0;34m)\u001b[0m\u001b[0;34m\u001b[0m\u001b[0;34m\u001b[0m\u001b[0m\n\u001b[0m\u001b[1;32m   1376\u001b[0m \u001b[0;34m\u001b[0m\u001b[0m\n\u001b[1;32m   1377\u001b[0m         \u001b[0;31m# Make symmetric\u001b[0m\u001b[0;34m\u001b[0m\u001b[0;34m\u001b[0m\u001b[0;34m\u001b[0m\u001b[0m\n",
      "\u001b[0;32m<ipython-input-51-ad3b37da0265>\u001b[0m in \u001b[0;36mmsd\u001b[0;34m(x, y)\u001b[0m\n\u001b[1;32m      4\u001b[0m     \u001b[0mthen\u001b[0m \u001b[0mcalculate\u001b[0m \u001b[0mEuclidean\u001b[0m \u001b[0mdistance\u001b[0m \u001b[0mbetween\u001b[0m \u001b[0musers\u001b[0m\u001b[0;34m\u001b[0m\u001b[0;34m\u001b[0m\u001b[0m\n\u001b[1;32m      5\u001b[0m     \"\"\"\n\u001b[0;32m----> 6\u001b[0;31m     \u001b[0mcondition\u001b[0m \u001b[0;34m=\u001b[0m \u001b[0;34m(\u001b[0m\u001b[0mx\u001b[0m\u001b[0;34m!=\u001b[0m\u001b[0;36m0\u001b[0m\u001b[0;34m)\u001b[0m \u001b[0;34m&\u001b[0m \u001b[0;34m(\u001b[0m\u001b[0my\u001b[0m\u001b[0;34m!=\u001b[0m\u001b[0;36m0\u001b[0m\u001b[0;34m)\u001b[0m \u001b[0;31m# ie. where a rating was actually given by both users\u001b[0m\u001b[0;34m\u001b[0m\u001b[0;34m\u001b[0m\u001b[0m\n\u001b[0m\u001b[1;32m      7\u001b[0m     \u001b[0;32mtry\u001b[0m\u001b[0;34m:\u001b[0m\u001b[0;34m\u001b[0m\u001b[0;34m\u001b[0m\u001b[0m\n\u001b[1;32m      8\u001b[0m         \u001b[0mx_c\u001b[0m \u001b[0;34m=\u001b[0m \u001b[0mx\u001b[0m\u001b[0;34m[\u001b[0m\u001b[0mcondition\u001b[0m\u001b[0;34m]\u001b[0m\u001b[0;34m.\u001b[0m\u001b[0mreshape\u001b[0m\u001b[0;34m(\u001b[0m\u001b[0;36m1\u001b[0m\u001b[0;34m,\u001b[0m \u001b[0;34m-\u001b[0m\u001b[0;36m1\u001b[0m\u001b[0;34m)\u001b[0m\u001b[0;34m\u001b[0m\u001b[0;34m\u001b[0m\u001b[0m\n",
      "\u001b[0;31mKeyboardInterrupt\u001b[0m: "
     ]
    }
   ],
   "source": [
    "user_distance_msd = pairwise_distances(rui.toarray(), metric=msd) # refer to funtion created above\n",
    "user_distance_msd[0, :10]"
   ]
  },
  {
   "cell_type": "markdown",
   "metadata": {},
   "source": [
    "#### Determine the pairwise distances between items\n",
    "\n",
    "Hint: Calculate the same as above for the transposed user-item matrix."
   ]
  },
  {
   "cell_type": "code",
   "execution_count": null,
   "metadata": {
    "ExecuteTime": {
     "end_time": "2020-03-03T09:48:14.281736Z",
     "start_time": "2020-03-03T09:47:14.802Z"
    }
   },
   "outputs": [],
   "source": [
    "# just need to transpose rui so that items are now rows\n",
    "item_similarity_cos = cosine_similarity(rui.T)\n",
    "item_distance_cos = cosine_distances(rui.T)\n",
    "item_distance_corr = pairwise_distances(rui.T.toarray(), metric='correlation')"
   ]
  },
  {
   "cell_type": "markdown",
   "metadata": {},
   "source": [
    "#### Solution (double click)\n",
    "\n",
    "<span style=\"color:white;font-family:'Courier New'\"><br/>\n",
    "item_distance_cos = cosine_distances(rui.T)\n",
    "print(item_distance_cos[0, :10])\n",
    "item_distance_corr = pairwise_distances(rui.T.toarray(), metric='correlation')\n",
    "print(item_distance_corr[0, :10])\n",
    "item_distance_msd = pairwise_distances(rui.T.toarray(), metric=msd)\n",
    "print(item_distance_msd[0, :10])\n",
    "</span>"
   ]
  },
  {
   "cell_type": "markdown",
   "metadata": {},
   "source": [
    "#### Based on the user-cosine similarity, determine who are the three closest users to user 8"
   ]
  },
  {
   "cell_type": "code",
   "execution_count": 66,
   "metadata": {
    "ExecuteTime": {
     "end_time": "2020-03-03T09:55:13.487910Z",
     "start_time": "2020-03-03T09:55:13.385063Z"
    }
   },
   "outputs": [
    {
     "data": {
      "text/plain": [
       "[(8, 1.0),\n",
       " (734, 0.23642345330242429),\n",
       " (796, 0.22976150005602328),\n",
       " (432, 0.22771001702132443),\n",
       " (679, 0.2274526189727237),\n",
       " (739, 0.2252828909446542),\n",
       " (358, 0.22302681722002524),\n",
       " (729, 0.221066745319363),\n",
       " (122, 0.2172139456006967),\n",
       " (595, 0.21519042015702022),\n",
       " (219, 0.2065152289262202),\n",
       " (593, 0.20133813719492435),\n",
       " (67, 0.20081398469021833),\n",
       " (889, 0.19938427267659298),\n",
       " (9, 0.19822253294019987),\n",
       " (743, 0.19761904761904764),\n",
       " (31, 0.19739796930095332),\n",
       " (568, 0.19593760753293657),\n",
       " (604, 0.19589524964480776),\n",
       " (742, 0.1952861644075853),\n",
       " (481, 0.19397169551123028),\n",
       " (596, 0.1933898505898216),\n",
       " (396, 0.18904601721399095),\n",
       " (656, 0.18887296662759476),\n",
       " (650, 0.18883955453900694),\n",
       " (323, 0.1887674173175256),\n",
       " (830, 0.18796834558316308),\n",
       " (198, 0.18757237985214584),\n",
       " (78, 0.18640596142578592),\n",
       " (833, 0.18608293198663783),\n",
       " (401, 0.18545863274217977),\n",
       " (752, 0.18436907722222695),\n",
       " (286, 0.18428853505018536),\n",
       " (102, 0.18427288508817136),\n",
       " (5, 0.18395095295128114),\n",
       " (538, 0.18370982069217637),\n",
       " (677, 0.18361523149517078),\n",
       " (451, 0.18261020718014995),\n",
       " (527, 0.18193994547070047),\n",
       " (320, 0.18106459589447274),\n",
       " (532, 0.18095483505144505),\n",
       " (764, 0.1802967964572861),\n",
       " (875, 0.1797530093017337),\n",
       " (16, 0.17958997668846238),\n",
       " (539, 0.17808175440923193),\n",
       " (466, 0.17772676782239952),\n",
       " (293, 0.17623639184796025),\n",
       " (442, 0.1759328876372492),\n",
       " (29, 0.17580830396461816),\n",
       " (473, 0.17433091367080436),\n",
       " (349, 0.174264839397458),\n",
       " (536, 0.1741179804026722),\n",
       " (491, 0.17375813096366202),\n",
       " (156, 0.1734842133742458),\n",
       " (302, 0.1733056891543638),\n",
       " (869, 0.172469555466086),\n",
       " (802, 0.17226330058082814),\n",
       " (519, 0.17210274789482027),\n",
       " (696, 0.17114877272281614),\n",
       " (661, 0.171121163819997),\n",
       " (623, 0.17072371805378753),\n",
       " (65, 0.17055139896872537),\n",
       " (591, 0.17043670554738713),\n",
       " (321, 0.17006320272620096),\n",
       " (567, 0.16917508403790865),\n",
       " (582, 0.1691469037234985),\n",
       " (566, 0.16827701002680034),\n",
       " (307, 0.16665158118290752),\n",
       " (237, 0.16628498952500848),\n",
       " (328, 0.16613572212837277),\n",
       " (798, 0.16590301240125066),\n",
       " (668, 0.16515635833705555),\n",
       " (45, 0.16498304612142944),\n",
       " (175, 0.16489395035881133),\n",
       " (837, 0.16462188888591428),\n",
       " (499, 0.16394416687229463),\n",
       " (649, 0.16330994868978446),\n",
       " (792, 0.16309559965113252),\n",
       " (935, 0.16304925524487102),\n",
       " (183, 0.16240532455604068),\n",
       " (304, 0.16209362131853988),\n",
       " (315, 0.16201851746019652),\n",
       " (58, 0.161745395413738),\n",
       " (42, 0.16127360079047842),\n",
       " (270, 0.16125444103340147),\n",
       " (297, 0.161082976937039),\n",
       " (1, 0.1610475099034579),\n",
       " (160, 0.16101529717988267),\n",
       " (868, 0.16065980188150425),\n",
       " (795, 0.16016185738659774),\n",
       " (296, 0.15951899214008503),\n",
       " (624, 0.15932567740203674),\n",
       " (654, 0.15915671401663808),\n",
       " (47, 0.15905041444259874),\n",
       " (81, 0.15898438127790795),\n",
       " (631, 0.15839641865123755),\n",
       " (446, 0.15763771758348158),\n",
       " (493, 0.15752829240256552),\n",
       " (709, 0.1570899655183073),\n",
       " (469, 0.1569101279812298),\n",
       " (511, 0.15682924707216453),\n",
       " (525, 0.1567675806159293),\n",
       " (697, 0.1557911131713039),\n",
       " (638, 0.1555890398092223),\n",
       " (468, 0.15477568635269517),\n",
       " (453, 0.15475277489052852),\n",
       " (298, 0.15473256734187021),\n",
       " (267, 0.15447030625944033),\n",
       " (310, 0.15420120873495444),\n",
       " (193, 0.15417204875371937),\n",
       " (233, 0.15393132372895632),\n",
       " (715, 0.15374290284945608),\n",
       " (925, 0.15311180047019055),\n",
       " (239, 0.15309439465894537),\n",
       " (928, 0.1530717555367294),\n",
       " (151, 0.1529223733655157),\n",
       " (55, 0.1528103073636546),\n",
       " (479, 0.1526272821800726),\n",
       " (609, 0.1524142004393791),\n",
       " (901, 0.1520186808603441),\n",
       " (617, 0.15200509631698772),\n",
       " (53, 0.1519711752117424),\n",
       " (89, 0.1518329386909831),\n",
       " (73, 0.1517488667177011),\n",
       " (20, 0.15173944029763284),\n",
       " (923, 0.1513727846854345),\n",
       " (61, 0.15080053337372806),\n",
       " (552, 0.1507061824340986),\n",
       " (421, 0.15067556601618573),\n",
       " (238, 0.15054310162351703),\n",
       " (621, 0.14997374219898715),\n",
       " (268, 0.1496164986061686),\n",
       " (429, 0.14942951791045858),\n",
       " (572, 0.14938595837983742),\n",
       " (412, 0.14921921879114472),\n",
       " (678, 0.148924402601752),\n",
       " (324, 0.14844593876220366),\n",
       " (555, 0.14824397327229094),\n",
       " (672, 0.14819709598285968),\n",
       " (363, 0.1479964101597698),\n",
       " (408, 0.14792409242067148),\n",
       " (659, 0.14762795618050986),\n",
       " (226, 0.14749176550489837),\n",
       " (406, 0.14714388078109686),\n",
       " (208, 0.14710518463843195),\n",
       " (831, 0.14673214211726593),\n",
       " (388, 0.14644181379796675),\n",
       " (602, 0.14628471287573092),\n",
       " (757, 0.14619929076393365),\n",
       " (873, 0.14606945763083234),\n",
       " (428, 0.14603307553705336),\n",
       " (416, 0.1458184806760238),\n",
       " (6, 0.14565038042005526),\n",
       " (26, 0.14554329378004685),\n",
       " (359, 0.1454981457511478),\n",
       " (658, 0.1454785934906616),\n",
       " (251, 0.14506550088688383),\n",
       " (213, 0.1450145114647396),\n",
       " (589, 0.14501070799004867),\n",
       " (295, 0.14463056028564814),\n",
       " (459, 0.14444502311684979),\n",
       " (680, 0.1441800221524424),\n",
       " (891, 0.14410175251575286),\n",
       " (379, 0.14408420186783547),\n",
       " (807, 0.14371515142959107),\n",
       " (575, 0.14328757210868642),\n",
       " (940, 0.14324502098285097),\n",
       " (153, 0.1431049438115632),\n",
       " (667, 0.14305477880470574),\n",
       " (561, 0.14271602147244858),\n",
       " (112, 0.1424344395617993),\n",
       " (200, 0.1424227103983873),\n",
       " (232, 0.14219825419535068),\n",
       " (747, 0.1419818008709218),\n",
       " (735, 0.14168457346147853),\n",
       " (161, 0.14164466500775108),\n",
       " (110, 0.14162051919916346),\n",
       " (760, 0.14159515295237513),\n",
       " (692, 0.1415332120821278),\n",
       " (75, 0.14150388986338217),\n",
       " (463, 0.14119209820918813),\n",
       " (199, 0.14093576307179995),\n",
       " (62, 0.14083920175566786),\n",
       " (893, 0.14043335381733218),\n",
       " (706, 0.14039760424508688),\n",
       " (17, 0.14022923102758308),\n",
       " (27, 0.1400400171510245),\n",
       " (59, 0.139923477169778),\n",
       " (235, 0.1398277652146715),\n",
       " (824, 0.13976070957469747),\n",
       " (579, 0.13918023483269576),\n",
       " (633, 0.1391343440807358),\n",
       " (485, 0.13900590955211892),\n",
       " (896, 0.13880491917692692),\n",
       " (84, 0.1386141331521793),\n",
       " (380, 0.13856836029985517),\n",
       " (25, 0.13852712896188304),\n",
       " (892, 0.1384927926759671),\n",
       " (292, 0.13834381209773672),\n",
       " (788, 0.13822903864227873),\n",
       " (279, 0.13822864964258338),\n",
       " (127, 0.1381817607497659),\n",
       " (918, 0.1370321348130126),\n",
       " (560, 0.13687015116121126),\n",
       " (705, 0.1366814920682718),\n",
       " (765, 0.13658666718100082),\n",
       " (698, 0.13602656577195554),\n",
       " (130, 0.13598445392280498),\n",
       " (39, 0.13575133148952692),\n",
       " (353, 0.13564694683417872),\n",
       " (33, 0.1353645027232812),\n",
       " (607, 0.13508325886836853),\n",
       " (400, 0.13472444171512205),\n",
       " (191, 0.13461579948226984),\n",
       " (140, 0.13459547551454137),\n",
       " (523, 0.13449856999419524),\n",
       " (215, 0.13449055502918122),\n",
       " (423, 0.13441983072073313),\n",
       " (252, 0.1344018730391249),\n",
       " (225, 0.13416593691683026),\n",
       " (327, 0.1340637279165542),\n",
       " (643, 0.13394102932092233),\n",
       " (83, 0.13389288256456533),\n",
       " (188, 0.13338058394021493),\n",
       " (325, 0.13309319190280602),\n",
       " (70, 0.13303639941380982),\n",
       " (343, 0.13293844383957673),\n",
       " (866, 0.1328602389971829),\n",
       " (322, 0.13270508566563147),\n",
       " (197, 0.13268921332171688),\n",
       " (94, 0.13259659741404398),\n",
       " (506, 0.13255969979721222),\n",
       " (880, 0.13254798788947744),\n",
       " (844, 0.13250904073771702),\n",
       " (430, 0.13243627276598818),\n",
       " (724, 0.1321453353531677),\n",
       " (669, 0.1319272320837832),\n",
       " (300, 0.13191533767799632),\n",
       " (390, 0.1318829129763302),\n",
       " (454, 0.1318137416442179),\n",
       " (832, 0.13179171357643493),\n",
       " (489, 0.13178371211462928),\n",
       " (688, 0.13147016836911374),\n",
       " (936, 0.13141547442805102),\n",
       " (99, 0.13140286459610914),\n",
       " (622, 0.1313711636661487),\n",
       " (647, 0.1310926769791783),\n",
       " (143, 0.13078846341032488),\n",
       " (103, 0.13078299623495443),\n",
       " (537, 0.13058297593345675),\n",
       " (449, 0.13045048017062527),\n",
       " (342, 0.13036181180909015),\n",
       " (713, 0.13024509137464735),\n",
       " (733, 0.1301923589173416),\n",
       " (204, 0.13014003897460427),\n",
       " (384, 0.13012499565627528),\n",
       " (312, 0.13010467395119163),\n",
       " (814, 0.130044808126489),\n",
       " (418, 0.13002600780260093),\n",
       " (275, 0.13001899146301488),\n",
       " (457, 0.12927946444557234),\n",
       " (750, 0.12924376177417027),\n",
       " (287, 0.12902487694448433),\n",
       " (438, 0.1289556014362951),\n",
       " (534, 0.1289034852304505),\n",
       " (212, 0.1288676224520444),\n",
       " (229, 0.12862501909034718),\n",
       " (128, 0.12860312696834786),\n",
       " (107, 0.1285269389711664),\n",
       " (431, 0.12841902142156994),\n",
       " (12, 0.1284024587219673),\n",
       " (95, 0.1283467729066485),\n",
       " (790, 0.12831880891541658),\n",
       " (338, 0.12821191548149546),\n",
       " (775, 0.12816865086726198),\n",
       " (367, 0.12808796029757147),\n",
       " (686, 0.1279286068380049),\n",
       " (515, 0.12787765607847018),\n",
       " (341, 0.1275469668568241),\n",
       " (176, 0.1274512137297567),\n",
       " (118, 0.1272038624080672),\n",
       " (202, 0.1270337204743927),\n",
       " (600, 0.12694838376280546),\n",
       " (452, 0.12675166782632305),\n",
       " (605, 0.1266429140986779),\n",
       " (732, 0.12652532556234744),\n",
       " (246, 0.12619047619047621),\n",
       " (779, 0.12601295604763632),\n",
       " (444, 0.12595184461014108),\n",
       " (763, 0.12577074912523467),\n",
       " (248, 0.12559508225618535),\n",
       " (456, 0.1255129766850317),\n",
       " (24, 0.1253783804209888),\n",
       " (405, 0.1250893814915784),\n",
       " (565, 0.12489581281897791),\n",
       " (131, 0.12489122497036476),\n",
       " (492, 0.12478908559194947),\n",
       " (41, 0.1247302488971677),\n",
       " (206, 0.124480034808276),\n",
       " (657, 0.12437097308616597),\n",
       " (333, 0.12431848848858555),\n",
       " (303, 0.1243152439222873),\n",
       " (838, 0.12421238867065414),\n",
       " (82, 0.12419803988828605),\n",
       " (758, 0.12416214575232329),\n",
       " (460, 0.12413836774544992),\n",
       " (664, 0.12407401716646861),\n",
       " (90, 0.12378901160086878),\n",
       " (271, 0.12362826165296202),\n",
       " (391, 0.12360043425764572),\n",
       " (526, 0.12355555528812147),\n",
       " (150, 0.1234150437546789),\n",
       " (665, 0.12305676639749713),\n",
       " (407, 0.12305064001046756),\n",
       " (529, 0.12295337393247657),\n",
       " (569, 0.12293194264140199),\n",
       " (915, 0.12279049805421033),\n",
       " (716, 0.12271707787106687),\n",
       " (120, 0.12250205275790373),\n",
       " (670, 0.12233475579059436),\n",
       " (913, 0.12222646627042819),\n",
       " (842, 0.12208435606105603),\n",
       " (311, 0.1219224973307112),\n",
       " (173, 0.12189738165216707),\n",
       " (135, 0.12180745365641343),\n",
       " (931, 0.12156579893389594),\n",
       " (863, 0.12150202324250034),\n",
       " (787, 0.12148281694006817),\n",
       " (862, 0.12145153844425435),\n",
       " (172, 0.12144654188931507),\n",
       " (424, 0.12144534241137302),\n",
       " (194, 0.12139539573337682),\n",
       " (221, 0.12124970442460375),\n",
       " (411, 0.12105751442095176),\n",
       " (76, 0.1209292842251239),\n",
       " (861, 0.1207591951186481),\n",
       " (458, 0.12061705276536623),\n",
       " (907, 0.12057477634520777),\n",
       " (746, 0.12053911962590334),\n",
       " (939, 0.12049483993035633),\n",
       " (154, 0.12046772038736683),\n",
       " (627, 0.12041610759414241),\n",
       " (850, 0.11983652718629345),\n",
       " (23, 0.1197119256549449),\n",
       " (853, 0.11882290890842401),\n",
       " (115, 0.11871214804127711),\n",
       " (829, 0.11847886588565514),\n",
       " (22, 0.11833084062006105),\n",
       " (888, 0.11823314458761755),\n",
       " (937, 0.1182321614519015),\n",
       " (276, 0.11811817845132663),\n",
       " (613, 0.117929776272709),\n",
       " (490, 0.11791695043757106),\n",
       " (702, 0.11784057431702578),\n",
       " (914, 0.11769797726729993),\n",
       " (377, 0.11750431922377598),\n",
       " (586, 0.11744296397260497),\n",
       " (69, 0.11736737366749937),\n",
       " (921, 0.11684135803170594),\n",
       " (308, 0.11668073159554375),\n",
       " (11, 0.11645817219155631),\n",
       " (675, 0.1164485631390223),\n",
       " (731, 0.11639753904947558),\n",
       " (231, 0.1162584050094127),\n",
       " (119, 0.11621274525999438),\n",
       " (360, 0.11612372227043205),\n",
       " (741, 0.11609539092457233),\n",
       " (332, 0.1159542071304897),\n",
       " (550, 0.11585999965001012),\n",
       " (478, 0.11570662202023399),\n",
       " (894, 0.11569740478008136),\n",
       " (810, 0.1156012450037043),\n",
       " (578, 0.11538564035485498),\n",
       " (551, 0.11517155255313077),\n",
       " (291, 0.11512167277850913),\n",
       " (257, 0.11508989047062317),\n",
       " (436, 0.1150800110860416),\n",
       " (803, 0.11489745874019774),\n",
       " (146, 0.11477500645928249),\n",
       " (294, 0.11476644597596637),\n",
       " (663, 0.11473235192346842),\n",
       " (878, 0.11469607723722464),\n",
       " (778, 0.11460209663437836),\n",
       " (625, 0.11441353532847713),\n",
       " (636, 0.11436225143872603),\n",
       " (694, 0.11418228402410949),\n",
       " (397, 0.11377146585482242),\n",
       " (434, 0.11368436412386773),\n",
       " (845, 0.11362180395523858),\n",
       " (264, 0.11362132575716151),\n",
       " (43, 0.11336310348013234),\n",
       " (895, 0.11321521969061839),\n",
       " (220, 0.11274284079371688),\n",
       " (289, 0.11236788467179509),\n",
       " (159, 0.11236369831487034),\n",
       " (157, 0.11224816800610803),\n",
       " (905, 0.11224474687703237),\n",
       " (326, 0.1120085886886618),\n",
       " (139, 0.11196709354372847),\n",
       " (203, 0.11191907753901596),\n",
       " (382, 0.1116356036572082),\n",
       " (427, 0.11159844288435415),\n",
       " (392, 0.11139835754042997),\n",
       " (780, 0.11130490609009033),\n",
       " (464, 0.11126543548766582),\n",
       " (503, 0.11114229324472963),\n",
       " (101, 0.11111285046993138),\n",
       " (577, 0.11096671714353054),\n",
       " (346, 0.11086969793212798),\n",
       " (352, 0.1108027174089952),\n",
       " (240, 0.11079724299679156),\n",
       " (68, 0.11077402738559959),\n",
       " (652, 0.11054593484052416),\n",
       " (720, 0.11051058556218332),\n",
       " (640, 0.11026356928399428),\n",
       " (158, 0.11024010375476723),\n",
       " (498, 0.11004987328922561),\n",
       " (553, 0.11002923039700205),\n",
       " (415, 0.10993658488051077),\n",
       " (487, 0.1096580860735813),\n",
       " (839, 0.10964956853934277),\n",
       " (870, 0.10953669703326116),\n",
       " (351, 0.10951417936380464),\n",
       " (726, 0.10937546214040196),\n",
       " (922, 0.10924222834999688),\n",
       " (879, 0.1091882682437904),\n",
       " (256, 0.10910894511799618),\n",
       " (754, 0.1087497799695064),\n",
       " (13, 0.10863270347942025),\n",
       " (402, 0.10854161258061727),\n",
       " (129, 0.10819881289891269),\n",
       " (98, 0.10812209485716179),\n",
       " (44, 0.10801733203835946),\n",
       " (508, 0.10790831687943253),\n",
       " (148, 0.10786486151636514),\n",
       " (462, 0.10781122878058053),\n",
       " (209, 0.10767786665883515),\n",
       " (793, 0.10733469768527297),\n",
       " (847, 0.10732748556828398),\n",
       " (806, 0.1073208507268608),\n",
       " (722, 0.10715847905110418),\n",
       " (192, 0.10713498449086499),\n",
       " (808, 0.10710301967832969),\n",
       " (799, 0.10668430189315184),\n",
       " (513, 0.10667362043301762),\n",
       " (580, 0.10657197808460728),\n",
       " (855, 0.10632132878250058),\n",
       " (124, 0.10629385816947234),\n",
       " (366, 0.1062730718263939),\n",
       " (559, 0.10614280110863891),\n",
       " (587, 0.10602800430673545),\n",
       " (91, 0.10602713088456138),\n",
       " (644, 0.1058092277632275),\n",
       " (344, 0.10564771737160454),\n",
       " (250, 0.10547347837258902),\n",
       " (601, 0.10540058075099246),\n",
       " (72, 0.10471705288473485),\n",
       " (181, 0.104679473669828),\n",
       " (930, 0.10450320243693749),\n",
       " (36, 0.10432610355963595),\n",
       " (255, 0.10422125006694768),\n",
       " (877, 0.1038843488572929),\n",
       " (228, 0.10387112586860117),\n",
       " (504, 0.10380548765474729),\n",
       " (592, 0.10372528763885465),\n",
       " (486, 0.10329498746146816),\n",
       " (849, 0.10322058954755539),\n",
       " (306, 0.10320708050448635),\n",
       " (642, 0.10320350048648855),\n",
       " (184, 0.1029961342843051),\n",
       " (753, 0.10299585852454027),\n",
       " (620, 0.10282278962119154),\n",
       " (618, 0.10270647858239274),\n",
       " (393, 0.1026913866414729),\n",
       " (801, 0.10266484153015164),\n",
       " (547, 0.10242859861109138),\n",
       " (766, 0.10238162763464757),\n",
       " (629, 0.10234263253605741),\n",
       " (574, 0.10221150472031854),\n",
       " (737, 0.10217160883149745),\n",
       " (195, 0.10204348038106954),\n",
       " (386, 0.10188888811182704),\n",
       " (648, 0.10188313829045652),\n",
       " (784, 0.10156483065374602),\n",
       " (786, 0.10149360758664747),\n",
       " (174, 0.1014802293150521),\n",
       " (3, 0.10128355573642733),\n",
       " (177, 0.10101952417876656),\n",
       " (484, 0.10077890294182854),\n",
       " (236, 0.10059697003136149),\n",
       " (898, 0.10059672464267329),\n",
       " (266, 0.10050103874172858),\n",
       " (628, 0.10034638985033739),\n",
       " (50, 0.10030084083082147),\n",
       " (104, 0.10028694463571923),\n",
       " (331, 0.10010934311095995),\n",
       " (249, 0.0999987375570466),\n",
       " (474, 0.09960238411119947),\n",
       " (147, 0.0995431622907428),\n",
       " (744, 0.09946673820436974),\n",
       " (399, 0.09909806500176052),\n",
       " (422, 0.09908763966219124),\n",
       " (269, 0.09906455529633448),\n",
       " (818, 0.09899318950283525),\n",
       " (748, 0.09844114853910567),\n",
       " (632, 0.0981726393803134),\n",
       " (662, 0.09796107329999079),\n",
       " (556, 0.09790693230031694),\n",
       " (125, 0.09774652705428098),\n",
       " (149, 0.09771071235928816),\n",
       " (683, 0.09768798378956722),\n",
       " (912, 0.09762379300031239),\n",
       " (440, 0.09759000729485333),\n",
       " (770, 0.09754523096430408),\n",
       " (126, 0.09736946462358476),\n",
       " (700, 0.09736722188851003),\n",
       " (465, 0.09730738815538785),\n",
       " (597, 0.09718701861963733),\n",
       " (93, 0.09705725231522705),\n",
       " (535, 0.09667041629936926),\n",
       " (781, 0.09642655915350389),\n",
       " (106, 0.09610646805481118),\n",
       " (834, 0.09610329791561985),\n",
       " (362, 0.09609394114286345),\n",
       " (576, 0.09595465432027937),\n",
       " (500, 0.09587329130304717),\n",
       " (277, 0.09581113101598278),\n",
       " (545, 0.09566817981791731),\n",
       " (354, 0.09559213385872437),\n",
       " (681, 0.09556971508079523),\n",
       " (756, 0.09542709656423813),\n",
       " (785, 0.09542374472273957),\n",
       " (414, 0.09515860720790717),\n",
       " (262, 0.09497603037108246),\n",
       " (906, 0.0949154757036797),\n",
       " (54, 0.09485073218054449),\n",
       " (265, 0.09485073218054449),\n",
       " (258, 0.09482485500031804),\n",
       " (826, 0.09468585041251869),\n",
       " (554, 0.0945675541378937),\n",
       " (182, 0.09433643764681485),\n",
       " (381, 0.094328061843926),\n",
       " (899, 0.09430030951071364),\n",
       " (704, 0.09426126843912258),\n",
       " (909, 0.09411540655263033),\n",
       " (762, 0.09402056627145257),\n",
       " (749, 0.09389529557231419),\n",
       " (860, 0.09378279199245776),\n",
       " (56, 0.09359493665088708),\n",
       " (902, 0.09357126740764438),\n",
       " (769, 0.09325544870329083),\n",
       " (79, 0.09315433845722246),\n",
       " (718, 0.09314868876402499),\n",
       " (40, 0.09307704228563293),\n",
       " (533, 0.09305765157615668),\n",
       " (113, 0.09285700473473006),\n",
       " (494, 0.09271050693011065),\n",
       " (660, 0.09267662626150525),\n",
       " (505, 0.09255519467306822),\n",
       " (882, 0.09252104019657813),\n",
       " (941, 0.09249699832236814),\n",
       " (330, 0.09225966427353567),\n",
       " (227, 0.09221388919541469),\n",
       " (409, 0.09216889583377277),\n",
       " (874, 0.09216489288984453),\n",
       " (336, 0.09197090092274487),\n",
       " (805, 0.09192771195538435),\n",
       " (329, 0.0918729349114838),\n",
       " (28, 0.09150509225582346),\n",
       " (773, 0.0914921086733629),\n",
       " (630, 0.0913497685808794),\n",
       " (46, 0.09115696157137412),\n",
       " (190, 0.09107651110783745),\n",
       " (205, 0.09103308136376878),\n",
       " (496, 0.0909895413065657),\n",
       " (319, 0.09070622620636024),\n",
       " (610, 0.09068880415449279),\n",
       " (708, 0.09065031451713812),\n",
       " (520, 0.09052571938032017),\n",
       " (719, 0.09047003992194559),\n",
       " (911, 0.09042209656822657),\n",
       " (872, 0.09016045767911857),\n",
       " (693, 0.0898980923615092),\n",
       " (108, 0.08981225863534198),\n",
       " (243, 0.08978514682103313),\n",
       " (222, 0.08968006477422644),\n",
       " (285, 0.08950889247249891),\n",
       " (721, 0.08930260179724586),\n",
       " (497, 0.08895370899036245),\n",
       " (207, 0.08884954985607484),\n",
       " (885, 0.08883573495845849),\n",
       " (467, 0.08873860610097956),\n",
       " (867, 0.08866875726947693),\n",
       " (514, 0.08849724372251917),\n",
       " (317, 0.08846562812837507),\n",
       " (811, 0.08843441924261104),\n",
       " (443, 0.08842783317525932),\n",
       " (776, 0.0883114320872396),\n",
       " (305, 0.08826345358238595),\n",
       " (189, 0.08802376962713233),\n",
       " (932, 0.08796862517440386),\n",
       " (373, 0.08784242150563554),\n",
       " (337, 0.08776845954004404),\n",
       " (581, 0.08759782004172616),\n",
       " (378, 0.08756907900226739),\n",
       " (836, 0.0871131037654898),\n",
       " (823, 0.08707154319342925),\n",
       " (272, 0.08704294513818225),\n",
       " (876, 0.0870179026672982),\n",
       " (385, 0.0870156557287864),\n",
       " (187, 0.0864938623834604),\n",
       " (528, 0.08630780465559658),\n",
       " (7, 0.0859419469006961),\n",
       " (387, 0.08580513288945624),\n",
       " (588, 0.08551564283841889),\n",
       " (809, 0.08550991691962051),\n",
       " (372, 0.08546731981167172),\n",
       " (502, 0.08531822853994192),\n",
       " (85, 0.08522789688037333),\n",
       " (123, 0.08482492584331949),\n",
       " (196, 0.08463806889631964),\n",
       " (563, 0.08434347122457898),\n",
       " (15, 0.0843069773289247),\n",
       " (562, 0.08426956189599764),\n",
       " (910, 0.08421579084747619),\n",
       " (144, 0.08353336576705608),\n",
       " (145, 0.0832343037875563),\n",
       " (480, 0.08306878848689715),\n",
       " (136, 0.08306878848689714),\n",
       " (710, 0.08305460479735399),\n",
       " (211, 0.08293932009372915),\n",
       " (66, 0.08290002949476112),\n",
       " (603, 0.08264463103608283),\n",
       " (63, 0.08252848706445769),\n",
       " (64, 0.08245803513977684),\n",
       " (543, 0.08238858408710995),\n",
       " (606, 0.0823317199904776),\n",
       " (933, 0.08219872494099262),\n",
       " (927, 0.08194560132066767),\n",
       " (234, 0.08174730272130777),\n",
       " (510, 0.08161778237104533),\n",
       " (245, 0.08160759568340334),\n",
       " (445, 0.08156242034923777),\n",
       " (703, 0.08149715263166503),\n",
       " (410, 0.0814835345064508),\n",
       " (441, 0.08143215369610397),\n",
       " (573, 0.08139168064509689),\n",
       " (88, 0.0813420102772246),\n",
       " (223, 0.08123522641793512),\n",
       " (21, 0.08115849976130822),\n",
       " (455, 0.08101106488277295),\n",
       " (18, 0.0809312376595744),\n",
       " (509, 0.0809312376595744),\n",
       " (712, 0.0806477838545512),\n",
       " (114, 0.08056063158257329),\n",
       " (116, 0.08053850012067162),\n",
       " (260, 0.08043011062666638),\n",
       " (281, 0.08009158560526305),\n",
       " (133, 0.07983435563777137),\n",
       " (590, 0.07978373724397776),\n",
       " (77, 0.07973661509306258),\n",
       " (495, 0.07969261650307809),\n",
       " (482, 0.07968190728895957),\n",
       " (57, 0.07903210106894339),\n",
       " (745, 0.07890716005755292),\n",
       " (864, 0.07879518167604371),\n",
       " (168, 0.07844947140066216),\n",
       " (926, 0.07840368489700764),\n",
       " (594, 0.07829586907788355),\n",
       " (0, 0.07813836852031401),\n",
       " (170, 0.07813453848974926),\n",
       " (138, 0.07807200583588267),\n",
       " (247, 0.07802347299154491),\n",
       " (71, 0.07792755535497577),\n",
       " (789, 0.07785407259377056),\n",
       " (483, 0.07748894809210784),\n",
       " (916, 0.07746852097537738),\n",
       " (278, 0.07740081200988663),\n",
       " (846, 0.07711657526682775),\n",
       " (825, 0.07672136804845313),\n",
       " (674, 0.07644707871564384),\n",
       " (283, 0.07624229110233915),\n",
       " (711, 0.07621894676761733),\n",
       " (376, 0.07608766403695746),\n",
       " (890, 0.07603347561556646),\n",
       " (865, 0.07574453546558527),\n",
       " (86, 0.07574170736541568),\n",
       " (435, 0.07562791563434815),\n",
       " (942, 0.07561702097571459),\n",
       " (740, 0.07547451405772089),\n",
       " (309, 0.07531578378532726),\n",
       " (52, 0.07521192391543297),\n",
       " (87, 0.07510332699033223),\n",
       " (794, 0.07491087340880066),\n",
       " (816, 0.07486532334331696),\n",
       " (290, 0.07485178779202342),\n",
       " (919, 0.07475710226208838),\n",
       " (345, 0.07459692580360955),\n",
       " (477, 0.07448212654115885),\n",
       " (676, 0.07435153318334481),\n",
       " (730, 0.07432633605200968),\n",
       " (472, 0.07390156435187015),\n",
       " (549, 0.07389072253621766),\n",
       " (530, 0.07384147008606412),\n",
       " (828, 0.07377111135633176),\n",
       " (471, 0.0737092849134315),\n",
       " (224, 0.0735767207381959),\n",
       " (109, 0.07356123579206247),\n",
       " (273, 0.07356004547117319),\n",
       " (714, 0.0734883042737943),\n",
       " (531, 0.07311048868174837),\n",
       " (637, 0.0728292649884324),\n",
       " (886, 0.07278183272712976),\n",
       " (651, 0.0725945872529487),\n",
       " (673, 0.07244179326244428),\n",
       " (314, 0.07241927960226738),\n",
       " (851, 0.0723905517089515),\n",
       " (843, 0.07221189172021501),\n",
       " (394, 0.071925006928776),\n",
       " (616, 0.07188645157519946),\n",
       " (614, 0.07185757571479555),\n",
       " (364, 0.07165283751078846),\n",
       " (822, 0.07155257483577804),\n",
       " (437, 0.07140775587474794),\n",
       " (699, 0.07126586376526285),\n",
       " (347, 0.07125003910288602),\n",
       " (690, 0.07106524382605126),\n",
       " (646, 0.07097217162099968),\n",
       " (261, 0.07069595132934194),\n",
       " (639, 0.07055138676125071),\n",
       " (641, 0.0704900994565655),\n",
       " (813, 0.07026513786911891),\n",
       " (178, 0.07025251213822357),\n",
       " (682, 0.06996502622814414),\n",
       " (852, 0.0698845904432226),\n",
       " (542, 0.06940939972962137),\n",
       " (772, 0.06940110778271402),\n",
       " (908, 0.06934599013157061),\n",
       " (335, 0.06898104990640636),\n",
       " (263, 0.06886098040289274),\n",
       " (857, 0.06855447255415502),\n",
       " (645, 0.06800785556222065),\n",
       " (707, 0.06784387368800589),\n",
       " (413, 0.06772299894721576),\n",
       " (111, 0.06736330697086078),\n",
       " (425, 0.06694889383192015),\n",
       " (180, 0.06685534935826755),\n",
       " (817, 0.06647843099684919),\n",
       " (284, 0.06646181064577711),\n",
       " (516, 0.06612118278629663),\n",
       " (185, 0.06598416808862204),\n",
       " (626, 0.06593046433140694),\n",
       " (619, 0.06582952828595189),\n",
       " (558, 0.0658198998744093),\n",
       " (10, 0.06572097037136476),\n",
       " (404, 0.06559594622912988),\n",
       " (827, 0.06532037161687676),\n",
       " (282, 0.0652175379845495),\n",
       " (684, 0.06508140266182866),\n",
       " (142, 0.06506000486323554),\n",
       " (819, 0.06506000486323554),\n",
       " (14, 0.06490612250874743),\n",
       " (371, 0.0647626251417455),\n",
       " (666, 0.06447911196267095),\n",
       " (96, 0.06419407387663693),\n",
       " (904, 0.06419249931541136),\n",
       " (548, 0.06402683747943308),\n",
       " (166, 0.06396766611994929),\n",
       " (653, 0.06386681803858527),\n",
       " (398, 0.0637531987667325),\n",
       " (897, 0.06351294560527146),\n",
       " (571, 0.06339152176074699),\n",
       " (738, 0.06334698960087035),\n",
       " (137, 0.06319186292855553),\n",
       " (100, 0.06311747577748679),\n",
       " (368, 0.06307823929836597),\n",
       " (755, 0.06296817133682507),\n",
       " (887, 0.06291025434153896),\n",
       " (132, 0.06250100886998498),\n",
       " (141, 0.06223144237819225),\n",
       " (524, 0.06220926330877913),\n",
       " (783, 0.06206458076347184),\n",
       " (365, 0.06197797868009122),\n",
       " (751, 0.06170781893462127),\n",
       " (791, 0.06153326029925701),\n",
       " (761, 0.06147592613027645),\n",
       " (900, 0.061346889572455536),\n",
       " (655, 0.06131951784122239),\n",
       " (339, 0.06130646529216234),\n",
       " (725, 0.06123341660063096),\n",
       " (685, 0.06108605124816242),\n",
       " (2, 0.06103999975584001),\n",
       " (782, 0.0607701334418564),\n",
       " (201, 0.060498603733458806),\n",
       " (244, 0.06029130785594831),\n",
       " (917, 0.06003337493395452),\n",
       " (815, 0.05960640703966016),\n",
       " (80, 0.059059089225663323),\n",
       " (804, 0.05889733634903905),\n",
       " (512, 0.058827600666876464),\n",
       " (214, 0.05874753727870222),\n",
       " (634, 0.05848094882210441),\n",
       " (835, 0.05797120408890648),\n",
       " (488, 0.05776512075833681),\n",
       " (448, 0.05753043850805817),\n",
       " (420, 0.057466996911850865),\n",
       " (820, 0.057441901917892016),\n",
       " (881, 0.05692774761170268),\n",
       " (370, 0.05689590419502481),\n",
       " (4, 0.05684699579437819),\n",
       " (274, 0.05681315524143811),\n",
       " (447, 0.05679347335988687),\n",
       " (230, 0.05643775842930798),\n",
       " (403, 0.0557960469735958),\n",
       " (334, 0.05560706744010879),\n",
       " (858, 0.05540916385036407),\n",
       " (859, 0.055274380960762794),\n",
       " (117, 0.05518835015944852),\n",
       " (695, 0.055108339272175684),\n",
       " (774, 0.054892757767488046),\n",
       " (583, 0.05446943046121671),\n",
       " (884, 0.054438275467415954),\n",
       " (723, 0.054393781569121995),\n",
       " (929, 0.05430396380067949),\n",
       " (840, 0.054283729088493424),\n",
       " (920, 0.05376227537086732),\n",
       " (546, 0.053721530935025366),\n",
       " (450, 0.05326184382372004),\n",
       " (216, 0.05318177004515988),\n",
       " (507, 0.05298408299193772),\n",
       " (51, 0.05272974305220391),\n",
       " (612, 0.0523498508512994),\n",
       " (848, 0.052110481280620305),\n",
       " (585, 0.05180183891584515),\n",
       " (540, 0.05133212492399852),\n",
       " (557, 0.051011113981903326),\n",
       " (355, 0.05042786779809512),\n",
       " (439, 0.050421531124446355),\n",
       " (389, 0.050240380279899924),\n",
       " (615, 0.050136557407488486),\n",
       " (350, 0.05006105099285599),\n",
       " (383, 0.04986616428421422),\n",
       " (522, 0.049699035656630836),\n",
       " (767, 0.04933279302474951),\n",
       " (689, 0.049253182747733895),\n",
       " (475, 0.0486526746996737),\n",
       " (934, 0.04863960515198084),\n",
       " (599, 0.048636449195245623),\n",
       " (165, 0.04862703411748114),\n",
       " (288, 0.04832535841951666),\n",
       " (517, 0.04804999801042981),\n",
       " (841, 0.04790505047653036),\n",
       " (419, 0.047847437646934554),\n",
       " (280, 0.0476543951787479),\n",
       " (210, 0.047506072257940506),\n",
       " (49, 0.04728662437434604),\n",
       " (242, 0.04647060880613073),\n",
       " (800, 0.04565067993485004),\n",
       " (313, 0.04532221996098222),\n",
       " (348, 0.045159269713677876),\n",
       " (163, 0.044998478224959546),\n",
       " (162, 0.04470943862227501),\n",
       " (37, 0.04386344633065127),\n",
       " (38, 0.04291225536129251),\n",
       " (171, 0.04268673604765691),\n",
       " (544, 0.0425715036797906),\n",
       " (598, 0.042285251164071),\n",
       " (541, 0.04224549069344094),\n",
       " (521, 0.040452359498188845),\n",
       " (152, 0.0401188709901439),\n",
       " (938, 0.03985158215037635),\n",
       " (671, 0.03969420930187224),\n",
       " (584, 0.039655919716331894),\n",
       " (727, 0.03929179562946401),\n",
       " (167, 0.03903600291794133),\n",
       " (241, 0.03869885654126615),\n",
       " (426, 0.038015669486758795),\n",
       " (797, 0.03746800787744242),\n",
       " (356, 0.037075199888003244),\n",
       " (253, 0.03604842392826673),\n",
       " (470, 0.035503580124836315),\n",
       " (369, 0.03548727537994666),\n",
       " (856, 0.034992710611188256),\n",
       " (728, 0.03433204476143503),\n",
       " (318, 0.03426613922600515),\n",
       " (299, 0.03374996704106391),\n",
       " (48, 0.03371637940589879),\n",
       " (60, 0.03335557780249798),\n",
       " (771, 0.03329001514305916),\n",
       " (759, 0.03309879509339473),\n",
       " (340, 0.03223291856101521),\n",
       " (169, 0.03218419152096939),\n",
       " (611, 0.03218419152096939),\n",
       " (518, 0.03203548935160373),\n",
       " (19, 0.031943828249997),\n",
       " (32, 0.031896398634750175),\n",
       " (361, 0.031849179661954816),\n",
       " (105, 0.03184729526236366),\n",
       " (134, 0.03034354676197872),\n",
       " (777, 0.030297814186234107),\n",
       " (254, 0.029961286005318652),\n",
       " (903, 0.029593117441231685),\n",
       " (476, 0.02942449431682499),\n",
       " (501, 0.029167827157413045),\n",
       " (691, 0.027330668723026266),\n",
       " (155, 0.025244423833367727),\n",
       " (608, 0.025041607547511602),\n",
       " (34, 0.024838013864164066),\n",
       " (92, 0.024541724765593954),\n",
       " (30, 0.024209101306752103),\n",
       " (812, 0.023625663731277804),\n",
       " (871, 0.01985166667941861),\n",
       " (74, 0.018581551638282148),\n",
       " (301, 0.01655495276697644),\n",
       " (701, 0.015248438639820833),\n",
       " (179, 0.014834117831675327),\n",
       " (217, 0.014517645693712795),\n",
       " (433, 0.0074249976825889775),\n",
       " (35, 0.0),\n",
       " (97, 0.0),\n",
       " (121, 0.0),\n",
       " (164, 0.0),\n",
       " (186, 0.0),\n",
       " (218, 0.0),\n",
       " (259, 0.0),\n",
       " (316, 0.0),\n",
       " (357, 0.0),\n",
       " (374, 0.0),\n",
       " (375, 0.0),\n",
       " (395, 0.0),\n",
       " (417, 0.0),\n",
       " (461, 0.0),\n",
       " (564, 0.0),\n",
       " (570, 0.0),\n",
       " (635, 0.0),\n",
       " (687, 0.0),\n",
       " (717, 0.0),\n",
       " (736, 0.0),\n",
       " (768, 0.0),\n",
       " (821, 0.0),\n",
       " (854, 0.0),\n",
       " (883, 0.0),\n",
       " (924, 0.0)]"
      ]
     },
     "execution_count": 66,
     "metadata": {},
     "output_type": "execute_result"
    }
   ],
   "source": [
    "sorted(list(zip(np.arange(user_similarity_cos.shape[0]),\n",
    "                user_similarity_cos[8,:])), key=lambda x:x[1], reverse=True)"
   ]
  },
  {
   "cell_type": "markdown",
   "metadata": {},
   "source": [
    "#### Solution (double click)\n",
    "\n",
    "<span style=\"color:white;font-family:'Courier New'\"><br/>\n",
    "sorted(zip(np.arange(user_similarity_cos.shape[0]), user_similarity_cos[8]), \n",
    "       key=lambda x: x[1], reverse=True)[:4]\n",
    "</span>"
   ]
  },
  {
   "cell_type": "markdown",
   "metadata": {},
   "source": [
    "### KNN with means\n",
    "\n",
    "In the kNN with means model, we look at either the $k$ most similar users or items and predict based on\n",
    "\n",
    "- user similarity:\n",
    "\n",
    "$$\n",
    "\\hat{r}_{ui} = \\mu_u+\\frac{\\sum_{v \\in N_i^k(u)}{\\rm sim}(u,v)(r_{vi}-\\mu_v)}{\\sum_{v \\in N_i^k(u)}{\\rm sim}(u,v)}\n",
    "$$\n",
    "\n",
    "- item similarity:\n",
    "\n",
    "\n",
    "$$\n",
    "\\hat{r}_{ui} = \\mu_i+\\frac{\\sum_{j \\in N_u^k(i)}{\\rm sim}(i,j)(r_{uj}-\\mu_j)}{\\sum_{j \\in N_u^k(i)}{\\rm sim}(i,j)}\n",
    "$$\n",
    "\n",
    "Here $N_i^k(u)$ denotes the $k$ most similar users to user $u$ who rated item $i$."
   ]
  },
  {
   "cell_type": "markdown",
   "metadata": {},
   "source": [
    "<font color=red>\n",
    "Above - the sum is the sum of most similar users to filter for the nearest users (it's subscript, note), after that we sort by similarity, the sim() dictates how much contribution each (r - mu) makes to our user, and the denominator ensures we normalize the sim() functions for our nearest neighbours in this formula."
   ]
  },
  {
   "cell_type": "markdown",
   "metadata": {},
   "source": [
    "#### Example\n",
    "\n",
    "As an example, let's take user similarity (e.g. correlation similarity) and we consider the two nearest neighbors of user $1$.\n",
    "\n",
    "Let's say we have \n",
    "\n",
    "$\\mu_1 = 3$, $\\mu_2 = 2$, $\\mu_3 = 4$,\n",
    "${\\rm sim}(1,2)=0.8$, ${\\rm sim}(1,3)=0.5$, \n",
    "\n",
    "and want to predict for item $1$ with \n",
    "\n",
    "$r_{21}=3.2$ and $r_{31}=3.8$.\n",
    "\n",
    "Then we obtain\n",
    "\n",
    "$$\n",
    "r_{11} = 3 +\\frac{0.8(3.2-2)+0.5(3.8-4)}{0.8+0.5}\n",
    "= 3+\\frac{0.8\\cdot1.2+0.5\\cdot(-0.2)}{1.3}\n",
    "\\approx 3.66\n",
    "$$"
   ]
  },
  {
   "cell_type": "markdown",
   "metadata": {},
   "source": [
    "#### What would we predict for the rating given by user 8 for film 1 with this model with $k=3$ and using cosine similarity?"
   ]
  },
  {
   "cell_type": "code",
   "execution_count": 92,
   "metadata": {
    "ExecuteTime": {
     "end_time": "2020-03-03T10:19:50.022585Z",
     "start_time": "2020-03-03T10:19:50.013984Z"
    }
   },
   "outputs": [],
   "source": [
    "sim = sorted(list(zip(np.arange(user_similarity_cos.shape[0]),\n",
    "                user_similarity_cos[8,:])), key=lambda x:x[1], reverse=True)[1:4]"
   ]
  },
  {
   "cell_type": "code",
   "execution_count": 109,
   "metadata": {
    "ExecuteTime": {
     "end_time": "2020-03-03T10:31:38.712926Z",
     "start_time": "2020-03-03T10:31:38.700415Z"
    }
   },
   "outputs": [],
   "source": [
    "mu_8 = rui[8].mean(axis=1)[0,0]\n",
    "mu_734 = rui[734].mean(axis=1)[0,0]\n",
    "mu_796 = rui[796].mean(axis=1)[0,0]\n",
    "mu_432 = rui[432].mean(axis=1)[0,0]\n",
    "\n",
    "mu_734_1 = rui[734,1]\n",
    "mu_796_1 = rui[796,1]\n",
    "mu_432_1 = rui[432,1]"
   ]
  },
  {
   "cell_type": "code",
   "execution_count": 110,
   "metadata": {
    "ExecuteTime": {
     "end_time": "2020-03-03T10:31:39.273700Z",
     "start_time": "2020-03-03T10:31:39.263165Z"
    }
   },
   "outputs": [
    {
     "data": {
      "text/plain": [
       "-0.021444190262794885"
      ]
     },
     "execution_count": 110,
     "metadata": {},
     "output_type": "execute_result"
    }
   ],
   "source": [
    "r = ((sim[0][1]*(mu_734_1-mu_734)) + (sim[1][1]*(mu_796_1-mu_796)) + (sim[2][1]*(mu_432_1-mu_432))) / (sim[0][1]+sim[1][1]+sim[2][1])\n",
    "r = r + mu_8\n",
    "r"
   ]
  },
  {
   "cell_type": "markdown",
   "metadata": {},
   "source": [
    "#### Solution (double click)\n",
    "\n",
    "<span style=\"color:white;font-family:'Courier New'\"><br/>\n",
    "def k_with_means(user_predict, item_predict, rui_np, similarities, k=3):\n",
    "    user_mean = (rui_np[user_predict][rui_np[user_predict]>0]).mean()   \n",
    "    users_who_rated = np.arange(rui_np.shape[0])[rui_np[:, item_predict]>0]\n",
    "    user_similarities = similarities[user_predict][rui_np[:, item_predict]>0]\n",
    "    most_similar_users = sorted(list(zip(users_who_rated, user_similarities)), \n",
    "                            key=lambda x: x[1], reverse=True)[:k]\n",
    "    similarities = np.array([sim for user, sim in most_similar_users ])\n",
    "    user_deviations = []\n",
    "    for user, sim in most_similar_users:\n",
    "        r_vi = rui_np[user, item_predict]\n",
    "        user_mean_v = (rui_np[user][rui_np[user]>0]).mean()\n",
    "        user_deviations.append(r_vi - user_mean_v)        \n",
    "    user_deviations = np.array(user_deviations)\n",
    "    prediction = user_mean + np.dot(similarities, user_deviations)/similarities.sum()    \n",
    "    return prediction\n",
    "k_with_means(10, 1, rui_np, user_similarity_cos)\n",
    "</span>"
   ]
  },
  {
   "cell_type": "markdown",
   "metadata": {},
   "source": [
    "### Singular Value decomposition\n",
    "\n",
    "Singular value decomposition is related to principal component analysis. It makes use of the spectral theorem that every matrix $X$ of shape $n\\times p$ can be written as a dot product of three matrices\n",
    "\n",
    "$$\n",
    "X = U \\Sigma V^T\n",
    "$$\n",
    "\n",
    "where $U$ is of shape $n\\times n$, $V$ is of shape $p\\times p$ and $\\Sigma$ of shape $n\\times p$ is a diagonal matrix with the so-called singular values on its diagonal (which are simply the square roots of the eigenvalues of $X^T X$). Both $U$ and $V$ are orthogonal matrices (which means their inverse is their transpose).\n",
    "\n",
    "In the same way as for principal component analysis, we can reduce the dimensionality by restricting to the components with the $K$ largest singular values.\n",
    "\n",
    "This is what we are going to do with the user-item matrix. As it is very sparse anyway, we can expect that we won't loose too much information in this way and that we will somehow extract the main tastes and item attributes in this way.\n",
    "\n",
    "That is whereas the rating matrix can be exactly written as\n",
    "\n",
    "$$\n",
    "R = U\\Sigma V^T\n",
    "$$\n",
    "\n",
    "we can approximate it by choosing $\\Sigma$ of shape $K\\times K$ where $K<{\\rm min}(n,p)$ as\n",
    "\n",
    "$$\n",
    "\\hat{R} = U\\Sigma_K V^T\n",
    "$$\n",
    "\n",
    "Not restricting $K$ will lead to perfect predictions on the training set.\n",
    "    "
   ]
  },
  {
   "cell_type": "code",
   "execution_count": 114,
   "metadata": {
    "ExecuteTime": {
     "end_time": "2020-03-03T10:35:29.962246Z",
     "start_time": "2020-03-03T10:35:29.944580Z"
    }
   },
   "outputs": [
    {
     "data": {
      "text/plain": [
       "array([[5, 3, 4, ..., 0, 0, 0],\n",
       "       [4, 0, 0, ..., 0, 0, 0],\n",
       "       [0, 0, 0, ..., 0, 0, 0],\n",
       "       ...,\n",
       "       [5, 0, 0, ..., 0, 0, 0],\n",
       "       [0, 0, 0, ..., 0, 0, 0],\n",
       "       [0, 5, 0, ..., 0, 0, 0]], dtype=int64)"
      ]
     },
     "execution_count": 114,
     "metadata": {},
     "output_type": "execute_result"
    }
   ],
   "source": [
    "rui.toarray()"
   ]
  },
  {
   "cell_type": "code",
   "execution_count": 111,
   "metadata": {
    "ExecuteTime": {
     "end_time": "2020-03-03T10:33:33.335588Z",
     "start_time": "2020-03-03T10:33:31.689660Z"
    }
   },
   "outputs": [
    {
     "data": {
      "text/plain": [
       "array([[ 42.1564507 ,   1.46291293,  -1.33595403, ...,  -0.48203049,\n",
       "         -1.21503318,  -0.44045694],\n",
       "       [  8.98235172, -11.41574521,  11.45404014, ...,  -0.52471985,\n",
       "         -0.48827217,  -1.35483597],\n",
       "       [  3.62469291,  -6.27232708,   5.0892863 , ...,   0.21031691,\n",
       "         -0.64066998,   0.2019113 ],\n",
       "       ...,\n",
       "       [  4.7692106 ,  -6.12612044,   1.34309272, ...,   0.34621277,\n",
       "         -0.20205645,   0.07127941],\n",
       "       [ 15.39518576,   1.98222287,   4.9859243 , ...,  -0.72657371,\n",
       "          1.19350161,   0.10878398],\n",
       "       [ 27.06170408,  -2.67536312, -12.75403477, ...,   1.49812144,\n",
       "          0.49196481,   0.67048903]])"
      ]
     },
     "execution_count": 111,
     "metadata": {},
     "output_type": "execute_result"
    }
   ],
   "source": [
    "from sklearn.decomposition import TruncatedSVD\n",
    "\n",
    "svd = TruncatedSVD(n_components=400)\n",
    "rui_transformed = svd.fit_transform(rui)\n",
    "rui_transformed"
   ]
  },
  {
   "cell_type": "code",
   "execution_count": 112,
   "metadata": {
    "ExecuteTime": {
     "end_time": "2020-03-03T10:33:40.966289Z",
     "start_time": "2020-03-03T10:33:40.893160Z"
    }
   },
   "outputs": [
    {
     "data": {
      "text/plain": [
       "array([[ 5.00661922e+00,  2.78508281e+00,  3.71003854e+00, ...,\n",
       "         8.08042136e-03, -2.17981699e-02,  5.08466724e-02],\n",
       "       [ 3.87682885e+00,  4.18804692e-01,  4.72060139e-01, ...,\n",
       "        -2.23969161e-02, -3.15176986e-02,  8.75823898e-03],\n",
       "       [ 5.06002608e-02, -2.65507023e-01, -1.23137426e-02, ...,\n",
       "         4.59248352e-02,  1.65672164e-02, -5.06127344e-03],\n",
       "       ...,\n",
       "       [ 4.98463905e+00, -2.40370552e-01, -4.24409565e-02, ...,\n",
       "        -1.90478390e-03,  4.27688361e-02, -2.43394567e-03],\n",
       "       [-5.08324039e-02,  5.12403334e-01,  9.77093759e-03, ...,\n",
       "        -5.14523293e-02,  2.63820205e-03, -2.38106342e-02],\n",
       "       [-2.36494159e-02,  4.89198412e+00,  1.67587796e-01, ...,\n",
       "         3.56822619e-02,  9.35382889e-02, -1.23836765e-02]])"
      ]
     },
     "execution_count": 112,
     "metadata": {},
     "output_type": "execute_result"
    }
   ],
   "source": [
    "rui_predicted = svd.inverse_transform(rui_transformed)\n",
    "rui_predicted"
   ]
  },
  {
   "cell_type": "code",
   "execution_count": 113,
   "metadata": {
    "ExecuteTime": {
     "end_time": "2020-03-03T10:33:41.208344Z",
     "start_time": "2020-03-03T10:33:41.194797Z"
    }
   },
   "outputs": [
    {
     "data": {
      "text/plain": [
       "(943, 1682)"
      ]
     },
     "execution_count": 113,
     "metadata": {},
     "output_type": "execute_result"
    }
   ],
   "source": [
    "rui_predicted.shape"
   ]
  },
  {
   "cell_type": "markdown",
   "metadata": {},
   "source": [
    "#### Evaluate the predictions using MSE, MAE, Pearson and Spearman correlations"
   ]
  },
  {
   "cell_type": "code",
   "execution_count": null,
   "metadata": {},
   "outputs": [],
   "source": []
  },
  {
   "cell_type": "markdown",
   "metadata": {},
   "source": [
    "#### Solution (double click)\n",
    "\n",
    "<span style=\"color:white;font-family:'Courier New'\"><br/>\n",
    "residuals_svd = (rui_flat-rui_predicted.ravel())[rui_flat>0]\n",
    "print(np.mean(np.square(residuals_svd)))\n",
    "print(np.mean(np.abs(residuals_svd)))\n",
    "print(pearsonr(rui_flat[rui_flat>0], rui_predicted.ravel()[rui_flat>0])[0])\n",
    "print(spearmanr(rui_flat[rui_flat>0], rui_predicted.ravel()[rui_flat>0])[0])\n",
    "</span>"
   ]
  },
  {
   "cell_type": "markdown",
   "metadata": {},
   "source": [
    "## Conclusions\n",
    "\n",
    "\n",
    "There are many more recommendation system models, but with these simple models one can already reach quite far. What is still lacking is to establish an efficient implementation that allows us to cross-validate our predictions."
   ]
  }
 ],
 "metadata": {
  "kernelspec": {
   "display_name": "Python 3",
   "language": "python",
   "name": "python3"
  },
  "language_info": {
   "codemirror_mode": {
    "name": "ipython",
    "version": 3
   },
   "file_extension": ".py",
   "mimetype": "text/x-python",
   "name": "python",
   "nbconvert_exporter": "python",
   "pygments_lexer": "ipython3",
   "version": "3.7.3"
  },
  "toc": {
   "base_numbering": 1,
   "nav_menu": {},
   "number_sections": false,
   "sideBar": true,
   "skip_h1_title": false,
   "title_cell": "Lesson Guide",
   "title_sidebar": "Contents",
   "toc_cell": true,
   "toc_position": {},
   "toc_section_display": true,
   "toc_window_display": false
  },
  "varInspector": {
   "cols": {
    "lenName": 16,
    "lenType": 16,
    "lenVar": 40
   },
   "kernels_config": {
    "python": {
     "delete_cmd_postfix": "",
     "delete_cmd_prefix": "del ",
     "library": "var_list.py",
     "varRefreshCmd": "print(var_dic_list())"
    },
    "r": {
     "delete_cmd_postfix": ") ",
     "delete_cmd_prefix": "rm(",
     "library": "var_list.r",
     "varRefreshCmd": "cat(var_dic_list()) "
    }
   },
   "types_to_exclude": [
    "module",
    "function",
    "builtin_function_or_method",
    "instance",
    "_Feature"
   ],
   "window_display": false
  }
 },
 "nbformat": 4,
 "nbformat_minor": 4
}
