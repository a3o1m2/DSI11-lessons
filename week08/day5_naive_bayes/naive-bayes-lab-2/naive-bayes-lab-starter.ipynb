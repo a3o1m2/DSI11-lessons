{
 "cells": [
  {
   "cell_type": "markdown",
   "metadata": {},
   "source": [
    "<img src=\"http://imgur.com/1ZcRyrc.png\" style=\"float: left; margin: 20px; height: 55px\">\n",
    "\n",
    "# Naive Bayes Language Detection Lab\n",
    "---"
   ]
  },
  {
   "cell_type": "markdown",
   "metadata": {},
   "source": [
    "In this lab, we’ll use Naive Bayes (and other classifiers) to auto-detect the language of a given tweet. We’ll then assess the performance of our classifier."
   ]
  },
  {
   "cell_type": "code",
   "execution_count": 5,
   "metadata": {},
   "outputs": [],
   "source": [
    "import pandas as pd\n",
    "import numpy as np\n",
    "import matplotlib.pyplot as plt\n",
    "import seaborn as sns\n",
    "\n",
    "plt.style.use('ggplot')\n",
    "%config InlineBackend.figure_format = 'retina'\n",
    "%matplotlib inline"
   ]
  },
  {
   "cell_type": "code",
   "execution_count": 6,
   "metadata": {},
   "outputs": [],
   "source": [
    "from sklearn.feature_extraction.text import CountVectorizer, TfidfTransformer, TfidfVectorizer\n",
    "from sklearn.model_selection import train_test_split, cross_val_score\n",
    "from sklearn.metrics import confusion_matrix, classification_report\n",
    "from sklearn.naive_bayes import MultinomialNB, BernoulliNB, GaussianNB\n",
    "from sklearn.linear_model import LogisticRegression\n",
    "from sklearn.pipeline import Pipeline"
   ]
  },
  {
   "cell_type": "code",
   "execution_count": 117,
   "metadata": {},
   "outputs": [],
   "source": [
    "tweets_df = pd.read_csv(\"./datasets/tweets_language.csv\")\n",
    "tweets_df.drop([tweets_df.columns[0]], axis=1, inplace=True)\n",
    "# By default, everything read in is a string!\n",
    "tweets_df.index = tweets_df.index.astype(int)"
   ]
  },
  {
   "cell_type": "code",
   "execution_count": 118,
   "metadata": {},
   "outputs": [
    {
     "name": "stdout",
     "output_type": "stream",
     "text": [
      "<class 'pandas.core.frame.DataFrame'>\n",
      "RangeIndex: 9431 entries, 0 to 9430\n",
      "Data columns (total 2 columns):\n",
      "LANG    9409 non-null object\n",
      "TEXT    9409 non-null object\n",
      "dtypes: object(2)\n",
      "memory usage: 147.4+ KB\n"
     ]
    }
   ],
   "source": [
    "tweets_df.info()"
   ]
  },
  {
   "cell_type": "code",
   "execution_count": 119,
   "metadata": {},
   "outputs": [],
   "source": [
    "# Note: Some of the rows above are null, so we can't use them for training.\n",
    "tweets_df = tweets_df.dropna()"
   ]
  },
  {
   "cell_type": "code",
   "execution_count": 120,
   "metadata": {
    "scrolled": false
   },
   "outputs": [
    {
     "data": {
      "text/html": [
       "<div>\n",
       "<style scoped>\n",
       "    .dataframe tbody tr th:only-of-type {\n",
       "        vertical-align: middle;\n",
       "    }\n",
       "\n",
       "    .dataframe tbody tr th {\n",
       "        vertical-align: top;\n",
       "    }\n",
       "\n",
       "    .dataframe thead th {\n",
       "        text-align: right;\n",
       "    }\n",
       "</style>\n",
       "<table border=\"1\" class=\"dataframe\">\n",
       "  <thead>\n",
       "    <tr style=\"text-align: right;\">\n",
       "      <th></th>\n",
       "      <th>LANG</th>\n",
       "      <th>TEXT</th>\n",
       "    </tr>\n",
       "  </thead>\n",
       "  <tbody>\n",
       "    <tr>\n",
       "      <th>0</th>\n",
       "      <td>en</td>\n",
       "      <td>The #Yolo bailout: Greece's ex-finance chief h...</td>\n",
       "    </tr>\n",
       "    <tr>\n",
       "      <th>1</th>\n",
       "      <td>en</td>\n",
       "      <td>Another mental Saturday night. It will be near...</td>\n",
       "    </tr>\n",
       "    <tr>\n",
       "      <th>2</th>\n",
       "      <td>en</td>\n",
       "      <td>Sometimes you take bedtime selfies w yer hat s...</td>\n",
       "    </tr>\n",
       "    <tr>\n",
       "      <th>3</th>\n",
       "      <td>en</td>\n",
       "      <td>Currently just changed my entire outfit includ...</td>\n",
       "    </tr>\n",
       "    <tr>\n",
       "      <th>4</th>\n",
       "      <td>en</td>\n",
       "      <td>I just like listening to @SpotifyAU's top 100 ...</td>\n",
       "    </tr>\n",
       "  </tbody>\n",
       "</table>\n",
       "</div>"
      ],
      "text/plain": [
       "  LANG                                               TEXT\n",
       "0   en  The #Yolo bailout: Greece's ex-finance chief h...\n",
       "1   en  Another mental Saturday night. It will be near...\n",
       "2   en  Sometimes you take bedtime selfies w yer hat s...\n",
       "3   en  Currently just changed my entire outfit includ...\n",
       "4   en  I just like listening to @SpotifyAU's top 100 ..."
      ]
     },
     "execution_count": 120,
     "metadata": {},
     "output_type": "execute_result"
    }
   ],
   "source": [
    "tweets_df.head()"
   ]
  },
  {
   "cell_type": "code",
   "execution_count": 122,
   "metadata": {},
   "outputs": [
    {
     "data": {
      "text/html": [
       "<div>\n",
       "<style scoped>\n",
       "    .dataframe tbody tr th:only-of-type {\n",
       "        vertical-align: middle;\n",
       "    }\n",
       "\n",
       "    .dataframe tbody tr th {\n",
       "        vertical-align: top;\n",
       "    }\n",
       "\n",
       "    .dataframe thead th {\n",
       "        text-align: right;\n",
       "    }\n",
       "</style>\n",
       "<table border=\"1\" class=\"dataframe\">\n",
       "  <thead>\n",
       "    <tr style=\"text-align: right;\">\n",
       "      <th></th>\n",
       "      <th>LANG</th>\n",
       "      <th>TEXT</th>\n",
       "    </tr>\n",
       "  </thead>\n",
       "  <tbody>\n",
       "    <tr>\n",
       "      <th>8336</th>\n",
       "      <td>uk</td>\n",
       "      <td>Трип #Pskov #russia #memories #chill #instasiz...</td>\n",
       "    </tr>\n",
       "    <tr>\n",
       "      <th>8337</th>\n",
       "      <td>uk</td>\n",
       "      <td>Панель №6 | Украина.ру http://t.co/sPGryDw1KP ...</td>\n",
       "    </tr>\n",
       "    <tr>\n",
       "      <th>8338</th>\n",
       "      <td>uk</td>\n",
       "      <td>Скоро повторим, жди  #friends #bestfriends #be...</td>\n",
       "    </tr>\n",
       "    <tr>\n",
       "      <th>8339</th>\n",
       "      <td>uk</td>\n",
       "      <td>•ѕтєυρρѕ #US ℓιкє тσ тαкє ¢яє∂ιт fσя єνєяутнιи...</td>\n",
       "    </tr>\n",
       "    <tr>\n",
       "      <th>8340</th>\n",
       "      <td>uk</td>\n",
       "      <td>RT @hugoturner1969: Via @justfightX \\nАртём Гр...</td>\n",
       "    </tr>\n",
       "  </tbody>\n",
       "</table>\n",
       "</div>"
      ],
      "text/plain": [
       "     LANG                                               TEXT\n",
       "8336   uk  Трип #Pskov #russia #memories #chill #instasiz...\n",
       "8337   uk  Панель №6 | Украина.ру http://t.co/sPGryDw1KP ...\n",
       "8338   uk  Скоро повторим, жди  #friends #bestfriends #be...\n",
       "8339   uk  •ѕтєυρρѕ #US ℓιкє тσ тαкє ¢яє∂ιт fσя єνєяутнιи...\n",
       "8340   uk  RT @hugoturner1969: Via @justfightX \\nАртём Гр..."
      ]
     },
     "execution_count": 122,
     "metadata": {},
     "output_type": "execute_result"
    }
   ],
   "source": [
    "tweets_df[tweets_df['LANG']=='uk'].head()"
   ]
  },
  {
   "cell_type": "markdown",
   "metadata": {},
   "source": [
    "### 1) Data exploration.\n",
    "\n",
    "#### 1.A) Explore a list of tweet words that occur more than 50 times.\n",
    "Plot a histogram that might be helpful."
   ]
  },
  {
   "cell_type": "code",
   "execution_count": 16,
   "metadata": {},
   "outputs": [
    {
     "data": {
      "text/plain": [
       "(array([42.,  4.,  2.,  0.,  0.,  0.,  0.,  1.,  0.,  1.]),\n",
       " array([ 174., 1011., 1848., 2685., 3522., 4359., 5196., 6033., 6870.,\n",
       "        7707., 8544.]),\n",
       " <a list of 10 Patch objects>)"
      ]
     },
     "execution_count": 16,
     "metadata": {},
     "output_type": "execute_result"
    },
    {
     "data": {
      "image/png": "[encoded data removed]",
      "text/plain": [
       "<Figure size 432x288 with 1 Axes>"
      ]
     },
     "metadata": {
      "image/png": {
       "height": 250,
       "width": 370
      },
      "needs_background": "light"
     },
     "output_type": "display_data"
    }
   ],
   "source": [
    "# Let's use the CountVectorizer to count words for us.\n",
    "cvec = CountVectorizer(strip_accents='unicode', ngram_range=(1, 1))\n",
    "X_all = cvec.fit_transform(tweets_df['TEXT'])\n",
    "\n",
    "# Complete the code.\n",
    "X_top_50 = pd.DataFrame(X_all.toarray(), columns=cvec.get_feature_names()).sum().sort_values(ascending=False).head(50)\n",
    "plt.hist(X_top_50)"
   ]
  },
  {
   "cell_type": "markdown",
   "metadata": {},
   "source": [
    "#### 1.B) Investigate the `counts` histogram."
   ]
  },
  {
   "cell_type": "code",
   "execution_count": 18,
   "metadata": {},
   "outputs": [],
   "source": [
    "X_counts = pd.DataFrame(X_all.toarray(), columns=cvec.get_feature_names()).sum().sort_values(ascending=False)"
   ]
  },
  {
   "cell_type": "code",
   "execution_count": 25,
   "metadata": {},
   "outputs": [
    {
     "data": {
      "text/plain": [
       "(array([3.294e+04, 6.000e+00, 2.000e+00, 1.000e+00, 0.000e+00, 0.000e+00,\n",
       "        0.000e+00, 1.000e+00, 0.000e+00, 1.000e+00]),\n",
       " array([1.0000e+00, 8.5530e+02, 1.7096e+03, 2.5639e+03, 3.4182e+03,\n",
       "        4.2725e+03, 5.1268e+03, 5.9811e+03, 6.8354e+03, 7.6897e+03,\n",
       "        8.5440e+03]),\n",
       " <a list of 10 Patch objects>)"
      ]
     },
     "execution_count": 25,
     "metadata": {},
     "output_type": "execute_result"
    },
    {
     "data": {
      "image/png": "[encoded data removed]",
      "text/plain": [
       "<Figure size 432x288 with 1 Axes>"
      ]
     },
     "metadata": {
      "image/png": {
       "height": 250,
       "width": 390
      },
      "needs_background": "light"
     },
     "output_type": "display_data"
    }
   ],
   "source": [
    "plt.hist(X_counts)"
   ]
  },
  {
   "cell_type": "markdown",
   "metadata": {},
   "source": [
    "#### 1.C) Try it again with stop word removal."
   ]
  },
  {
   "cell_type": "code",
   "execution_count": 30,
   "metadata": {},
   "outputs": [],
   "source": [
    "# Let's use the CountVectorizer to count words for us.\n",
    "cvt = CountVectorizer(strip_accents='unicode', stop_words='english')\n",
    "X_all = cvt.fit_transform(tweets_df['TEXT'])\n",
    "\n",
    "# Complete the code.\n",
    "X_top_50 = pd.DataFrame(X_all.toarray(), columns=cvt.get_feature_names()).sum().sort_values(ascending=False).head(50)\n",
    "X_counts = pd.DataFrame(X_all.toarray(), columns=cvt.get_feature_names()).sum().sort_values(ascending=False)"
   ]
  },
  {
   "cell_type": "code",
   "execution_count": 38,
   "metadata": {},
   "outputs": [
    {
     "data": {
      "text/plain": [
       "http            6093\n",
       "https           2658\n",
       "rt              2222\n",
       "love            1758\n",
       "dog             1219\n",
       "family          1082\n",
       "france          1032\n",
       "da               889\n",
       "peace            811\n",
       "yolo             742\n",
       "la               723\n",
       "earth            702\n",
       "planet           589\n",
       "math             473\n",
       "en               425\n",
       "hund             333\n",
       "que              332\n",
       "vive             307\n",
       "silver           304\n",
       "paris            290\n",
       "amp              275\n",
       "happy            260\n",
       "photo            249\n",
       "le               242\n",
       "cute             230\n",
       "naturevalley     193\n",
       "lang             192\n",
       "usa              182\n",
       "est              182\n",
       "life             179\n",
       "russia           178\n",
       "el               178\n",
       "summer           174\n",
       "les              170\n",
       "dollar           166\n",
       "ich              166\n",
       "uk               158\n",
       "coins            152\n",
       "junksilver       151\n",
       "gt               145\n",
       "pet              144\n",
       "di               143\n",
       "et               142\n",
       "ukraine          139\n",
       "germany          139\n",
       "follow           139\n",
       "al               138\n",
       "art              138\n",
       "anti             135\n",
       "se               134\n",
       "dtype: int64"
      ]
     },
     "execution_count": 38,
     "metadata": {},
     "output_type": "execute_result"
    }
   ],
   "source": [
    "X_top_50"
   ]
  },
  {
   "cell_type": "code",
   "execution_count": 33,
   "metadata": {},
   "outputs": [
    {
     "data": {
      "text/plain": [
       "(array([3.2717e+04, 8.0000e+00, 1.0000e+00, 1.0000e+00, 1.0000e+00,\n",
       "        0.0000e+00, 0.0000e+00, 0.0000e+00, 0.0000e+00, 1.0000e+00]),\n",
       " array([1.0000e+00, 6.1020e+02, 1.2194e+03, 1.8286e+03, 2.4378e+03,\n",
       "        3.0470e+03, 3.6562e+03, 4.2654e+03, 4.8746e+03, 5.4838e+03,\n",
       "        6.0930e+03]),\n",
       " <a list of 10 Patch objects>)"
      ]
     },
     "execution_count": 33,
     "metadata": {},
     "output_type": "execute_result"
    },
    {
     "data": {
      "image/png": "[encoded data removed]",
      "text/plain": [
       "<Figure size 720x288 with 2 Axes>"
      ]
     },
     "metadata": {
      "image/png": {
       "height": 250,
       "width": 593
      },
      "needs_background": "light"
     },
     "output_type": "display_data"
    }
   ],
   "source": [
    "fig, ax = plt.subplots(figsize=(10,4), ncols=2)\n",
    "ax[0].hist(X_top_50)\n",
    "ax[1].hist(X_counts)"
   ]
  },
  {
   "cell_type": "markdown",
   "metadata": {},
   "source": [
    "#### 1.D) Explore n-grams between two and four.\n",
    "Display the top 75 n-grams with frequencies. Look at each class to see their similarities and differences."
   ]
  },
  {
   "cell_type": "code",
   "execution_count": 37,
   "metadata": {
    "scrolled": false
   },
   "outputs": [
    {
     "data": {
      "text/plain": [
       "naturevalley planet                     29.953565\n",
       "france http                             24.795398\n",
       "love https                              17.631255\n",
       "da http                                 16.370170\n",
       "dsds da                                 16.000000\n",
       "family love                             15.507448\n",
       "anti imperialist                        15.101968\n",
       "junksilver coins                        15.025797\n",
       "silver junksilver                       15.025797\n",
       "silver junksilver coins                 15.025797\n",
       "eiffel_tower france                     14.380727\n",
       "eiffel_tower france http                14.285346\n",
       "paris france                            13.798953\n",
       "love http                               12.973233\n",
       "wieder da                               12.760805\n",
       "earth http                              12.748032\n",
       "schon wieder da                         12.727396\n",
       "schon wieder                            12.727396\n",
       "petersvaderlekstjanst yolo              12.044747\n",
       "hund hunde                              11.908317\n",
       "family https                            11.544940\n",
       "silver junksilver coins bullion         11.142120\n",
       "coins bullion                           11.142120\n",
       "junksilver coins bullion                11.142120\n",
       "dog http                                10.918111\n",
       "dog https                               10.604282\n",
       "rt hugoturner1969                       10.552020\n",
       "france germany                          10.503369\n",
       "peace love                              10.392269\n",
       "japan kumamoto                          10.106571\n",
       "                                          ...    \n",
       "organic dog collar http                  9.698347\n",
       "organic dog collar                       9.698347\n",
       "dog collar http dsep72kjpd               9.698347\n",
       "hundehalsband organic                    9.698347\n",
       "dogcollar hund hunde                     9.698347\n",
       "dogcollar hund                           9.698347\n",
       "hunde hundehalsband organic              9.698347\n",
       "hunde hundehalsband                      9.698347\n",
       "hundehalsband organic organicleather     9.698347\n",
       "hund hunde hundehalsband organic         9.698347\n",
       "hund hunde hundehalsband                 9.698347\n",
       "collar http dsep72kjpd                   9.698347\n",
       "dog dogcollar                            9.698347\n",
       "dog dogcollar hund hunde                 9.698347\n",
       "dog dogcollar hund                       9.698347\n",
       "pour les                                 9.573061\n",
       "ich bin                                  9.454197\n",
       "happy http                               9.445694\n",
       "rt hugoturner1969 anti                   9.382491\n",
       "hugoturner1969 anti                      9.382491\n",
       "hugoturner1969 anti imperialist          9.382491\n",
       "rt hugoturner1969 anti imperialist       9.382491\n",
       "est parti                                9.193155\n",
       "france germany uk                        9.181110\n",
       "love sun                                 9.170046\n",
       "les vacances                             9.170009\n",
       "est parti pour                           9.119127\n",
       "parti pour                               9.119127\n",
       "rt amelie_officiel                       9.117388\n",
       "pour les vacances                        9.087724\n",
       "Length: 75, dtype: float64"
      ]
     },
     "execution_count": 37,
     "metadata": {},
     "output_type": "execute_result"
    }
   ],
   "source": [
    "# Look up the appropriate parameters.\n",
    "# CountVectorizer?\n",
    "tvec = TfidfVectorizer(strip_accents='unicode', stop_words='english', ngram_range=(2,4))\n",
    "X_all = tvec.fit_transform(tweets_df['TEXT'])\n",
    "\n",
    "X_top_75 = pd.DataFrame(X_all.toarray(), columns=tvec.get_feature_names()).sum().sort_values(ascending=False).head(75)\n",
    "X_top_75"
   ]
  },
  {
   "cell_type": "markdown",
   "metadata": {},
   "source": [
    "#### 1.E) (Optional) Try expanding the list of stop words.\n",
    "There are definitely some non-words, such as web URLs, that could be removed to help us improve the score. Identify word/tokens that don't add much value to either class. **You should also look at n-grams per language to fine-tune your preprocessing. This has the greatest potential to improve your results without tuning any model parameters.**\n",
    "\n",
    "Using `nltk.corpus`, we can get a baseline list of stop words. Try to expand it and pass it to our vectorizer."
   ]
  },
  {
   "cell_type": "code",
   "execution_count": 43,
   "metadata": {},
   "outputs": [],
   "source": [
    "import nltk"
   ]
  },
  {
   "cell_type": "code",
   "execution_count": 67,
   "metadata": {
    "scrolled": false
   },
   "outputs": [
    {
     "name": "stderr",
     "output_type": "stream",
     "text": [
      "[nltk_data] Downloading package stopwords to /Users/Noah/nltk_data...\n",
      "[nltk_data]   Package stopwords is already up-to-date!\n"
     ]
    }
   ],
   "source": [
    "from nltk.corpus import stopwords\n",
    "nltk.download('stopwords')\n",
    "stop = ['http', 'https', 'co'] + stopwords.words('english') + stopwords.words('spanish') + stopwords.words('french') + stopwords.words('swedish') + stopwords.words('german') + stopwords.words('russian') + stopwords.words('portuguese') + stopwords.words('italian')"
   ]
  },
  {
   "cell_type": "code",
   "execution_count": 68,
   "metadata": {},
   "outputs": [
    {
     "name": "stderr",
     "output_type": "stream",
     "text": [
      "/Users/Noah/anaconda3/lib/python3.7/site-packages/sklearn/feature_extraction/text.py:385: UserWarning: Your stop_words may be inconsistent with your preprocessing. Tokenizing the stop words generated tokens ['ar', 'ate', 'avra', 'avro', 'dar', 'eramos', 'estabamos', 'estais', 'estan', 'estao', 'estara', 'estaran', 'estaras', 'estare', 'estareis', 'estaria', 'estariais', 'estariamos', 'estarian', 'estarias', 'estavamos', 'esteis', 'esten', 'estiveramos', 'estivessemos', 'estuvieramos', 'estuviesemos', 'etaient', 'etais', 'etait', 'etant', 'etante', 'etantes', 'etants', 'ete', 'etee', 'etees', 'etes', 'etiez', 'etions', 'eumes', 'eutes', 'fara', 'faro', 'foramos', 'fossemos', 'fran', 'fueramos', 'fuesemos', 'fumes', 'fur', 'futes', 'habeis', 'habia', 'habiais', 'habiamos', 'habian', 'habias', 'habra', 'habran', 'habras', 'habre', 'habreis', 'habria', 'habriais', 'habriamos', 'habrian', 'habrias', 'hao', 'hayais', 'houveramos', 'houverao', 'houveriamos', 'houvessemos', 'hubieramos', 'hubiesemos', 'ja', 'konnen', 'konnte', 'meme', 'mias', 'mios', 'nagon', 'nagot', 'nagra', 'nao', 'nar', 'pa', 'perche', 'piu', 'sadan', 'sadana', 'sadant', 'sao', 'sara', 'saro', 'seais', 'seran', 'serao', 'sere', 'sereis', 'seriais', 'seriamos', 'serian', 'serias', 'sjalv', 'stara', 'staro', 'tambem', 'tambien', 'tendra', 'tendran', 'tendras', 'tendre', 'tendreis', 'tendria', 'tendriais', 'tendriamos', 'tendrian', 'tendrias', 'teneis', 'tengais', 'tenia', 'teniais', 'teniamos', 'tenian', 'tenias', 'tera', 'terao', 'teriamos', 'tinhamos', 'tiveramos', 'tivessemos', 'tuvieramos', 'tuviesemos', 'uber', 'varfor', 'voce', 'voces', 'wahrend', 'wurde', 'wurden', 'другои', 'еи', 'какои', 'мои', 'неи', 'сеичас', 'такои', 'этои'] not in stop_words.\n",
      "  'stop_words.' % sorted(inconsistent))\n"
     ]
    },
    {
     "data": {
      "text/plain": [
       "naturevalley planet                           36.965584\n",
       "family love                                   17.969122\n",
       "eiffel_tower france                           15.991389\n",
       "anti imperialist                              15.435633\n",
       "silver junksilver                             15.351093\n",
       "silver junksilver coins                       15.351093\n",
       "coins us                                      15.351093\n",
       "junksilver coins us                           15.351093\n",
       "junksilver coins                              15.351093\n",
       "silver junksilver coins us                    15.351093\n",
       "paris france                                  15.065579\n",
       "hund hunde                                    13.004151\n",
       "petersvaderlekstjanst yolo                    12.200164\n",
       "us bullion                                    11.505973\n",
       "coins us bullion                              11.505973\n",
       "junksilver coins us bullion                   11.505973\n",
       "peace love                                    11.468987\n",
       "love sun                                      11.406836\n",
       "rt amelie_officiel                            11.354887\n",
       "japan kumamoto                                11.288618\n",
       "parti vacances family                         11.244248\n",
       "vacances family                               11.244248\n",
       "parti vacances                                11.244248\n",
       "rt amelie_officiel parti vacances             11.244248\n",
       "parti vacances family love                    11.244248\n",
       "rt amelie_officiel parti                      11.244248\n",
       "amelie_officiel parti vacances                11.244248\n",
       "amelie_officiel parti                         11.244248\n",
       "vacances family love                          11.244248\n",
       "vacances family love sun                      11.244248\n",
       "                                                ...    \n",
       "dog collar dsep72kjpd dog                     10.225531\n",
       "dsep72kjpd dog dogcollar                      10.225531\n",
       "hund hunde hundehalsband organic              10.225531\n",
       "dsep72kjpd dog dogcollar hund                 10.225531\n",
       "hund hunde hundehalsband                      10.225531\n",
       "dogcollar hund                                10.225531\n",
       "dogcollar hund hunde hundehalsband            10.225531\n",
       "dsep72kjpd dog                                10.225531\n",
       "dogcollar hund hunde                          10.225531\n",
       "hunde hundehalsband organic                   10.225531\n",
       "dog collar dsep72kjpd                         10.225531\n",
       "collar dsep72kjpd                             10.225531\n",
       "hunde hundehalsband organic organicleather    10.225531\n",
       "dog dogcollar hund hunde                      10.225531\n",
       "hundehalsband organic                         10.225531\n",
       "dog dogcollar                                 10.225531\n",
       "organic dog collar dsep72kjpd                 10.225531\n",
       "hundehalsband organic organicleather          10.225531\n",
       "organic dog collar                            10.225531\n",
       "dog dogcollar hund                            10.225531\n",
       "organic organicleather                        10.225531\n",
       "hugoturner1969 anti                            9.788993\n",
       "rt hugoturner1969 anti imperialist             9.788993\n",
       "rt hugoturner1969 anti                         9.788993\n",
       "hugoturner1969 anti imperialist                9.788993\n",
       "germany uk                                     9.724988\n",
       "france germany uk                              9.277407\n",
       "usa france                                     8.956173\n",
       "earth nature                                   8.361706\n",
       "lostdog japan                                  8.312299\n",
       "Length: 75, dtype: float64"
      ]
     },
     "execution_count": 68,
     "metadata": {},
     "output_type": "execute_result"
    }
   ],
   "source": [
    "tvec = TfidfVectorizer(strip_accents='unicode', stop_words=stop, ngram_range=(2,4))\n",
    "X_all = tvec.fit_transform(tweets_df['TEXT'])\n",
    "\n",
    "X_top_75 = pd.DataFrame(X_all.toarray(), columns=tvec.get_feature_names()).sum().sort_values(ascending=False).head(75)\n",
    "X_top_75"
   ]
  },
  {
   "cell_type": "markdown",
   "metadata": {},
   "source": [
    "### 2) Set up a train/test split of your data using any method you wish.\n",
    "Try 70/30 to start."
   ]
  },
  {
   "cell_type": "code",
   "execution_count": 88,
   "metadata": {},
   "outputs": [],
   "source": [
    "y, X = tweets_df.pop('LANG'), tweets_df['TEXT']"
   ]
  },
  {
   "cell_type": "code",
   "execution_count": 89,
   "metadata": {},
   "outputs": [],
   "source": [
    "X_train, X_test, y_train, y_test = train_test_split(X, y, stratify=y, test_size=0.3)"
   ]
  },
  {
   "cell_type": "markdown",
   "metadata": {},
   "source": [
    "### 3) Set up a pipeline to vectorize and use the MultinomialNB classifier.\n",
    "Use `lowercase`, `strip_accents`, `Pipeline`, and (optionally) your updated `stop_words`. Fit your comment data using the \"insult\" feature as your response.\n",
    "\n",
    "Fit your training data set to your pipeline, then score it."
   ]
  },
  {
   "cell_type": "code",
   "execution_count": 92,
   "metadata": {},
   "outputs": [
    {
     "name": "stderr",
     "output_type": "stream",
     "text": [
      "/Users/Noah/anaconda3/lib/python3.7/site-packages/sklearn/feature_extraction/text.py:385: UserWarning: Your stop_words may be inconsistent with your preprocessing. Tokenizing the stop words generated tokens ['ar', 'ate', 'avra', 'avro', 'dar', 'eramos', 'estabamos', 'estais', 'estan', 'estao', 'estara', 'estaran', 'estaras', 'estare', 'estareis', 'estaria', 'estariais', 'estariamos', 'estarian', 'estarias', 'estavamos', 'esteis', 'esten', 'estiveramos', 'estivessemos', 'estuvieramos', 'estuviesemos', 'etaient', 'etais', 'etait', 'etant', 'etante', 'etantes', 'etants', 'ete', 'etee', 'etees', 'etes', 'etiez', 'etions', 'eumes', 'eutes', 'fara', 'faro', 'foramos', 'fossemos', 'fran', 'fueramos', 'fuesemos', 'fumes', 'fur', 'futes', 'habeis', 'habia', 'habiais', 'habiamos', 'habian', 'habias', 'habra', 'habran', 'habras', 'habre', 'habreis', 'habria', 'habriais', 'habriamos', 'habrian', 'habrias', 'hao', 'hayais', 'houveramos', 'houverao', 'houveriamos', 'houvessemos', 'hubieramos', 'hubiesemos', 'ja', 'konnen', 'konnte', 'meme', 'mias', 'mios', 'nagon', 'nagot', 'nagra', 'nao', 'nar', 'pa', 'perche', 'piu', 'sadan', 'sadana', 'sadant', 'sao', 'sara', 'saro', 'seais', 'seran', 'serao', 'sere', 'sereis', 'seriais', 'seriamos', 'serian', 'serias', 'sjalv', 'stara', 'staro', 'tambem', 'tambien', 'tendra', 'tendran', 'tendras', 'tendre', 'tendreis', 'tendria', 'tendriais', 'tendriamos', 'tendrian', 'tendrias', 'teneis', 'tengais', 'tenia', 'teniais', 'teniamos', 'tenian', 'tenias', 'tera', 'terao', 'teriamos', 'tinhamos', 'tiveramos', 'tivessemos', 'tuvieramos', 'tuviesemos', 'uber', 'varfor', 'voce', 'voces', 'wahrend', 'wurde', 'wurden', 'другои', 'еи', 'какои', 'мои', 'неи', 'сеичас', 'такои', 'этои'] not in stop_words.\n",
      "  'stop_words.' % sorted(inconsistent))\n",
      "/Users/Noah/anaconda3/lib/python3.7/site-packages/sklearn/model_selection/_split.py:667: UserWarning: The least populated class in y has only 3 members, which is less than n_splits=5.\n",
      "  % (min_groups, self.n_splits)), UserWarning)\n",
      "/Users/Noah/anaconda3/lib/python3.7/site-packages/sklearn/feature_extraction/text.py:385: UserWarning: Your stop_words may be inconsistent with your preprocessing. Tokenizing the stop words generated tokens ['ar', 'ate', 'avra', 'avro', 'dar', 'eramos', 'estabamos', 'estais', 'estan', 'estao', 'estara', 'estaran', 'estaras', 'estare', 'estareis', 'estaria', 'estariais', 'estariamos', 'estarian', 'estarias', 'estavamos', 'esteis', 'esten', 'estiveramos', 'estivessemos', 'estuvieramos', 'estuviesemos', 'etaient', 'etais', 'etait', 'etant', 'etante', 'etantes', 'etants', 'ete', 'etee', 'etees', 'etes', 'etiez', 'etions', 'eumes', 'eutes', 'fara', 'faro', 'foramos', 'fossemos', 'fran', 'fueramos', 'fuesemos', 'fumes', 'fur', 'futes', 'habeis', 'habia', 'habiais', 'habiamos', 'habian', 'habias', 'habra', 'habran', 'habras', 'habre', 'habreis', 'habria', 'habriais', 'habriamos', 'habrian', 'habrias', 'hao', 'hayais', 'houveramos', 'houverao', 'houveriamos', 'houvessemos', 'hubieramos', 'hubiesemos', 'ja', 'konnen', 'konnte', 'meme', 'mias', 'mios', 'nagon', 'nagot', 'nagra', 'nao', 'nar', 'pa', 'perche', 'piu', 'sadan', 'sadana', 'sadant', 'sao', 'sara', 'saro', 'seais', 'seran', 'serao', 'sere', 'sereis', 'seriais', 'seriamos', 'serian', 'serias', 'sjalv', 'stara', 'staro', 'tambem', 'tambien', 'tendra', 'tendran', 'tendras', 'tendre', 'tendreis', 'tendria', 'tendriais', 'tendriamos', 'tendrian', 'tendrias', 'teneis', 'tengais', 'tenia', 'teniais', 'teniamos', 'tenian', 'tenias', 'tera', 'terao', 'teriamos', 'tinhamos', 'tiveramos', 'tivessemos', 'tuvieramos', 'tuviesemos', 'uber', 'varfor', 'voce', 'voces', 'wahrend', 'wurde', 'wurden', 'другои', 'еи', 'какои', 'мои', 'неи', 'сеичас', 'такои', 'этои'] not in stop_words.\n",
      "  'stop_words.' % sorted(inconsistent))\n",
      "/Users/Noah/anaconda3/lib/python3.7/site-packages/sklearn/feature_extraction/text.py:385: UserWarning: Your stop_words may be inconsistent with your preprocessing. Tokenizing the stop words generated tokens ['ar', 'ate', 'avra', 'avro', 'dar', 'eramos', 'estabamos', 'estais', 'estan', 'estao', 'estara', 'estaran', 'estaras', 'estare', 'estareis', 'estaria', 'estariais', 'estariamos', 'estarian', 'estarias', 'estavamos', 'esteis', 'esten', 'estiveramos', 'estivessemos', 'estuvieramos', 'estuviesemos', 'etaient', 'etais', 'etait', 'etant', 'etante', 'etantes', 'etants', 'ete', 'etee', 'etees', 'etes', 'etiez', 'etions', 'eumes', 'eutes', 'fara', 'faro', 'foramos', 'fossemos', 'fran', 'fueramos', 'fuesemos', 'fumes', 'fur', 'futes', 'habeis', 'habia', 'habiais', 'habiamos', 'habian', 'habias', 'habra', 'habran', 'habras', 'habre', 'habreis', 'habria', 'habriais', 'habriamos', 'habrian', 'habrias', 'hao', 'hayais', 'houveramos', 'houverao', 'houveriamos', 'houvessemos', 'hubieramos', 'hubiesemos', 'ja', 'konnen', 'konnte', 'meme', 'mias', 'mios', 'nagon', 'nagot', 'nagra', 'nao', 'nar', 'pa', 'perche', 'piu', 'sadan', 'sadana', 'sadant', 'sao', 'sara', 'saro', 'seais', 'seran', 'serao', 'sere', 'sereis', 'seriais', 'seriamos', 'serian', 'serias', 'sjalv', 'stara', 'staro', 'tambem', 'tambien', 'tendra', 'tendran', 'tendras', 'tendre', 'tendreis', 'tendria', 'tendriais', 'tendriamos', 'tendrian', 'tendrias', 'teneis', 'tengais', 'tenia', 'teniais', 'teniamos', 'tenian', 'tenias', 'tera', 'terao', 'teriamos', 'tinhamos', 'tiveramos', 'tivessemos', 'tuvieramos', 'tuviesemos', 'uber', 'varfor', 'voce', 'voces', 'wahrend', 'wurde', 'wurden', 'другои', 'еи', 'какои', 'мои', 'неи', 'сеичас', 'такои', 'этои'] not in stop_words.\n",
      "  'stop_words.' % sorted(inconsistent))\n",
      "/Users/Noah/anaconda3/lib/python3.7/site-packages/sklearn/feature_extraction/text.py:385: UserWarning: Your stop_words may be inconsistent with your preprocessing. Tokenizing the stop words generated tokens ['ar', 'ate', 'avra', 'avro', 'dar', 'eramos', 'estabamos', 'estais', 'estan', 'estao', 'estara', 'estaran', 'estaras', 'estare', 'estareis', 'estaria', 'estariais', 'estariamos', 'estarian', 'estarias', 'estavamos', 'esteis', 'esten', 'estiveramos', 'estivessemos', 'estuvieramos', 'estuviesemos', 'etaient', 'etais', 'etait', 'etant', 'etante', 'etantes', 'etants', 'ete', 'etee', 'etees', 'etes', 'etiez', 'etions', 'eumes', 'eutes', 'fara', 'faro', 'foramos', 'fossemos', 'fran', 'fueramos', 'fuesemos', 'fumes', 'fur', 'futes', 'habeis', 'habia', 'habiais', 'habiamos', 'habian', 'habias', 'habra', 'habran', 'habras', 'habre', 'habreis', 'habria', 'habriais', 'habriamos', 'habrian', 'habrias', 'hao', 'hayais', 'houveramos', 'houverao', 'houveriamos', 'houvessemos', 'hubieramos', 'hubiesemos', 'ja', 'konnen', 'konnte', 'meme', 'mias', 'mios', 'nagon', 'nagot', 'nagra', 'nao', 'nar', 'pa', 'perche', 'piu', 'sadan', 'sadana', 'sadant', 'sao', 'sara', 'saro', 'seais', 'seran', 'serao', 'sere', 'sereis', 'seriais', 'seriamos', 'serian', 'serias', 'sjalv', 'stara', 'staro', 'tambem', 'tambien', 'tendra', 'tendran', 'tendras', 'tendre', 'tendreis', 'tendria', 'tendriais', 'tendriamos', 'tendrian', 'tendrias', 'teneis', 'tengais', 'tenia', 'teniais', 'teniamos', 'tenian', 'tenias', 'tera', 'terao', 'teriamos', 'tinhamos', 'tiveramos', 'tivessemos', 'tuvieramos', 'tuviesemos', 'uber', 'varfor', 'voce', 'voces', 'wahrend', 'wurde', 'wurden', 'другои', 'еи', 'какои', 'мои', 'неи', 'сеичас', 'такои', 'этои'] not in stop_words.\n",
      "  'stop_words.' % sorted(inconsistent))\n",
      "/Users/Noah/anaconda3/lib/python3.7/site-packages/sklearn/feature_extraction/text.py:385: UserWarning: Your stop_words may be inconsistent with your preprocessing. Tokenizing the stop words generated tokens ['ar', 'ate', 'avra', 'avro', 'dar', 'eramos', 'estabamos', 'estais', 'estan', 'estao', 'estara', 'estaran', 'estaras', 'estare', 'estareis', 'estaria', 'estariais', 'estariamos', 'estarian', 'estarias', 'estavamos', 'esteis', 'esten', 'estiveramos', 'estivessemos', 'estuvieramos', 'estuviesemos', 'etaient', 'etais', 'etait', 'etant', 'etante', 'etantes', 'etants', 'ete', 'etee', 'etees', 'etes', 'etiez', 'etions', 'eumes', 'eutes', 'fara', 'faro', 'foramos', 'fossemos', 'fran', 'fueramos', 'fuesemos', 'fumes', 'fur', 'futes', 'habeis', 'habia', 'habiais', 'habiamos', 'habian', 'habias', 'habra', 'habran', 'habras', 'habre', 'habreis', 'habria', 'habriais', 'habriamos', 'habrian', 'habrias', 'hao', 'hayais', 'houveramos', 'houverao', 'houveriamos', 'houvessemos', 'hubieramos', 'hubiesemos', 'ja', 'konnen', 'konnte', 'meme', 'mias', 'mios', 'nagon', 'nagot', 'nagra', 'nao', 'nar', 'pa', 'perche', 'piu', 'sadan', 'sadana', 'sadant', 'sao', 'sara', 'saro', 'seais', 'seran', 'serao', 'sere', 'sereis', 'seriais', 'seriamos', 'serian', 'serias', 'sjalv', 'stara', 'staro', 'tambem', 'tambien', 'tendra', 'tendran', 'tendras', 'tendre', 'tendreis', 'tendria', 'tendriais', 'tendriamos', 'tendrian', 'tendrias', 'teneis', 'tengais', 'tenia', 'teniais', 'teniamos', 'tenian', 'tenias', 'tera', 'terao', 'teriamos', 'tinhamos', 'tiveramos', 'tivessemos', 'tuvieramos', 'tuviesemos', 'uber', 'varfor', 'voce', 'voces', 'wahrend', 'wurde', 'wurden', 'другои', 'еи', 'какои', 'мои', 'неи', 'сеичас', 'такои', 'этои'] not in stop_words.\n",
      "  'stop_words.' % sorted(inconsistent))\n"
     ]
    },
    {
     "name": "stderr",
     "output_type": "stream",
     "text": [
      "/Users/Noah/anaconda3/lib/python3.7/site-packages/sklearn/feature_extraction/text.py:385: UserWarning: Your stop_words may be inconsistent with your preprocessing. Tokenizing the stop words generated tokens ['ar', 'ate', 'avra', 'avro', 'dar', 'eramos', 'estabamos', 'estais', 'estan', 'estao', 'estara', 'estaran', 'estaras', 'estare', 'estareis', 'estaria', 'estariais', 'estariamos', 'estarian', 'estarias', 'estavamos', 'esteis', 'esten', 'estiveramos', 'estivessemos', 'estuvieramos', 'estuviesemos', 'etaient', 'etais', 'etait', 'etant', 'etante', 'etantes', 'etants', 'ete', 'etee', 'etees', 'etes', 'etiez', 'etions', 'eumes', 'eutes', 'fara', 'faro', 'foramos', 'fossemos', 'fran', 'fueramos', 'fuesemos', 'fumes', 'fur', 'futes', 'habeis', 'habia', 'habiais', 'habiamos', 'habian', 'habias', 'habra', 'habran', 'habras', 'habre', 'habreis', 'habria', 'habriais', 'habriamos', 'habrian', 'habrias', 'hao', 'hayais', 'houveramos', 'houverao', 'houveriamos', 'houvessemos', 'hubieramos', 'hubiesemos', 'ja', 'konnen', 'konnte', 'meme', 'mias', 'mios', 'nagon', 'nagot', 'nagra', 'nao', 'nar', 'pa', 'perche', 'piu', 'sadan', 'sadana', 'sadant', 'sao', 'sara', 'saro', 'seais', 'seran', 'serao', 'sere', 'sereis', 'seriais', 'seriamos', 'serian', 'serias', 'sjalv', 'stara', 'staro', 'tambem', 'tambien', 'tendra', 'tendran', 'tendras', 'tendre', 'tendreis', 'tendria', 'tendriais', 'tendriamos', 'tendrian', 'tendrias', 'teneis', 'tengais', 'tenia', 'teniais', 'teniamos', 'tenian', 'tenias', 'tera', 'terao', 'teriamos', 'tinhamos', 'tiveramos', 'tivessemos', 'tuvieramos', 'tuviesemos', 'uber', 'varfor', 'voce', 'voces', 'wahrend', 'wurde', 'wurden', 'другои', 'еи', 'какои', 'мои', 'неи', 'сеичас', 'такои', 'этои'] not in stop_words.\n",
      "  'stop_words.' % sorted(inconsistent))\n"
     ]
    },
    {
     "name": "stdout",
     "output_type": "stream",
     "text": [
      "0.4910411647384558\n",
      "0.5235565001771165\n"
     ]
    }
   ],
   "source": [
    "# Here's the code — you can adapt it from here on out.\n",
    "pipeline = Pipeline([\n",
    "    ('vect', CountVectorizer(strip_accents='unicode', stop_words=stop, ngram_range=(2,4))),\n",
    "    ('tfidf', TfidfTransformer()),\n",
    "    ('cls', MultinomialNB())\n",
    "])\n",
    "\n",
    "pipeline.fit(X_train, y_train)\n",
    "print(cross_val_score(pipeline, X_train, y_train, cv=5).mean())\n",
    "print(pipeline.score(X_test, y_test))\n",
    "\n",
    "# Don't forget to score."
   ]
  },
  {
   "cell_type": "markdown",
   "metadata": {},
   "source": [
    "#### 3.A) Swap out MultinomialNB with BernoulliNB in the pipeline.\n",
    "How do they compare? Do you have a guess as to why BernoulliNB is so poor?\n",
    "\n",
    "My answer: because BernoulliNB transforms the tvec into binary 0,1 and removes the counts of the words?"
   ]
  },
  {
   "cell_type": "code",
   "execution_count": 93,
   "metadata": {},
   "outputs": [
    {
     "name": "stderr",
     "output_type": "stream",
     "text": [
      "/Users/Noah/anaconda3/lib/python3.7/site-packages/sklearn/feature_extraction/text.py:385: UserWarning: Your stop_words may be inconsistent with your preprocessing. Tokenizing the stop words generated tokens ['ar', 'ate', 'avra', 'avro', 'dar', 'eramos', 'estabamos', 'estais', 'estan', 'estao', 'estara', 'estaran', 'estaras', 'estare', 'estareis', 'estaria', 'estariais', 'estariamos', 'estarian', 'estarias', 'estavamos', 'esteis', 'esten', 'estiveramos', 'estivessemos', 'estuvieramos', 'estuviesemos', 'etaient', 'etais', 'etait', 'etant', 'etante', 'etantes', 'etants', 'ete', 'etee', 'etees', 'etes', 'etiez', 'etions', 'eumes', 'eutes', 'fara', 'faro', 'foramos', 'fossemos', 'fran', 'fueramos', 'fuesemos', 'fumes', 'fur', 'futes', 'habeis', 'habia', 'habiais', 'habiamos', 'habian', 'habias', 'habra', 'habran', 'habras', 'habre', 'habreis', 'habria', 'habriais', 'habriamos', 'habrian', 'habrias', 'hao', 'hayais', 'houveramos', 'houverao', 'houveriamos', 'houvessemos', 'hubieramos', 'hubiesemos', 'ja', 'konnen', 'konnte', 'meme', 'mias', 'mios', 'nagon', 'nagot', 'nagra', 'nao', 'nar', 'pa', 'perche', 'piu', 'sadan', 'sadana', 'sadant', 'sao', 'sara', 'saro', 'seais', 'seran', 'serao', 'sere', 'sereis', 'seriais', 'seriamos', 'serian', 'serias', 'sjalv', 'stara', 'staro', 'tambem', 'tambien', 'tendra', 'tendran', 'tendras', 'tendre', 'tendreis', 'tendria', 'tendriais', 'tendriamos', 'tendrian', 'tendrias', 'teneis', 'tengais', 'tenia', 'teniais', 'teniamos', 'tenian', 'tenias', 'tera', 'terao', 'teriamos', 'tinhamos', 'tiveramos', 'tivessemos', 'tuvieramos', 'tuviesemos', 'uber', 'varfor', 'voce', 'voces', 'wahrend', 'wurde', 'wurden', 'другои', 'еи', 'какои', 'мои', 'неи', 'сеичас', 'такои', 'этои'] not in stop_words.\n",
      "  'stop_words.' % sorted(inconsistent))\n",
      "/Users/Noah/anaconda3/lib/python3.7/site-packages/sklearn/model_selection/_split.py:667: UserWarning: The least populated class in y has only 3 members, which is less than n_splits=5.\n",
      "  % (min_groups, self.n_splits)), UserWarning)\n",
      "/Users/Noah/anaconda3/lib/python3.7/site-packages/sklearn/feature_extraction/text.py:385: UserWarning: Your stop_words may be inconsistent with your preprocessing. Tokenizing the stop words generated tokens ['ar', 'ate', 'avra', 'avro', 'dar', 'eramos', 'estabamos', 'estais', 'estan', 'estao', 'estara', 'estaran', 'estaras', 'estare', 'estareis', 'estaria', 'estariais', 'estariamos', 'estarian', 'estarias', 'estavamos', 'esteis', 'esten', 'estiveramos', 'estivessemos', 'estuvieramos', 'estuviesemos', 'etaient', 'etais', 'etait', 'etant', 'etante', 'etantes', 'etants', 'ete', 'etee', 'etees', 'etes', 'etiez', 'etions', 'eumes', 'eutes', 'fara', 'faro', 'foramos', 'fossemos', 'fran', 'fueramos', 'fuesemos', 'fumes', 'fur', 'futes', 'habeis', 'habia', 'habiais', 'habiamos', 'habian', 'habias', 'habra', 'habran', 'habras', 'habre', 'habreis', 'habria', 'habriais', 'habriamos', 'habrian', 'habrias', 'hao', 'hayais', 'houveramos', 'houverao', 'houveriamos', 'houvessemos', 'hubieramos', 'hubiesemos', 'ja', 'konnen', 'konnte', 'meme', 'mias', 'mios', 'nagon', 'nagot', 'nagra', 'nao', 'nar', 'pa', 'perche', 'piu', 'sadan', 'sadana', 'sadant', 'sao', 'sara', 'saro', 'seais', 'seran', 'serao', 'sere', 'sereis', 'seriais', 'seriamos', 'serian', 'serias', 'sjalv', 'stara', 'staro', 'tambem', 'tambien', 'tendra', 'tendran', 'tendras', 'tendre', 'tendreis', 'tendria', 'tendriais', 'tendriamos', 'tendrian', 'tendrias', 'teneis', 'tengais', 'tenia', 'teniais', 'teniamos', 'tenian', 'tenias', 'tera', 'terao', 'teriamos', 'tinhamos', 'tiveramos', 'tivessemos', 'tuvieramos', 'tuviesemos', 'uber', 'varfor', 'voce', 'voces', 'wahrend', 'wurde', 'wurden', 'другои', 'еи', 'какои', 'мои', 'неи', 'сеичас', 'такои', 'этои'] not in stop_words.\n",
      "  'stop_words.' % sorted(inconsistent))\n",
      "/Users/Noah/anaconda3/lib/python3.7/site-packages/sklearn/feature_extraction/text.py:385: UserWarning: Your stop_words may be inconsistent with your preprocessing. Tokenizing the stop words generated tokens ['ar', 'ate', 'avra', 'avro', 'dar', 'eramos', 'estabamos', 'estais', 'estan', 'estao', 'estara', 'estaran', 'estaras', 'estare', 'estareis', 'estaria', 'estariais', 'estariamos', 'estarian', 'estarias', 'estavamos', 'esteis', 'esten', 'estiveramos', 'estivessemos', 'estuvieramos', 'estuviesemos', 'etaient', 'etais', 'etait', 'etant', 'etante', 'etantes', 'etants', 'ete', 'etee', 'etees', 'etes', 'etiez', 'etions', 'eumes', 'eutes', 'fara', 'faro', 'foramos', 'fossemos', 'fran', 'fueramos', 'fuesemos', 'fumes', 'fur', 'futes', 'habeis', 'habia', 'habiais', 'habiamos', 'habian', 'habias', 'habra', 'habran', 'habras', 'habre', 'habreis', 'habria', 'habriais', 'habriamos', 'habrian', 'habrias', 'hao', 'hayais', 'houveramos', 'houverao', 'houveriamos', 'houvessemos', 'hubieramos', 'hubiesemos', 'ja', 'konnen', 'konnte', 'meme', 'mias', 'mios', 'nagon', 'nagot', 'nagra', 'nao', 'nar', 'pa', 'perche', 'piu', 'sadan', 'sadana', 'sadant', 'sao', 'sara', 'saro', 'seais', 'seran', 'serao', 'sere', 'sereis', 'seriais', 'seriamos', 'serian', 'serias', 'sjalv', 'stara', 'staro', 'tambem', 'tambien', 'tendra', 'tendran', 'tendras', 'tendre', 'tendreis', 'tendria', 'tendriais', 'tendriamos', 'tendrian', 'tendrias', 'teneis', 'tengais', 'tenia', 'teniais', 'teniamos', 'tenian', 'tenias', 'tera', 'terao', 'teriamos', 'tinhamos', 'tiveramos', 'tivessemos', 'tuvieramos', 'tuviesemos', 'uber', 'varfor', 'voce', 'voces', 'wahrend', 'wurde', 'wurden', 'другои', 'еи', 'какои', 'мои', 'неи', 'сеичас', 'такои', 'этои'] not in stop_words.\n",
      "  'stop_words.' % sorted(inconsistent))\n",
      "/Users/Noah/anaconda3/lib/python3.7/site-packages/sklearn/feature_extraction/text.py:385: UserWarning: Your stop_words may be inconsistent with your preprocessing. Tokenizing the stop words generated tokens ['ar', 'ate', 'avra', 'avro', 'dar', 'eramos', 'estabamos', 'estais', 'estan', 'estao', 'estara', 'estaran', 'estaras', 'estare', 'estareis', 'estaria', 'estariais', 'estariamos', 'estarian', 'estarias', 'estavamos', 'esteis', 'esten', 'estiveramos', 'estivessemos', 'estuvieramos', 'estuviesemos', 'etaient', 'etais', 'etait', 'etant', 'etante', 'etantes', 'etants', 'ete', 'etee', 'etees', 'etes', 'etiez', 'etions', 'eumes', 'eutes', 'fara', 'faro', 'foramos', 'fossemos', 'fran', 'fueramos', 'fuesemos', 'fumes', 'fur', 'futes', 'habeis', 'habia', 'habiais', 'habiamos', 'habian', 'habias', 'habra', 'habran', 'habras', 'habre', 'habreis', 'habria', 'habriais', 'habriamos', 'habrian', 'habrias', 'hao', 'hayais', 'houveramos', 'houverao', 'houveriamos', 'houvessemos', 'hubieramos', 'hubiesemos', 'ja', 'konnen', 'konnte', 'meme', 'mias', 'mios', 'nagon', 'nagot', 'nagra', 'nao', 'nar', 'pa', 'perche', 'piu', 'sadan', 'sadana', 'sadant', 'sao', 'sara', 'saro', 'seais', 'seran', 'serao', 'sere', 'sereis', 'seriais', 'seriamos', 'serian', 'serias', 'sjalv', 'stara', 'staro', 'tambem', 'tambien', 'tendra', 'tendran', 'tendras', 'tendre', 'tendreis', 'tendria', 'tendriais', 'tendriamos', 'tendrian', 'tendrias', 'teneis', 'tengais', 'tenia', 'teniais', 'teniamos', 'tenian', 'tenias', 'tera', 'terao', 'teriamos', 'tinhamos', 'tiveramos', 'tivessemos', 'tuvieramos', 'tuviesemos', 'uber', 'varfor', 'voce', 'voces', 'wahrend', 'wurde', 'wurden', 'другои', 'еи', 'какои', 'мои', 'неи', 'сеичас', 'такои', 'этои'] not in stop_words.\n",
      "  'stop_words.' % sorted(inconsistent))\n",
      "/Users/Noah/anaconda3/lib/python3.7/site-packages/sklearn/feature_extraction/text.py:385: UserWarning: Your stop_words may be inconsistent with your preprocessing. Tokenizing the stop words generated tokens ['ar', 'ate', 'avra', 'avro', 'dar', 'eramos', 'estabamos', 'estais', 'estan', 'estao', 'estara', 'estaran', 'estaras', 'estare', 'estareis', 'estaria', 'estariais', 'estariamos', 'estarian', 'estarias', 'estavamos', 'esteis', 'esten', 'estiveramos', 'estivessemos', 'estuvieramos', 'estuviesemos', 'etaient', 'etais', 'etait', 'etant', 'etante', 'etantes', 'etants', 'ete', 'etee', 'etees', 'etes', 'etiez', 'etions', 'eumes', 'eutes', 'fara', 'faro', 'foramos', 'fossemos', 'fran', 'fueramos', 'fuesemos', 'fumes', 'fur', 'futes', 'habeis', 'habia', 'habiais', 'habiamos', 'habian', 'habias', 'habra', 'habran', 'habras', 'habre', 'habreis', 'habria', 'habriais', 'habriamos', 'habrian', 'habrias', 'hao', 'hayais', 'houveramos', 'houverao', 'houveriamos', 'houvessemos', 'hubieramos', 'hubiesemos', 'ja', 'konnen', 'konnte', 'meme', 'mias', 'mios', 'nagon', 'nagot', 'nagra', 'nao', 'nar', 'pa', 'perche', 'piu', 'sadan', 'sadana', 'sadant', 'sao', 'sara', 'saro', 'seais', 'seran', 'serao', 'sere', 'sereis', 'seriais', 'seriamos', 'serian', 'serias', 'sjalv', 'stara', 'staro', 'tambem', 'tambien', 'tendra', 'tendran', 'tendras', 'tendre', 'tendreis', 'tendria', 'tendriais', 'tendriamos', 'tendrian', 'tendrias', 'teneis', 'tengais', 'tenia', 'teniais', 'teniamos', 'tenian', 'tenias', 'tera', 'terao', 'teriamos', 'tinhamos', 'tiveramos', 'tivessemos', 'tuvieramos', 'tuviesemos', 'uber', 'varfor', 'voce', 'voces', 'wahrend', 'wurde', 'wurden', 'другои', 'еи', 'какои', 'мои', 'неи', 'сеичас', 'такои', 'этои'] not in stop_words.\n",
      "  'stop_words.' % sorted(inconsistent))\n"
     ]
    },
    {
     "name": "stderr",
     "output_type": "stream",
     "text": [
      "/Users/Noah/anaconda3/lib/python3.7/site-packages/sklearn/feature_extraction/text.py:385: UserWarning: Your stop_words may be inconsistent with your preprocessing. Tokenizing the stop words generated tokens ['ar', 'ate', 'avra', 'avro', 'dar', 'eramos', 'estabamos', 'estais', 'estan', 'estao', 'estara', 'estaran', 'estaras', 'estare', 'estareis', 'estaria', 'estariais', 'estariamos', 'estarian', 'estarias', 'estavamos', 'esteis', 'esten', 'estiveramos', 'estivessemos', 'estuvieramos', 'estuviesemos', 'etaient', 'etais', 'etait', 'etant', 'etante', 'etantes', 'etants', 'ete', 'etee', 'etees', 'etes', 'etiez', 'etions', 'eumes', 'eutes', 'fara', 'faro', 'foramos', 'fossemos', 'fran', 'fueramos', 'fuesemos', 'fumes', 'fur', 'futes', 'habeis', 'habia', 'habiais', 'habiamos', 'habian', 'habias', 'habra', 'habran', 'habras', 'habre', 'habreis', 'habria', 'habriais', 'habriamos', 'habrian', 'habrias', 'hao', 'hayais', 'houveramos', 'houverao', 'houveriamos', 'houvessemos', 'hubieramos', 'hubiesemos', 'ja', 'konnen', 'konnte', 'meme', 'mias', 'mios', 'nagon', 'nagot', 'nagra', 'nao', 'nar', 'pa', 'perche', 'piu', 'sadan', 'sadana', 'sadant', 'sao', 'sara', 'saro', 'seais', 'seran', 'serao', 'sere', 'sereis', 'seriais', 'seriamos', 'serian', 'serias', 'sjalv', 'stara', 'staro', 'tambem', 'tambien', 'tendra', 'tendran', 'tendras', 'tendre', 'tendreis', 'tendria', 'tendriais', 'tendriamos', 'tendrian', 'tendrias', 'teneis', 'tengais', 'tenia', 'teniais', 'teniamos', 'tenian', 'tenias', 'tera', 'terao', 'teriamos', 'tinhamos', 'tiveramos', 'tivessemos', 'tuvieramos', 'tuviesemos', 'uber', 'varfor', 'voce', 'voces', 'wahrend', 'wurde', 'wurden', 'другои', 'еи', 'какои', 'мои', 'неи', 'сеичас', 'такои', 'этои'] not in stop_words.\n",
      "  'stop_words.' % sorted(inconsistent))\n"
     ]
    },
    {
     "name": "stdout",
     "output_type": "stream",
     "text": [
      "0.2774043873566516\n",
      "0.29543039319872477\n"
     ]
    }
   ],
   "source": [
    "pipeline = Pipeline([\n",
    "    ('vect', CountVectorizer(strip_accents='unicode', stop_words=stop, ngram_range=(2,4))),\n",
    "    ('tfidf', TfidfTransformer()),\n",
    "    ('cls', BernoulliNB())\n",
    "])\n",
    "\n",
    "pipeline.fit(X_train, y_train)\n",
    "print(cross_val_score(pipeline, X_train, y_train, cv=5).mean())\n",
    "print(pipeline.score(X_test, y_test))"
   ]
  },
  {
   "cell_type": "markdown",
   "metadata": {},
   "source": [
    "#### 3.B) Try logistic regression and random forests in the pipeline.\n",
    "How do they compare? Recall that logistic regression is discriminative, whereas Naive Bayes is generative. Logistic regression uses optimization to fit a formula that discriminates between the classes, while Naive Bayes essentially just computes aggregate statistics. So, logistic regression should have a longer training time than Naive Bayes — but does it here? (See `%time`.)\n",
    "\n",
    "**Note**: Logistic regression and random forests both allow you to see feature importance/coefficients. In this case, these coefficients will inform you how strongly each word indicates a language. Optionally, see if you can sort these coefficients by their values to get the strongest and weakest indicator words for languages."
   ]
  },
  {
   "cell_type": "code",
   "execution_count": 165,
   "metadata": {
    "scrolled": true
   },
   "outputs": [
    {
     "name": "stderr",
     "output_type": "stream",
     "text": [
      "/Users/Noah/anaconda3/lib/python3.7/site-packages/sklearn/linear_model/_logistic.py:940: ConvergenceWarning: lbfgs failed to converge (status=1):\n",
      "STOP: TOTAL NO. of ITERATIONS REACHED LIMIT.\n",
      "\n",
      "Increase the number of iterations (max_iter) or scale the data as shown in:\n",
      "    https://scikit-learn.org/stable/modules/preprocessing.html\n",
      "Please also refer to the documentation for alternative solver options:\n",
      "    https://scikit-learn.org/stable/modules/linear_model.html#logistic-regression\n",
      "  extra_warning_msg=_LOGISTIC_SOLVER_CONVERGENCE_MSG)\n",
      "/Users/Noah/anaconda3/lib/python3.7/site-packages/sklearn/model_selection/_split.py:667: UserWarning: The least populated class in y has only 3 members, which is less than n_splits=5.\n",
      "  % (min_groups, self.n_splits)), UserWarning)\n",
      "/Users/Noah/anaconda3/lib/python3.7/site-packages/sklearn/linear_model/_logistic.py:940: ConvergenceWarning: lbfgs failed to converge (status=1):\n",
      "STOP: TOTAL NO. of ITERATIONS REACHED LIMIT.\n",
      "\n",
      "Increase the number of iterations (max_iter) or scale the data as shown in:\n",
      "    https://scikit-learn.org/stable/modules/preprocessing.html\n",
      "Please also refer to the documentation for alternative solver options:\n",
      "    https://scikit-learn.org/stable/modules/linear_model.html#logistic-regression\n",
      "  extra_warning_msg=_LOGISTIC_SOLVER_CONVERGENCE_MSG)\n",
      "/Users/Noah/anaconda3/lib/python3.7/site-packages/sklearn/linear_model/_logistic.py:940: ConvergenceWarning: lbfgs failed to converge (status=1):\n",
      "STOP: TOTAL NO. of ITERATIONS REACHED LIMIT.\n",
      "\n",
      "Increase the number of iterations (max_iter) or scale the data as shown in:\n",
      "    https://scikit-learn.org/stable/modules/preprocessing.html\n",
      "Please also refer to the documentation for alternative solver options:\n",
      "    https://scikit-learn.org/stable/modules/linear_model.html#logistic-regression\n",
      "  extra_warning_msg=_LOGISTIC_SOLVER_CONVERGENCE_MSG)\n",
      "/Users/Noah/anaconda3/lib/python3.7/site-packages/sklearn/linear_model/_logistic.py:940: ConvergenceWarning: lbfgs failed to converge (status=1):\n",
      "STOP: TOTAL NO. of ITERATIONS REACHED LIMIT.\n",
      "\n",
      "Increase the number of iterations (max_iter) or scale the data as shown in:\n",
      "    https://scikit-learn.org/stable/modules/preprocessing.html\n",
      "Please also refer to the documentation for alternative solver options:\n",
      "    https://scikit-learn.org/stable/modules/linear_model.html#logistic-regression\n",
      "  extra_warning_msg=_LOGISTIC_SOLVER_CONVERGENCE_MSG)\n",
      "/Users/Noah/anaconda3/lib/python3.7/site-packages/sklearn/linear_model/_logistic.py:940: ConvergenceWarning: lbfgs failed to converge (status=1):\n",
      "STOP: TOTAL NO. of ITERATIONS REACHED LIMIT.\n",
      "\n",
      "Increase the number of iterations (max_iter) or scale the data as shown in:\n",
      "    https://scikit-learn.org/stable/modules/preprocessing.html\n",
      "Please also refer to the documentation for alternative solver options:\n",
      "    https://scikit-learn.org/stable/modules/linear_model.html#logistic-regression\n",
      "  extra_warning_msg=_LOGISTIC_SOLVER_CONVERGENCE_MSG)\n"
     ]
    },
    {
     "name": "stdout",
     "output_type": "stream",
     "text": [
      "0.7754322775701892\n",
      "0.7899397803754871\n"
     ]
    }
   ],
   "source": [
    "from sklearn.ensemble import RandomForestClassifier\n",
    "from sklearn.linear_model import LogisticRegression\n",
    "\n",
    "pipeline = Pipeline([\n",
    "    ('vect', CountVectorizer(strip_accents='unicode', stop_words=['http', 'https', 'co', 'love'])),\n",
    "#    ('tfidf', TfidfTransformer()),\n",
    "    ('cls', LogisticRegression())\n",
    "])\n",
    "\n",
    "pipeline.fit(X_train, y_train)\n",
    "print(cross_val_score(pipeline, X_train, y_train, cv=5).mean())\n",
    "print(pipeline.score(X_test, y_test))"
   ]
  },
  {
   "cell_type": "markdown",
   "metadata": {},
   "source": [
    "#### 3.C) Also, try tweaking the parameters of `CountVectorizer` and `TfidfTranformer`.\n",
    "\n",
    "Remove TF-IDF. Is this good or bad?\n",
    "Yes ... slightly better than with TF-IDF\n",
    "Also.. taking out ngram_range completely is a good idea, and drastically improves the score (50% to 70%)"
   ]
  },
  {
   "cell_type": "code",
   "execution_count": 163,
   "metadata": {
    "scrolled": true
   },
   "outputs": [
    {
     "name": "stderr",
     "output_type": "stream",
     "text": [
      "/Users/Noah/anaconda3/lib/python3.7/site-packages/sklearn/model_selection/_split.py:667: UserWarning: The least populated class in y has only 3 members, which is less than n_splits=5.\n",
      "  % (min_groups, self.n_splits)), UserWarning)\n"
     ]
    },
    {
     "name": "stdout",
     "output_type": "stream",
     "text": [
      "0.7637379983707857\n",
      "0.7708111937654977\n"
     ]
    }
   ],
   "source": [
    "pipeline = Pipeline([\n",
    "    ('vect', CountVectorizer(strip_accents='unicode', stop_words=['http', 'https', 'co'])),\n",
    "#    ('tfidf', TfidfTransformer()),\n",
    "    ('cls', MultinomialNB())\n",
    "])\n",
    "\n",
    "pipeline.fit(X_train, y_train)\n",
    "print(cross_val_score(pipeline, X_train, y_train, cv=5).mean())\n",
    "print(pipeline.score(X_test, y_test))"
   ]
  },
  {
   "cell_type": "markdown",
   "metadata": {},
   "source": [
    "### 4) Check your score.\n",
    "For which languages does your model work best? Run a classification report for all languages. Plot the area under curve/ROC for particular languages (versus all others) and compare them — do they indicate that some languages perform better? Does our model perform worse while guessing on some languages versus others? "
   ]
  },
  {
   "cell_type": "code",
   "execution_count": 141,
   "metadata": {},
   "outputs": [
    {
     "name": "stdout",
     "output_type": "stream",
     "text": [
      "              precision    recall  f1-score   support\n",
      "\n",
      "          de       0.65      0.71      0.68       334\n",
      "          en       0.76      0.68      0.72       420\n",
      "          es       0.37      0.81      0.50       354\n",
      "          fr       0.76      0.68      0.72       347\n",
      "          it       0.65      0.57      0.61       269\n",
      "          pt       0.77      0.57      0.66       309\n",
      "          ru       0.84      0.63      0.72       223\n",
      "          sv       0.84      0.67      0.75       202\n",
      "          tl       0.00      0.00      0.00         1\n",
      "          uk       0.58      0.19      0.29        58\n",
      "         und       0.80      0.54      0.64       185\n",
      "          zh       0.83      0.44      0.57       121\n",
      "\n",
      "    accuracy                           0.64      2823\n",
      "   macro avg       0.66      0.54      0.57      2823\n",
      "weighted avg       0.70      0.64      0.65      2823\n",
      "\n"
     ]
    },
    {
     "name": "stderr",
     "output_type": "stream",
     "text": [
      "/Users/Noah/anaconda3/lib/python3.7/site-packages/sklearn/metrics/_classification.py:1272: UndefinedMetricWarning: Precision and F-score are ill-defined and being set to 0.0 in labels with no predicted samples. Use `zero_division` parameter to control this behavior.\n",
      "  _warn_prf(average, modifier, msg_start, len(result))\n"
     ]
    }
   ],
   "source": [
    "predictions = pipeline.predict(X_test)\n",
    "print(classification_report(y_test, predictions))"
   ]
  },
  {
   "cell_type": "markdown",
   "metadata": {},
   "source": [
    "### Revisiting: ROC/AUC."
   ]
  },
  {
   "cell_type": "markdown",
   "metadata": {},
   "source": [
    "Remember how to plot ROC curves for multiple classes using `scikitplot`."
   ]
  },
  {
   "cell_type": "code",
   "execution_count": 103,
   "metadata": {},
   "outputs": [],
   "source": [
    "import scikitplot as skplt\n",
    "from sklearn.metrics import roc_curve, auc, precision_recall_curve, average_precision_score"
   ]
  },
  {
   "cell_type": "code",
   "execution_count": 110,
   "metadata": {},
   "outputs": [
    {
     "data": {
      "text/html": [
       "<div>\n",
       "<style scoped>\n",
       "    .dataframe tbody tr th:only-of-type {\n",
       "        vertical-align: middle;\n",
       "    }\n",
       "\n",
       "    .dataframe tbody tr th {\n",
       "        vertical-align: top;\n",
       "    }\n",
       "\n",
       "    .dataframe thead th {\n",
       "        text-align: right;\n",
       "    }\n",
       "</style>\n",
       "<table border=\"1\" class=\"dataframe\">\n",
       "  <thead>\n",
       "    <tr style=\"text-align: right;\">\n",
       "      <th></th>\n",
       "      <th>de</th>\n",
       "      <th>en</th>\n",
       "      <th>es</th>\n",
       "      <th>fr</th>\n",
       "      <th>it</th>\n",
       "      <th>pt</th>\n",
       "      <th>ru</th>\n",
       "      <th>sv</th>\n",
       "      <th>tl</th>\n",
       "      <th>uk</th>\n",
       "      <th>und</th>\n",
       "      <th>zh</th>\n",
       "    </tr>\n",
       "  </thead>\n",
       "  <tbody>\n",
       "    <tr>\n",
       "      <th>0</th>\n",
       "      <td>0.000312</td>\n",
       "      <td>0.000623</td>\n",
       "      <td>0.044016</td>\n",
       "      <td>0.000034</td>\n",
       "      <td>0.004934</td>\n",
       "      <td>0.942170</td>\n",
       "      <td>0.006612</td>\n",
       "      <td>0.000105</td>\n",
       "      <td>2.428778e-10</td>\n",
       "      <td>1.651980e-04</td>\n",
       "      <td>0.000935</td>\n",
       "      <td>9.352859e-05</td>\n",
       "    </tr>\n",
       "    <tr>\n",
       "      <th>1</th>\n",
       "      <td>0.000007</td>\n",
       "      <td>0.000002</td>\n",
       "      <td>0.000008</td>\n",
       "      <td>0.999937</td>\n",
       "      <td>0.000007</td>\n",
       "      <td>0.000006</td>\n",
       "      <td>0.000013</td>\n",
       "      <td>0.000008</td>\n",
       "      <td>2.673514e-11</td>\n",
       "      <td>8.885131e-08</td>\n",
       "      <td>0.000011</td>\n",
       "      <td>5.375803e-07</td>\n",
       "    </tr>\n",
       "  </tbody>\n",
       "</table>\n",
       "</div>"
      ],
      "text/plain": [
       "         de        en        es        fr        it        pt        ru  \\\n",
       "0  0.000312  0.000623  0.044016  0.000034  0.004934  0.942170  0.006612   \n",
       "1  0.000007  0.000002  0.000008  0.999937  0.000007  0.000006  0.000013   \n",
       "\n",
       "         sv            tl            uk       und            zh  \n",
       "0  0.000105  2.428778e-10  1.651980e-04  0.000935  9.352859e-05  \n",
       "1  0.000008  2.673514e-11  8.885131e-08  0.000011  5.375803e-07  "
      ]
     },
     "execution_count": 110,
     "metadata": {},
     "output_type": "execute_result"
    }
   ],
   "source": [
    "# Using your pipeline, predict the probabilities of each language.\n",
    "# Then, plot the ROC curve.\n",
    "y_pp = pd.DataFrame(pipeline.predict_proba(X_train), columns=pipeline.classes_)\n",
    "y_pp.head(2)"
   ]
  },
  {
   "cell_type": "code",
   "execution_count": 114,
   "metadata": {},
   "outputs": [
    {
     "data": {
      "text/plain": [
       "8329    pt\n",
       "3320    fr\n",
       "7420    pt\n",
       "1712    es\n",
       "Name: LANG, dtype: object"
      ]
     },
     "execution_count": 114,
     "metadata": {},
     "output_type": "execute_result"
    }
   ],
   "source": [
    "y_train.head(4)"
   ]
  },
  {
   "cell_type": "code",
   "execution_count": 126,
   "metadata": {},
   "outputs": [
    {
     "data": {
      "image/png": "[encoded data removed]",
      "text/plain": [
       "<Figure size 432x432 with 1 Axes>"
      ]
     },
     "metadata": {
      "image/png": {
       "height": 397,
       "width": 401
      },
      "needs_background": "light"
     },
     "output_type": "display_data"
    }
   ],
   "source": [
    "# For one class, find the area under the curve... ROC only works for one class in a multi-class problem.\n",
    "fpr, tpr, threshold = roc_curve(y_train, y_pp.uk, pos_label='uk')\n",
    "roc_auc = auc(fpr, tpr)\n",
    "\n",
    "# Plot of a ROC curve for class 1\n",
    "plt.figure(figsize=[6, 6])\n",
    "plt.plot(fpr, tpr, label='ROC curve (area = %0.2f)' % roc_auc, linewidth=4)\n",
    "plt.plot([0, 1], [0, 1], 'k--', linewidth=4)\n",
    "plt.xlim([-0.05, 1.0])\n",
    "plt.ylim([-0.05, 1.05])\n",
    "plt.xlabel('False Positive Rate', fontsize=18)\n",
    "plt.ylabel('True Positive Rate', fontsize=18)\n",
    "plt.title('ROC curve', fontsize=18)\n",
    "plt.legend(loc=\"lower right\")\n",
    "plt.show()"
   ]
  },
  {
   "cell_type": "markdown",
   "metadata": {},
   "source": [
    "### 5) Check out your baseline.\n",
    "\n",
    "What is the chance that you'll randomly guess correctly without any modeling? Assume your input phrase's language has the same chance of appearing as the languages in your training set."
   ]
  },
  {
   "cell_type": "code",
   "execution_count": 139,
   "metadata": {},
   "outputs": [
    {
     "name": "stdout",
     "output_type": "stream",
     "text": [
      "Baseline: 0.1487937081517696\n"
     ]
    },
    {
     "data": {
      "text/plain": [
       "en     0.148794\n",
       "es     0.125306\n",
       "fr     0.122755\n",
       "de     0.118185\n",
       "pt     0.109470\n",
       "it     0.095228\n",
       "ru     0.079180\n",
       "sv     0.071740\n",
       "und    0.065469\n",
       "zh     0.043044\n",
       "uk     0.020406\n",
       "tl     0.000425\n",
       "Name: LANG, dtype: float64"
      ]
     },
     "execution_count": 139,
     "metadata": {},
     "output_type": "execute_result"
    }
   ],
   "source": [
    "print('Baseline:',y.value_counts(normalize=True).max())\n",
    "y.value_counts(normalize=True)"
   ]
  },
  {
   "cell_type": "markdown",
   "metadata": {},
   "source": [
    "### 6) What is your model not getting right?\n",
    "\n",
    "Check out the incorrectly classified tweets. Are there any noticeable patterns? Can you explain why many of these are incorrectly classified given what you know about how Naive Bayes works? Pay particular attention to the recall metric.  What could be done in the preprocessing steps to improve accuracy?  \n",
    "\n",
    "- Try to improve your **preprocessing first**.\n",
    "- Then, try to tweak your **parameters to your model(s)**."
   ]
  },
  {
   "cell_type": "code",
   "execution_count": 164,
   "metadata": {
    "scrolled": true
   },
   "outputs": [
    {
     "data": {
      "text/html": [
       "<div>\n",
       "<style scoped>\n",
       "    .dataframe tbody tr th:only-of-type {\n",
       "        vertical-align: middle;\n",
       "    }\n",
       "\n",
       "    .dataframe tbody tr th {\n",
       "        vertical-align: top;\n",
       "    }\n",
       "\n",
       "    .dataframe thead th {\n",
       "        text-align: right;\n",
       "    }\n",
       "</style>\n",
       "<table border=\"1\" class=\"dataframe\">\n",
       "  <thead>\n",
       "    <tr style=\"text-align: right;\">\n",
       "      <th></th>\n",
       "      <th>y_test</th>\n",
       "      <th>pred</th>\n",
       "      <th>text</th>\n",
       "    </tr>\n",
       "  </thead>\n",
       "  <tbody>\n",
       "    <tr>\n",
       "      <th>24</th>\n",
       "      <td>uk</td>\n",
       "      <td>ru</td>\n",
       "      <td>Одуванчик просто 🍃🌸 #love #kids #funny #nice #beauty #family #walk #model #look #севастополь http://t.co/b7Sl7y3zSJ</td>\n",
       "    </tr>\n",
       "    <tr>\n",
       "      <th>59</th>\n",
       "      <td>uk</td>\n",
       "      <td>pt</td>\n",
       "      <td>Вечеря на двох.... звучить романтично😃😃😃 #yammi\\n#sushi  #nice #romantic\\n#sister #love #loveyoumybaby #dinner #dinne… http://t.co/xY1QGKBxUA</td>\n",
       "    </tr>\n",
       "    <tr>\n",
       "      <th>60</th>\n",
       "      <td>uk</td>\n",
       "      <td>ru</td>\n",
       "      <td>#travel #лето #путешествие #summer #romantic #love #sea #summerdays @ Около Севастополя https://t.co/MOYwyGFLz5</td>\n",
       "    </tr>\n",
       "    <tr>\n",
       "      <th>74</th>\n",
       "      <td>uk</td>\n",
       "      <td>ru</td>\n",
       "      <td>Найди вторую собаку))) #dog #dogs #харьков http://t.co/qc52LDeWYd</td>\n",
       "    </tr>\n",
       "    <tr>\n",
       "      <th>88</th>\n",
       "      <td>uk</td>\n",
       "      <td>en</td>\n",
       "      <td>RT @DoraHoward9: us robotics 56k http://t.co/aehjCzKrMD #us #драйвер драйвер</td>\n",
       "    </tr>\n",
       "    <tr>\n",
       "      <th>118</th>\n",
       "      <td>uk</td>\n",
       "      <td>es</td>\n",
       "      <td>Танці біля моря... #family #travel #Ukraine #love https://t.co/I6Rf05UsS8</td>\n",
       "    </tr>\n",
       "    <tr>\n",
       "      <th>340</th>\n",
       "      <td>uk</td>\n",
       "      <td>ru</td>\n",
       "      <td>Сеструха.\\n\\n#tbt #ekaterinburg #vscocam #selfie #family #follow #екатеринбург #сестра #селфи #лето… https://t.co/O90WpvxSH3</td>\n",
       "    </tr>\n",
       "    <tr>\n",
       "      <th>370</th>\n",
       "      <td>uk</td>\n",
       "      <td>es</td>\n",
       "      <td>У Беларусі я не была амаль месяц. І зараз адчуваю, што Радзіма цягне да сябе. Але пакідаць Адэсу ýсе роýна цяжка #love #мора #see #Україна</td>\n",
       "    </tr>\n",
       "    <tr>\n",
       "      <th>431</th>\n",
       "      <td>uk</td>\n",
       "      <td>ru</td>\n",
       "      <td>Via @justfightX \\nАртём Гришанов - Я не верю / Remember the #Odessa Massacre May 2 (English subs)\\n#Ukraine #Russia #US http://t.co/Ape1rE2Jka</td>\n",
       "    </tr>\n",
       "    <tr>\n",
       "      <th>465</th>\n",
       "      <td>uk</td>\n",
       "      <td>de</td>\n",
       "      <td>яковлев ярослав романович. 12.07.2015 🎉 чудо с музыкальными пальчиками 😚 #home #family #nephew… https://t.co/SkxT9fmHru</td>\n",
       "    </tr>\n",
       "    <tr>\n",
       "      <th>567</th>\n",
       "      <td>uk</td>\n",
       "      <td>und</td>\n",
       "      <td>Гренобля..\\n#grenoble #france #путешествуемдальше #дорогадомой https://t.co/QtlQdt6VGy</td>\n",
       "    </tr>\n",
       "    <tr>\n",
       "      <th>640</th>\n",
       "      <td>uk</td>\n",
       "      <td>en</td>\n",
       "      <td>RT @INDIABONITA_11: ╔══╗───╔╦╗──╔══╗────╔╦╗ ╚║║╬═╦╦╝╠╬═╗║╔╗╠═╦═╦╬╣╚╦═╗ ╔║║╣║║║╬║║╬╚╣╔╗║╬║║║║║╔╣╬╚╗ ╚══╩╩═╩═╩╩══╩══╩═╩╩═╩╩═╩══╝ #love♡вℓєѕѕ …</td>\n",
       "    </tr>\n",
       "    <tr>\n",
       "      <th>650</th>\n",
       "      <td>uk</td>\n",
       "      <td>es</td>\n",
       "      <td>#love #relationship  Vadim.mayorov.80, 34, Cheboksary: Расскажу позже http://t.co/j7QIAjCrdr</td>\n",
       "    </tr>\n",
       "    <tr>\n",
       "      <th>655</th>\n",
       "      <td>uk</td>\n",
       "      <td>es</td>\n",
       "      <td>#Marseille #france вокзал Марселя @ Gare de Marseille St-Charles https://t.co/ribrLEpePp</td>\n",
       "    </tr>\n",
       "    <tr>\n",
       "      <th>764</th>\n",
       "      <td>uk</td>\n",
       "      <td>es</td>\n",
       "      <td>#ilovekazan #sun #summer #love by panimarya #kazan#казань http://t.co/tEdylLQkjR</td>\n",
       "    </tr>\n",
       "    <tr>\n",
       "      <th>774</th>\n",
       "      <td>uk</td>\n",
       "      <td>ru</td>\n",
       "      <td>Одуванчик просто 🍃🌸 #love #kids #funny #nice #beauty #family #walk #model #look #севастополь http://t.co/b7Sl7y3zSJ</td>\n",
       "    </tr>\n",
       "    <tr>\n",
       "      <th>826</th>\n",
       "      <td>uk</td>\n",
       "      <td>zh</td>\n",
       "      <td>Оптимизация транспортных расходов на полтора месяца) #dog #happydog #travel #me by babochkibabochki http://t.co/pHdt5En5AR</td>\n",
       "    </tr>\n",
       "    <tr>\n",
       "      <th>857</th>\n",
       "      <td>uk</td>\n",
       "      <td>es</td>\n",
       "      <td>@musejy @eljoe10 @iness_molin ви чарівнички!)дякуємо вам❤️❤️❤️\\n#червонашафа #5рочківразом #happytogether #almostmarried #love #lovemyboyfri…</td>\n",
       "    </tr>\n",
       "    <tr>\n",
       "      <th>898</th>\n",
       "      <td>uk</td>\n",
       "      <td>de</td>\n",
       "      <td>Ван лав💖\\n#InstaSize #love #instagood #me #like #follow #cute #photooftheday #tbt #followme  #girl #beautiful #happy… http://t.co/Ku7cMyIOm8</td>\n",
       "    </tr>\n",
       "    <tr>\n",
       "      <th>962</th>\n",
       "      <td>uk</td>\n",
       "      <td>ru</td>\n",
       "      <td>RT @hugoturner1969: Via @justfightX \\nАртём Гришанов - Я не верю / Remember the #Odessa Massacre May 2 (English subs)\\n#Ukraine #Russia #US h…</td>\n",
       "    </tr>\n",
       "    <tr>\n",
       "      <th>1017</th>\n",
       "      <td>uk</td>\n",
       "      <td>es</td>\n",
       "      <td>Гол Мовсисяна принес «Спартаку» победу над «Краснодаром» #love #library</td>\n",
       "    </tr>\n",
       "    <tr>\n",
       "      <th>1067</th>\n",
       "      <td>uk</td>\n",
       "      <td>es</td>\n",
       "      <td>Мій любімка❤ #love @ •Home•🍐 https://t.co/rQlhjUn7O8</td>\n",
       "    </tr>\n",
       "    <tr>\n",
       "      <th>1146</th>\n",
       "      <td>uk</td>\n",
       "      <td>de</td>\n",
       "      <td>На самом верху невероятно. Но снизу, правда, еще лучше #Paris #france by ivanychevsergey Eiffel_Tower #France http://t.co/hoCIFygW6e</td>\n",
       "    </tr>\n",
       "    <tr>\n",
       "      <th>1148</th>\n",
       "      <td>uk</td>\n",
       "      <td>ru</td>\n",
       "      <td>Д-Діма👌🏻 #friend #friends #fun #TagsForLikes.com #funny #love #instagood #igers #friendship #party… https://t.co/w6NVNFPHYP</td>\n",
       "    </tr>\n",
       "    <tr>\n",
       "      <th>1216</th>\n",
       "      <td>uk</td>\n",
       "      <td>ru</td>\n",
       "      <td>Бууусинка моя💗🎀🍭 #baby #family #girls #spb https://t.co/vm0FY1nZ5V</td>\n",
       "    </tr>\n",
       "    <tr>\n",
       "      <th>1526</th>\n",
       "      <td>uk</td>\n",
       "      <td>it</td>\n",
       "      <td>#summer #training with #nephew #meaning of #love 💙❤️ @ Центр культуры и Досуга Юность https://t.co/vpkt3HBLZu</td>\n",
       "    </tr>\n",
       "    <tr>\n",
       "      <th>1798</th>\n",
       "      <td>uk</td>\n",
       "      <td>und</td>\n",
       "      <td>Моїй манюні вчора виповнилось 3 рочки!)) Юхуув!))🎉🎀🎀🎀☺️💕 #sister #daughter #love #happy_birthday #domanytska #happy… http://t.co/tzNrkdaCqD</td>\n",
       "    </tr>\n",
       "    <tr>\n",
       "      <th>1799</th>\n",
       "      <td>uk</td>\n",
       "      <td>it</td>\n",
       "      <td>Venezia😞❤как же я скучаю\\n#missing #venezia #Italy #family #traveling #travel #ЦСХ @ Venezia, Italia https://t.co/b2uiyDZyiF</td>\n",
       "    </tr>\n",
       "    <tr>\n",
       "      <th>1833</th>\n",
       "      <td>uk</td>\n",
       "      <td>pt</td>\n",
       "      <td>InstaMaidan: Вечеря на двох.... звучить романтично😃😃😃 #yammi\\n#sushi  #nice #romantic\\n#sister #love #loveyoumybaby … http://t.co/zlgwZmWGly</td>\n",
       "    </tr>\n",
       "    <tr>\n",
       "      <th>1834</th>\n",
       "      <td>uk</td>\n",
       "      <td>en</td>\n",
       "      <td>Love to find pics of me! (not my pic) Вечірня радість💕 #goodday #icecream #love #atmosphere #vscocamgram #igerslviv #lovelviv #lovelviv #vs…</td>\n",
       "    </tr>\n",
       "    <tr>\n",
       "      <th>1964</th>\n",
       "      <td>uk</td>\n",
       "      <td>it</td>\n",
       "      <td>лав лав лав #selfie #blacksea #summer2015☀ #love #holidays https://t.co/qHGREQbyvt</td>\n",
       "    </tr>\n",
       "    <tr>\n",
       "      <th>1987</th>\n",
       "      <td>uk</td>\n",
       "      <td>en</td>\n",
       "      <td>Іллюша захотів, хресна не змогла відмовити 😉🎂🍰🍩🍇🍡🏡\\n#goodtime #home #family #parents #nature #child #cake #chocolate… http://t.co/OpU4Rulvfi</td>\n",
       "    </tr>\n",
       "    <tr>\n",
       "      <th>1998</th>\n",
       "      <td>uk</td>\n",
       "      <td>und</td>\n",
       "      <td>антистресс ♥ #shoes #love #black https://t.co/Y3qDEFPWg2</td>\n",
       "    </tr>\n",
       "    <tr>\n",
       "      <th>2015</th>\n",
       "      <td>uk</td>\n",
       "      <td>ru</td>\n",
       "      <td>Братишка 😊 #m #happymeal #mackdonalds #brother #family @ Voronezh Russian https://t.co/PtsnGsaRIz</td>\n",
       "    </tr>\n",
       "    <tr>\n",
       "      <th>2043</th>\n",
       "      <td>uk</td>\n",
       "      <td>ru</td>\n",
       "      <td>П. Провожашки. \\n#me #wefie #friends #family #семья #друзья #bro #бро #кош #кошитош https://t.co/9F3rsnLVyl</td>\n",
       "    </tr>\n",
       "    <tr>\n",
       "      <th>2057</th>\n",
       "      <td>uk</td>\n",
       "      <td>es</td>\n",
       "      <td>Танці біля моря... #family #travel #Ukraine #love https://t.co/I6Rf05UsS8</td>\n",
       "    </tr>\n",
       "    <tr>\n",
       "      <th>2178</th>\n",
       "      <td>uk</td>\n",
       "      <td>it</td>\n",
       "      <td>Здається, що не тільки у нас є більший брат :)\\n#HuaweiP8 #HuaweiP8max #Earth #Kepler452 #Makeitpossible http://t.co/6l9fmlpDKa</td>\n",
       "    </tr>\n",
       "    <tr>\n",
       "      <th>2182</th>\n",
       "      <td>uk</td>\n",
       "      <td>es</td>\n",
       "      <td>#Repost sonejka_\\n・・・\\nРазведка окрестности. #peace #smile #girls #stpitersburg #hotel #road… https://t.co/Zk3lgWhaZY</td>\n",
       "    </tr>\n",
       "    <tr>\n",
       "      <th>2205</th>\n",
       "      <td>uk</td>\n",
       "      <td>es</td>\n",
       "      <td>Просто тащусь від таких хмар!!!\\n#моя #болезнь #гроза #дощ #rain #crazy #love #girl #me #instabest… https://t.co/ECj7XEB3kX</td>\n",
       "    </tr>\n",
       "    <tr>\n",
       "      <th>2225</th>\n",
       "      <td>uk</td>\n",
       "      <td>en</td>\n",
       "      <td>На повтор👌🏻🔥#27072015 #today #tag #love #music #like #like4like #likeforlike #beast #beastisback… https://t.co/14vnDLmmXx</td>\n",
       "    </tr>\n",
       "    <tr>\n",
       "      <th>2320</th>\n",
       "      <td>uk</td>\n",
       "      <td>zh</td>\n",
       "      <td>крайний вечер в Ялте 👫 #love #together #dinner #evening #insta #igdaily #instadaily #instagramer #food #foodporn #f… http://t.co/hKXNO3jONL</td>\n",
       "    </tr>\n",
       "    <tr>\n",
       "      <th>2323</th>\n",
       "      <td>uk</td>\n",
       "      <td>es</td>\n",
       "      <td>#love #relationship  Najkrit, 26, Харків: Обычный http://t.co/zkiRTSWlA0</td>\n",
       "    </tr>\n",
       "    <tr>\n",
       "      <th>2579</th>\n",
       "      <td>uk</td>\n",
       "      <td>es</td>\n",
       "      <td>Ех, болгарське море :с\\nСуму за тобою.\\n#SummerTime #love http://t.co/nreBNeAZwl</td>\n",
       "    </tr>\n",
       "    <tr>\n",
       "      <th>2607</th>\n",
       "      <td>uk</td>\n",
       "      <td>es</td>\n",
       "      <td>Хитрая Нюшка))) #бивер#биверйорк #biewer #york #yorklove #doglove #dog #моясобака #собачка… https://t.co/qln3Uz8CLc</td>\n",
       "    </tr>\n",
       "    <tr>\n",
       "      <th>2610</th>\n",
       "      <td>uk</td>\n",
       "      <td>es</td>\n",
       "      <td>Це мило❤\\n#Messi #love http://t.co/0xHyaOqD82</td>\n",
       "    </tr>\n",
       "    <tr>\n",
       "      <th>2728</th>\n",
       "      <td>uk</td>\n",
       "      <td>ru</td>\n",
       "      <td>#dayoff #огни_ночного_города #Уфа#ufa#russia#bashkortostanrepublic#огни_ночного_города #уфа #ufa #da http://t.co/Uzht4ka91r</td>\n",
       "    </tr>\n",
       "    <tr>\n",
       "      <th>2783</th>\n",
       "      <td>uk</td>\n",
       "      <td>ru</td>\n",
       "      <td>Фром Ялта виз лав💞 #ялта #крым #лето #любовь #yalta #Crimea #Russia #summer #henna #hindi #car #love #WithLoveFromY… http://t.co/GQPxFbQndg</td>\n",
       "    </tr>\n",
       "  </tbody>\n",
       "</table>\n",
       "</div>"
      ],
      "text/plain": [
       "     y_test pred  \\\n",
       "24       uk   ru   \n",
       "59       uk   pt   \n",
       "60       uk   ru   \n",
       "74       uk   ru   \n",
       "88       uk   en   \n",
       "118      uk   es   \n",
       "340      uk   ru   \n",
       "370      uk   es   \n",
       "431      uk   ru   \n",
       "465      uk   de   \n",
       "567      uk  und   \n",
       "640      uk   en   \n",
       "650      uk   es   \n",
       "655      uk   es   \n",
       "764      uk   es   \n",
       "774      uk   ru   \n",
       "826      uk   zh   \n",
       "857      uk   es   \n",
       "898      uk   de   \n",
       "962      uk   ru   \n",
       "1017     uk   es   \n",
       "1067     uk   es   \n",
       "1146     uk   de   \n",
       "1148     uk   ru   \n",
       "1216     uk   ru   \n",
       "1526     uk   it   \n",
       "1798     uk  und   \n",
       "1799     uk   it   \n",
       "1833     uk   pt   \n",
       "1834     uk   en   \n",
       "1964     uk   it   \n",
       "1987     uk   en   \n",
       "1998     uk  und   \n",
       "2015     uk   ru   \n",
       "2043     uk   ru   \n",
       "2057     uk   es   \n",
       "2178     uk   it   \n",
       "2182     uk   es   \n",
       "2205     uk   es   \n",
       "2225     uk   en   \n",
       "2320     uk   zh   \n",
       "2323     uk   es   \n",
       "2579     uk   es   \n",
       "2607     uk   es   \n",
       "2610     uk   es   \n",
       "2728     uk   ru   \n",
       "2783     uk   ru   \n",
       "\n",
       "                                                                                                                                                text  \n",
       "24                               Одуванчик просто 🍃🌸 #love #kids #funny #nice #beauty #family #walk #model #look #севастополь http://t.co/b7Sl7y3zSJ  \n",
       "59     Вечеря на двох.... звучить романтично😃😃😃 #yammi\\n#sushi  #nice #romantic\\n#sister #love #loveyoumybaby #dinner #dinne… http://t.co/xY1QGKBxUA  \n",
       "60                                   #travel #лето #путешествие #summer #romantic #love #sea #summerdays @ Около Севастополя https://t.co/MOYwyGFLz5  \n",
       "74                                                                                 Найди вторую собаку))) #dog #dogs #харьков http://t.co/qc52LDeWYd  \n",
       "88                                                                      RT @DoraHoward9: us robotics 56k http://t.co/aehjCzKrMD #us #драйвер драйвер  \n",
       "118                                                                        Танці біля моря... #family #travel #Ukraine #love https://t.co/I6Rf05UsS8  \n",
       "340                     Сеструха.\\n\\n#tbt #ekaterinburg #vscocam #selfie #family #follow #екатеринбург #сестра #селфи #лето… https://t.co/O90WpvxSH3  \n",
       "370       У Беларусі я не была амаль месяц. І зараз адчуваю, што Радзіма цягне да сябе. Але пакідаць Адэсу ýсе роýна цяжка #love #мора #see #Україна  \n",
       "431   Via @justfightX \\nАртём Гришанов - Я не верю / Remember the #Odessa Massacre May 2 (English subs)\\n#Ukraine #Russia #US http://t.co/Ape1rE2Jka  \n",
       "465                          яковлев ярослав романович. 12.07.2015 🎉 чудо с музыкальными пальчиками 😚 #home #family #nephew… https://t.co/SkxT9fmHru  \n",
       "567                                                           Гренобля..\\n#grenoble #france #путешествуемдальше #дорогадомой https://t.co/QtlQdt6VGy  \n",
       "640     RT @INDIABONITA_11: ╔══╗───╔╦╗──╔══╗────╔╦╗ ╚║║╬═╦╦╝╠╬═╗║╔╗╠═╦═╦╬╣╚╦═╗ ╔║║╣║║║╬║║╬╚╣╔╗║╬║║║║║╔╣╬╚╗ ╚══╩╩═╩═╩╩══╩══╩═╩╩═╩╩═╩══╝ #love♡вℓєѕѕ …  \n",
       "650                                                     #love #relationship  Vadim.mayorov.80, 34, Cheboksary: Расскажу позже http://t.co/j7QIAjCrdr  \n",
       "655                                                         #Marseille #france вокзал Марселя @ Gare de Marseille St-Charles https://t.co/ribrLEpePp  \n",
       "764                                                                 #ilovekazan #sun #summer #love by panimarya #kazan#казань http://t.co/tEdylLQkjR  \n",
       "774                              Одуванчик просто 🍃🌸 #love #kids #funny #nice #beauty #family #walk #model #look #севастополь http://t.co/b7Sl7y3zSJ  \n",
       "826                       Оптимизация транспортных расходов на полтора месяца) #dog #happydog #travel #me by babochkibabochki http://t.co/pHdt5En5AR  \n",
       "857    @musejy @eljoe10 @iness_molin ви чарівнички!)дякуємо вам❤️❤️❤️\\n#червонашафа #5рочківразом #happytogether #almostmarried #love #lovemyboyfri…  \n",
       "898     Ван лав💖\\n#InstaSize #love #instagood #me #like #follow #cute #photooftheday #tbt #followme  #girl #beautiful #happy… http://t.co/Ku7cMyIOm8  \n",
       "962   RT @hugoturner1969: Via @justfightX \\nАртём Гришанов - Я не верю / Remember the #Odessa Massacre May 2 (English subs)\\n#Ukraine #Russia #US h…  \n",
       "1017                                                                         Гол Мовсисяна принес «Спартаку» победу над «Краснодаром» #love #library  \n",
       "1067                                                                                            Мій любімка❤ #love @ •Home•🍐 https://t.co/rQlhjUn7O8  \n",
       "1146            На самом верху невероятно. Но снизу, правда, еще лучше #Paris #france by ivanychevsergey Eiffel_Tower #France http://t.co/hoCIFygW6e  \n",
       "1148                     Д-Діма👌🏻 #friend #friends #fun #TagsForLikes.com #funny #love #instagood #igers #friendship #party… https://t.co/w6NVNFPHYP  \n",
       "1216                                                                              Бууусинка моя💗🎀🍭 #baby #family #girls #spb https://t.co/vm0FY1nZ5V  \n",
       "1526                                   #summer #training with #nephew #meaning of #love 💙❤️ @ Центр культуры и Досуга Юность https://t.co/vpkt3HBLZu  \n",
       "1798     Моїй манюні вчора виповнилось 3 рочки!)) Юхуув!))🎉🎀🎀🎀☺️💕 #sister #daughter #love #happy_birthday #domanytska #happy… http://t.co/tzNrkdaCqD  \n",
       "1799                    Venezia😞❤как же я скучаю\\n#missing #venezia #Italy #family #traveling #travel #ЦСХ @ Venezia, Italia https://t.co/b2uiyDZyiF  \n",
       "1833    InstaMaidan: Вечеря на двох.... звучить романтично😃😃😃 #yammi\\n#sushi  #nice #romantic\\n#sister #love #loveyoumybaby … http://t.co/zlgwZmWGly  \n",
       "1834    Love to find pics of me! (not my pic) Вечірня радість💕 #goodday #icecream #love #atmosphere #vscocamgram #igerslviv #lovelviv #lovelviv #vs…  \n",
       "1964                                                              лав лав лав #selfie #blacksea #summer2015☀ #love #holidays https://t.co/qHGREQbyvt  \n",
       "1987    Іллюша захотів, хресна не змогла відмовити 😉🎂🍰🍩🍇🍡🏡\\n#goodtime #home #family #parents #nature #child #cake #chocolate… http://t.co/OpU4Rulvfi  \n",
       "1998                                                                                        антистресс ♥ #shoes #love #black https://t.co/Y3qDEFPWg2  \n",
       "2015                                               Братишка 😊 #m #happymeal #mackdonalds #brother #family @ Voronezh Russian https://t.co/PtsnGsaRIz  \n",
       "2043                                     П. Провожашки. \\n#me #wefie #friends #family #семья #друзья #bro #бро #кош #кошитош https://t.co/9F3rsnLVyl  \n",
       "2057                                                                       Танці біля моря... #family #travel #Ukraine #love https://t.co/I6Rf05UsS8  \n",
       "2178                 Здається, що не тільки у нас є більший брат :)\\n#HuaweiP8 #HuaweiP8max #Earth #Kepler452 #Makeitpossible http://t.co/6l9fmlpDKa  \n",
       "2182                           #Repost sonejka_\\n・・・\\nРазведка окрестности. #peace #smile #girls #stpitersburg #hotel #road… https://t.co/Zk3lgWhaZY  \n",
       "2205                     Просто тащусь від таких хмар!!!\\n#моя #болезнь #гроза #дощ #rain #crazy #love #girl #me #instabest… https://t.co/ECj7XEB3kX  \n",
       "2225                       На повтор👌🏻🔥#27072015 #today #tag #love #music #like #like4like #likeforlike #beast #beastisback… https://t.co/14vnDLmmXx  \n",
       "2320     крайний вечер в Ялте 👫 #love #together #dinner #evening #insta #igdaily #instadaily #instagramer #food #foodporn #f… http://t.co/hKXNO3jONL  \n",
       "2323                                                                        #love #relationship  Najkrit, 26, Харків: Обычный http://t.co/zkiRTSWlA0  \n",
       "2579                                                                Ех, болгарське море :с\\nСуму за тобою.\\n#SummerTime #love http://t.co/nreBNeAZwl  \n",
       "2607                             Хитрая Нюшка))) #бивер#биверйорк #biewer #york #yorklove #doglove #dog #моясобака #собачка… https://t.co/qln3Uz8CLc  \n",
       "2610                                                                                                   Це мило❤\\n#Messi #love http://t.co/0xHyaOqD82  \n",
       "2728                     #dayoff #огни_ночного_города #Уфа#ufa#russia#bashkortostanrepublic#огни_ночного_города #уфа #ufa #da http://t.co/Uzht4ka91r  \n",
       "2783     Фром Ялта виз лав💞 #ялта #крым #лето #любовь #yalta #Crimea #Russia #summer #henna #hindi #car #love #WithLoveFromY… http://t.co/GQPxFbQndg  "
      ]
     },
     "execution_count": 164,
     "metadata": {},
     "output_type": "execute_result"
    }
   ],
   "source": [
    "pd.set_option('display.max_colwidth',1000)\n",
    "check = pd.DataFrame(list(zip(y_test,predictions,X_test)), columns=['y_test', 'pred', 'text'])\n",
    "false = check[check.y_test != check.pred]\n",
    "false[false['y_test']=='uk']"
   ]
  },
  {
   "cell_type": "markdown",
   "metadata": {},
   "source": [
    "## Additional Practice\n",
    "\n",
    "There are two additional data sets in the directory that you can use for more practice:\n",
    "\n",
    "- **/datasets/tweets_sentiment.csv**: Sentiment analysis.\n",
    "\n",
    "- **/datasets/insults_train.csv**: [Kaggle data set](https://www.kaggle.com/c/detecting-insults-in-social-commentary). _Warning:_ This content is fairly provocative and contains offensive and insensitive words. However, this type of problem is common in the continuum of comment threads throughout the web.\n",
    "\n",
    "    - Check out [this blog post](http://webmining.olariu.org/my-first-kaggle-competition-and-how-i-ranked/) by a guy who used support vector machines, a \"neural network,\" and a ton of cleaning to place third in a Kaggle competition using this same data set. Additionally, see [this post](http://peekaboo-vision.blogspot.de/2012/09/recap-of-my-first-kaggle-competition.html) — he took sixth place and found that the best model was a simple logistic regression.\n",
    "\n",
    "#### Where to next?\n",
    "\n",
    "If you're interested in this type of problem, a great area to read up on is sentiment analysis. This [Kaggle data set](https://www.kaggle.com/c/sentiment-analysis-on-movie-reviews/data) offers an excellent opportunity for more practice.  The following white papers are also great for further exploration in this topic:\n",
    "\n",
    "- [Fast and accurate sentiment classification using an enhanced Naive Bayes model](http://arxiv.org/pdf/1305.6143.pdf)— *a great overview!*\n",
    "- [Sarcasm detection](http://www.aclweb.org/anthology/P15-2124)\n",
    "- [Making computers laugh: Investigations in automatic humor recognition](http://www.aclweb.org/anthology/H05-1067)\n",
    "- [Modeling sarcasm in Twitter, a novel approach](http://www.aclweb.org/anthology/W14-2609)\n",
    "- [Narcissism and lie detection](https://deepblue.lib.umich.edu/bitstream/handle/2027.42/107345/zarins.finalthesis.pdf?sequence=1) — *this study's metrics are interesting*"
   ]
  }
 ],
 "metadata": {
  "anaconda-cloud": {},
  "kernelspec": {
   "display_name": "Python 3",
   "language": "python",
   "name": "python3"
  },
  "toc": {
   "base_numbering": 1,
   "nav_menu": {},
   "number_sections": false,
   "sideBar": true,
   "skip_h1_title": true,
   "title_cell": "Table of Contents",
   "title_sidebar": "Contents",
   "toc_cell": false,
   "toc_position": {},
   "toc_section_display": "block",
   "toc_window_display": false
  },
  "varInspector": {
   "cols": {
    "lenName": 16,
    "lenType": 16,
    "lenVar": 40
   },
   "kernels_config": {
    "python": {
     "delete_cmd_postfix": "",
     "delete_cmd_prefix": "del ",
     "library": "var_list.py",
     "varRefreshCmd": "print(var_dic_list())"
    },
    "r": {
     "delete_cmd_postfix": ") ",
     "delete_cmd_prefix": "rm(",
     "library": "var_list.r",
     "varRefreshCmd": "cat(var_dic_list()) "
    }
   },
   "types_to_exclude": [
    "module",
    "function",
    "builtin_function_or_method",
    "instance",
    "_Feature"
   ],
   "window_display": false
  }
 },
 "nbformat": 4,
 "nbformat_minor": 1
}
