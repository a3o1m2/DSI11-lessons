{
 "cells": [
  {
   "cell_type": "markdown",
   "metadata": {},
   "source": [
    "<img src=\"http://imgur.com/1ZcRyrc.png\" style=\"float: left; margin: 20px; height: 55px\">\n",
    "\n",
    "# Confidence Intervals for Statistical Measurements\n",
    "\n",
    "\n",
    "---"
   ]
  },
  {
   "cell_type": "markdown",
   "metadata": {},
   "source": [
    "## Learning Objectives\n",
    "\n",
    "- Distinguish between sample and population\n",
    "- Calculate a sample statistic like the mean\n",
    "- Understand how a confidence interval expresses uncertainty about the inference of a statistic\n",
    "- Visualize the central limit theorem\n",
    "- Calculate the confidence interval around a sample mean\n"
   ]
  },
  {
   "cell_type": "markdown",
   "metadata": {
    "toc": true
   },
   "source": [
    "<h1>Lesson Guide<span class=\"tocSkip\"></span></h1>\n",
    "<div class=\"toc\"><ul class=\"toc-item\"><li><span><a href=\"#Learning-Objectives\" data-toc-modified-id=\"Learning-Objectives-1\">Learning Objectives</a></span></li><li><span><a href=\"#Introduction\" data-toc-modified-id=\"Introduction-2\">Introduction</a></span><ul class=\"toc-item\"><li><span><a href=\"#Interpreting-the-Confidence-Interval\" data-toc-modified-id=\"Interpreting-the-Confidence-Interval-2.1\">Interpreting the Confidence Interval</a></span></li></ul></li><li><span><a href=\"#Distribution-of-sample-mean\" data-toc-modified-id=\"Distribution-of-sample-mean-3\">Distribution of sample mean</a></span></li><li><span><a href=\"#The-central-limit-theorem\" data-toc-modified-id=\"The-central-limit-theorem-4\">The central limit theorem</a></span></li><li><span><a href=\"#Confidence-intervals-for-the-mean\" data-toc-modified-id=\"Confidence-intervals-for-the-mean-5\">Confidence intervals for the mean</a></span><ul class=\"toc-item\"><li><span><a href=\"#Known-population-standard-deviation\" data-toc-modified-id=\"Known-population-standard-deviation-5.1\">Known population standard deviation</a></span><ul class=\"toc-item\"><li><span><a href=\"#The-plot-below-shows-these-z-score-bounds-on-the-$Z-\\sim-N(0,-1)$-distribution:\" data-toc-modified-id=\"The-plot-below-shows-these-z-score-bounds-on-the-$Z-\\sim-N(0,-1)$-distribution:-5.1.1\">The plot below shows these z-score bounds on the $Z \\sim N(0, 1)$ distribution:</a></span></li></ul></li><li><span><a href=\"#Unknown-population-standard-deviation\" data-toc-modified-id=\"Unknown-population-standard-deviation-5.2\">Unknown population standard deviation</a></span></li></ul></li><li><span><a href=\"#Determining-the-confidence-intervals\" data-toc-modified-id=\"Determining-the-confidence-intervals-6\">Determining the confidence intervals</a></span><ul class=\"toc-item\"><li><span><a href=\"#Load-the-Boston-housing-data\" data-toc-modified-id=\"Load-the-Boston-housing-data-6.1\">Load the Boston housing data</a></span></li><li><span><a href=\"#Determine-95-%-confidence-intervals-for-the-mean-of-all-the-variables-(target-and-predictors)\" data-toc-modified-id=\"Determine-95-%-confidence-intervals-for-the-mean-of-all-the-variables-(target-and-predictors)-6.2\">Determine 95 % confidence intervals for the mean of all the variables (target and predictors)</a></span></li><li><span><a href=\"#Bonus:-How-many-more-observations-would-we-need-to-make-the-confidence-interval-10-times-narrower-assuming-that-the-sample-mean-and-standard-deviation-remain-the-same?\" data-toc-modified-id=\"Bonus:-How-many-more-observations-would-we-need-to-make-the-confidence-interval-10-times-narrower-assuming-that-the-sample-mean-and-standard-deviation-remain-the-same?-6.3\">Bonus: How many more observations would we need to make the confidence interval 10 times narrower assuming that the sample mean and standard deviation remain the same?</a></span></li></ul></li></ul></div>"
   ]
  },
  {
   "cell_type": "markdown",
   "metadata": {},
   "source": [
    "## Introduction\n",
    "\n",
    "In statistical inference, the aim is to determine how reliable the conclusions are that we want to draw from observed data. The typical scenario is that we have a data **sample** on which we measure some **statistics** (e.g. the mean). The question that we would like to ask is will the sample mean agree with the mean that would be obtained if we were measuring all the potential sample candidates which we would call the **population**.\n",
    "\n",
    "We will use the following vocabulary:\n",
    "\n",
    "- **Sample:** Set of measured individuals/items\n",
    "- **Population:** Set of all potentially measurable individuals/items\n",
    "- **Statistic:** Number measured on the sample, e.g. mean, median or standard deviation\n",
    "\n",
    "**Example:** We want to find out the mean height of the world's human population. We collect a sample of 100 individuals and measure their height. Then we take the mean of all measured heights. Let's say we obtain 1.70 m. \n",
    "\n",
    "**Question:** Should we believe that if we measured the heights of all people in the world, the mean would be 1.70 as well?\n",
    "\n",
    "\n",
    "\n",
    "**Answer:** Of course not. We get a precise value from our sample which will not coincide on all digits with the population mean. But will the sample mean at least be close to the population mean? Maybe! We will only be able to make probabilistic statements. This is exactly what confidence intervals are about. \n",
    "\n",
    "**Confidence intervals conceptually:** We will indicate a margin around our statistic, e.g. \n",
    "    \n",
    "> the mean is $1.70\\pm 0.06$ m. \n",
    "\n",
    "The margin expresses our estimate of uncertainty in inferring the population statistic from the sample statistic. The width of the margin depends on our choice of confidence level. For example you will often hear about 95 % or 99 % confidence intervals.\n",
    "\n",
    "**How do we express uncertainty?** We get many data samples and measure the sample statistic for each of them. We will obtain a confidence interval from each sample, but the boundaries and widths of the confidence intervals will be different each time. If we determined the uncertainty margins each time to be 95 % confidence intervals, the population mean should be contained in exactly 95 % of the confidence intervals, but not in 5 % of them. \n",
    "\n",
    "**Example:** We obtain 100 samples of height measurements, each time of 80 persons. Then we might get something like\n",
    "\n",
    "- sample 1: mean(height) = $170 \\pm 5.8$\n",
    "- sample 2: mean(height) = $170.9 \\pm 5.2$\n",
    "- sample 3: mean(height) = $166.1 \\pm 3.9$\n",
    "\n",
    "etc. with 95 % confidence intervals. If the true population mean height is 170.2, the confidence intervals of sample 1 and sample 2 do contain the population mean, but the confidence interval of sample 3 does not. Out of the 100 confidence intervals, 95 would contain the population mean and 5 would not. We call the distribution of the means measured for all samples the **sampling distribution** of the mean.\n",
    "\n",
    "Watch this [simulation](https://rpsychologist.com/d3/CI/).\n",
    "\n",
    "**Question:** How would you formulate the above for a 99 % confidence interval? Would it be wider or narrower than a 95 % confidence interval?"
   ]
  },
  {
   "cell_type": "markdown",
   "metadata": {},
   "source": [
    "So this is the concept, but how do we actually determine confidence intervals? For that purpose we have to understand how likely it is to observe a sample with certain statistical properties given that the population has certain statistical properties. \n",
    "\n",
    "**Example:** If the world's population has a mean height of 1.70 m, how likely is it that a sample will have a mean of 1.68 m?\n",
    "\n",
    "If we are able to answer this question, then we will be able to determine our confidence interval through a simple mathematical formula even if we do not know the mean height of the world's population.\n",
    "\n",
    "\n",
    "**Caveats:**\n",
    "\n",
    "- Usually we obtain only one sample. We do not get a variety of data samples and do not know the distribution of the statistics of interest across different samples.\n",
    "- We do not know how the data of the whole population is distributed. But that would be essential to know how likely statistical properties of a sample are. \n",
    "- We will come across the important **Central Limit Theorem**. Its main essence is that for determining confidence intervals for certain statistics (like the mean) we do not have to worry about the distribution of the population.\n",
    "\n",
    "**What will the width of the confidence interval depend on?**\n",
    "\n",
    "Often only on a few quantities measured on the sample. In the case of a mean, all we need to know is \n",
    "\n",
    "- the sample size (number of observations)\n",
    "- the mean of the sample\n",
    "- the standard deviation of the sample"
   ]
  },
  {
   "cell_type": "markdown",
   "metadata": {},
   "source": [
    "### Interpreting the Confidence Interval\n",
    "\n",
    "\n",
    "Suppose a 95% confidence interval for the mean number of pasta dishes I eat in a week is [2.5, 5.5]. There are two interpretations we can derive from this, and one of them is wrong.\n",
    "\n",
    "\n",
    "**Interpretation 1 (incorrect):**\n",
    "> There is a 95% probability that the number of pasta dishes I eat in a week is between 2.5 and 5.5.\n",
    "\n",
    "**Interpretation 2 (correct):**\n",
    " > If we pulled 100 samples and constructed confidence intervals in the same manner, we expect that 95 of the intervals would contain the true mean of number of pasta dishes I eat in a week.\n",
    "\n",
    "\n",
    "\n",
    "\n",
    "Why is interpretation 1 wrong? It assigns a probability to the true value. In frequentist statistics, the true value is fixed and the data is random. Confidence intervals make a statement of probability about the confidence interval range that could contain the true value.\n",
    "\n",
    "This is a critical difference in frequentist statistics (vs. Bayesian); our data has a probability of occurring, but there is no probability regarding possible values for the true parameter.\n",
    "\n",
    "[This blog post has a great discussion of the difference between the frequentist confidence interval and the Bayesian credible interval.](http://jakevdp.github.io/blog/2014/06/12/frequentism-and-bayesianism-3-confidence-credibility/)\n",
    "\n",
    "**We can also reframe this statement in terms of the random sampling procedure:**\n",
    "\n",
    "Typically, you will see confidence intervals expressed as...\n",
    "> _We are 95% confident that the mean number of pasta dishes I eat each week is between 2.5 and 5.5._\n",
    "\n",
    "While the above is the common shorthand, we can also think about a supplementary statement...\n",
    "> _We are also 5% confident that the mean number of pasta dishes I eat each week does not fall in between 2.5 and 5.5._\n",
    "\n",
    "**Tip:**  It is the random data and mathematical process that you are measuring when expressing a confidence interval. \n",
    "\n",
    "[This post has more examples and information on the correct way to interpret Confidence Intervals.](http://www.mathbootcamps.com/interpreting-confidence-intervals/)\n",
    "\n",
    "[A good illustration of confidence intervals](http://rpsychologist.com/d3/CI/)"
   ]
  },
  {
   "cell_type": "markdown",
   "metadata": {},
   "source": [
    "## Distribution of sample mean"
   ]
  },
  {
   "cell_type": "markdown",
   "metadata": {},
   "source": [
    "Let's see what we would get if we fix a certain distribution for the population, e.g. the normal distribution with mean=0 and std=1. Then we create 10000 samples which contain 80 observations each. For each of the samples, we calculate the mean and append it to a list.\n",
    "In the end we plot the distribution of the sample means."
   ]
  },
  {
   "cell_type": "code",
   "execution_count": 1,
   "metadata": {},
   "outputs": [],
   "source": [
    "import pandas as pd\n",
    "import numpy as np\n",
    "import matplotlib.pyplot as plt\n",
    "import seaborn as sns\n",
    "sns.set(font_scale=1.5)\n",
    "\n",
    "%config InlineBackend.figure_format = 'retina'\n",
    "%matplotlib inline\n",
    "\n",
    "import scipy.stats as stats"
   ]
  },
  {
   "cell_type": "code",
   "execution_count": 2,
   "metadata": {},
   "outputs": [],
   "source": [
    "def get_sample_stats(n_samples=10000, sample_size=80, distribution=stats.norm(), statistic=np.mean):\n",
    "    stats_list = []\n",
    "    for sample in range(n_samples):\n",
    "        stats_sample = statistic(distribution.rvs(size=sample_size))\n",
    "        stats_list.append(stats_sample)\n",
    "    return np.array(stats_list)"
   ]
  },
  {
   "cell_type": "code",
   "execution_count": 3,
   "metadata": {},
   "outputs": [
    {
     "data": {
      "image/png": "[encoded data removed]",
      "text/plain": [
       "<Figure size 432x288 with 1 Axes>"
      ]
     },
     "metadata": {
      "image/png": {
       "height": 259,
       "width": 370
      },
      "needs_background": "light"
     },
     "output_type": "display_data"
    }
   ],
   "source": [
    "distribution = stats.norm()\n",
    "sample_size = 100\n",
    "population_mean = distribution.stats()[0]\n",
    "population_std = distribution.stats()[1]**0.5\n",
    "mean_distribution = stats.norm(loc=population_mean, \n",
    "                               scale=population_std/sample_size**0.5)\n",
    "sample_stats = get_sample_stats(n_samples=10000, \n",
    "                                sample_size=sample_size, \n",
    "                                distribution=distribution,\n",
    "                                statistic=np.mean)\n",
    "\n",
    "plt.hist(sample_stats, bins=20, density=True)\n",
    "x_vals = np.linspace(population_mean-3*population_std, \n",
    "                     population_mean+3*population_std, \n",
    "                     1000)\n",
    "y_vals = mean_distribution.pdf(x_vals)\n",
    "plt.plot(x_vals, y_vals)    \n",
    "plt.show()"
   ]
  },
  {
   "cell_type": "code",
   "execution_count": 4,
   "metadata": {},
   "outputs": [
    {
     "data": {
      "text/plain": [
       "(array(0.), 1.0)"
      ]
     },
     "execution_count": 4,
     "metadata": {},
     "output_type": "execute_result"
    }
   ],
   "source": [
    "population_mean, population_std"
   ]
  },
  {
   "cell_type": "markdown",
   "metadata": {},
   "source": [
    "**How does the histogram change if we change `n_samples`, `sample_size` or the `distribution`?**"
   ]
  },
  {
   "cell_type": "markdown",
   "metadata": {},
   "source": [
    "## The central limit theorem"
   ]
  },
  {
   "cell_type": "markdown",
   "metadata": {},
   "source": [
    "The essential finding of the central limit theorem is the line added to the plot to fit the histogram. This line displays a normal distribution with\n",
    "\n",
    "- the mean is equal to the population mean, i.e. the mean of `distribution`, which is `population_mean`\n",
    "- the standard deviation is equal to the population standard deviation divided by the square root of the sample size, `population_std/sample_size**0.5`\n",
    "\n",
    "This is exactly what the central limit theorem says.\n",
    "\n",
    "We can formally define [the central limit theorm](http://homepages.math.uic.edu/~bpower6/stat101/Sampling%20Distributions.pdf) in the following way:\n",
    "\n",
    "> In probability theory, the central limit theorem (CLT) states that, when independent random variables are added, their sum tends toward a normal distribution (commonly known as a bell curve), even if the original variables themselves are not normally distributed. In more precise terms, given certain conditions, the arithmetic mean of a sufficiently large number of iterates of independent random variables — each with a well-defined (finite) mean and finite variance — will be approximately normally distributed, regardless of the underlying distribution.\n",
    "\n",
    "> If $X \\sim N(\\mu,\\sigma)$, then $\\bar{X}$ is exactly $N(\\mu,\\frac{\\sigma}{\\sqrt{n}})$.\n",
    "\n",
    "> If $X$ is not normally distributed, then $\\bar{X}$ is approximately $N(\\mu,\\frac{\\sigma}{\\sqrt{n}})$ if the sample size $n$ is at least 30. As $n$ increases, $\\bar{X}$ becomes asymptotically normally distributed.\n",
    "\n",
    "> $\\frac{\\sigma}{\\sqrt{n}}$ is referred to as the **standard error**."
   ]
  },
  {
   "cell_type": "markdown",
   "metadata": {},
   "source": [
    "## Confidence intervals for the mean\n",
    "\n",
    "Because of the central limit theorem, determining confidence intervals for the mean of a sample can be done through simple formulas regardless of how the population is distributed as long as the sample is large enough.\n",
    "\n",
    "We distinguish two cases."
   ]
  },
  {
   "cell_type": "markdown",
   "metadata": {},
   "source": [
    "### Known population standard deviation\n",
    "\n",
    "In the somewhat unrealistic situation that we know the population standard deviation but try to infer the mean from a sample, we should use the formula"
   ]
  },
  {
   "cell_type": "markdown",
   "metadata": {},
   "source": [
    "$$ \\text{CI} = \\text{sample mean} \\pm \\text{multiplier} \\cdot \\text{standard error} $$\n",
    "\n",
    "$$\\text{CI} = \\bar{x} \\pm z_{\\alpha/2} \\cdot \\frac{s}{\\sqrt{n}}$$\n",
    "\n",
    "Here \n",
    "\n",
    "$$\n",
    "\\alpha = 1-\\text{confidence level in  % /100}\n",
    "$$\n",
    "\n",
    "and $z_{\\alpha/2}$ is the percentile boundary of the standard normal distribution for $\\alpha/2$.\n",
    "\n",
    "**If we want our confidence level to be:**\n",
    "- **90%**: The z-score multiplier should be **z = 1.645**, because 90% of the area under the $Z \\sim N(0, 1)$ normal distribution lies between -1.645 and 1.645.\n",
    "- **95%**: The z-score multiplier should be **z = 1.960**, because 95% of the area under the $Z \\sim N(0, 1)$ normal distribution lies between -1.960 and 1.960.\n",
    "- **99%**: The z-score multiplier should be **z = 2.576**, because 99% of the area under the $Z \\sim N(0, 1)$ normal distribution lies between -2.576 and 2.576."
   ]
  },
  {
   "cell_type": "code",
   "execution_count": 5,
   "metadata": {},
   "outputs": [],
   "source": [
    "Z = stats.norm(0, 1)"
   ]
  },
  {
   "cell_type": "code",
   "execution_count": 6,
   "metadata": {},
   "outputs": [
    {
     "data": {
      "text/plain": [
       "array([-1.64485363,  1.64485363])"
      ]
     },
     "execution_count": 6,
     "metadata": {},
     "output_type": "execute_result"
    }
   ],
   "source": [
    "Z.ppf([0.05, 0.95])"
   ]
  },
  {
   "cell_type": "code",
   "execution_count": 7,
   "metadata": {},
   "outputs": [
    {
     "data": {
      "text/plain": [
       "array([-1.95996398,  1.95996398])"
      ]
     },
     "execution_count": 7,
     "metadata": {},
     "output_type": "execute_result"
    }
   ],
   "source": [
    "Z.ppf([0.025, 0.975])"
   ]
  },
  {
   "cell_type": "code",
   "execution_count": 8,
   "metadata": {},
   "outputs": [
    {
     "data": {
      "text/plain": [
       "array([-2.5758293,  2.5758293])"
      ]
     },
     "execution_count": 8,
     "metadata": {},
     "output_type": "execute_result"
    }
   ],
   "source": [
    "Z.ppf([0.005, 0.995])"
   ]
  },
  {
   "cell_type": "markdown",
   "metadata": {},
   "source": [
    "#### The plot below shows these z-score bounds on the $Z \\sim N(0, 1)$ distribution:"
   ]
  },
  {
   "cell_type": "code",
   "execution_count": 9,
   "metadata": {},
   "outputs": [
    {
     "data": {
      "image/png": "[encoded data removed]",
      "text/plain": [
       "<Figure size 720x360 with 1 Axes>"
      ]
     },
     "metadata": {
      "image/png": {
       "height": 314,
       "width": 607
      },
      "needs_background": "light"
     },
     "output_type": "display_data"
    }
   ],
   "source": [
    "zx = np.linspace(-3.5, 3.5, 250)\n",
    "zy = Z.pdf(zx)\n",
    "\n",
    "# Initialize a matplotlib \"figure:\"\n",
    "fig, ax = plt.subplots(figsize=(10, 5))\n",
    "\n",
    "# 90%:\n",
    "ax.axvline(Z.ppf(0.05), ls='dashed', lw=3, color='#333333', alpha=0.7)\n",
    "ax.axvline(Z.ppf(0.95), ls='dashed', lw=3, color='#333333', alpha=0.7, label='z=1.645, 90%')\n",
    "\n",
    "# 95%:\n",
    "ax.axvline(Z.ppf(0.025), ls='dashed', lw=3, color='#666666', alpha=0.7)\n",
    "ax.axvline(Z.ppf(0.975), ls='dashed', lw=3, color='#666666', alpha=0.7, label='z=1.960, 95%')\n",
    "\n",
    "# 99%:\n",
    "ax.axvline(Z.ppf(0.005), ls='dashed', lw=3, color='#999999', alpha=0.7)\n",
    "ax.axvline(Z.ppf(0.995), ls='dashed', lw=3, color='#999999', alpha=0.7, label='z=2.576, 99%')\n",
    "\n",
    "ax.plot(zx, zy, linewidth=3, color='darkred')\n",
    "ax.legend(loc='upper left', fontsize=16)\n",
    "plt.show()"
   ]
  },
  {
   "cell_type": "markdown",
   "metadata": {},
   "source": [
    "### Unknown population standard deviation"
   ]
  },
  {
   "cell_type": "markdown",
   "metadata": {},
   "source": [
    "If the population standard deviation is not known (that is always) we have to estimate the standard deviation from the sample and we should use a similar formula with a different numerical factor\n",
    "\n",
    "> $$\\text{CI} = \\bar{x} \\pm t_{\\alpha/2,n-1} \\cdot \\frac{s}{\\sqrt{n}}$$\n",
    "\n",
    "using percentile boundaries from the t-distribution. This distribution has an additional parameter referred to as the \"degrees of freedom\", which for this case has to be set to $n-1$ with $n$ the number of observations.\n",
    "\n",
    "\n",
    "Using the t-statistic assumes that the sample for which the mean is calculated stems from a normal distribution. For large enough sample size, the mean is normally distributed due to the central limit theorem, and the population itself does not have to be normally distributed to use this formula.\n",
    "\n",
    "The t-statistic is just like the z-score (ie, the standardized normal distribution) but a fatter tailed version, ie more of the area in the tails and outside the confidence interval too... the tail-fatness goes up as sample size goes down. The t tends to the z as the sample size increases\n",
    "\n",
    "> **Note:** Whereas the above formulas hold regardless of how the population is distributed as long as the samples are  large enough (at least more than 30 observations), for smaller sample sizes the population distribution does matter. The latter formula can be applied even for smaller sample sizes as long as the population data is normally distributed."
   ]
  },
  {
   "cell_type": "code",
   "execution_count": 10,
   "metadata": {},
   "outputs": [],
   "source": [
    "# let's assume we have n observations\n",
    "n = 100\n",
    "df = n-1"
   ]
  },
  {
   "cell_type": "code",
   "execution_count": 11,
   "metadata": {},
   "outputs": [
    {
     "data": {
      "text/plain": [
       "array([-1.66039116,  1.66039116])"
      ]
     },
     "execution_count": 11,
     "metadata": {},
     "output_type": "execute_result"
    }
   ],
   "source": [
    "stats.t(df).ppf([0.05, 0.95])"
   ]
  },
  {
   "cell_type": "code",
   "execution_count": 12,
   "metadata": {},
   "outputs": [
    {
     "data": {
      "text/plain": [
       "array([-1.98421695,  1.98421695])"
      ]
     },
     "execution_count": 12,
     "metadata": {},
     "output_type": "execute_result"
    }
   ],
   "source": [
    "stats.t(df).ppf([0.025, 0.975])"
   ]
  },
  {
   "cell_type": "code",
   "execution_count": 13,
   "metadata": {},
   "outputs": [
    {
     "data": {
      "text/plain": [
       "array([-2.62640546,  2.62640546])"
      ]
     },
     "execution_count": 13,
     "metadata": {},
     "output_type": "execute_result"
    }
   ],
   "source": [
    "stats.t(df).ppf([0.005, 0.995])"
   ]
  },
  {
   "cell_type": "markdown",
   "metadata": {},
   "source": [
    "## Determining the confidence intervals"
   ]
  },
  {
   "cell_type": "code",
   "execution_count": 14,
   "metadata": {},
   "outputs": [],
   "source": [
    "# Draw random variate samples form a normal distribution\n",
    "np.random.seed(1)\n",
    "distribution = stats.norm(3, 1)\n",
    "sample = distribution.rvs(size=n)"
   ]
  },
  {
   "cell_type": "code",
   "execution_count": 15,
   "metadata": {},
   "outputs": [
    {
     "data": {
      "text/plain": [
       "0.08896154673124121"
      ]
     },
     "execution_count": 15,
     "metadata": {},
     "output_type": "execute_result"
    }
   ],
   "source": [
    "# standard error\n",
    "sample.std(ddof=1)/len(sample)**0.5"
   ]
  },
  {
   "cell_type": "code",
   "execution_count": 16,
   "metadata": {},
   "outputs": [
    {
     "data": {
      "text/plain": [
       "0.08896154673124121"
      ]
     },
     "execution_count": 16,
     "metadata": {},
     "output_type": "execute_result"
    }
   ],
   "source": [
    "# standard error with scipy\n",
    "standard_error = stats.sem(sample)\n",
    "standard_error"
   ]
  },
  {
   "cell_type": "code",
   "execution_count": 17,
   "metadata": {},
   "outputs": [
    {
     "data": {
      "text/plain": [
       "array([-1.95996398,  1.95996398])"
      ]
     },
     "execution_count": 17,
     "metadata": {},
     "output_type": "execute_result"
    }
   ],
   "source": [
    "# z-factor\n",
    "stats.norm(0, 1).ppf([0.025, 0.975])"
   ]
  },
  {
   "cell_type": "code",
   "execution_count": 18,
   "metadata": {},
   "outputs": [
    {
     "data": {
      "text/plain": [
       "array([-1.95996398,  1.95996398])"
      ]
     },
     "execution_count": 18,
     "metadata": {},
     "output_type": "execute_result"
    }
   ],
   "source": [
    "# z factor using the interval function on the distribution\n",
    "z_factor = np.array(stats.norm.interval(0.95))\n",
    "z_factor"
   ]
  },
  {
   "cell_type": "code",
   "execution_count": 19,
   "metadata": {},
   "outputs": [
    {
     "data": {
      "text/plain": [
       "array([-1.98421695,  1.98421695])"
      ]
     },
     "execution_count": 19,
     "metadata": {},
     "output_type": "execute_result"
    }
   ],
   "source": [
    "# t-factor using the interval function on the distribution\n",
    "t_factor = np.array(stats.t(df=len(sample)-1).interval(0.95))\n",
    "t_factor"
   ]
  },
  {
   "cell_type": "code",
   "execution_count": 20,
   "metadata": {},
   "outputs": [
    {
     "data": {
      "text/plain": [
       "array([2.88622142, 3.23494428])"
      ]
     },
     "execution_count": 20,
     "metadata": {},
     "output_type": "execute_result"
    }
   ],
   "source": [
    "# confidence interval with z-factor\n",
    "sample.mean() + z_factor*standard_error"
   ]
  },
  {
   "cell_type": "code",
   "execution_count": 21,
   "metadata": {},
   "outputs": [
    {
     "data": {
      "text/plain": [
       "array([2.88406384, 3.23710186])"
      ]
     },
     "execution_count": 21,
     "metadata": {},
     "output_type": "execute_result"
    }
   ],
   "source": [
    "# confidence interval with t-factor\n",
    "sample.mean() + t_factor*standard_error"
   ]
  },
  {
   "cell_type": "code",
   "execution_count": 28,
   "metadata": {},
   "outputs": [],
   "source": [
    "# Note - so in practise we won't know population std so we generally use standard error.\n",
    "# Note - we also use the t-statistic as we want to incorporate the sample-size adjustment to the z-score, this is\n",
    "# a truer picture"
   ]
  },
  {
   "cell_type": "markdown",
   "metadata": {},
   "source": [
    "### Load the Boston housing data"
   ]
  },
  {
   "cell_type": "code",
   "execution_count": 22,
   "metadata": {},
   "outputs": [],
   "source": [
    "from sklearn.datasets import load_boston"
   ]
  },
  {
   "cell_type": "code",
   "execution_count": 23,
   "metadata": {},
   "outputs": [],
   "source": [
    "data = load_boston()"
   ]
  },
  {
   "cell_type": "code",
   "execution_count": 35,
   "metadata": {},
   "outputs": [
    {
     "data": {
      "text/html": [
       "<div>\n",
       "<style scoped>\n",
       "    .dataframe tbody tr th:only-of-type {\n",
       "        vertical-align: middle;\n",
       "    }\n",
       "\n",
       "    .dataframe tbody tr th {\n",
       "        vertical-align: top;\n",
       "    }\n",
       "\n",
       "    .dataframe thead th {\n",
       "        text-align: right;\n",
       "    }\n",
       "</style>\n",
       "<table border=\"1\" class=\"dataframe\">\n",
       "  <thead>\n",
       "    <tr style=\"text-align: right;\">\n",
       "      <th></th>\n",
       "      <th>CRIM</th>\n",
       "      <th>ZN</th>\n",
       "      <th>INDUS</th>\n",
       "      <th>CHAS</th>\n",
       "      <th>NOX</th>\n",
       "      <th>RM</th>\n",
       "      <th>AGE</th>\n",
       "      <th>DIS</th>\n",
       "      <th>RAD</th>\n",
       "      <th>TAX</th>\n",
       "      <th>PTRATIO</th>\n",
       "      <th>B</th>\n",
       "      <th>LSTAT</th>\n",
       "    </tr>\n",
       "  </thead>\n",
       "  <tbody>\n",
       "    <tr>\n",
       "      <th>0</th>\n",
       "      <td>0.00632</td>\n",
       "      <td>18.0</td>\n",
       "      <td>2.31</td>\n",
       "      <td>0.0</td>\n",
       "      <td>0.538</td>\n",
       "      <td>6.575</td>\n",
       "      <td>65.2</td>\n",
       "      <td>4.09</td>\n",
       "      <td>1.0</td>\n",
       "      <td>296.0</td>\n",
       "      <td>15.3</td>\n",
       "      <td>396.9</td>\n",
       "      <td>4.98</td>\n",
       "    </tr>\n",
       "  </tbody>\n",
       "</table>\n",
       "</div>"
      ],
      "text/plain": [
       "      CRIM    ZN  INDUS  CHAS    NOX     RM   AGE   DIS  RAD    TAX  PTRATIO  \\\n",
       "0  0.00632  18.0   2.31   0.0  0.538  6.575  65.2  4.09  1.0  296.0     15.3   \n",
       "\n",
       "       B  LSTAT  \n",
       "0  396.9   4.98  "
      ]
     },
     "execution_count": 35,
     "metadata": {},
     "output_type": "execute_result"
    }
   ],
   "source": [
    "X = pd.DataFrame(data.data, columns=data.feature_names)\n",
    "X.head(1)"
   ]
  },
  {
   "cell_type": "markdown",
   "metadata": {},
   "source": [
    "### Determine 95 % confidence intervals for the mean of all the variables (target and predictors)\n",
    "\n",
    "Calculate with both formulas using either normal or t-distribution.\n",
    "\n",
    "**Bonus:** Calculate 90 % and 99 % confidence intervals."
   ]
  },
  {
   "cell_type": "code",
   "execution_count": 62,
   "metadata": {},
   "outputs": [
    {
     "data": {
      "text/html": [
       "<div>\n",
       "<style scoped>\n",
       "    .dataframe tbody tr th:only-of-type {\n",
       "        vertical-align: middle;\n",
       "    }\n",
       "\n",
       "    .dataframe tbody tr th {\n",
       "        vertical-align: top;\n",
       "    }\n",
       "\n",
       "    .dataframe thead th {\n",
       "        text-align: right;\n",
       "    }\n",
       "</style>\n",
       "<table border=\"1\" class=\"dataframe\">\n",
       "  <thead>\n",
       "    <tr style=\"text-align: right;\">\n",
       "      <th></th>\n",
       "      <th>Low</th>\n",
       "      <th>High</th>\n",
       "      <th>Interval</th>\n",
       "    </tr>\n",
       "  </thead>\n",
       "  <tbody>\n",
       "    <tr>\n",
       "      <th>CRIM</th>\n",
       "      <td>2.862262</td>\n",
       "      <td>4.364786</td>\n",
       "      <td>1.502524</td>\n",
       "    </tr>\n",
       "    <tr>\n",
       "      <th>ZN</th>\n",
       "      <td>9.326645</td>\n",
       "      <td>13.400628</td>\n",
       "      <td>4.073983</td>\n",
       "    </tr>\n",
       "    <tr>\n",
       "      <th>INDUS</th>\n",
       "      <td>10.537593</td>\n",
       "      <td>11.735964</td>\n",
       "      <td>1.198371</td>\n",
       "    </tr>\n",
       "    <tr>\n",
       "      <th>CHAS</th>\n",
       "      <td>0.046986</td>\n",
       "      <td>0.091354</td>\n",
       "      <td>0.044368</td>\n",
       "    </tr>\n",
       "    <tr>\n",
       "      <th>NOX</th>\n",
       "      <td>0.544574</td>\n",
       "      <td>0.564816</td>\n",
       "      <td>0.020242</td>\n",
       "    </tr>\n",
       "    <tr>\n",
       "      <th>RM</th>\n",
       "      <td>6.223268</td>\n",
       "      <td>6.346001</td>\n",
       "      <td>0.122734</td>\n",
       "    </tr>\n",
       "    <tr>\n",
       "      <th>AGE</th>\n",
       "      <td>66.116370</td>\n",
       "      <td>71.033433</td>\n",
       "      <td>4.917063</td>\n",
       "    </tr>\n",
       "    <tr>\n",
       "      <th>DIS</th>\n",
       "      <td>3.611129</td>\n",
       "      <td>3.978956</td>\n",
       "      <td>0.367827</td>\n",
       "    </tr>\n",
       "    <tr>\n",
       "      <th>RAD</th>\n",
       "      <td>8.788912</td>\n",
       "      <td>10.309902</td>\n",
       "      <td>1.520990</td>\n",
       "    </tr>\n",
       "    <tr>\n",
       "      <th>TAX</th>\n",
       "      <td>393.517063</td>\n",
       "      <td>422.957245</td>\n",
       "      <td>29.440182</td>\n",
       "    </tr>\n",
       "    <tr>\n",
       "      <th>PTRATIO</th>\n",
       "      <td>18.266446</td>\n",
       "      <td>18.644621</td>\n",
       "      <td>0.378174</td>\n",
       "    </tr>\n",
       "    <tr>\n",
       "      <th>B</th>\n",
       "      <td>348.700306</td>\n",
       "      <td>364.647757</td>\n",
       "      <td>15.947451</td>\n",
       "    </tr>\n",
       "    <tr>\n",
       "      <th>LSTAT</th>\n",
       "      <td>12.029360</td>\n",
       "      <td>13.276766</td>\n",
       "      <td>1.247406</td>\n",
       "    </tr>\n",
       "  </tbody>\n",
       "</table>\n",
       "</div>"
      ],
      "text/plain": [
       "                Low        High   Interval\n",
       "CRIM       2.862262    4.364786   1.502524\n",
       "ZN         9.326645   13.400628   4.073983\n",
       "INDUS     10.537593   11.735964   1.198371\n",
       "CHAS       0.046986    0.091354   0.044368\n",
       "NOX        0.544574    0.564816   0.020242\n",
       "RM         6.223268    6.346001   0.122734\n",
       "AGE       66.116370   71.033433   4.917063\n",
       "DIS        3.611129    3.978956   0.367827\n",
       "RAD        8.788912   10.309902   1.520990\n",
       "TAX      393.517063  422.957245  29.440182\n",
       "PTRATIO   18.266446   18.644621   0.378174\n",
       "B        348.700306  364.647757  15.947451\n",
       "LSTAT     12.029360   13.276766   1.247406"
      ]
     },
     "execution_count": 62,
     "metadata": {},
     "output_type": "execute_result"
    }
   ],
   "source": [
    "t_factor_95 = np.array(stats.t(df=len(data.data)-1).interval(0.95))\n",
    "\n",
    "CI_95 = pd.DataFrame([data.data[:,i].mean() + t_factor_95*stats.sem(data.data[:,i])\n",
    "                      for i in range(len(data.feature_names))], columns=['Low','High'],\n",
    "                     index=data.feature_names)\n",
    "CI_95['Interval'] = CI_95.apply(lambda x: x['High']-x['Low'], axis=1)\n",
    "CI_95"
   ]
  },
  {
   "cell_type": "markdown",
   "metadata": {},
   "source": [
    "### Bonus: How many more observations would we need to make the confidence interval 10 times narrower assuming that the sample mean and standard deviation remain the same?"
   ]
  },
  {
   "cell_type": "code",
   "execution_count": 68,
   "metadata": {},
   "outputs": [
    {
     "data": {
      "text/html": [
       "<div>\n",
       "<style scoped>\n",
       "    .dataframe tbody tr th:only-of-type {\n",
       "        vertical-align: middle;\n",
       "    }\n",
       "\n",
       "    .dataframe tbody tr th {\n",
       "        vertical-align: top;\n",
       "    }\n",
       "\n",
       "    .dataframe thead th {\n",
       "        text-align: right;\n",
       "    }\n",
       "</style>\n",
       "<table border=\"1\" class=\"dataframe\">\n",
       "  <thead>\n",
       "    <tr style=\"text-align: right;\">\n",
       "      <th></th>\n",
       "      <th>Low</th>\n",
       "      <th>High</th>\n",
       "      <th>Interval</th>\n",
       "    </tr>\n",
       "  </thead>\n",
       "  <tbody>\n",
       "    <tr>\n",
       "      <th>CRIM</th>\n",
       "      <td>3.538397</td>\n",
       "      <td>3.688650</td>\n",
       "      <td>0.150252</td>\n",
       "    </tr>\n",
       "    <tr>\n",
       "      <th>ZN</th>\n",
       "      <td>11.159937</td>\n",
       "      <td>11.567335</td>\n",
       "      <td>0.407398</td>\n",
       "    </tr>\n",
       "    <tr>\n",
       "      <th>INDUS</th>\n",
       "      <td>11.076860</td>\n",
       "      <td>11.196697</td>\n",
       "      <td>0.119837</td>\n",
       "    </tr>\n",
       "    <tr>\n",
       "      <th>CHAS</th>\n",
       "      <td>0.066952</td>\n",
       "      <td>0.071388</td>\n",
       "      <td>0.004437</td>\n",
       "    </tr>\n",
       "    <tr>\n",
       "      <th>NOX</th>\n",
       "      <td>0.553683</td>\n",
       "      <td>0.555707</td>\n",
       "      <td>0.002024</td>\n",
       "    </tr>\n",
       "    <tr>\n",
       "      <th>RM</th>\n",
       "      <td>6.278498</td>\n",
       "      <td>6.290771</td>\n",
       "      <td>0.012273</td>\n",
       "    </tr>\n",
       "    <tr>\n",
       "      <th>AGE</th>\n",
       "      <td>68.329048</td>\n",
       "      <td>68.820754</td>\n",
       "      <td>0.491706</td>\n",
       "    </tr>\n",
       "    <tr>\n",
       "      <th>DIS</th>\n",
       "      <td>3.776651</td>\n",
       "      <td>3.813434</td>\n",
       "      <td>0.036783</td>\n",
       "    </tr>\n",
       "    <tr>\n",
       "      <th>RAD</th>\n",
       "      <td>9.473358</td>\n",
       "      <td>9.625457</td>\n",
       "      <td>0.152099</td>\n",
       "    </tr>\n",
       "    <tr>\n",
       "      <th>TAX</th>\n",
       "      <td>406.765145</td>\n",
       "      <td>409.709163</td>\n",
       "      <td>2.944018</td>\n",
       "    </tr>\n",
       "    <tr>\n",
       "      <th>PTRATIO</th>\n",
       "      <td>18.436625</td>\n",
       "      <td>18.474442</td>\n",
       "      <td>0.037817</td>\n",
       "    </tr>\n",
       "    <tr>\n",
       "      <th>B</th>\n",
       "      <td>355.876659</td>\n",
       "      <td>357.471404</td>\n",
       "      <td>1.594745</td>\n",
       "    </tr>\n",
       "    <tr>\n",
       "      <th>LSTAT</th>\n",
       "      <td>12.590693</td>\n",
       "      <td>12.715434</td>\n",
       "      <td>0.124741</td>\n",
       "    </tr>\n",
       "  </tbody>\n",
       "</table>\n",
       "</div>"
      ],
      "text/plain": [
       "                Low        High  Interval\n",
       "CRIM       3.538397    3.688650  0.150252\n",
       "ZN        11.159937   11.567335  0.407398\n",
       "INDUS     11.076860   11.196697  0.119837\n",
       "CHAS       0.066952    0.071388  0.004437\n",
       "NOX        0.553683    0.555707  0.002024\n",
       "RM         6.278498    6.290771  0.012273\n",
       "AGE       68.329048   68.820754  0.491706\n",
       "DIS        3.776651    3.813434  0.036783\n",
       "RAD        9.473358    9.625457  0.152099\n",
       "TAX      406.765145  409.709163  2.944018\n",
       "PTRATIO   18.436625   18.474442  0.037817\n",
       "B        355.876659  357.471404  1.594745\n",
       "LSTAT     12.590693   12.715434  0.124741"
      ]
     },
     "execution_count": 68,
     "metadata": {},
     "output_type": "execute_result"
    }
   ],
   "source": [
    "# as we know we'd have to increase samples by 100 to get CI reduction by 10 times, so just plug into formula:\n",
    "# as we know the standard error is / sqrt(sample_size). I just divided by 10 below.. to relicate /sqrt(100)\n",
    "\n",
    "CI_95_narrow = pd.DataFrame([data.data[:,i].mean() + t_factor_95*stats.sem(data.data[:,i]/10)\n",
    "                      for i in range(len(data.feature_names))], columns=['Low','High'],\n",
    "                     index=data.feature_names)\n",
    "CI_95_narrow['Interval'] = CI_95_narrow.apply(lambda x: x['High']-x['Low'], axis=1)\n",
    "CI_95_narrow"
   ]
  },
  {
   "cell_type": "code",
   "execution_count": 69,
   "metadata": {},
   "outputs": [],
   "source": [
    "# As our sample size was quite large, ie. larger than 30, we could've used z-score"
   ]
  },
  {
   "cell_type": "code",
   "execution_count": null,
   "metadata": {},
   "outputs": [],
   "source": []
  }
 ],
 "metadata": {
  "kernelspec": {
   "display_name": "Python 3",
   "language": "python",
   "name": "python3"
  },
  "language_info": {
   "codemirror_mode": {
    "name": "ipython",
    "version": 3
   },
   "file_extension": ".py",
   "mimetype": "text/x-python",
   "name": "python",
   "nbconvert_exporter": "python",
   "pygments_lexer": "ipython3",
   "version": "3.7.3"
  },
  "toc": {
   "base_numbering": 1,
   "nav_menu": {},
   "number_sections": false,
   "sideBar": true,
   "skip_h1_title": true,
   "title_cell": "Lesson Guide",
   "title_sidebar": "Contents",
   "toc_cell": true,
   "toc_position": {},
   "toc_section_display": true,
   "toc_window_display": false
  },
  "varInspector": {
   "cols": {
    "lenName": 16,
    "lenType": 16,
    "lenVar": 40
   },
   "kernels_config": {
    "python": {
     "delete_cmd_postfix": "",
     "delete_cmd_prefix": "del ",
     "library": "var_list.py",
     "varRefreshCmd": "print(var_dic_list())"
    },
    "r": {
     "delete_cmd_postfix": ") ",
     "delete_cmd_prefix": "rm(",
     "library": "var_list.r",
     "varRefreshCmd": "cat(var_dic_list()) "
    }
   },
   "types_to_exclude": [
    "module",
    "function",
    "builtin_function_or_method",
    "instance",
    "_Feature"
   ],
   "window_display": false
  }
 },
 "nbformat": 4,
 "nbformat_minor": 2
}
