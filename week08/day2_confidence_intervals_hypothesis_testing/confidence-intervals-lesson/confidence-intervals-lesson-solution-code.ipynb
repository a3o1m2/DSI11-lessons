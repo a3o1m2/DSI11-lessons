{
 "cells": [
  {
   "cell_type": "markdown",
   "metadata": {},
   "source": [
    "<img src=\"http://imgur.com/1ZcRyrc.png\" style=\"float: left; margin: 20px; height: 55px\">\n",
    "\n",
    "# Confidence Intervals for Statistical Measurements\n",
    "\n",
    "\n",
    "---"
   ]
  },
  {
   "cell_type": "code",
   "execution_count": 2,
   "metadata": {},
   "outputs": [],
   "source": [
    "import pandas as pd\n",
    "import numpy as np\n",
    "import matplotlib.pyplot as plt\n",
    "import seaborn as sns\n",
    "sns.set(font_scale=1.5)\n",
    "\n",
    "%config InlineBackend.figure_format = 'retina'\n",
    "%matplotlib inline"
   ]
  },
  {
   "cell_type": "code",
   "execution_count": 3,
   "metadata": {},
   "outputs": [],
   "source": [
    "from scipy import stats as stats\n",
    "from sklearn.datasets import load_boston"
   ]
  },
  {
   "cell_type": "markdown",
   "metadata": {},
   "source": [
    "### Load the Boston housing data"
   ]
  },
  {
   "cell_type": "code",
   "execution_count": 4,
   "metadata": {},
   "outputs": [],
   "source": [
    "data = load_boston()"
   ]
  },
  {
   "cell_type": "markdown",
   "metadata": {},
   "source": [
    "### Determine 95 % confidence intervals for the mean of all the variables (target and predictors)\n",
    "\n",
    "Calculate with both formulas using either normal or t-distribution.\n",
    "\n",
    "**Bonus:** Calculate 90 % and 99 % confidence intervals."
   ]
  },
  {
   "cell_type": "markdown",
   "metadata": {},
   "source": [
    "#### Target variable"
   ]
  },
  {
   "cell_type": "code",
   "execution_count": 5,
   "metadata": {},
   "outputs": [
    {
     "data": {
      "text/plain": [
       "array([21.86028958, 23.20532307])"
      ]
     },
     "execution_count": 5,
     "metadata": {},
     "output_type": "execute_result"
    }
   ],
   "source": [
    "data.target.mean() + stats.norm.ppf([0.05, 0.95])*stats.sem(data.target)"
   ]
  },
  {
   "cell_type": "code",
   "execution_count": 6,
   "metadata": {},
   "outputs": [
    {
     "name": "stdout",
     "output_type": "stream",
     "text": [
      "0.9 [21.8603 23.2053]\n",
      "0.95 [21.7315 23.3342]\n",
      "0.99 [21.4796 23.586 ]\n"
     ]
    }
   ],
   "source": [
    "for level in [0.9, 0.95, 0.99]:\n",
    "    print(level, np.around(stats.norm.interval(\n",
    "        level, data.target.mean(axis=0), stats.sem(data.target, axis=0)), 4))"
   ]
  },
  {
   "cell_type": "code",
   "execution_count": 12,
   "metadata": {},
   "outputs": [
    {
     "data": {
      "text/plain": [
       "[('CRIM', array([2.983400e+00, 9.655100e+00, 1.063420e+01, 5.060000e-02,\n",
       "         5.462000e-01, 6.233200e+00, 6.651280e+01, 3.640800e+00,\n",
       "         8.911500e+00, 3.958906e+02, 1.829690e+01, 3.499860e+02,\n",
       "         1.212990e+01])),\n",
       " ('ZN', array([4.243600e+00, 1.307220e+01, 1.163930e+01, 8.780000e-02,\n",
       "         5.632000e-01, 6.336100e+00, 7.063700e+01, 3.949300e+00,\n",
       "         1.018730e+01, 4.205837e+02, 1.861410e+01, 3.633620e+02,\n",
       "         1.317620e+01]))]"
      ]
     },
     "execution_count": 12,
     "metadata": {},
     "output_type": "execute_result"
    }
   ],
   "source": [
    "list(zip(data.feature_names,\n",
    "         *np.around(stats.t(df=len(data.data)-1,\n",
    "                            loc=data.data.mean(axis=0),\n",
    "                            scale=stats.sem(data.data, axis=0)).interval(0.9), 4)))"
   ]
  },
  {
   "cell_type": "code",
   "execution_count": 8,
   "metadata": {},
   "outputs": [
    {
     "data": {
      "text/plain": [
       "[('CRIM', 2.8623, 4.3648),\n",
       " ('ZN', 9.3266, 13.4006),\n",
       " ('INDUS', 10.5376, 11.736),\n",
       " ('CHAS', 0.047, 0.0914),\n",
       " ('NOX', 0.5446, 0.5648),\n",
       " ('RM', 6.2233, 6.346),\n",
       " ('AGE', 66.1164, 71.0334),\n",
       " ('DIS', 3.6111, 3.979),\n",
       " ('RAD', 8.7889, 10.3099),\n",
       " ('TAX', 393.5171, 422.9572),\n",
       " ('PTRATIO', 18.2664, 18.6446),\n",
       " ('B', 348.7003, 364.6478),\n",
       " ('LSTAT', 12.0294, 13.2768)]"
      ]
     },
     "execution_count": 8,
     "metadata": {},
     "output_type": "execute_result"
    }
   ],
   "source": [
    "list(zip(data.feature_names,\n",
    "         *np.around(stats.t(df=len(data.data)-1,\n",
    "                            loc=data.data.mean(axis=0),\n",
    "                            scale=stats.sem(data.data, axis=0)).interval(0.95), 4)))"
   ]
  },
  {
   "cell_type": "code",
   "execution_count": 9,
   "metadata": {},
   "outputs": [
    {
     "data": {
      "text/plain": [
       "[('CRIM', 2.6248, 4.6022),\n",
       " ('ZN', 8.6829, 14.0444),\n",
       " ('INDUS', 10.3482, 11.9253),\n",
       " ('CHAS', 0.04, 0.0984),\n",
       " ('NOX', 0.5414, 0.568),\n",
       " ('RM', 6.2039, 6.3654),\n",
       " ('AGE', 65.3394, 71.8104),\n",
       " ('DIS', 3.553, 4.0371),\n",
       " ('RAD', 8.5486, 10.5503),\n",
       " ('TAX', 388.8648, 427.6095),\n",
       " ('PTRATIO', 18.2067, 18.7044),\n",
       " ('B', 346.1802, 367.1678),\n",
       " ('LSTAT', 11.8322, 13.4739)]"
      ]
     },
     "execution_count": 9,
     "metadata": {},
     "output_type": "execute_result"
    }
   ],
   "source": [
    "list(zip(data.feature_names,\n",
    "         *np.around(stats.t(df=len(data.data)-1,\n",
    "                            loc=data.data.mean(axis=0),\n",
    "                            scale=stats.sem(data.data, axis=0)).interval(0.99), 4)))"
   ]
  },
  {
   "cell_type": "markdown",
   "metadata": {},
   "source": [
    "### Bonus: How many more observations would we need to make the confidence interval 10 times narrower assuming that the sample mean and standard deviation remain the same?"
   ]
  },
  {
   "cell_type": "code",
   "execution_count": 10,
   "metadata": {},
   "outputs": [
    {
     "data": {
      "text/plain": [
       "1.3450334827617212"
      ]
     },
     "execution_count": 10,
     "metadata": {},
     "output_type": "execute_result"
    }
   ],
   "source": [
    "confint = data.target.mean() + \\\n",
    "    stats.norm.ppf([0.05, 0.95])*data.target.std(ddof=1)/len(data.target)**0.5\n",
    "\n",
    "confint[1]-confint[0]"
   ]
  },
  {
   "cell_type": "code",
   "execution_count": 11,
   "metadata": {},
   "outputs": [
    {
     "data": {
      "text/plain": [
       "0.13450334827616928"
      ]
     },
     "execution_count": 11,
     "metadata": {},
     "output_type": "execute_result"
    }
   ],
   "source": [
    "confint_narrow = data.target.mean() \\\n",
    "    + stats.norm.ppf([0.05, 0.95])*data.target.std(ddof=1) / \\\n",
    "    (len(data.target)*100)**0.5\n",
    "\n",
    "confint_narrow[1]-confint_narrow[0]"
   ]
  },
  {
   "cell_type": "code",
   "execution_count": null,
   "metadata": {},
   "outputs": [],
   "source": []
  }
 ],
 "metadata": {
  "kernelspec": {
   "display_name": "Python 3",
   "language": "python",
   "name": "python3"
  },
  "language_info": {
   "codemirror_mode": {
    "name": "ipython",
    "version": 3
   },
   "file_extension": ".py",
   "mimetype": "text/x-python",
   "name": "python",
   "nbconvert_exporter": "python",
   "pygments_lexer": "ipython3",
   "version": "3.7.3"
  },
  "toc": {
   "base_numbering": 1,
   "nav_menu": {},
   "number_sections": false,
   "sideBar": true,
   "skip_h1_title": true,
   "title_cell": "Table of Contents",
   "title_sidebar": "Contents",
   "toc_cell": false,
   "toc_position": {},
   "toc_section_display": true,
   "toc_window_display": false
  },
  "varInspector": {
   "cols": {
    "lenName": 16,
    "lenType": 16,
    "lenVar": 40
   },
   "kernels_config": {
    "python": {
     "delete_cmd_postfix": "",
     "delete_cmd_prefix": "del ",
     "library": "var_list.py",
     "varRefreshCmd": "print(var_dic_list())"
    },
    "r": {
     "delete_cmd_postfix": ") ",
     "delete_cmd_prefix": "rm(",
     "library": "var_list.r",
     "varRefreshCmd": "cat(var_dic_list()) "
    }
   },
   "types_to_exclude": [
    "module",
    "function",
    "builtin_function_or_method",
    "instance",
    "_Feature"
   ],
   "window_display": false
  }
 },
 "nbformat": 4,
 "nbformat_minor": 2
}
