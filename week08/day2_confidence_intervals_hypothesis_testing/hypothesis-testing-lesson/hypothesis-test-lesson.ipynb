{
 "cells": [
  {
   "cell_type": "markdown",
   "metadata": {},
   "source": [
    "<img src=\"http://imgur.com/1ZcRyrc.png\" style=\"float: left; margin: 20px; height: 55px\">\n",
    "\n",
    "# Frequentist Hypothesis Testing\n",
    "\n",
    "\n",
    "---"
   ]
  },
  {
   "cell_type": "markdown",
   "metadata": {},
   "source": [
    "## Learning Objectives\n",
    "### Core\n",
    "- Understand the fundamental concepts of frequentist hypothesis testing\n",
    "- Understand the difference between the null and alternative hypothesis\n",
    "- Understand the t-statistic, p-value, and t-test\n",
    "- Calculate the t-statistic and p-value by hand\n",
    "- Learn about other frequently used statistical tests\n",
    "\n",
    "### Target\n",
    "- Visually represent the t-test and p-value using the t-distribution\n",
    "\n",
    "### Stretch\n",
    "- Understand how the t-test and frequentist hypothesis testing relate to the number of observations, the means and the standard deviations of each group"
   ]
  },
  {
   "cell_type": "markdown",
   "metadata": {
    "toc": true
   },
   "source": [
    "<h1>Lesson Guide<span class=\"tocSkip\"></span></h1>\n",
    "<div class=\"toc\"><ul class=\"toc-item\"><li><span><a href=\"#Learning-Objectives\" data-toc-modified-id=\"Learning-Objectives-1\">Learning Objectives</a></span><ul class=\"toc-item\"><li><span><a href=\"#Core\" data-toc-modified-id=\"Core-1.1\">Core</a></span></li><li><span><a href=\"#Target\" data-toc-modified-id=\"Target-1.2\">Target</a></span></li><li><span><a href=\"#Stretch\" data-toc-modified-id=\"Stretch-1.3\">Stretch</a></span></li></ul></li><li><span><a href=\"#Introduction\" data-toc-modified-id=\"Introduction-2\">Introduction</a></span></li><li><span><a href=\"#Load-some-data\" data-toc-modified-id=\"Load-some-data-3\">Load some data</a></span></li><li><span><a href=\"#One-sample-t-test\" data-toc-modified-id=\"One-sample-t-test-4\">One sample t-test</a></span></li><li><span><a href=\"#Interpreting-the-p-value\" data-toc-modified-id=\"Interpreting-the-p-value-5\">Interpreting the p-value</a></span></li><li><span><a href=\"#Two-sided-versus-one-sided-test\" data-toc-modified-id=\"Two-sided-versus-one-sided-test-6\">Two-sided versus one-sided test</a></span></li><li><span><a href=\"#Comparing-means-of-two-groups\" data-toc-modified-id=\"Comparing-means-of-two-groups-7\">Comparing means of two groups</a></span></li><li><span><a href=\"#Comparing-means-of-more-than-two-groups\" data-toc-modified-id=\"Comparing-means-of-more-than-two-groups-8\">Comparing means of more than two groups</a></span></li><li><span><a href=\"#Chi-squared-test\" data-toc-modified-id=\"Chi-squared-test-9\">Chi-squared test</a></span></li><li><span><a href=\"#Normality-test\" data-toc-modified-id=\"Normality-test-10\">Normality test</a></span></li><li><span><a href=\"#Summary\" data-toc-modified-id=\"Summary-11\">Summary</a></span><ul class=\"toc-item\"><li><span><a href=\"#One-sample-t-test\" data-toc-modified-id=\"One-sample-t-test-11.1\">One-sample t-test</a></span></li><li><span><a href=\"#Two-sample-t-test\" data-toc-modified-id=\"Two-sample-t-test-11.2\">Two-sample t-test</a></span></li><li><span><a href=\"#One-way-F-test\" data-toc-modified-id=\"One-way-F-test-11.3\">One-way F-test</a></span></li><li><span><a href=\"#Chi2-test\" data-toc-modified-id=\"Chi2-test-11.4\">Chi2-test</a></span></li><li><span><a href=\"#Normality-test\" data-toc-modified-id=\"Normality-test-11.5\">Normality test</a></span></li></ul></li><li><span><a href=\"#Conclusions\" data-toc-modified-id=\"Conclusions-12\">Conclusions</a></span><ul class=\"toc-item\"><li><span><a href=\"#Additional-resources\" data-toc-modified-id=\"Additional-resources-12.1\">Additional resources</a></span></li></ul></li></ul></div>"
   ]
  },
  {
   "cell_type": "code",
   "execution_count": 1,
   "metadata": {},
   "outputs": [],
   "source": [
    "import pandas as pd\n",
    "import numpy as np\n",
    "import matplotlib.pyplot as plt\n",
    "import seaborn as sns\n",
    "sns.set(font_scale=1.5)\n",
    "\n",
    "%config InlineBackend.figure_format = 'retina'\n",
    "%matplotlib inline"
   ]
  },
  {
   "cell_type": "code",
   "execution_count": 2,
   "metadata": {},
   "outputs": [],
   "source": [
    "import scipy.stats as stats"
   ]
  },
  {
   "cell_type": "markdown",
   "metadata": {},
   "source": [
    "## Introduction\n",
    "\n",
    "Hypothesis tests are frequently used in so-called frequentist statistics. Their purpose is to summarize through a single number if an effect measured on a data sample can be considered as statistically significant or is rather likely to be observed merely by chance.\n",
    "\n",
    "**Example:** General surveys say that the Earth's population has a mean height of 170 cm. I measure the heights of the students in a GA class and get an average height of 172 cm. Given the size of the class and the natural fluctuations in heights, can this deviation from the population mean be attributed to chance or are GA students really taller?\n",
    "\n",
    "The answer can be given through a formal procedure.\n",
    "\n",
    "We formulate two mutually exclusive hypotheses:\n",
    "\n",
    "- The null hypothesis (often denoted as H0)\n",
    "- The alternative hypothesis (often denoted as H1)\n",
    "\n",
    "**Example:**\n",
    "\n",
    "In the case of the height measurements we might say:\n",
    "- The null hypothesis is that the mean height of GA students is just the same as the one of the rest of the world.\n",
    "- The alternative hypothesis is that the mean height of GA students really is different from the rest of the world.\n",
    "\n",
    "The next step is to think how likely it would be to observe the measurement under the null hypothesis. For that purpose, we have to know how likely different measurement results are in the first place, that means we have to know the probability distribution for the measured values. Since usually we don't know, at this point we have to make assumptions.\n",
    "\n",
    "**Example:** If we observe a difference of 2 cm, we would say\n",
    "- we accept the null hypothesis if the observed deviation appears to be likely to be a mere statistical fluctuation\n",
    "- we reject the null hypothesis if we think that the null hypothesis is rather unlikely\n",
    "\n",
    "\n",
    "**What means unlikely here?**\n",
    "\n",
    "Probabilities are about observing the data given the statistics, that is observing the sample with the 2 cm observed difference from the hypothesized mean value.\n"
   ]
  },
  {
   "cell_type": "markdown",
   "metadata": {},
   "source": [
    "## Load some data\n",
    "\n",
    "To illustrate how this works in practice, we load the car statistics dataset."
   ]
  },
  {
   "cell_type": "code",
   "execution_count": 3,
   "metadata": {},
   "outputs": [
    {
     "data": {
      "text/html": [
       "<div>\n",
       "<style scoped>\n",
       "    .dataframe tbody tr th:only-of-type {\n",
       "        vertical-align: middle;\n",
       "    }\n",
       "\n",
       "    .dataframe tbody tr th {\n",
       "        vertical-align: top;\n",
       "    }\n",
       "\n",
       "    .dataframe thead th {\n",
       "        text-align: right;\n",
       "    }\n",
       "</style>\n",
       "<table border=\"1\" class=\"dataframe\">\n",
       "  <thead>\n",
       "    <tr style=\"text-align: right;\">\n",
       "      <th></th>\n",
       "      <th>mpg</th>\n",
       "      <th>cylinders</th>\n",
       "      <th>displacement</th>\n",
       "      <th>horsepower</th>\n",
       "      <th>weight</th>\n",
       "      <th>acceleration</th>\n",
       "      <th>year</th>\n",
       "      <th>origin</th>\n",
       "      <th>name</th>\n",
       "    </tr>\n",
       "  </thead>\n",
       "  <tbody>\n",
       "    <tr>\n",
       "      <th>0</th>\n",
       "      <td>18.0</td>\n",
       "      <td>8</td>\n",
       "      <td>307.0</td>\n",
       "      <td>130</td>\n",
       "      <td>3504</td>\n",
       "      <td>12.0</td>\n",
       "      <td>70</td>\n",
       "      <td>1</td>\n",
       "      <td>chevrolet chevelle malibu</td>\n",
       "    </tr>\n",
       "    <tr>\n",
       "      <th>1</th>\n",
       "      <td>15.0</td>\n",
       "      <td>8</td>\n",
       "      <td>350.0</td>\n",
       "      <td>165</td>\n",
       "      <td>3693</td>\n",
       "      <td>11.5</td>\n",
       "      <td>70</td>\n",
       "      <td>1</td>\n",
       "      <td>buick skylark 320</td>\n",
       "    </tr>\n",
       "    <tr>\n",
       "      <th>2</th>\n",
       "      <td>18.0</td>\n",
       "      <td>8</td>\n",
       "      <td>318.0</td>\n",
       "      <td>150</td>\n",
       "      <td>3436</td>\n",
       "      <td>11.0</td>\n",
       "      <td>70</td>\n",
       "      <td>1</td>\n",
       "      <td>plymouth satellite</td>\n",
       "    </tr>\n",
       "    <tr>\n",
       "      <th>3</th>\n",
       "      <td>16.0</td>\n",
       "      <td>8</td>\n",
       "      <td>304.0</td>\n",
       "      <td>150</td>\n",
       "      <td>3433</td>\n",
       "      <td>12.0</td>\n",
       "      <td>70</td>\n",
       "      <td>1</td>\n",
       "      <td>amc rebel sst</td>\n",
       "    </tr>\n",
       "    <tr>\n",
       "      <th>4</th>\n",
       "      <td>17.0</td>\n",
       "      <td>8</td>\n",
       "      <td>302.0</td>\n",
       "      <td>140</td>\n",
       "      <td>3449</td>\n",
       "      <td>10.5</td>\n",
       "      <td>70</td>\n",
       "      <td>1</td>\n",
       "      <td>ford torino</td>\n",
       "    </tr>\n",
       "  </tbody>\n",
       "</table>\n",
       "</div>"
      ],
      "text/plain": [
       "    mpg  cylinders  displacement horsepower  weight  acceleration  year  \\\n",
       "0  18.0          8         307.0        130    3504          12.0    70   \n",
       "1  15.0          8         350.0        165    3693          11.5    70   \n",
       "2  18.0          8         318.0        150    3436          11.0    70   \n",
       "3  16.0          8         304.0        150    3433          12.0    70   \n",
       "4  17.0          8         302.0        140    3449          10.5    70   \n",
       "\n",
       "   origin                       name  \n",
       "0       1  chevrolet chevelle malibu  \n",
       "1       1          buick skylark 320  \n",
       "2       1         plymouth satellite  \n",
       "3       1              amc rebel sst  \n",
       "4       1                ford torino  "
      ]
     },
     "execution_count": 3,
     "metadata": {},
     "output_type": "execute_result"
    }
   ],
   "source": [
    "df = pd.read_csv('../../../../resource-datasets/auto_stats/Auto.csv')\n",
    "df.head()"
   ]
  },
  {
   "cell_type": "code",
   "execution_count": 4,
   "metadata": {},
   "outputs": [
    {
     "data": {
      "text/html": [
       "<div>\n",
       "<style scoped>\n",
       "    .dataframe tbody tr th:only-of-type {\n",
       "        vertical-align: middle;\n",
       "    }\n",
       "\n",
       "    .dataframe tbody tr th {\n",
       "        vertical-align: top;\n",
       "    }\n",
       "\n",
       "    .dataframe thead th {\n",
       "        text-align: right;\n",
       "    }\n",
       "</style>\n",
       "<table border=\"1\" class=\"dataframe\">\n",
       "  <thead>\n",
       "    <tr style=\"text-align: right;\">\n",
       "      <th></th>\n",
       "      <th>mpg</th>\n",
       "      <th>cylinders</th>\n",
       "      <th>displacement</th>\n",
       "      <th>weight</th>\n",
       "      <th>acceleration</th>\n",
       "      <th>year</th>\n",
       "      <th>origin</th>\n",
       "    </tr>\n",
       "  </thead>\n",
       "  <tbody>\n",
       "    <tr>\n",
       "      <th>count</th>\n",
       "      <td>397.000000</td>\n",
       "      <td>397.000000</td>\n",
       "      <td>397.000000</td>\n",
       "      <td>397.000000</td>\n",
       "      <td>397.000000</td>\n",
       "      <td>397.000000</td>\n",
       "      <td>397.000000</td>\n",
       "    </tr>\n",
       "    <tr>\n",
       "      <th>mean</th>\n",
       "      <td>23.515869</td>\n",
       "      <td>5.458438</td>\n",
       "      <td>193.532746</td>\n",
       "      <td>2970.261965</td>\n",
       "      <td>15.555668</td>\n",
       "      <td>75.994962</td>\n",
       "      <td>1.574307</td>\n",
       "    </tr>\n",
       "    <tr>\n",
       "      <th>std</th>\n",
       "      <td>7.825804</td>\n",
       "      <td>1.701577</td>\n",
       "      <td>104.379583</td>\n",
       "      <td>847.904119</td>\n",
       "      <td>2.749995</td>\n",
       "      <td>3.690005</td>\n",
       "      <td>0.802549</td>\n",
       "    </tr>\n",
       "    <tr>\n",
       "      <th>min</th>\n",
       "      <td>9.000000</td>\n",
       "      <td>3.000000</td>\n",
       "      <td>68.000000</td>\n",
       "      <td>1613.000000</td>\n",
       "      <td>8.000000</td>\n",
       "      <td>70.000000</td>\n",
       "      <td>1.000000</td>\n",
       "    </tr>\n",
       "    <tr>\n",
       "      <th>25%</th>\n",
       "      <td>17.500000</td>\n",
       "      <td>4.000000</td>\n",
       "      <td>104.000000</td>\n",
       "      <td>2223.000000</td>\n",
       "      <td>13.800000</td>\n",
       "      <td>73.000000</td>\n",
       "      <td>1.000000</td>\n",
       "    </tr>\n",
       "    <tr>\n",
       "      <th>50%</th>\n",
       "      <td>23.000000</td>\n",
       "      <td>4.000000</td>\n",
       "      <td>146.000000</td>\n",
       "      <td>2800.000000</td>\n",
       "      <td>15.500000</td>\n",
       "      <td>76.000000</td>\n",
       "      <td>1.000000</td>\n",
       "    </tr>\n",
       "    <tr>\n",
       "      <th>75%</th>\n",
       "      <td>29.000000</td>\n",
       "      <td>8.000000</td>\n",
       "      <td>262.000000</td>\n",
       "      <td>3609.000000</td>\n",
       "      <td>17.100000</td>\n",
       "      <td>79.000000</td>\n",
       "      <td>2.000000</td>\n",
       "    </tr>\n",
       "    <tr>\n",
       "      <th>max</th>\n",
       "      <td>46.600000</td>\n",
       "      <td>8.000000</td>\n",
       "      <td>455.000000</td>\n",
       "      <td>5140.000000</td>\n",
       "      <td>24.800000</td>\n",
       "      <td>82.000000</td>\n",
       "      <td>3.000000</td>\n",
       "    </tr>\n",
       "  </tbody>\n",
       "</table>\n",
       "</div>"
      ],
      "text/plain": [
       "              mpg   cylinders  displacement       weight  acceleration  \\\n",
       "count  397.000000  397.000000    397.000000   397.000000    397.000000   \n",
       "mean    23.515869    5.458438    193.532746  2970.261965     15.555668   \n",
       "std      7.825804    1.701577    104.379583   847.904119      2.749995   \n",
       "min      9.000000    3.000000     68.000000  1613.000000      8.000000   \n",
       "25%     17.500000    4.000000    104.000000  2223.000000     13.800000   \n",
       "50%     23.000000    4.000000    146.000000  2800.000000     15.500000   \n",
       "75%     29.000000    8.000000    262.000000  3609.000000     17.100000   \n",
       "max     46.600000    8.000000    455.000000  5140.000000     24.800000   \n",
       "\n",
       "             year      origin  \n",
       "count  397.000000  397.000000  \n",
       "mean    75.994962    1.574307  \n",
       "std      3.690005    0.802549  \n",
       "min     70.000000    1.000000  \n",
       "25%     73.000000    1.000000  \n",
       "50%     76.000000    1.000000  \n",
       "75%     79.000000    2.000000  \n",
       "max     82.000000    3.000000  "
      ]
     },
     "execution_count": 4,
     "metadata": {},
     "output_type": "execute_result"
    }
   ],
   "source": [
    "df.describe()"
   ]
  },
  {
   "cell_type": "markdown",
   "metadata": {},
   "source": [
    "## One sample t-test\n",
    "\n",
    "We see that the mean `mpg` has a value of 23.51. What if you heard or read that in truth cars from that period had a mean `mpg` of 25? Is our sample particular, neglecting some cars, or is that within natural fluctuation?\n",
    "\n",
    "We can use the one-sample t-test to assess this. Let's first formulate our hypotheses:\n",
    "\n",
    "- H0: The mean `mpg` of cars is 25\n",
    "- H1: The mean `mpg` of cars is not 25\n",
    "\n",
    "> Note: We are just asking for difference, not for larger or smaller.\n",
    "\n",
    "- What we measure is a smaller `mpg`:\n",
    "\n",
    "$$\n",
    "23.51 - 25 = -1.49\n",
    "$$\n",
    "\n",
    "This number is unit dependent. For that reason we should standardize it to get rid of units and also to compare it against natural variability. Additionally we want to take the number of observations into account, so we divide by the standard error rather than the standard deviation to obtain the so-called t-statistics:\n",
    "\n",
    "$$\n",
    "t = \\frac{\\mu_{\\rm observed}-\\mu_{\\rm hypothesized}}{s/\\sqrt{n}} \n",
    "\\approx -\\frac{1.49}{7.826/\\sqrt{397}} \n",
    "\\approx -3.779\n",
    "$$\n",
    "\n",
    "This is called a t-statistics because it follows a t-distribution. This can be assumed relying on the central limit theorem as long as our sample is large enough (more than 30 observations)."
   ]
  },
  {
   "cell_type": "code",
   "execution_count": 5,
   "metadata": {},
   "outputs": [
    {
     "data": {
      "text/plain": [
       "-3.7786661408732005"
      ]
     },
     "execution_count": 5,
     "metadata": {},
     "output_type": "execute_result"
    }
   ],
   "source": [
    "(df.mpg.mean() - 25) / stats.sem(df.mpg)"
   ]
  },
  {
   "cell_type": "markdown",
   "metadata": {},
   "source": [
    "We can calculate the same using a scipy function. It returns the calculated statistic and a p-value. The p-value expresses how likely it would be to observe a t-statistic value either smaller than the observed one or larger than the one with the sign reversed."
   ]
  },
  {
   "cell_type": "code",
   "execution_count": 6,
   "metadata": {},
   "outputs": [
    {
     "data": {
      "text/plain": [
       "Ttest_1sampResult(statistic=-3.7786661408732183, pvalue=0.0001819102852282707)"
      ]
     },
     "execution_count": 6,
     "metadata": {},
     "output_type": "execute_result"
    }
   ],
   "source": [
    "ttest_result = stats.ttest_1samp(df.mpg, 25)\n",
    "ttest_result"
   ]
  },
  {
   "cell_type": "markdown",
   "metadata": {},
   "source": [
    "The p-value can be calculated using the cumulative distribution function. Note that we multiply by 2 to account for deviations to either side of the hypothesized value."
   ]
  },
  {
   "cell_type": "code",
   "execution_count": 7,
   "metadata": {},
   "outputs": [
    {
     "data": {
      "text/plain": [
       "0.0001819102852282707"
      ]
     },
     "execution_count": 7,
     "metadata": {},
     "output_type": "execute_result"
    }
   ],
   "source": [
    "stats.t.cdf(ttest_result.statistic, len(df)-1)*2"
   ]
  },
  {
   "cell_type": "markdown",
   "metadata": {},
   "source": [
    "We can depict the meaning of the p-value with the following plot. It shows the t-distribution picking up our observed number of observations by setting the \"degrees of freedom\" to `len(df)-1`.\n",
    "\n",
    "We color the surface beyond the positive or negative absolute value of the observed statistics. The combined size of these surfaces gives the p-value. "
   ]
  },
  {
   "cell_type": "code",
   "execution_count": 8,
   "metadata": {},
   "outputs": [],
   "source": [
    "def plot_pvalue(t_stats, dof=1):\n",
    "    t_dist = stats.t(dof)\n",
    "    x_vals = np.linspace(-4, 4, 1000)\n",
    "    y_vals = t_dist.pdf(x_vals)\n",
    "    fig, ax = plt.subplots()\n",
    "    ax.plot(x_vals, y_vals, c='b', lw=4)\n",
    "    ax.fill_between(x_vals, np.zeros_like(x_vals), y_vals, where=(\n",
    "        x_vals < -abs(t_stats)) | (x_vals > abs(t_stats)), color='r')\n",
    "    ax.set_title(\n",
    "        f't_statistics: {round(t_stats, 3)}\\n p-value: {round(t_dist.sf(abs(t_stats))*2, 3)}')\n",
    "    return ax"
   ]
  },
  {
   "cell_type": "code",
   "execution_count": 9,
   "metadata": {},
   "outputs": [
    {
     "data": {
      "image/png": "[encoded data removed]",
      "text/plain": [
       "<Figure size 432x288 with 1 Axes>"
      ]
     },
     "metadata": {
      "image/png": {
       "height": 294,
       "width": 384
      },
      "needs_background": "light"
     },
     "output_type": "display_data"
    }
   ],
   "source": [
    "ax = plot_pvalue(stats.ttest_1samp(df.mpg, 23).statistic, dof=len(df)-1)"
   ]
  },
  {
   "cell_type": "markdown",
   "metadata": {},
   "source": [
    "## Interpreting the p-value\n",
    "\n",
    "- A small p-value means observing a sample with the measured sample statistic is rather unlikely. We would therefore reject H0 in favor of H1.\n",
    "- A large p-value means observing a sample with the measured sample statistic is rather likely. We would therefore accept H0.\n",
    "- The p-value is simply observed, but what to do with it depends on the analyst who would fix a p-value threshold before doing the experiment, e.g. 0.05 or 0.01. H0 is rejected whenever the p-value is below the predefined threshold. It is crucial to set the threshold before the experiment.\n",
    "- A threshold of 0.05 means a 1 in 20 chance. This is not really low. Just imagine repeating the same experiment twenty times. You might be rejecting the null hypothesis just by pure chance.\n",
    "\n",
    "Rejection/acceptance sounds drastic, but keep in mind that you might take decisions based on the result of a hypothesis test, e.g. understanding if a drug has the desired effect or if a chemical provokes cancer. The test never reveals which of the hypotheses is really true. It merely says if the data gives sufficient support to the null hypothesis under the assumptions that you are making."
   ]
  },
  {
   "cell_type": "markdown",
   "metadata": {},
   "source": [
    "## Two-sided versus one-sided test\n",
    "\n",
    "Above we were just asking for equality or difference in H0 and H1. Often we will be interested in specifying to which side the deviation is significant. The hypothesis would be:\n",
    "\n",
    "- H0: The mean is larger than or equal to 25.\n",
    "- H1: The mean is smaller than 25.\n",
    "\n",
    "The test would proceed in the same way, but the p-value would be half as large."
   ]
  },
  {
   "cell_type": "code",
   "execution_count": 10,
   "metadata": {},
   "outputs": [
    {
     "data": {
      "text/plain": [
       "9.095514261413534e-05"
      ]
     },
     "execution_count": 10,
     "metadata": {},
     "output_type": "execute_result"
    }
   ],
   "source": [
    "stats.ttest_1samp(df.mpg, 25).pvalue / 2"
   ]
  },
  {
   "cell_type": "markdown",
   "metadata": {},
   "source": [
    "## Comparing means of two groups\n",
    "\n",
    "In the data we have cars from three different origins. We could ask if the mean `mpg` is statistically significantly different in America and Europe and Asia.\n",
    "\n",
    "Indeed, the means are rather different across the groups, the standard deviations rather similar and the counts quite different."
   ]
  },
  {
   "cell_type": "code",
   "execution_count": 11,
   "metadata": {},
   "outputs": [
    {
     "data": {
      "text/html": [
       "<div>\n",
       "<style scoped>\n",
       "    .dataframe tbody tr th:only-of-type {\n",
       "        vertical-align: middle;\n",
       "    }\n",
       "\n",
       "    .dataframe tbody tr th {\n",
       "        vertical-align: top;\n",
       "    }\n",
       "\n",
       "    .dataframe thead th {\n",
       "        text-align: right;\n",
       "    }\n",
       "</style>\n",
       "<table border=\"1\" class=\"dataframe\">\n",
       "  <thead>\n",
       "    <tr style=\"text-align: right;\">\n",
       "      <th></th>\n",
       "      <th>mean</th>\n",
       "      <th>std</th>\n",
       "      <th>count</th>\n",
       "    </tr>\n",
       "    <tr>\n",
       "      <th>origin</th>\n",
       "      <th></th>\n",
       "      <th></th>\n",
       "      <th></th>\n",
       "    </tr>\n",
       "  </thead>\n",
       "  <tbody>\n",
       "    <tr>\n",
       "      <th>1</th>\n",
       "      <td>20.071774</td>\n",
       "      <td>6.413145</td>\n",
       "      <td>248</td>\n",
       "    </tr>\n",
       "    <tr>\n",
       "      <th>2</th>\n",
       "      <td>27.891429</td>\n",
       "      <td>6.723930</td>\n",
       "      <td>70</td>\n",
       "    </tr>\n",
       "    <tr>\n",
       "      <th>3</th>\n",
       "      <td>30.450633</td>\n",
       "      <td>6.090048</td>\n",
       "      <td>79</td>\n",
       "    </tr>\n",
       "  </tbody>\n",
       "</table>\n",
       "</div>"
      ],
      "text/plain": [
       "             mean       std  count\n",
       "origin                            \n",
       "1       20.071774  6.413145    248\n",
       "2       27.891429  6.723930     70\n",
       "3       30.450633  6.090048     79"
      ]
     },
     "execution_count": 11,
     "metadata": {},
     "output_type": "execute_result"
    }
   ],
   "source": [
    "df.groupby('origin')['mpg'].agg(['mean', 'std', 'count'])"
   ]
  },
  {
   "cell_type": "code",
   "execution_count": 12,
   "metadata": {},
   "outputs": [
    {
     "data": {
      "image/png": "[encoded data removed]",
      "text/plain": [
       "<Figure size 432x288 with 1 Axes>"
      ]
     },
     "metadata": {
      "image/png": {
       "height": 277,
       "width": 388
      },
      "needs_background": "light"
     },
     "output_type": "display_data"
    }
   ],
   "source": [
    "sns.boxplot(x='mpg', y='origin', data=df, orient='h')\n",
    "plt.show()"
   ]
  },
  {
   "cell_type": "code",
   "execution_count": 13,
   "metadata": {},
   "outputs": [
    {
     "data": {
      "image/png": "[encoded data removed]",
      "text/plain": [
       "<Figure size 500.65x432 with 2 Axes>"
      ]
     },
     "metadata": {
      "image/png": {
       "height": 445,
       "width": 496
      },
      "needs_background": "light"
     },
     "output_type": "display_data"
    }
   ],
   "source": [
    "sns.pairplot(data=df, x_vars=['mpg'], y_vars=['mpg'], hue='origin', height=6)\n",
    "plt.show()"
   ]
  },
  {
   "cell_type": "markdown",
   "metadata": {},
   "source": [
    "Also here we can use a t-test to compare the group means pairwise taking into account the variability of the data and the number of observations of each group. The default t-test will assess how likely it is to observe a certain difference of sample means between two groups even though the standard deviations are assumed to be the same in each group."
   ]
  },
  {
   "cell_type": "code",
   "execution_count": 14,
   "metadata": {},
   "outputs": [
    {
     "data": {
      "text/plain": [
       "Ttest_indResult(statistic=-8.912944578256594, pvalue=4.043177506900016e-17)"
      ]
     },
     "execution_count": 14,
     "metadata": {},
     "output_type": "execute_result"
    }
   ],
   "source": [
    "# for one pair\n",
    "stats.ttest_ind(df.mpg[df.origin == 1], df.mpg[df.origin == 2])"
   ]
  },
  {
   "cell_type": "code",
   "execution_count": 15,
   "metadata": {},
   "outputs": [],
   "source": [
    "from itertools import combinations"
   ]
  },
  {
   "cell_type": "code",
   "execution_count": 16,
   "metadata": {},
   "outputs": [
    {
     "data": {
      "text/plain": [
       "[(1, 2), (1, 3), (2, 3)]"
      ]
     },
     "execution_count": 16,
     "metadata": {},
     "output_type": "execute_result"
    }
   ],
   "source": [
    "list(combinations([1, 2, 3], 2))"
   ]
  },
  {
   "cell_type": "code",
   "execution_count": 17,
   "metadata": {},
   "outputs": [
    {
     "name": "stdout",
     "output_type": "stream",
     "text": [
      "(1, 2) Ttest_indResult(statistic=-8.912944578256594, pvalue=4.043177506900016e-17)\n",
      "(1, 3) Ttest_indResult(statistic=-12.67722648020723, pvalue=3.370227003938695e-30)\n",
      "(2, 3) Ttest_indResult(statistic=-2.4378433467144993, pvalue=0.015968231401682957)\n"
     ]
    }
   ],
   "source": [
    "# iterating over all possible pairs\n",
    "for comb in combinations([1, 2, 3], 2):\n",
    "    print(comb, stats.ttest_ind(\n",
    "        df.mpg[df.origin == comb[0]], df.mpg[df.origin == comb[1]]))"
   ]
  },
  {
   "cell_type": "markdown",
   "metadata": {},
   "source": [
    "**What does this calculate?**\n",
    "\n",
    "When comparing the difference between groups, we can calculate the two-sample t-statistic as\n",
    "\n",
    "$$t = \\frac{\\bar{x} - \\bar{y}}{\\sqrt {s^2 \\left(\\frac{1}{n_x} + \\frac{1}{n_y}\\right)}}$$\n",
    "\n",
    "where $\\bar{x}$ is the mean of the first group sample measurements and $\\bar{y}$ is the mean of the second group sample measurements.\n",
    "\n",
    "$n_x$ and $n_y$ are the number of observations in each group. \n",
    "\n",
    "The sample variance as an estimate of the population variance is calculated as the weighted average of the variances of each sample\n",
    "\n",
    "$$ s^2 = \\frac{\\sum_{i=1}^{n_x} (x_i - \\bar{x})^2 + \\sum_{j=1}^{n_y} (y_j - \\bar{y})^2}{ n_x + n_y -2} $$\n",
    "\n",
    "which combines the variance of the two group's measurements into a single, pooled metric. \n"
   ]
  },
  {
   "cell_type": "code",
   "execution_count": 18,
   "metadata": {},
   "outputs": [],
   "source": [
    "def get_t_stats(x, y):\n",
    "    n_x = len(x)\n",
    "    n_y = len(y)\n",
    "    dof = n_x + n_y - 2\n",
    "    mean_diff = x.mean() - y.mean()\n",
    "    var_pooled = (np.sum(np.square(x-x.mean())) +\n",
    "                  np.sum(np.square(y-y.mean()))) / dof\n",
    "    sem = (var_pooled * (1 / n_x + 1 / n_y))**0.5\n",
    "    t_stat = mean_diff/sem\n",
    "    p_value = stats.t.cdf(-abs(t_stat), dof)*2\n",
    "    return t_stat, p_value"
   ]
  },
  {
   "cell_type": "code",
   "execution_count": 19,
   "metadata": {},
   "outputs": [
    {
     "data": {
      "text/plain": [
       "(-8.912944578256607, 4.0431775068996664e-17)"
      ]
     },
     "execution_count": 19,
     "metadata": {},
     "output_type": "execute_result"
    }
   ],
   "source": [
    "get_t_stats(df.mpg[df.origin == 1], df.mpg[df.origin == 2])"
   ]
  },
  {
   "cell_type": "code",
   "execution_count": 20,
   "metadata": {},
   "outputs": [
    {
     "name": "stdout",
     "output_type": "stream",
     "text": [
      "(-8.912944578256607, 4.0431775068996664e-17)\n",
      "(-12.67722648020723, 3.370227003938695e-30)\n",
      "(-2.437843346714489, 0.015968231401683384)\n"
     ]
    }
   ],
   "source": [
    "# this agrees with scipy\n",
    "for comb in combinations([1, 2, 3], 2):\n",
    "    print(get_t_stats(df.mpg[df.origin == comb[0]],\n",
    "                      df.mpg[df.origin == comb[1]]))"
   ]
  },
  {
   "cell_type": "markdown",
   "metadata": {},
   "source": [
    "For this dataset, assuming equal variances in each group seems reasonable, but frequently this won't be the case. Then Welch's generalized version of the t-test is preferred. Just set `equal_var=False`."
   ]
  },
  {
   "cell_type": "code",
   "execution_count": 21,
   "metadata": {},
   "outputs": [
    {
     "name": "stdout",
     "output_type": "stream",
     "text": [
      "(1, 2) Ttest_indResult(statistic=-8.679320580877818, pvalue=4.879795682248817e-14)\n",
      "(1, 3) Ttest_indResult(statistic=-13.0212956096649, pvalue=9.439627688822917e-26)\n",
      "(2, 3) Ttest_indResult(statistic=-2.423254558493508, pvalue=0.016657234697612606)\n"
     ]
    }
   ],
   "source": [
    "for comb in combinations([1, 2, 3], 2):\n",
    "    print(comb, stats.ttest_ind(df.mpg[df.origin == comb[0]], df.mpg[df.origin == comb[1]],\n",
    "                                equal_var=False))"
   ]
  },
  {
   "cell_type": "markdown",
   "metadata": {},
   "source": [
    "## Comparing means of more than two groups\n",
    "\n",
    "We could test simultaneously if all groups have the same mean using a oneway F-test. F stands for Fisher, which is the distribution involved in this test.\n",
    "\n",
    "For two groups this test is equivalent to the t-test. For more groups, like the three origins, it tells us about significant differences among the groups, but not if that is due to one (and which) group or if all groups are different.\n",
    "\n",
    "- [Wikipedia on one-way F-test](https://en.wikipedia.org/wiki/One-way_analysis_of_variance)"
   ]
  },
  {
   "cell_type": "code",
   "execution_count": 22,
   "metadata": {},
   "outputs": [
    {
     "data": {
      "text/plain": [
       "F_onewayResult(statistic=98.44503306303137, pvalue=2.1180587616892173e-35)"
      ]
     },
     "execution_count": 22,
     "metadata": {},
     "output_type": "execute_result"
    }
   ],
   "source": [
    "stats.f_oneway(*[df.mpg[df.origin == i] for i in [1, 2, 3]])\n",
    "\n",
    "# A star before takes the elements of the list and passes them as separate arguments to a function."
   ]
  },
  {
   "cell_type": "markdown",
   "metadata": {},
   "source": [
    "## Chi-squared test\n",
    "\n",
    "Often we will get counts of observations in different categories. A potential question could be if the observed sample counts per category agree with expected counts."
   ]
  },
  {
   "cell_type": "code",
   "execution_count": 23,
   "metadata": {},
   "outputs": [
    {
     "data": {
      "text/html": [
       "<div>\n",
       "<style scoped>\n",
       "    .dataframe tbody tr th:only-of-type {\n",
       "        vertical-align: middle;\n",
       "    }\n",
       "\n",
       "    .dataframe tbody tr th {\n",
       "        vertical-align: top;\n",
       "    }\n",
       "\n",
       "    .dataframe thead th {\n",
       "        text-align: right;\n",
       "    }\n",
       "</style>\n",
       "<table border=\"1\" class=\"dataframe\">\n",
       "  <thead>\n",
       "    <tr style=\"text-align: right;\">\n",
       "      <th>cylinders</th>\n",
       "      <th>3</th>\n",
       "      <th>4</th>\n",
       "      <th>5</th>\n",
       "      <th>6</th>\n",
       "      <th>8</th>\n",
       "    </tr>\n",
       "    <tr>\n",
       "      <th>origin</th>\n",
       "      <th></th>\n",
       "      <th></th>\n",
       "      <th></th>\n",
       "      <th></th>\n",
       "      <th></th>\n",
       "    </tr>\n",
       "  </thead>\n",
       "  <tbody>\n",
       "    <tr>\n",
       "      <th>1</th>\n",
       "      <td>0.0</td>\n",
       "      <td>71.0</td>\n",
       "      <td>0.0</td>\n",
       "      <td>74.0</td>\n",
       "      <td>103.0</td>\n",
       "    </tr>\n",
       "    <tr>\n",
       "      <th>2</th>\n",
       "      <td>0.0</td>\n",
       "      <td>63.0</td>\n",
       "      <td>3.0</td>\n",
       "      <td>4.0</td>\n",
       "      <td>0.0</td>\n",
       "    </tr>\n",
       "    <tr>\n",
       "      <th>3</th>\n",
       "      <td>4.0</td>\n",
       "      <td>69.0</td>\n",
       "      <td>0.0</td>\n",
       "      <td>6.0</td>\n",
       "      <td>0.0</td>\n",
       "    </tr>\n",
       "  </tbody>\n",
       "</table>\n",
       "</div>"
      ],
      "text/plain": [
       "cylinders    3     4    5     6      8\n",
       "origin                                \n",
       "1          0.0  71.0  0.0  74.0  103.0\n",
       "2          0.0  63.0  3.0   4.0    0.0\n",
       "3          4.0  69.0  0.0   6.0    0.0"
      ]
     },
     "execution_count": 23,
     "metadata": {},
     "output_type": "execute_result"
    }
   ],
   "source": [
    "# number of observations per origin and number of cylinders\n",
    "df.groupby(['origin', 'cylinders'])['mpg'].count().unstack().fillna(0)"
   ]
  },
  {
   "cell_type": "code",
   "execution_count": 24,
   "metadata": {},
   "outputs": [
    {
     "data": {
      "text/html": [
       "<div>\n",
       "<style scoped>\n",
       "    .dataframe tbody tr th:only-of-type {\n",
       "        vertical-align: middle;\n",
       "    }\n",
       "\n",
       "    .dataframe tbody tr th {\n",
       "        vertical-align: top;\n",
       "    }\n",
       "\n",
       "    .dataframe thead th {\n",
       "        text-align: right;\n",
       "    }\n",
       "</style>\n",
       "<table border=\"1\" class=\"dataframe\">\n",
       "  <thead>\n",
       "    <tr style=\"text-align: right;\">\n",
       "      <th>cylinders</th>\n",
       "      <th>3</th>\n",
       "      <th>4</th>\n",
       "      <th>5</th>\n",
       "      <th>6</th>\n",
       "      <th>8</th>\n",
       "    </tr>\n",
       "    <tr>\n",
       "      <th>origin</th>\n",
       "      <th></th>\n",
       "      <th></th>\n",
       "      <th></th>\n",
       "      <th></th>\n",
       "      <th></th>\n",
       "    </tr>\n",
       "  </thead>\n",
       "  <tbody>\n",
       "    <tr>\n",
       "      <th>1</th>\n",
       "      <td>0</td>\n",
       "      <td>71</td>\n",
       "      <td>0</td>\n",
       "      <td>74</td>\n",
       "      <td>103</td>\n",
       "    </tr>\n",
       "    <tr>\n",
       "      <th>2</th>\n",
       "      <td>0</td>\n",
       "      <td>63</td>\n",
       "      <td>3</td>\n",
       "      <td>4</td>\n",
       "      <td>0</td>\n",
       "    </tr>\n",
       "    <tr>\n",
       "      <th>3</th>\n",
       "      <td>4</td>\n",
       "      <td>69</td>\n",
       "      <td>0</td>\n",
       "      <td>6</td>\n",
       "      <td>0</td>\n",
       "    </tr>\n",
       "  </tbody>\n",
       "</table>\n",
       "</div>"
      ],
      "text/plain": [
       "cylinders  3   4  5   6    8\n",
       "origin                      \n",
       "1          0  71  0  74  103\n",
       "2          0  63  3   4    0\n",
       "3          4  69  0   6    0"
      ]
     },
     "execution_count": 24,
     "metadata": {},
     "output_type": "execute_result"
    }
   ],
   "source": [
    "# number of observations per origin and number of cylinders with crosstab - same as groupby above\n",
    "cross_tab = pd.crosstab(df.origin, df.cylinders)\n",
    "cross_tab"
   ]
  },
  {
   "cell_type": "code",
   "execution_count": 25,
   "metadata": {},
   "outputs": [
    {
     "data": {
      "text/plain": [
       "1    0.624685\n",
       "2    0.176322\n",
       "3    0.198992\n",
       "Name: origin, dtype: float64"
      ]
     },
     "execution_count": 25,
     "metadata": {},
     "output_type": "execute_result"
    }
   ],
   "source": [
    "# fraction of observations per origin\n",
    "origin_counts = df.origin.value_counts(normalize=True, sort=False)\n",
    "origin_counts"
   ]
  },
  {
   "cell_type": "code",
   "execution_count": 26,
   "metadata": {},
   "outputs": [
    {
     "data": {
      "text/plain": [
       "3    0.010076\n",
       "4    0.511335\n",
       "5    0.007557\n",
       "6    0.211587\n",
       "8    0.259446\n",
       "Name: cylinders, dtype: float64"
      ]
     },
     "execution_count": 26,
     "metadata": {},
     "output_type": "execute_result"
    }
   ],
   "source": [
    "# fraction of observations per cylinder\n",
    "cylinder_counts = df.cylinders.value_counts(normalize=True, sort=False)\n",
    "cylinder_counts\n",
    "\n",
    "# Question here is: can we assume 51% pervalence of 4-cylinder cars in all origins, or will it be different for\n",
    "# each origin? So is there some sort of interaction effect, where one variable is affected by another variable."
   ]
  },
  {
   "cell_type": "markdown",
   "metadata": {},
   "source": [
    "The expected frequencies are obtained by multiplying in each entry the probability of being from a certain origin with the probability of being of a certain cylinder type, and then multiplying by the total number of observations."
   ]
  },
  {
   "cell_type": "code",
   "execution_count": 27,
   "metadata": {},
   "outputs": [
    {
     "data": {
      "text/plain": [
       "array([[  2.49874055, 126.81108312,   1.87405542,  52.47355164,\n",
       "         64.34256927],\n",
       "       [  0.70528967,  35.79345088,   0.52896725,  14.81108312,\n",
       "         18.16120907],\n",
       "       [  0.79596977,  40.39546599,   0.59697733,  16.71536524,\n",
       "         20.49622166]])"
      ]
     },
     "execution_count": 27,
     "metadata": {},
     "output_type": "execute_result"
    }
   ],
   "source": [
    "# expected frequencies - here you create your hypothesis, which says that p(cylinder) is the same across all\n",
    "# origins\n",
    "\n",
    "contingency_table = np.outer(origin_counts, cylinder_counts)*len(df)\n",
    "contingency_table"
   ]
  },
  {
   "cell_type": "code",
   "execution_count": 28,
   "metadata": {},
   "outputs": [
    {
     "data": {
      "text/plain": [
       "397.00000000000017"
      ]
     },
     "execution_count": 28,
     "metadata": {},
     "output_type": "execute_result"
    }
   ],
   "source": [
    "# all expected frequencies sum up to len(df)\n",
    "contingency_table.sum()"
   ]
  },
  {
   "cell_type": "markdown",
   "metadata": {},
   "source": [
    "Scipy's `chi2_contingency` function tests if the observed frequencies are the same as the expected ones. It returns\n",
    "\n",
    "- the chi2-statistic\n",
    "- the p-value\n",
    "- the number of degrees of freedom\n",
    "- the expected frequencies as calculated above\n",
    "\n",
    "> Note: To be really reliable, the contingency table should contain at least 5 values in each field."
   ]
  },
  {
   "cell_type": "code",
   "execution_count": 29,
   "metadata": {},
   "outputs": [
    {
     "data": {
      "text/plain": [
       "(181.08794470534585,\n",
       " 6.083409089573102e-35,\n",
       " 8,\n",
       " array([[  2.49874055, 126.81108312,   1.87405542,  52.47355164,\n",
       "          64.34256927],\n",
       "        [  0.70528967,  35.79345088,   0.52896725,  14.81108312,\n",
       "          18.16120907],\n",
       "        [  0.79596977,  40.39546599,   0.59697733,  16.71536524,\n",
       "          20.49622166]]))"
      ]
     },
     "execution_count": 29,
     "metadata": {},
     "output_type": "execute_result"
    }
   ],
   "source": [
    "stats.chi2_contingency(cross_tab)"
   ]
  },
  {
   "cell_type": "markdown",
   "metadata": {},
   "source": [
    "**What does this calculate?**\n",
    "\n",
    "The chi2-statistic is calculated taking the squared difference between each observed and expected value and dividing by the expected value giving a table of the same shape as the contingency table. Then all values in the table are summed. The name is related to the $\\chi^2$ (chi-squared) distribution. This test is again built relying on the central limit theorem."
   ]
  },
  {
   "cell_type": "code",
   "execution_count": 30,
   "metadata": {},
   "outputs": [
    {
     "data": {
      "text/plain": [
       "181.08794470534582"
      ]
     },
     "execution_count": 30,
     "metadata": {},
     "output_type": "execute_result"
    }
   ],
   "source": [
    "# calculate chi2_stats\n",
    "((cross_tab.values-contingency_table)**2/contingency_table).sum()"
   ]
  },
  {
   "cell_type": "code",
   "execution_count": 31,
   "metadata": {},
   "outputs": [
    {
     "data": {
      "text/plain": [
       "6.083409089573102e-35"
      ]
     },
     "execution_count": 31,
     "metadata": {},
     "output_type": "execute_result"
    }
   ],
   "source": [
    "# calculate p-value based on chi2-stats and dof\n",
    "stats.chi2.sf(stats.chi2_contingency(cross_tab)[0], stats.chi2_contingency(cross_tab)[2])"
   ]
  },
  {
   "cell_type": "markdown",
   "metadata": {},
   "source": [
    "If you only have a one-dimensional array of counts and want to compare against expected counts, use the `chisquare` function. For example you could assume that from the different origins you should have expected the following counts:"
   ]
  },
  {
   "cell_type": "code",
   "execution_count": 32,
   "metadata": {},
   "outputs": [
    {
     "data": {
      "text/plain": [
       "397"
      ]
     },
     "execution_count": 32,
     "metadata": {},
     "output_type": "execute_result"
    }
   ],
   "source": [
    "expected = np.array([260, 65, 72])\n",
    "expected.sum()"
   ]
  },
  {
   "cell_type": "code",
   "execution_count": 33,
   "metadata": {},
   "outputs": [
    {
     "data": {
      "text/plain": [
       "1    248\n",
       "2     70\n",
       "3     79\n",
       "Name: origin, dtype: int64"
      ]
     },
     "execution_count": 33,
     "metadata": {},
     "output_type": "execute_result"
    }
   ],
   "source": [
    "df.origin.value_counts(sort=False)"
   ]
  },
  {
   "cell_type": "code",
   "execution_count": 34,
   "metadata": {},
   "outputs": [
    {
     "data": {
      "text/plain": [
       "Power_divergenceResult(statistic=1.619017094017094, pvalue=0.4450767467815645)"
      ]
     },
     "execution_count": 34,
     "metadata": {},
     "output_type": "execute_result"
    }
   ],
   "source": [
    "stats.chisquare(df.origin.value_counts(sort=False), expected)"
   ]
  },
  {
   "cell_type": "markdown",
   "metadata": {},
   "source": [
    "## Normality test\n",
    "\n",
    "Sometimes we might want to know if the data is normally distributed. There are various tests for this purpose, but the one often considered most useful is a version due to D'Agostino and Pearson.\n",
    "\n",
    "- HO: The sample stems from a normal distribution. \n",
    "- H1: The sample does not stem from a normal distribution.\n"
   ]
  },
  {
   "cell_type": "markdown",
   "metadata": {},
   "source": [
    "- [Wikipedia](https://en.wikipedia.org/wiki/D%27Agostino%27s_K-squared_test) explains in detail how the test statistic is calculated. \n",
    "- [Graphpad](https://www.graphpad.com/support/faqid/959/) gives a detailed explanation of the usefulness of this test. Compared to the other tests, normality tests are much weaker in guiding any decision process."
   ]
  },
  {
   "cell_type": "code",
   "execution_count": 35,
   "metadata": {},
   "outputs": [
    {
     "data": {
      "text/plain": [
       "[(1,\n",
       "  NormaltestResult(statistic=23.44200703114389, pvalue=8.121436459378808e-06)),\n",
       " (2, NormaltestResult(statistic=5.905903150151377, pvalue=0.0521854491391507)),\n",
       " (3,\n",
       "  NormaltestResult(statistic=0.15471106127679465, pvalue=0.9255607299060036))]"
      ]
     },
     "execution_count": 35,
     "metadata": {},
     "output_type": "execute_result"
    }
   ],
   "source": [
    "[(i, stats.normaltest(df.mpg[df.origin == i])) for i in [1, 2, 3]]"
   ]
  },
  {
   "cell_type": "markdown",
   "metadata": {},
   "source": [
    "## Summary"
   ]
  },
  {
   "cell_type": "markdown",
   "metadata": {},
   "source": [
    "### One-sample t-test"
   ]
  },
  {
   "cell_type": "code",
   "execution_count": 36,
   "metadata": {},
   "outputs": [
    {
     "data": {
      "text/plain": [
       "Ttest_1sampResult(statistic=-3.7786661408732183, pvalue=0.0001819102852282707)"
      ]
     },
     "execution_count": 36,
     "metadata": {},
     "output_type": "execute_result"
    }
   ],
   "source": [
    "stats.ttest_1samp(df.mpg, 25)"
   ]
  },
  {
   "cell_type": "markdown",
   "metadata": {},
   "source": [
    "### Two-sample t-test"
   ]
  },
  {
   "cell_type": "code",
   "execution_count": 37,
   "metadata": {},
   "outputs": [
    {
     "data": {
      "text/plain": [
       "Ttest_indResult(statistic=-8.912944578256594, pvalue=4.043177506900016e-17)"
      ]
     },
     "execution_count": 37,
     "metadata": {},
     "output_type": "execute_result"
    }
   ],
   "source": [
    "stats.ttest_ind(df.mpg[df.origin == 1], df.mpg[df.origin == 2])"
   ]
  },
  {
   "cell_type": "markdown",
   "metadata": {},
   "source": [
    "### One-way F-test"
   ]
  },
  {
   "cell_type": "code",
   "execution_count": 38,
   "metadata": {},
   "outputs": [
    {
     "data": {
      "text/plain": [
       "F_onewayResult(statistic=98.44503306303137, pvalue=2.1180587616892173e-35)"
      ]
     },
     "execution_count": 38,
     "metadata": {},
     "output_type": "execute_result"
    }
   ],
   "source": [
    "stats.f_oneway(*[df.mpg[df.origin == i] for i in [1, 2, 3]])"
   ]
  },
  {
   "cell_type": "markdown",
   "metadata": {},
   "source": [
    "### Chi2-test"
   ]
  },
  {
   "cell_type": "code",
   "execution_count": 39,
   "metadata": {},
   "outputs": [
    {
     "data": {
      "text/plain": [
       "(181.08794470534585,\n",
       " 6.083409089573102e-35,\n",
       " 8,\n",
       " array([[  2.49874055, 126.81108312,   1.87405542,  52.47355164,\n",
       "          64.34256927],\n",
       "        [  0.70528967,  35.79345088,   0.52896725,  14.81108312,\n",
       "          18.16120907],\n",
       "        [  0.79596977,  40.39546599,   0.59697733,  16.71536524,\n",
       "          20.49622166]]))"
      ]
     },
     "execution_count": 39,
     "metadata": {},
     "output_type": "execute_result"
    }
   ],
   "source": [
    "stats.chi2_contingency(cross_tab)"
   ]
  },
  {
   "cell_type": "code",
   "execution_count": 40,
   "metadata": {},
   "outputs": [
    {
     "data": {
      "text/plain": [
       "Power_divergenceResult(statistic=1.619017094017094, pvalue=0.4450767467815645)"
      ]
     },
     "execution_count": 40,
     "metadata": {},
     "output_type": "execute_result"
    }
   ],
   "source": [
    "stats.chisquare(df.origin.value_counts(sort=False), expected)"
   ]
  },
  {
   "cell_type": "markdown",
   "metadata": {},
   "source": [
    "### Normality test"
   ]
  },
  {
   "cell_type": "code",
   "execution_count": 41,
   "metadata": {},
   "outputs": [
    {
     "data": {
      "text/plain": [
       "NormaltestResult(statistic=23.44200703114389, pvalue=8.121436459378808e-06)"
      ]
     },
     "execution_count": 41,
     "metadata": {},
     "output_type": "execute_result"
    }
   ],
   "source": [
    "stats.normaltest(df.mpg[df.origin == 1])"
   ]
  },
  {
   "cell_type": "markdown",
   "metadata": {},
   "source": [
    "## Conclusions\n",
    "\n",
    "Statistical tests are frequently used but often make a lot of assumptions. Don't use them blindly!\n",
    "Looking for low p-values can be interesting, but doing so at the cost of stopping collecting data as soon as there seems support for obtaining low p-values is dangerous. Read about p-value hacking [here](https://www.graphpad.com/guides/prism/8/statistics/stat_advice_dont_p-hack.htm)."
   ]
  },
  {
   "cell_type": "markdown",
   "metadata": {},
   "source": [
    "### Additional resources\n",
    "\n",
    "\n",
    "- [A gentle overview of the t-test procedure](http://blog.minitab.com/blog/statistics-and-quality-data-analysis/what-are-t-values-and-p-values-in-statistics)\n",
    "- [Another overview of the t-test procedure](http://www.statsdirect.com/help/parametric_methods/utt.htm)\n",
    "- [Wikipedia on one-way F-test](https://en.wikipedia.org/wiki/One-way_analysis_of_variance)\n",
    "- [Wikipedia on normality test](https://en.wikipedia.org/wiki/D%27Agostino%27s_K-squared_test)\n",
    "- [Graphpad on normality test](https://www.graphpad.com/support/faqid/959/) \n",
    "- [P-value hacking](https://www.graphpad.com/guides/prism/8/statistics/stat_advice_dont_p-hack.htm)"
   ]
  }
 ],
 "metadata": {
  "kernelspec": {
   "display_name": "Python 3",
   "language": "python",
   "name": "python3"
  },
  "language_info": {
   "codemirror_mode": {
    "name": "ipython",
    "version": 3
   },
   "file_extension": ".py",
   "mimetype": "text/x-python",
   "name": "python",
   "nbconvert_exporter": "python",
   "pygments_lexer": "ipython3",
   "version": "3.7.3"
  },
  "toc": {
   "base_numbering": 1,
   "nav_menu": {},
   "number_sections": false,
   "sideBar": true,
   "skip_h1_title": true,
   "title_cell": "Lesson Guide",
   "title_sidebar": "Contents",
   "toc_cell": true,
   "toc_position": {},
   "toc_section_display": true,
   "toc_window_display": false
  },
  "varInspector": {
   "cols": {
    "lenName": 16,
    "lenType": 16,
    "lenVar": 40
   },
   "kernels_config": {
    "python": {
     "delete_cmd_postfix": "",
     "delete_cmd_prefix": "del ",
     "library": "var_list.py",
     "varRefreshCmd": "print(var_dic_list())"
    },
    "r": {
     "delete_cmd_postfix": ") ",
     "delete_cmd_prefix": "rm(",
     "library": "var_list.r",
     "varRefreshCmd": "cat(var_dic_list()) "
    }
   },
   "types_to_exclude": [
    "module",
    "function",
    "builtin_function_or_method",
    "instance",
    "_Feature"
   ],
   "window_display": false
  }
 },
 "nbformat": 4,
 "nbformat_minor": 2
}
