{
 "cells": [
  {
   "cell_type": "markdown",
   "metadata": {},
   "source": [
    "<img src=\"http://imgur.com/1ZcRyrc.png\" style=\"float: left; margin: 20px; height: 55px\">\n",
    "\n",
    "# Introduction to Bootstrapping\n",
    "\n",
    "\n",
    "---"
   ]
  },
  {
   "cell_type": "markdown",
   "metadata": {},
   "source": [
    "## Learning Objectives\n",
    "\n",
    "### Core\n",
    "- Understand the concept of the non-parametric bootstrap\n",
    "- Code the non-parametric bootstrap by hand\n",
    "- Apply the non-parametric bootstrap to calculate confidence intervals for statistics\n",
    "\n",
    "### Target\n",
    "- Understand when the bootstrap is useful\n",
    "- Practice performing the bootstrap\n",
    "\n",
    "### Stretch\n",
    "- Use the bootstrap to determine confidence intervals for correlation and regression coefficients"
   ]
  },
  {
   "cell_type": "markdown",
   "metadata": {},
   "source": [
    "### Lesson Guide\n",
    "- [The bootstrapping procedure](#bootstrapping)\n",
    "- [Coding the nonparametric bootstrap](#code-bootstrap)\n",
    "- [Comparing bootstrapped confidence intervals to standard](#compare-to-classic)\n",
    "- [Bootstrapping the median](#bootstrap-median)\n",
    "- [Theory behind the bootstrap](#theory)\n",
    "- [Independent practice: confidence intervals of correlations](#independent-practice)\n"
   ]
  },
  {
   "cell_type": "code",
   "execution_count": 1,
   "metadata": {},
   "outputs": [],
   "source": [
    "import warnings\n",
    "import matplotlib.pyplot as plt\n",
    "import numpy as np\n",
    "import pandas as pd\n",
    "import seaborn as sns\n",
    "import scipy.stats as stats\n",
    "\n",
    "plt.style.use('fivethirtyeight')\n",
    "\n",
    "%matplotlib inline\n",
    "%config InlineBackend.figure_format = 'retina'\n",
    "\n",
    "warnings.simplefilter('ignore')"
   ]
  },
  {
   "cell_type": "markdown",
   "metadata": {},
   "source": [
    "<a id='bootstrapping'></a>\n",
    "\n",
    "## The bootstrapping procedure\n",
    "\n",
    "---\n",
    "\n",
    "Bootstrapping is a powerful resampling method that allows us to estimate the degree of our uncertainty about practically any statistic. The beauty of bootstrapping is that this is done directly from the data without needing to make any assumptions about the distribution of our statistic!\n",
    "\n",
    "There are many variations on the bootstrap. In this lesson we will cover only the classic **nonparametric bootstrap**. \n",
    "\n",
    "#### Bootstrapping the confidence interval of a statistic\n",
    "\n",
    "Say we wanted to calculate the 95% confidence interval around a statistic such as our sample mean. We could do this using the formula derived based on the Central Limit Theorem (CLT), selecting z-scores along the standard Normal distribution that corresponds to our confidence level and multiplying them by our standard error.\n",
    "\n",
    "The nonparametric bootstrap procedure on the other hand does not rely on distributional assumptions of the parameter. Below is pseudocode describing the process:\n",
    "\n",
    "---\n",
    "\n",
    "```\n",
    "for specified number of bootstrap iterations\n",
    "\n",
    "   create a bootstrap sample by randomly selecting \n",
    "   observations with replacement from your sample \n",
    "   (same size as sample)\n",
    "   calculate the statistic of interest on bootstrap sample\n",
    "\n",
    "calculate lower and upper percentile bounds of bootstrap statistics according to threshold\n",
    "```\n",
    "\n",
    "---\n",
    "\n",
    "Where the 95% confidence threshold in our case would mean we calculate the 2.5th and 97.5th percentile of the bootstrapped sample means."
   ]
  },
  {
   "cell_type": "markdown",
   "metadata": {},
   "source": [
    "<a id='code-bootstrap'></a>\n",
    "\n",
    "### Coding the nonparametric bootstrap by hand: Starcraft data\n",
    "\n",
    "---\n",
    "\n",
    "Below we will code the nonparametric bootstrap function and calculate the confidence interval for the mean APM (Actions per Minute) from a sample of Starcraft data. \n",
    "\n",
    "**Load the Starcraft data:**"
   ]
  },
  {
   "cell_type": "code",
   "execution_count": 2,
   "metadata": {},
   "outputs": [],
   "source": [
    "starcraft = './datasets/Starcraft_sample.csv'"
   ]
  },
  {
   "cell_type": "code",
   "execution_count": 3,
   "metadata": {},
   "outputs": [
    {
     "name": "stdout",
     "output_type": "stream",
     "text": [
      "(200, 20)\n"
     ]
    }
   ],
   "source": [
    "star = pd.read_csv(starcraft)\n",
    "print(star.shape)"
   ]
  },
  {
   "cell_type": "code",
   "execution_count": 4,
   "metadata": {},
   "outputs": [
    {
     "data": {
      "text/html": [
       "<div>\n",
       "<style scoped>\n",
       "    .dataframe tbody tr th:only-of-type {\n",
       "        vertical-align: middle;\n",
       "    }\n",
       "\n",
       "    .dataframe tbody tr th {\n",
       "        vertical-align: top;\n",
       "    }\n",
       "\n",
       "    .dataframe thead th {\n",
       "        text-align: right;\n",
       "    }\n",
       "</style>\n",
       "<table border=\"1\" class=\"dataframe\">\n",
       "  <thead>\n",
       "    <tr style=\"text-align: right;\">\n",
       "      <th></th>\n",
       "      <th>GameID</th>\n",
       "      <th>LeagueIndex</th>\n",
       "      <th>Age</th>\n",
       "      <th>HoursPerWeek</th>\n",
       "      <th>TotalHours</th>\n",
       "      <th>APM</th>\n",
       "      <th>SelectByHotkeys</th>\n",
       "      <th>AssignToHotkeys</th>\n",
       "      <th>UniqueHotkeys</th>\n",
       "      <th>MinimapAttacks</th>\n",
       "      <th>MinimapRightClicks</th>\n",
       "      <th>NumberOfPACs</th>\n",
       "      <th>GapBetweenPACs</th>\n",
       "      <th>ActionLatency</th>\n",
       "      <th>ActionsInPAC</th>\n",
       "      <th>TotalMapExplored</th>\n",
       "      <th>WorkersMade</th>\n",
       "      <th>UniqueUnitsMade</th>\n",
       "      <th>ComplexUnitsMade</th>\n",
       "      <th>ComplexAbilitiesUsed</th>\n",
       "    </tr>\n",
       "  </thead>\n",
       "  <tbody>\n",
       "    <tr>\n",
       "      <th>101</th>\n",
       "      <td>900</td>\n",
       "      <td>2</td>\n",
       "      <td>22.0</td>\n",
       "      <td>30</td>\n",
       "      <td>700</td>\n",
       "      <td>82.9572</td>\n",
       "      <td>0.003751</td>\n",
       "      <td>0.000194</td>\n",
       "      <td>1</td>\n",
       "      <td>0.0</td>\n",
       "      <td>0.000226</td>\n",
       "      <td>0.000679</td>\n",
       "      <td>45.8</td>\n",
       "      <td>93.7143</td>\n",
       "      <td>17.7619</td>\n",
       "      <td>6</td>\n",
       "      <td>0.000711</td>\n",
       "      <td>4</td>\n",
       "      <td>0.0</td>\n",
       "      <td>0.0</td>\n",
       "    </tr>\n",
       "  </tbody>\n",
       "</table>\n",
       "</div>"
      ],
      "text/plain": [
       "     GameID  LeagueIndex   Age  HoursPerWeek  TotalHours      APM  \\\n",
       "101     900            2  22.0            30         700  82.9572   \n",
       "\n",
       "     SelectByHotkeys  AssignToHotkeys  UniqueHotkeys  MinimapAttacks  \\\n",
       "101         0.003751         0.000194              1             0.0   \n",
       "\n",
       "     MinimapRightClicks  NumberOfPACs  GapBetweenPACs  ActionLatency  \\\n",
       "101            0.000226      0.000679            45.8        93.7143   \n",
       "\n",
       "     ActionsInPAC  TotalMapExplored  WorkersMade  UniqueUnitsMade  \\\n",
       "101       17.7619                 6     0.000711                4   \n",
       "\n",
       "     ComplexUnitsMade  ComplexAbilitiesUsed  \n",
       "101               0.0                   0.0  "
      ]
     },
     "execution_count": 4,
     "metadata": {},
     "output_type": "execute_result"
    }
   ],
   "source": [
    "star.sample()"
   ]
  },
  {
   "cell_type": "code",
   "execution_count": 5,
   "metadata": {},
   "outputs": [
    {
     "data": {
      "text/html": [
       "<div>\n",
       "<style scoped>\n",
       "    .dataframe tbody tr th:only-of-type {\n",
       "        vertical-align: middle;\n",
       "    }\n",
       "\n",
       "    .dataframe tbody tr th {\n",
       "        vertical-align: top;\n",
       "    }\n",
       "\n",
       "    .dataframe thead th {\n",
       "        text-align: right;\n",
       "    }\n",
       "</style>\n",
       "<table border=\"1\" class=\"dataframe\">\n",
       "  <thead>\n",
       "    <tr style=\"text-align: right;\">\n",
       "      <th></th>\n",
       "      <th>GameID</th>\n",
       "      <th>LeagueIndex</th>\n",
       "      <th>Age</th>\n",
       "      <th>HoursPerWeek</th>\n",
       "      <th>TotalHours</th>\n",
       "      <th>APM</th>\n",
       "      <th>SelectByHotkeys</th>\n",
       "      <th>AssignToHotkeys</th>\n",
       "      <th>UniqueHotkeys</th>\n",
       "      <th>MinimapAttacks</th>\n",
       "      <th>MinimapRightClicks</th>\n",
       "      <th>NumberOfPACs</th>\n",
       "      <th>GapBetweenPACs</th>\n",
       "      <th>ActionLatency</th>\n",
       "      <th>ActionsInPAC</th>\n",
       "      <th>TotalMapExplored</th>\n",
       "      <th>WorkersMade</th>\n",
       "      <th>UniqueUnitsMade</th>\n",
       "      <th>ComplexUnitsMade</th>\n",
       "      <th>ComplexAbilitiesUsed</th>\n",
       "    </tr>\n",
       "  </thead>\n",
       "  <tbody>\n",
       "    <tr>\n",
       "      <th>0</th>\n",
       "      <td>2307</td>\n",
       "      <td>5</td>\n",
       "      <td>22.0</td>\n",
       "      <td>42</td>\n",
       "      <td>2800</td>\n",
       "      <td>190.7448</td>\n",
       "      <td>0.009310</td>\n",
       "      <td>0.000495</td>\n",
       "      <td>4</td>\n",
       "      <td>0.000000</td>\n",
       "      <td>0.000307</td>\n",
       "      <td>0.004519</td>\n",
       "      <td>41.6515</td>\n",
       "      <td>53.1774</td>\n",
       "      <td>6.0189</td>\n",
       "      <td>26</td>\n",
       "      <td>0.002319</td>\n",
       "      <td>7</td>\n",
       "      <td>0.000000</td>\n",
       "      <td>0.000017</td>\n",
       "    </tr>\n",
       "    <tr>\n",
       "      <th>1</th>\n",
       "      <td>9213</td>\n",
       "      <td>5</td>\n",
       "      <td>34.0</td>\n",
       "      <td>4</td>\n",
       "      <td>364</td>\n",
       "      <td>77.5512</td>\n",
       "      <td>0.002448</td>\n",
       "      <td>0.000486</td>\n",
       "      <td>7</td>\n",
       "      <td>0.000178</td>\n",
       "      <td>0.000340</td>\n",
       "      <td>0.002496</td>\n",
       "      <td>31.8431</td>\n",
       "      <td>65.8701</td>\n",
       "      <td>4.9740</td>\n",
       "      <td>22</td>\n",
       "      <td>0.000713</td>\n",
       "      <td>6</td>\n",
       "      <td>0.000000</td>\n",
       "      <td>0.000000</td>\n",
       "    </tr>\n",
       "    <tr>\n",
       "      <th>2</th>\n",
       "      <td>209</td>\n",
       "      <td>3</td>\n",
       "      <td>20.0</td>\n",
       "      <td>6</td>\n",
       "      <td>150</td>\n",
       "      <td>72.1410</td>\n",
       "      <td>0.001238</td>\n",
       "      <td>0.000394</td>\n",
       "      <td>5</td>\n",
       "      <td>0.000019</td>\n",
       "      <td>0.000272</td>\n",
       "      <td>0.003376</td>\n",
       "      <td>45.9164</td>\n",
       "      <td>68.8778</td>\n",
       "      <td>3.7528</td>\n",
       "      <td>24</td>\n",
       "      <td>0.000797</td>\n",
       "      <td>8</td>\n",
       "      <td>0.000122</td>\n",
       "      <td>0.000356</td>\n",
       "    </tr>\n",
       "    <tr>\n",
       "      <th>3</th>\n",
       "      <td>2958</td>\n",
       "      <td>3</td>\n",
       "      <td>16.0</td>\n",
       "      <td>6</td>\n",
       "      <td>200</td>\n",
       "      <td>91.3188</td>\n",
       "      <td>0.000897</td>\n",
       "      <td>0.000130</td>\n",
       "      <td>5</td>\n",
       "      <td>0.000026</td>\n",
       "      <td>0.000663</td>\n",
       "      <td>0.002664</td>\n",
       "      <td>34.5490</td>\n",
       "      <td>74.6732</td>\n",
       "      <td>6.3512</td>\n",
       "      <td>27</td>\n",
       "      <td>0.001287</td>\n",
       "      <td>7</td>\n",
       "      <td>0.000195</td>\n",
       "      <td>0.000273</td>\n",
       "    </tr>\n",
       "    <tr>\n",
       "      <th>4</th>\n",
       "      <td>5533</td>\n",
       "      <td>4</td>\n",
       "      <td>22.0</td>\n",
       "      <td>20</td>\n",
       "      <td>800</td>\n",
       "      <td>85.3884</td>\n",
       "      <td>0.001188</td>\n",
       "      <td>0.000381</td>\n",
       "      <td>3</td>\n",
       "      <td>0.000067</td>\n",
       "      <td>0.000179</td>\n",
       "      <td>0.002980</td>\n",
       "      <td>26.9697</td>\n",
       "      <td>58.0752</td>\n",
       "      <td>5.0827</td>\n",
       "      <td>15</td>\n",
       "      <td>0.001098</td>\n",
       "      <td>4</td>\n",
       "      <td>0.000000</td>\n",
       "      <td>0.000157</td>\n",
       "    </tr>\n",
       "  </tbody>\n",
       "</table>\n",
       "</div>"
      ],
      "text/plain": [
       "   GameID  LeagueIndex   Age  HoursPerWeek  TotalHours       APM  \\\n",
       "0    2307            5  22.0            42        2800  190.7448   \n",
       "1    9213            5  34.0             4         364   77.5512   \n",
       "2     209            3  20.0             6         150   72.1410   \n",
       "3    2958            3  16.0             6         200   91.3188   \n",
       "4    5533            4  22.0            20         800   85.3884   \n",
       "\n",
       "   SelectByHotkeys  AssignToHotkeys  UniqueHotkeys  MinimapAttacks  \\\n",
       "0         0.009310         0.000495              4        0.000000   \n",
       "1         0.002448         0.000486              7        0.000178   \n",
       "2         0.001238         0.000394              5        0.000019   \n",
       "3         0.000897         0.000130              5        0.000026   \n",
       "4         0.001188         0.000381              3        0.000067   \n",
       "\n",
       "   MinimapRightClicks  NumberOfPACs  GapBetweenPACs  ActionLatency  \\\n",
       "0            0.000307      0.004519         41.6515        53.1774   \n",
       "1            0.000340      0.002496         31.8431        65.8701   \n",
       "2            0.000272      0.003376         45.9164        68.8778   \n",
       "3            0.000663      0.002664         34.5490        74.6732   \n",
       "4            0.000179      0.002980         26.9697        58.0752   \n",
       "\n",
       "   ActionsInPAC  TotalMapExplored  WorkersMade  UniqueUnitsMade  \\\n",
       "0        6.0189                26     0.002319                7   \n",
       "1        4.9740                22     0.000713                6   \n",
       "2        3.7528                24     0.000797                8   \n",
       "3        6.3512                27     0.001287                7   \n",
       "4        5.0827                15     0.001098                4   \n",
       "\n",
       "   ComplexUnitsMade  ComplexAbilitiesUsed  \n",
       "0          0.000000              0.000017  \n",
       "1          0.000000              0.000000  \n",
       "2          0.000122              0.000356  \n",
       "3          0.000195              0.000273  \n",
       "4          0.000000              0.000157  "
      ]
     },
     "execution_count": 5,
     "metadata": {},
     "output_type": "execute_result"
    }
   ],
   "source": [
    "star.head()"
   ]
  },
  {
   "cell_type": "markdown",
   "metadata": {},
   "source": [
    "**Extract the APM vector from the dataset:**"
   ]
  },
  {
   "cell_type": "code",
   "execution_count": 6,
   "metadata": {},
   "outputs": [],
   "source": [
    "apm = star.APM"
   ]
  },
  {
   "cell_type": "code",
   "execution_count": 7,
   "metadata": {},
   "outputs": [
    {
     "data": {
      "text/plain": [
       "count    200.000000\n",
       "mean     114.323439\n",
       "std       53.682694\n",
       "min       32.494200\n",
       "25%       76.177650\n",
       "50%      104.392200\n",
       "75%      138.205950\n",
       "max      389.831400\n",
       "Name: APM, dtype: float64"
      ]
     },
     "execution_count": 7,
     "metadata": {},
     "output_type": "execute_result"
    }
   ],
   "source": [
    "apm.describe()"
   ]
  },
  {
   "cell_type": "code",
   "execution_count": 8,
   "metadata": {},
   "outputs": [
    {
     "data": {
      "text/plain": [
       "114.323439"
      ]
     },
     "execution_count": 8,
     "metadata": {},
     "output_type": "execute_result"
    }
   ],
   "source": [
    "np.random.choice(apm[:], replace=False, size=200).mean()"
   ]
  },
  {
   "cell_type": "code",
   "execution_count": 9,
   "metadata": {},
   "outputs": [
    {
     "data": {
      "text/plain": [
       "114.054798"
      ]
     },
     "execution_count": 9,
     "metadata": {},
     "output_type": "execute_result"
    }
   ],
   "source": [
    "np.random.choice(apm[:], replace=True, size=200).mean()"
   ]
  },
  {
   "cell_type": "markdown",
   "metadata": {},
   "source": [
    "**Plot the distribution of APM with a histogram:**"
   ]
  },
  {
   "cell_type": "code",
   "execution_count": 10,
   "metadata": {},
   "outputs": [
    {
     "data": {
      "image/png": "[encoded data removed]",
      "text/plain": [
       "<Figure size 432x288 with 1 Axes>"
      ]
     },
     "metadata": {
      "image/png": {
       "height": 260,
       "width": 408
      },
      "needs_background": "light"
     },
     "output_type": "display_data"
    }
   ],
   "source": [
    "ax = sns.distplot(apm, bins=25, kde=False)"
   ]
  },
  {
   "cell_type": "markdown",
   "metadata": {},
   "source": [
    "**Let's write a function for the nonparametric bootstrap procedure.**\n",
    "\n",
    "The function will take three arguments:\n",
    "- The sample\n",
    "- The function to calculate the statistic of interest\n",
    "- The number of iterations\n",
    "\n",
    "The function should return a vector of the \"bootstrapped\" statistics. Refer to the pseudocode above. Remember that the random sampling must be done **with replacement** and the random sample must be the same size as the original sample."
   ]
  },
  {
   "cell_type": "code",
   "execution_count": 11,
   "metadata": {},
   "outputs": [],
   "source": [
    "def bootstrap(sample, stat_func, iterations=1000):\n",
    "    \"\"\"\n",
    "    Create booststrapped sample from a given sample and calculate \n",
    "    at each iteration a statistic of the bootstrapped sample\n",
    "\n",
    "    Sample: sample of observations, \n",
    "    stat_func: a statistical function\n",
    "    iterations: number of bootstrap iterations\n",
    "\n",
    "    Returns a list with the statistic evaluated for each bootstrapped sample \n",
    "    \"\"\"\n",
    "\n",
    "    boots = []\n",
    "\n",
    "    for i in range(iterations):\n",
    "        # Take a random choice from the given sample with replacement\n",
    "        random_sample = np.random.choice(\n",
    "            sample, replace=True, size=len(sample))\n",
    "        # Calculate the statistic of the random sample\n",
    "        stat = stat_func(random_sample)\n",
    "        # append the statistic to the result list\n",
    "        boots.append(stat)\n",
    "\n",
    "    return boots"
   ]
  },
  {
   "cell_type": "markdown",
   "metadata": {},
   "source": [
    "**Using our bootstrapping function with 1000 iterations let's calculate the 95% confidence interval for the mean APM.**\n",
    "\n",
    "Remember that for a 95% confidence interval, we want to find the 2.5th percentile bootstrapped mean and the 97.5th percentile bootstrapped mean (corresponding to a threshold of 0.05).\n",
    "\n",
    "The [`scipy.stats.scoreatpercentile`](https://docs.scipy.org/doc/scipy-0.14.0/reference/generated/scipy.stats.scoreatpercentile.html) function is useful for finding the values at these percentiles."
   ]
  },
  {
   "cell_type": "code",
   "execution_count": 12,
   "metadata": {},
   "outputs": [
    {
     "name": "stdout",
     "output_type": "stream",
     "text": [
      "107.00077702499999 114.3290006457 121.77799349999998\n"
     ]
    }
   ],
   "source": [
    "apm_boot = bootstrap(apm, np.mean, iterations=10000)\n",
    "\n",
    "apm_lower = stats.scoreatpercentile(apm_boot, 2.5)\n",
    "apm_upper = stats.scoreatpercentile(apm_boot, 97.5)\n",
    "\n",
    "print(apm_lower, np.mean(apm_boot), apm_upper)"
   ]
  },
  {
   "cell_type": "code",
   "execution_count": 13,
   "metadata": {},
   "outputs": [
    {
     "data": {
      "text/plain": [
       "114.323439"
      ]
     },
     "execution_count": 13,
     "metadata": {},
     "output_type": "execute_result"
    }
   ],
   "source": [
    "apm.mean()"
   ]
  },
  {
   "cell_type": "code",
   "execution_count": 14,
   "metadata": {},
   "outputs": [
    {
     "data": {
      "image/png": "[encoded data removed]",
      "text/plain": [
       "<Figure size 432x288 with 1 Axes>"
      ]
     },
     "metadata": {
      "image/png": {
       "height": 244,
       "width": 419
      },
      "needs_background": "light"
     },
     "output_type": "display_data"
    }
   ],
   "source": [
    "plt.hist(apm_boot, bins=30)\n",
    "plt.show()"
   ]
  },
  {
   "cell_type": "markdown",
   "metadata": {},
   "source": [
    "<a id='compare-to-classic'></a>\n",
    "\n",
    "### Comparing the bootstrapped confidence interval to the classic formula\n",
    "\n",
    "---\n",
    "\n",
    "The classic formula for calculating the confidence interval bounds for the sample mean is:\n",
    "\n",
    "$$ [\\; \\bar{x} + z_{\\alpha/2}\\frac{s}{\\sqrt{n}},\\; \\bar{x} + z_{1-\\alpha/2} \\frac{s}{\\sqrt{n}} ]$$\n",
    "\n",
    "where in our case $\\alpha = 0.05$. Filling in the appropriate z-scores according to this threshold we have:\n",
    "\n",
    "$$ [\\; \\bar{x} -1.96 \\frac{s}{\\sqrt{n}},\\; \\bar{x} + 1.96 \\frac{s}{\\sqrt{n}} ]$$\n",
    "\n",
    "**Calculate the confidence interval for the mean APM with the formula above and compare it to our bootstrapped confidence interval.**"
   ]
  },
  {
   "cell_type": "code",
   "execution_count": 15,
   "metadata": {},
   "outputs": [
    {
     "data": {
      "text/plain": [
       "(1.959963984540054, 2.5758293035489004)"
      ]
     },
     "execution_count": 15,
     "metadata": {},
     "output_type": "execute_result"
    }
   ],
   "source": [
    "stats.norm().ppf(0.975), stats.norm().ppf(0.995)"
   ]
  },
  {
   "cell_type": "code",
   "execution_count": 16,
   "metadata": {},
   "outputs": [
    {
     "name": "stdout",
     "output_type": "stream",
     "text": [
      "106.88353397188644 114.323439 121.76334402811355\n"
     ]
    }
   ],
   "source": [
    "se_mean = stats.sem(apm)\n",
    "\n",
    "apm_lower = np.mean(apm) + stats.norm().ppf(0.025)*se_mean\n",
    "apm_upper = np.mean(apm) + stats.norm().ppf(0.975)*se_mean\n",
    "\n",
    "print(apm_lower, np.mean(apm), apm_upper)"
   ]
  },
  {
   "cell_type": "code",
   "execution_count": 17,
   "metadata": {},
   "outputs": [
    {
     "data": {
      "text/plain": [
       "(106.88353397188644, 121.76334402811355)"
      ]
     },
     "execution_count": 17,
     "metadata": {},
     "output_type": "execute_result"
    }
   ],
   "source": [
    "# same using interval function\n",
    "stats.norm.interval(0.95, loc=np.mean(apm), scale=stats.sem(apm))"
   ]
  },
  {
   "cell_type": "code",
   "execution_count": 18,
   "metadata": {},
   "outputs": [
    {
     "data": {
      "text/plain": [
       "(106.83823991224342, 121.80863808775656)"
      ]
     },
     "execution_count": 18,
     "metadata": {},
     "output_type": "execute_result"
    }
   ],
   "source": [
    "# even more accurate to use t-distribution\n",
    "stats.t.interval(0.95, len(apm-1), loc=apm.mean(),\n",
    "                 scale=apm.std(ddof=1)/len(apm)**0.5)"
   ]
  },
  {
   "cell_type": "markdown",
   "metadata": {},
   "source": [
    "<a id='bootstrap-median'></a>\n",
    "\n",
    "### A more practical example: bootstrapping the median\n",
    "\n",
    "---\n",
    "\n",
    "In the case of estimating the confidence around the sample mean, the bootstrapping procedure is not particularly useful since the sample mean has such nice distributional properties. \n",
    "\n",
    "The bootstrap becomes much more useful when we need to calculate our uncertainty around statistics without straightforward formulas or ones with unreasonably strict assumptions. The median is one such statistic. \n",
    "\n",
    "**Formula for the sample error of the median (to use for calculating confidence interval around the median):**\n",
    "\n",
    "There is in fact a formula for the sample error of the median:\n",
    "\n",
    "$$ \\text{s.e. median} = 1.2533 \\cdot \\text{s.e. mean} $$\n",
    "\n",
    "which is a function of the sample error of the mean and uses a heuristic multiplier 1.2533. Furthermore, it requires these assumptions to work:\n",
    "\n",
    "1. $N$ is large\n",
    "2. The samples of measurements are drawn from a normally distributed population\n",
    "\n",
    "**Check:** What about these assumptions is impractical?\n",
    "\n",
    "---\n",
    "\n",
    "The second assumption is strict – many distributions are not normally distributed. Furthermore, what tangible benefit do we get from calculating the median over the mean if we know ahead of time that the population is normally distributed?\n",
    "\n",
    "The median is much more useful when we suspect a non-normally distributed population.\n",
    "\n",
    "\n",
    "**Plot the distribution of APM from the Starcraft data with a vertical line indicating the median.**"
   ]
  },
  {
   "cell_type": "code",
   "execution_count": 19,
   "metadata": {},
   "outputs": [
    {
     "data": {
      "image/png": "[encoded data removed]",
      "text/plain": [
       "<Figure size 432x288 with 1 Axes>"
      ]
     },
     "metadata": {
      "image/png": {
       "height": 260,
       "width": 408
      },
      "needs_background": "light"
     },
     "output_type": "display_data"
    }
   ],
   "source": [
    "apm_median = np.median(apm)\n",
    "ax = sns.distplot(apm, bins=25, kde=False)\n",
    "ax.axvline(apm_median, lw=2.5, ls='dashed', color='black')\n",
    "plt.show()"
   ]
  },
  {
   "cell_type": "markdown",
   "metadata": {},
   "source": [
    "#### Calculate a 99% confidence interval for the median with the formula above.\n",
    "\n",
    "The associated z-score magnitude is 2.576"
   ]
  },
  {
   "cell_type": "code",
   "execution_count": 20,
   "metadata": {},
   "outputs": [
    {
     "name": "stdout",
     "output_type": "stream",
     "text": [
      "92.13781783939709 104.3922 116.64658216060292\n"
     ]
    }
   ],
   "source": [
    "se_mean = stats.sem(apm)\n",
    "se_median = se_mean*1.2533\n",
    "\n",
    "apm_med_lower = np.median(apm) + stats.norm().ppf(0.005)*se_median\n",
    "apm_med_upper = np.median(apm) + stats.norm().ppf(0.995)*se_median\n",
    "\n",
    "print(apm_med_lower, np.median(apm), apm_med_upper)"
   ]
  },
  {
   "cell_type": "markdown",
   "metadata": {},
   "source": [
    "**Bootstrap the 99% confidence interval for the median with 1000 iterations.**"
   ]
  },
  {
   "cell_type": "code",
   "execution_count": 21,
   "metadata": {},
   "outputs": [
    {
     "name": "stdout",
     "output_type": "stream",
     "text": [
      "104.38677813\n",
      "95.9058 104.3922 116.6142\n"
     ]
    }
   ],
   "source": [
    "med_boot = bootstrap(apm, np.median, iterations=10000)\n",
    "\n",
    "med_boot_lower = stats.scoreatpercentile(med_boot, 0.5)\n",
    "med_boot_median = stats.scoreatpercentile(med_boot, 50)\n",
    "med_boot_upper = stats.scoreatpercentile(med_boot, 99.5)\n",
    "med_boot_mean = np.mean(med_boot)\n",
    "\n",
    "print(med_boot_mean)\n",
    "print(med_boot_lower, med_boot_median, med_boot_upper)"
   ]
  },
  {
   "cell_type": "code",
   "execution_count": 22,
   "metadata": {},
   "outputs": [
    {
     "data": {
      "image/png": "[encoded data removed]",
      "text/plain": [
       "<Figure size 432x288 with 1 Axes>"
      ]
     },
     "metadata": {
      "image/png": {
       "height": 244,
       "width": 419
      },
      "needs_background": "light"
     },
     "output_type": "display_data"
    }
   ],
   "source": [
    "plt.hist(med_boot, bins=30)\n",
    "plt.show()"
   ]
  },
  {
   "cell_type": "markdown",
   "metadata": {},
   "source": [
    "**How is the distribution different using the boostrap?**"
   ]
  },
  {
   "cell_type": "markdown",
   "metadata": {
    "collapsed": true
   },
   "source": [
    "The bootstrapped confidence interval is wider on the right-hand side and shorter on the left. This mirrors the skew present in the dataset, which we can assume is reflected in the overall population as well.  \n",
    "If the skew is in fact present in the overall population dataset, then only the bootstrap confidence interval is appropriate!"
   ]
  },
  {
   "cell_type": "code",
   "execution_count": 23,
   "metadata": {},
   "outputs": [
    {
     "data": {
      "image/png": "[encoded data removed]",
      "text/plain": [
       "<Figure size 432x288 with 1 Axes>"
      ]
     },
     "metadata": {
      "image/png": {
       "height": 260,
       "width": 408
      },
      "needs_background": "light"
     },
     "output_type": "display_data"
    }
   ],
   "source": [
    "ax = sns.distplot(apm, bins=20, kde=False)\n",
    "ax.axvline(np.median(apm), lw=3, color='black', label='median')\n",
    "ax.axvline(apm_med_lower, lw=2.5, color='black', ls='dashed')\n",
    "ax.axvline(apm_med_upper, lw=2.5, color='black',\n",
    "           ls='dashed', label='conventional CI estimate')\n",
    "ax.axvline(med_boot_lower, lw=2.5, color='darkgoldenrod', ls='dashed')\n",
    "ax.axvline(med_boot_upper, lw=2.5, color='darkgoldenrod',\n",
    "           ls='dashed', label='bootstrap CI estimate')\n",
    "plt.legend()\n",
    "plt.show()"
   ]
  },
  {
   "cell_type": "markdown",
   "metadata": {},
   "source": [
    "<a id='theory'></a>\n",
    "\n",
    "### Theory behind the bootstrap\n",
    "\n",
    "---\n",
    "\n",
    "The idea grounding the bootstrap is that inferences we can draw from random samples drawn from our sample can in turn be applied to our inference about the overall population. This is because our random sample of the sample mirrors the fact that our sample is randomly drawn from the population. \n",
    "\n",
    "Essentially, bootstrap samples are to our original sample as our original sample is to the overall population.\n",
    "\n",
    "With a population parameter $\\theta$ and sample statistic $\\hat{\\theta}$ we make an inference about the uncertainty around our estimate of the population parameter.\n",
    "\n",
    "> We infer the population $\\theta$ and uncertainty of the inference from sample $\\hat{\\theta}_{s}$.\n",
    "\n",
    "With bootstrapping we mirror this process *to make an inference about the uncertainty around our \"estimate\" of the sample statistic.*\n",
    "\n",
    "> Infer uncertainty of our sample statistic $\\hat{\\theta}_{s}$ from multiple random bootstrap samples drawn from the sample.\n",
    "\n"
   ]
  },
  {
   "cell_type": "markdown",
   "metadata": {},
   "source": [
    "<a id='independent-practice'></a>\n",
    "\n",
    "### Independent practice: bootstrapping the confidence interval of the correlation coefficient\n",
    "\n",
    "---\n",
    "\n",
    "Like the median, computing the confidence interval for the Pearson correlation coefficient is not straightforward without using the bootstrap procedure. "
   ]
  },
  {
   "cell_type": "markdown",
   "metadata": {},
   "source": [
    "#### Using the Starcraft data, calculate the correlation between two variables you are interested in and then compute the 95% and 99% confidence interval of the correlation with the bootstrap."
   ]
  },
  {
   "cell_type": "code",
   "execution_count": null,
   "metadata": {},
   "outputs": [],
   "source": []
  },
  {
   "cell_type": "markdown",
   "metadata": {},
   "source": [
    "#### Using the Starcraft data, calculate a simple linear regression between two variables you are interested in and then compute the 95% and 99% confidence interval of the beta coefficients and the R2 score."
   ]
  },
  {
   "cell_type": "code",
   "execution_count": 24,
   "metadata": {},
   "outputs": [],
   "source": [
    "from sklearn.linear_model import LinearRegression"
   ]
  },
  {
   "cell_type": "code",
   "execution_count": null,
   "metadata": {},
   "outputs": [],
   "source": []
  }
 ],
 "metadata": {
  "kernelspec": {
   "display_name": "Python 3",
   "language": "python",
   "name": "python3"
  },
  "language_info": {
   "codemirror_mode": {
    "name": "ipython",
    "version": 3
   },
   "file_extension": ".py",
   "mimetype": "text/x-python",
   "name": "python",
   "nbconvert_exporter": "python",
   "pygments_lexer": "ipython3",
   "version": "3.7.6"
  },
  "toc": {
   "base_numbering": 1,
   "nav_menu": {},
   "number_sections": false,
   "sideBar": true,
   "skip_h1_title": true,
   "title_cell": "Table of Contents",
   "title_sidebar": "Contents",
   "toc_cell": false,
   "toc_position": {},
   "toc_section_display": "block",
   "toc_window_display": false
  }
 },
 "nbformat": 4,
 "nbformat_minor": 2
}
