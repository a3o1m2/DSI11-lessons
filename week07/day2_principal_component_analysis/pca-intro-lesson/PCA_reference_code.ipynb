{
 "cells": [
  {
   "cell_type": "markdown",
   "metadata": {},
   "source": [
    "<img src=\"http://imgur.com/1ZcRyrc.png\" style=\"float: left; margin: 20px; height: 55px\">\n",
    "\n",
    "# Principal Component Analysis (PCA) Reference Code\n",
    "\n",
    "---"
   ]
  },
  {
   "cell_type": "code",
   "execution_count": 1,
   "metadata": {},
   "outputs": [],
   "source": [
    "import pandas as pd\n",
    "import numpy as np\n",
    "import matplotlib.pyplot as plt\n",
    "import seaborn as sns\n",
    "\n",
    "plt.style.use('ggplot')\n",
    "sns.set(font_scale=1.5)\n",
    "%config InlineBackend.figure_format = 'retina'\n",
    "%matplotlib inline"
   ]
  },
  {
   "cell_type": "markdown",
   "metadata": {},
   "source": [
    "## Using sklearn"
   ]
  },
  {
   "cell_type": "code",
   "execution_count": 2,
   "metadata": {},
   "outputs": [],
   "source": [
    "# load pca, standard scaler and dataset\n",
    "from sklearn.decomposition import PCA\n",
    "from sklearn.preprocessing import StandardScaler\n",
    "from sklearn.datasets import load_diabetes"
   ]
  },
  {
   "cell_type": "code",
   "execution_count": 3,
   "metadata": {},
   "outputs": [],
   "source": [
    "# load data and instantiate scaler\n",
    "data = load_diabetes()\n",
    "scaler = StandardScaler()"
   ]
  },
  {
   "cell_type": "code",
   "execution_count": 4,
   "metadata": {},
   "outputs": [],
   "source": [
    "# standardize the data\n",
    "X = pd.DataFrame(scaler.fit_transform(data.data), columns=data.feature_names)"
   ]
  },
  {
   "cell_type": "code",
   "execution_count": 5,
   "metadata": {},
   "outputs": [],
   "source": [
    "# instantiate PCA with n_components\n",
    "pca = PCA(n_components=5)"
   ]
  },
  {
   "cell_type": "code",
   "execution_count": 6,
   "metadata": {},
   "outputs": [
    {
     "data": {
      "text/html": [
       "<div>\n",
       "<style scoped>\n",
       "    .dataframe tbody tr th:only-of-type {\n",
       "        vertical-align: middle;\n",
       "    }\n",
       "\n",
       "    .dataframe tbody tr th {\n",
       "        vertical-align: top;\n",
       "    }\n",
       "\n",
       "    .dataframe thead th {\n",
       "        text-align: right;\n",
       "    }\n",
       "</style>\n",
       "<table border=\"1\" class=\"dataframe\">\n",
       "  <thead>\n",
       "    <tr style=\"text-align: right;\">\n",
       "      <th></th>\n",
       "      <th>PC_1</th>\n",
       "      <th>PC_2</th>\n",
       "      <th>PC_3</th>\n",
       "      <th>PC_4</th>\n",
       "      <th>PC_5</th>\n",
       "    </tr>\n",
       "  </thead>\n",
       "  <tbody>\n",
       "    <tr>\n",
       "      <th>0</th>\n",
       "      <td>0.587208</td>\n",
       "      <td>-1.946828</td>\n",
       "      <td>0.589233</td>\n",
       "      <td>-0.082812</td>\n",
       "      <td>-0.256630</td>\n",
       "    </tr>\n",
       "    <tr>\n",
       "      <th>1</th>\n",
       "      <td>-2.831612</td>\n",
       "      <td>1.372085</td>\n",
       "      <td>0.027915</td>\n",
       "      <td>-0.469999</td>\n",
       "      <td>-0.143229</td>\n",
       "    </tr>\n",
       "    <tr>\n",
       "      <th>2</th>\n",
       "      <td>0.272148</td>\n",
       "      <td>-1.634898</td>\n",
       "      <td>0.739270</td>\n",
       "      <td>-0.791475</td>\n",
       "      <td>-1.163821</td>\n",
       "    </tr>\n",
       "    <tr>\n",
       "      <th>3</th>\n",
       "      <td>0.049310</td>\n",
       "      <td>0.382253</td>\n",
       "      <td>-2.013037</td>\n",
       "      <td>1.373239</td>\n",
       "      <td>0.255528</td>\n",
       "    </tr>\n",
       "    <tr>\n",
       "      <th>4</th>\n",
       "      <td>-0.756451</td>\n",
       "      <td>0.811968</td>\n",
       "      <td>-0.057259</td>\n",
       "      <td>-0.137520</td>\n",
       "      <td>-0.133344</td>\n",
       "    </tr>\n",
       "  </tbody>\n",
       "</table>\n",
       "</div>"
      ],
      "text/plain": [
       "       PC_1      PC_2      PC_3      PC_4      PC_5\n",
       "0  0.587208 -1.946828  0.589233 -0.082812 -0.256630\n",
       "1 -2.831612  1.372085  0.027915 -0.469999 -0.143229\n",
       "2  0.272148 -1.634898  0.739270 -0.791475 -1.163821\n",
       "3  0.049310  0.382253 -2.013037  1.373239  0.255528\n",
       "4 -0.756451  0.811968 -0.057259 -0.137520 -0.133344"
      ]
     },
     "execution_count": 6,
     "metadata": {},
     "output_type": "execute_result"
    }
   ],
   "source": [
    "# project on the principal components and insert results into a dataframe\n",
    "cols = ['PC_{}'.format(i) for i in range(1, pca.n_components+1)]\n",
    "X_pca = pd.DataFrame(pca.fit_transform(X), columns=cols)\n",
    "X_pca.head()"
   ]
  },
  {
   "cell_type": "code",
   "execution_count": 7,
   "metadata": {},
   "outputs": [
    {
     "name": "stdout",
     "output_type": "stream",
     "text": [
      "Number of principal components:\t\t 5\n",
      "Explained variance:\t\t\t [4.033 1.496 1.209 0.958 0.664]\n",
      "Explained variance ratio:\t\t [0.402 0.149 0.121 0.096 0.066]\n",
      "Cumulative explained variance ratio:\t [0.402 0.552 0.672 0.768 0.834]\n"
     ]
    }
   ],
   "source": [
    "# Get the most important pieces of information\n",
    "print(\"Number of principal components:\\t\\t\", pca.n_components_)\n",
    "print(\"Explained variance:\\t\\t\\t\", np.round(pca.explained_variance_, 3))\n",
    "print(\"Explained variance ratio:\\t\\t\", np.round(\n",
    "    pca.explained_variance_ratio_, 3))\n",
    "print(\"Cumulative explained variance ratio:\\t\", np.round(\n",
    "    np.cumsum(pca.explained_variance_ratio_), 3))"
   ]
  },
  {
   "cell_type": "code",
   "execution_count": 8,
   "metadata": {},
   "outputs": [
    {
     "data": {
      "text/plain": [
       "array([[ 0.21643101,  0.18696711,  0.3031625 ,  0.2717397 ,  0.34325493,\n",
       "         0.35186062, -0.28243639,  0.42883325,  0.37861731,  0.32218282],\n",
       "       [ 0.04437151, -0.38654811, -0.15628061, -0.13825564,  0.57302669,\n",
       "         0.45593985,  0.50624287, -0.06818423, -0.0261893 , -0.0849466 ],\n",
       "       [ 0.49466811, -0.10685833,  0.1675317 ,  0.51356804, -0.0685867 ,\n",
       "        -0.26969438,  0.38602787, -0.38068121,  0.0636315 ,  0.27684271],\n",
       "       [-0.4140095 , -0.67986052,  0.49982533, -0.01966734, -0.06839533,\n",
       "        -0.16777384, -0.07602005,  0.0079212 ,  0.26442742,  0.08708624],\n",
       "       [-0.68686389,  0.37345612,  0.12935936,  0.48689014,  0.12917415,\n",
       "         0.11673143,  0.24499115, -0.14364377, -0.1516611 ,  0.03138792]])"
      ]
     },
     "execution_count": 8,
     "metadata": {},
     "output_type": "execute_result"
    }
   ],
   "source": [
    "# eigenvectors of the covariance matrix of the data\n",
    "# here each row is an eigenvector\n",
    "pca.components_"
   ]
  },
  {
   "cell_type": "code",
   "execution_count": 9,
   "metadata": {},
   "outputs": [
    {
     "data": {
      "text/plain": [
       "array([[ 0.21643101,  0.04437151,  0.49466811, -0.4140095 , -0.68686389],\n",
       "       [ 0.18696711, -0.38654811, -0.10685833, -0.67986052,  0.37345612],\n",
       "       [ 0.3031625 , -0.15628061,  0.1675317 ,  0.49982533,  0.12935936],\n",
       "       [ 0.2717397 , -0.13825564,  0.51356804, -0.01966734,  0.48689014],\n",
       "       [ 0.34325493,  0.57302669, -0.0685867 , -0.06839533,  0.12917415],\n",
       "       [ 0.35186062,  0.45593985, -0.26969438, -0.16777384,  0.11673143],\n",
       "       [-0.28243639,  0.50624287,  0.38602787, -0.07602005,  0.24499115],\n",
       "       [ 0.42883325, -0.06818423, -0.38068121,  0.0079212 , -0.14364377],\n",
       "       [ 0.37861731, -0.0261893 ,  0.0636315 ,  0.26442742, -0.1516611 ],\n",
       "       [ 0.32218282, -0.0849466 ,  0.27684271,  0.08708624,  0.03138792]])"
      ]
     },
     "execution_count": 9,
     "metadata": {},
     "output_type": "execute_result"
    }
   ],
   "source": [
    "# this gives us the eigenvectors as column vectors\n",
    "pca.components_.T"
   ]
  },
  {
   "cell_type": "code",
   "execution_count": 10,
   "metadata": {},
   "outputs": [
    {
     "data": {
      "image/png": "[encoded data removed]",
      "text/plain": [
       "<Figure size 864x288 with 4 Axes>"
      ]
     },
     "metadata": {
      "image/png": {
       "height": 274,
       "width": 718
      },
      "needs_background": "light"
     },
     "output_type": "display_data"
    }
   ],
   "source": [
    "# compare correlations before and after tranformation\n",
    "fig, ax = plt.subplots(ncols=2, figsize=(12, 4))\n",
    "sns.heatmap(X.corr(), ax=ax[0])\n",
    "ax[0].set_ylim([X.shape[1], 0])\n",
    "sns.heatmap(X_pca.corr(), ax=ax[1])\n",
    "ax[1].set_ylim([pca.n_components_, 0])\n",
    "plt.show()"
   ]
  },
  {
   "cell_type": "markdown",
   "metadata": {},
   "source": [
    "## By hand"
   ]
  },
  {
   "cell_type": "code",
   "execution_count": 11,
   "metadata": {},
   "outputs": [],
   "source": [
    "# get the eigenvalues and eigenvectors\n",
    "eigen_values, eigen_vectors = np.linalg.eig(X.cov())"
   ]
  },
  {
   "cell_type": "code",
   "execution_count": 12,
   "metadata": {},
   "outputs": [
    {
     "data": {
      "text/plain": [
       "array([4.033, 1.496, 1.209, 0.958, 0.664, 0.604, 0.538, 0.435, 0.078,\n",
       "       0.009])"
      ]
     },
     "execution_count": 12,
     "metadata": {},
     "output_type": "execute_result"
    }
   ],
   "source": [
    "# sorted list of all eigenvalues\n",
    "np.round(np.sort(eigen_values)[::-1], 3)"
   ]
  },
  {
   "cell_type": "code",
   "execution_count": 13,
   "metadata": {},
   "outputs": [],
   "source": [
    "# Sort the pairs of eigenvalues and eigenvectors according to eigenvalues\n",
    "\n",
    "value_vector_pairs = [[eigen_values[i], eigen_vectors[:, i]]\n",
    "                      for i in range(len(eigen_values))]\n",
    "value_vector_pairs.sort(reverse=True)\n",
    "\n",
    "\n",
    "def projection_matrix(value_vector_pairs, d):\n",
    "    ''' \n",
    "        Extract the eigenvectors and insert them as column vectors\n",
    "        into a new matrix\n",
    "    '''\n",
    "    projection_matrix = np.hstack([value_vector_pairs[i][1].reshape(\n",
    "        len(value_vector_pairs), 1)\n",
    "        for i in range(d)])\n",
    "    return projection_matrix"
   ]
  },
  {
   "cell_type": "code",
   "execution_count": 14,
   "metadata": {},
   "outputs": [
    {
     "data": {
      "text/html": [
       "<div>\n",
       "<style scoped>\n",
       "    .dataframe tbody tr th:only-of-type {\n",
       "        vertical-align: middle;\n",
       "    }\n",
       "\n",
       "    .dataframe tbody tr th {\n",
       "        vertical-align: top;\n",
       "    }\n",
       "\n",
       "    .dataframe thead th {\n",
       "        text-align: right;\n",
       "    }\n",
       "</style>\n",
       "<table border=\"1\" class=\"dataframe\">\n",
       "  <thead>\n",
       "    <tr style=\"text-align: right;\">\n",
       "      <th></th>\n",
       "      <th>0</th>\n",
       "      <th>1</th>\n",
       "      <th>2</th>\n",
       "      <th>3</th>\n",
       "      <th>4</th>\n",
       "    </tr>\n",
       "  </thead>\n",
       "  <tbody>\n",
       "    <tr>\n",
       "      <th>0</th>\n",
       "      <td>-0.587208</td>\n",
       "      <td>-1.946828</td>\n",
       "      <td>0.589233</td>\n",
       "      <td>-0.082812</td>\n",
       "      <td>-0.256630</td>\n",
       "    </tr>\n",
       "    <tr>\n",
       "      <th>1</th>\n",
       "      <td>2.831612</td>\n",
       "      <td>1.372085</td>\n",
       "      <td>0.027915</td>\n",
       "      <td>-0.469999</td>\n",
       "      <td>-0.143229</td>\n",
       "    </tr>\n",
       "    <tr>\n",
       "      <th>2</th>\n",
       "      <td>-0.272148</td>\n",
       "      <td>-1.634898</td>\n",
       "      <td>0.739270</td>\n",
       "      <td>-0.791475</td>\n",
       "      <td>-1.163821</td>\n",
       "    </tr>\n",
       "    <tr>\n",
       "      <th>3</th>\n",
       "      <td>-0.049310</td>\n",
       "      <td>0.382253</td>\n",
       "      <td>-2.013037</td>\n",
       "      <td>1.373239</td>\n",
       "      <td>0.255528</td>\n",
       "    </tr>\n",
       "    <tr>\n",
       "      <th>4</th>\n",
       "      <td>0.756451</td>\n",
       "      <td>0.811968</td>\n",
       "      <td>-0.057259</td>\n",
       "      <td>-0.137520</td>\n",
       "      <td>-0.133344</td>\n",
       "    </tr>\n",
       "    <tr>\n",
       "      <th>5</th>\n",
       "      <td>3.966355</td>\n",
       "      <td>-0.381059</td>\n",
       "      <td>-0.337383</td>\n",
       "      <td>0.920145</td>\n",
       "      <td>0.807464</td>\n",
       "    </tr>\n",
       "    <tr>\n",
       "      <th>6</th>\n",
       "      <td>1.993787</td>\n",
       "      <td>-0.805538</td>\n",
       "      <td>-0.712199</td>\n",
       "      <td>-1.100239</td>\n",
       "      <td>0.891334</td>\n",
       "    </tr>\n",
       "    <tr>\n",
       "      <th>7</th>\n",
       "      <td>-2.075867</td>\n",
       "      <td>1.827921</td>\n",
       "      <td>0.524924</td>\n",
       "      <td>-2.066161</td>\n",
       "      <td>0.851715</td>\n",
       "    </tr>\n",
       "    <tr>\n",
       "      <th>8</th>\n",
       "      <td>-0.603033</td>\n",
       "      <td>-0.881253</td>\n",
       "      <td>-0.076720</td>\n",
       "      <td>-0.441303</td>\n",
       "      <td>-0.554411</td>\n",
       "    </tr>\n",
       "    <tr>\n",
       "      <th>9</th>\n",
       "      <td>0.212153</td>\n",
       "      <td>-0.492904</td>\n",
       "      <td>-0.814363</td>\n",
       "      <td>2.210554</td>\n",
       "      <td>-0.025046</td>\n",
       "    </tr>\n",
       "  </tbody>\n",
       "</table>\n",
       "</div>"
      ],
      "text/plain": [
       "          0         1         2         3         4\n",
       "0 -0.587208 -1.946828  0.589233 -0.082812 -0.256630\n",
       "1  2.831612  1.372085  0.027915 -0.469999 -0.143229\n",
       "2 -0.272148 -1.634898  0.739270 -0.791475 -1.163821\n",
       "3 -0.049310  0.382253 -2.013037  1.373239  0.255528\n",
       "4  0.756451  0.811968 -0.057259 -0.137520 -0.133344\n",
       "5  3.966355 -0.381059 -0.337383  0.920145  0.807464\n",
       "6  1.993787 -0.805538 -0.712199 -1.100239  0.891334\n",
       "7 -2.075867  1.827921  0.524924 -2.066161  0.851715\n",
       "8 -0.603033 -0.881253 -0.076720 -0.441303 -0.554411\n",
       "9  0.212153 -0.492904 -0.814363  2.210554 -0.025046"
      ]
     },
     "execution_count": 14,
     "metadata": {},
     "output_type": "execute_result"
    }
   ],
   "source": [
    "# transform the data\n",
    "X.dot(projection_matrix(value_vector_pairs, 5)).head(10)"
   ]
  },
  {
   "cell_type": "markdown",
   "metadata": {},
   "source": [
    "Note the sign difference in the first column compared to the sklearn result. Keep in mind that the sign choice for the eigenvector and hence the direction of the principal component direction is up to you. "
   ]
  },
  {
   "cell_type": "code",
   "execution_count": 15,
   "metadata": {},
   "outputs": [
    {
     "data": {
      "text/plain": [
       "array([[ 0.21643101,  0.04437151,  0.49466811, -0.4140095 , -0.68686389],\n",
       "       [ 0.18696711, -0.38654811, -0.10685833, -0.67986052,  0.37345612],\n",
       "       [ 0.3031625 , -0.15628061,  0.1675317 ,  0.49982533,  0.12935936],\n",
       "       [ 0.2717397 , -0.13825564,  0.51356804, -0.01966734,  0.48689014],\n",
       "       [ 0.34325493,  0.57302669, -0.0685867 , -0.06839533,  0.12917415],\n",
       "       [ 0.35186062,  0.45593985, -0.26969438, -0.16777384,  0.11673143],\n",
       "       [-0.28243639,  0.50624287,  0.38602787, -0.07602005,  0.24499115],\n",
       "       [ 0.42883325, -0.06818423, -0.38068121,  0.0079212 , -0.14364377],\n",
       "       [ 0.37861731, -0.0261893 ,  0.0636315 ,  0.26442742, -0.1516611 ],\n",
       "       [ 0.32218282, -0.0849466 ,  0.27684271,  0.08708624,  0.03138792]])"
      ]
     },
     "execution_count": 15,
     "metadata": {},
     "output_type": "execute_result"
    }
   ],
   "source": [
    "# sklearn eigenvectors as column vectors in the below matrix\n",
    "pca.components_.T"
   ]
  },
  {
   "cell_type": "code",
   "execution_count": 16,
   "metadata": {},
   "outputs": [
    {
     "data": {
      "text/plain": [
       "array([[-0.21643101,  0.04437151,  0.49466811, -0.4140095 , -0.68686389],\n",
       "       [-0.18696711, -0.38654811, -0.10685833, -0.67986052,  0.37345612],\n",
       "       [-0.3031625 , -0.15628061,  0.1675317 ,  0.49982533,  0.12935936],\n",
       "       [-0.2717397 , -0.13825564,  0.51356804, -0.01966734,  0.48689014],\n",
       "       [-0.34325493,  0.57302669, -0.0685867 , -0.06839533,  0.12917415],\n",
       "       [-0.35186062,  0.45593985, -0.26969438, -0.16777384,  0.11673143],\n",
       "       [ 0.28243639,  0.50624287,  0.38602787, -0.07602005,  0.24499115],\n",
       "       [-0.42883325, -0.06818423, -0.38068121,  0.0079212 , -0.14364377],\n",
       "       [-0.37861731, -0.0261893 ,  0.0636315 ,  0.26442742, -0.1516611 ],\n",
       "       [-0.32218282, -0.0849466 ,  0.27684271,  0.08708624,  0.03138792]])"
      ]
     },
     "execution_count": 16,
     "metadata": {},
     "output_type": "execute_result"
    }
   ],
   "source": [
    "# manually obtained eigenvectors as column vectors in the below matrix\n",
    "projection_matrix(value_vector_pairs, 5)"
   ]
  },
  {
   "cell_type": "code",
   "execution_count": 17,
   "metadata": {},
   "outputs": [
    {
     "data": {
      "text/plain": [
       "True"
      ]
     },
     "execution_count": 17,
     "metadata": {},
     "output_type": "execute_result"
    }
   ],
   "source": [
    "np.allclose(np.abs(pca.components_.T), \n",
    "            np.abs(projection_matrix(value_vector_pairs, 5)))"
   ]
  },
  {
   "cell_type": "code",
   "execution_count": null,
   "metadata": {},
   "outputs": [],
   "source": []
  }
 ],
 "metadata": {
  "kernelspec": {
   "display_name": "Python 3",
   "language": "python",
   "name": "python3"
  },
  "language_info": {
   "codemirror_mode": {
    "name": "ipython",
    "version": 3
   },
   "file_extension": ".py",
   "mimetype": "text/x-python",
   "name": "python",
   "nbconvert_exporter": "python",
   "pygments_lexer": "ipython3",
   "version": "3.7.3"
  },
  "toc": {
   "base_numbering": 1,
   "nav_menu": {},
   "number_sections": false,
   "sideBar": true,
   "skip_h1_title": true,
   "title_cell": "Table of Contents",
   "title_sidebar": "Contents",
   "toc_cell": false,
   "toc_position": {},
   "toc_section_display": true,
   "toc_window_display": false
  },
  "varInspector": {
   "cols": {
    "lenName": 16,
    "lenType": 16,
    "lenVar": 40
   },
   "kernels_config": {
    "python": {
     "delete_cmd_postfix": "",
     "delete_cmd_prefix": "del ",
     "library": "var_list.py",
     "varRefreshCmd": "print(var_dic_list())"
    },
    "r": {
     "delete_cmd_postfix": ") ",
     "delete_cmd_prefix": "rm(",
     "library": "var_list.r",
     "varRefreshCmd": "cat(var_dic_list()) "
    }
   },
   "types_to_exclude": [
    "module",
    "function",
    "builtin_function_or_method",
    "instance",
    "_Feature"
   ],
   "window_display": false
  }
 },
 "nbformat": 4,
 "nbformat_minor": 2
}
