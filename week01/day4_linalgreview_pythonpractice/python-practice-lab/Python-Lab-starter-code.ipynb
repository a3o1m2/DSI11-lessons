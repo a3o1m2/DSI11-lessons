{
 "cells": [
  {
   "cell_type": "markdown",
   "metadata": {},
   "source": [
    "<img src=\"http://imgur.com/1ZcRyrc.png\" style=\"float: left; margin: 20px; height: 55px\">\n",
    "\n",
    "# Python review lab\n",
    "\n",
    "\n",
    "---"
   ]
  },
  {
   "cell_type": "markdown",
   "metadata": {
    "toc": true
   },
   "source": [
    "<h1>Table of Contents<span class=\"tocSkip\"></span></h1>\n",
    "<div class=\"toc\"><ul class=\"toc-item\"><li><span><a href=\"#Miscellaneous-problems\" data-toc-modified-id=\"Miscellaneous-problems-1\">Miscellaneous problems</a></span><ul class=\"toc-item\"><li><span><a href=\"#1.-Load-coffee-preference-data-from-file-and-print\" data-toc-modified-id=\"1.-Load-coffee-preference-data-from-file-and-print-1.1\">1. Load coffee preference data from file and print</a></span></li><li><span><a href=\"#2.-Iterate-through-lines-and-print-them-out\" data-toc-modified-id=\"2.-Iterate-through-lines-and-print-them-out-1.2\">2. Iterate through lines and print them out</a></span></li><li><span><a href=\"#3.-Print-out-just-the-lines-object-by-typing-lines-in-a-cell-and-hitting-enter.\" data-toc-modified-id=\"3.-Print-out-just-the-lines-object-by-typing-lines-in-a-cell-and-hitting-enter.-1.3\">3. Print out just the lines object by typing <code>lines</code> in a cell and hitting enter.</a></span></li><li><span><a href=\"#4.-Remove-the-remaining-newline-'\\n'-characters-with-a-for-loop.\" data-toc-modified-id=\"4.-Remove-the-remaining-newline-'\\n'-characters-with-a-for-loop.-1.4\">4. Remove the remaining newline <code>'\\n'</code> characters with a for-loop.</a></span></li><li><span><a href=\"#5.-Split-the-lines-into-&quot;header&quot;-and-&quot;data&quot;-variables.\" data-toc-modified-id=\"5.-Split-the-lines-into-&quot;header&quot;-and-&quot;data&quot;-variables.-1.5\">5. Split the lines into \"header\" and \"data\" variables.</a></span></li><li><span><a href=\"#6.-Split-the-header-and-the-data-strings-on-commas.\" data-toc-modified-id=\"6.-Split-the-header-and-the-data-strings-on-commas.-1.6\">6. Split the header and the data strings on commas.</a></span></li><li><span><a href=\"#7.-Remove-the-&quot;Timestamp&quot;-column.\" data-toc-modified-id=\"7.-Remove-the-&quot;Timestamp&quot;-column.-1.7\">7. Remove the \"Timestamp\" column.</a></span></li><li><span><a href=\"#8.-Convert-numeric-columns-to-floats-and-empty-fields-to-None.\" data-toc-modified-id=\"8.-Convert-numeric-columns-to-floats-and-empty-fields-to-None.-1.8\">8. Convert numeric columns to floats and empty fields to <code>None</code>.</a></span></li><li><span><a href=\"#9.-Count-the-None-values-per-person-and-put-counts-in-a-dictionary.\" data-toc-modified-id=\"9.-Count-the-None-values-per-person-and-put-counts-in-a-dictionary.-1.9\">9. Count the <code>None</code> values per person and put counts in a dictionary.</a></span></li><li><span><a href=\"#10.-Calculate-average-rating-per-coffee-brand.\" data-toc-modified-id=\"10.-Calculate-average-rating-per-coffee-brand.-1.10\">10. Calculate average rating per coffee brand.</a></span></li><li><span><a href=\"#11.-Create-a-list-of-just-the-people's-names.\" data-toc-modified-id=\"11.-Create-a-list-of-just-the-people's-names.-1.11\">11. Create a list of just the people's names.</a></span></li><li><span><a href=\"#12.-Picking-a-name-at-random:-odds-of-choosing-the-same-name-3-times-in-a-row.\" data-toc-modified-id=\"12.-Picking-a-name-at-random:-odds-of-choosing-the-same-name-3-times-in-a-row.-1.12\">12. Picking a name at random: odds of choosing the same name 3 times in a row.</a></span></li><li><span><a href=\"#13.-Construct-a-while-loop-to-run-the-choosing-function-until-it-returns-True.\" data-toc-modified-id=\"13.-Construct-a-while-loop-to-run-the-choosing-function-until-it-returns-True.-1.13\">13. Construct a while loop to run the choosing function until it returns True.</a></span></li></ul></li></ul></div>"
   ]
  },
  {
   "cell_type": "markdown",
   "metadata": {},
   "source": [
    "## Miscellaneous problems"
   ]
  },
  {
   "cell_type": "markdown",
   "metadata": {},
   "source": [
    "---"
   ]
  },
  {
   "cell_type": "markdown",
   "metadata": {},
   "source": [
    "### 1. Load coffee preference data from file and print\n",
    "\n",
    "The code to load in the data is provided below. \n",
    "\n",
    "The `with open(..., 'r') as f:` opens up a file in \"read\" mode (rather than \"write\"), and assigns this opened file to `f`. \n",
    "\n",
    "We can then use the `.readlines()` built-in function to split the csv file on newlines and assign it to the variable `lines`."
   ]
  },
  {
   "cell_type": "code",
   "execution_count": 1,
   "metadata": {},
   "outputs": [],
   "source": [
    "with open('../../../../resource-datasets/coffee_preferences/dat12-coffee-preferences.csv', 'r') as f:\n",
    "    lines = f.readlines()"
   ]
  },
  {
   "cell_type": "code",
   "execution_count": 2,
   "metadata": {},
   "outputs": [
    {
     "data": {
      "text/plain": [
       "['Timestamp,Name,Starbucks,PhilzCoffee,BlueBottleCoffee,PeetsTea,CaffeTrieste,GrandCoffee,RitualCoffee,FourBarrel,WorkshopCafe\\n',\n",
       " '3/17/2015 18:37:58,Alison,3,5,4,3,,,5,5,\\n',\n",
       " '3/17/2015 18:38:09,April,4,5,5,3,,,3,,5\\n',\n",
       " '3/17/2015 18:38:25,Vijay,3,5,5,5,3,2,1,1,1\\n',\n",
       " '3/17/2015 18:38:28,Vanessa,1,5,5,2,,,3,2,3\\n',\n",
       " '3/17/2015 18:38:46,Isabel,1,4,4,2,4,,4,4,\\n',\n",
       " '3/17/2015 18:39:01,India,5,3,3,3,3,1,,,3\\n',\n",
       " '3/17/2015 18:39:01,Dave H,4,5,,5,,,,,\\n',\n",
       " '3/17/2015 18:39:05,Deepthi,3,5,,2,,,,,2\\n',\n",
       " '3/17/2015 18:39:14,Ramesh,3,4,,3,,,,,4\\n',\n",
       " '3/17/2015 18:39:23,Hugh Jass,1,5,5,4,5,2,5,4,1\\n',\n",
       " '3/17/2015 18:39:23,Alex,4,5,,3,,,,,\\n',\n",
       " '3/17/2015 18:39:30,Ajay Anand,3,4,4,3,5,,,,\\n',\n",
       " '3/17/2015 18:39:35,David Feng,2,3,4,2,2,,5,4,3\\n',\n",
       " '3/17/2015 18:39:42,Zach,3,4,4,3,,,,,5\\n',\n",
       " '3/17/2015 18:40:44,Matt,3,5,4,3,2,2,4,3,2\\n',\n",
       " '3/17/2015 18:40:49,Markus,3,5,,3,,,4,,\\n',\n",
       " '3/17/2015 18:41:18,Otto,4,2,2,5,,,3,3,3\\n',\n",
       " '3/17/2015 18:41:23,Alessandro,1,5,3,2,,,4,3,\\n',\n",
       " '3/17/2015 18:41:35,Rocky,3,5,4,3,3,3,4,4,3\\n',\n",
       " '3/17/2015 18:42:01,cheong-tseng eng,3,1,,,,,4,,']"
      ]
     },
     "execution_count": 2,
     "metadata": {},
     "output_type": "execute_result"
    }
   ],
   "source": [
    "lines"
   ]
  },
  {
   "cell_type": "markdown",
   "metadata": {},
   "source": [
    "---"
   ]
  },
  {
   "cell_type": "markdown",
   "metadata": {},
   "source": [
    "### 2. Print out just the lines object by typing `lines` in a cell and hitting enter."
   ]
  },
  {
   "cell_type": "code",
   "execution_count": 6,
   "metadata": {},
   "outputs": [
    {
     "data": {
      "text/plain": [
       "['Timestamp,Name,Starbucks,PhilzCoffee,BlueBottleCoffee,PeetsTea,CaffeTrieste,GrandCoffee,RitualCoffee,FourBarrel,WorkshopCafe\\n',\n",
       " '3/17/2015 18:37:58,Alison,3,5,4,3,,,5,5,\\n',\n",
       " '3/17/2015 18:38:09,April,4,5,5,3,,,3,,5\\n',\n",
       " '3/17/2015 18:38:25,Vijay,3,5,5,5,3,2,1,1,1\\n',\n",
       " '3/17/2015 18:38:28,Vanessa,1,5,5,2,,,3,2,3\\n',\n",
       " '3/17/2015 18:38:46,Isabel,1,4,4,2,4,,4,4,\\n',\n",
       " '3/17/2015 18:39:01,India,5,3,3,3,3,1,,,3\\n',\n",
       " '3/17/2015 18:39:01,Dave H,4,5,,5,,,,,\\n',\n",
       " '3/17/2015 18:39:05,Deepthi,3,5,,2,,,,,2\\n',\n",
       " '3/17/2015 18:39:14,Ramesh,3,4,,3,,,,,4\\n',\n",
       " '3/17/2015 18:39:23,Hugh Jass,1,5,5,4,5,2,5,4,1\\n',\n",
       " '3/17/2015 18:39:23,Alex,4,5,,3,,,,,\\n',\n",
       " '3/17/2015 18:39:30,Ajay Anand,3,4,4,3,5,,,,\\n',\n",
       " '3/17/2015 18:39:35,David Feng,2,3,4,2,2,,5,4,3\\n',\n",
       " '3/17/2015 18:39:42,Zach,3,4,4,3,,,,,5\\n',\n",
       " '3/17/2015 18:40:44,Matt,3,5,4,3,2,2,4,3,2\\n',\n",
       " '3/17/2015 18:40:49,Markus,3,5,,3,,,4,,\\n',\n",
       " '3/17/2015 18:41:18,Otto,4,2,2,5,,,3,3,3\\n',\n",
       " '3/17/2015 18:41:23,Alessandro,1,5,3,2,,,4,3,\\n',\n",
       " '3/17/2015 18:41:35,Rocky,3,5,4,3,3,3,4,4,3\\n',\n",
       " '3/17/2015 18:42:01,cheong-tseng eng,3,1,,,,,4,,']"
      ]
     },
     "execution_count": 6,
     "metadata": {},
     "output_type": "execute_result"
    }
   ],
   "source": [
    "lines"
   ]
  },
  {
   "cell_type": "markdown",
   "metadata": {},
   "source": [
    "---"
   ]
  },
  {
   "cell_type": "markdown",
   "metadata": {},
   "source": [
    "### 3. Iterate through lines and print them out"
   ]
  },
  {
   "cell_type": "code",
   "execution_count": 4,
   "metadata": {},
   "outputs": [
    {
     "name": "stdout",
     "output_type": "stream",
     "text": [
      "Timestamp,Name,Starbucks,PhilzCoffee,BlueBottleCoffee,PeetsTea,CaffeTrieste,GrandCoffee,RitualCoffee,FourBarrel,WorkshopCafe\n",
      "\n",
      "3/17/2015 18:37:58,Alison,3,5,4,3,,,5,5,\n",
      "\n",
      "3/17/2015 18:38:09,April,4,5,5,3,,,3,,5\n",
      "\n",
      "3/17/2015 18:38:25,Vijay,3,5,5,5,3,2,1,1,1\n",
      "\n",
      "3/17/2015 18:38:28,Vanessa,1,5,5,2,,,3,2,3\n",
      "\n",
      "3/17/2015 18:38:46,Isabel,1,4,4,2,4,,4,4,\n",
      "\n",
      "3/17/2015 18:39:01,India,5,3,3,3,3,1,,,3\n",
      "\n",
      "3/17/2015 18:39:01,Dave H,4,5,,5,,,,,\n",
      "\n",
      "3/17/2015 18:39:05,Deepthi,3,5,,2,,,,,2\n",
      "\n",
      "3/17/2015 18:39:14,Ramesh,3,4,,3,,,,,4\n",
      "\n",
      "3/17/2015 18:39:23,Hugh Jass,1,5,5,4,5,2,5,4,1\n",
      "\n",
      "3/17/2015 18:39:23,Alex,4,5,,3,,,,,\n",
      "\n",
      "3/17/2015 18:39:30,Ajay Anand,3,4,4,3,5,,,,\n",
      "\n",
      "3/17/2015 18:39:35,David Feng,2,3,4,2,2,,5,4,3\n",
      "\n",
      "3/17/2015 18:39:42,Zach,3,4,4,3,,,,,5\n",
      "\n",
      "3/17/2015 18:40:44,Matt,3,5,4,3,2,2,4,3,2\n",
      "\n",
      "3/17/2015 18:40:49,Markus,3,5,,3,,,4,,\n",
      "\n",
      "3/17/2015 18:41:18,Otto,4,2,2,5,,,3,3,3\n",
      "\n",
      "3/17/2015 18:41:23,Alessandro,1,5,3,2,,,4,3,\n",
      "\n",
      "3/17/2015 18:41:35,Rocky,3,5,4,3,3,3,4,4,3\n",
      "\n",
      "3/17/2015 18:42:01,cheong-tseng eng,3,1,,,,,4,,\n"
     ]
    }
   ],
   "source": [
    "for i in lines:\n",
    "    print(i)"
   ]
  },
  {
   "cell_type": "markdown",
   "metadata": {},
   "source": [
    "---"
   ]
  },
  {
   "cell_type": "markdown",
   "metadata": {},
   "source": [
    "### 4. Remove the remaining newline `'\\n'` characters with a for-loop.\n",
    "\n",
    "Iterate through the lines of the data and remove the unwanted newline characters.\n",
    "\n",
    "**`.replace('\\n', '')`** is a built-in string function that will take as the first argument the substring you want to replace, and as its second argument the string you want to replace it with."
   ]
  },
  {
   "cell_type": "code",
   "execution_count": 5,
   "metadata": {},
   "outputs": [
    {
     "data": {
      "text/plain": [
       "['Timestamp,Name,Starbucks,PhilzCoffee,BlueBottleCoffee,PeetsTea,CaffeTrieste,GrandCoffee,RitualCoffee,FourBarrel,WorkshopCafe',\n",
       " '3/17/2015 18:37:58,Alison,3,5,4,3,,,5,5,',\n",
       " '3/17/2015 18:38:09,April,4,5,5,3,,,3,,5',\n",
       " '3/17/2015 18:38:25,Vijay,3,5,5,5,3,2,1,1,1',\n",
       " '3/17/2015 18:38:28,Vanessa,1,5,5,2,,,3,2,3',\n",
       " '3/17/2015 18:38:46,Isabel,1,4,4,2,4,,4,4,',\n",
       " '3/17/2015 18:39:01,India,5,3,3,3,3,1,,,3',\n",
       " '3/17/2015 18:39:01,Dave H,4,5,,5,,,,,',\n",
       " '3/17/2015 18:39:05,Deepthi,3,5,,2,,,,,2',\n",
       " '3/17/2015 18:39:14,Ramesh,3,4,,3,,,,,4',\n",
       " '3/17/2015 18:39:23,Hugh Jass,1,5,5,4,5,2,5,4,1',\n",
       " '3/17/2015 18:39:23,Alex,4,5,,3,,,,,',\n",
       " '3/17/2015 18:39:30,Ajay Anand,3,4,4,3,5,,,,',\n",
       " '3/17/2015 18:39:35,David Feng,2,3,4,2,2,,5,4,3',\n",
       " '3/17/2015 18:39:42,Zach,3,4,4,3,,,,,5',\n",
       " '3/17/2015 18:40:44,Matt,3,5,4,3,2,2,4,3,2',\n",
       " '3/17/2015 18:40:49,Markus,3,5,,3,,,4,,',\n",
       " '3/17/2015 18:41:18,Otto,4,2,2,5,,,3,3,3',\n",
       " '3/17/2015 18:41:23,Alessandro,1,5,3,2,,,4,3,',\n",
       " '3/17/2015 18:41:35,Rocky,3,5,4,3,3,3,4,4,3',\n",
       " '3/17/2015 18:42:01,cheong-tseng eng,3,1,,,,,4,,']"
      ]
     },
     "execution_count": 5,
     "metadata": {},
     "output_type": "execute_result"
    }
   ],
   "source": [
    "lines_clean = []\n",
    "for i in lines:\n",
    "    lines_clean.append(i.replace('\\n',''))\n",
    "lines_clean"
   ]
  },
  {
   "cell_type": "markdown",
   "metadata": {},
   "source": [
    "---"
   ]
  },
  {
   "cell_type": "markdown",
   "metadata": {},
   "source": [
    "### 5. Split the lines into \"header\" and \"data\" variables.\n",
    "\n",
    "The header is the first string in the list of strings. It contains the column names of our data."
   ]
  },
  {
   "cell_type": "code",
   "execution_count": 6,
   "metadata": {},
   "outputs": [
    {
     "name": "stdout",
     "output_type": "stream",
     "text": [
      "Timestamp,Name,Starbucks,PhilzCoffee,BlueBottleCoffee,PeetsTea,CaffeTrieste,GrandCoffee,RitualCoffee,FourBarrel,WorkshopCafe\n"
     ]
    }
   ],
   "source": [
    "header = lines_clean[0]\n",
    "data = lines_clean[1:]\n",
    "\n",
    "print(header)\n",
    "#print(data)"
   ]
  },
  {
   "cell_type": "markdown",
   "metadata": {},
   "source": [
    "---"
   ]
  },
  {
   "cell_type": "markdown",
   "metadata": {},
   "source": [
    "### 6. Split the header and the data strings on commas.\n",
    "\n",
    "To split a string on the comma character, use the **`.split(',')`** built-in function. \n",
    "\n",
    "Split the header on commas first and print it. You can see that the original string is now a list, with items that were originally separated by commas."
   ]
  },
  {
   "cell_type": "code",
   "execution_count": 7,
   "metadata": {},
   "outputs": [
    {
     "name": "stdout",
     "output_type": "stream",
     "text": [
      "['Timestamp', 'Name', 'Starbucks', 'PhilzCoffee', 'BlueBottleCoffee', 'PeetsTea', 'CaffeTrieste', 'GrandCoffee', 'RitualCoffee', 'FourBarrel', 'WorkshopCafe']\n"
     ]
    }
   ],
   "source": [
    "# split on commas\n",
    "header_split = header.split(',')\n",
    "print(header_split)"
   ]
  },
  {
   "cell_type": "code",
   "execution_count": 16,
   "metadata": {},
   "outputs": [
    {
     "name": "stdout",
     "output_type": "stream",
     "text": [
      "[['3/17/2015 18:37:58', 'Alison', '3', '5', '4', '3', '', '', '5', '5', ''], ['3/17/2015 18:38:09', 'April', '4', '5', '5', '3', '', '', '3', '', '5'], ['3/17/2015 18:38:25', 'Vijay', '3', '5', '5', '5', '3', '2', '1', '1', '1'], ['3/17/2015 18:38:28', 'Vanessa', '1', '5', '5', '2', '', '', '3', '2', '3'], ['3/17/2015 18:38:46', 'Isabel', '1', '4', '4', '2', '4', '', '4', '4', ''], ['3/17/2015 18:39:01', 'India', '5', '3', '3', '3', '3', '1', '', '', '3'], ['3/17/2015 18:39:01', 'Dave H', '4', '5', '', '5', '', '', '', '', ''], ['3/17/2015 18:39:05', 'Deepthi', '3', '5', '', '2', '', '', '', '', '2'], ['3/17/2015 18:39:14', 'Ramesh', '3', '4', '', '3', '', '', '', '', '4'], ['3/17/2015 18:39:23', 'Hugh Jass', '1', '5', '5', '4', '5', '2', '5', '4', '1'], ['3/17/2015 18:39:23', 'Alex', '4', '5', '', '3', '', '', '', '', ''], ['3/17/2015 18:39:30', 'Ajay Anand', '3', '4', '4', '3', '5', '', '', '', ''], ['3/17/2015 18:39:35', 'David Feng', '2', '3', '4', '2', '2', '', '5', '4', '3'], ['3/17/2015 18:39:42', 'Zach', '3', '4', '4', '3', '', '', '', '', '5'], ['3/17/2015 18:40:44', 'Matt', '3', '5', '4', '3', '2', '2', '4', '3', '2'], ['3/17/2015 18:40:49', 'Markus', '3', '5', '', '3', '', '', '4', '', ''], ['3/17/2015 18:41:18', 'Otto', '4', '2', '2', '5', '', '', '3', '3', '3'], ['3/17/2015 18:41:23', 'Alessandro', '1', '5', '3', '2', '', '', '4', '3', ''], ['3/17/2015 18:41:35', 'Rocky', '3', '5', '4', '3', '3', '3', '4', '4', '3'], ['3/17/2015 18:42:01', 'cheong-tseng eng', '3', '1', '', '', '', '', '4', '', '']]\n"
     ]
    }
   ],
   "source": [
    "data_split = []\n",
    "for i in data:\n",
    "    data_split.append(i.split(','))\n",
    "\n",
    "print(data_split)"
   ]
  },
  {
   "cell_type": "markdown",
   "metadata": {},
   "source": [
    "### 7. Remove the \"Timestamp\" column.\n",
    "\n",
    "We aren't interested in the Timestamp column in our data, so remove it from the header and the data list.\n",
    "\n",
    "Removing the Timestamp from the header can be done with list functions or slicing. To remove the header column from the data, use a for-loop.\n",
    "\n",
    "Print out the new data object with the timestamps removed."
   ]
  },
  {
   "cell_type": "code",
   "execution_count": 9,
   "metadata": {},
   "outputs": [
    {
     "name": "stdout",
     "output_type": "stream",
     "text": [
      "['Name', 'Starbucks', 'PhilzCoffee', 'BlueBottleCoffee', 'PeetsTea', 'CaffeTrieste', 'GrandCoffee', 'RitualCoffee', 'FourBarrel', 'WorkshopCafe']\n"
     ]
    }
   ],
   "source": [
    "# remove Timestamp:\n",
    "timestamp_index = header_split.index('Timestamp')\n",
    "header_split.remove('Timestamp')\n",
    "print(header_split)"
   ]
  },
  {
   "cell_type": "code",
   "execution_count": 17,
   "metadata": {},
   "outputs": [
    {
     "name": "stdout",
     "output_type": "stream",
     "text": [
      "[['Alison', '3', '5', '4', '3', '', '', '5', '5', ''], ['April', '4', '5', '5', '3', '', '', '3', '', '5'], ['Vijay', '3', '5', '5', '5', '3', '2', '1', '1', '1'], ['Vanessa', '1', '5', '5', '2', '', '', '3', '2', '3'], ['Isabel', '1', '4', '4', '2', '4', '', '4', '4', ''], ['India', '5', '3', '3', '3', '3', '1', '', '', '3'], ['Dave H', '4', '5', '', '5', '', '', '', '', ''], ['Deepthi', '3', '5', '', '2', '', '', '', '', '2'], ['Ramesh', '3', '4', '', '3', '', '', '', '', '4'], ['Hugh Jass', '1', '5', '5', '4', '5', '2', '5', '4', '1'], ['Alex', '4', '5', '', '3', '', '', '', '', ''], ['Ajay Anand', '3', '4', '4', '3', '5', '', '', '', ''], ['David Feng', '2', '3', '4', '2', '2', '', '5', '4', '3'], ['Zach', '3', '4', '4', '3', '', '', '', '', '5'], ['Matt', '3', '5', '4', '3', '2', '2', '4', '3', '2'], ['Markus', '3', '5', '', '3', '', '', '4', '', ''], ['Otto', '4', '2', '2', '5', '', '', '3', '3', '3'], ['Alessandro', '1', '5', '3', '2', '', '', '4', '3', ''], ['Rocky', '3', '5', '4', '3', '3', '3', '4', '4', '3'], ['cheong-tseng eng', '3', '1', '', '', '', '', '4', '', '']]\n"
     ]
    }
   ],
   "source": [
    "data_split_notime = []\n",
    "for i in data_split:\n",
    "    data_split_notime.append(i[1:])\n",
    "print(data_split_notime)"
   ]
  },
  {
   "cell_type": "markdown",
   "metadata": {},
   "source": [
    "---"
   ]
  },
  {
   "cell_type": "markdown",
   "metadata": {},
   "source": [
    "### 8. Convert numeric columns to floats and empty fields to `None`.\n",
    "\n",
    "Iterate through the data and construct a new data list of lists that has the numeric ratings converted from strings to floats, and the empty fields (which are empty strings `''`) replaced with the `None` object.\n",
    "\n",
    "Use a nested for-loop (for-loop within another for-loop) to get the job done. You will likely need to use if/else conditional statements as well.\n",
    "\n",
    "Print out the new data object to make sure it worked."
   ]
  },
  {
   "cell_type": "code",
   "execution_count": 18,
   "metadata": {},
   "outputs": [
    {
     "data": {
      "text/plain": [
       "[['Alison', '3', '5', '4', '3', '', '', '5', '5', ''],\n",
       " ['April', '4', '5', '5', '3', '', '', '3', '', '5'],\n",
       " ['Vijay', '3', '5', '5', '5', '3', '2', '1', '1', '1'],\n",
       " ['Vanessa', '1', '5', '5', '2', '', '', '3', '2', '3'],\n",
       " ['Isabel', '1', '4', '4', '2', '4', '', '4', '4', ''],\n",
       " ['India', '5', '3', '3', '3', '3', '1', '', '', '3'],\n",
       " ['Dave H', '4', '5', '', '5', '', '', '', '', ''],\n",
       " ['Deepthi', '3', '5', '', '2', '', '', '', '', '2'],\n",
       " ['Ramesh', '3', '4', '', '3', '', '', '', '', '4'],\n",
       " ['Hugh Jass', '1', '5', '5', '4', '5', '2', '5', '4', '1'],\n",
       " ['Alex', '4', '5', '', '3', '', '', '', '', ''],\n",
       " ['Ajay Anand', '3', '4', '4', '3', '5', '', '', '', ''],\n",
       " ['David Feng', '2', '3', '4', '2', '2', '', '5', '4', '3'],\n",
       " ['Zach', '3', '4', '4', '3', '', '', '', '', '5'],\n",
       " ['Matt', '3', '5', '4', '3', '2', '2', '4', '3', '2'],\n",
       " ['Markus', '3', '5', '', '3', '', '', '4', '', ''],\n",
       " ['Otto', '4', '2', '2', '5', '', '', '3', '3', '3'],\n",
       " ['Alessandro', '1', '5', '3', '2', '', '', '4', '3', ''],\n",
       " ['Rocky', '3', '5', '4', '3', '3', '3', '4', '4', '3'],\n",
       " ['cheong-tseng eng', '3', '1', '', '', '', '', '4', '', '']]"
      ]
     },
     "execution_count": 18,
     "metadata": {},
     "output_type": "execute_result"
    }
   ],
   "source": [
    "data_split_notime"
   ]
  },
  {
   "cell_type": "code",
   "execution_count": 19,
   "metadata": {},
   "outputs": [
    {
     "name": "stdout",
     "output_type": "stream",
     "text": [
      "[['Alison', 3.0, 5.0, 4.0, 3.0, None, None, 5.0, 5.0, None], ['April', 4.0, 5.0, 5.0, 3.0, None, None, 3.0, None, 5.0], ['Vijay', 3.0, 5.0, 5.0, 5.0, 3.0, 2.0, 1.0, 1.0, 1.0], ['Vanessa', 1.0, 5.0, 5.0, 2.0, None, None, 3.0, 2.0, 3.0], ['Isabel', 1.0, 4.0, 4.0, 2.0, 4.0, None, 4.0, 4.0, None], ['India', 5.0, 3.0, 3.0, 3.0, 3.0, 1.0, None, None, 3.0], ['Dave H', 4.0, 5.0, None, 5.0, None, None, None, None, None], ['Deepthi', 3.0, 5.0, None, 2.0, None, None, None, None, 2.0], ['Ramesh', 3.0, 4.0, None, 3.0, None, None, None, None, 4.0], ['Hugh Jass', 1.0, 5.0, 5.0, 4.0, 5.0, 2.0, 5.0, 4.0, 1.0], ['Alex', 4.0, 5.0, None, 3.0, None, None, None, None, None], ['Ajay Anand', 3.0, 4.0, 4.0, 3.0, 5.0, None, None, None, None], ['David Feng', 2.0, 3.0, 4.0, 2.0, 2.0, None, 5.0, 4.0, 3.0], ['Zach', 3.0, 4.0, 4.0, 3.0, None, None, None, None, 5.0], ['Matt', 3.0, 5.0, 4.0, 3.0, 2.0, 2.0, 4.0, 3.0, 2.0], ['Markus', 3.0, 5.0, None, 3.0, None, None, 4.0, None, None], ['Otto', 4.0, 2.0, 2.0, 5.0, None, None, 3.0, 3.0, 3.0], ['Alessandro', 1.0, 5.0, 3.0, 2.0, None, None, 4.0, 3.0, None], ['Rocky', 3.0, 5.0, 4.0, 3.0, 3.0, 3.0, 4.0, 4.0, 3.0], ['cheong-tseng eng', 3.0, 1.0, None, None, None, None, 4.0, None, None]]\n"
     ]
    }
   ],
   "source": [
    "data_converted = []\n",
    "\n",
    "for i in data_split_notime:\n",
    "    data_converted_i = []\n",
    "    for j in i:\n",
    "        if j == '':\n",
    "            data_converted_i.append(None)\n",
    "        elif j.isdigit() == True:\n",
    "            data_converted_i.append(float(j))\n",
    "        else:\n",
    "            data_converted_i.append(j)\n",
    "    data_converted.append(data_converted_i)\n",
    "\n",
    "print(data_converted)"
   ]
  },
  {
   "cell_type": "markdown",
   "metadata": {},
   "source": [
    "### 9. Count the `None` values per person and put counts in a dictionary.\n",
    "\n",
    "Use a for loop to count the number of `None` values per person. Create a dictionary with the names of the people as keys, and the counts of `None` as values.\n",
    "\n",
    "Who rated the most coffee brands? Who rated the least?"
   ]
  },
  {
   "cell_type": "code",
   "execution_count": 13,
   "metadata": {},
   "outputs": [],
   "source": [
    "# Least: Alex, Dave H, cheong-tseng eng\n",
    "# Most: Hugh Jass, Matt, Rocky, Vijay\n",
    "\n",
    "for i in data_converted:\n",
    "    count_dict = {}"
   ]
  },
  {
   "cell_type": "markdown",
   "metadata": {},
   "source": [
    "---"
   ]
  },
  {
   "cell_type": "markdown",
   "metadata": {},
   "source": [
    "### 10. Calculate average rating per coffee brand.\n",
    "\n",
    "**Excluding `None` values**, calculate the average rating per brand of coffee.\n",
    "\n",
    "The final output should be a dictionary with keys as the coffee brand names, and their average rating as the values.\n",
    "\n",
    "Remember that average can be calculated as the sum of the ratings over the number of ratings:\n",
    "\n",
    "```python\n",
    "average_rating = float(sum(ratings_list))/len(ratings_list)\n",
    "```\n",
    "\n",
    "Print your dictionary to see the average brand ratings."
   ]
  },
  {
   "cell_type": "code",
   "execution_count": null,
   "metadata": {},
   "outputs": [],
   "source": []
  },
  {
   "cell_type": "markdown",
   "metadata": {},
   "source": [
    "---"
   ]
  },
  {
   "cell_type": "markdown",
   "metadata": {},
   "source": [
    "### 11. Create a list of just the people's names."
   ]
  },
  {
   "cell_type": "code",
   "execution_count": null,
   "metadata": {},
   "outputs": [],
   "source": []
  },
  {
   "cell_type": "markdown",
   "metadata": {},
   "source": [
    "---"
   ]
  },
  {
   "cell_type": "markdown",
   "metadata": {},
   "source": [
    "### 12. Picking a name at random: odds of choosing the same name 3 times in a row.\n",
    "\n",
    "Now we'll use a while-loop to \"brute force\" the odds of choosing the same name 3 times in a row randomly from the list of names.\n",
    "\n",
    "Below we've imported the **`random`** package, which has the essential function for this code **`random.choice()`**.\n",
    "The function takes a list as an argument, and returns one of the elements of that list at random."
   ]
  },
  {
   "cell_type": "code",
   "execution_count": 14,
   "metadata": {},
   "outputs": [],
   "source": [
    "import random\n",
    "# Choose a random person from the list of people:\n",
    "# random.choice(people)"
   ]
  },
  {
   "cell_type": "markdown",
   "metadata": {},
   "source": [
    "Write a function to choose a person from the list randomly 3 times and check if they are all the same\n",
    "\n",
    "Define a function that has the following properties:\n",
    "\n",
    "1. Takes a list (your list of names) as an argument.\n",
    "2. Selects a name using `random.choice(people)` three separate times.\n",
    "3. Returns `True` if the name was the same all three times. Otherwise returns `False`."
   ]
  },
  {
   "cell_type": "code",
   "execution_count": null,
   "metadata": {},
   "outputs": [],
   "source": []
  },
  {
   "cell_type": "markdown",
   "metadata": {},
   "source": [
    "---"
   ]
  },
  {
   "cell_type": "markdown",
   "metadata": {},
   "source": [
    "### 13. Construct a while loop to run the choosing function until it returns True.\n",
    "\n",
    "Run the function until you draw the same person 3 times using a while-loop. Keep track of how many tries it took and print out the number of tries after it runs."
   ]
  },
  {
   "cell_type": "code",
   "execution_count": null,
   "metadata": {},
   "outputs": [],
   "source": []
  }
 ],
 "metadata": {
  "anaconda-cloud": {},
  "kernelspec": {
   "display_name": "Python 3",
   "language": "python",
   "name": "python3"
  },
  "language_info": {
   "codemirror_mode": {
    "name": "ipython",
    "version": 3
   },
   "file_extension": ".py",
   "mimetype": "text/x-python",
   "name": "python",
   "nbconvert_exporter": "python",
   "pygments_lexer": "ipython3",
   "version": "3.7.3"
  },
  "toc": {
   "base_numbering": 1,
   "nav_menu": {},
   "number_sections": false,
   "sideBar": true,
   "skip_h1_title": true,
   "title_cell": "Table of Contents",
   "title_sidebar": "Contents",
   "toc_cell": true,
   "toc_position": {},
   "toc_section_display": "block",
   "toc_window_display": false
  }
 },
 "nbformat": 4,
 "nbformat_minor": 1
}
