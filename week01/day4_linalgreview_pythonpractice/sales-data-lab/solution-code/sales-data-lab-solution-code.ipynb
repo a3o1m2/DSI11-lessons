{
 "cells": [
  {
   "cell_type": "markdown",
   "metadata": {},
   "source": [
    "<img src=\"http://imgur.com/1ZcRyrc.png\" style=\"float: left; margin: 20px; height: 55px\">\n",
    "\n",
    "## Describing Sales Data with `numpy`\n",
    "\n",
    "---"
   ]
  },
  {
   "cell_type": "markdown",
   "metadata": {
    "toc": true
   },
   "source": [
    "<h1>Lab Guide<span class=\"tocSkip\"></span></h1>\n",
    "<div class=\"toc\"><ul class=\"toc-item\"><li><span><a href=\"#Describing-Sales-Data-with-numpy\" data-toc-modified-id=\"Describing-Sales-Data-with-numpy-1\">Describing Sales Data with <code>numpy</code></a></span></li><li><span><a href=\"#Descriptive-Statistics\" data-toc-modified-id=\"Descriptive-Statistics-2\">Descriptive Statistics</a></span></li><li><span><a href=\"#Loading-CSV-files-with-python\" data-toc-modified-id=\"Loading-CSV-files-with-python-3\">Loading CSV files with python</a></span><ul class=\"toc-item\"><li><span><a href=\"#1.-Loading-the-data\" data-toc-modified-id=\"1.-Loading-the-data-3.1\">1. Loading the data</a></span></li><li><span><a href=\"#2.-Separate-header-and-data\" data-toc-modified-id=\"2.-Separate-header-and-data-3.2\">2. Separate header and data</a></span></li><li><span><a href=\"#3.-Create-a-dictionary-with-the-data\" data-toc-modified-id=\"3.-Create-a-dictionary-with-the-data-3.3\">3. Create a dictionary with the data</a></span></li><li><span><a href=\"#4.-Convert-data-from-string-to-float\" data-toc-modified-id=\"4.-Convert-data-from-string-to-float-3.4\">4. Convert data from string to float</a></span></li></ul></li><li><span><a href=\"#Numpy-for-descriptive-statistics\" data-toc-modified-id=\"Numpy-for-descriptive-statistics-4\">Numpy for descriptive statistics</a></span><ul class=\"toc-item\"><li><ul class=\"toc-item\"><li><span><a href=\"#The-mean\" data-toc-modified-id=\"The-mean-4.0.1\">The mean</a></span></li><li><span><a href=\"#The-median\" data-toc-modified-id=\"The-median-4.0.2\">The median</a></span></li><li><span><a href=\"#The-variance\" data-toc-modified-id=\"The-variance-4.0.3\">The variance</a></span></li><li><span><a href=\"#Standard-deviation\" data-toc-modified-id=\"Standard-deviation-4.0.4\">Standard deviation</a></span></li><li><span><a href=\"#The-minimum\" data-toc-modified-id=\"The-minimum-4.0.5\">The minimum</a></span></li><li><span><a href=\"#The-maximum\" data-toc-modified-id=\"The-maximum-4.0.6\">The maximum</a></span></li><li><span><a href=\"#The-range\" data-toc-modified-id=\"The-range-4.0.7\">The range</a></span></li><li><span><a href=\"#The-skew\" data-toc-modified-id=\"The-skew-4.0.8\">The skew</a></span></li></ul></li><li><span><a href=\"#5.-Write-a-function-to-print-summary-statistics\" data-toc-modified-id=\"5.-Write-a-function-to-print-summary-statistics-4.1\">5. Write a function to print summary statistics</a></span></li><li><span><a href=\"#More-on-Skewness\" data-toc-modified-id=\"More-on-Skewness-4.2\">More on Skewness</a></span></li><li><span><a href=\"#6.-[Bonus]-Plot-the-distributions\" data-toc-modified-id=\"6.-[Bonus]-Plot-the-distributions-4.3\">6. [Bonus] Plot the distributions</a></span></li></ul></li><li><span><a href=\"#Sample-variance\" data-toc-modified-id=\"Sample-variance-5\">Sample variance</a></span></li><li><span><a href=\"#Some-useful-notation\" data-toc-modified-id=\"Some-useful-notation-6\">Some useful notation</a></span></li></ul></div>"
   ]
  },
  {
   "cell_type": "markdown",
   "metadata": {},
   "source": [
    "## Descriptive Statistics\n",
    "\n",
    "---\n",
    "\n",
    "There are two main fields of statistics: **descriptive** and **inferential**.\n",
    "\n",
    "- We use **descriptive** statistics to **make judgments** about the world based on **samples of data**. For example, what is the mean height of the people in a group, what is the largest/smallest observed height, etc. \n",
    "- When we start covering **modeling and hypothesis testing**, our focus will shift to **inferential statistics**, for example how much is the height of a person related to their weight, gender, etc.\n",
    "\n",
    "Right now, we're going to focus on descriptive statistics: **describing, summarizing, and understanding data**."
   ]
  },
  {
   "cell_type": "markdown",
   "metadata": {},
   "source": [
    "Run the cell below to load the required packages and set up plotting in the notebook!"
   ]
  },
  {
   "cell_type": "code",
   "execution_count": 1,
   "metadata": {},
   "outputs": [],
   "source": [
    "import numpy as np\n",
    "import csv\n",
    "import matplotlib.pyplot as plt\n",
    "import seaborn as sns\n",
    "\n",
    "sns.set(font_scale=1.5)\n",
    "\n",
    "%config InlineBackend.figure_format = 'retina'\n",
    "%matplotlib inline"
   ]
  },
  {
   "cell_type": "markdown",
   "metadata": {},
   "source": [
    "## Loading CSV files with python\n",
    "\n",
    "---\n",
    "\n",
    "For this lab you will be using a truncated version of some sales data.\n",
    "\n",
    "The csv has about 200 rows of data and four columns. The relative path to `sales_info.csv` is provided below.\n",
    "\n",
    "\n",
    "Let's take a look at the `csv` module we imported. The csv module’s reader and writer objects read and write sequences. The following python code demonstrates a process for loading data from a CSV file and (in this case) appending each row to a list.\n",
    "\n",
    "\n",
    "```python\n",
    "import csv\n",
    "print('Opening File. Data: ')\n",
    "with open(my_csv_path, 'r') as f:\n",
    "    reader = csv.reader(f)\n",
    "    rows = list(reader)\n",
    "```\n",
    "\n",
    "The first argument to `csv.reader` is the string path to the file. The second argument specifies the \"mode\" for the open file object:\n",
    "- `'r'` - Read (Default)\n",
    "- `'w'` - Write\n",
    "- `'a'` - Append;  Adds additional modifications to the end.  Unable to edit current contents.\n",
    "- `'b'` - Binary (used when working with a binary file, i.e. 'rb', for reading a binary file)\n",
    "- `'U'` - Opens text in Universal Newline mode.  As '\\r', '\\n', and '\\r\\n' all indicate a newline depending on which language the file was written in, Universal Newline Mode will read '\\r', '\\n', and '\\r\\n' as Python's '\\n'.\n",
    "\n",
    "See more details for [open](https://docs.python.org/3/tutorial/inputoutput.html) and the [csv library](https://docs.python.org/3.7/library/csv.html)."
   ]
  },
  {
   "cell_type": "code",
   "execution_count": 2,
   "metadata": {},
   "outputs": [],
   "source": [
    "sales_csv_path = '../../../../../resource-datasets/sales_data_simple/sales.csv'"
   ]
  },
  {
   "cell_type": "markdown",
   "metadata": {},
   "source": [
    "### 1. Loading the data\n",
    "\n",
    "Set up an empty list called ```rows```.\n",
    "\n",
    "Using the pattern for loading csvs we learned earlier, add all of the rows in the csv file to the rows list.\n",
    "\n",
    "For your reference, the pattern is:\n",
    "```python\n",
    "with open(my_csv_path, 'r') as f:\n",
    "    reader = csv.reader(f)\n",
    "    ...\n",
    "```\n",
    "\n",
    "Beyond this, adding the rows in the csv file to the ```rows``` variable is up to you.\n",
    "\n"
   ]
  },
  {
   "cell_type": "code",
   "execution_count": 3,
   "metadata": {},
   "outputs": [],
   "source": [
    "with open(sales_csv_path, 'r') as f:\n",
    "    reader = csv.reader(f)\n",
    "    rows = list(reader)"
   ]
  },
  {
   "cell_type": "markdown",
   "metadata": {},
   "source": [
    "### 2. Separate header and data\n",
    "\n",
    "The header of the csv is contained in the first index of the ```rows``` variable, as it is the first row in the csv file. \n",
    "\n",
    "Use python indexing to create two new variables: ```header``` which contains the 4 column names, and ```data``` which contains the list of lists, each sub-list representing a row from the csv.\n",
    "\n",
    "Lastly, print ```header``` to see the names of the columns."
   ]
  },
  {
   "cell_type": "code",
   "execution_count": 4,
   "metadata": {},
   "outputs": [
    {
     "name": "stdout",
     "output_type": "stream",
     "text": [
      "['volume_sold', '2015_margin', '2015_q1_sales', '2016_q1_sales']\n",
      "[['18.4207604861', '93.8022814583', '337166.53', '337804.05'], ['4.77650991918', '21.0824246877', '22351.86', '21736.63']]\n"
     ]
    }
   ],
   "source": [
    "header = rows[0]\n",
    "data = rows[1:]\n",
    "print(header)\n",
    "print(data[:2])"
   ]
  },
  {
   "cell_type": "markdown",
   "metadata": {},
   "source": [
    "### 3. Create a dictionary with the data\n",
    "\n",
    "Use loops or list comprehensions to create a dictionary called ```sales_data```, where the keys of the dictionary are the column names, and the values of the dictionary are lists of the data points of the column corresponding to that column name."
   ]
  },
  {
   "cell_type": "markdown",
   "metadata": {},
   "source": [
    "*The dictionary should look like this:* {'2015_margin': ['93.8022814583',\n",
    "  '21.0824246877',\n",
    "  '93.6124943024',\n",
    "  '16.8247038328',...\n",
    "  \n",
    "*Note:* The order of the dictionary's keys might differ"
   ]
  },
  {
   "cell_type": "code",
   "execution_count": 5,
   "metadata": {},
   "outputs": [
    {
     "name": "stdout",
     "output_type": "stream",
     "text": [
      "dict_keys(['volume_sold', '2015_margin', '2015_q1_sales', '2016_q1_sales'])\n"
     ]
    },
    {
     "data": {
      "text/plain": [
       "[['18.4207604861', '4.77650991918', '16.6024006077'],\n",
       " ['93.8022814583', '21.0824246877', '93.6124943024'],\n",
       " ['337166.53', '22351.86', '277764.46'],\n",
       " ['337804.05', '21736.63', '306942.27']]"
      ]
     },
     "execution_count": 5,
     "metadata": {},
     "output_type": "execute_result"
    }
   ],
   "source": [
    "# using a for loop\n",
    "sales_data = {}\n",
    "for col in header:\n",
    "    i = header.index(col)\n",
    "    sales_data[col] = [row[i] for row in data]\n",
    "print(sales_data.keys())\n",
    "[val[:3] for val in sales_data.values()]"
   ]
  },
  {
   "cell_type": "code",
   "execution_count": 6,
   "metadata": {},
   "outputs": [
    {
     "name": "stdout",
     "output_type": "stream",
     "text": [
      "dict_keys(['volume_sold', '2015_margin', '2015_q1_sales', '2016_q1_sales'])\n"
     ]
    },
    {
     "data": {
      "text/plain": [
       "[[18.4207604861, 4.77650991918, 16.6024006077],\n",
       " [93.8022814583, 21.0824246877, 93.6124943024],\n",
       " [337166.53, 22351.86, 277764.46],\n",
       " [337804.05, 21736.63, 306942.27]]"
      ]
     },
     "execution_count": 6,
     "metadata": {},
     "output_type": "execute_result"
    }
   ],
   "source": [
    "# using a list comprehension\n",
    "sales_data_comp = {head: [float(row[i]) for row in data]\n",
    "                   for i, head in enumerate(header)}\n",
    "print(sales_data_comp.keys())\n",
    "[val[:3] for val in sales_data_comp.values()]"
   ]
  },
  {
   "cell_type": "markdown",
   "metadata": {},
   "source": [
    "**3.A Print out the first 10 items of the `volume_sold` column. The first item should be roughly 18.42 and the tenth item should be roughly 5.388.**"
   ]
  },
  {
   "cell_type": "code",
   "execution_count": 7,
   "metadata": {},
   "outputs": [
    {
     "data": {
      "text/plain": [
       "['18.4207604861',\n",
       " '4.77650991918',\n",
       " '16.6024006077',\n",
       " '4.29611149826',\n",
       " '8.15602328201',\n",
       " '5.00512242518',\n",
       " '14.60675',\n",
       " '4.45646649485',\n",
       " '5.04752965097',\n",
       " '5.38807023767']"
      ]
     },
     "execution_count": 7,
     "metadata": {},
     "output_type": "execute_result"
    }
   ],
   "source": [
    "# A:\n",
    "sales_data['volume_sold'][:10]"
   ]
  },
  {
   "cell_type": "markdown",
   "metadata": {},
   "source": [
    "### 4. Convert data from string to float\n",
    "\n",
    "As you can see, the data is still in string format (which is how it is read in from the csv). For each key:value pair in our ```sales_data``` dictionary, convert the values (column data) from string values to float values."
   ]
  },
  {
   "cell_type": "code",
   "execution_count": 8,
   "metadata": {},
   "outputs": [
    {
     "data": {
      "text/plain": [
       "[[18.4207604861, 4.77650991918, 16.6024006077],\n",
       " [93.8022814583, 21.0824246877, 93.6124943024],\n",
       " [337166.53, 22351.86, 277764.46],\n",
       " [337804.05, 21736.63, 306942.27]]"
      ]
     },
     "execution_count": 8,
     "metadata": {},
     "output_type": "execute_result"
    }
   ],
   "source": [
    "float_dict = {column_name: [float(entry) for entry in sales_data[column_name]]\n",
    "              for column_name in sales_data}\n",
    "[val[:3] for val in float_dict.values()]"
   ]
  },
  {
   "cell_type": "markdown",
   "metadata": {},
   "source": [
    "## Numpy for descriptive statistics\n",
    "\n",
    "\n",
    "Numpy can be used to get quick insight about the data. We can calculate quantities like the mean, the median, the variance or the standard deviation of any numpy array or list using numpy functions.\n",
    "\n",
    "Example:"
   ]
  },
  {
   "cell_type": "code",
   "execution_count": 9,
   "metadata": {},
   "outputs": [],
   "source": [
    "my_list = [1, 2, 3, 4, 5]"
   ]
  },
  {
   "cell_type": "markdown",
   "metadata": {},
   "source": [
    "#### The mean\n",
    "\n",
    "The mean is the sum of the numbers in a list, divided by the length of that list."
   ]
  },
  {
   "cell_type": "code",
   "execution_count": 10,
   "metadata": {},
   "outputs": [
    {
     "data": {
      "text/plain": [
       "3.0"
      ]
     },
     "execution_count": 10,
     "metadata": {},
     "output_type": "execute_result"
    }
   ],
   "source": [
    "np.mean(my_list)"
   ]
  },
  {
   "cell_type": "markdown",
   "metadata": {},
   "source": [
    "#### The median\n",
    "\n",
    "For **odd-length lists**: The median is the middle number of the ordered list.\n",
    "\n",
    "For **even-length lists**: The median is the average of the two middle-most numbers of the ordered list.\n",
    "\n",
    "The position of the median will be given by (n + 1)/2 with n being the length of the list\n",
    "- if the answer is an integer, like 9, then the median is the 9th number\n",
    "- if the answer is a decimal, like 12.5, then the median is the mean of the 12th and 13th numbers"
   ]
  },
  {
   "cell_type": "code",
   "execution_count": 11,
   "metadata": {},
   "outputs": [
    {
     "data": {
      "text/plain": [
       "3.0"
      ]
     },
     "execution_count": 11,
     "metadata": {},
     "output_type": "execute_result"
    }
   ],
   "source": [
    "np.median(my_list)"
   ]
  },
  {
   "cell_type": "markdown",
   "metadata": {},
   "source": [
    "#### The variance\n",
    "\n",
    "The variance is a numeric value used to describe the **degree of spread** around the mean in a distribution of numbers.\n",
    "\n",
    "The variance is calculated by:\n",
    "- subtracting each value from the mean\n",
    "- squaring this difference\n",
    "- finding the average of these differences (ie finding the sum, then dividing by n)\n",
    "\n",
    "In Python variance can be calculated with:\n",
    "```python\n",
    "variance = []\n",
    "n_mean = np.mean(numbers)\n",
    "\n",
    "for num in numbers:\n",
    "    variance.append((num - n_mean) ** 2)\n",
    "\n",
    "variance = np.sum(variance)\n",
    "variance = variance / len(numbers)\n",
    "```\n",
    "\n",
    "\n",
    "Using `numpy` the variance is simply:\n",
    "```python\n",
    "variance = np.var(n)\n",
    "```"
   ]
  },
  {
   "cell_type": "code",
   "execution_count": 12,
   "metadata": {},
   "outputs": [
    {
     "data": {
      "text/plain": [
       "2.0"
      ]
     },
     "execution_count": 12,
     "metadata": {},
     "output_type": "execute_result"
    }
   ],
   "source": [
    "variance = []\n",
    "n_mean = np.mean(my_list)\n",
    "\n",
    "for num in my_list:\n",
    "    variance.append((num - n_mean) ** 2)\n",
    "\n",
    "variance = np.sum(variance)\n",
    "variance = variance / len(my_list)\n",
    "variance"
   ]
  },
  {
   "cell_type": "code",
   "execution_count": 13,
   "metadata": {},
   "outputs": [
    {
     "data": {
      "text/plain": [
       "2.0"
      ]
     },
     "execution_count": 13,
     "metadata": {},
     "output_type": "execute_result"
    }
   ],
   "source": [
    "np.var(my_list)"
   ]
  },
  {
   "cell_type": "markdown",
   "metadata": {},
   "source": [
    "#### Standard deviation\n",
    "\n",
    "The **standard deviation** (often written lowercase sigma: σ) is the **square root of the variance**.\n",
    "\n",
    "In other words, for a random variable X, \n",
    "\n",
    "$$\n",
    "\\sigma(X) = \\sqrt{{\\rm Var}(X)}\n",
    "$$\n",
    "\n",
    "Because the **variance** is the **average of the distances from the mean _squared_**, the standard deviation tells us approximately, on average, the **distance of numbers in a distribution from the mean of the distribution**. The standard deviation is measured in the same units as the observed sample values and the mean and is therefore better for direct comparison.\n",
    "\n",
    "The standard deviation can be calculated using numpy:\n",
    "```python\n",
    "std = np.std(n)\n",
    "```"
   ]
  },
  {
   "cell_type": "code",
   "execution_count": 14,
   "metadata": {},
   "outputs": [
    {
     "data": {
      "text/plain": [
       "1.4142135623730951"
      ]
     },
     "execution_count": 14,
     "metadata": {},
     "output_type": "execute_result"
    }
   ],
   "source": [
    "np.std(my_list)"
   ]
  },
  {
   "cell_type": "markdown",
   "metadata": {},
   "source": [
    "#### The minimum\n",
    "\n",
    "This is the smallest value in the list."
   ]
  },
  {
   "cell_type": "code",
   "execution_count": 15,
   "metadata": {},
   "outputs": [
    {
     "data": {
      "text/plain": [
       "1"
      ]
     },
     "execution_count": 15,
     "metadata": {},
     "output_type": "execute_result"
    }
   ],
   "source": [
    "np.min(my_list)"
   ]
  },
  {
   "cell_type": "markdown",
   "metadata": {},
   "source": [
    "#### The maximum\n",
    "\n",
    "This is the largest value in the list."
   ]
  },
  {
   "cell_type": "code",
   "execution_count": 16,
   "metadata": {},
   "outputs": [
    {
     "data": {
      "text/plain": [
       "5"
      ]
     },
     "execution_count": 16,
     "metadata": {},
     "output_type": "execute_result"
    }
   ],
   "source": [
    "np.max(my_list)"
   ]
  },
  {
   "cell_type": "markdown",
   "metadata": {},
   "source": [
    "#### The range\n",
    "\n",
    "The range of values in the list is the difference between maximum and minimum and can be calculated with `np.ptp` (point-to-point)."
   ]
  },
  {
   "cell_type": "code",
   "execution_count": 17,
   "metadata": {},
   "outputs": [
    {
     "data": {
      "text/plain": [
       "4"
      ]
     },
     "execution_count": 17,
     "metadata": {},
     "output_type": "execute_result"
    }
   ],
   "source": [
    "np.ptp(my_list)"
   ]
  },
  {
   "cell_type": "markdown",
   "metadata": {},
   "source": [
    "#### The skew \n",
    "\n",
    "The skew can be calculated in a similar way as the variance, only the power is cubic and in the end we divide by the standard deviation of the array cubed."
   ]
  },
  {
   "cell_type": "code",
   "execution_count": 18,
   "metadata": {},
   "outputs": [
    {
     "data": {
      "text/plain": [
       "0.0"
      ]
     },
     "execution_count": 18,
     "metadata": {},
     "output_type": "execute_result"
    }
   ],
   "source": [
    "skew = []\n",
    "n_mean = np.mean(my_list)\n",
    "\n",
    "for num in my_list:\n",
    "    skew.append((num - n_mean) ** 3)\n",
    "\n",
    "skew = np.mean(skew)\n",
    "skew = skew / np.std(my_list)**3\n",
    "skew"
   ]
  },
  {
   "cell_type": "markdown",
   "metadata": {},
   "source": [
    "To calculate the skew, we can use a function from the `scipy.stats` library."
   ]
  },
  {
   "cell_type": "code",
   "execution_count": 19,
   "metadata": {},
   "outputs": [],
   "source": [
    "import scipy.stats as stats"
   ]
  },
  {
   "cell_type": "code",
   "execution_count": 20,
   "metadata": {},
   "outputs": [
    {
     "data": {
      "text/plain": [
       "0.0"
      ]
     },
     "execution_count": 20,
     "metadata": {},
     "output_type": "execute_result"
    }
   ],
   "source": [
    "stats.skew(my_list)"
   ]
  },
  {
   "cell_type": "markdown",
   "metadata": {},
   "source": [
    "### 5. Write a function to print summary statistics\n",
    "\n",
    "Now write a function to print out summary statistics for the data.\n",
    "\n",
    "Your function should:\n",
    "\n",
    "- Accept two arguments: the column name and the data that column is associated with.\n",
    "- Print out information, clearly labeling each item when you print it:\n",
    "    1. Print out the column name\n",
    "    2. Print the mean of the data using ```np.mean()```\n",
    "    3. Print out the median of the data using ```np.median()```\n",
    "    5. Print out the variance of the data using ```np.var()```\n",
    "    6. Print out the standard deviation of the data using ```np.std()```\n",
    "    1. Print out the minimum of the data with `np.min()`.\n",
    "    1. Print out the maximum of the data with `np.max()`.\n",
    "    1. Print out the range of the data with `np.ptp()`.\n",
    "    1. Print out the skew of the data with `stats.skew()`.\n"
   ]
  },
  {
   "cell_type": "code",
   "execution_count": 21,
   "metadata": {},
   "outputs": [],
   "source": [
    "# A:\n",
    "def summary_statistics(column, data):\n",
    "    print('For the column', column, ':')\n",
    "    print(f'The mean is {np.mean(data[column])}')\n",
    "    print(f'The median is {np.median(data[column])}')\n",
    "    print(f'The variance is {np.var(data[column])}')\n",
    "    print(f'The standard deviation is {np.std(data[column])}')\n",
    "    print(f'The minimum is {np.min(data[column])}')\n",
    "    print(f'The maximum is {np.max(data[column])}')\n",
    "    print(f'The range is {np.ptp(data[column])}')\n",
    "    print(f'The skew is {stats.skew(data[column])}')"
   ]
  },
  {
   "cell_type": "markdown",
   "metadata": {},
   "source": [
    "**5.A Using your function, print the summary statistics for `volume_sold`.  Check: the mean should be roughly 10.02.**"
   ]
  },
  {
   "cell_type": "code",
   "execution_count": 22,
   "metadata": {},
   "outputs": [
    {
     "name": "stdout",
     "output_type": "stream",
     "text": [
      "For the column volume_sold :\n",
      "The mean is 10.0186840789888\n",
      "The median is 8.16634551564\n",
      "The variance is 84.12996520049938\n",
      "The standard deviation is 9.172238832504275\n",
      "The minimum is 2.79463149728\n",
      "The maximum is 76.2036918138\n",
      "The range is 73.40906031652001\n",
      "The skew is 4.5062089882522125\n"
     ]
    }
   ],
   "source": [
    "# A:\n",
    "summary_statistics('volume_sold', float_dict)"
   ]
  },
  {
   "cell_type": "markdown",
   "metadata": {},
   "source": [
    "**5.B Using your function, print the summary statistics for `2015_margin`. Check: the mean should be roughly 46.86.**"
   ]
  },
  {
   "cell_type": "code",
   "execution_count": 23,
   "metadata": {},
   "outputs": [
    {
     "name": "stdout",
     "output_type": "stream",
     "text": [
      "For the column 2015_margin :\n",
      "The mean is 46.8588951379235\n",
      "The median is 36.5621438181\n",
      "The variance is 2016.0616629583997\n",
      "The standard deviation is 44.90057530765502\n",
      "The minimum is 11.9961176992\n",
      "The maximum is 367.225653291\n",
      "The range is 355.2295355918\n",
      "The skew is 4.322274297381757\n"
     ]
    }
   ],
   "source": [
    "# A:\n",
    "summary_statistics('2015_margin', float_dict)"
   ]
  },
  {
   "cell_type": "markdown",
   "metadata": {},
   "source": [
    "**5.C Using your function, print the summary statistics for `2015_q1_sales`. Check: the mean should be roughly 154632.**"
   ]
  },
  {
   "cell_type": "code",
   "execution_count": 24,
   "metadata": {},
   "outputs": [
    {
     "name": "stdout",
     "output_type": "stream",
     "text": [
      "For the column 2015_q1_sales :\n",
      "The mean is 154631.66820000001\n",
      "The median is 104199.41\n",
      "The variance is 47430301462.331505\n",
      "The standard deviation is 217784.98906566427\n",
      "The minimum is 4151.93\n",
      "The maximum is 2337324.42\n",
      "The range is 2333172.4899999998\n",
      "The skew is 5.980100092495686\n"
     ]
    }
   ],
   "source": [
    "# A:\n",
    "summary_statistics('2015_q1_sales', float_dict)"
   ]
  },
  {
   "cell_type": "markdown",
   "metadata": {},
   "source": [
    "**5.D Using your function, print the summary statistics for `2016_q1_sales`. Check: the mean should be roughly 154699.**"
   ]
  },
  {
   "cell_type": "code",
   "execution_count": 25,
   "metadata": {},
   "outputs": [
    {
     "name": "stdout",
     "output_type": "stream",
     "text": [
      "For the column 2016_q1_sales :\n",
      "The mean is 154699.17875\n",
      "The median is 103207.20000000001\n",
      "The variance is 47139411653.44524\n",
      "The standard deviation is 217116.12481215032\n",
      "The minimum is 3536.14\n",
      "The maximum is 2443253.18\n",
      "The range is 2439717.04\n",
      "The skew is 6.483834841299811\n"
     ]
    }
   ],
   "source": [
    "# A:\n",
    "summary_statistics('2016_q1_sales', float_dict)"
   ]
  },
  {
   "cell_type": "markdown",
   "metadata": {},
   "source": [
    "### More on Skewness\n",
    "\n",
    "---\n",
    "\n",
    "We observe a high skewness in the data.\n",
    "Skewness refers to the **lack of symmetry** in a distribution of data.\n",
    "\n",
    "> Technical note: we will be talking about skewness here only in the context of _unimodal_ distributions. The mode is the most frequent value.\n",
    "\n",
    "![](../assets/images/skewness.png)\n",
    "\n",
    "**A positively-skewed distribution is one whose right tail is longer or fatter than its left.**\n",
    "\n",
    "Conversely, **a negatively-skewed distribution is one whose left tail is longer or fatter than its right**.\n",
    "\n",
    "\n",
    "Symmetric distributions have no skewness!"
   ]
  },
  {
   "cell_type": "markdown",
   "metadata": {},
   "source": [
    "### 6. [Bonus] Plot the distributions\n",
    "\n",
    "- Use `plt.hist()` to plot a histogram for each of the variables. \n",
    "- Mark the locations of the means and medians. You can create vertical lines at their positions using `plt.vlines(np.mean(array), 0, 1000)`, etc. \n",
    "- Compare to the situation in the example plot."
   ]
  },
  {
   "cell_type": "code",
   "execution_count": 26,
   "metadata": {},
   "outputs": [
    {
     "data": {
      "image/png": "[encoded data removed]",
      "text/plain": [
       "<Figure size 432x288 with 1 Axes>"
      ]
     },
     "metadata": {
      "image/png": {
       "height": 284,
       "width": 387
      },
      "needs_background": "light"
     },
     "output_type": "display_data"
    },
    {
     "data": {
      "image/png": "[encoded data removed]",
      "text/plain": [
       "<Figure size 432x288 with 1 Axes>"
      ]
     },
     "metadata": {
      "image/png": {
       "height": 290,
       "width": 387
      },
      "needs_background": "light"
     },
     "output_type": "display_data"
    },
    {
     "data": {
      "image/png": "[encoded data removed]",
      "text/plain": [
       "<Figure size 432x288 with 1 Axes>"
      ]
     },
     "metadata": {
      "image/png": {
       "height": 316,
       "width": 387
      },
      "needs_background": "light"
     },
     "output_type": "display_data"
    },
    {
     "data": {
      "image/png": "[encoded data removed]",
      "text/plain": [
       "<Figure size 432x288 with 1 Axes>"
      ]
     },
     "metadata": {
      "image/png": {
       "height": 316,
       "width": 404
      },
      "needs_background": "light"
     },
     "output_type": "display_data"
    }
   ],
   "source": [
    "for key in float_dict.keys():\n",
    "    plt.hist(float_dict[key], bins=20)\n",
    "    plt.vlines(np.mean(float_dict[key]), 0, 1000, label='mean')\n",
    "    plt.vlines(np.median(float_dict[key]), 0, 1000, color='r', label='median')\n",
    "    plt.yscale('log')\n",
    "    plt.xticks(rotation=45)\n",
    "    plt.legend()\n",
    "    plt.title(key)\n",
    "    plt.show()"
   ]
  },
  {
   "cell_type": "markdown",
   "metadata": {},
   "source": [
    "## Sample variance"
   ]
  },
  {
   "cell_type": "markdown",
   "metadata": {},
   "source": [
    "> **Note:** Often, the variance for data samples comes with a correction factor of $n/(n-1)$ where $n$ is the sample size (number of elements in the list). This makes sense in the context of inference when one is thinking about inferring the variance of a whole population by just looking at a sample. The reasons for doing that are more profound. However, you will often find that some software (e.g. pandas) uses the correction factor as the default setting. We can easily take care of that."
   ]
  },
  {
   "cell_type": "code",
   "execution_count": 27,
   "metadata": {},
   "outputs": [
    {
     "data": {
      "text/plain": [
       "2.0"
      ]
     },
     "execution_count": 27,
     "metadata": {},
     "output_type": "execute_result"
    }
   ],
   "source": [
    "np.var(my_list)"
   ]
  },
  {
   "cell_type": "code",
   "execution_count": 28,
   "metadata": {},
   "outputs": [
    {
     "data": {
      "text/plain": [
       "2.5"
      ]
     },
     "execution_count": 28,
     "metadata": {},
     "output_type": "execute_result"
    }
   ],
   "source": [
    "(np.var(my_list)\n",
    " *len(my_list)/(len(my_list)-1))"
   ]
  },
  {
   "cell_type": "markdown",
   "metadata": {},
   "source": [
    "The same can be done using the keyword ddof (degrees of freedom) in the numpy function."
   ]
  },
  {
   "cell_type": "code",
   "execution_count": 29,
   "metadata": {},
   "outputs": [
    {
     "data": {
      "text/plain": [
       "2.0"
      ]
     },
     "execution_count": 29,
     "metadata": {},
     "output_type": "execute_result"
    }
   ],
   "source": [
    "np.var(my_list, ddof=0)"
   ]
  },
  {
   "cell_type": "code",
   "execution_count": 30,
   "metadata": {},
   "outputs": [
    {
     "data": {
      "text/plain": [
       "2.5"
      ]
     },
     "execution_count": 30,
     "metadata": {},
     "output_type": "execute_result"
    }
   ],
   "source": [
    "np.var(my_list, ddof=1)"
   ]
  },
  {
   "cell_type": "markdown",
   "metadata": {},
   "source": [
    "## Some useful notation\n",
    "\n",
    "\n",
    "In textbooks you will often find the following notation for a data sample $X=(X_1, X_2, \\ldots, X_n)$:\n",
    "\n",
    "- Mean $\\mu$ (mu):\n",
    "\n",
    "$$\\mu = \\frac{1}{n}(X_1+X_2+\\ldots+X_n) = \\frac{1}{n}\\sum_{i=1}^{n}X_i$$\n",
    "\n",
    "- Variance: \n",
    "\n",
    "$${\\rm Var}(X) = \\frac{1}{n}\\left((X_1-\\mu)^2+(X_2-\\mu)^2+\\ldots+(X_n-\\mu)^2\\right) = \\frac{1}{n}\\sum_{i=1}^{n}(X_i-\\mu)^2$$\n",
    "\n",
    "- Skew:\n",
    "\n",
    "$${\\rm Skew}(X) = \\frac{1}{n\\ \\sigma(X)^3}\\left((X_1-\\mu)^3+(X_2-\\mu)^3+\\ldots+(X_n-\\mu)^3\\right) = \\frac{1}{n}\\sum_{i=1}^{n}\\frac{(X_i-\\mu)^3}{\\sigma(X)^3}$$\n",
    "\n",
    "\n",
    "The capital Sigma $\\Sigma$ is just an abbreviation for carrying out the summation. Think of this notation in the same way we programmed it: we iterate over the different elements, perform always the same operation and in the end sum all elements before dividing by the number of elements in the list."
   ]
  }
 ],
 "metadata": {
  "anaconda-cloud": {},
  "kernelspec": {
   "display_name": "Python 3",
   "language": "python",
   "name": "python3"
  },
  "language_info": {
   "codemirror_mode": {
    "name": "ipython",
    "version": 3
   },
   "file_extension": ".py",
   "mimetype": "text/x-python",
   "name": "python",
   "nbconvert_exporter": "python",
   "pygments_lexer": "ipython3",
   "version": "3.7.3"
  },
  "toc": {
   "base_numbering": 1,
   "nav_menu": {},
   "number_sections": false,
   "sideBar": true,
   "skip_h1_title": true,
   "title_cell": "Lab Guide",
   "title_sidebar": "Contents",
   "toc_cell": true,
   "toc_position": {},
   "toc_section_display": "block",
   "toc_window_display": false
  },
  "varInspector": {
   "cols": {
    "lenName": 16,
    "lenType": 16,
    "lenVar": 40
   },
   "kernels_config": {
    "python": {
     "delete_cmd_postfix": "",
     "delete_cmd_prefix": "del ",
     "library": "var_list.py",
     "varRefreshCmd": "print(var_dic_list())"
    },
    "r": {
     "delete_cmd_postfix": ") ",
     "delete_cmd_prefix": "rm(",
     "library": "var_list.r",
     "varRefreshCmd": "cat(var_dic_list()) "
    }
   },
   "types_to_exclude": [
    "module",
    "function",
    "builtin_function_or_method",
    "instance",
    "_Feature"
   ],
   "window_display": false
  }
 },
 "nbformat": 4,
 "nbformat_minor": 1
}
