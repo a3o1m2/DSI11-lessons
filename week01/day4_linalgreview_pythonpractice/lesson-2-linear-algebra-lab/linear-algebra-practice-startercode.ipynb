{
 "cells": [
  {
   "cell_type": "markdown",
   "metadata": {},
   "source": [
    "<img src=\"http://imgur.com/1ZcRyrc.png\" style=\"float: left; margin: 20px; height: 55px\">\n",
    "\n",
    "# Linear algebra practice\n",
    "\n",
    "---"
   ]
  },
  {
   "cell_type": "code",
   "execution_count": 1,
   "metadata": {},
   "outputs": [],
   "source": [
    "import numpy as np"
   ]
  },
  {
   "cell_type": "markdown",
   "metadata": {},
   "source": [
    "#### 1. Transform the following two vectors into numpy arrays."
   ]
  },
  {
   "cell_type": "code",
   "execution_count": 2,
   "metadata": {},
   "outputs": [],
   "source": [
    "vec_1 = [2, 4, 1]\n",
    "vec_2 = [1, 3, 0]"
   ]
  },
  {
   "cell_type": "code",
   "execution_count": 27,
   "metadata": {},
   "outputs": [
    {
     "data": {
      "text/plain": [
       "(3,)"
      ]
     },
     "execution_count": 27,
     "metadata": {},
     "output_type": "execute_result"
    }
   ],
   "source": [
    "vec_1 = np.array(vec_1)\n",
    "vec_2 = np.array(vec_2)\n",
    "vec_1.shape"
   ]
  },
  {
   "cell_type": "markdown",
   "metadata": {},
   "source": [
    "#### 2. For the two vectors, calculate\n",
    "    \n",
    "- $3 \\cdot {\\rm vec}_1 + 2\\cdot {\\rm vec}_2$\n",
    "- $-0.5\\cdot {\\rm vec}_1 + 3\\cdot {\\rm vec}_2$ \n",
    "- the scalar product \n",
    "- the magnitude of each vector"
   ]
  },
  {
   "cell_type": "code",
   "execution_count": 11,
   "metadata": {},
   "outputs": [
    {
     "name": "stdout",
     "output_type": "stream",
     "text": [
      "[ 8 18  3]\n",
      "[ 2.   7.  -0.5]\n",
      "14\n",
      "4.58257569495584\n",
      "3.1622776601683795\n"
     ]
    }
   ],
   "source": [
    "one = (3*vec_1) + (2*vec_2)\n",
    "print(one)\n",
    "two = (-.5*vec_1) + (3*vec_2)\n",
    "print(two)\n",
    "three = np.dot(vec_1,vec_2)\n",
    "print(three)\n",
    "four_a = np.linalg.norm(vec_1)\n",
    "print(four_a)\n",
    "four_b = np.linalg.norm(vec_2)\n",
    "print(four_b)"
   ]
  },
  {
   "cell_type": "markdown",
   "metadata": {},
   "source": [
    "#### 3. Transform the following lists into numpy matrices."
   ]
  },
  {
   "cell_type": "code",
   "execution_count": 12,
   "metadata": {},
   "outputs": [],
   "source": [
    "A = [[2,1],[-2,3]]\n",
    "B = [[1,3,4],[0,1,2],[1,0,0]]\n",
    "C = [[2,3,0],[0,1,4],[1,0,1]]"
   ]
  },
  {
   "cell_type": "code",
   "execution_count": 15,
   "metadata": {},
   "outputs": [
    {
     "data": {
      "text/plain": [
       "array([[ 2,  1],\n",
       "       [-2,  3]])"
      ]
     },
     "execution_count": 15,
     "metadata": {},
     "output_type": "execute_result"
    }
   ],
   "source": [
    "A = np.array(A)\n",
    "B = np.array(B)\n",
    "C = np.array(C)\n",
    "A"
   ]
  },
  {
   "cell_type": "markdown",
   "metadata": {},
   "source": [
    "#### 4. Extract the row and column vectors from A."
   ]
  },
  {
   "cell_type": "code",
   "execution_count": 70,
   "metadata": {},
   "outputs": [
    {
     "data": {
      "text/plain": [
       "array([2, 1])"
      ]
     },
     "execution_count": 70,
     "metadata": {},
     "output_type": "execute_result"
    }
   ],
   "source": [
    "row1 = A[0,:]\n",
    "row2 = A[1,:]\n",
    "col1 = A[:,0]\n",
    "col2 = A[:,1]\n",
    "\n",
    "row1"
   ]
  },
  {
   "cell_type": "markdown",
   "metadata": {},
   "source": [
    "#### 5. Form the matrix products $B\\cdot C$ and $C\\cdot B$. Compare!"
   ]
  },
  {
   "cell_type": "code",
   "execution_count": 25,
   "metadata": {},
   "outputs": [
    {
     "data": {
      "text/plain": [
       "array([[ 6,  6, 16],\n",
       "       [ 2,  1,  6],\n",
       "       [ 2,  3,  0]])"
      ]
     },
     "execution_count": 25,
     "metadata": {},
     "output_type": "execute_result"
    }
   ],
   "source": [
    "B.dot(C)"
   ]
  },
  {
   "cell_type": "code",
   "execution_count": 26,
   "metadata": {},
   "outputs": [
    {
     "data": {
      "text/plain": [
       "array([[ 2,  9, 14],\n",
       "       [ 4,  1,  2],\n",
       "       [ 2,  3,  4]])"
      ]
     },
     "execution_count": 26,
     "metadata": {},
     "output_type": "execute_result"
    }
   ],
   "source": [
    "C.dot(B)"
   ]
  },
  {
   "cell_type": "markdown",
   "metadata": {},
   "source": [
    "#### 6. Form the dot products $B\\cdot {\\rm vec}_1$ and ${\\rm vec}_1\\cdot B$. Compare!"
   ]
  },
  {
   "cell_type": "code",
   "execution_count": 34,
   "metadata": {},
   "outputs": [
    {
     "data": {
      "text/plain": [
       "array([18,  6,  2])"
      ]
     },
     "execution_count": 34,
     "metadata": {},
     "output_type": "execute_result"
    }
   ],
   "source": [
    "B.dot(vec_1)"
   ]
  },
  {
   "cell_type": "code",
   "execution_count": 33,
   "metadata": {},
   "outputs": [
    {
     "data": {
      "text/plain": [
       "array([ 3, 10, 16])"
      ]
     },
     "execution_count": 33,
     "metadata": {},
     "output_type": "execute_result"
    }
   ],
   "source": [
    "vec_1.dot(B)"
   ]
  },
  {
   "cell_type": "markdown",
   "metadata": {},
   "source": [
    "#### 7. Obtain the transpose of the matrices $A$, $B$, $C$."
   ]
  },
  {
   "cell_type": "code",
   "execution_count": 40,
   "metadata": {},
   "outputs": [
    {
     "data": {
      "text/plain": [
       "array([[ 2, -2],\n",
       "       [ 1,  3]])"
      ]
     },
     "execution_count": 40,
     "metadata": {},
     "output_type": "execute_result"
    }
   ],
   "source": [
    "A_trans = A.T\n",
    "A_trans"
   ]
  },
  {
   "cell_type": "code",
   "execution_count": 41,
   "metadata": {},
   "outputs": [
    {
     "data": {
      "text/plain": [
       "array([[1, 0, 1],\n",
       "       [3, 1, 0],\n",
       "       [4, 2, 0]])"
      ]
     },
     "execution_count": 41,
     "metadata": {},
     "output_type": "execute_result"
    }
   ],
   "source": [
    "B_trans = B.T\n",
    "B_trans"
   ]
  },
  {
   "cell_type": "code",
   "execution_count": 42,
   "metadata": {},
   "outputs": [
    {
     "data": {
      "text/plain": [
       "array([[2, 0, 1],\n",
       "       [3, 1, 0],\n",
       "       [0, 4, 1]])"
      ]
     },
     "execution_count": 42,
     "metadata": {},
     "output_type": "execute_result"
    }
   ],
   "source": [
    "C_trans = C.T\n",
    "C_trans"
   ]
  },
  {
   "cell_type": "markdown",
   "metadata": {},
   "source": [
    "#### 8. Form the matrix product $A^T \\cdot A$ and $A\\cdot A^T$. Compare! Repeat for the matrices $B$ and $C$. Do you notice anything special about the resulting matrices?"
   ]
  },
  {
   "cell_type": "code",
   "execution_count": 36,
   "metadata": {},
   "outputs": [
    {
     "data": {
      "text/plain": [
       "array([[ 8, -4],\n",
       "       [-4, 10]])"
      ]
     },
     "execution_count": 36,
     "metadata": {},
     "output_type": "execute_result"
    }
   ],
   "source": [
    "A_trans.dot(A)"
   ]
  },
  {
   "cell_type": "code",
   "execution_count": 43,
   "metadata": {},
   "outputs": [
    {
     "data": {
      "text/plain": [
       "array([[ 5, -1],\n",
       "       [-1, 13]])"
      ]
     },
     "execution_count": 43,
     "metadata": {},
     "output_type": "execute_result"
    }
   ],
   "source": [
    "A.dot(A_trans)"
   ]
  },
  {
   "cell_type": "code",
   "execution_count": 37,
   "metadata": {},
   "outputs": [
    {
     "data": {
      "text/plain": [
       "array([[ 2,  3,  4],\n",
       "       [ 3, 10, 14],\n",
       "       [ 4, 14, 20]])"
      ]
     },
     "execution_count": 37,
     "metadata": {},
     "output_type": "execute_result"
    }
   ],
   "source": [
    "B_trans.dot(B)"
   ]
  },
  {
   "cell_type": "code",
   "execution_count": 44,
   "metadata": {},
   "outputs": [
    {
     "data": {
      "text/plain": [
       "array([[26, 11,  1],\n",
       "       [11,  5,  0],\n",
       "       [ 1,  0,  1]])"
      ]
     },
     "execution_count": 44,
     "metadata": {},
     "output_type": "execute_result"
    }
   ],
   "source": [
    "B.dot(B_trans)"
   ]
  },
  {
   "cell_type": "code",
   "execution_count": 38,
   "metadata": {},
   "outputs": [
    {
     "data": {
      "text/plain": [
       "array([[ 5,  6,  1],\n",
       "       [ 6, 10,  4],\n",
       "       [ 1,  4, 17]])"
      ]
     },
     "execution_count": 38,
     "metadata": {},
     "output_type": "execute_result"
    }
   ],
   "source": [
    "C_trans.dot(C)"
   ]
  },
  {
   "cell_type": "code",
   "execution_count": 45,
   "metadata": {},
   "outputs": [
    {
     "data": {
      "text/plain": [
       "array([[13,  3,  2],\n",
       "       [ 3, 17,  4],\n",
       "       [ 2,  4,  2]])"
      ]
     },
     "execution_count": 45,
     "metadata": {},
     "output_type": "execute_result"
    }
   ],
   "source": [
    "C.dot(C_trans)"
   ]
  },
  {
   "cell_type": "markdown",
   "metadata": {},
   "source": [
    "#### 9. Calculate the inverse matrices of $A$, $B$ and $C$ if possible. Check that the found matrices are indeed the inverses by taking the matrix product with the original matrices."
   ]
  },
  {
   "cell_type": "code",
   "execution_count": 48,
   "metadata": {
    "scrolled": true
   },
   "outputs": [
    {
     "name": "stdout",
     "output_type": "stream",
     "text": [
      "[[ 0.375 -0.125]\n",
      " [ 0.25   0.25 ]]\n",
      "[[ 0.00000000e+00  2.22044605e-16  1.00000000e+00]\n",
      " [ 1.00000000e+00 -2.00000000e+00 -1.00000000e+00]\n",
      " [-5.00000000e-01  1.50000000e+00  5.00000000e-01]]\n",
      "[[ 0.07142857 -0.21428571  0.85714286]\n",
      " [ 0.28571429  0.14285714 -0.57142857]\n",
      " [-0.07142857  0.21428571  0.14285714]]\n"
     ]
    }
   ],
   "source": [
    "A_inv = np.linalg.inv(A)\n",
    "B_inv = np.linalg.inv(B)\n",
    "C_inv = np.linalg.inv(C)\n",
    "print(A_inv)\n",
    "print(B_inv)\n",
    "print(C_inv)"
   ]
  },
  {
   "cell_type": "code",
   "execution_count": 49,
   "metadata": {},
   "outputs": [
    {
     "name": "stdout",
     "output_type": "stream",
     "text": [
      "[[1. 0.]\n",
      " [0. 1.]]\n",
      "[[ 1.00000000e+00  0.00000000e+00  0.00000000e+00]\n",
      " [ 1.11022302e-16  1.00000000e+00 -1.11022302e-16]\n",
      " [ 0.00000000e+00  2.22044605e-16  1.00000000e+00]]\n",
      "[[ 1.00000000e+00  0.00000000e+00  0.00000000e+00]\n",
      " [ 5.55111512e-17  1.00000000e+00 -1.11022302e-16]\n",
      " [-5.55111512e-17  0.00000000e+00  1.00000000e+00]]\n"
     ]
    }
   ],
   "source": [
    "A_chk = A.dot(A_inv)\n",
    "B_chk = B.dot(B_inv)\n",
    "C_chk = C.dot(C_inv)\n",
    "print(A_chk)\n",
    "print(B_chk)\n",
    "print(C_chk)"
   ]
  },
  {
   "cell_type": "markdown",
   "metadata": {},
   "source": [
    "#### 10. Solve the system of equations\n",
    "\n",
    "$$\n",
    "\\begin{eqnarray}\n",
    "2\\, x_1 + 1\\, x_2 &=& 3\\\\\n",
    "-2\\, x_1 + 3\\, x_2 &=& 1\n",
    "\\end{eqnarray}$$\n",
    "\n",
    "Note that this system of equations can be written as\n",
    "\n",
    "$$\n",
    "\\left(\n",
    "\\begin{array}{cc}\n",
    "2&1\\\\\n",
    "-2&3\n",
    "\\end{array}\n",
    "\\right)\n",
    "\\left(\n",
    "\\begin{array}{c}\n",
    "x_1\\\\\n",
    "x_2 \n",
    "\\end{array}\n",
    "\\right)\n",
    "=\n",
    "\\left(\n",
    "\\begin{array}{c}\n",
    "3\\\\\n",
    "1 \n",
    "\\end{array}\n",
    "\\right)\n",
    "$$\n",
    "\n",
    "Find out how to use the command `np.linalg.solve` to solve this system of equations."
   ]
  },
  {
   "cell_type": "code",
   "execution_count": 50,
   "metadata": {},
   "outputs": [
    {
     "data": {
      "text/plain": [
       "array([1., 1.])"
      ]
     },
     "execution_count": 50,
     "metadata": {},
     "output_type": "execute_result"
    }
   ],
   "source": [
    "b = np.array([3,1])\n",
    "np.linalg.solve(A,b)"
   ]
  },
  {
   "cell_type": "markdown",
   "metadata": {},
   "source": [
    "#### 11. Check that the same result can be obtained by calculating\n",
    "\n",
    "$$\n",
    "\\left(\n",
    "\\begin{array}{cc}\n",
    "2&1\\\\\n",
    "-2&3\n",
    "\\end{array}\n",
    "\\right)^{-1}\n",
    "\\left(\n",
    "\\begin{array}{c}\n",
    "3\\\\\n",
    "1 \n",
    "\\end{array}\n",
    "\\right)\n",
    "$$"
   ]
  },
  {
   "cell_type": "code",
   "execution_count": 51,
   "metadata": {},
   "outputs": [
    {
     "data": {
      "text/plain": [
       "array([1., 1.])"
      ]
     },
     "execution_count": 51,
     "metadata": {},
     "output_type": "execute_result"
    }
   ],
   "source": [
    "A_inv.dot(b)"
   ]
  },
  {
   "cell_type": "markdown",
   "metadata": {},
   "source": [
    "### In the following exercises, work purely with python lists to create your own functions which do the same as the numpy functions. Verify your results with the examples from above."
   ]
  },
  {
   "cell_type": "markdown",
   "metadata": {},
   "source": [
    "#### 12. Write a function that adds two vectors to each other"
   ]
  },
  {
   "cell_type": "code",
   "execution_count": 57,
   "metadata": {},
   "outputs": [
    {
     "name": "stdout",
     "output_type": "stream",
     "text": [
      "[3, 7, 1]\n"
     ]
    }
   ],
   "source": [
    "# vec_1 = [2, 4, 1]\n",
    "# vec_2 = [1, 3, 0]\n",
    "\n",
    "def vector_add(vec1, vec2):\n",
    "    vec_sum = []\n",
    "    for i in range(len(vec1)):\n",
    "        vec_sum.append(vec1[i] + vec2[i])\n",
    "    print(vec_sum)\n",
    "\n",
    "vector_add(vec_1, vec_2)"
   ]
  },
  {
   "cell_type": "markdown",
   "metadata": {},
   "source": [
    "#### 13. Write a function that subtracts two vectors from each other"
   ]
  },
  {
   "cell_type": "code",
   "execution_count": 59,
   "metadata": {},
   "outputs": [
    {
     "name": "stdout",
     "output_type": "stream",
     "text": [
      "[1, 1, 1]\n"
     ]
    }
   ],
   "source": [
    "# vec_1 = [2, 4, 1]\n",
    "# vec_2 = [1, 3, 0]\n",
    "\n",
    "def vector_subtract(vec1, vec2):\n",
    "    vec_sub = []\n",
    "    for i in range(len(vec1)):\n",
    "        vec_sub.append(vec1[i] - vec2[i])\n",
    "    print(vec_sub)\n",
    "\n",
    "vector_subtract(vec_1, vec_2)"
   ]
  },
  {
   "cell_type": "markdown",
   "metadata": {},
   "source": [
    "#### 14. Write a function that multiplies a vector by a number"
   ]
  },
  {
   "cell_type": "code",
   "execution_count": 63,
   "metadata": {},
   "outputs": [
    {
     "name": "stdout",
     "output_type": "stream",
     "text": [
      "[4, 8, 2]\n"
     ]
    }
   ],
   "source": [
    "def vector_scalar(vec1, a):\n",
    "    vec_scal = []\n",
    "    for i in range(len(vec1)):\n",
    "        vec_scal.append(vec1[i] * a)\n",
    "    print(vec_scal)\n",
    "\n",
    "vector_scalar(vec_1, 2)"
   ]
  },
  {
   "cell_type": "markdown",
   "metadata": {},
   "source": [
    "#### 15. Write a function that calculates the length of a vector"
   ]
  },
  {
   "cell_type": "code",
   "execution_count": 65,
   "metadata": {},
   "outputs": [
    {
     "name": "stdout",
     "output_type": "stream",
     "text": [
      "4.58257569495584\n"
     ]
    }
   ],
   "source": [
    "def vector_length(vec1):\n",
    "    vec_len = 0\n",
    "    for i in vec1:\n",
    "        vec_len += i ** 2\n",
    "    vec_len = vec_len ** 0.5\n",
    "    print(vec_len)\n",
    "\n",
    "vector_length(vec_1)"
   ]
  },
  {
   "cell_type": "markdown",
   "metadata": {},
   "source": [
    "#### 16. Write a function that calculates the scalar product of two vectors"
   ]
  },
  {
   "cell_type": "code",
   "execution_count": 68,
   "metadata": {},
   "outputs": [
    {
     "name": "stdout",
     "output_type": "stream",
     "text": [
      "14\n"
     ]
    }
   ],
   "source": [
    "# vec_1 = [2, 4, 1]\n",
    "# vec_2 = [1, 3, 0]\n",
    "\n",
    "def vector_vector(vec1, vec2):\n",
    "    vec_vec = 0\n",
    "    for i in range(len(vec1)):\n",
    "        vec_vec += vec1[i] * vec2[i]\n",
    "    print(vec_vec)\n",
    "\n",
    "vector_vector(vec_1, vec_2)"
   ]
  },
  {
   "cell_type": "markdown",
   "metadata": {},
   "source": [
    "#### 17. Write a function that returns the rows of a matrix"
   ]
  },
  {
   "cell_type": "code",
   "execution_count": 76,
   "metadata": {},
   "outputs": [
    {
     "name": "stdout",
     "output_type": "stream",
     "text": [
      "[[ 2  1]\n",
      " [-2  3]]\n",
      "[2 1]\n",
      "[ 2 -2]\n"
     ]
    }
   ],
   "source": [
    "#recap of numpy method\n",
    "\n",
    "print(A)\n",
    "row1 = A[0,:]\n",
    "row2 = A[1,:]\n",
    "col1 = A[:,0]\n",
    "col2 = A[:,1]\n",
    "\n",
    "print(row1)\n",
    "print(col1)"
   ]
  },
  {
   "cell_type": "code",
   "execution_count": 75,
   "metadata": {},
   "outputs": [
    {
     "name": "stdout",
     "output_type": "stream",
     "text": [
      "[array([2, 1]), array([-2,  3])]\n"
     ]
    }
   ],
   "source": [
    "#now do it as requested\n",
    "\n",
    "def matrix_rows(A):\n",
    "    A_rows = []\n",
    "    for i in range(len(A)):\n",
    "        A_rows.append(A[i])\n",
    "    print(A_rows)\n",
    "\n",
    "matrix_rows(A)"
   ]
  },
  {
   "cell_type": "markdown",
   "metadata": {},
   "source": [
    "#### 18. Write a function that returns the columns of a matrix"
   ]
  },
  {
   "cell_type": "code",
   "execution_count": 98,
   "metadata": {},
   "outputs": [
    {
     "name": "stdout",
     "output_type": "stream",
     "text": [
      "[[2, -2], [1, 3]]\n"
     ]
    }
   ],
   "source": [
    "def matrix_cols(A):\n",
    "    A_cols = []\n",
    "    for j in range(len(A[0])):\n",
    "        A_list = []\n",
    "        for row in A:\n",
    "            A_list.append(row[j])\n",
    "        A_cols.append(A_list)\n",
    "    print(A_cols)\n",
    "\n",
    "matrix_cols(A)"
   ]
  },
  {
   "cell_type": "markdown",
   "metadata": {},
   "source": [
    "#### 19. Write a function that multiplies a matrix with a vector"
   ]
  },
  {
   "cell_type": "code",
   "execution_count": 99,
   "metadata": {},
   "outputs": [
    {
     "name": "stdout",
     "output_type": "stream",
     "text": [
      "[[ 2  1]\n",
      " [-2  3]]\n"
     ]
    }
   ],
   "source": [
    "print(A)\n",
    "#print(vec_1)"
   ]
  },
  {
   "cell_type": "code",
   "execution_count": 95,
   "metadata": {},
   "outputs": [
    {
     "name": "stdout",
     "output_type": "stream",
     "text": [
      "[8, 8]\n"
     ]
    }
   ],
   "source": [
    "vec_1 = [2, 4, 1]\n",
    "\n",
    "\n",
    "def matrix_vector(A,vec1):\n",
    "    mat_vec = []\n",
    "    for row in A:\n",
    "        mat_vec_cnt = 0\n",
    "        for j in range(len(row)):\n",
    "            mat_vec_cnt += row[j] * vec1[j]\n",
    "        mat_vec.append(mat_vec_cnt)\n",
    "    print(mat_vec)\n",
    "\n",
    "#just quickly hardcode vec_1 to be correct size...\n",
    "matrix_vector(A,vec_1[:2])"
   ]
  },
  {
   "cell_type": "code",
   "execution_count": 94,
   "metadata": {},
   "outputs": [
    {
     "data": {
      "text/plain": [
       "[2, 4]"
      ]
     },
     "execution_count": 94,
     "metadata": {},
     "output_type": "execute_result"
    }
   ],
   "source": [
    "vec_1[:2]"
   ]
  },
  {
   "cell_type": "markdown",
   "metadata": {},
   "source": [
    "#### 20. Write a function that multiplies a matrix with a matrix "
   ]
  },
  {
   "cell_type": "code",
   "execution_count": null,
   "metadata": {},
   "outputs": [],
   "source": [
    "def matrix_matrix(A,B):\n",
    "    mat_mat = []\n",
    "    for row in A:\n",
    "        mat_vec_cnt = 0\n",
    "        for j in range(len(row)):\n",
    "            mat_vec_cnt += row[j] * vec1[j]\n",
    "        mat_vec.append(mat_vec_cnt)\n",
    "    print(mat_vec)\n",
    "\n",
    "#just quickly hardcode vec_1 to be correct size...\n",
    "matrix_vector(A,vec_1[:2])"
   ]
  },
  {
   "cell_type": "markdown",
   "metadata": {},
   "source": [
    "#### 21. Write a function that returns the transpose of a given matrix"
   ]
  },
  {
   "cell_type": "code",
   "execution_count": null,
   "metadata": {},
   "outputs": [],
   "source": []
  }
 ],
 "metadata": {
  "kernelspec": {
   "display_name": "Python 3",
   "language": "python",
   "name": "python3"
  },
  "language_info": {
   "codemirror_mode": {
    "name": "ipython",
    "version": 3
   },
   "file_extension": ".py",
   "mimetype": "text/x-python",
   "name": "python",
   "nbconvert_exporter": "python",
   "pygments_lexer": "ipython3",
   "version": "3.7.3"
  },
  "toc": {
   "base_numbering": 1,
   "nav_menu": {},
   "number_sections": false,
   "sideBar": true,
   "skip_h1_title": true,
   "title_cell": "Table of Contents",
   "title_sidebar": "Contents",
   "toc_cell": false,
   "toc_position": {},
   "toc_section_display": "block",
   "toc_window_display": false
  }
 },
 "nbformat": 4,
 "nbformat_minor": 2
}
