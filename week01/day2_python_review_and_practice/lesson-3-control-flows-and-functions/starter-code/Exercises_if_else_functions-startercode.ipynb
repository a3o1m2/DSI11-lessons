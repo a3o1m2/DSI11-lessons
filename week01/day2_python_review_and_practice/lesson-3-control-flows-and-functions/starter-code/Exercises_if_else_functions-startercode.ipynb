{
 "cells": [
  {
   "cell_type": "markdown",
   "metadata": {},
   "source": [
    "<img src=\"http://imgur.com/1ZcRyrc.png\" style=\"float: left; margin: 20px; height: 55px\">\n",
    "\n",
    "# Exercises control flow and functions\n",
    "\n",
    "---"
   ]
  },
  {
   "cell_type": "markdown",
   "metadata": {},
   "source": [
    "## If - else\n",
    "\n",
    "---"
   ]
  },
  {
   "cell_type": "markdown",
   "metadata": {},
   "source": [
    "### 1. Write an if-else statement for multiple conditions.\n",
    "\n",
    "Print out these recommendations based on the weather conditions:\n",
    "\n",
    "1. Temperature over 20 ˚C and rain: bring an umbrella.\n",
    "2. Temperature less than or equal to 20 ˚C and rain: bring an umbrella and a jacket.\n",
    "3. Temperature over 20 ˚C and sunshine: wear a t-shirt.\n",
    "4. Temperature less than or equal to 20 ˚C and sunshine: bring a jacket."
   ]
  },
  {
   "cell_type": "code",
   "execution_count": 28,
   "metadata": {},
   "outputs": [
    {
     "name": "stdout",
     "output_type": "stream",
     "text": [
      "What is the temperature? 25\n",
      "What is the weather? 'rain'\n",
      "bring umbrella\n"
     ]
    }
   ],
   "source": [
    "temp = eval(input('What is the temperature? '))\n",
    "weather = eval(input('What is the weather? '))\n",
    "\n",
    "if temp > 20 and weather == 'rain':\n",
    "    print('bring umbrella')\n",
    "elif temp <= 20 and weather == 'rain':\n",
    "    print('bring umbrella and jacket')\n",
    "elif temp > 20 and weather == 'sun':\n",
    "    print('wear shirt')\n",
    "elif temp <= 20 and weather == 'sun':\n",
    "    print('bring jacket')"
   ]
  },
  {
   "cell_type": "markdown",
   "metadata": {},
   "source": [
    "### 2. Iterate from 1 to 15, printing whether the number is odd or even.\n",
    "\n",
    "Hint: The modulus operator, `%`, can be used to take the remainder. For example:\n",
    "\n",
    "```python\n",
    "9 % 5 == 4\n",
    "```\n",
    "\n",
    "Or in other words, the remainder of dividing 9 by 5 is 4. "
   ]
  },
  {
   "cell_type": "code",
   "execution_count": 19,
   "metadata": {},
   "outputs": [
    {
     "name": "stdout",
     "output_type": "stream",
     "text": [
      "1 Odd\n",
      "2 Even\n",
      "3 Odd\n",
      "4 Even\n",
      "5 Odd\n",
      "6 Even\n",
      "7 Odd\n",
      "8 Even\n",
      "9 Odd\n",
      "10 Even\n",
      "11 Odd\n",
      "12 Even\n",
      "13 Odd\n",
      "14 Even\n",
      "15 Odd\n"
     ]
    }
   ],
   "source": [
    "for i in range(1,16):\n",
    "    if i % 2 == 0:\n",
    "        print(i, 'Even')\n",
    "    else:\n",
    "        print(i, 'Odd')"
   ]
  },
  {
   "cell_type": "markdown",
   "metadata": {},
   "source": [
    "### 3. Iterate through the animals. Print out the animal name and the number of vowels in the name."
   ]
  },
  {
   "cell_type": "code",
   "execution_count": 18,
   "metadata": {},
   "outputs": [],
   "source": [
    "animals = ['duck', 'rat', 'boar', 'elefant', 'mammoth', 'gazelle']"
   ]
  },
  {
   "cell_type": "code",
   "execution_count": 21,
   "metadata": {},
   "outputs": [
    {
     "name": "stdout",
     "output_type": "stream",
     "text": [
      "duck 1\n",
      "rat 1\n",
      "boar 2\n",
      "elefant 3\n",
      "mammoth 2\n",
      "gazelle 3\n"
     ]
    }
   ],
   "source": [
    "vowels = 'aeiou'\n",
    "for animal in animals:\n",
    "    vowel_count = 0\n",
    "    for character in animal:\n",
    "        if character in vowels:\n",
    "            vowel_count += 1\n",
    "    print(animal, vowel_count)"
   ]
  },
  {
   "cell_type": "markdown",
   "metadata": {},
   "source": [
    "### 4. Iterate from 1 to 30 with the following instructions:\n",
    "\n",
    "1. If a number is divisible by 3, print 'fizz'. \n",
    "2. If a number is divisible by 5, print 'buzz'. \n",
    "3. If a number is both divisible by 3 and 5 print 'fizzbuzz'.\n",
    "4. Otherwise, print just the number."
   ]
  },
  {
   "cell_type": "code",
   "execution_count": 23,
   "metadata": {},
   "outputs": [
    {
     "name": "stdout",
     "output_type": "stream",
     "text": [
      "1\n",
      "2\n",
      "fizz\n",
      "4\n",
      "buzz\n",
      "fizz\n",
      "7\n",
      "8\n",
      "fizz\n",
      "buzz\n",
      "11\n",
      "fizz\n",
      "13\n",
      "14\n",
      "fizzbuzz\n",
      "16\n",
      "17\n",
      "fizz\n",
      "19\n",
      "buzz\n",
      "fizz\n",
      "22\n",
      "23\n",
      "fizz\n",
      "buzz\n",
      "26\n",
      "fizz\n",
      "28\n",
      "29\n",
      "fizzbuzz\n"
     ]
    }
   ],
   "source": [
    "for i in range(1,31):\n",
    "    if (i % 3 == 0) and (i % 5 == 0):\n",
    "        print('fizzbuzz')\n",
    "    elif i % 3 == 0:\n",
    "        print('fizz')\n",
    "    elif i % 5 == 0:\n",
    "        print('buzz')\n",
    "    else:\n",
    "        print(i)"
   ]
  },
  {
   "cell_type": "markdown",
   "metadata": {},
   "source": [
    "## Functions\n",
    "\n",
    "---"
   ]
  },
  {
   "cell_type": "markdown",
   "metadata": {},
   "source": [
    "### 1. Write a function that takes the length of a side of a square as an argument and returns the area of the square.\n",
    "\n",
    "Example: area_square(5) $\\rightarrow$ 25"
   ]
  },
  {
   "cell_type": "code",
   "execution_count": 44,
   "metadata": {},
   "outputs": [
    {
     "name": "stdout",
     "output_type": "stream",
     "text": [
      "16\n"
     ]
    }
   ],
   "source": [
    "def area_square(side_length):\n",
    "    \"\"\"takes the length of a side of a square as an argument and returns the area of the square\"\"\"\n",
    "    area = side_length ** 2\n",
    "    print(area)\n",
    "    \n",
    "area_square(4)"
   ]
  },
  {
   "cell_type": "markdown",
   "metadata": {},
   "source": [
    "### 2. Write a function that takes a string as an argument and returns a tuple with the string converted to a list and the count of characters\n",
    "\n",
    "Example: string_list('Rock Rocks') $\\rightarrow$ (['R','o','c','k',' ','R','o','c','k','s'],10)\n"
   ]
  },
  {
   "cell_type": "code",
   "execution_count": 46,
   "metadata": {},
   "outputs": [
    {
     "name": "stdout",
     "output_type": "stream",
     "text": [
      "(['R', 'o', 'c', 'k', ' ', 'R', 'o', 'c', 'k', 's'], 10)\n"
     ]
    },
    {
     "data": {
      "text/plain": [
       "(['R', 'o', 'c', 'k', ' ', 'R', 'o', 'c', 'k', 's'], 10)"
      ]
     },
     "execution_count": 46,
     "metadata": {},
     "output_type": "execute_result"
    }
   ],
   "source": [
    "def string_list(string):\n",
    "    \"\"\"takes a string as an argument and returns a tuple with the string\n",
    "    converted to a list and the count of characters\"\"\"\n",
    "    string_list = []\n",
    "    tuple_list = ()\n",
    "    count = 0\n",
    "    for i in string:\n",
    "        string_list.append(i)\n",
    "        count += 1\n",
    "    tuple_list = (string_list, count)\n",
    "    print(tuple_list)\n",
    "    \n",
    "string_list('Rock Rocks')\n",
    "\n",
    "\n",
    "def string_list_fun(user_string):\n",
    "    string_list = list(user_string)\n",
    "    string_count = len(string_list)\n",
    "    return (string_list, string_count)\n",
    "\n",
    "string_list_fun('Rock Rocks')"
   ]
  },
  {
   "cell_type": "markdown",
   "metadata": {},
   "source": [
    "### 3. Write a one-parameter function that calculates the factorial of an integer given as the argument.\n",
    "\n",
    "Example: factorial(4) $\\rightarrow$ 24"
   ]
  },
  {
   "cell_type": "code",
   "execution_count": 36,
   "metadata": {},
   "outputs": [
    {
     "name": "stdout",
     "output_type": "stream",
     "text": [
      "24\n"
     ]
    }
   ],
   "source": [
    "def factorial(n):\n",
    "    \"\"\"gives factorial of integer n\"\"\"\n",
    "    factorial = 1\n",
    "    for i in range(1,n+1):\n",
    "        factorial *= i\n",
    "    print(factorial)\n",
    "\n",
    "factorial(4)"
   ]
  },
  {
   "cell_type": "markdown",
   "metadata": {},
   "source": [
    "### 4. Write a function that takes a list and returns a list with its unique elements\n",
    "\n",
    "Example: sample list : [1,2,3,3,3,3,4,5] $\\rightarrow$ unique list : [1, 2, 3, 4, 5]"
   ]
  },
  {
   "cell_type": "code",
   "execution_count": 47,
   "metadata": {},
   "outputs": [
    {
     "name": "stdout",
     "output_type": "stream",
     "text": [
      "[1, 2, 3, 4, 5]\n"
     ]
    }
   ],
   "source": [
    "def unique_list(sample_list):\n",
    "    \"\"\"takes a list and returns a list with its unique elements\"\"\"\n",
    "    unique_list = []\n",
    "    for i in sample_list:\n",
    "        if i in unique_list:\n",
    "            pass\n",
    "        else:\n",
    "            unique_list.append(i)\n",
    "    print(unique_list)\n",
    "\n",
    "unique_list([1,2,3,3,3,3,4,5])\n",
    "\n",
    "# or could've turned list into set and returned that"
   ]
  },
  {
   "cell_type": "markdown",
   "metadata": {},
   "source": [
    "### 5. Write a function that takes two strings containing integers and returns the sum, difference and product of those two as a tuple.\n",
    "\n",
    "Example: my_function('3', '2') $\\rightarrow$ (5, 1, 6)"
   ]
  },
  {
   "cell_type": "code",
   "execution_count": 39,
   "metadata": {},
   "outputs": [
    {
     "name": "stdout",
     "output_type": "stream",
     "text": [
      "(9, 3, 18)\n"
     ]
    }
   ],
   "source": [
    "def my_function(str1, str2):\n",
    "    \"\"\"takes two strings containing integers and returns the sum, difference and product of those two as a tuple\"\"\"\n",
    "    num1 = int(str1)\n",
    "    num2 = int(str2)\n",
    "    tup1 = (num1 + num2, abs(num1 - num2), num1 * num2)\n",
    "    print(tup1)\n",
    "\n",
    "my_function('3','6')"
   ]
  },
  {
   "cell_type": "markdown",
   "metadata": {},
   "source": [
    "### 6. Write a function that takes a list and returns a tuple where the first item is the list in reverse order and the second item is just the items with an odd index\n",
    "\n",
    "Example: getting_crazy([1,2,3,4,5]) $\\rightarrow$ ([5,4,3,2,1],[2,4])"
   ]
  },
  {
   "cell_type": "code",
   "execution_count": 50,
   "metadata": {},
   "outputs": [
    {
     "data": {
      "text/plain": [
       "([5, 4, 3, 2, 1], [2, 4])"
      ]
     },
     "execution_count": 50,
     "metadata": {},
     "output_type": "execute_result"
    }
   ],
   "source": [
    "def getting_crazy(lst1):\n",
    "    \"\"\"takes a list and returns a tuple where the first item is the list in reverse order \n",
    "    and the second item is just the items with an odd index\"\"\"\n",
    "    lst2 = []\n",
    "    for i in lst1:\n",
    "        if lst1.index(i) % 2 == 1:\n",
    "            lst2.append(i)\n",
    "        else:\n",
    "            pass\n",
    "    lst1.reverse() # Note: you need to separately reverse, then you can add the new lst1 below\n",
    "    tup1 = (lst1, lst2) #Note: you can't amend tuple once created, you need to create once with all elements\n",
    "                        #required at the end\n",
    "    return tup1\n",
    "\n",
    "getting_crazy([1,2,3,4,5])"
   ]
  },
  {
   "cell_type": "markdown",
   "metadata": {},
   "source": [
    "\n",
    "### 7. Write a function that takes word as an argument and returns the number of vowels in the word.\n",
    "\n",
    "Example: vowel_counter('hello') $\\rightarrow$ 2\n",
    "\n",
    "Try it out on 3 words."
   ]
  },
  {
   "cell_type": "code",
   "execution_count": 53,
   "metadata": {},
   "outputs": [
    {
     "data": {
      "text/plain": [
       "2"
      ]
     },
     "execution_count": 53,
     "metadata": {},
     "output_type": "execute_result"
    }
   ],
   "source": [
    "def vowel_counter(word):\n",
    "    \"\"\"takes word as an argument and returns the number of vowels in the word\"\"\"\n",
    "    count = 0\n",
    "    vowels = 'aeiou'\n",
    "    for i in word:\n",
    "        if i in vowels:\n",
    "            count += 1\n",
    "    return count\n",
    "\n",
    "vowel_counter('hello')"
   ]
  },
  {
   "cell_type": "markdown",
   "metadata": {},
   "source": [
    "### 8. Challenge Problem: Write a function that returns the score for a word. Each letter's score is equal to it's position in the alphabet. The score of the word is the score of the letters. So for example:\n",
    "\n",
    "* A = 1, B = 2, C = 3, D = 4, E = 5\n",
    "* abe = 8 = (1 + 2 + 5)\n",
    "\n",
    "Example: score_word('abe') $\\rightarrow$ 8\n",
    "\n",
    "##### Hint: The string library has a property ascii_lowercase that will give you the alphabet straight away. Be careful with casing!\n",
    "\n",
    "\n"
   ]
  },
  {
   "cell_type": "code",
   "execution_count": 57,
   "metadata": {},
   "outputs": [],
   "source": [
    "import string"
   ]
  },
  {
   "cell_type": "code",
   "execution_count": 58,
   "metadata": {},
   "outputs": [
    {
     "data": {
      "text/plain": [
       "'abcdefghijklmnopqrstuvwxyz'"
      ]
     },
     "execution_count": 58,
     "metadata": {},
     "output_type": "execute_result"
    }
   ],
   "source": [
    "string.ascii_lowercase"
   ]
  },
  {
   "cell_type": "code",
   "execution_count": 64,
   "metadata": {},
   "outputs": [
    {
     "name": "stdout",
     "output_type": "stream",
     "text": [
      "8\n"
     ]
    }
   ],
   "source": [
    "def score_word(word):\n",
    "    \"\"\"returns the score for a word. Each letter's score is equal to it's position in the alphabet.\n",
    "    The score of the word is the score of the letters.\"\"\"\n",
    "    score = 0\n",
    "    for i in word:\n",
    "        score += string.ascii_lowercase.index(i) + 1\n",
    "    print(score)\n",
    "\n",
    "score_word('abe')"
   ]
  },
  {
   "cell_type": "markdown",
   "metadata": {},
   "source": [
    "\n",
    "### 9. Write a function which takes a string as the argument and returns it reversed.\n",
    "\n",
    "Example: string_reverse('1234abcd') $\\rightarrow$ 'dcba4321'"
   ]
  },
  {
   "cell_type": "code",
   "execution_count": 81,
   "metadata": {},
   "outputs": [
    {
     "data": {
      "text/plain": [
       "'dcba4321'"
      ]
     },
     "execution_count": 81,
     "metadata": {},
     "output_type": "execute_result"
    }
   ],
   "source": [
    "def string_reverse(str1):\n",
    "    \"\"\"takes a string as the argument and returns it reversed\"\"\"\n",
    "    return_list = list(str1)\n",
    "    return_list.reverse()\n",
    "    return ''.join(return_list)\n",
    "\n",
    "string_reverse('1234abcd')\n",
    "\n",
    "#alternatively... just take the elements in the string, and return them in reverse order:\n",
    "def string_reverse_fun(str1):\n",
    "    return str1[::-1]\n",
    "\n",
    "string_reverse_fun('1234abcd')"
   ]
  },
  {
   "cell_type": "markdown",
   "metadata": {},
   "source": [
    "### 10.  Write a function that checks whether a passed string is a palindrome or not\n",
    "\n",
    "A palindrome is a word, a phrase, or a sequence that reads the same backward as forward (excluding spaces), e.g., madam or nurses run. You are allowed to use your string reverse function.\n",
    "\n",
    "Example: is_palindrome('nursesrun') $\\rightarrow$ True"
   ]
  },
  {
   "cell_type": "code",
   "execution_count": 95,
   "metadata": {},
   "outputs": [
    {
     "data": {
      "text/plain": [
       "True"
      ]
     },
     "execution_count": 95,
     "metadata": {},
     "output_type": "execute_result"
    }
   ],
   "source": [
    "def is_palindrome(str1):\n",
    "    \"\"\"checks whether a passed string is a palindrome or not: reads same backward as forward excluding spaces\"\"\"\n",
    "    str1 = str1.replace(\" \",\"\")\n",
    "    return str1 == string_reverse_fun(str1)\n",
    "\n",
    "is_palindrome('nurses run')"
   ]
  }
 ],
 "metadata": {
  "anaconda-cloud": {},
  "kernelspec": {
   "display_name": "Python 3",
   "language": "python",
   "name": "python3"
  },
  "language_info": {
   "codemirror_mode": {
    "name": "ipython",
    "version": 3
   },
   "file_extension": ".py",
   "mimetype": "text/x-python",
   "name": "python",
   "nbconvert_exporter": "python",
   "pygments_lexer": "ipython3",
   "version": "3.7.3"
  },
  "toc": {
   "base_numbering": 1,
   "nav_menu": {},
   "number_sections": false,
   "sideBar": true,
   "skip_h1_title": true,
   "title_cell": "Table of Contents",
   "title_sidebar": "Contents",
   "toc_cell": false,
   "toc_position": {},
   "toc_section_display": "block",
   "toc_window_display": false
  }
 },
 "nbformat": 4,
 "nbformat_minor": 1
}
